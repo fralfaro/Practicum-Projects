{
 "cells": [
  {
   "cell_type": "markdown",
   "metadata": {
    "toc": true
   },
   "source": [
    "<h1>Indice<span class=\"tocSkip\"></span></h1>\n",
    "<div class=\"toc\"><ul class=\"toc-item\"><li><span><a href=\"#Introducción\" data-toc-modified-id=\"Introducción-1\"><span class=\"toc-item-num\">1&nbsp;&nbsp;</span>Introducción</a></span></li><li><span><a href=\"#Objetivos\" data-toc-modified-id=\"Objetivos-2\"><span class=\"toc-item-num\">2&nbsp;&nbsp;</span>Objetivos</a></span><ul class=\"toc-item\"><li><span><a href=\"#Comprobar-la-hipótesis\" data-toc-modified-id=\"Comprobar-la-hipótesis-2.1\"><span class=\"toc-item-num\">2.1&nbsp;&nbsp;</span>Comprobar la hipótesis</a></span></li></ul></li><li><span><a href=\"#Datos-y-librerías\" data-toc-modified-id=\"Datos-y-librerías-3\"><span class=\"toc-item-num\">3&nbsp;&nbsp;</span>Datos y librerías</a></span><ul class=\"toc-item\"><li><span><a href=\"#Librerías\" data-toc-modified-id=\"Librerías-3.1\"><span class=\"toc-item-num\">3.1&nbsp;&nbsp;</span>Librerías</a></span></li><li><span><a href=\"#Datos\" data-toc-modified-id=\"Datos-3.2\"><span class=\"toc-item-num\">3.2&nbsp;&nbsp;</span>Datos</a></span></li><li><span><a href=\"#Conociendo-los-datos\" data-toc-modified-id=\"Conociendo-los-datos-3.3\"><span class=\"toc-item-num\">3.3&nbsp;&nbsp;</span>Conociendo los datos</a></span></li></ul></li><li><span><a href=\"#Paso-4.-Análisis-exploratorio-de-datos-(Python)\" data-toc-modified-id=\"Paso-4.-Análisis-exploratorio-de-datos-(Python)-4\"><span class=\"toc-item-num\">4&nbsp;&nbsp;</span>Paso 4. Análisis exploratorio de datos (Python)</a></span><ul class=\"toc-item\"><li><span><a href=\"#Formato-de-la-información\" data-toc-modified-id=\"Formato-de-la-información-4.1\"><span class=\"toc-item-num\">4.1&nbsp;&nbsp;</span>Formato de la información</a></span></li><li><span><a href=\"#Destinos-principales-de-los-recorridos\" data-toc-modified-id=\"Destinos-principales-de-los-recorridos-4.2\"><span class=\"toc-item-num\">4.2&nbsp;&nbsp;</span>Destinos principales de los recorridos</a></span></li><li><span><a href=\"#Número-de-viajes-por-empresa\" data-toc-modified-id=\"Número-de-viajes-por-empresa-4.3\"><span class=\"toc-item-num\">4.3&nbsp;&nbsp;</span>Número de viajes por empresa</a></span></li></ul></li><li><span><a href=\"#Paso-5.-Prueba-de-hipótesis-(Python)\" data-toc-modified-id=\"Paso-5.-Prueba-de-hipótesis-(Python)-5\"><span class=\"toc-item-num\">5&nbsp;&nbsp;</span>Paso 5. Prueba de hipótesis (Python)</a></span><ul class=\"toc-item\"><li><span><a href=\"#Hipótesis\" data-toc-modified-id=\"Hipótesis-5.1\"><span class=\"toc-item-num\">5.1&nbsp;&nbsp;</span>Hipótesis</a></span></li><li><span><a href=\"#Resultado-de-las-hipótesis\" data-toc-modified-id=\"Resultado-de-las-hipótesis-5.2\"><span class=\"toc-item-num\">5.2&nbsp;&nbsp;</span>Resultado de las hipótesis</a></span></li></ul></li></ul></div>"
   ]
  },
  {
   "cell_type": "markdown",
   "metadata": {},
   "source": [
    "# Introducción"
   ]
  },
  {
   "cell_type": "markdown",
   "metadata": {},
   "source": [
    "Luego de extraer la información necesaria utilizando SQL, en este proyecto usaremos las herramientas de Python para analizar esta información. Ya que una gran parte de este trabajo fue hecho anteriormente en SQL, se espera que este tenga un tamaño reducido comparado con los proyectos de sprints anteriores.\n",
    "\n",
    "Comprobaremos una hipótesis y análizaremos los datos para crear gráficos y poder entender de mejor manera la información."
   ]
  },
  {
   "cell_type": "markdown",
   "metadata": {},
   "source": [
    "# Objetivos"
   ]
  },
  {
   "cell_type": "markdown",
   "metadata": {},
   "source": [
    "- Importar los archivos\n",
    "- Estudiar los datos que contienen\n",
    "- Asegurarte de que los tipos de datos sean correctos\n",
    "- Identificar los 10 principales barrios en términos de finalización del recorrido\n",
    "- Hacer gráficos: empresas de taxis y número de viajes, los 10 barrios principales por número de finalizaciones\n",
    "- Sacar conclusiones basadas en cada gráfico y explicar los resultados"
   ]
  },
  {
   "cell_type": "markdown",
   "metadata": {},
   "source": [
    "## Comprobar la hipótesis\n",
    "\n",
    "La duración promedio de los viajes desde el Loop hasta el Aeropuerto Internacional O'Hare cambia los sábados lluviosos."
   ]
  },
  {
   "cell_type": "markdown",
   "metadata": {},
   "source": [
    "# Datos y librerías"
   ]
  },
  {
   "cell_type": "markdown",
   "metadata": {},
   "source": [
    "## Librerías"
   ]
  },
  {
   "cell_type": "code",
   "execution_count": 1,
   "metadata": {},
   "outputs": [],
   "source": [
    "# Cargamos las librerias que nos servirán para nuestro análisis\n",
    "import pandas as pd\n",
    "import matplotlib.pyplot as plt\n",
    "from scipy import stats as st"
   ]
  },
  {
   "cell_type": "markdown",
   "metadata": {},
   "source": [
    "## Datos"
   ]
  },
  {
   "cell_type": "code",
   "execution_count": 2,
   "metadata": {},
   "outputs": [],
   "source": [
    "# Cargamos los datos de cada tabla por separado\n",
    "\n",
    "try:\n",
    "    df_1 = pd.read_csv('C:/Users/tomas/Downloads/project_sql_result_01.csv')\n",
    "except:\n",
    "    df_1 = pd.read_csv('/datasets/project_sql_result_01.csv')\n",
    "    \n",
    "try:\n",
    "    df_4 = pd.read_csv('C:/Users/tomas/Downloads/project_sql_result_04.csv')\n",
    "except:\n",
    "    df_4 = pd.read_csv('/datasets/project_sql_result_04.csv')\n",
    "    \n",
    "try:\n",
    "    df_7 = pd.read_csv('C:/Users/tomas/Downloads/project_sql_result_07.csv')\n",
    "except:\n",
    "    df_7 = pd.read_csv('/datasets/project_sql_result_07.csv')\n",
    "    "
   ]
  },
  {
   "cell_type": "markdown",
   "metadata": {},
   "source": [
    "## Conociendo los datos"
   ]
  },
  {
   "cell_type": "markdown",
   "metadata": {},
   "source": [
    "Contamos con 3 DataFrames diferentes, para cada uno veremos su tamaño, columnas, tipos de datos en ellas y las primeras filas."
   ]
  },
  {
   "cell_type": "code",
   "execution_count": 3,
   "metadata": {
    "scrolled": false
   },
   "outputs": [
    {
     "name": "stdout",
     "output_type": "stream",
     "text": [
      "<class 'pandas.core.frame.DataFrame'>\n",
      "RangeIndex: 64 entries, 0 to 63\n",
      "Data columns (total 2 columns):\n",
      " #   Column        Non-Null Count  Dtype \n",
      "---  ------        --------------  ----- \n",
      " 0   company_name  64 non-null     object\n",
      " 1   trips_amount  64 non-null     int64 \n",
      "dtypes: int64(1), object(1)\n",
      "memory usage: 1.1+ KB\n"
     ]
    }
   ],
   "source": [
    "df_1.info()"
   ]
  },
  {
   "cell_type": "code",
   "execution_count": 4,
   "metadata": {},
   "outputs": [
    {
     "data": {
      "text/html": [
       "<div>\n",
       "<style scoped>\n",
       "    .dataframe tbody tr th:only-of-type {\n",
       "        vertical-align: middle;\n",
       "    }\n",
       "\n",
       "    .dataframe tbody tr th {\n",
       "        vertical-align: top;\n",
       "    }\n",
       "\n",
       "    .dataframe thead th {\n",
       "        text-align: right;\n",
       "    }\n",
       "</style>\n",
       "<table border=\"1\" class=\"dataframe\">\n",
       "  <thead>\n",
       "    <tr style=\"text-align: right;\">\n",
       "      <th></th>\n",
       "      <th>company_name</th>\n",
       "      <th>trips_amount</th>\n",
       "    </tr>\n",
       "  </thead>\n",
       "  <tbody>\n",
       "    <tr>\n",
       "      <th>0</th>\n",
       "      <td>Flash Cab</td>\n",
       "      <td>19558</td>\n",
       "    </tr>\n",
       "    <tr>\n",
       "      <th>1</th>\n",
       "      <td>Taxi Affiliation Services</td>\n",
       "      <td>11422</td>\n",
       "    </tr>\n",
       "    <tr>\n",
       "      <th>2</th>\n",
       "      <td>Medallion Leasin</td>\n",
       "      <td>10367</td>\n",
       "    </tr>\n",
       "    <tr>\n",
       "      <th>3</th>\n",
       "      <td>Yellow Cab</td>\n",
       "      <td>9888</td>\n",
       "    </tr>\n",
       "    <tr>\n",
       "      <th>4</th>\n",
       "      <td>Taxi Affiliation Service Yellow</td>\n",
       "      <td>9299</td>\n",
       "    </tr>\n",
       "  </tbody>\n",
       "</table>\n",
       "</div>"
      ],
      "text/plain": [
       "                      company_name  trips_amount\n",
       "0                        Flash Cab         19558\n",
       "1        Taxi Affiliation Services         11422\n",
       "2                 Medallion Leasin         10367\n",
       "3                       Yellow Cab          9888\n",
       "4  Taxi Affiliation Service Yellow          9299"
      ]
     },
     "execution_count": 4,
     "metadata": {},
     "output_type": "execute_result"
    }
   ],
   "source": [
    "df_1.head()"
   ]
  },
  {
   "cell_type": "code",
   "execution_count": 5,
   "metadata": {
    "scrolled": true
   },
   "outputs": [
    {
     "name": "stdout",
     "output_type": "stream",
     "text": [
      "<class 'pandas.core.frame.DataFrame'>\n",
      "RangeIndex: 94 entries, 0 to 93\n",
      "Data columns (total 2 columns):\n",
      " #   Column                 Non-Null Count  Dtype  \n",
      "---  ------                 --------------  -----  \n",
      " 0   dropoff_location_name  94 non-null     object \n",
      " 1   average_trips          94 non-null     float64\n",
      "dtypes: float64(1), object(1)\n",
      "memory usage: 1.6+ KB\n"
     ]
    }
   ],
   "source": [
    "df_4.info()"
   ]
  },
  {
   "cell_type": "code",
   "execution_count": 6,
   "metadata": {},
   "outputs": [
    {
     "data": {
      "text/html": [
       "<div>\n",
       "<style scoped>\n",
       "    .dataframe tbody tr th:only-of-type {\n",
       "        vertical-align: middle;\n",
       "    }\n",
       "\n",
       "    .dataframe tbody tr th {\n",
       "        vertical-align: top;\n",
       "    }\n",
       "\n",
       "    .dataframe thead th {\n",
       "        text-align: right;\n",
       "    }\n",
       "</style>\n",
       "<table border=\"1\" class=\"dataframe\">\n",
       "  <thead>\n",
       "    <tr style=\"text-align: right;\">\n",
       "      <th></th>\n",
       "      <th>dropoff_location_name</th>\n",
       "      <th>average_trips</th>\n",
       "    </tr>\n",
       "  </thead>\n",
       "  <tbody>\n",
       "    <tr>\n",
       "      <th>0</th>\n",
       "      <td>Loop</td>\n",
       "      <td>10727.466667</td>\n",
       "    </tr>\n",
       "    <tr>\n",
       "      <th>1</th>\n",
       "      <td>River North</td>\n",
       "      <td>9523.666667</td>\n",
       "    </tr>\n",
       "    <tr>\n",
       "      <th>2</th>\n",
       "      <td>Streeterville</td>\n",
       "      <td>6664.666667</td>\n",
       "    </tr>\n",
       "    <tr>\n",
       "      <th>3</th>\n",
       "      <td>West Loop</td>\n",
       "      <td>5163.666667</td>\n",
       "    </tr>\n",
       "    <tr>\n",
       "      <th>4</th>\n",
       "      <td>O'Hare</td>\n",
       "      <td>2546.900000</td>\n",
       "    </tr>\n",
       "  </tbody>\n",
       "</table>\n",
       "</div>"
      ],
      "text/plain": [
       "  dropoff_location_name  average_trips\n",
       "0                  Loop   10727.466667\n",
       "1           River North    9523.666667\n",
       "2         Streeterville    6664.666667\n",
       "3             West Loop    5163.666667\n",
       "4                O'Hare    2546.900000"
      ]
     },
     "execution_count": 6,
     "metadata": {},
     "output_type": "execute_result"
    }
   ],
   "source": [
    "df_4.head()"
   ]
  },
  {
   "cell_type": "code",
   "execution_count": 7,
   "metadata": {
    "scrolled": true
   },
   "outputs": [
    {
     "name": "stdout",
     "output_type": "stream",
     "text": [
      "<class 'pandas.core.frame.DataFrame'>\n",
      "RangeIndex: 1068 entries, 0 to 1067\n",
      "Data columns (total 3 columns):\n",
      " #   Column              Non-Null Count  Dtype  \n",
      "---  ------              --------------  -----  \n",
      " 0   start_ts            1068 non-null   object \n",
      " 1   weather_conditions  1068 non-null   object \n",
      " 2   duration_seconds    1068 non-null   float64\n",
      "dtypes: float64(1), object(2)\n",
      "memory usage: 25.2+ KB\n"
     ]
    }
   ],
   "source": [
    "df_7.info()"
   ]
  },
  {
   "cell_type": "code",
   "execution_count": 8,
   "metadata": {},
   "outputs": [
    {
     "data": {
      "text/html": [
       "<div>\n",
       "<style scoped>\n",
       "    .dataframe tbody tr th:only-of-type {\n",
       "        vertical-align: middle;\n",
       "    }\n",
       "\n",
       "    .dataframe tbody tr th {\n",
       "        vertical-align: top;\n",
       "    }\n",
       "\n",
       "    .dataframe thead th {\n",
       "        text-align: right;\n",
       "    }\n",
       "</style>\n",
       "<table border=\"1\" class=\"dataframe\">\n",
       "  <thead>\n",
       "    <tr style=\"text-align: right;\">\n",
       "      <th></th>\n",
       "      <th>start_ts</th>\n",
       "      <th>weather_conditions</th>\n",
       "      <th>duration_seconds</th>\n",
       "    </tr>\n",
       "  </thead>\n",
       "  <tbody>\n",
       "    <tr>\n",
       "      <th>0</th>\n",
       "      <td>2017-11-25 16:00:00</td>\n",
       "      <td>Good</td>\n",
       "      <td>2410.0</td>\n",
       "    </tr>\n",
       "    <tr>\n",
       "      <th>1</th>\n",
       "      <td>2017-11-25 14:00:00</td>\n",
       "      <td>Good</td>\n",
       "      <td>1920.0</td>\n",
       "    </tr>\n",
       "    <tr>\n",
       "      <th>2</th>\n",
       "      <td>2017-11-25 12:00:00</td>\n",
       "      <td>Good</td>\n",
       "      <td>1543.0</td>\n",
       "    </tr>\n",
       "    <tr>\n",
       "      <th>3</th>\n",
       "      <td>2017-11-04 10:00:00</td>\n",
       "      <td>Good</td>\n",
       "      <td>2512.0</td>\n",
       "    </tr>\n",
       "    <tr>\n",
       "      <th>4</th>\n",
       "      <td>2017-11-11 07:00:00</td>\n",
       "      <td>Good</td>\n",
       "      <td>1440.0</td>\n",
       "    </tr>\n",
       "  </tbody>\n",
       "</table>\n",
       "</div>"
      ],
      "text/plain": [
       "              start_ts weather_conditions  duration_seconds\n",
       "0  2017-11-25 16:00:00               Good            2410.0\n",
       "1  2017-11-25 14:00:00               Good            1920.0\n",
       "2  2017-11-25 12:00:00               Good            1543.0\n",
       "3  2017-11-04 10:00:00               Good            2512.0\n",
       "4  2017-11-11 07:00:00               Good            1440.0"
      ]
     },
     "execution_count": 8,
     "metadata": {},
     "output_type": "execute_result"
    }
   ],
   "source": [
    "df_7.head()"
   ]
  },
  {
   "cell_type": "markdown",
   "metadata": {},
   "source": [
    "En este último dataset tenemos un pequeño problema. En la siguiente sección corregirremos el tipo de dato de la columna `start_ts`. Este es actualmente tipo `object` y debemos transformarlo en `datetime`."
   ]
  },
  {
   "cell_type": "markdown",
   "metadata": {},
   "source": [
    "# Paso 4. Análisis exploratorio de datos (Python)"
   ]
  },
  {
   "cell_type": "markdown",
   "metadata": {},
   "source": [
    "## Formato de la información"
   ]
  },
  {
   "cell_type": "markdown",
   "metadata": {},
   "source": [
    "Primero resolveremos rápidamente el problema del formato de la información. Tranformando los datos tipo `str` a `datetime`."
   ]
  },
  {
   "cell_type": "code",
   "execution_count": 9,
   "metadata": {},
   "outputs": [
    {
     "name": "stdout",
     "output_type": "stream",
     "text": [
      "<class 'pandas.core.frame.DataFrame'>\n",
      "RangeIndex: 1068 entries, 0 to 1067\n",
      "Data columns (total 3 columns):\n",
      " #   Column              Non-Null Count  Dtype         \n",
      "---  ------              --------------  -----         \n",
      " 0   start_ts            1068 non-null   datetime64[ns]\n",
      " 1   weather_conditions  1068 non-null   object        \n",
      " 2   duration_seconds    1068 non-null   float64       \n",
      "dtypes: datetime64[ns](1), float64(1), object(1)\n",
      "memory usage: 25.2+ KB\n"
     ]
    }
   ],
   "source": [
    "df_7['start_ts'] = pd.to_datetime(df_7['start_ts'], format='%Y-%m-%d %H:%M:%S')\n",
    "\n",
    "# Volvamos a ver la información de este DataFrame y verifiquemos que ha funcionado\n",
    "df_7.info()"
   ]
  },
  {
   "cell_type": "markdown",
   "metadata": {},
   "source": [
    "## Destinos principales de los recorridos"
   ]
  },
  {
   "cell_type": "markdown",
   "metadata": {},
   "source": [
    "Ahora veamos los 10 principales destinos. Los ordenaremos en orden descendiente y los graficaremos para poder entender con mayor facilidad esta información."
   ]
  },
  {
   "cell_type": "code",
   "execution_count": 10,
   "metadata": {},
   "outputs": [
    {
     "data": {
      "text/html": [
       "<div>\n",
       "<style scoped>\n",
       "    .dataframe tbody tr th:only-of-type {\n",
       "        vertical-align: middle;\n",
       "    }\n",
       "\n",
       "    .dataframe tbody tr th {\n",
       "        vertical-align: top;\n",
       "    }\n",
       "\n",
       "    .dataframe thead th {\n",
       "        text-align: right;\n",
       "    }\n",
       "</style>\n",
       "<table border=\"1\" class=\"dataframe\">\n",
       "  <thead>\n",
       "    <tr style=\"text-align: right;\">\n",
       "      <th></th>\n",
       "      <th>dropoff_location_name</th>\n",
       "      <th>average_trips</th>\n",
       "    </tr>\n",
       "  </thead>\n",
       "  <tbody>\n",
       "    <tr>\n",
       "      <th>0</th>\n",
       "      <td>Loop</td>\n",
       "      <td>10727.466667</td>\n",
       "    </tr>\n",
       "    <tr>\n",
       "      <th>1</th>\n",
       "      <td>River North</td>\n",
       "      <td>9523.666667</td>\n",
       "    </tr>\n",
       "    <tr>\n",
       "      <th>2</th>\n",
       "      <td>Streeterville</td>\n",
       "      <td>6664.666667</td>\n",
       "    </tr>\n",
       "    <tr>\n",
       "      <th>3</th>\n",
       "      <td>West Loop</td>\n",
       "      <td>5163.666667</td>\n",
       "    </tr>\n",
       "    <tr>\n",
       "      <th>4</th>\n",
       "      <td>O'Hare</td>\n",
       "      <td>2546.900000</td>\n",
       "    </tr>\n",
       "    <tr>\n",
       "      <th>5</th>\n",
       "      <td>Lake View</td>\n",
       "      <td>2420.966667</td>\n",
       "    </tr>\n",
       "    <tr>\n",
       "      <th>6</th>\n",
       "      <td>Grant Park</td>\n",
       "      <td>2068.533333</td>\n",
       "    </tr>\n",
       "    <tr>\n",
       "      <th>7</th>\n",
       "      <td>Museum Campus</td>\n",
       "      <td>1510.000000</td>\n",
       "    </tr>\n",
       "    <tr>\n",
       "      <th>8</th>\n",
       "      <td>Gold Coast</td>\n",
       "      <td>1364.233333</td>\n",
       "    </tr>\n",
       "    <tr>\n",
       "      <th>9</th>\n",
       "      <td>Sheffield &amp; DePaul</td>\n",
       "      <td>1259.766667</td>\n",
       "    </tr>\n",
       "  </tbody>\n",
       "</table>\n",
       "</div>"
      ],
      "text/plain": [
       "  dropoff_location_name  average_trips\n",
       "0                  Loop   10727.466667\n",
       "1           River North    9523.666667\n",
       "2         Streeterville    6664.666667\n",
       "3             West Loop    5163.666667\n",
       "4                O'Hare    2546.900000\n",
       "5             Lake View    2420.966667\n",
       "6            Grant Park    2068.533333\n",
       "7         Museum Campus    1510.000000\n",
       "8            Gold Coast    1364.233333\n",
       "9    Sheffield & DePaul    1259.766667"
      ]
     },
     "execution_count": 10,
     "metadata": {},
     "output_type": "execute_result"
    }
   ],
   "source": [
    "df_4.sort_values('average_trips', ascending=False).head(10)"
   ]
  },
  {
   "cell_type": "code",
   "execution_count": 11,
   "metadata": {
    "scrolled": false
   },
   "outputs": [
    {
     "data": {
      "image/png": "[encoded data removed]",
      "text/plain": [
       "<Figure size 1080x504 with 1 Axes>"
      ]
     },
     "metadata": {
      "needs_background": "light"
     },
     "output_type": "display_data"
    }
   ],
   "source": [
    "label = df_4.sort_values('average_trips', ascending=False)['dropoff_location_name'].loc[0:9]\n",
    "\n",
    "df_4.sort_values('average_trips', ascending=False).loc[0:9,:].plot(kind='bar', figsize=(15,7), grid=True)\n",
    "plt.xticks(range(0,10,1), label)\n",
    "plt.yticks(range(0,11001,1000))\n",
    "plt.show()"
   ]
  },
  {
   "cell_type": "markdown",
   "metadata": {},
   "source": [
    "Los primeros 4 destinos parecen concentrar la gran mayoría de los destinos generales. Entre estos *Loop* y *River North* son los favoritos. Del resto de destinos, más de 80 de estos cuentan con menos de 1000 viajes en promedio."
   ]
  },
  {
   "cell_type": "markdown",
   "metadata": {},
   "source": [
    "## Número de viajes por empresa"
   ]
  },
  {
   "cell_type": "code",
   "execution_count": 12,
   "metadata": {},
   "outputs": [
    {
     "data": {
      "text/html": [
       "<div>\n",
       "<style scoped>\n",
       "    .dataframe tbody tr th:only-of-type {\n",
       "        vertical-align: middle;\n",
       "    }\n",
       "\n",
       "    .dataframe tbody tr th {\n",
       "        vertical-align: top;\n",
       "    }\n",
       "\n",
       "    .dataframe thead th {\n",
       "        text-align: right;\n",
       "    }\n",
       "</style>\n",
       "<table border=\"1\" class=\"dataframe\">\n",
       "  <thead>\n",
       "    <tr style=\"text-align: right;\">\n",
       "      <th></th>\n",
       "      <th>company_name</th>\n",
       "      <th>trips_amount</th>\n",
       "    </tr>\n",
       "  </thead>\n",
       "  <tbody>\n",
       "    <tr>\n",
       "      <th>0</th>\n",
       "      <td>Flash Cab</td>\n",
       "      <td>19558</td>\n",
       "    </tr>\n",
       "    <tr>\n",
       "      <th>1</th>\n",
       "      <td>Taxi Affiliation Services</td>\n",
       "      <td>11422</td>\n",
       "    </tr>\n",
       "    <tr>\n",
       "      <th>2</th>\n",
       "      <td>Medallion Leasin</td>\n",
       "      <td>10367</td>\n",
       "    </tr>\n",
       "    <tr>\n",
       "      <th>3</th>\n",
       "      <td>Yellow Cab</td>\n",
       "      <td>9888</td>\n",
       "    </tr>\n",
       "    <tr>\n",
       "      <th>4</th>\n",
       "      <td>Taxi Affiliation Service Yellow</td>\n",
       "      <td>9299</td>\n",
       "    </tr>\n",
       "    <tr>\n",
       "      <th>5</th>\n",
       "      <td>Chicago Carriage Cab Corp</td>\n",
       "      <td>9181</td>\n",
       "    </tr>\n",
       "    <tr>\n",
       "      <th>6</th>\n",
       "      <td>City Service</td>\n",
       "      <td>8448</td>\n",
       "    </tr>\n",
       "    <tr>\n",
       "      <th>7</th>\n",
       "      <td>Sun Taxi</td>\n",
       "      <td>7701</td>\n",
       "    </tr>\n",
       "    <tr>\n",
       "      <th>8</th>\n",
       "      <td>Star North Management LLC</td>\n",
       "      <td>7455</td>\n",
       "    </tr>\n",
       "    <tr>\n",
       "      <th>9</th>\n",
       "      <td>Blue Ribbon Taxi Association Inc.</td>\n",
       "      <td>5953</td>\n",
       "    </tr>\n",
       "  </tbody>\n",
       "</table>\n",
       "</div>"
      ],
      "text/plain": [
       "                        company_name  trips_amount\n",
       "0                          Flash Cab         19558\n",
       "1          Taxi Affiliation Services         11422\n",
       "2                   Medallion Leasin         10367\n",
       "3                         Yellow Cab          9888\n",
       "4    Taxi Affiliation Service Yellow          9299\n",
       "5          Chicago Carriage Cab Corp          9181\n",
       "6                       City Service          8448\n",
       "7                           Sun Taxi          7701\n",
       "8          Star North Management LLC          7455\n",
       "9  Blue Ribbon Taxi Association Inc.          5953"
      ]
     },
     "execution_count": 12,
     "metadata": {},
     "output_type": "execute_result"
    }
   ],
   "source": [
    "df_1.head(10)"
   ]
  },
  {
   "cell_type": "code",
   "execution_count": 13,
   "metadata": {
    "scrolled": false
   },
   "outputs": [
    {
     "data": {
      "image/png": "[encoded data removed]",
      "text/plain": [
       "<Figure size 1080x504 with 1 Axes>"
      ]
     },
     "metadata": {
      "needs_background": "light"
     },
     "output_type": "display_data"
    }
   ],
   "source": [
    "label2 = df_1['company_name'].loc[0:9]\n",
    "\n",
    "df_1.loc[0:9].plot(kind='bar', grid=True, figsize=(15,7))\n",
    "plt.xticks(range(0,10,1), label2)\n",
    "plt.yticks(range(0,20001,2000))\n",
    "plt.show()"
   ]
  },
  {
   "cell_type": "markdown",
   "metadata": {},
   "source": [
    "Flash Cab, con casi 20 mil viajes, tiene un claro control del mercado, teniendo cerca del doble de viajes que la siguiente compañía, Taxi Affiliation Services. El resto de las empresas tienen cantidades de viajes bastante parejas, teniendo entre 11 mil y 6 mil viajes cada una."
   ]
  },
  {
   "cell_type": "markdown",
   "metadata": {},
   "source": [
    "# Paso 5. Prueba de hipótesis (Python)"
   ]
  },
  {
   "cell_type": "markdown",
   "metadata": {},
   "source": [
    "## Hipótesis"
   ]
  },
  {
   "cell_type": "markdown",
   "metadata": {},
   "source": [
    "En esta sección probaremos la siguiente hipótesis:\n",
    "- \"La duración promedio de los viajes desde el Loop hasta el Aeropuerto Internacional O'Hare cambia los sábados lluviosos\".\n",
    "\n",
    "Considerando que la duración de un viaje puede deberse a diversos factores y ahora solo estamos midiendo uno de ellos, consideraremos el 10% de error para esta prueba. Esto se debe a que las multiples posibles causas para la larga o corta duración de un viaje crearían \"ruido\" estadístico y podrían cambiar las conclusiones a las que lleguemos sin saberlo. Al dejar el error al 10%, podemos disminuir el impacto que este \"ruido\" puede tener.\n",
    "\n",
    "La hipótesis nula será el estado neutro, para este caso esto significa que la duración promedio de los viajes desde el Loop hasta el Aeropuerto Internacional O'Hare **NO** cambia los sábados lluviosos. Esto significaría que en días con clima bueno y malo, la media de la duración debería ser la misma o muy cercana.\n",
    "\n",
    "Para probar esta hipótesis consideraremos la media de la duración de todos los viajes. Luego dividiremos el DataFrame según el clima y compararemos las medias de cada muestra."
   ]
  },
  {
   "cell_type": "markdown",
   "metadata": {},
   "source": [
    "<div class=\"alert alert-block alert-success\">\n",
    "<b>Éxito</b> <a class=\"tocSkip\"></a>\n",
    "\n",
    "Wow! genial consideración de ponerte más estricto con la precisión! Y bien definida tu hipótesis nula!"
   ]
  },
  {
   "cell_type": "code",
   "execution_count": 14,
   "metadata": {},
   "outputs": [
    {
     "data": {
      "text/plain": [
       "2071.7312734082398"
      ]
     },
     "execution_count": 14,
     "metadata": {},
     "output_type": "execute_result"
    }
   ],
   "source": [
    "# Primero obtengamos la media general\n",
    "df_7['duration_seconds'].mean()"
   ]
  },
  {
   "cell_type": "code",
   "execution_count": 15,
   "metadata": {
    "scrolled": true
   },
   "outputs": [
    {
     "data": {
      "text/html": [
       "<div>\n",
       "<style scoped>\n",
       "    .dataframe tbody tr th:only-of-type {\n",
       "        vertical-align: middle;\n",
       "    }\n",
       "\n",
       "    .dataframe tbody tr th {\n",
       "        vertical-align: top;\n",
       "    }\n",
       "\n",
       "    .dataframe thead th {\n",
       "        text-align: right;\n",
       "    }\n",
       "</style>\n",
       "<table border=\"1\" class=\"dataframe\">\n",
       "  <thead>\n",
       "    <tr style=\"text-align: right;\">\n",
       "      <th></th>\n",
       "      <th>duration_seconds</th>\n",
       "    </tr>\n",
       "    <tr>\n",
       "      <th>weather_conditions</th>\n",
       "      <th></th>\n",
       "    </tr>\n",
       "  </thead>\n",
       "  <tbody>\n",
       "    <tr>\n",
       "      <th>Bad</th>\n",
       "      <td>2427.205556</td>\n",
       "    </tr>\n",
       "    <tr>\n",
       "      <th>Good</th>\n",
       "      <td>1999.675676</td>\n",
       "    </tr>\n",
       "  </tbody>\n",
       "</table>\n",
       "</div>"
      ],
      "text/plain": [
       "                    duration_seconds\n",
       "weather_conditions                  \n",
       "Bad                      2427.205556\n",
       "Good                     1999.675676"
      ]
     },
     "execution_count": 15,
     "metadata": {},
     "output_type": "execute_result"
    }
   ],
   "source": [
    "# Ahora veamos la media para cada clima\n",
    "pd.pivot_table(df_7, values='duration_seconds', index='weather_conditions', aggfunc='mean')"
   ]
  },
  {
   "cell_type": "code",
   "execution_count": 16,
   "metadata": {},
   "outputs": [],
   "source": [
    "# Dividimos el DataFrame según el clima\n",
    "good_weather = df_7[df_7['weather_conditions']=='Good']\n",
    "bad_weather = df_7[df_7['weather_conditions']=='Bad']"
   ]
  },
  {
   "cell_type": "code",
   "execution_count": 17,
   "metadata": {},
   "outputs": [
    {
     "name": "stdout",
     "output_type": "stream",
     "text": [
      "p-value: 4.224120813822628e-10\n",
      "Rechazamos la hipótesis nula.\n"
     ]
    }
   ],
   "source": [
    "# Fijamos alpha\n",
    "alpha = 0.1\n",
    "\n",
    "# Fijamos el valor según el cual compararemos\n",
    "value = df_7['duration_seconds'].mean()\n",
    "\n",
    "# Hacemos el ttest\n",
    "result = st.ttest_1samp(bad_weather['duration_seconds'], value)\n",
    "print('p-value:', result.pvalue)\n",
    "\n",
    "if result.pvalue < alpha:\n",
    "    print('Rechazamos la hipótesis nula.')\n",
    "else:\n",
    "    print('No rechazamos la hipótesis nula.')"
   ]
  },
  {
   "cell_type": "markdown",
   "metadata": {},
   "source": [
    "## Resultado de las hipótesis"
   ]
  },
  {
   "cell_type": "markdown",
   "metadata": {},
   "source": [
    "Podemos ver claramente que en los días con mal clima, los viajes toman un mayor tiempo. Esto podría llegar a estar influenciado por otros factores, pero por ahora se asegura con confianza que los viajes toman más tiempo en los días con mal clima."
   ]
  }
 ],
 "metadata": {
  "ExecuteTimeLog": [
   {
    "duration": 1193,
    "start_time": "2022-08-04T04:18:22.865Z"
   },
   {
    "duration": 314,
    "start_time": "2022-08-04T04:18:24.061Z"
   },
   {
    "duration": 15,
    "start_time": "2022-08-04T04:18:24.378Z"
   },
   {
    "duration": 11,
    "start_time": "2022-08-04T04:18:24.395Z"
   },
   {
    "duration": 9,
    "start_time": "2022-08-04T04:18:24.407Z"
   },
   {
    "duration": 8,
    "start_time": "2022-08-04T04:18:24.418Z"
   },
   {
    "duration": 10,
    "start_time": "2022-08-04T04:18:24.428Z"
   },
   {
    "duration": 17,
    "start_time": "2022-08-04T04:18:24.439Z"
   },
   {
    "duration": 35,
    "start_time": "2022-08-04T04:18:24.457Z"
   },
   {
    "duration": 21,
    "start_time": "2022-08-04T04:18:24.499Z"
   },
   {
    "duration": 234,
    "start_time": "2022-08-04T04:18:24.522Z"
   },
   {
    "duration": 7,
    "start_time": "2022-08-04T04:18:24.758Z"
   },
   {
    "duration": 249,
    "start_time": "2022-08-04T04:18:24.767Z"
   },
   {
    "duration": 5,
    "start_time": "2022-08-04T04:18:25.017Z"
   },
   {
    "duration": 17,
    "start_time": "2022-08-04T04:18:25.024Z"
   },
   {
    "duration": 5,
    "start_time": "2022-08-04T04:18:25.043Z"
   },
   {
    "duration": 9,
    "start_time": "2022-08-04T04:18:25.050Z"
   },
   {
    "duration": 1083,
    "start_time": "2022-08-04T04:21:48.965Z"
   },
   {
    "duration": 174,
    "start_time": "2022-08-04T04:21:50.050Z"
   },
   {
    "duration": 10,
    "start_time": "2022-08-04T04:21:50.226Z"
   },
   {
    "duration": 12,
    "start_time": "2022-08-04T04:21:50.238Z"
   },
   {
    "duration": 8,
    "start_time": "2022-08-04T04:21:50.251Z"
   },
   {
    "duration": 9,
    "start_time": "2022-08-04T04:21:50.261Z"
   },
   {
    "duration": 12,
    "start_time": "2022-08-04T04:21:50.271Z"
   },
   {
    "duration": 15,
    "start_time": "2022-08-04T04:21:50.284Z"
   },
   {
    "duration": 22,
    "start_time": "2022-08-04T04:21:50.300Z"
   },
   {
    "duration": 15,
    "start_time": "2022-08-04T04:21:50.324Z"
   },
   {
    "duration": 202,
    "start_time": "2022-08-04T04:21:50.341Z"
   },
   {
    "duration": 7,
    "start_time": "2022-08-04T04:21:50.544Z"
   },
   {
    "duration": 226,
    "start_time": "2022-08-04T04:21:50.552Z"
   },
   {
    "duration": 4,
    "start_time": "2022-08-04T04:21:50.779Z"
   },
   {
    "duration": 25,
    "start_time": "2022-08-04T04:21:50.784Z"
   },
   {
    "duration": 5,
    "start_time": "2022-08-04T04:21:50.811Z"
   },
   {
    "duration": 7,
    "start_time": "2022-08-04T04:21:50.818Z"
   }
  ],
  "kernelspec": {
   "display_name": "Python 3 (ipykernel)",
   "language": "python",
   "name": "python3"
  },
  "language_info": {
   "codemirror_mode": {
    "name": "ipython",
    "version": 3
   },
   "file_extension": ".py",
   "mimetype": "text/x-python",
   "name": "python",
   "nbconvert_exporter": "python",
   "pygments_lexer": "ipython3",
   "version": "3.9.7"
  },
  "latex_envs": {
   "LaTeX_envs_menu_present": true,
   "autoclose": false,
   "autocomplete": true,
   "bibliofile": "biblio.bib",
   "cite_by": "apalike",
   "current_citInitial": 1,
   "eqLabelWithNumbers": true,
   "eqNumInitial": 1,
   "hotkeys": {
    "equation": "Ctrl-E",
    "itemize": "Ctrl-I"
   },
   "labels_anchors": false,
   "latex_user_defs": false,
   "report_style_numbering": false,
   "user_envs_cfg": false
  },
  "toc": {
   "base_numbering": 1,
   "nav_menu": {},
   "number_sections": true,
   "sideBar": true,
   "skip_h1_title": false,
   "title_cell": "Indice",
   "title_sidebar": "Contenido",
   "toc_cell": true,
   "toc_position": {
    "height": "calc(100% - 180px)",
    "left": "10px",
    "top": "150px",
    "width": "272px"
   },
   "toc_section_display": false,
   "toc_window_display": false
  }
 },
 "nbformat": 4,
 "nbformat_minor": 2
}
