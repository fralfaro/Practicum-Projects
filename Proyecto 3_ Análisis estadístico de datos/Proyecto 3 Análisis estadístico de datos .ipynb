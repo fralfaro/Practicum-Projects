{
 "cells": [
  {
   "cell_type": "markdown",
   "metadata": {
    "toc": true
   },
   "source": [
    "<h1>Indice<span class=\"tocSkip\"></span></h1>\n",
    "<div class=\"toc\"><ul class=\"toc-item\"><li><span><a href=\"#Introducción\" data-toc-modified-id=\"Introducción-1\"><span class=\"toc-item-num\">1&nbsp;&nbsp;</span>Introducción</a></span><ul class=\"toc-item\"><li><span><a href=\"#Objetivo\" data-toc-modified-id=\"Objetivo-1.1\"><span class=\"toc-item-num\">1.1&nbsp;&nbsp;</span>Objetivo</a></span></li><li><span><a href=\"#Hipótesis\" data-toc-modified-id=\"Hipótesis-1.2\"><span class=\"toc-item-num\">1.2&nbsp;&nbsp;</span>Hipótesis</a></span></li></ul></li><li><span><a href=\"#Datos-y-librerías\" data-toc-modified-id=\"Datos-y-librerías-2\"><span class=\"toc-item-num\">2&nbsp;&nbsp;</span>Datos y librerías</a></span><ul class=\"toc-item\"><li><span><a href=\"#Librerías\" data-toc-modified-id=\"Librerías-2.1\"><span class=\"toc-item-num\">2.1&nbsp;&nbsp;</span>Librerías</a></span></li><li><span><a href=\"#Datos\" data-toc-modified-id=\"Datos-2.2\"><span class=\"toc-item-num\">2.2&nbsp;&nbsp;</span>Datos</a></span></li><li><span><a href=\"#Conociendo-los-datos\" data-toc-modified-id=\"Conociendo-los-datos-2.3\"><span class=\"toc-item-num\">2.3&nbsp;&nbsp;</span>Conociendo los datos</a></span><ul class=\"toc-item\"><li><span><a href=\"#Llamadas\" data-toc-modified-id=\"Llamadas-2.3.1\"><span class=\"toc-item-num\">2.3.1&nbsp;&nbsp;</span>Llamadas</a></span></li><li><span><a href=\"#Internet\" data-toc-modified-id=\"Internet-2.3.2\"><span class=\"toc-item-num\">2.3.2&nbsp;&nbsp;</span>Internet</a></span></li><li><span><a href=\"#Mensajes\" data-toc-modified-id=\"Mensajes-2.3.3\"><span class=\"toc-item-num\">2.3.3&nbsp;&nbsp;</span>Mensajes</a></span></li><li><span><a href=\"#Planes\" data-toc-modified-id=\"Planes-2.3.4\"><span class=\"toc-item-num\">2.3.4&nbsp;&nbsp;</span>Planes</a></span></li><li><span><a href=\"#Usuarios\" data-toc-modified-id=\"Usuarios-2.3.5\"><span class=\"toc-item-num\">2.3.5&nbsp;&nbsp;</span>Usuarios</a></span></li></ul></li><li><span><a href=\"#Siguientes-pasos\" data-toc-modified-id=\"Siguientes-pasos-2.4\"><span class=\"toc-item-num\">2.4&nbsp;&nbsp;</span>Siguientes pasos</a></span></li></ul></li><li><span><a href=\"#Limpieza-y-corrección-de-datos\" data-toc-modified-id=\"Limpieza-y-corrección-de-datos-3\"><span class=\"toc-item-num\">3&nbsp;&nbsp;</span>Limpieza y corrección de datos</a></span><ul class=\"toc-item\"><li><span><a href=\"#Formato-de-Fechas\" data-toc-modified-id=\"Formato-de-Fechas-3.1\"><span class=\"toc-item-num\">3.1&nbsp;&nbsp;</span>Formato de Fechas</a></span></li><li><span><a href=\"#Errores-en-los-datos\" data-toc-modified-id=\"Errores-en-los-datos-3.2\"><span class=\"toc-item-num\">3.2&nbsp;&nbsp;</span>Errores en los datos</a></span></li><li><span><a href=\"#Extrayendo-información\" data-toc-modified-id=\"Extrayendo-información-3.3\"><span class=\"toc-item-num\">3.3&nbsp;&nbsp;</span>Extrayendo información</a></span><ul class=\"toc-item\"><li><span><a href=\"#Minutos-usados-y-cantidad-de-llamadas-mensuales\" data-toc-modified-id=\"Minutos-usados-y-cantidad-de-llamadas-mensuales-3.3.1\"><span class=\"toc-item-num\">3.3.1&nbsp;&nbsp;</span>Minutos usados y cantidad de llamadas mensuales</a></span></li><li><span><a href=\"#Cantidad-de-mensajes-mensuales\" data-toc-modified-id=\"Cantidad-de-mensajes-mensuales-3.3.2\"><span class=\"toc-item-num\">3.3.2&nbsp;&nbsp;</span>Cantidad de mensajes mensuales</a></span></li><li><span><a href=\"#Volumen-de-datos-usados-mensualmente\" data-toc-modified-id=\"Volumen-de-datos-usados-mensualmente-3.3.3\"><span class=\"toc-item-num\">3.3.3&nbsp;&nbsp;</span>Volumen de datos usados mensualmente</a></span></li><li><span><a href=\"#Cuenta-a-pagar-por-cliente\" data-toc-modified-id=\"Cuenta-a-pagar-por-cliente-3.3.4\"><span class=\"toc-item-num\">3.3.4&nbsp;&nbsp;</span>Cuenta a pagar por cliente</a></span></li></ul></li></ul></li><li><span><a href=\"#Análisis-de-la-información\" data-toc-modified-id=\"Análisis-de-la-información-4\"><span class=\"toc-item-num\">4&nbsp;&nbsp;</span>Análisis de la información</a></span><ul class=\"toc-item\"><li><span><a href=\"#Ingresos-totales\" data-toc-modified-id=\"Ingresos-totales-4.1\"><span class=\"toc-item-num\">4.1&nbsp;&nbsp;</span>Ingresos totales</a></span></li><li><span><a href=\"#Media-y-medidas-de-posición\" data-toc-modified-id=\"Media-y-medidas-de-posición-4.2\"><span class=\"toc-item-num\">4.2&nbsp;&nbsp;</span>Media y medidas de posición</a></span></li><li><span><a href=\"#Histogramas\" data-toc-modified-id=\"Histogramas-4.3\"><span class=\"toc-item-num\">4.3&nbsp;&nbsp;</span>Histogramas</a></span></li></ul></li><li><span><a href=\"#Prueba-de-hipótesis\" data-toc-modified-id=\"Prueba-de-hipótesis-5\"><span class=\"toc-item-num\">5&nbsp;&nbsp;</span>Prueba de hipótesis</a></span><ul class=\"toc-item\"><li><span><a href=\"#Hipótesis-1\" data-toc-modified-id=\"Hipótesis-1-5.1\"><span class=\"toc-item-num\">5.1&nbsp;&nbsp;</span>Hipótesis 1</a></span></li><li><span><a href=\"#Hipótesis-2\" data-toc-modified-id=\"Hipótesis-2-5.2\"><span class=\"toc-item-num\">5.2&nbsp;&nbsp;</span>Hipótesis 2</a></span></li></ul></li><li><span><a href=\"#Conclusión-general\" data-toc-modified-id=\"Conclusión-general-6\"><span class=\"toc-item-num\">6&nbsp;&nbsp;</span>Conclusión general</a></span></li></ul></div>"
   ]
  },
  {
   "cell_type": "markdown",
   "metadata": {},
   "source": [
    "# Introducción"
   ]
  },
  {
   "cell_type": "markdown",
   "metadata": {},
   "source": [
    "Para este proyecto, contamos con los datos de 500 clientes de Megaline, empresa de telecomunicaciones. La revisión, reparación y análisis de esta muestra de datos debería darnos información sobre los ingresos generados por dos tarifas de prepago que Megaline ofrece a sus clientes. El departamento comercial usará esta información para ajustar el presupuesto de publicidad de la empresa.\n",
    "\n",
    "Para esto, analizaremos quiénes son los clientes, de dónde son, qué tarifa usan y la cantidad de llamadas que hicieron y los mensajes de texto que enviaron en 2018. Nuestro trabajo será analizar el comportamiento de los clientes y determinar qué tarifa de prepago genera más ingresos."
   ]
  },
  {
   "cell_type": "markdown",
   "metadata": {},
   "source": [
    "## Objetivo"
   ]
  },
  {
   "cell_type": "markdown",
   "metadata": {},
   "source": [
    "Determinar qué tarifa de prepago genera más ingresos."
   ]
  },
  {
   "cell_type": "markdown",
   "metadata": {},
   "source": [
    "## Hipótesis"
   ]
  },
  {
   "cell_type": "markdown",
   "metadata": {},
   "source": [
    "1. El ingreso promedio de los usuarios de las tarifas Ultimate y Surf difiere.\n",
    "2. El ingreso promedio de los usuarios en el área de estados Nueva York-Nueva Jersey es diferente al de los usuarios de otras regiones."
   ]
  },
  {
   "cell_type": "markdown",
   "metadata": {},
   "source": [
    "# Datos y librerías"
   ]
  },
  {
   "cell_type": "markdown",
   "metadata": {},
   "source": [
    "Antes de comenzar nuestro trabajo, necesitamos importar los dato y las herramientas que usaremos."
   ]
  },
  {
   "cell_type": "markdown",
   "metadata": {},
   "source": [
    "## Librerías"
   ]
  },
  {
   "cell_type": "code",
   "execution_count": 1,
   "metadata": {},
   "outputs": [],
   "source": [
    "# Cargamos las librerias que nos servirán para nuestro análisis\n",
    "import pandas as pd\n",
    "import numpy as np\n",
    "import matplotlib.pyplot as plt\n",
    "import math\n",
    "from scipy import stats as st"
   ]
  },
  {
   "cell_type": "markdown",
   "metadata": {},
   "source": [
    "## Datos"
   ]
  },
  {
   "cell_type": "code",
   "execution_count": 2,
   "metadata": {},
   "outputs": [],
   "source": [
    "# Cargamos los datos de cada tabla por separado\n",
    "\n",
    "try:\n",
    "    df_calls = pd.read_csv('/datasets/megaline_calls.csv')\n",
    "except:\n",
    "    df_calls = pd.read_csv('C:/Users/tomas/Downloads/megaline_calls.csv')\n",
    "\n",
    "try:    \n",
    "    df_internet = pd.read_csv('/datasets/megaline_internet.csv')\n",
    "except:    \n",
    "    df_internet = pd.read_csv('C:/Users/tomas/Downloads/megaline_internet.csv')\n",
    "\n",
    "try:\n",
    "    df_messages = pd.read_csv('/datasets/megaline_messages.csv')\n",
    "except:\n",
    "    df_messages = pd.read_csv('C:/Users/tomas/Downloads/megaline_messages.csv')\n",
    "\n",
    "try:\n",
    "    df_plans = pd.read_csv('/datasets/megaline_plans.csv')\n",
    "except:\n",
    "    df_plans = pd.read_csv('C:/Users/tomas/Downloads/megaline_plans.csv')\n",
    "\n",
    "try:\n",
    "    df_users = pd.read_csv('/datasets/megaline_users.csv')\n",
    "except:\n",
    "    df_users = pd.read_csv('C:/Users/tomas/Downloads/megaline_users.csv')\n",
    "    "
   ]
  },
  {
   "cell_type": "markdown",
   "metadata": {},
   "source": [
    "## Conociendo los datos"
   ]
  },
  {
   "cell_type": "markdown",
   "metadata": {},
   "source": [
    "Ahora que contamos con los datos y las herramientas, veamos las tablas de datos."
   ]
  },
  {
   "cell_type": "markdown",
   "metadata": {},
   "source": [
    "### Llamadas"
   ]
  },
  {
   "cell_type": "code",
   "execution_count": 3,
   "metadata": {
    "scrolled": true
   },
   "outputs": [
    {
     "name": "stdout",
     "output_type": "stream",
     "text": [
      "<class 'pandas.core.frame.DataFrame'>\n",
      "RangeIndex: 137735 entries, 0 to 137734\n",
      "Data columns (total 4 columns):\n",
      " #   Column     Non-Null Count   Dtype  \n",
      "---  ------     --------------   -----  \n",
      " 0   id         137735 non-null  object \n",
      " 1   user_id    137735 non-null  int64  \n",
      " 2   call_date  137735 non-null  object \n",
      " 3   duration   137735 non-null  float64\n",
      "dtypes: float64(1), int64(1), object(2)\n",
      "memory usage: 4.2+ MB\n"
     ]
    }
   ],
   "source": [
    "df_calls.info()"
   ]
  },
  {
   "cell_type": "code",
   "execution_count": 4,
   "metadata": {
    "scrolled": true
   },
   "outputs": [
    {
     "data": {
      "text/html": [
       "<div>\n",
       "<style scoped>\n",
       "    .dataframe tbody tr th:only-of-type {\n",
       "        vertical-align: middle;\n",
       "    }\n",
       "\n",
       "    .dataframe tbody tr th {\n",
       "        vertical-align: top;\n",
       "    }\n",
       "\n",
       "    .dataframe thead th {\n",
       "        text-align: right;\n",
       "    }\n",
       "</style>\n",
       "<table border=\"1\" class=\"dataframe\">\n",
       "  <thead>\n",
       "    <tr style=\"text-align: right;\">\n",
       "      <th></th>\n",
       "      <th>id</th>\n",
       "      <th>user_id</th>\n",
       "      <th>call_date</th>\n",
       "      <th>duration</th>\n",
       "    </tr>\n",
       "  </thead>\n",
       "  <tbody>\n",
       "    <tr>\n",
       "      <th>0</th>\n",
       "      <td>1000_93</td>\n",
       "      <td>1000</td>\n",
       "      <td>2018-12-27</td>\n",
       "      <td>8.52</td>\n",
       "    </tr>\n",
       "    <tr>\n",
       "      <th>1</th>\n",
       "      <td>1000_145</td>\n",
       "      <td>1000</td>\n",
       "      <td>2018-12-27</td>\n",
       "      <td>13.66</td>\n",
       "    </tr>\n",
       "    <tr>\n",
       "      <th>2</th>\n",
       "      <td>1000_247</td>\n",
       "      <td>1000</td>\n",
       "      <td>2018-12-27</td>\n",
       "      <td>14.48</td>\n",
       "    </tr>\n",
       "    <tr>\n",
       "      <th>3</th>\n",
       "      <td>1000_309</td>\n",
       "      <td>1000</td>\n",
       "      <td>2018-12-28</td>\n",
       "      <td>5.76</td>\n",
       "    </tr>\n",
       "    <tr>\n",
       "      <th>4</th>\n",
       "      <td>1000_380</td>\n",
       "      <td>1000</td>\n",
       "      <td>2018-12-30</td>\n",
       "      <td>4.22</td>\n",
       "    </tr>\n",
       "  </tbody>\n",
       "</table>\n",
       "</div>"
      ],
      "text/plain": [
       "         id  user_id   call_date  duration\n",
       "0   1000_93     1000  2018-12-27      8.52\n",
       "1  1000_145     1000  2018-12-27     13.66\n",
       "2  1000_247     1000  2018-12-27     14.48\n",
       "3  1000_309     1000  2018-12-28      5.76\n",
       "4  1000_380     1000  2018-12-30      4.22"
      ]
     },
     "execution_count": 4,
     "metadata": {},
     "output_type": "execute_result"
    }
   ],
   "source": [
    "df_calls.head()"
   ]
  },
  {
   "cell_type": "markdown",
   "metadata": {},
   "source": [
    "No tenemos valores vacíos apreciables, pero en la siguiente sección deberemos corregir el formato de las fechas en la columna `call_date`."
   ]
  },
  {
   "cell_type": "markdown",
   "metadata": {},
   "source": [
    "### Internet"
   ]
  },
  {
   "cell_type": "code",
   "execution_count": 5,
   "metadata": {},
   "outputs": [
    {
     "name": "stdout",
     "output_type": "stream",
     "text": [
      "<class 'pandas.core.frame.DataFrame'>\n",
      "RangeIndex: 104825 entries, 0 to 104824\n",
      "Data columns (total 4 columns):\n",
      " #   Column        Non-Null Count   Dtype  \n",
      "---  ------        --------------   -----  \n",
      " 0   id            104825 non-null  object \n",
      " 1   user_id       104825 non-null  int64  \n",
      " 2   session_date  104825 non-null  object \n",
      " 3   mb_used       104825 non-null  float64\n",
      "dtypes: float64(1), int64(1), object(2)\n",
      "memory usage: 3.2+ MB\n"
     ]
    }
   ],
   "source": [
    "df_internet.info()"
   ]
  },
  {
   "cell_type": "code",
   "execution_count": 6,
   "metadata": {},
   "outputs": [
    {
     "data": {
      "text/html": [
       "<div>\n",
       "<style scoped>\n",
       "    .dataframe tbody tr th:only-of-type {\n",
       "        vertical-align: middle;\n",
       "    }\n",
       "\n",
       "    .dataframe tbody tr th {\n",
       "        vertical-align: top;\n",
       "    }\n",
       "\n",
       "    .dataframe thead th {\n",
       "        text-align: right;\n",
       "    }\n",
       "</style>\n",
       "<table border=\"1\" class=\"dataframe\">\n",
       "  <thead>\n",
       "    <tr style=\"text-align: right;\">\n",
       "      <th></th>\n",
       "      <th>id</th>\n",
       "      <th>user_id</th>\n",
       "      <th>session_date</th>\n",
       "      <th>mb_used</th>\n",
       "    </tr>\n",
       "  </thead>\n",
       "  <tbody>\n",
       "    <tr>\n",
       "      <th>0</th>\n",
       "      <td>1000_13</td>\n",
       "      <td>1000</td>\n",
       "      <td>2018-12-29</td>\n",
       "      <td>89.86</td>\n",
       "    </tr>\n",
       "    <tr>\n",
       "      <th>1</th>\n",
       "      <td>1000_204</td>\n",
       "      <td>1000</td>\n",
       "      <td>2018-12-31</td>\n",
       "      <td>0.00</td>\n",
       "    </tr>\n",
       "    <tr>\n",
       "      <th>2</th>\n",
       "      <td>1000_379</td>\n",
       "      <td>1000</td>\n",
       "      <td>2018-12-28</td>\n",
       "      <td>660.40</td>\n",
       "    </tr>\n",
       "    <tr>\n",
       "      <th>3</th>\n",
       "      <td>1000_413</td>\n",
       "      <td>1000</td>\n",
       "      <td>2018-12-26</td>\n",
       "      <td>270.99</td>\n",
       "    </tr>\n",
       "    <tr>\n",
       "      <th>4</th>\n",
       "      <td>1000_442</td>\n",
       "      <td>1000</td>\n",
       "      <td>2018-12-27</td>\n",
       "      <td>880.22</td>\n",
       "    </tr>\n",
       "  </tbody>\n",
       "</table>\n",
       "</div>"
      ],
      "text/plain": [
       "         id  user_id session_date  mb_used\n",
       "0   1000_13     1000   2018-12-29    89.86\n",
       "1  1000_204     1000   2018-12-31     0.00\n",
       "2  1000_379     1000   2018-12-28   660.40\n",
       "3  1000_413     1000   2018-12-26   270.99\n",
       "4  1000_442     1000   2018-12-27   880.22"
      ]
     },
     "execution_count": 6,
     "metadata": {},
     "output_type": "execute_result"
    }
   ],
   "source": [
    "df_internet.head()"
   ]
  },
  {
   "cell_type": "markdown",
   "metadata": {},
   "source": [
    "Nuevamente sin valores vacíos, pero debemos corregir el formato de la columna `session_date`. También podemos mencionar que los dataframes no contienen la misma cantidad de filas."
   ]
  },
  {
   "cell_type": "markdown",
   "metadata": {},
   "source": [
    "### Mensajes"
   ]
  },
  {
   "cell_type": "code",
   "execution_count": 7,
   "metadata": {},
   "outputs": [
    {
     "name": "stdout",
     "output_type": "stream",
     "text": [
      "<class 'pandas.core.frame.DataFrame'>\n",
      "RangeIndex: 76051 entries, 0 to 76050\n",
      "Data columns (total 3 columns):\n",
      " #   Column        Non-Null Count  Dtype \n",
      "---  ------        --------------  ----- \n",
      " 0   id            76051 non-null  object\n",
      " 1   user_id       76051 non-null  int64 \n",
      " 2   message_date  76051 non-null  object\n",
      "dtypes: int64(1), object(2)\n",
      "memory usage: 1.7+ MB\n"
     ]
    }
   ],
   "source": [
    "df_messages.info()"
   ]
  },
  {
   "cell_type": "code",
   "execution_count": 8,
   "metadata": {},
   "outputs": [
    {
     "data": {
      "text/html": [
       "<div>\n",
       "<style scoped>\n",
       "    .dataframe tbody tr th:only-of-type {\n",
       "        vertical-align: middle;\n",
       "    }\n",
       "\n",
       "    .dataframe tbody tr th {\n",
       "        vertical-align: top;\n",
       "    }\n",
       "\n",
       "    .dataframe thead th {\n",
       "        text-align: right;\n",
       "    }\n",
       "</style>\n",
       "<table border=\"1\" class=\"dataframe\">\n",
       "  <thead>\n",
       "    <tr style=\"text-align: right;\">\n",
       "      <th></th>\n",
       "      <th>id</th>\n",
       "      <th>user_id</th>\n",
       "      <th>message_date</th>\n",
       "    </tr>\n",
       "  </thead>\n",
       "  <tbody>\n",
       "    <tr>\n",
       "      <th>0</th>\n",
       "      <td>1000_125</td>\n",
       "      <td>1000</td>\n",
       "      <td>2018-12-27</td>\n",
       "    </tr>\n",
       "    <tr>\n",
       "      <th>1</th>\n",
       "      <td>1000_160</td>\n",
       "      <td>1000</td>\n",
       "      <td>2018-12-31</td>\n",
       "    </tr>\n",
       "    <tr>\n",
       "      <th>2</th>\n",
       "      <td>1000_223</td>\n",
       "      <td>1000</td>\n",
       "      <td>2018-12-31</td>\n",
       "    </tr>\n",
       "    <tr>\n",
       "      <th>3</th>\n",
       "      <td>1000_251</td>\n",
       "      <td>1000</td>\n",
       "      <td>2018-12-27</td>\n",
       "    </tr>\n",
       "    <tr>\n",
       "      <th>4</th>\n",
       "      <td>1000_255</td>\n",
       "      <td>1000</td>\n",
       "      <td>2018-12-26</td>\n",
       "    </tr>\n",
       "  </tbody>\n",
       "</table>\n",
       "</div>"
      ],
      "text/plain": [
       "         id  user_id message_date\n",
       "0  1000_125     1000   2018-12-27\n",
       "1  1000_160     1000   2018-12-31\n",
       "2  1000_223     1000   2018-12-31\n",
       "3  1000_251     1000   2018-12-27\n",
       "4  1000_255     1000   2018-12-26"
      ]
     },
     "execution_count": 8,
     "metadata": {},
     "output_type": "execute_result"
    }
   ],
   "source": [
    "df_messages.head()"
   ]
  },
  {
   "cell_type": "markdown",
   "metadata": {},
   "source": [
    "Debemos corregir los valores de la columna `message_date`. No podemos apreciar valores vacíos."
   ]
  },
  {
   "cell_type": "markdown",
   "metadata": {},
   "source": [
    "### Planes"
   ]
  },
  {
   "cell_type": "code",
   "execution_count": 9,
   "metadata": {},
   "outputs": [
    {
     "name": "stdout",
     "output_type": "stream",
     "text": [
      "<class 'pandas.core.frame.DataFrame'>\n",
      "RangeIndex: 2 entries, 0 to 1\n",
      "Data columns (total 8 columns):\n",
      " #   Column                 Non-Null Count  Dtype  \n",
      "---  ------                 --------------  -----  \n",
      " 0   messages_included      2 non-null      int64  \n",
      " 1   mb_per_month_included  2 non-null      int64  \n",
      " 2   minutes_included       2 non-null      int64  \n",
      " 3   usd_monthly_pay        2 non-null      int64  \n",
      " 4   usd_per_gb             2 non-null      int64  \n",
      " 5   usd_per_message        2 non-null      float64\n",
      " 6   usd_per_minute         2 non-null      float64\n",
      " 7   plan_name              2 non-null      object \n",
      "dtypes: float64(2), int64(5), object(1)\n",
      "memory usage: 256.0+ bytes\n"
     ]
    }
   ],
   "source": [
    "df_plans.info()"
   ]
  },
  {
   "cell_type": "code",
   "execution_count": 10,
   "metadata": {
    "scrolled": true
   },
   "outputs": [
    {
     "data": {
      "text/html": [
       "<div>\n",
       "<style scoped>\n",
       "    .dataframe tbody tr th:only-of-type {\n",
       "        vertical-align: middle;\n",
       "    }\n",
       "\n",
       "    .dataframe tbody tr th {\n",
       "        vertical-align: top;\n",
       "    }\n",
       "\n",
       "    .dataframe thead th {\n",
       "        text-align: right;\n",
       "    }\n",
       "</style>\n",
       "<table border=\"1\" class=\"dataframe\">\n",
       "  <thead>\n",
       "    <tr style=\"text-align: right;\">\n",
       "      <th></th>\n",
       "      <th>messages_included</th>\n",
       "      <th>mb_per_month_included</th>\n",
       "      <th>minutes_included</th>\n",
       "      <th>usd_monthly_pay</th>\n",
       "      <th>usd_per_gb</th>\n",
       "      <th>usd_per_message</th>\n",
       "      <th>usd_per_minute</th>\n",
       "      <th>plan_name</th>\n",
       "    </tr>\n",
       "  </thead>\n",
       "  <tbody>\n",
       "    <tr>\n",
       "      <th>0</th>\n",
       "      <td>50</td>\n",
       "      <td>15360</td>\n",
       "      <td>500</td>\n",
       "      <td>20</td>\n",
       "      <td>10</td>\n",
       "      <td>0.03</td>\n",
       "      <td>0.03</td>\n",
       "      <td>surf</td>\n",
       "    </tr>\n",
       "    <tr>\n",
       "      <th>1</th>\n",
       "      <td>1000</td>\n",
       "      <td>30720</td>\n",
       "      <td>3000</td>\n",
       "      <td>70</td>\n",
       "      <td>7</td>\n",
       "      <td>0.01</td>\n",
       "      <td>0.01</td>\n",
       "      <td>ultimate</td>\n",
       "    </tr>\n",
       "  </tbody>\n",
       "</table>\n",
       "</div>"
      ],
      "text/plain": [
       "   messages_included  mb_per_month_included  minutes_included  \\\n",
       "0                 50                  15360               500   \n",
       "1               1000                  30720              3000   \n",
       "\n",
       "   usd_monthly_pay  usd_per_gb  usd_per_message  usd_per_minute plan_name  \n",
       "0               20          10             0.03            0.03      surf  \n",
       "1               70           7             0.01            0.01  ultimate  "
      ]
     },
     "execution_count": 10,
     "metadata": {},
     "output_type": "execute_result"
    }
   ],
   "source": [
    "df_plans.head()"
   ]
  },
  {
   "cell_type": "markdown",
   "metadata": {},
   "source": [
    "Aquí tenemos los datos específicos de cada plan. Usaremos este Dataframe cuando hagamos el análisis y comparación entre los gastos de los clientes."
   ]
  },
  {
   "cell_type": "markdown",
   "metadata": {},
   "source": [
    "### Usuarios"
   ]
  },
  {
   "cell_type": "code",
   "execution_count": 11,
   "metadata": {},
   "outputs": [
    {
     "name": "stdout",
     "output_type": "stream",
     "text": [
      "<class 'pandas.core.frame.DataFrame'>\n",
      "RangeIndex: 500 entries, 0 to 499\n",
      "Data columns (total 8 columns):\n",
      " #   Column      Non-Null Count  Dtype \n",
      "---  ------      --------------  ----- \n",
      " 0   user_id     500 non-null    int64 \n",
      " 1   first_name  500 non-null    object\n",
      " 2   last_name   500 non-null    object\n",
      " 3   age         500 non-null    int64 \n",
      " 4   city        500 non-null    object\n",
      " 5   reg_date    500 non-null    object\n",
      " 6   plan        500 non-null    object\n",
      " 7   churn_date  34 non-null     object\n",
      "dtypes: int64(2), object(6)\n",
      "memory usage: 31.4+ KB\n"
     ]
    }
   ],
   "source": [
    "df_users.info()"
   ]
  },
  {
   "cell_type": "code",
   "execution_count": 12,
   "metadata": {},
   "outputs": [
    {
     "data": {
      "text/html": [
       "<div>\n",
       "<style scoped>\n",
       "    .dataframe tbody tr th:only-of-type {\n",
       "        vertical-align: middle;\n",
       "    }\n",
       "\n",
       "    .dataframe tbody tr th {\n",
       "        vertical-align: top;\n",
       "    }\n",
       "\n",
       "    .dataframe thead th {\n",
       "        text-align: right;\n",
       "    }\n",
       "</style>\n",
       "<table border=\"1\" class=\"dataframe\">\n",
       "  <thead>\n",
       "    <tr style=\"text-align: right;\">\n",
       "      <th></th>\n",
       "      <th>user_id</th>\n",
       "      <th>first_name</th>\n",
       "      <th>last_name</th>\n",
       "      <th>age</th>\n",
       "      <th>city</th>\n",
       "      <th>reg_date</th>\n",
       "      <th>plan</th>\n",
       "      <th>churn_date</th>\n",
       "    </tr>\n",
       "  </thead>\n",
       "  <tbody>\n",
       "    <tr>\n",
       "      <th>0</th>\n",
       "      <td>1000</td>\n",
       "      <td>Anamaria</td>\n",
       "      <td>Bauer</td>\n",
       "      <td>45</td>\n",
       "      <td>Atlanta-Sandy Springs-Roswell, GA MSA</td>\n",
       "      <td>2018-12-24</td>\n",
       "      <td>ultimate</td>\n",
       "      <td>NaN</td>\n",
       "    </tr>\n",
       "    <tr>\n",
       "      <th>1</th>\n",
       "      <td>1001</td>\n",
       "      <td>Mickey</td>\n",
       "      <td>Wilkerson</td>\n",
       "      <td>28</td>\n",
       "      <td>Seattle-Tacoma-Bellevue, WA MSA</td>\n",
       "      <td>2018-08-13</td>\n",
       "      <td>surf</td>\n",
       "      <td>NaN</td>\n",
       "    </tr>\n",
       "    <tr>\n",
       "      <th>2</th>\n",
       "      <td>1002</td>\n",
       "      <td>Carlee</td>\n",
       "      <td>Hoffman</td>\n",
       "      <td>36</td>\n",
       "      <td>Las Vegas-Henderson-Paradise, NV MSA</td>\n",
       "      <td>2018-10-21</td>\n",
       "      <td>surf</td>\n",
       "      <td>NaN</td>\n",
       "    </tr>\n",
       "    <tr>\n",
       "      <th>3</th>\n",
       "      <td>1003</td>\n",
       "      <td>Reynaldo</td>\n",
       "      <td>Jenkins</td>\n",
       "      <td>52</td>\n",
       "      <td>Tulsa, OK MSA</td>\n",
       "      <td>2018-01-28</td>\n",
       "      <td>surf</td>\n",
       "      <td>NaN</td>\n",
       "    </tr>\n",
       "    <tr>\n",
       "      <th>4</th>\n",
       "      <td>1004</td>\n",
       "      <td>Leonila</td>\n",
       "      <td>Thompson</td>\n",
       "      <td>40</td>\n",
       "      <td>Seattle-Tacoma-Bellevue, WA MSA</td>\n",
       "      <td>2018-05-23</td>\n",
       "      <td>surf</td>\n",
       "      <td>NaN</td>\n",
       "    </tr>\n",
       "  </tbody>\n",
       "</table>\n",
       "</div>"
      ],
      "text/plain": [
       "   user_id first_name  last_name  age                                   city  \\\n",
       "0     1000   Anamaria      Bauer   45  Atlanta-Sandy Springs-Roswell, GA MSA   \n",
       "1     1001     Mickey  Wilkerson   28        Seattle-Tacoma-Bellevue, WA MSA   \n",
       "2     1002     Carlee    Hoffman   36   Las Vegas-Henderson-Paradise, NV MSA   \n",
       "3     1003   Reynaldo    Jenkins   52                          Tulsa, OK MSA   \n",
       "4     1004    Leonila   Thompson   40        Seattle-Tacoma-Bellevue, WA MSA   \n",
       "\n",
       "     reg_date      plan churn_date  \n",
       "0  2018-12-24  ultimate        NaN  \n",
       "1  2018-08-13      surf        NaN  \n",
       "2  2018-10-21      surf        NaN  \n",
       "3  2018-01-28      surf        NaN  \n",
       "4  2018-05-23      surf        NaN  "
      ]
     },
     "execution_count": 12,
     "metadata": {},
     "output_type": "execute_result"
    }
   ],
   "source": [
    "df_users.head()"
   ]
  },
  {
   "cell_type": "markdown",
   "metadata": {},
   "source": [
    "Detalles de cada usuario. Al igual que en casos anteriores, necesitamos corregir el formato de la columna `reg_date` y también de `churn_date`. Esta última columna contiene valores vacíos, pero esto no es un problema. Solo significa que el usuario sigue usando el servicio del plan contratado."
   ]
  },
  {
   "cell_type": "markdown",
   "metadata": {},
   "source": [
    "## Siguientes pasos"
   ]
  },
  {
   "cell_type": "markdown",
   "metadata": {},
   "source": [
    "Ahora que tenemos mayor conocimiento sobre la información que analizaremos, podemos trazar un plan de acciones. En primer lugar, cambiaremos el formato de las columnas de fechas. Es común que esta información se ingrese como `str`, es decir, como texto, pero nosotros necesitaremos operar en estas columnas como lo que son, fechas.\n",
    "\n",
    "Luego uniremos algunas columnas de cada Dataframe para poder contar con toda la información de cada cliente en un solo lugar. Esto podría causar algunos problemas o errores, por lo que deberemos revisar nuestro nuevo Dataframe y, de existir, solucionarlos.\n",
    "\n",
    "Una vez contemos con un Dataframe completo y confiable, comenzaremos el análisis de los datos y probar las hipótesis requeridas.\n",
    "\n",
    "Finalmente, se recopilará toda la información trabajada y conocimiento generado en una conclusión general."
   ]
  },
  {
   "cell_type": "markdown",
   "metadata": {},
   "source": [
    "# Limpieza y corrección de datos"
   ]
  },
  {
   "cell_type": "code",
   "execution_count": 13,
   "metadata": {},
   "outputs": [
    {
     "data": {
      "text/html": [
       "<div>\n",
       "<style scoped>\n",
       "    .dataframe tbody tr th:only-of-type {\n",
       "        vertical-align: middle;\n",
       "    }\n",
       "\n",
       "    .dataframe tbody tr th {\n",
       "        vertical-align: top;\n",
       "    }\n",
       "\n",
       "    .dataframe thead th {\n",
       "        text-align: right;\n",
       "    }\n",
       "</style>\n",
       "<table border=\"1\" class=\"dataframe\">\n",
       "  <thead>\n",
       "    <tr style=\"text-align: right;\">\n",
       "      <th></th>\n",
       "      <th>id</th>\n",
       "      <th>user_id</th>\n",
       "      <th>call_date</th>\n",
       "      <th>duration</th>\n",
       "    </tr>\n",
       "  </thead>\n",
       "  <tbody>\n",
       "    <tr>\n",
       "      <th>0</th>\n",
       "      <td>1000_93</td>\n",
       "      <td>1000</td>\n",
       "      <td>2018-12-27</td>\n",
       "      <td>8.52</td>\n",
       "    </tr>\n",
       "    <tr>\n",
       "      <th>1</th>\n",
       "      <td>1000_145</td>\n",
       "      <td>1000</td>\n",
       "      <td>2018-12-27</td>\n",
       "      <td>13.66</td>\n",
       "    </tr>\n",
       "    <tr>\n",
       "      <th>2</th>\n",
       "      <td>1000_247</td>\n",
       "      <td>1000</td>\n",
       "      <td>2018-12-27</td>\n",
       "      <td>14.48</td>\n",
       "    </tr>\n",
       "    <tr>\n",
       "      <th>3</th>\n",
       "      <td>1000_309</td>\n",
       "      <td>1000</td>\n",
       "      <td>2018-12-28</td>\n",
       "      <td>5.76</td>\n",
       "    </tr>\n",
       "    <tr>\n",
       "      <th>4</th>\n",
       "      <td>1000_380</td>\n",
       "      <td>1000</td>\n",
       "      <td>2018-12-30</td>\n",
       "      <td>4.22</td>\n",
       "    </tr>\n",
       "  </tbody>\n",
       "</table>\n",
       "</div>"
      ],
      "text/plain": [
       "         id  user_id   call_date  duration\n",
       "0   1000_93     1000  2018-12-27      8.52\n",
       "1  1000_145     1000  2018-12-27     13.66\n",
       "2  1000_247     1000  2018-12-27     14.48\n",
       "3  1000_309     1000  2018-12-28      5.76\n",
       "4  1000_380     1000  2018-12-30      4.22"
      ]
     },
     "execution_count": 13,
     "metadata": {},
     "output_type": "execute_result"
    }
   ],
   "source": [
    "df_calls.head()"
   ]
  },
  {
   "cell_type": "code",
   "execution_count": 14,
   "metadata": {},
   "outputs": [
    {
     "name": "stdout",
     "output_type": "stream",
     "text": [
      "<class 'pandas.core.frame.DataFrame'>\n",
      "RangeIndex: 137735 entries, 0 to 137734\n",
      "Data columns (total 4 columns):\n",
      " #   Column     Non-Null Count   Dtype  \n",
      "---  ------     --------------   -----  \n",
      " 0   id         137735 non-null  object \n",
      " 1   user_id    137735 non-null  int64  \n",
      " 2   call_date  137735 non-null  object \n",
      " 3   duration   137735 non-null  float64\n",
      "dtypes: float64(1), int64(1), object(2)\n",
      "memory usage: 4.2+ MB\n"
     ]
    }
   ],
   "source": [
    "df_calls.info()"
   ]
  },
  {
   "cell_type": "markdown",
   "metadata": {},
   "source": [
    "## Formato de Fechas"
   ]
  },
  {
   "cell_type": "code",
   "execution_count": 15,
   "metadata": {},
   "outputs": [],
   "source": [
    "# Creamos una función que aplicaremos a cada fila de cada Dataframe\n",
    "def to_date (date):\n",
    "    return pd.to_datetime(date, format='%Y-%m-%d')\n"
   ]
  },
  {
   "cell_type": "code",
   "execution_count": 16,
   "metadata": {},
   "outputs": [],
   "source": [
    "# Aplicamos la función a cada Dataframe\n",
    "# Esta línea de codigo, toma bastante tiempo, tomarselo con paciencia\n",
    "\n",
    "# Llamadas\n",
    "df_calls['call_date'] = df_calls['call_date'].apply(to_date)\n",
    "\n",
    "# Internet\n",
    "df_internet['session_date'] = df_internet['session_date'].apply(to_date)\n",
    "\n",
    "# Mensajes\n",
    "df_messages['message_date'] = df_messages['message_date'].apply(to_date)\n",
    "\n",
    "# Usuarios\n",
    "df_users['reg_date'] = df_users['reg_date'].apply(to_date)\n",
    "df_users['churn_date'] = df_users['churn_date'].apply(to_date)"
   ]
  },
  {
   "cell_type": "code",
   "execution_count": 17,
   "metadata": {},
   "outputs": [
    {
     "name": "stdout",
     "output_type": "stream",
     "text": [
      "<class 'pandas.core.frame.DataFrame'>\n",
      "RangeIndex: 104825 entries, 0 to 104824\n",
      "Data columns (total 4 columns):\n",
      " #   Column        Non-Null Count   Dtype         \n",
      "---  ------        --------------   -----         \n",
      " 0   id            104825 non-null  object        \n",
      " 1   user_id       104825 non-null  int64         \n",
      " 2   session_date  104825 non-null  datetime64[ns]\n",
      " 3   mb_used       104825 non-null  float64       \n",
      "dtypes: datetime64[ns](1), float64(1), int64(1), object(1)\n",
      "memory usage: 3.2+ MB\n",
      "None\n"
     ]
    }
   ],
   "source": [
    "# comprobemos nuestro trabajo\n",
    "# Comprobar un Dataframe, debería ser suficiente\n",
    "print(df_internet.info())"
   ]
  },
  {
   "cell_type": "markdown",
   "metadata": {},
   "source": [
    "## Errores en los datos"
   ]
  },
  {
   "cell_type": "markdown",
   "metadata": {},
   "source": [
    "Antes de continuar, debemos revisar los datos y verificar que no tenemos valores errados o duplicados. También revisaríamos si existen datos vacíos, pero con la sección *2.3*, ya sabemos que contamos con toda la información."
   ]
  },
  {
   "cell_type": "code",
   "execution_count": 18,
   "metadata": {},
   "outputs": [
    {
     "data": {
      "text/plain": [
       "count    137735.000000\n",
       "mean          6.745927\n",
       "std           5.839241\n",
       "min           0.000000\n",
       "25%           1.290000\n",
       "50%           5.980000\n",
       "75%          10.690000\n",
       "max          37.600000\n",
       "Name: duration, dtype: float64"
      ]
     },
     "execution_count": 18,
     "metadata": {},
     "output_type": "execute_result"
    }
   ],
   "source": [
    "df_calls['duration'].describe()"
   ]
  },
  {
   "cell_type": "code",
   "execution_count": 19,
   "metadata": {},
   "outputs": [
    {
     "data": {
      "image/png": "[encoded data removed]",
      "text/plain": [
       "<Figure size 1080x504 with 1 Axes>"
      ]
     },
     "metadata": {
      "needs_background": "light"
     },
     "output_type": "display_data"
    }
   ],
   "source": [
    "# Veamos como se comportan las llamadas según su duración\n",
    "df_calls['duration'].hist(bins=30, figsize=(15,7))\n",
    "# Marquemos la mediana en rojo\n",
    "plt.vlines(6,ymin=0, ymax=20000, color='red')\n",
    "# Marquemos la media en verde\n",
    "plt.vlines(6.8,ymin=0, ymax=20000, color='green')\n",
    "plt.yticks((np.arange(0, 35001, step=2500)))\n",
    "plt.show()\n"
   ]
  },
  {
   "cell_type": "code",
   "execution_count": 20,
   "metadata": {},
   "outputs": [
    {
     "data": {
      "text/plain": [
       "duration\n",
       "0.00     26834\n",
       "8.37       102\n",
       "4.02       102\n",
       "3.91       101\n",
       "4.30       100\n",
       "         ...  \n",
       "26.41        1\n",
       "26.44        1\n",
       "26.47        1\n",
       "26.48        1\n",
       "37.60        1\n",
       "Length: 2802, dtype: int64"
      ]
     },
     "execution_count": 20,
     "metadata": {},
     "output_type": "execute_result"
    }
   ],
   "source": [
    "df_calls.value_counts('duration')"
   ]
  },
  {
   "cell_type": "markdown",
   "metadata": {},
   "source": [
    "Tenemos una cantidad excesiva de llamadas con una duración de 0 segundos, son casi el 20% de todas las llamadas. Estos valores estan alterando enormemente nuestros datos y las conclusiones que podríamos sacar, pero, por su alta cantidad, no podemos simplemente eliminarlos.\n",
    "\n",
    "Antes de tomar una decisión, veamos como se comportarían los datos sin estas llamadas."
   ]
  },
  {
   "cell_type": "code",
   "execution_count": 21,
   "metadata": {},
   "outputs": [
    {
     "data": {
      "text/plain": [
       "count    110901.000000\n",
       "mean          8.378196\n",
       "std           5.354567\n",
       "min           0.010000\n",
       "25%           4.150000\n",
       "50%           7.710000\n",
       "75%          11.820000\n",
       "max          37.600000\n",
       "Name: duration, dtype: float64"
      ]
     },
     "execution_count": 21,
     "metadata": {},
     "output_type": "execute_result"
    }
   ],
   "source": [
    "df_calls[df_calls['duration']!=0]['duration'].describe()"
   ]
  },
  {
   "cell_type": "code",
   "execution_count": 22,
   "metadata": {},
   "outputs": [
    {
     "data": {
      "image/png": "[encoded data removed]",
      "text/plain": [
       "<Figure size 1080x504 with 1 Axes>"
      ]
     },
     "metadata": {
      "needs_background": "light"
     },
     "output_type": "display_data"
    }
   ],
   "source": [
    "# Veamos como se comportan las llamadas duración nula\n",
    "df_calls[df_calls['duration']!=0]['duration'].hist(bins=30, figsize=(15,7))\n",
    "# Marquemos la mediana en rojo\n",
    "plt.vlines(7.7,ymin=0, ymax=10000, color='red')\n",
    "# Marquemos la media en verde\n",
    "plt.vlines(8.4,ymin=0, ymax=10000, color='green')\n",
    "plt.yticks(np.arange(0, 10001, step=1000))\n",
    "plt.show()"
   ]
  },
  {
   "cell_type": "code",
   "execution_count": 23,
   "metadata": {},
   "outputs": [
    {
     "data": {
      "text/plain": [
       "<AxesSubplot:>"
      ]
     },
     "execution_count": 23,
     "metadata": {},
     "output_type": "execute_result"
    },
    {
     "data": {
      "image/png": "[encoded data removed]",
      "text/plain": [
       "<Figure size 432x288 with 1 Axes>"
      ]
     },
     "metadata": {
      "needs_background": "light"
     },
     "output_type": "display_data"
    }
   ],
   "source": [
    "df_calls.boxplot('duration')"
   ]
  },
  {
   "cell_type": "code",
   "execution_count": 24,
   "metadata": {},
   "outputs": [
    {
     "data": {
      "text/plain": [
       "<AxesSubplot:>"
      ]
     },
     "execution_count": 24,
     "metadata": {},
     "output_type": "execute_result"
    },
    {
     "data": {
      "image/png": "[encoded data removed]",
      "text/plain": [
       "<Figure size 432x288 with 1 Axes>"
      ]
     },
     "metadata": {
      "needs_background": "light"
     },
     "output_type": "display_data"
    }
   ],
   "source": [
    "df_calls[df_calls['duration']!=0].boxplot('duration')"
   ]
  },
  {
   "cell_type": "markdown",
   "metadata": {},
   "source": [
    "Como podemos ver, los valores posicionales y la media cambian cuando no consideramos las llamadas nulas. Aunque esta diferencia es significativa, podemos ver en los gráficos de caja que el cambio no es muy grande. El tercer cuartil a penas sufre algún cambio.\n",
    "\n",
    "Considerando esto, eliminaremos las filas de las llamadas nulas. La única información que nos proporcionan es la cantidad de llamadas hecha por cada cliente, pero esto estaría considerando llamadas que no generan ingresos. Como el objetivo de este proyecto es encontrar el plan que genere más ingresos, debemos concentrarnos en los datos que brinden información a este punto. Las llamadas nulas solo alterarán los datos y valores con los que trabajemos, llevandonos a conclusiones erradas. \n",
    "\n",
    "Es importante mencionar que siguen siendo casi el 20% de las llamadas totales, pero cuando se considera en conjunto con el resto de los datos de cada tabla con la que estamos trabajando, este porcentaje disminuye a menos de la mitad. Sigue rondando el 8% de la información, pero es un conjunto de los datos que no brinda información relevante para nuestro análisis y proyecto.\n",
    "\n",
    "Para no perder la información, en vez de borrar las filas, las guardaremos en un Dataframe diferente. De esta manera, si llegamos a necesitar esa información, la tendremos disponible."
   ]
  },
  {
   "cell_type": "code",
   "execution_count": 25,
   "metadata": {},
   "outputs": [],
   "source": [
    "# Creamos el nuevo Dataframe con las llamadas perdidas\n",
    "df_missed_calls = df_calls[df_calls['duration']==0]\n",
    "\n",
    "# Limpiamos el Dataframe original de las llamadas perdidas\n",
    "df_calls = df_calls[df_calls['duration']!=0]"
   ]
  },
  {
   "cell_type": "markdown",
   "metadata": {},
   "source": [
    "## Extrayendo información"
   ]
  },
  {
   "cell_type": "markdown",
   "metadata": {},
   "source": [
    "Antes de comenzar nuestro análisis, necesitamos conocer:\n",
    "1. Número de llamadas por mes\n",
    "2. Minutos utilizados al mes\n",
    "3. Cantidad de mensajes por mes\n",
    "4. Volumen de datoss por mes\n",
    "5. Cuenta mensual del cliente\n",
    "\n",
    "Para esto necesitamos primero trabajar en cada Dataframe que tenemos. Agrupando los valores que buscamos según cliente y su `user_id`.\n",
    "\n",
    "Primero debemos recordar que según los estatutos de Megaline, la duración de cada llamada se redonde al minuto, es decir, incluso si la llamada dura 1 segundo, se contará como un minuto. Para tráfico web, las sesiones web individuales no se redondean. En vez de esto, el total del mes se redondea hacia arriba. Si alguien usa 1025 megabytes este mes, se le cobrrán 2 gigabytes."
   ]
  },
  {
   "cell_type": "markdown",
   "metadata": {},
   "source": [
    "### Minutos usados y cantidad de llamadas mensuales"
   ]
  },
  {
   "cell_type": "code",
   "execution_count": 26,
   "metadata": {
    "scrolled": false
   },
   "outputs": [
    {
     "data": {
      "text/html": [
       "<div>\n",
       "<style scoped>\n",
       "    .dataframe tbody tr th:only-of-type {\n",
       "        vertical-align: middle;\n",
       "    }\n",
       "\n",
       "    .dataframe tbody tr th {\n",
       "        vertical-align: top;\n",
       "    }\n",
       "\n",
       "    .dataframe thead th {\n",
       "        text-align: right;\n",
       "    }\n",
       "</style>\n",
       "<table border=\"1\" class=\"dataframe\">\n",
       "  <thead>\n",
       "    <tr style=\"text-align: right;\">\n",
       "      <th></th>\n",
       "      <th>id</th>\n",
       "      <th>user_id</th>\n",
       "      <th>call_date</th>\n",
       "      <th>duration</th>\n",
       "    </tr>\n",
       "  </thead>\n",
       "  <tbody>\n",
       "    <tr>\n",
       "      <th>0</th>\n",
       "      <td>1000_93</td>\n",
       "      <td>1000</td>\n",
       "      <td>2018-12-27</td>\n",
       "      <td>8.52</td>\n",
       "    </tr>\n",
       "    <tr>\n",
       "      <th>1</th>\n",
       "      <td>1000_145</td>\n",
       "      <td>1000</td>\n",
       "      <td>2018-12-27</td>\n",
       "      <td>13.66</td>\n",
       "    </tr>\n",
       "    <tr>\n",
       "      <th>2</th>\n",
       "      <td>1000_247</td>\n",
       "      <td>1000</td>\n",
       "      <td>2018-12-27</td>\n",
       "      <td>14.48</td>\n",
       "    </tr>\n",
       "    <tr>\n",
       "      <th>3</th>\n",
       "      <td>1000_309</td>\n",
       "      <td>1000</td>\n",
       "      <td>2018-12-28</td>\n",
       "      <td>5.76</td>\n",
       "    </tr>\n",
       "    <tr>\n",
       "      <th>4</th>\n",
       "      <td>1000_380</td>\n",
       "      <td>1000</td>\n",
       "      <td>2018-12-30</td>\n",
       "      <td>4.22</td>\n",
       "    </tr>\n",
       "    <tr>\n",
       "      <th>5</th>\n",
       "      <td>1000_388</td>\n",
       "      <td>1000</td>\n",
       "      <td>2018-12-31</td>\n",
       "      <td>2.20</td>\n",
       "    </tr>\n",
       "    <tr>\n",
       "      <th>6</th>\n",
       "      <td>1000_510</td>\n",
       "      <td>1000</td>\n",
       "      <td>2018-12-27</td>\n",
       "      <td>5.75</td>\n",
       "    </tr>\n",
       "    <tr>\n",
       "      <th>7</th>\n",
       "      <td>1000_521</td>\n",
       "      <td>1000</td>\n",
       "      <td>2018-12-28</td>\n",
       "      <td>14.18</td>\n",
       "    </tr>\n",
       "    <tr>\n",
       "      <th>8</th>\n",
       "      <td>1000_530</td>\n",
       "      <td>1000</td>\n",
       "      <td>2018-12-28</td>\n",
       "      <td>5.77</td>\n",
       "    </tr>\n",
       "    <tr>\n",
       "      <th>9</th>\n",
       "      <td>1000_544</td>\n",
       "      <td>1000</td>\n",
       "      <td>2018-12-26</td>\n",
       "      <td>4.40</td>\n",
       "    </tr>\n",
       "  </tbody>\n",
       "</table>\n",
       "</div>"
      ],
      "text/plain": [
       "         id  user_id  call_date  duration\n",
       "0   1000_93     1000 2018-12-27      8.52\n",
       "1  1000_145     1000 2018-12-27     13.66\n",
       "2  1000_247     1000 2018-12-27     14.48\n",
       "3  1000_309     1000 2018-12-28      5.76\n",
       "4  1000_380     1000 2018-12-30      4.22\n",
       "5  1000_388     1000 2018-12-31      2.20\n",
       "6  1000_510     1000 2018-12-27      5.75\n",
       "7  1000_521     1000 2018-12-28     14.18\n",
       "8  1000_530     1000 2018-12-28      5.77\n",
       "9  1000_544     1000 2018-12-26      4.40"
      ]
     },
     "execution_count": 26,
     "metadata": {},
     "output_type": "execute_result"
    }
   ],
   "source": [
    "# Recordemos de que se compone la tabla df_calls\n",
    "df_calls.head(10)"
   ]
  },
  {
   "cell_type": "code",
   "execution_count": 27,
   "metadata": {
    "scrolled": true
   },
   "outputs": [
    {
     "data": {
      "text/html": [
       "<div>\n",
       "<style scoped>\n",
       "    .dataframe tbody tr th:only-of-type {\n",
       "        vertical-align: middle;\n",
       "    }\n",
       "\n",
       "    .dataframe tbody tr th {\n",
       "        vertical-align: top;\n",
       "    }\n",
       "\n",
       "    .dataframe thead th {\n",
       "        text-align: right;\n",
       "    }\n",
       "</style>\n",
       "<table border=\"1\" class=\"dataframe\">\n",
       "  <thead>\n",
       "    <tr style=\"text-align: right;\">\n",
       "      <th></th>\n",
       "      <th>id</th>\n",
       "      <th>user_id</th>\n",
       "      <th>call_date</th>\n",
       "      <th>duration</th>\n",
       "      <th>duration_round</th>\n",
       "    </tr>\n",
       "  </thead>\n",
       "  <tbody>\n",
       "    <tr>\n",
       "      <th>0</th>\n",
       "      <td>1000_93</td>\n",
       "      <td>1000</td>\n",
       "      <td>2018-12-27</td>\n",
       "      <td>8.52</td>\n",
       "      <td>9</td>\n",
       "    </tr>\n",
       "    <tr>\n",
       "      <th>1</th>\n",
       "      <td>1000_145</td>\n",
       "      <td>1000</td>\n",
       "      <td>2018-12-27</td>\n",
       "      <td>13.66</td>\n",
       "      <td>14</td>\n",
       "    </tr>\n",
       "    <tr>\n",
       "      <th>2</th>\n",
       "      <td>1000_247</td>\n",
       "      <td>1000</td>\n",
       "      <td>2018-12-27</td>\n",
       "      <td>14.48</td>\n",
       "      <td>15</td>\n",
       "    </tr>\n",
       "    <tr>\n",
       "      <th>3</th>\n",
       "      <td>1000_309</td>\n",
       "      <td>1000</td>\n",
       "      <td>2018-12-28</td>\n",
       "      <td>5.76</td>\n",
       "      <td>6</td>\n",
       "    </tr>\n",
       "    <tr>\n",
       "      <th>4</th>\n",
       "      <td>1000_380</td>\n",
       "      <td>1000</td>\n",
       "      <td>2018-12-30</td>\n",
       "      <td>4.22</td>\n",
       "      <td>5</td>\n",
       "    </tr>\n",
       "  </tbody>\n",
       "</table>\n",
       "</div>"
      ],
      "text/plain": [
       "         id  user_id  call_date  duration  duration_round\n",
       "0   1000_93     1000 2018-12-27      8.52               9\n",
       "1  1000_145     1000 2018-12-27     13.66              14\n",
       "2  1000_247     1000 2018-12-27     14.48              15\n",
       "3  1000_309     1000 2018-12-28      5.76               6\n",
       "4  1000_380     1000 2018-12-30      4.22               5"
      ]
     },
     "execution_count": 27,
     "metadata": {},
     "output_type": "execute_result"
    }
   ],
   "source": [
    "# Crearemos una columna con la duración cobrada y luego la agregaremos a df_calls\n",
    "duration_round = []\n",
    "for call in df_calls['duration']:\n",
    "    duration = math.ceil(call)\n",
    "    duration_round.append(duration)\n",
    "df_calls['duration_round'] = duration_round\n",
    "\n",
    "# Veamos la nueva tabla\n",
    "df_calls.head()"
   ]
  },
  {
   "cell_type": "code",
   "execution_count": 28,
   "metadata": {},
   "outputs": [
    {
     "data": {
      "text/html": [
       "<div>\n",
       "<style scoped>\n",
       "    .dataframe tbody tr th:only-of-type {\n",
       "        vertical-align: middle;\n",
       "    }\n",
       "\n",
       "    .dataframe tbody tr th {\n",
       "        vertical-align: top;\n",
       "    }\n",
       "\n",
       "    .dataframe thead th {\n",
       "        text-align: right;\n",
       "    }\n",
       "</style>\n",
       "<table border=\"1\" class=\"dataframe\">\n",
       "  <thead>\n",
       "    <tr style=\"text-align: right;\">\n",
       "      <th></th>\n",
       "      <th>id</th>\n",
       "      <th>user_id</th>\n",
       "      <th>call_date</th>\n",
       "      <th>duration</th>\n",
       "      <th>duration_round</th>\n",
       "      <th>month</th>\n",
       "    </tr>\n",
       "  </thead>\n",
       "  <tbody>\n",
       "    <tr>\n",
       "      <th>0</th>\n",
       "      <td>1000_93</td>\n",
       "      <td>1000</td>\n",
       "      <td>2018-12-27</td>\n",
       "      <td>8.52</td>\n",
       "      <td>9</td>\n",
       "      <td>12</td>\n",
       "    </tr>\n",
       "    <tr>\n",
       "      <th>1</th>\n",
       "      <td>1000_145</td>\n",
       "      <td>1000</td>\n",
       "      <td>2018-12-27</td>\n",
       "      <td>13.66</td>\n",
       "      <td>14</td>\n",
       "      <td>12</td>\n",
       "    </tr>\n",
       "    <tr>\n",
       "      <th>2</th>\n",
       "      <td>1000_247</td>\n",
       "      <td>1000</td>\n",
       "      <td>2018-12-27</td>\n",
       "      <td>14.48</td>\n",
       "      <td>15</td>\n",
       "      <td>12</td>\n",
       "    </tr>\n",
       "    <tr>\n",
       "      <th>3</th>\n",
       "      <td>1000_309</td>\n",
       "      <td>1000</td>\n",
       "      <td>2018-12-28</td>\n",
       "      <td>5.76</td>\n",
       "      <td>6</td>\n",
       "      <td>12</td>\n",
       "    </tr>\n",
       "    <tr>\n",
       "      <th>4</th>\n",
       "      <td>1000_380</td>\n",
       "      <td>1000</td>\n",
       "      <td>2018-12-30</td>\n",
       "      <td>4.22</td>\n",
       "      <td>5</td>\n",
       "      <td>12</td>\n",
       "    </tr>\n",
       "  </tbody>\n",
       "</table>\n",
       "</div>"
      ],
      "text/plain": [
       "         id  user_id  call_date  duration  duration_round  month\n",
       "0   1000_93     1000 2018-12-27      8.52               9     12\n",
       "1  1000_145     1000 2018-12-27     13.66              14     12\n",
       "2  1000_247     1000 2018-12-27     14.48              15     12\n",
       "3  1000_309     1000 2018-12-28      5.76               6     12\n",
       "4  1000_380     1000 2018-12-30      4.22               5     12"
      ]
     },
     "execution_count": 28,
     "metadata": {},
     "output_type": "execute_result"
    }
   ],
   "source": [
    "# Ahora crearemos otra columna con el mes en el que se realizó la llamada\n",
    "df_calls['month'] = pd.DatetimeIndex(df_calls['call_date']).month\n",
    "\n",
    "# Veamos la tabla\n",
    "df_calls.head(5)"
   ]
  },
  {
   "cell_type": "code",
   "execution_count": 29,
   "metadata": {
    "scrolled": false
   },
   "outputs": [
    {
     "data": {
      "text/html": [
       "<div>\n",
       "<style scoped>\n",
       "    .dataframe tbody tr th:only-of-type {\n",
       "        vertical-align: middle;\n",
       "    }\n",
       "\n",
       "    .dataframe tbody tr th {\n",
       "        vertical-align: top;\n",
       "    }\n",
       "\n",
       "    .dataframe thead tr th {\n",
       "        text-align: left;\n",
       "    }\n",
       "</style>\n",
       "<table border=\"1\" class=\"dataframe\">\n",
       "  <thead>\n",
       "    <tr>\n",
       "      <th></th>\n",
       "      <th>sum</th>\n",
       "      <th>count</th>\n",
       "    </tr>\n",
       "    <tr>\n",
       "      <th></th>\n",
       "      <th>duration_round</th>\n",
       "      <th>duration_round</th>\n",
       "    </tr>\n",
       "  </thead>\n",
       "  <tbody>\n",
       "    <tr>\n",
       "      <th>count</th>\n",
       "      <td>2256.000000</td>\n",
       "      <td>2256.000000</td>\n",
       "    </tr>\n",
       "    <tr>\n",
       "      <th>mean</th>\n",
       "      <td>436.324025</td>\n",
       "      <td>49.158245</td>\n",
       "    </tr>\n",
       "    <tr>\n",
       "      <th>std</th>\n",
       "      <td>231.711444</td>\n",
       "      <td>25.667968</td>\n",
       "    </tr>\n",
       "    <tr>\n",
       "      <th>min</th>\n",
       "      <td>2.000000</td>\n",
       "      <td>1.000000</td>\n",
       "    </tr>\n",
       "    <tr>\n",
       "      <th>25%</th>\n",
       "      <td>275.000000</td>\n",
       "      <td>32.000000</td>\n",
       "    </tr>\n",
       "    <tr>\n",
       "      <th>50%</th>\n",
       "      <td>429.000000</td>\n",
       "      <td>48.000000</td>\n",
       "    </tr>\n",
       "    <tr>\n",
       "      <th>75%</th>\n",
       "      <td>575.250000</td>\n",
       "      <td>64.000000</td>\n",
       "    </tr>\n",
       "    <tr>\n",
       "      <th>max</th>\n",
       "      <td>1510.000000</td>\n",
       "      <td>167.000000</td>\n",
       "    </tr>\n",
       "  </tbody>\n",
       "</table>\n",
       "</div>"
      ],
      "text/plain": [
       "                 sum          count\n",
       "      duration_round duration_round\n",
       "count    2256.000000    2256.000000\n",
       "mean      436.324025      49.158245\n",
       "std       231.711444      25.667968\n",
       "min         2.000000       1.000000\n",
       "25%       275.000000      32.000000\n",
       "50%       429.000000      48.000000\n",
       "75%       575.250000      64.000000\n",
       "max      1510.000000     167.000000"
      ]
     },
     "execution_count": 29,
     "metadata": {},
     "output_type": "execute_result"
    }
   ],
   "source": [
    "# Ahora agrupemos por usuario\n",
    "df_calls_info = df_calls.pivot_table(index=['user_id', 'month'], values='duration_round', aggfunc=['sum', 'count'])\n",
    "df_calls_info.describe()"
   ]
  },
  {
   "cell_type": "code",
   "execution_count": 30,
   "metadata": {},
   "outputs": [
    {
     "data": {
      "text/html": [
       "<div>\n",
       "<style scoped>\n",
       "    .dataframe tbody tr th:only-of-type {\n",
       "        vertical-align: middle;\n",
       "    }\n",
       "\n",
       "    .dataframe tbody tr th {\n",
       "        vertical-align: top;\n",
       "    }\n",
       "\n",
       "    .dataframe thead tr th {\n",
       "        text-align: left;\n",
       "    }\n",
       "\n",
       "    .dataframe thead tr:last-of-type th {\n",
       "        text-align: right;\n",
       "    }\n",
       "</style>\n",
       "<table border=\"1\" class=\"dataframe\">\n",
       "  <thead>\n",
       "    <tr>\n",
       "      <th></th>\n",
       "      <th></th>\n",
       "      <th>sum</th>\n",
       "      <th>count</th>\n",
       "    </tr>\n",
       "    <tr>\n",
       "      <th></th>\n",
       "      <th></th>\n",
       "      <th>duration_round</th>\n",
       "      <th>duration_round</th>\n",
       "    </tr>\n",
       "    <tr>\n",
       "      <th>user_id</th>\n",
       "      <th>month</th>\n",
       "      <th></th>\n",
       "      <th></th>\n",
       "    </tr>\n",
       "  </thead>\n",
       "  <tbody>\n",
       "    <tr>\n",
       "      <th>1000</th>\n",
       "      <th>12</th>\n",
       "      <td>124</td>\n",
       "      <td>16</td>\n",
       "    </tr>\n",
       "    <tr>\n",
       "      <th rowspan=\"4\" valign=\"top\">1001</th>\n",
       "      <th>8</th>\n",
       "      <td>182</td>\n",
       "      <td>22</td>\n",
       "    </tr>\n",
       "    <tr>\n",
       "      <th>9</th>\n",
       "      <td>315</td>\n",
       "      <td>38</td>\n",
       "    </tr>\n",
       "    <tr>\n",
       "      <th>10</th>\n",
       "      <td>393</td>\n",
       "      <td>47</td>\n",
       "    </tr>\n",
       "    <tr>\n",
       "      <th>11</th>\n",
       "      <td>426</td>\n",
       "      <td>49</td>\n",
       "    </tr>\n",
       "  </tbody>\n",
       "</table>\n",
       "</div>"
      ],
      "text/plain": [
       "                         sum          count\n",
       "              duration_round duration_round\n",
       "user_id month                              \n",
       "1000    12               124             16\n",
       "1001    8                182             22\n",
       "        9                315             38\n",
       "        10               393             47\n",
       "        11               426             49"
      ]
     },
     "execution_count": 30,
     "metadata": {},
     "output_type": "execute_result"
    }
   ],
   "source": [
    "df_calls_info.head()"
   ]
  },
  {
   "cell_type": "markdown",
   "metadata": {},
   "source": [
    "En esta tabla tenemos la cantidad de minutos gastados por cada usuario dividido mensualmente y la cantidad de llamadas que hicieron. Esta información nos servirá cuando tengamos que calcular la cuenta final de los clientes."
   ]
  },
  {
   "cell_type": "markdown",
   "metadata": {},
   "source": [
    "### Cantidad de mensajes mensuales"
   ]
  },
  {
   "cell_type": "markdown",
   "metadata": {},
   "source": [
    "Contemos la cantidad de mensajes que envía cada cliente."
   ]
  },
  {
   "cell_type": "code",
   "execution_count": 31,
   "metadata": {},
   "outputs": [],
   "source": [
    "# Primero crearemos otra columna con el mes en el que se realizó el mensaje\n",
    "df_messages['month'] = pd.DatetimeIndex(df_messages['message_date']).month"
   ]
  },
  {
   "cell_type": "code",
   "execution_count": 32,
   "metadata": {
    "scrolled": false
   },
   "outputs": [
    {
     "data": {
      "text/html": [
       "<div>\n",
       "<style scoped>\n",
       "    .dataframe tbody tr th:only-of-type {\n",
       "        vertical-align: middle;\n",
       "    }\n",
       "\n",
       "    .dataframe tbody tr th {\n",
       "        vertical-align: top;\n",
       "    }\n",
       "\n",
       "    .dataframe thead th {\n",
       "        text-align: right;\n",
       "    }\n",
       "</style>\n",
       "<table border=\"1\" class=\"dataframe\">\n",
       "  <thead>\n",
       "    <tr style=\"text-align: right;\">\n",
       "      <th></th>\n",
       "      <th>id</th>\n",
       "    </tr>\n",
       "  </thead>\n",
       "  <tbody>\n",
       "    <tr>\n",
       "      <th>count</th>\n",
       "      <td>1806.000000</td>\n",
       "    </tr>\n",
       "    <tr>\n",
       "      <th>mean</th>\n",
       "      <td>42.110188</td>\n",
       "    </tr>\n",
       "    <tr>\n",
       "      <th>std</th>\n",
       "      <td>33.122931</td>\n",
       "    </tr>\n",
       "    <tr>\n",
       "      <th>min</th>\n",
       "      <td>1.000000</td>\n",
       "    </tr>\n",
       "    <tr>\n",
       "      <th>25%</th>\n",
       "      <td>17.000000</td>\n",
       "    </tr>\n",
       "    <tr>\n",
       "      <th>50%</th>\n",
       "      <td>34.000000</td>\n",
       "    </tr>\n",
       "    <tr>\n",
       "      <th>75%</th>\n",
       "      <td>59.000000</td>\n",
       "    </tr>\n",
       "    <tr>\n",
       "      <th>max</th>\n",
       "      <td>266.000000</td>\n",
       "    </tr>\n",
       "  </tbody>\n",
       "</table>\n",
       "</div>"
      ],
      "text/plain": [
       "                id\n",
       "count  1806.000000\n",
       "mean     42.110188\n",
       "std      33.122931\n",
       "min       1.000000\n",
       "25%      17.000000\n",
       "50%      34.000000\n",
       "75%      59.000000\n",
       "max     266.000000"
      ]
     },
     "execution_count": 32,
     "metadata": {},
     "output_type": "execute_result"
    }
   ],
   "source": [
    "df_messages_count = df_messages.pivot_table(index=['user_id', 'month'], values='id', aggfunc='count')\n",
    "df_messages_count.describe()"
   ]
  },
  {
   "cell_type": "code",
   "execution_count": 33,
   "metadata": {
    "scrolled": true
   },
   "outputs": [
    {
     "data": {
      "text/html": [
       "<div>\n",
       "<style scoped>\n",
       "    .dataframe tbody tr th:only-of-type {\n",
       "        vertical-align: middle;\n",
       "    }\n",
       "\n",
       "    .dataframe tbody tr th {\n",
       "        vertical-align: top;\n",
       "    }\n",
       "\n",
       "    .dataframe thead th {\n",
       "        text-align: right;\n",
       "    }\n",
       "</style>\n",
       "<table border=\"1\" class=\"dataframe\">\n",
       "  <thead>\n",
       "    <tr style=\"text-align: right;\">\n",
       "      <th></th>\n",
       "      <th></th>\n",
       "      <th>id</th>\n",
       "    </tr>\n",
       "    <tr>\n",
       "      <th>user_id</th>\n",
       "      <th>month</th>\n",
       "      <th></th>\n",
       "    </tr>\n",
       "  </thead>\n",
       "  <tbody>\n",
       "    <tr>\n",
       "      <th>1000</th>\n",
       "      <th>12</th>\n",
       "      <td>11</td>\n",
       "    </tr>\n",
       "    <tr>\n",
       "      <th rowspan=\"4\" valign=\"top\">1001</th>\n",
       "      <th>8</th>\n",
       "      <td>30</td>\n",
       "    </tr>\n",
       "    <tr>\n",
       "      <th>9</th>\n",
       "      <td>44</td>\n",
       "    </tr>\n",
       "    <tr>\n",
       "      <th>10</th>\n",
       "      <td>53</td>\n",
       "    </tr>\n",
       "    <tr>\n",
       "      <th>11</th>\n",
       "      <td>36</td>\n",
       "    </tr>\n",
       "  </tbody>\n",
       "</table>\n",
       "</div>"
      ],
      "text/plain": [
       "               id\n",
       "user_id month    \n",
       "1000    12     11\n",
       "1001    8      30\n",
       "        9      44\n",
       "        10     53\n",
       "        11     36"
      ]
     },
     "execution_count": 33,
     "metadata": {},
     "output_type": "execute_result"
    }
   ],
   "source": [
    "df_messages_count.head()"
   ]
  },
  {
   "cell_type": "markdown",
   "metadata": {},
   "source": [
    "### Volumen de datos usados mensualmente"
   ]
  },
  {
   "cell_type": "markdown",
   "metadata": {},
   "source": [
    "Como se mencionó antes, debemos  recordar que el uso de los datos también debe aproximarse. Esta vez, los datos de cada sesión se suman y ese total se aproxima al giga mayor. Para lograr esto, se hará un labor parecido al hecho con las llamadas, pero en diferente orden."
   ]
  },
  {
   "cell_type": "code",
   "execution_count": 34,
   "metadata": {},
   "outputs": [],
   "source": [
    "# Primero crearemos otra columna con el mes en el que se realizó la sesión\n",
    "df_internet['month'] = pd.DatetimeIndex(df_internet['session_date']).month"
   ]
  },
  {
   "cell_type": "code",
   "execution_count": 35,
   "metadata": {
    "scrolled": true
   },
   "outputs": [
    {
     "data": {
      "text/html": [
       "<div>\n",
       "<style scoped>\n",
       "    .dataframe tbody tr th:only-of-type {\n",
       "        vertical-align: middle;\n",
       "    }\n",
       "\n",
       "    .dataframe tbody tr th {\n",
       "        vertical-align: top;\n",
       "    }\n",
       "\n",
       "    .dataframe thead th {\n",
       "        text-align: right;\n",
       "    }\n",
       "</style>\n",
       "<table border=\"1\" class=\"dataframe\">\n",
       "  <thead>\n",
       "    <tr style=\"text-align: right;\">\n",
       "      <th></th>\n",
       "      <th>mb_used</th>\n",
       "    </tr>\n",
       "  </thead>\n",
       "  <tbody>\n",
       "    <tr>\n",
       "      <th>count</th>\n",
       "      <td>2277.000000</td>\n",
       "    </tr>\n",
       "    <tr>\n",
       "      <th>mean</th>\n",
       "      <td>16882.197501</td>\n",
       "    </tr>\n",
       "    <tr>\n",
       "      <th>std</th>\n",
       "      <td>7869.784848</td>\n",
       "    </tr>\n",
       "    <tr>\n",
       "      <th>min</th>\n",
       "      <td>92.310000</td>\n",
       "    </tr>\n",
       "    <tr>\n",
       "      <th>25%</th>\n",
       "      <td>12347.720000</td>\n",
       "    </tr>\n",
       "    <tr>\n",
       "      <th>50%</th>\n",
       "      <td>16873.740000</td>\n",
       "    </tr>\n",
       "    <tr>\n",
       "      <th>75%</th>\n",
       "      <td>21041.520000</td>\n",
       "    </tr>\n",
       "    <tr>\n",
       "      <th>max</th>\n",
       "      <td>70931.590000</td>\n",
       "    </tr>\n",
       "  </tbody>\n",
       "</table>\n",
       "</div>"
      ],
      "text/plain": [
       "            mb_used\n",
       "count   2277.000000\n",
       "mean   16882.197501\n",
       "std     7869.784848\n",
       "min       92.310000\n",
       "25%    12347.720000\n",
       "50%    16873.740000\n",
       "75%    21041.520000\n",
       "max    70931.590000"
      ]
     },
     "execution_count": 35,
     "metadata": {},
     "output_type": "execute_result"
    }
   ],
   "source": [
    "# Creamos la tabla con la cantidad de mensajes enviados por usuario mensualmente\n",
    "df_internet_count = df_internet.pivot_table(index=['user_id', 'month'], values='mb_used', aggfunc='sum')\n",
    "\n",
    "df_internet_count.describe()"
   ]
  },
  {
   "cell_type": "markdown",
   "metadata": {},
   "source": [
    "Ahora que tenemos la cantidad de datos usados mensualmente, debemos aproximarlos al giga mayor. Es importante recordar que las cantidades de datos usados están medidos en megabytes (mb). Esto quiere decir que debemos primero calcular la cantidad de gigabytes usados (gb), considerando 1gb = 1024mb."
   ]
  },
  {
   "cell_type": "code",
   "execution_count": 36,
   "metadata": {
    "scrolled": false
   },
   "outputs": [
    {
     "data": {
      "text/html": [
       "<div>\n",
       "<style scoped>\n",
       "    .dataframe tbody tr th:only-of-type {\n",
       "        vertical-align: middle;\n",
       "    }\n",
       "\n",
       "    .dataframe tbody tr th {\n",
       "        vertical-align: top;\n",
       "    }\n",
       "\n",
       "    .dataframe thead th {\n",
       "        text-align: right;\n",
       "    }\n",
       "</style>\n",
       "<table border=\"1\" class=\"dataframe\">\n",
       "  <thead>\n",
       "    <tr style=\"text-align: right;\">\n",
       "      <th></th>\n",
       "      <th></th>\n",
       "      <th>mb_used</th>\n",
       "    </tr>\n",
       "    <tr>\n",
       "      <th>user_id</th>\n",
       "      <th>month</th>\n",
       "      <th></th>\n",
       "    </tr>\n",
       "  </thead>\n",
       "  <tbody>\n",
       "    <tr>\n",
       "      <th>1000</th>\n",
       "      <th>12</th>\n",
       "      <td>1901.47</td>\n",
       "    </tr>\n",
       "    <tr>\n",
       "      <th rowspan=\"4\" valign=\"top\">1001</th>\n",
       "      <th>8</th>\n",
       "      <td>6919.15</td>\n",
       "    </tr>\n",
       "    <tr>\n",
       "      <th>9</th>\n",
       "      <td>13314.82</td>\n",
       "    </tr>\n",
       "    <tr>\n",
       "      <th>10</th>\n",
       "      <td>22330.49</td>\n",
       "    </tr>\n",
       "    <tr>\n",
       "      <th>11</th>\n",
       "      <td>18504.30</td>\n",
       "    </tr>\n",
       "  </tbody>\n",
       "</table>\n",
       "</div>"
      ],
      "text/plain": [
       "                mb_used\n",
       "user_id month          \n",
       "1000    12      1901.47\n",
       "1001    8       6919.15\n",
       "        9      13314.82\n",
       "        10     22330.49\n",
       "        11     18504.30"
      ]
     },
     "execution_count": 36,
     "metadata": {},
     "output_type": "execute_result"
    }
   ],
   "source": [
    "df_internet_count.head()"
   ]
  },
  {
   "cell_type": "code",
   "execution_count": 37,
   "metadata": {},
   "outputs": [],
   "source": [
    "# Creamos una función que nos ayudará a convertir los datos\n",
    "# Esta función convertirá los mb en gb, además de entregar el aproximado\n",
    "def gb_pay(mb_used):\n",
    "    if pd.isnull(mb_used) == False:\n",
    "        gb = mb_used/1024\n",
    "        return math.ceil(mb_used/1024)\n",
    "    else:\n",
    "        return 0"
   ]
  },
  {
   "cell_type": "code",
   "execution_count": 38,
   "metadata": {
    "scrolled": false
   },
   "outputs": [
    {
     "data": {
      "text/html": [
       "<div>\n",
       "<style scoped>\n",
       "    .dataframe tbody tr th:only-of-type {\n",
       "        vertical-align: middle;\n",
       "    }\n",
       "\n",
       "    .dataframe tbody tr th {\n",
       "        vertical-align: top;\n",
       "    }\n",
       "\n",
       "    .dataframe thead th {\n",
       "        text-align: right;\n",
       "    }\n",
       "</style>\n",
       "<table border=\"1\" class=\"dataframe\">\n",
       "  <thead>\n",
       "    <tr style=\"text-align: right;\">\n",
       "      <th></th>\n",
       "      <th></th>\n",
       "      <th>mb_used</th>\n",
       "    </tr>\n",
       "    <tr>\n",
       "      <th>user_id</th>\n",
       "      <th>month</th>\n",
       "      <th></th>\n",
       "    </tr>\n",
       "  </thead>\n",
       "  <tbody>\n",
       "    <tr>\n",
       "      <th>1000</th>\n",
       "      <th>12</th>\n",
       "      <td>2</td>\n",
       "    </tr>\n",
       "    <tr>\n",
       "      <th rowspan=\"4\" valign=\"top\">1001</th>\n",
       "      <th>8</th>\n",
       "      <td>7</td>\n",
       "    </tr>\n",
       "    <tr>\n",
       "      <th>9</th>\n",
       "      <td>14</td>\n",
       "    </tr>\n",
       "    <tr>\n",
       "      <th>10</th>\n",
       "      <td>22</td>\n",
       "    </tr>\n",
       "    <tr>\n",
       "      <th>11</th>\n",
       "      <td>19</td>\n",
       "    </tr>\n",
       "  </tbody>\n",
       "</table>\n",
       "</div>"
      ],
      "text/plain": [
       "               mb_used\n",
       "user_id month         \n",
       "1000    12           2\n",
       "1001    8            7\n",
       "        9           14\n",
       "        10          22\n",
       "        11          19"
      ]
     },
     "execution_count": 38,
     "metadata": {},
     "output_type": "execute_result"
    }
   ],
   "source": [
    "# Ahora aplicamos la función a cada columna\n",
    "for column in df_internet_count:\n",
    "    df_internet_count[column] = df_internet_count[column].apply(gb_pay)\n",
    "    \n",
    "# Veamos la tabla resultante\n",
    "df_internet_count.head()"
   ]
  },
  {
   "cell_type": "markdown",
   "metadata": {},
   "source": [
    "### Cuenta a pagar por cliente"
   ]
  },
  {
   "cell_type": "markdown",
   "metadata": {},
   "source": [
    "Ahora que contamos con toda esta información, la juntaremos para calcular el monto a pagar de cada cliente. Para esto necesitamos considerar los costos y beneficios de cada plan y los gastos extras que pueda tener cada cliente.\n",
    "\n",
    "Antes de comenzar este trabajo, necesitamos conocer los meses en los que cada cliente cuenta con un plan. Para esto trabajaremos creando 2 columnas en el Dataframe `df_users`. En estas columnas pondremos el mes de inicio y, si es que es necesario, el mes donde se termina el plan con la empresa Megaline."
   ]
  },
  {
   "cell_type": "code",
   "execution_count": 39,
   "metadata": {
    "scrolled": true
   },
   "outputs": [
    {
     "name": "stderr",
     "output_type": "stream",
     "text": [
      "C:\\Users\\tomas\\anaconda3\\lib\\site-packages\\pandas\\core\\frame.py:9190: FutureWarning: merging between different levels is deprecated and will be removed in a future version. (2 levels on the left,1 on the right)\n",
      "  return merge(\n"
     ]
    },
    {
     "data": {
      "text/html": [
       "<div>\n",
       "<style scoped>\n",
       "    .dataframe tbody tr th:only-of-type {\n",
       "        vertical-align: middle;\n",
       "    }\n",
       "\n",
       "    .dataframe tbody tr th {\n",
       "        vertical-align: top;\n",
       "    }\n",
       "\n",
       "    .dataframe thead th {\n",
       "        text-align: right;\n",
       "    }\n",
       "</style>\n",
       "<table border=\"1\" class=\"dataframe\">\n",
       "  <thead>\n",
       "    <tr style=\"text-align: right;\">\n",
       "      <th></th>\n",
       "      <th></th>\n",
       "      <th>(sum, duration_round)</th>\n",
       "      <th>(count, duration_round)</th>\n",
       "      <th>id</th>\n",
       "      <th>mb_used</th>\n",
       "    </tr>\n",
       "    <tr>\n",
       "      <th>user_id</th>\n",
       "      <th>month</th>\n",
       "      <th></th>\n",
       "      <th></th>\n",
       "      <th></th>\n",
       "      <th></th>\n",
       "    </tr>\n",
       "  </thead>\n",
       "  <tbody>\n",
       "    <tr>\n",
       "      <th>1000</th>\n",
       "      <th>12</th>\n",
       "      <td>124.0</td>\n",
       "      <td>16.0</td>\n",
       "      <td>11.0</td>\n",
       "      <td>2.0</td>\n",
       "    </tr>\n",
       "    <tr>\n",
       "      <th rowspan=\"5\" valign=\"top\">1001</th>\n",
       "      <th>8</th>\n",
       "      <td>182.0</td>\n",
       "      <td>22.0</td>\n",
       "      <td>30.0</td>\n",
       "      <td>7.0</td>\n",
       "    </tr>\n",
       "    <tr>\n",
       "      <th>9</th>\n",
       "      <td>315.0</td>\n",
       "      <td>38.0</td>\n",
       "      <td>44.0</td>\n",
       "      <td>14.0</td>\n",
       "    </tr>\n",
       "    <tr>\n",
       "      <th>10</th>\n",
       "      <td>393.0</td>\n",
       "      <td>47.0</td>\n",
       "      <td>53.0</td>\n",
       "      <td>22.0</td>\n",
       "    </tr>\n",
       "    <tr>\n",
       "      <th>11</th>\n",
       "      <td>426.0</td>\n",
       "      <td>49.0</td>\n",
       "      <td>36.0</td>\n",
       "      <td>19.0</td>\n",
       "    </tr>\n",
       "    <tr>\n",
       "      <th>12</th>\n",
       "      <td>412.0</td>\n",
       "      <td>46.0</td>\n",
       "      <td>44.0</td>\n",
       "      <td>19.0</td>\n",
       "    </tr>\n",
       "    <tr>\n",
       "      <th rowspan=\"3\" valign=\"top\">1002</th>\n",
       "      <th>10</th>\n",
       "      <td>59.0</td>\n",
       "      <td>8.0</td>\n",
       "      <td>15.0</td>\n",
       "      <td>7.0</td>\n",
       "    </tr>\n",
       "    <tr>\n",
       "      <th>11</th>\n",
       "      <td>386.0</td>\n",
       "      <td>48.0</td>\n",
       "      <td>32.0</td>\n",
       "      <td>19.0</td>\n",
       "    </tr>\n",
       "    <tr>\n",
       "      <th>12</th>\n",
       "      <td>384.0</td>\n",
       "      <td>38.0</td>\n",
       "      <td>41.0</td>\n",
       "      <td>15.0</td>\n",
       "    </tr>\n",
       "    <tr>\n",
       "      <th>1003</th>\n",
       "      <th>12</th>\n",
       "      <td>1104.0</td>\n",
       "      <td>118.0</td>\n",
       "      <td>50.0</td>\n",
       "      <td>27.0</td>\n",
       "    </tr>\n",
       "  </tbody>\n",
       "</table>\n",
       "</div>"
      ],
      "text/plain": [
       "               (sum, duration_round)  (count, duration_round)    id  mb_used\n",
       "user_id month                                                               \n",
       "1000    12                     124.0                     16.0  11.0      2.0\n",
       "1001    8                      182.0                     22.0  30.0      7.0\n",
       "        9                      315.0                     38.0  44.0     14.0\n",
       "        10                     393.0                     47.0  53.0     22.0\n",
       "        11                     426.0                     49.0  36.0     19.0\n",
       "        12                     412.0                     46.0  44.0     19.0\n",
       "1002    10                      59.0                      8.0  15.0      7.0\n",
       "        11                     386.0                     48.0  32.0     19.0\n",
       "        12                     384.0                     38.0  41.0     15.0\n",
       "1003    12                    1104.0                    118.0  50.0     27.0"
      ]
     },
     "execution_count": 39,
     "metadata": {},
     "output_type": "execute_result"
    }
   ],
   "source": [
    "# Primero juntaremos todos los datos\n",
    "df_pay = df_calls_info.merge(df_messages_count, how='outer', on=['user_id', 'month'])\n",
    "df_pay = df_pay.merge(df_internet_count, how='outer', on=['user_id', 'month'])\n",
    "\n",
    "# Veamos como queda la tabla\n",
    "df_pay.head(10)"
   ]
  },
  {
   "cell_type": "code",
   "execution_count": 40,
   "metadata": {},
   "outputs": [
    {
     "data": {
      "text/plain": [
       "Index(['call_duration', 'call_count', 'messages', 'gb_used'], dtype='object')"
      ]
     },
     "execution_count": 40,
     "metadata": {},
     "output_type": "execute_result"
    }
   ],
   "source": [
    "# Cambiemos los nombres de las columnas para ahorrarnos problemas y confusiones\n",
    "df_pay.rename(columns={'id':'messages', 'mb_used':'gb_used',\n",
    "                      ('sum', 'duration_round'):'call_duration',\n",
    "                      ('count', 'duration_round'):'call_count'},inplace=True)\n",
    "df_pay.columns"
   ]
  },
  {
   "cell_type": "markdown",
   "metadata": {},
   "source": [
    "Ahora que contamos con toda la información agrupada, calculemos las cuentas a pagar cada mes, pero antes separaremos a los clientes en 2 grupos según su plan."
   ]
  },
  {
   "cell_type": "code",
   "execution_count": 41,
   "metadata": {},
   "outputs": [
    {
     "data": {
      "text/html": [
       "<div>\n",
       "<style scoped>\n",
       "    .dataframe tbody tr th:only-of-type {\n",
       "        vertical-align: middle;\n",
       "    }\n",
       "\n",
       "    .dataframe tbody tr th {\n",
       "        vertical-align: top;\n",
       "    }\n",
       "\n",
       "    .dataframe thead th {\n",
       "        text-align: right;\n",
       "    }\n",
       "</style>\n",
       "<table border=\"1\" class=\"dataframe\">\n",
       "  <thead>\n",
       "    <tr style=\"text-align: right;\">\n",
       "      <th></th>\n",
       "      <th>user_id</th>\n",
       "      <th>first_name</th>\n",
       "      <th>last_name</th>\n",
       "      <th>age</th>\n",
       "      <th>city</th>\n",
       "      <th>reg_date</th>\n",
       "      <th>plan</th>\n",
       "      <th>churn_date</th>\n",
       "    </tr>\n",
       "  </thead>\n",
       "  <tbody>\n",
       "    <tr>\n",
       "      <th>0</th>\n",
       "      <td>1000</td>\n",
       "      <td>Anamaria</td>\n",
       "      <td>Bauer</td>\n",
       "      <td>45</td>\n",
       "      <td>Atlanta-Sandy Springs-Roswell, GA MSA</td>\n",
       "      <td>2018-12-24</td>\n",
       "      <td>ultimate</td>\n",
       "      <td>NaT</td>\n",
       "    </tr>\n",
       "    <tr>\n",
       "      <th>1</th>\n",
       "      <td>1001</td>\n",
       "      <td>Mickey</td>\n",
       "      <td>Wilkerson</td>\n",
       "      <td>28</td>\n",
       "      <td>Seattle-Tacoma-Bellevue, WA MSA</td>\n",
       "      <td>2018-08-13</td>\n",
       "      <td>surf</td>\n",
       "      <td>NaT</td>\n",
       "    </tr>\n",
       "    <tr>\n",
       "      <th>2</th>\n",
       "      <td>1002</td>\n",
       "      <td>Carlee</td>\n",
       "      <td>Hoffman</td>\n",
       "      <td>36</td>\n",
       "      <td>Las Vegas-Henderson-Paradise, NV MSA</td>\n",
       "      <td>2018-10-21</td>\n",
       "      <td>surf</td>\n",
       "      <td>NaT</td>\n",
       "    </tr>\n",
       "    <tr>\n",
       "      <th>3</th>\n",
       "      <td>1003</td>\n",
       "      <td>Reynaldo</td>\n",
       "      <td>Jenkins</td>\n",
       "      <td>52</td>\n",
       "      <td>Tulsa, OK MSA</td>\n",
       "      <td>2018-01-28</td>\n",
       "      <td>surf</td>\n",
       "      <td>NaT</td>\n",
       "    </tr>\n",
       "    <tr>\n",
       "      <th>4</th>\n",
       "      <td>1004</td>\n",
       "      <td>Leonila</td>\n",
       "      <td>Thompson</td>\n",
       "      <td>40</td>\n",
       "      <td>Seattle-Tacoma-Bellevue, WA MSA</td>\n",
       "      <td>2018-05-23</td>\n",
       "      <td>surf</td>\n",
       "      <td>NaT</td>\n",
       "    </tr>\n",
       "  </tbody>\n",
       "</table>\n",
       "</div>"
      ],
      "text/plain": [
       "   user_id first_name  last_name  age                                   city  \\\n",
       "0     1000   Anamaria      Bauer   45  Atlanta-Sandy Springs-Roswell, GA MSA   \n",
       "1     1001     Mickey  Wilkerson   28        Seattle-Tacoma-Bellevue, WA MSA   \n",
       "2     1002     Carlee    Hoffman   36   Las Vegas-Henderson-Paradise, NV MSA   \n",
       "3     1003   Reynaldo    Jenkins   52                          Tulsa, OK MSA   \n",
       "4     1004    Leonila   Thompson   40        Seattle-Tacoma-Bellevue, WA MSA   \n",
       "\n",
       "    reg_date      plan churn_date  \n",
       "0 2018-12-24  ultimate        NaT  \n",
       "1 2018-08-13      surf        NaT  \n",
       "2 2018-10-21      surf        NaT  \n",
       "3 2018-01-28      surf        NaT  \n",
       "4 2018-05-23      surf        NaT  "
      ]
     },
     "execution_count": 41,
     "metadata": {},
     "output_type": "execute_result"
    }
   ],
   "source": [
    "# Veamos la tabla de usuarios\n",
    "df_users.head()"
   ]
  },
  {
   "cell_type": "code",
   "execution_count": 42,
   "metadata": {},
   "outputs": [],
   "source": [
    "# Aquí tenemos todos los usuarios surf\n",
    "surf_users = df_users[df_users['plan']=='surf']['user_id']\n",
    "\n",
    "# Aquí tenemos todos los usuarios surf\n",
    "ultimate_users = df_users[df_users['plan']=='ultimate']['user_id']"
   ]
  },
  {
   "cell_type": "code",
   "execution_count": 43,
   "metadata": {},
   "outputs": [
    {
     "data": {
      "text/html": [
       "<div>\n",
       "<style scoped>\n",
       "    .dataframe tbody tr th:only-of-type {\n",
       "        vertical-align: middle;\n",
       "    }\n",
       "\n",
       "    .dataframe tbody tr th {\n",
       "        vertical-align: top;\n",
       "    }\n",
       "\n",
       "    .dataframe thead th {\n",
       "        text-align: right;\n",
       "    }\n",
       "</style>\n",
       "<table border=\"1\" class=\"dataframe\">\n",
       "  <thead>\n",
       "    <tr style=\"text-align: right;\">\n",
       "      <th></th>\n",
       "      <th></th>\n",
       "      <th>call_duration</th>\n",
       "      <th>call_count</th>\n",
       "      <th>messages</th>\n",
       "      <th>gb_used</th>\n",
       "    </tr>\n",
       "    <tr>\n",
       "      <th>user_id</th>\n",
       "      <th>month</th>\n",
       "      <th></th>\n",
       "      <th></th>\n",
       "      <th></th>\n",
       "      <th></th>\n",
       "    </tr>\n",
       "  </thead>\n",
       "  <tbody>\n",
       "    <tr>\n",
       "      <th rowspan=\"5\" valign=\"top\">1001</th>\n",
       "      <th>8</th>\n",
       "      <td>182.0</td>\n",
       "      <td>22.0</td>\n",
       "      <td>30.0</td>\n",
       "      <td>7.0</td>\n",
       "    </tr>\n",
       "    <tr>\n",
       "      <th>9</th>\n",
       "      <td>315.0</td>\n",
       "      <td>38.0</td>\n",
       "      <td>44.0</td>\n",
       "      <td>14.0</td>\n",
       "    </tr>\n",
       "    <tr>\n",
       "      <th>10</th>\n",
       "      <td>393.0</td>\n",
       "      <td>47.0</td>\n",
       "      <td>53.0</td>\n",
       "      <td>22.0</td>\n",
       "    </tr>\n",
       "    <tr>\n",
       "      <th>11</th>\n",
       "      <td>426.0</td>\n",
       "      <td>49.0</td>\n",
       "      <td>36.0</td>\n",
       "      <td>19.0</td>\n",
       "    </tr>\n",
       "    <tr>\n",
       "      <th>12</th>\n",
       "      <td>412.0</td>\n",
       "      <td>46.0</td>\n",
       "      <td>44.0</td>\n",
       "      <td>19.0</td>\n",
       "    </tr>\n",
       "  </tbody>\n",
       "</table>\n",
       "</div>"
      ],
      "text/plain": [
       "               call_duration  call_count  messages  gb_used\n",
       "user_id month                                              \n",
       "1001    8              182.0        22.0      30.0      7.0\n",
       "        9              315.0        38.0      44.0     14.0\n",
       "        10             393.0        47.0      53.0     22.0\n",
       "        11             426.0        49.0      36.0     19.0\n",
       "        12             412.0        46.0      44.0     19.0"
      ]
     },
     "execution_count": 43,
     "metadata": {},
     "output_type": "execute_result"
    }
   ],
   "source": [
    "# Separamos a los usuarios con plan surf\n",
    "df_pay_surf = df_pay.query(\"user_id in @surf_users\")\n",
    "df_pay_surf.head()"
   ]
  },
  {
   "cell_type": "code",
   "execution_count": 44,
   "metadata": {
    "scrolled": false
   },
   "outputs": [
    {
     "data": {
      "text/html": [
       "<div>\n",
       "<style scoped>\n",
       "    .dataframe tbody tr th:only-of-type {\n",
       "        vertical-align: middle;\n",
       "    }\n",
       "\n",
       "    .dataframe tbody tr th {\n",
       "        vertical-align: top;\n",
       "    }\n",
       "\n",
       "    .dataframe thead th {\n",
       "        text-align: right;\n",
       "    }\n",
       "</style>\n",
       "<table border=\"1\" class=\"dataframe\">\n",
       "  <thead>\n",
       "    <tr style=\"text-align: right;\">\n",
       "      <th></th>\n",
       "      <th></th>\n",
       "      <th>call_duration</th>\n",
       "      <th>call_count</th>\n",
       "      <th>messages</th>\n",
       "      <th>gb_used</th>\n",
       "    </tr>\n",
       "    <tr>\n",
       "      <th>user_id</th>\n",
       "      <th>month</th>\n",
       "      <th></th>\n",
       "      <th></th>\n",
       "      <th></th>\n",
       "      <th></th>\n",
       "    </tr>\n",
       "  </thead>\n",
       "  <tbody>\n",
       "    <tr>\n",
       "      <th>1000</th>\n",
       "      <th>12</th>\n",
       "      <td>124.0</td>\n",
       "      <td>16.0</td>\n",
       "      <td>11.0</td>\n",
       "      <td>2.0</td>\n",
       "    </tr>\n",
       "    <tr>\n",
       "      <th rowspan=\"2\" valign=\"top\">1006</th>\n",
       "      <th>11</th>\n",
       "      <td>10.0</td>\n",
       "      <td>2.0</td>\n",
       "      <td>15.0</td>\n",
       "      <td>3.0</td>\n",
       "    </tr>\n",
       "    <tr>\n",
       "      <th>12</th>\n",
       "      <td>59.0</td>\n",
       "      <td>7.0</td>\n",
       "      <td>139.0</td>\n",
       "      <td>32.0</td>\n",
       "    </tr>\n",
       "    <tr>\n",
       "      <th rowspan=\"2\" valign=\"top\">1008</th>\n",
       "      <th>10</th>\n",
       "      <td>476.0</td>\n",
       "      <td>54.0</td>\n",
       "      <td>21.0</td>\n",
       "      <td>17.0</td>\n",
       "    </tr>\n",
       "    <tr>\n",
       "      <th>11</th>\n",
       "      <td>446.0</td>\n",
       "      <td>50.0</td>\n",
       "      <td>37.0</td>\n",
       "      <td>24.0</td>\n",
       "    </tr>\n",
       "  </tbody>\n",
       "</table>\n",
       "</div>"
      ],
      "text/plain": [
       "               call_duration  call_count  messages  gb_used\n",
       "user_id month                                              \n",
       "1000    12             124.0        16.0      11.0      2.0\n",
       "1006    11              10.0         2.0      15.0      3.0\n",
       "        12              59.0         7.0     139.0     32.0\n",
       "1008    10             476.0        54.0      21.0     17.0\n",
       "        11             446.0        50.0      37.0     24.0"
      ]
     },
     "execution_count": 44,
     "metadata": {},
     "output_type": "execute_result"
    }
   ],
   "source": [
    "# Separamos a los usuarios con plan ultimate\n",
    "df_pay_ultimate = df_pay.query(\"user_id in @ultimate_users\")\n",
    "df_pay_ultimate.head()"
   ]
  },
  {
   "cell_type": "code",
   "execution_count": 45,
   "metadata": {
    "scrolled": false
   },
   "outputs": [
    {
     "data": {
      "text/html": [
       "<div>\n",
       "<style scoped>\n",
       "    .dataframe tbody tr th:only-of-type {\n",
       "        vertical-align: middle;\n",
       "    }\n",
       "\n",
       "    .dataframe tbody tr th {\n",
       "        vertical-align: top;\n",
       "    }\n",
       "\n",
       "    .dataframe thead th {\n",
       "        text-align: right;\n",
       "    }\n",
       "</style>\n",
       "<table border=\"1\" class=\"dataframe\">\n",
       "  <thead>\n",
       "    <tr style=\"text-align: right;\">\n",
       "      <th></th>\n",
       "      <th>messages_included</th>\n",
       "      <th>mb_per_month_included</th>\n",
       "      <th>minutes_included</th>\n",
       "      <th>usd_monthly_pay</th>\n",
       "      <th>usd_per_gb</th>\n",
       "      <th>usd_per_message</th>\n",
       "      <th>usd_per_minute</th>\n",
       "      <th>plan_name</th>\n",
       "    </tr>\n",
       "  </thead>\n",
       "  <tbody>\n",
       "    <tr>\n",
       "      <th>0</th>\n",
       "      <td>50</td>\n",
       "      <td>15360</td>\n",
       "      <td>500</td>\n",
       "      <td>20</td>\n",
       "      <td>10</td>\n",
       "      <td>0.03</td>\n",
       "      <td>0.03</td>\n",
       "      <td>surf</td>\n",
       "    </tr>\n",
       "    <tr>\n",
       "      <th>1</th>\n",
       "      <td>1000</td>\n",
       "      <td>30720</td>\n",
       "      <td>3000</td>\n",
       "      <td>70</td>\n",
       "      <td>7</td>\n",
       "      <td>0.01</td>\n",
       "      <td>0.01</td>\n",
       "      <td>ultimate</td>\n",
       "    </tr>\n",
       "  </tbody>\n",
       "</table>\n",
       "</div>"
      ],
      "text/plain": [
       "   messages_included  mb_per_month_included  minutes_included  \\\n",
       "0                 50                  15360               500   \n",
       "1               1000                  30720              3000   \n",
       "\n",
       "   usd_monthly_pay  usd_per_gb  usd_per_message  usd_per_minute plan_name  \n",
       "0               20          10             0.03            0.03      surf  \n",
       "1               70           7             0.01            0.01  ultimate  "
      ]
     },
     "execution_count": 45,
     "metadata": {},
     "output_type": "execute_result"
    }
   ],
   "source": [
    "# Veamos la tabla de los planes para ver la información de cada uno\n",
    "df_plans"
   ]
  },
  {
   "cell_type": "code",
   "execution_count": 46,
   "metadata": {},
   "outputs": [],
   "source": [
    "# Ahora creamos la funcion con la que calcularemos los pagos mensuales de cada cliente surf\n",
    "def surf_pay(month):\n",
    "    pay=0\n",
    "    if month['call_duration']>500:\n",
    "        pay += (month['call_duration']-500)*0.03\n",
    "    else:\n",
    "        pay += 0\n",
    "    \n",
    "    if month['messages']>50:\n",
    "        pay += (month['messages']-50)*0.03\n",
    "    else:\n",
    "        pay += 0\n",
    "    \n",
    "    if month['gb_used']>15:\n",
    "        pay += (month['gb_used']-15)*10\n",
    "    else:\n",
    "        pay += 0\n",
    "    \n",
    "    return pay+20"
   ]
  },
  {
   "cell_type": "code",
   "execution_count": 47,
   "metadata": {},
   "outputs": [
    {
     "name": "stderr",
     "output_type": "stream",
     "text": [
      "C:\\Users\\tomas\\AppData\\Local\\Temp/ipykernel_17088/1144950882.py:2: SettingWithCopyWarning: \n",
      "A value is trying to be set on a copy of a slice from a DataFrame.\n",
      "Try using .loc[row_indexer,col_indexer] = value instead\n",
      "\n",
      "See the caveats in the documentation: https://pandas.pydata.org/pandas-docs/stable/user_guide/indexing.html#returning-a-view-versus-a-copy\n",
      "  df_pay_surf['pay'] = df_pay_surf.apply(surf_pay, axis=1)\n"
     ]
    },
    {
     "data": {
      "text/html": [
       "<div>\n",
       "<style scoped>\n",
       "    .dataframe tbody tr th:only-of-type {\n",
       "        vertical-align: middle;\n",
       "    }\n",
       "\n",
       "    .dataframe tbody tr th {\n",
       "        vertical-align: top;\n",
       "    }\n",
       "\n",
       "    .dataframe thead th {\n",
       "        text-align: right;\n",
       "    }\n",
       "</style>\n",
       "<table border=\"1\" class=\"dataframe\">\n",
       "  <thead>\n",
       "    <tr style=\"text-align: right;\">\n",
       "      <th></th>\n",
       "      <th></th>\n",
       "      <th>call_duration</th>\n",
       "      <th>call_count</th>\n",
       "      <th>messages</th>\n",
       "      <th>gb_used</th>\n",
       "      <th>pay</th>\n",
       "    </tr>\n",
       "    <tr>\n",
       "      <th>user_id</th>\n",
       "      <th>month</th>\n",
       "      <th></th>\n",
       "      <th></th>\n",
       "      <th></th>\n",
       "      <th></th>\n",
       "      <th></th>\n",
       "    </tr>\n",
       "  </thead>\n",
       "  <tbody>\n",
       "    <tr>\n",
       "      <th rowspan=\"5\" valign=\"top\">1001</th>\n",
       "      <th>8</th>\n",
       "      <td>182.0</td>\n",
       "      <td>22.0</td>\n",
       "      <td>30.0</td>\n",
       "      <td>7.0</td>\n",
       "      <td>20.00</td>\n",
       "    </tr>\n",
       "    <tr>\n",
       "      <th>9</th>\n",
       "      <td>315.0</td>\n",
       "      <td>38.0</td>\n",
       "      <td>44.0</td>\n",
       "      <td>14.0</td>\n",
       "      <td>20.00</td>\n",
       "    </tr>\n",
       "    <tr>\n",
       "      <th>10</th>\n",
       "      <td>393.0</td>\n",
       "      <td>47.0</td>\n",
       "      <td>53.0</td>\n",
       "      <td>22.0</td>\n",
       "      <td>90.09</td>\n",
       "    </tr>\n",
       "    <tr>\n",
       "      <th>11</th>\n",
       "      <td>426.0</td>\n",
       "      <td>49.0</td>\n",
       "      <td>36.0</td>\n",
       "      <td>19.0</td>\n",
       "      <td>60.00</td>\n",
       "    </tr>\n",
       "    <tr>\n",
       "      <th>12</th>\n",
       "      <td>412.0</td>\n",
       "      <td>46.0</td>\n",
       "      <td>44.0</td>\n",
       "      <td>19.0</td>\n",
       "      <td>60.00</td>\n",
       "    </tr>\n",
       "  </tbody>\n",
       "</table>\n",
       "</div>"
      ],
      "text/plain": [
       "               call_duration  call_count  messages  gb_used    pay\n",
       "user_id month                                                     \n",
       "1001    8              182.0        22.0      30.0      7.0  20.00\n",
       "        9              315.0        38.0      44.0     14.0  20.00\n",
       "        10             393.0        47.0      53.0     22.0  90.09\n",
       "        11             426.0        49.0      36.0     19.0  60.00\n",
       "        12             412.0        46.0      44.0     19.0  60.00"
      ]
     },
     "execution_count": 47,
     "metadata": {},
     "output_type": "execute_result"
    }
   ],
   "source": [
    "# Apliquemosla a los clientes con plan surf\n",
    "df_pay_surf['pay'] = df_pay_surf.apply(surf_pay, axis=1)\n",
    "df_pay_surf.head()"
   ]
  },
  {
   "cell_type": "code",
   "execution_count": 48,
   "metadata": {},
   "outputs": [],
   "source": [
    "# Ahora creamos la funcion con la que calcularemos los pagos mensuales de cada cliente ultimate\n",
    "def ultimate_pay(month):\n",
    "    pay=0\n",
    "    if month['call_duration']>3000:\n",
    "        pay += (month['call_duration']-3000)*0.01\n",
    "    else:\n",
    "        pay += 0\n",
    "    \n",
    "    if month['messages']>1000:\n",
    "        pay += (month['messages']-1000)*0.01\n",
    "    else:\n",
    "        pay += 0\n",
    "    \n",
    "    if month['gb_used']>30:\n",
    "        pay += (month['gb_used']-30)*7\n",
    "    else:\n",
    "        pay += 0\n",
    "    \n",
    "    return pay+70"
   ]
  },
  {
   "cell_type": "code",
   "execution_count": 49,
   "metadata": {},
   "outputs": [
    {
     "name": "stderr",
     "output_type": "stream",
     "text": [
      "/opt/conda/lib/python3.9/site-packages/pandas/core/indexing.py:1597: SettingWithCopyWarning: \n",
      "A value is trying to be set on a copy of a slice from a DataFrame.\n",
      "Try using .loc[row_indexer,col_indexer] = value instead\n",
      "\n",
      "See the caveats in the documentation: https://pandas.pydata.org/pandas-docs/stable/user_guide/indexing.html#returning-a-view-versus-a-copy\n",
      "  self.obj[key] = value\n",
      "/opt/conda/lib/python3.9/site-packages/pandas/core/indexing.py:1676: SettingWithCopyWarning: \n",
      "A value is trying to be set on a copy of a slice from a DataFrame.\n",
      "Try using .loc[row_indexer,col_indexer] = value instead\n",
      "\n",
      "See the caveats in the documentation: https://pandas.pydata.org/pandas-docs/stable/user_guide/indexing.html#returning-a-view-versus-a-copy\n",
      "  self._setitem_single_column(ilocs[0], value, pi)\n"
     ]
    },
    {
     "data": {
      "text/html": [
       "<div>\n",
       "<style scoped>\n",
       "    .dataframe tbody tr th:only-of-type {\n",
       "        vertical-align: middle;\n",
       "    }\n",
       "\n",
       "    .dataframe tbody tr th {\n",
       "        vertical-align: top;\n",
       "    }\n",
       "\n",
       "    .dataframe thead th {\n",
       "        text-align: right;\n",
       "    }\n",
       "</style>\n",
       "<table border=\"1\" class=\"dataframe\">\n",
       "  <thead>\n",
       "    <tr style=\"text-align: right;\">\n",
       "      <th></th>\n",
       "      <th></th>\n",
       "      <th>call_duration</th>\n",
       "      <th>call_count</th>\n",
       "      <th>messages</th>\n",
       "      <th>gb_used</th>\n",
       "      <th>pay</th>\n",
       "    </tr>\n",
       "    <tr>\n",
       "      <th>user_id</th>\n",
       "      <th>month</th>\n",
       "      <th></th>\n",
       "      <th></th>\n",
       "      <th></th>\n",
       "      <th></th>\n",
       "      <th></th>\n",
       "    </tr>\n",
       "  </thead>\n",
       "  <tbody>\n",
       "    <tr>\n",
       "      <th>1000</th>\n",
       "      <th>12</th>\n",
       "      <td>124.0</td>\n",
       "      <td>16.0</td>\n",
       "      <td>11.0</td>\n",
       "      <td>2.0</td>\n",
       "      <td>70.0</td>\n",
       "    </tr>\n",
       "    <tr>\n",
       "      <th rowspan=\"2\" valign=\"top\">1006</th>\n",
       "      <th>11</th>\n",
       "      <td>10.0</td>\n",
       "      <td>2.0</td>\n",
       "      <td>15.0</td>\n",
       "      <td>3.0</td>\n",
       "      <td>70.0</td>\n",
       "    </tr>\n",
       "    <tr>\n",
       "      <th>12</th>\n",
       "      <td>59.0</td>\n",
       "      <td>7.0</td>\n",
       "      <td>139.0</td>\n",
       "      <td>32.0</td>\n",
       "      <td>84.0</td>\n",
       "    </tr>\n",
       "    <tr>\n",
       "      <th rowspan=\"2\" valign=\"top\">1008</th>\n",
       "      <th>10</th>\n",
       "      <td>476.0</td>\n",
       "      <td>54.0</td>\n",
       "      <td>21.0</td>\n",
       "      <td>17.0</td>\n",
       "      <td>70.0</td>\n",
       "    </tr>\n",
       "    <tr>\n",
       "      <th>11</th>\n",
       "      <td>446.0</td>\n",
       "      <td>50.0</td>\n",
       "      <td>37.0</td>\n",
       "      <td>24.0</td>\n",
       "      <td>70.0</td>\n",
       "    </tr>\n",
       "  </tbody>\n",
       "</table>\n",
       "</div>"
      ],
      "text/plain": [
       "               call_duration  call_count  messages  gb_used   pay\n",
       "user_id month                                                    \n",
       "1000    12             124.0        16.0      11.0      2.0  70.0\n",
       "1006    11              10.0         2.0      15.0      3.0  70.0\n",
       "        12              59.0         7.0     139.0     32.0  84.0\n",
       "1008    10             476.0        54.0      21.0     17.0  70.0\n",
       "        11             446.0        50.0      37.0     24.0  70.0"
      ]
     },
     "execution_count": 49,
     "metadata": {},
     "output_type": "execute_result"
    }
   ],
   "source": [
    "# Apliquemosla a los clientes con plan ultimate\n",
    "df_pay_ultimate.loc[:,'pay'] = df_pay_ultimate.apply(ultimate_pay, axis=1)\n",
    "df_pay_ultimate.head()"
   ]
  },
  {
   "cell_type": "markdown",
   "metadata": {},
   "source": [
    "Aunque nos aparece una advertencia, contamos con las cuentas de todos los clientes y divididos por plan."
   ]
  },
  {
   "cell_type": "markdown",
   "metadata": {},
   "source": [
    "# Análisis de la información"
   ]
  },
  {
   "cell_type": "markdown",
   "metadata": {},
   "source": [
    "## Ingresos totales"
   ]
  },
  {
   "cell_type": "markdown",
   "metadata": {},
   "source": [
    "Antes de analizar, veamos los ingresos totales generados por cada plan."
   ]
  },
  {
   "cell_type": "code",
   "execution_count": 50,
   "metadata": {},
   "outputs": [
    {
     "name": "stdout",
     "output_type": "stream",
     "text": [
      "Ingresos totales para el plan surf: 95491.18 $\n",
      "\n",
      "\n",
      "Ingresos totales para el plan ultimate: 52066.0 $\n"
     ]
    }
   ],
   "source": [
    "print('Ingresos totales para el plan surf:', round(sum(df_pay_surf['pay']), 2), '$')\n",
    "print()\n",
    "print()\n",
    "print('Ingresos totales para el plan ultimate:', sum(df_pay_ultimate['pay']), '$')"
   ]
  },
  {
   "cell_type": "markdown",
   "metadata": {},
   "source": [
    "El plan surf ha traído casi el doble de ingresos que el plan ultimate. Veamos más información de cada tipo de cliente, fijemonos en la cantidad de clientes por plan."
   ]
  },
  {
   "cell_type": "markdown",
   "metadata": {},
   "source": [
    "## Media y medidas de posición"
   ]
  },
  {
   "cell_type": "code",
   "execution_count": 51,
   "metadata": {
    "scrolled": true
   },
   "outputs": [
    {
     "data": {
      "text/html": [
       "<div>\n",
       "<style scoped>\n",
       "    .dataframe tbody tr th:only-of-type {\n",
       "        vertical-align: middle;\n",
       "    }\n",
       "\n",
       "    .dataframe tbody tr th {\n",
       "        vertical-align: top;\n",
       "    }\n",
       "\n",
       "    .dataframe thead th {\n",
       "        text-align: right;\n",
       "    }\n",
       "</style>\n",
       "<table border=\"1\" class=\"dataframe\">\n",
       "  <thead>\n",
       "    <tr style=\"text-align: right;\">\n",
       "      <th></th>\n",
       "      <th>call_duration</th>\n",
       "      <th>call_count</th>\n",
       "      <th>messages</th>\n",
       "      <th>gb_used</th>\n",
       "      <th>pay</th>\n",
       "    </tr>\n",
       "  </thead>\n",
       "  <tbody>\n",
       "    <tr>\n",
       "      <th>count</th>\n",
       "      <td>1544.000000</td>\n",
       "      <td>1544.000000</td>\n",
       "      <td>1222.000000</td>\n",
       "      <td>1558.000000</td>\n",
       "      <td>1573.000000</td>\n",
       "    </tr>\n",
       "    <tr>\n",
       "      <th>mean</th>\n",
       "      <td>436.802461</td>\n",
       "      <td>49.143135</td>\n",
       "      <td>40.109656</td>\n",
       "      <td>16.831194</td>\n",
       "      <td>60.706408</td>\n",
       "    </tr>\n",
       "    <tr>\n",
       "      <th>std</th>\n",
       "      <td>229.088544</td>\n",
       "      <td>25.304258</td>\n",
       "      <td>33.035500</td>\n",
       "      <td>7.711922</td>\n",
       "      <td>55.388042</td>\n",
       "    </tr>\n",
       "    <tr>\n",
       "      <th>min</th>\n",
       "      <td>2.000000</td>\n",
       "      <td>1.000000</td>\n",
       "      <td>1.000000</td>\n",
       "      <td>1.000000</td>\n",
       "      <td>20.000000</td>\n",
       "    </tr>\n",
       "    <tr>\n",
       "      <th>25%</th>\n",
       "      <td>279.000000</td>\n",
       "      <td>32.000000</td>\n",
       "      <td>16.000000</td>\n",
       "      <td>12.000000</td>\n",
       "      <td>20.000000</td>\n",
       "    </tr>\n",
       "    <tr>\n",
       "      <th>50%</th>\n",
       "      <td>430.000000</td>\n",
       "      <td>48.000000</td>\n",
       "      <td>32.000000</td>\n",
       "      <td>17.000000</td>\n",
       "      <td>40.360000</td>\n",
       "    </tr>\n",
       "    <tr>\n",
       "      <th>75%</th>\n",
       "      <td>579.000000</td>\n",
       "      <td>65.000000</td>\n",
       "      <td>54.000000</td>\n",
       "      <td>21.000000</td>\n",
       "      <td>80.360000</td>\n",
       "    </tr>\n",
       "    <tr>\n",
       "      <th>max</th>\n",
       "      <td>1510.000000</td>\n",
       "      <td>167.000000</td>\n",
       "      <td>266.000000</td>\n",
       "      <td>70.000000</td>\n",
       "      <td>590.370000</td>\n",
       "    </tr>\n",
       "  </tbody>\n",
       "</table>\n",
       "</div>"
      ],
      "text/plain": [
       "       call_duration   call_count     messages      gb_used          pay\n",
       "count    1544.000000  1544.000000  1222.000000  1558.000000  1573.000000\n",
       "mean      436.802461    49.143135    40.109656    16.831194    60.706408\n",
       "std       229.088544    25.304258    33.035500     7.711922    55.388042\n",
       "min         2.000000     1.000000     1.000000     1.000000    20.000000\n",
       "25%       279.000000    32.000000    16.000000    12.000000    20.000000\n",
       "50%       430.000000    48.000000    32.000000    17.000000    40.360000\n",
       "75%       579.000000    65.000000    54.000000    21.000000    80.360000\n",
       "max      1510.000000   167.000000   266.000000    70.000000   590.370000"
      ]
     },
     "execution_count": 51,
     "metadata": {},
     "output_type": "execute_result"
    }
   ],
   "source": [
    "# Datos plan surf\n",
    "df_pay_surf.describe()"
   ]
  },
  {
   "cell_type": "code",
   "execution_count": 52,
   "metadata": {
    "scrolled": true
   },
   "outputs": [
    {
     "data": {
      "text/plain": [
       "3067.835152293878"
      ]
     },
     "execution_count": 52,
     "metadata": {},
     "output_type": "execute_result"
    }
   ],
   "source": [
    "# Conozcamos la varianza\n",
    "df_pay_surf['pay'].var()"
   ]
  },
  {
   "cell_type": "code",
   "execution_count": 53,
   "metadata": {},
   "outputs": [
    {
     "data": {
      "text/plain": [
       "pay\n",
       "20.00     0.273999\n",
       "50.00     0.031151\n",
       "40.00     0.029879\n",
       "80.00     0.029243\n",
       "60.00     0.027972\n",
       "            ...   \n",
       "47.52     0.000636\n",
       "47.59     0.000636\n",
       "48.91     0.000636\n",
       "49.06     0.000636\n",
       "590.37    0.000636\n",
       "Length: 661, dtype: float64"
      ]
     },
     "execution_count": 53,
     "metadata": {},
     "output_type": "execute_result"
    }
   ],
   "source": [
    "# Veamos cuanto se repiten los valores\n",
    "df_pay_surf.value_counts('pay', normalize=True)"
   ]
  },
  {
   "cell_type": "code",
   "execution_count": 54,
   "metadata": {
    "scrolled": true
   },
   "outputs": [
    {
     "data": {
      "text/html": [
       "<div>\n",
       "<style scoped>\n",
       "    .dataframe tbody tr th:only-of-type {\n",
       "        vertical-align: middle;\n",
       "    }\n",
       "\n",
       "    .dataframe tbody tr th {\n",
       "        vertical-align: top;\n",
       "    }\n",
       "\n",
       "    .dataframe thead th {\n",
       "        text-align: right;\n",
       "    }\n",
       "</style>\n",
       "<table border=\"1\" class=\"dataframe\">\n",
       "  <thead>\n",
       "    <tr style=\"text-align: right;\">\n",
       "      <th></th>\n",
       "      <th>call_duration</th>\n",
       "      <th>call_count</th>\n",
       "      <th>messages</th>\n",
       "      <th>gb_used</th>\n",
       "      <th>pay</th>\n",
       "    </tr>\n",
       "  </thead>\n",
       "  <tbody>\n",
       "    <tr>\n",
       "      <th>count</th>\n",
       "      <td>712.000000</td>\n",
       "      <td>712.000000</td>\n",
       "      <td>584.000000</td>\n",
       "      <td>719.000000</td>\n",
       "      <td>720.000000</td>\n",
       "    </tr>\n",
       "    <tr>\n",
       "      <th>mean</th>\n",
       "      <td>435.286517</td>\n",
       "      <td>49.191011</td>\n",
       "      <td>46.296233</td>\n",
       "      <td>17.331015</td>\n",
       "      <td>72.313889</td>\n",
       "    </tr>\n",
       "    <tr>\n",
       "      <th>std</th>\n",
       "      <td>237.459650</td>\n",
       "      <td>26.457567</td>\n",
       "      <td>32.942118</td>\n",
       "      <td>7.648185</td>\n",
       "      <td>11.395108</td>\n",
       "    </tr>\n",
       "    <tr>\n",
       "      <th>min</th>\n",
       "      <td>10.000000</td>\n",
       "      <td>2.000000</td>\n",
       "      <td>1.000000</td>\n",
       "      <td>1.000000</td>\n",
       "      <td>70.000000</td>\n",
       "    </tr>\n",
       "    <tr>\n",
       "      <th>25%</th>\n",
       "      <td>263.000000</td>\n",
       "      <td>30.000000</td>\n",
       "      <td>21.000000</td>\n",
       "      <td>13.000000</td>\n",
       "      <td>70.000000</td>\n",
       "    </tr>\n",
       "    <tr>\n",
       "      <th>50%</th>\n",
       "      <td>425.500000</td>\n",
       "      <td>48.000000</td>\n",
       "      <td>41.000000</td>\n",
       "      <td>17.000000</td>\n",
       "      <td>70.000000</td>\n",
       "    </tr>\n",
       "    <tr>\n",
       "      <th>75%</th>\n",
       "      <td>566.000000</td>\n",
       "      <td>64.000000</td>\n",
       "      <td>66.000000</td>\n",
       "      <td>21.000000</td>\n",
       "      <td>70.000000</td>\n",
       "    </tr>\n",
       "    <tr>\n",
       "      <th>max</th>\n",
       "      <td>1369.000000</td>\n",
       "      <td>156.000000</td>\n",
       "      <td>166.000000</td>\n",
       "      <td>46.000000</td>\n",
       "      <td>182.000000</td>\n",
       "    </tr>\n",
       "  </tbody>\n",
       "</table>\n",
       "</div>"
      ],
      "text/plain": [
       "       call_duration  call_count    messages     gb_used         pay\n",
       "count     712.000000  712.000000  584.000000  719.000000  720.000000\n",
       "mean      435.286517   49.191011   46.296233   17.331015   72.313889\n",
       "std       237.459650   26.457567   32.942118    7.648185   11.395108\n",
       "min        10.000000    2.000000    1.000000    1.000000   70.000000\n",
       "25%       263.000000   30.000000   21.000000   13.000000   70.000000\n",
       "50%       425.500000   48.000000   41.000000   17.000000   70.000000\n",
       "75%       566.000000   64.000000   66.000000   21.000000   70.000000\n",
       "max      1369.000000  156.000000  166.000000   46.000000  182.000000"
      ]
     },
     "execution_count": 54,
     "metadata": {},
     "output_type": "execute_result"
    }
   ],
   "source": [
    "# Datos plan ultimate\n",
    "df_pay_ultimate.describe()"
   ]
  },
  {
   "cell_type": "code",
   "execution_count": 55,
   "metadata": {
    "scrolled": true
   },
   "outputs": [
    {
     "data": {
      "text/plain": [
       "129.8484855509195"
      ]
     },
     "execution_count": 55,
     "metadata": {},
     "output_type": "execute_result"
    }
   ],
   "source": [
    "# Conozcamos la varianza\n",
    "df_pay_ultimate['pay'].var()"
   ]
  },
  {
   "cell_type": "code",
   "execution_count": 56,
   "metadata": {},
   "outputs": [
    {
     "data": {
      "text/plain": [
       "pay\n",
       "70.0     0.943056\n",
       "91.0     0.008333\n",
       "126.0    0.008333\n",
       "77.0     0.006944\n",
       "112.0    0.006944\n",
       "84.0     0.005556\n",
       "105.0    0.005556\n",
       "119.0    0.005556\n",
       "182.0    0.002778\n",
       "98.0     0.001389\n",
       "133.0    0.001389\n",
       "140.0    0.001389\n",
       "154.0    0.001389\n",
       "168.0    0.001389\n",
       "dtype: float64"
      ]
     },
     "execution_count": 56,
     "metadata": {},
     "output_type": "execute_result"
    }
   ],
   "source": [
    "# Veamos cuanto se repiten los valores\n",
    "df_pay_ultimate.value_counts('pay', normalize=True)"
   ]
  },
  {
   "cell_type": "markdown",
   "metadata": {},
   "source": [
    "De estas tablas podemos extraer mucha información. Como vimos antes, el plan surf ha traído casi el doble de ingresos y también cuenta con más del doble de clientes que el plan ultimate, también podemos ver que la cuenta más alta es de surf con casi 600 dolares.\n",
    "\n",
    "Si nos fijamos, podemos ver que los promedios de minutos gastados, llamadas hechas, mensajes enviados y datos utilizados son muy similares para ambos grupos de clientes. Las desviaciones estandar entre estos datos también son muy parecidos. Con esto podemos concluir que cada cliente, independiente del plan que tenga, se comportará de la siguiente manera:\n",
    "- Usará 435-437 minutos\n",
    "- Realizará 49 llamadas\n",
    "- Enviará 40-46 mensajes\n",
    "- Necesita 17 gigas de datos\n",
    "\n",
    "Donde encontramos las mayores diferencias es al momento de pagar. El plan ultimate suele tener cuentas bastante constantes, con el 94% de sus clientes pagando solo el costo de su plan cada mes, 70 usd. En cambio, los clientes del plan surf suelen pagar cantidades muy diferentes cada mes. Con una media de 60 usd y una desviación estandar de 55 usd, cada cuenta será probablemente diferente. En este plan, solo el 27% de las veces los clientes se han mantenido dentro de los rangos de su plan. Para ver de mejor manera esta diferencia, en la siguiente sección revisaremos los histogramas de los pagos hechos para cada plan."
   ]
  },
  {
   "cell_type": "markdown",
   "metadata": {},
   "source": [
    "## Histogramas"
   ]
  },
  {
   "cell_type": "code",
   "execution_count": 57,
   "metadata": {
    "scrolled": true
   },
   "outputs": [
    {
     "data": {
      "image/png": "[encoded data removed]",
      "text/plain": [
       "<Figure size 1080x504 with 1 Axes>"
      ]
     },
     "metadata": {
      "needs_background": "light"
     },
     "output_type": "display_data"
    }
   ],
   "source": [
    "df_pay_surf['pay'].hist(bins=20, figsize=(15,7))\n",
    "plt.show()"
   ]
  },
  {
   "cell_type": "markdown",
   "metadata": {},
   "source": [
    "Tenemos algunos valores muy altos, que no nos permiten ver claramente los datos. Realicemos un enfoque en las cuentas de menos de 200 dolares."
   ]
  },
  {
   "cell_type": "code",
   "execution_count": 58,
   "metadata": {
    "scrolled": false
   },
   "outputs": [
    {
     "data": {
      "image/png": "[encoded data removed]",
      "text/plain": [
       "<Figure size 1080x504 with 1 Axes>"
      ]
     },
     "metadata": {
      "needs_background": "light"
     },
     "output_type": "display_data"
    }
   ],
   "source": [
    "df_pay_surf[df_pay_surf['pay']<=200]['pay'].hist(bins=40, figsize=(15,7))\n",
    "plt.yticks(range(0,601,50))\n",
    "plt.show()"
   ]
  },
  {
   "cell_type": "markdown",
   "metadata": {},
   "source": [
    "Pasa algo interesante cuando hacemos que las divisiones calcen con los costos de datos extras. Podemos ver que la mayoría de aumentos a pagar en las cuentas, se debe a los datos extras que se usan. Veremos si este comportamiento se repite para el plan ultimate."
   ]
  },
  {
   "cell_type": "code",
   "execution_count": 59,
   "metadata": {
    "scrolled": false
   },
   "outputs": [
    {
     "data": {
      "image/png": "[encoded data removed]",
      "text/plain": [
       "<Figure size 1080x504 with 1 Axes>"
      ]
     },
     "metadata": {
      "needs_background": "light"
     },
     "output_type": "display_data"
    }
   ],
   "source": [
    "df_pay_ultimate['pay'].hist(bins=20, figsize=(15,7))\n",
    "plt.show()"
   ]
  },
  {
   "cell_type": "markdown",
   "metadata": {},
   "source": [
    "En esta caso no ganamos nada acortando el rango, pues sabemos que un 94% de los datos se encuentra en 70 dolares. En cambio nos fijaremos en toda la extensión, pero con un mayor detalle en las cantidades de cuentas, eje y."
   ]
  },
  {
   "cell_type": "code",
   "execution_count": 60,
   "metadata": {
    "scrolled": false
   },
   "outputs": [
    {
     "data": {
      "image/png": "[encoded data removed]",
      "text/plain": [
       "<Figure size 1080x504 with 1 Axes>"
      ]
     },
     "metadata": {
      "needs_background": "light"
     },
     "output_type": "display_data"
    }
   ],
   "source": [
    "df_pay_ultimate['pay'].hist(bins=26, figsize=(15,7))\n",
    "plt.ylim(0,50)\n",
    "plt.yticks(np.arange(0,51,5))\n",
    "plt.show()"
   ]
  },
  {
   "cell_type": "markdown",
   "metadata": {},
   "source": [
    "Se pueden ver aumentos graduales y sabemos que la única causa de costos extra para estos clientes son los datos usados. Tal vez si más clientes se pasaran en sus datos, podríamos ver la misma distribución que los clientes del plan surf, pero solo 6% de cuentas han tenido costos extras."
   ]
  },
  {
   "cell_type": "markdown",
   "metadata": {},
   "source": [
    "# Prueba de hipótesis "
   ]
  },
  {
   "cell_type": "markdown",
   "metadata": {},
   "source": [
    "Ahora que conocemos y hemos trabajado con la información brindada por Megaline, revisemos las hipótesis presentadas.\n",
    "\n",
    "Para esto fijaremos alpha en 5%. En la primera hipótesis consideraremos las muestras individuales, por ser de planes diferentes, cada uno con su comportamiento. En la segunda hipótesis, consideraremos que las muestras están relacionadas, pues estamos tomando un grupo de clientes y comparandolos con el resto."
   ]
  },
  {
   "cell_type": "code",
   "execution_count": 61,
   "metadata": {},
   "outputs": [],
   "source": [
    "# Fijamos el valor de alpha\n",
    "alpha = 0.05"
   ]
  },
  {
   "cell_type": "markdown",
   "metadata": {},
   "source": [
    "## Hipótesis 1"
   ]
  },
  {
   "cell_type": "markdown",
   "metadata": {},
   "source": [
    "1. El ingreso promedio de los usuarios de las tarifas Ultimate y Surf difiere.\n"
   ]
  },
  {
   "cell_type": "code",
   "execution_count": 62,
   "metadata": {},
   "outputs": [
    {
     "name": "stdout",
     "output_type": "stream",
     "text": [
      "p-value: 2.862674510698644e-08\n",
      "Rechazamos la hipótesis nula, los ingresos promedio son diferentes.\n"
     ]
    }
   ],
   "source": [
    "# Fijamos las muestras\n",
    "sample1 = df_pay_surf['pay']\n",
    "sample2 = df_pay_ultimate['pay']\n",
    "\n",
    "# Realizamos el test\n",
    "results = st.ttest_ind(sample1, sample2)\n",
    "\n",
    "# Vemos el resultado\n",
    "print('p-value:', results.pvalue)\n",
    "\n",
    "if results.pvalue < alpha:\n",
    "    print('Rechazamos la hipótesis nula, los ingresos promedio son diferentes.')\n",
    "else:\n",
    "    print('No rechazamos la hipótesis nula, los ingresos promedio son iguales.')"
   ]
  },
  {
   "cell_type": "markdown",
   "metadata": {},
   "source": [
    "Como era de esperarse, los ingresos promedio entre los clientes surf y ultimate es diferente."
   ]
  },
  {
   "cell_type": "markdown",
   "metadata": {},
   "source": [
    "## Hipótesis 2"
   ]
  },
  {
   "cell_type": "markdown",
   "metadata": {},
   "source": [
    "2. El ingreso promedio de los usuarios en el área de estados Nueva York-Nueva Jersey es diferente al de los usuarios de otras regiones.\n",
    "\n",
    "Antes de revisar esta hipótesis, necesitamos hacer un poco de trabajo. Primero revisaremos que usuarios son de Nueva York-Nueva Jersey. Luego agruparemos todos los usuarios y los volveremos a dividir según su area. Finalmente, podremos realizar el ttest_ind para verificar la hipótesis."
   ]
  },
  {
   "cell_type": "code",
   "execution_count": 63,
   "metadata": {},
   "outputs": [],
   "source": [
    "# Aquí tenemos todos los usuarios del área de estados Nueva York-Nueva Jersey\n",
    "ny_nj_users = df_users[df_users['city']=='New York-Newark-Jersey City, NY-NJ-PA MSA']['user_id']"
   ]
  },
  {
   "cell_type": "code",
   "execution_count": 64,
   "metadata": {},
   "outputs": [],
   "source": [
    "# Agrupamos a todos los usuarios\n",
    "df_pay_full = df_pay_surf.append(df_pay_ultimate)"
   ]
  },
  {
   "cell_type": "code",
   "execution_count": 65,
   "metadata": {},
   "outputs": [],
   "source": [
    "# Volvemos a separar a los clientes, esta vez según su área\n",
    "df_pay_ny_nj = df_pay_full.query(\"user_id in @ny_nj_users\")\n",
    "df_pay_not_ny_nj = df_pay_full.query(\"not (user_id in @ny_nj_users)\")"
   ]
  },
  {
   "cell_type": "markdown",
   "metadata": {},
   "source": [
    "Ahora que contamos con las 2 muestras en las que aplicaremos nuestro testeo, podemos continuar."
   ]
  },
  {
   "cell_type": "code",
   "execution_count": 66,
   "metadata": {},
   "outputs": [
    {
     "name": "stdout",
     "output_type": "stream",
     "text": [
      "p-value: 0.043557431621342436\n",
      "Rechazamos la hipótesis nula, los ingresos promedio son diferentes.\n"
     ]
    }
   ],
   "source": [
    "# Fijamos las muestras\n",
    "sample1 = df_pay_ny_nj['pay']\n",
    "sample2 = df_pay_not_ny_nj['pay']\n",
    "\n",
    "# Realizamos el test\n",
    "results = st.ttest_ind(sample1, sample2)\n",
    "\n",
    "# Vemos el resultado\n",
    "print('p-value:', results.pvalue)\n",
    "\n",
    "if results.pvalue < alpha:\n",
    "    print('Rechazamos la hipótesis nula, los ingresos promedio son diferentes.')\n",
    "else:\n",
    "    print('No rechazamos la hipótesis nula, los ingresos promedio son iguales.')"
   ]
  },
  {
   "cell_type": "markdown",
   "metadata": {},
   "source": [
    "# Conclusión general"
   ]
  },
  {
   "cell_type": "markdown",
   "metadata": {},
   "source": [
    "Durante este proyecto analizamos las informaciones de 500 clientes de Megaline. Estos clientes se dividen en 2 planes: Surf y Ultimate. Nuestro objetivo es concluir cual de estos planes genera mayores ingresos para que el departamente de publicidad ajuste su presupuesto para la siguiente temporada.\n",
    "\n",
    "Comenzamos nuestro trabajo familiarizándonos con los datos e informaciones. Estas venian inicialmente en 5 Dataframes diferentes. Antes de comenzar a trabajar sobre estos Dataframes, necesitamos corregir los diversos errores que pueden tener. El mayor problema encontrado fue el formato de las fechas, lo cuál es un error muy común que se origina en como se ingresan los datos. Luego de resolverlo rápidamente, nos fijamos que contabamos con una gran cantidad de llamadas perdidas. Cómo estas no tienen efecto alguno sobre los ingresos mensuales, decidimos eliminarlas para limpiar nuestros Dataframes de información innecesaria.\n",
    "\n",
    "En este momento, ya contamos con información revisada y confiable, por lo que empezamos a extraer y resumir información de los diferentes Dataframes. En la sección 3.3 conocimos los minutos usados, cantidad de llamadas realizadas, mensajes enviados y datos utilizados mensualmente por cada cliente. Con esta nueva información, y luego de dividir a los clientes según el plan que tienen contratado, calculamos los montos a pagar de cada cliente en cada mes que tienen el servicio de Megaline contratado.\n",
    "\n",
    "Ahora con la información de los ingresos, comenzamos el análisis de los planes. Esto se hizo en 3 fases:\n",
    "1. Considerando los ingresos totales por cada plan, lo cuál nos mostró que casi 2/3 de los ingresos corresponden a los pagos realizados por los clientes del plan surf.\n",
    "2. Realizando un análisis estádistico y las medidas de posición de cada plan, esto nos dió a conocer que la mayoría de los clientes surf tienen costos extras mensualmente, solo el 27% de las veces se mantienen dentro los límites de su plan. Frente al 94% de las cuentas ultimate que logran mantenerse dentro de los límites de este plan. También pudimos ver que poco más de 2/3 de los clientes corresponden al plan surf.\n",
    "3. Revisamos los histogramas de ambos clientes, lo que nos brindó el conocimiento de que la gran mayoría de los costos extras se deben al uso de datos fuera de los límites de los planes.\n",
    "\n",
    "Finalmente comprobamos que los promedios de ingresos de cada plan son diferentes, lo cual era de esperarse con el trabajo anterior.\n",
    "\n",
    "Se concluye que la mayoría de los ingresos se debe a los clientes del plan **surf**, sobre todo considerando que estos clientes son muy probables a pasarse de los límites de su plan, incurriendo en costos extras. Aunque este plan tiene un costo de 20 usd, sus clientes suelen pagar 60 usd en promedio cada mes. Considerando que solo el 6% de las cuentas del plan ultimate tienen costos extras y que la cuenta más alta es del plan surf (590 usd!) resulta claro que: **los mayores ingresos para Megaline se deben a los clientes del plan surf.**"
   ]
  }
 ],
 "metadata": {
  "ExecuteTimeLog": [
   {
    "duration": 1334,
    "start_time": "2022-06-25T14:51:28.800Z"
   },
   {
    "duration": 868,
    "start_time": "2022-06-25T14:51:30.135Z"
   },
   {
    "duration": 21,
    "start_time": "2022-06-25T14:51:31.004Z"
   },
   {
    "duration": 14,
    "start_time": "2022-06-25T14:51:31.030Z"
   },
   {
    "duration": 52,
    "start_time": "2022-06-25T14:51:31.047Z"
   },
   {
    "duration": 40,
    "start_time": "2022-06-25T14:51:31.101Z"
   },
   {
    "duration": 41,
    "start_time": "2022-06-25T14:51:31.142Z"
   },
   {
    "duration": 37,
    "start_time": "2022-06-25T14:51:31.185Z"
   },
   {
    "duration": 36,
    "start_time": "2022-06-25T14:51:31.224Z"
   },
   {
    "duration": 54,
    "start_time": "2022-06-25T14:51:31.261Z"
   },
   {
    "duration": 26,
    "start_time": "2022-06-25T14:51:31.317Z"
   },
   {
    "duration": 37,
    "start_time": "2022-06-25T14:51:31.345Z"
   },
   {
    "duration": 17,
    "start_time": "2022-06-25T14:51:31.384Z"
   },
   {
    "duration": 24,
    "start_time": "2022-06-25T14:51:31.405Z"
   },
   {
    "duration": 6,
    "start_time": "2022-06-25T14:51:31.430Z"
   },
   {
    "duration": 23176,
    "start_time": "2022-06-25T14:51:31.437Z"
   },
   {
    "duration": 16,
    "start_time": "2022-06-25T14:51:54.615Z"
   },
   {
    "duration": 48,
    "start_time": "2022-06-25T14:51:54.633Z"
   },
   {
    "duration": 257,
    "start_time": "2022-06-25T14:51:54.689Z"
   },
   {
    "duration": 10,
    "start_time": "2022-06-25T14:51:54.948Z"
   },
   {
    "duration": 34,
    "start_time": "2022-06-25T14:51:54.960Z"
   },
   {
    "duration": 235,
    "start_time": "2022-06-25T14:51:54.995Z"
   },
   {
    "duration": 206,
    "start_time": "2022-06-25T14:51:55.232Z"
   },
   {
    "duration": 250,
    "start_time": "2022-06-25T14:51:55.439Z"
   },
   {
    "duration": 17,
    "start_time": "2022-06-25T14:51:55.692Z"
   },
   {
    "duration": 11,
    "start_time": "2022-06-25T14:51:55.711Z"
   },
   {
    "duration": 82,
    "start_time": "2022-06-25T14:51:55.724Z"
   },
   {
    "duration": 20,
    "start_time": "2022-06-25T14:51:55.808Z"
   },
   {
    "duration": 125,
    "start_time": "2022-06-25T14:51:55.830Z"
   },
   {
    "duration": 28,
    "start_time": "2022-06-25T14:51:55.957Z"
   },
   {
    "duration": 13,
    "start_time": "2022-06-25T14:51:55.987Z"
   },
   {
    "duration": 37,
    "start_time": "2022-06-25T14:51:56.002Z"
   },
   {
    "duration": 9,
    "start_time": "2022-06-25T14:51:56.041Z"
   },
   {
    "duration": 29,
    "start_time": "2022-06-25T14:51:56.052Z"
   },
   {
    "duration": 40,
    "start_time": "2022-06-25T14:51:56.083Z"
   },
   {
    "duration": 10,
    "start_time": "2022-06-25T14:51:56.125Z"
   },
   {
    "duration": 10,
    "start_time": "2022-06-25T14:51:56.137Z"
   },
   {
    "duration": 28,
    "start_time": "2022-06-25T14:51:56.148Z"
   },
   {
    "duration": 32,
    "start_time": "2022-06-25T14:51:56.181Z"
   },
   {
    "duration": 5,
    "start_time": "2022-06-25T14:51:56.215Z"
   },
   {
    "duration": 13,
    "start_time": "2022-06-25T14:51:56.224Z"
   },
   {
    "duration": 9,
    "start_time": "2022-06-25T14:51:56.239Z"
   },
   {
    "duration": 31,
    "start_time": "2022-06-25T14:51:56.250Z"
   },
   {
    "duration": 15,
    "start_time": "2022-06-25T14:51:56.283Z"
   },
   {
    "duration": 12,
    "start_time": "2022-06-25T14:51:56.300Z"
   },
   {
    "duration": 5,
    "start_time": "2022-06-25T14:51:56.313Z"
   },
   {
    "duration": 68,
    "start_time": "2022-06-25T14:51:56.319Z"
   },
   {
    "duration": 5,
    "start_time": "2022-06-25T14:51:56.390Z"
   },
   {
    "duration": 27,
    "start_time": "2022-06-25T14:51:56.397Z"
   },
   {
    "duration": 6,
    "start_time": "2022-06-25T14:51:56.427Z"
   },
   {
    "duration": 54,
    "start_time": "2022-06-25T14:51:56.435Z"
   },
   {
    "duration": 5,
    "start_time": "2022-06-25T14:51:56.491Z"
   },
   {
    "duration": 12,
    "start_time": "2022-06-25T14:51:56.498Z"
   },
   {
    "duration": 22,
    "start_time": "2022-06-25T14:51:56.512Z"
   },
   {
    "duration": 5,
    "start_time": "2022-06-25T14:51:56.536Z"
   },
   {
    "duration": 33,
    "start_time": "2022-06-25T14:51:56.543Z"
   },
   {
    "duration": 218,
    "start_time": "2022-06-25T14:51:56.577Z"
   },
   {
    "duration": 225,
    "start_time": "2022-06-25T14:51:56.796Z"
   },
   {
    "duration": 185,
    "start_time": "2022-06-25T14:51:57.023Z"
   },
   {
    "duration": 206,
    "start_time": "2022-06-25T14:51:57.209Z"
   },
   {
    "duration": 3,
    "start_time": "2022-06-25T14:51:57.416Z"
   },
   {
    "duration": 7,
    "start_time": "2022-06-25T14:51:57.421Z"
   },
   {
    "duration": 8,
    "start_time": "2022-06-25T14:51:57.429Z"
   },
   {
    "duration": 6,
    "start_time": "2022-06-25T14:51:57.439Z"
   },
   {
    "duration": 16,
    "start_time": "2022-06-25T14:51:57.466Z"
   },
   {
    "duration": 20,
    "start_time": "2022-06-25T14:51:57.484Z"
   },
   {
    "duration": 14,
    "start_time": "2022-06-25T15:11:12.299Z"
   },
   {
    "duration": 1113,
    "start_time": "2022-06-25T15:30:04.093Z"
   },
   {
    "duration": 293,
    "start_time": "2022-06-25T15:30:05.208Z"
   },
   {
    "duration": 19,
    "start_time": "2022-06-25T15:30:05.503Z"
   },
   {
    "duration": 11,
    "start_time": "2022-06-25T15:30:05.524Z"
   },
   {
    "duration": 16,
    "start_time": "2022-06-25T15:30:05.537Z"
   },
   {
    "duration": 10,
    "start_time": "2022-06-25T15:30:05.555Z"
   },
   {
    "duration": 45,
    "start_time": "2022-06-25T15:30:05.572Z"
   },
   {
    "duration": 15,
    "start_time": "2022-06-25T15:30:05.619Z"
   },
   {
    "duration": 14,
    "start_time": "2022-06-25T15:30:05.635Z"
   },
   {
    "duration": 9,
    "start_time": "2022-06-25T15:30:05.653Z"
   },
   {
    "duration": 32,
    "start_time": "2022-06-25T15:30:05.664Z"
   },
   {
    "duration": 12,
    "start_time": "2022-06-25T15:30:05.698Z"
   },
   {
    "duration": 10,
    "start_time": "2022-06-25T15:30:05.712Z"
   },
   {
    "duration": 19,
    "start_time": "2022-06-25T15:30:05.723Z"
   },
   {
    "duration": 3,
    "start_time": "2022-06-25T15:30:05.744Z"
   },
   {
    "duration": 22654,
    "start_time": "2022-06-25T15:30:05.748Z"
   },
   {
    "duration": 19,
    "start_time": "2022-06-25T15:30:28.404Z"
   },
   {
    "duration": 14,
    "start_time": "2022-06-25T15:30:28.425Z"
   },
   {
    "duration": 286,
    "start_time": "2022-06-25T15:30:28.441Z"
   },
   {
    "duration": 9,
    "start_time": "2022-06-25T15:30:28.729Z"
   },
   {
    "duration": 40,
    "start_time": "2022-06-25T15:30:28.740Z"
   },
   {
    "duration": 262,
    "start_time": "2022-06-25T15:30:28.782Z"
   },
   {
    "duration": 234,
    "start_time": "2022-06-25T15:30:29.046Z"
   },
   {
    "duration": 201,
    "start_time": "2022-06-25T15:30:29.282Z"
   },
   {
    "duration": 14,
    "start_time": "2022-06-25T15:30:29.485Z"
   },
   {
    "duration": 10,
    "start_time": "2022-06-25T15:30:29.501Z"
   },
   {
    "duration": 87,
    "start_time": "2022-06-25T15:30:29.513Z"
   },
   {
    "duration": 22,
    "start_time": "2022-06-25T15:30:29.607Z"
   },
   {
    "duration": 113,
    "start_time": "2022-06-25T15:30:29.631Z"
   },
   {
    "duration": 30,
    "start_time": "2022-06-25T15:30:29.746Z"
   },
   {
    "duration": 13,
    "start_time": "2022-06-25T15:30:29.779Z"
   },
   {
    "duration": 28,
    "start_time": "2022-06-25T15:30:29.794Z"
   },
   {
    "duration": 7,
    "start_time": "2022-06-25T15:30:29.823Z"
   },
   {
    "duration": 24,
    "start_time": "2022-06-25T15:30:29.832Z"
   },
   {
    "duration": 29,
    "start_time": "2022-06-25T15:30:29.877Z"
   },
   {
    "duration": 8,
    "start_time": "2022-06-25T15:30:29.908Z"
   },
   {
    "duration": 6,
    "start_time": "2022-06-25T15:30:29.918Z"
   },
   {
    "duration": 15,
    "start_time": "2022-06-25T15:30:29.926Z"
   },
   {
    "duration": 45,
    "start_time": "2022-06-25T15:30:29.942Z"
   },
   {
    "duration": 5,
    "start_time": "2022-06-25T15:30:29.989Z"
   },
   {
    "duration": 15,
    "start_time": "2022-06-25T15:30:29.995Z"
   },
   {
    "duration": 13,
    "start_time": "2022-06-25T15:30:30.011Z"
   },
   {
    "duration": 17,
    "start_time": "2022-06-25T15:30:30.026Z"
   },
   {
    "duration": 32,
    "start_time": "2022-06-25T15:30:30.045Z"
   },
   {
    "duration": 11,
    "start_time": "2022-06-25T15:30:30.078Z"
   },
   {
    "duration": 21,
    "start_time": "2022-06-25T15:30:30.091Z"
   },
   {
    "duration": 44,
    "start_time": "2022-06-25T15:30:30.114Z"
   },
   {
    "duration": 17,
    "start_time": "2022-06-25T15:30:30.160Z"
   },
   {
    "duration": 35,
    "start_time": "2022-06-25T15:30:30.179Z"
   },
   {
    "duration": 5,
    "start_time": "2022-06-25T15:30:30.216Z"
   },
   {
    "duration": 27,
    "start_time": "2022-06-25T15:30:30.223Z"
   },
   {
    "duration": 5,
    "start_time": "2022-06-25T15:30:30.251Z"
   },
   {
    "duration": 8,
    "start_time": "2022-06-25T15:30:30.277Z"
   },
   {
    "duration": 25,
    "start_time": "2022-06-25T15:30:30.287Z"
   },
   {
    "duration": 5,
    "start_time": "2022-06-25T15:30:30.313Z"
   },
   {
    "duration": 10,
    "start_time": "2022-06-25T15:30:30.320Z"
   },
   {
    "duration": 205,
    "start_time": "2022-06-25T15:30:30.332Z"
   },
   {
    "duration": 243,
    "start_time": "2022-06-25T15:30:30.539Z"
   },
   {
    "duration": 180,
    "start_time": "2022-06-25T15:30:30.784Z"
   },
   {
    "duration": 214,
    "start_time": "2022-06-25T15:30:30.967Z"
   },
   {
    "duration": 5,
    "start_time": "2022-06-25T15:30:31.183Z"
   },
   {
    "duration": 23,
    "start_time": "2022-06-25T15:30:31.189Z"
   },
   {
    "duration": 16,
    "start_time": "2022-06-25T15:30:31.214Z"
   },
   {
    "duration": 25,
    "start_time": "2022-06-25T15:30:31.231Z"
   },
   {
    "duration": 32,
    "start_time": "2022-06-25T15:30:31.258Z"
   },
   {
    "duration": 13,
    "start_time": "2022-06-25T15:30:31.292Z"
   },
   {
    "duration": 15,
    "start_time": "2022-06-25T15:31:05.033Z"
   },
   {
    "duration": 4,
    "start_time": "2022-06-25T15:58:49.805Z"
   },
   {
    "duration": 436,
    "start_time": "2022-06-25T15:58:49.812Z"
   },
   {
    "duration": 35,
    "start_time": "2022-06-25T15:58:50.250Z"
   },
   {
    "duration": 43,
    "start_time": "2022-06-25T15:58:50.287Z"
   },
   {
    "duration": 52,
    "start_time": "2022-06-25T15:58:50.333Z"
   },
   {
    "duration": 55,
    "start_time": "2022-06-25T15:58:50.388Z"
   },
   {
    "duration": 33,
    "start_time": "2022-06-25T15:58:50.445Z"
   },
   {
    "duration": 31,
    "start_time": "2022-06-25T15:58:50.488Z"
   },
   {
    "duration": 42,
    "start_time": "2022-06-25T15:58:50.522Z"
   },
   {
    "duration": 50,
    "start_time": "2022-06-25T15:58:50.566Z"
   },
   {
    "duration": 13,
    "start_time": "2022-06-25T15:58:50.618Z"
   },
   {
    "duration": 18,
    "start_time": "2022-06-25T15:58:50.633Z"
   },
   {
    "duration": 23,
    "start_time": "2022-06-25T15:58:50.653Z"
   },
   {
    "duration": 67,
    "start_time": "2022-06-25T15:58:50.678Z"
   },
   {
    "duration": 5,
    "start_time": "2022-06-25T15:58:50.747Z"
   },
   {
    "duration": 29556,
    "start_time": "2022-06-25T15:58:50.754Z"
   },
   {
    "duration": 15,
    "start_time": "2022-06-25T15:59:20.312Z"
   },
   {
    "duration": 32,
    "start_time": "2022-06-25T15:59:20.329Z"
   },
   {
    "duration": 339,
    "start_time": "2022-06-25T15:59:20.363Z"
   },
   {
    "duration": 10,
    "start_time": "2022-06-25T15:59:20.705Z"
   },
   {
    "duration": 76,
    "start_time": "2022-06-25T15:59:20.717Z"
   },
   {
    "duration": 252,
    "start_time": "2022-06-25T15:59:20.795Z"
   },
   {
    "duration": 215,
    "start_time": "2022-06-25T15:59:21.049Z"
   },
   {
    "duration": 186,
    "start_time": "2022-06-25T15:59:21.271Z"
   },
   {
    "duration": 33,
    "start_time": "2022-06-25T15:59:21.459Z"
   },
   {
    "duration": 23,
    "start_time": "2022-06-25T15:59:21.494Z"
   },
   {
    "duration": 78,
    "start_time": "2022-06-25T15:59:21.519Z"
   },
   {
    "duration": 25,
    "start_time": "2022-06-25T15:59:21.599Z"
   },
   {
    "duration": 76,
    "start_time": "2022-06-25T15:59:21.625Z"
   },
   {
    "duration": 8,
    "start_time": "2022-06-25T15:59:21.702Z"
   },
   {
    "duration": 30,
    "start_time": "2022-06-25T15:59:21.712Z"
   },
   {
    "duration": 50,
    "start_time": "2022-06-25T15:59:21.744Z"
   },
   {
    "duration": 20,
    "start_time": "2022-06-25T15:59:21.797Z"
   },
   {
    "duration": 36,
    "start_time": "2022-06-25T15:59:21.820Z"
   },
   {
    "duration": 52,
    "start_time": "2022-06-25T15:59:21.858Z"
   },
   {
    "duration": 10,
    "start_time": "2022-06-25T15:59:21.912Z"
   },
   {
    "duration": 21,
    "start_time": "2022-06-25T15:59:21.925Z"
   },
   {
    "duration": 27,
    "start_time": "2022-06-25T15:59:21.948Z"
   },
   {
    "duration": 52,
    "start_time": "2022-06-25T15:59:21.980Z"
   },
   {
    "duration": 12,
    "start_time": "2022-06-25T16:00:11.189Z"
   },
   {
    "duration": 1096,
    "start_time": "2022-06-25T16:00:45.710Z"
   },
   {
    "duration": 303,
    "start_time": "2022-06-25T16:00:46.808Z"
   },
   {
    "duration": 29,
    "start_time": "2022-06-25T16:00:47.113Z"
   },
   {
    "duration": 13,
    "start_time": "2022-06-25T16:00:47.145Z"
   },
   {
    "duration": 25,
    "start_time": "2022-06-25T16:00:47.160Z"
   },
   {
    "duration": 32,
    "start_time": "2022-06-25T16:00:47.188Z"
   },
   {
    "duration": 16,
    "start_time": "2022-06-25T16:00:47.222Z"
   },
   {
    "duration": 7,
    "start_time": "2022-06-25T16:00:47.240Z"
   },
   {
    "duration": 13,
    "start_time": "2022-06-25T16:00:47.249Z"
   },
   {
    "duration": 34,
    "start_time": "2022-06-25T16:00:47.273Z"
   },
   {
    "duration": 27,
    "start_time": "2022-06-25T16:00:47.310Z"
   },
   {
    "duration": 16,
    "start_time": "2022-06-25T16:00:47.340Z"
   },
   {
    "duration": 60,
    "start_time": "2022-06-25T16:00:47.359Z"
   },
   {
    "duration": 43,
    "start_time": "2022-06-25T16:00:47.421Z"
   },
   {
    "duration": 3,
    "start_time": "2022-06-25T16:00:47.467Z"
   },
   {
    "duration": 26180,
    "start_time": "2022-06-25T16:00:47.473Z"
   },
   {
    "duration": 31,
    "start_time": "2022-06-25T16:01:13.655Z"
   },
   {
    "duration": 32,
    "start_time": "2022-06-25T16:01:13.688Z"
   },
   {
    "duration": 261,
    "start_time": "2022-06-25T16:01:13.722Z"
   },
   {
    "duration": 22,
    "start_time": "2022-06-25T16:01:13.984Z"
   },
   {
    "duration": 30,
    "start_time": "2022-06-25T16:01:14.011Z"
   },
   {
    "duration": 318,
    "start_time": "2022-06-25T16:01:14.043Z"
   },
   {
    "duration": 223,
    "start_time": "2022-06-25T16:01:14.363Z"
   },
   {
    "duration": 237,
    "start_time": "2022-06-25T16:01:14.596Z"
   },
   {
    "duration": 19,
    "start_time": "2022-06-25T16:01:14.835Z"
   },
   {
    "duration": 51,
    "start_time": "2022-06-25T16:01:14.856Z"
   },
   {
    "duration": 99,
    "start_time": "2022-06-25T16:01:14.910Z"
   },
   {
    "duration": 25,
    "start_time": "2022-06-25T16:01:15.015Z"
   },
   {
    "duration": 159,
    "start_time": "2022-06-25T16:01:15.042Z"
   },
   {
    "duration": 9,
    "start_time": "2022-06-25T16:01:15.203Z"
   },
   {
    "duration": 15,
    "start_time": "2022-06-25T16:01:15.213Z"
   },
   {
    "duration": 63,
    "start_time": "2022-06-25T16:01:15.230Z"
   },
   {
    "duration": 9,
    "start_time": "2022-06-25T16:01:15.295Z"
   },
   {
    "duration": 19,
    "start_time": "2022-06-25T16:01:15.306Z"
   },
   {
    "duration": 44,
    "start_time": "2022-06-25T16:01:15.328Z"
   },
   {
    "duration": 16,
    "start_time": "2022-06-25T16:01:15.373Z"
   },
   {
    "duration": 6,
    "start_time": "2022-06-25T16:01:15.392Z"
   },
   {
    "duration": 20,
    "start_time": "2022-06-25T16:01:15.400Z"
   },
   {
    "duration": 34,
    "start_time": "2022-06-25T16:01:15.422Z"
   },
   {
    "duration": 12,
    "start_time": "2022-06-25T16:01:15.468Z"
   },
   {
    "duration": 20,
    "start_time": "2022-06-25T16:01:15.489Z"
   },
   {
    "duration": 12,
    "start_time": "2022-06-25T16:01:15.511Z"
   },
   {
    "duration": 22,
    "start_time": "2022-06-25T16:01:15.525Z"
   },
   {
    "duration": 22,
    "start_time": "2022-06-25T16:01:15.550Z"
   },
   {
    "duration": 49,
    "start_time": "2022-06-25T16:01:15.573Z"
   },
   {
    "duration": 8,
    "start_time": "2022-06-25T16:01:15.624Z"
   },
   {
    "duration": 83,
    "start_time": "2022-06-25T16:01:15.634Z"
   },
   {
    "duration": 11,
    "start_time": "2022-06-25T16:01:15.719Z"
   },
   {
    "duration": 48,
    "start_time": "2022-06-25T16:01:15.732Z"
   },
   {
    "duration": 37,
    "start_time": "2022-06-25T16:01:15.781Z"
   },
   {
    "duration": 44,
    "start_time": "2022-06-25T16:01:15.820Z"
   },
   {
    "duration": 14,
    "start_time": "2022-06-25T16:01:15.866Z"
   },
   {
    "duration": 25,
    "start_time": "2022-06-25T16:01:15.885Z"
   },
   {
    "duration": 32,
    "start_time": "2022-06-25T16:01:15.913Z"
   },
   {
    "duration": 5,
    "start_time": "2022-06-25T16:01:15.948Z"
   },
   {
    "duration": 33,
    "start_time": "2022-06-25T16:01:15.955Z"
   },
   {
    "duration": 267,
    "start_time": "2022-06-25T16:01:15.991Z"
   },
   {
    "duration": 337,
    "start_time": "2022-06-25T16:01:16.261Z"
   },
   {
    "duration": 256,
    "start_time": "2022-06-25T16:01:16.600Z"
   },
   {
    "duration": 328,
    "start_time": "2022-06-25T16:01:16.859Z"
   },
   {
    "duration": 4,
    "start_time": "2022-06-25T16:01:17.190Z"
   },
   {
    "duration": 28,
    "start_time": "2022-06-25T16:01:17.196Z"
   },
   {
    "duration": 16,
    "start_time": "2022-06-25T16:01:17.227Z"
   },
   {
    "duration": 18,
    "start_time": "2022-06-25T16:01:17.245Z"
   },
   {
    "duration": 52,
    "start_time": "2022-06-25T16:01:17.265Z"
   },
   {
    "duration": 18,
    "start_time": "2022-06-25T16:01:17.319Z"
   },
   {
    "duration": 13,
    "start_time": "2022-06-25T16:02:39.650Z"
   },
   {
    "duration": 15,
    "start_time": "2022-06-25T16:03:05.590Z"
   },
   {
    "duration": 26,
    "start_time": "2022-06-25T16:03:42.088Z"
   },
   {
    "duration": 18,
    "start_time": "2022-06-25T16:04:52.938Z"
   },
   {
    "duration": 14,
    "start_time": "2022-06-25T16:06:09.565Z"
   },
   {
    "duration": 10,
    "start_time": "2022-06-25T16:06:21.476Z"
   },
   {
    "duration": 20,
    "start_time": "2022-06-25T16:07:19.610Z"
   },
   {
    "duration": 12,
    "start_time": "2022-06-25T16:07:28.013Z"
   },
   {
    "duration": 14,
    "start_time": "2022-06-25T16:07:43.874Z"
   },
   {
    "duration": 35,
    "start_time": "2022-06-25T16:21:38.099Z"
   },
   {
    "duration": 1096,
    "start_time": "2022-06-25T16:40:27.535Z"
   },
   {
    "duration": 314,
    "start_time": "2022-06-25T16:40:28.633Z"
   },
   {
    "duration": 29,
    "start_time": "2022-06-25T16:40:28.949Z"
   },
   {
    "duration": 28,
    "start_time": "2022-06-25T16:40:28.985Z"
   },
   {
    "duration": 25,
    "start_time": "2022-06-25T16:40:29.015Z"
   },
   {
    "duration": 11,
    "start_time": "2022-06-25T16:40:29.042Z"
   },
   {
    "duration": 28,
    "start_time": "2022-06-25T16:40:29.055Z"
   },
   {
    "duration": 25,
    "start_time": "2022-06-25T16:40:29.086Z"
   },
   {
    "duration": 16,
    "start_time": "2022-06-25T16:40:29.113Z"
   },
   {
    "duration": 17,
    "start_time": "2022-06-25T16:40:29.132Z"
   },
   {
    "duration": 31,
    "start_time": "2022-06-25T16:40:29.151Z"
   },
   {
    "duration": 30,
    "start_time": "2022-06-25T16:40:29.185Z"
   },
   {
    "duration": 17,
    "start_time": "2022-06-25T16:40:29.217Z"
   },
   {
    "duration": 26,
    "start_time": "2022-06-25T16:40:29.236Z"
   },
   {
    "duration": 7,
    "start_time": "2022-06-25T16:40:29.264Z"
   },
   {
    "duration": 23309,
    "start_time": "2022-06-25T16:40:29.273Z"
   },
   {
    "duration": 18,
    "start_time": "2022-06-25T16:40:52.587Z"
   },
   {
    "duration": 14,
    "start_time": "2022-06-25T16:40:52.606Z"
   },
   {
    "duration": 271,
    "start_time": "2022-06-25T16:40:52.622Z"
   },
   {
    "duration": 12,
    "start_time": "2022-06-25T16:40:52.895Z"
   },
   {
    "duration": 19,
    "start_time": "2022-06-25T16:40:52.908Z"
   },
   {
    "duration": 233,
    "start_time": "2022-06-25T16:40:52.928Z"
   },
   {
    "duration": 199,
    "start_time": "2022-06-25T16:40:53.162Z"
   },
   {
    "duration": 180,
    "start_time": "2022-06-25T16:40:53.369Z"
   },
   {
    "duration": 36,
    "start_time": "2022-06-25T16:40:53.551Z"
   },
   {
    "duration": 13,
    "start_time": "2022-06-25T16:40:53.589Z"
   },
   {
    "duration": 53,
    "start_time": "2022-06-25T16:40:53.604Z"
   },
   {
    "duration": 26,
    "start_time": "2022-06-25T16:40:53.660Z"
   },
   {
    "duration": 124,
    "start_time": "2022-06-25T16:40:53.689Z"
   },
   {
    "duration": 7,
    "start_time": "2022-06-25T16:40:53.815Z"
   },
   {
    "duration": 13,
    "start_time": "2022-06-25T16:40:53.824Z"
   },
   {
    "duration": 54,
    "start_time": "2022-06-25T16:40:53.838Z"
   },
   {
    "duration": 7,
    "start_time": "2022-06-25T16:40:53.896Z"
   },
   {
    "duration": 19,
    "start_time": "2022-06-25T16:40:53.905Z"
   },
   {
    "duration": 26,
    "start_time": "2022-06-25T16:40:53.925Z"
   },
   {
    "duration": 7,
    "start_time": "2022-06-25T16:40:53.953Z"
   },
   {
    "duration": 11,
    "start_time": "2022-06-25T16:40:53.962Z"
   },
   {
    "duration": 39,
    "start_time": "2022-06-25T16:40:53.975Z"
   },
   {
    "duration": 34,
    "start_time": "2022-06-25T16:40:54.016Z"
   },
   {
    "duration": 6,
    "start_time": "2022-06-25T16:40:54.052Z"
   },
   {
    "duration": 21,
    "start_time": "2022-06-25T16:40:54.060Z"
   },
   {
    "duration": 27,
    "start_time": "2022-06-25T16:40:54.082Z"
   },
   {
    "duration": 16,
    "start_time": "2022-06-25T16:40:54.111Z"
   },
   {
    "duration": 13,
    "start_time": "2022-06-25T16:40:54.128Z"
   },
   {
    "duration": 16,
    "start_time": "2022-06-25T16:40:54.143Z"
   },
   {
    "duration": 6,
    "start_time": "2022-06-25T16:40:54.161Z"
   },
   {
    "duration": 72,
    "start_time": "2022-06-25T16:40:54.171Z"
   },
   {
    "duration": 4,
    "start_time": "2022-06-25T16:40:54.245Z"
   },
   {
    "duration": 46,
    "start_time": "2022-06-25T16:40:54.251Z"
   },
   {
    "duration": 8,
    "start_time": "2022-06-25T16:40:54.299Z"
   },
   {
    "duration": 24,
    "start_time": "2022-06-25T16:40:54.309Z"
   },
   {
    "duration": 4,
    "start_time": "2022-06-25T16:40:54.335Z"
   },
   {
    "duration": 9,
    "start_time": "2022-06-25T16:40:54.340Z"
   },
   {
    "duration": 46,
    "start_time": "2022-06-25T16:40:54.351Z"
   },
   {
    "duration": 5,
    "start_time": "2022-06-25T16:40:54.398Z"
   },
   {
    "duration": 11,
    "start_time": "2022-06-25T16:40:54.404Z"
   },
   {
    "duration": 197,
    "start_time": "2022-06-25T16:40:54.416Z"
   },
   {
    "duration": 249,
    "start_time": "2022-06-25T16:40:54.615Z"
   },
   {
    "duration": 190,
    "start_time": "2022-06-25T16:40:54.866Z"
   },
   {
    "duration": 199,
    "start_time": "2022-06-25T16:40:55.058Z"
   },
   {
    "duration": 2,
    "start_time": "2022-06-25T16:40:55.259Z"
   },
   {
    "duration": 21,
    "start_time": "2022-06-25T16:40:55.267Z"
   },
   {
    "duration": 15,
    "start_time": "2022-06-25T16:40:55.290Z"
   },
   {
    "duration": 6,
    "start_time": "2022-06-25T16:40:55.307Z"
   },
   {
    "duration": 9,
    "start_time": "2022-06-25T16:40:55.315Z"
   },
   {
    "duration": 5,
    "start_time": "2022-06-25T16:40:55.325Z"
   },
   {
    "duration": 3,
    "start_time": "2022-06-25T16:42:00.535Z"
   },
   {
    "duration": 356,
    "start_time": "2022-06-25T16:42:00.540Z"
   },
   {
    "duration": 18,
    "start_time": "2022-06-25T16:42:00.898Z"
   },
   {
    "duration": 13,
    "start_time": "2022-06-25T16:42:00.917Z"
   },
   {
    "duration": 30,
    "start_time": "2022-06-25T16:42:00.932Z"
   },
   {
    "duration": 37,
    "start_time": "2022-06-25T16:42:00.964Z"
   },
   {
    "duration": 41,
    "start_time": "2022-06-25T16:42:01.003Z"
   },
   {
    "duration": 11,
    "start_time": "2022-06-25T16:42:01.046Z"
   },
   {
    "duration": 12,
    "start_time": "2022-06-25T16:42:01.153Z"
   },
   {
    "duration": 58,
    "start_time": "2022-06-25T16:42:01.169Z"
   },
   {
    "duration": 33,
    "start_time": "2022-06-25T16:42:01.229Z"
   },
   {
    "duration": 56,
    "start_time": "2022-06-25T16:42:01.263Z"
   },
   {
    "duration": 21,
    "start_time": "2022-06-25T16:42:01.321Z"
   },
   {
    "duration": 20,
    "start_time": "2022-06-25T16:42:01.344Z"
   },
   {
    "duration": 4,
    "start_time": "2022-06-25T16:42:01.366Z"
   },
   {
    "duration": 24406,
    "start_time": "2022-06-25T16:42:01.371Z"
   },
   {
    "duration": 19,
    "start_time": "2022-06-25T16:42:25.780Z"
   },
   {
    "duration": 18,
    "start_time": "2022-06-25T16:42:25.801Z"
   },
   {
    "duration": 305,
    "start_time": "2022-06-25T16:42:25.821Z"
   },
   {
    "duration": 11,
    "start_time": "2022-06-25T16:42:26.129Z"
   },
   {
    "duration": 33,
    "start_time": "2022-06-25T16:42:26.142Z"
   },
   {
    "duration": 300,
    "start_time": "2022-06-25T16:42:26.180Z"
   },
   {
    "duration": 215,
    "start_time": "2022-06-25T16:42:26.488Z"
   },
   {
    "duration": 203,
    "start_time": "2022-06-25T16:42:26.705Z"
   },
   {
    "duration": 13,
    "start_time": "2022-06-25T16:42:26.910Z"
   },
   {
    "duration": 10,
    "start_time": "2022-06-25T16:42:26.924Z"
   },
   {
    "duration": 88,
    "start_time": "2022-06-25T16:42:26.936Z"
   },
   {
    "duration": 27,
    "start_time": "2022-06-25T16:42:27.026Z"
   },
   {
    "duration": 68,
    "start_time": "2022-06-25T16:42:27.055Z"
   },
   {
    "duration": 8,
    "start_time": "2022-06-25T16:42:27.124Z"
   },
   {
    "duration": 16,
    "start_time": "2022-06-25T16:42:27.134Z"
   },
   {
    "duration": 50,
    "start_time": "2022-06-25T16:42:27.152Z"
   },
   {
    "duration": 10,
    "start_time": "2022-06-25T16:42:27.204Z"
   },
   {
    "duration": 16,
    "start_time": "2022-06-25T16:42:27.216Z"
   },
   {
    "duration": 62,
    "start_time": "2022-06-25T16:42:27.234Z"
   },
   {
    "duration": 8,
    "start_time": "2022-06-25T16:42:27.299Z"
   },
   {
    "duration": 12,
    "start_time": "2022-06-25T16:42:27.310Z"
   },
   {
    "duration": 13,
    "start_time": "2022-06-25T16:42:27.324Z"
   },
   {
    "duration": 27,
    "start_time": "2022-06-25T16:42:27.338Z"
   },
   {
    "duration": 9,
    "start_time": "2022-06-25T16:42:27.366Z"
   },
   {
    "duration": 37,
    "start_time": "2022-06-25T16:42:27.377Z"
   },
   {
    "duration": 13,
    "start_time": "2022-06-25T16:42:27.416Z"
   },
   {
    "duration": 16,
    "start_time": "2022-06-25T16:42:27.431Z"
   },
   {
    "duration": 21,
    "start_time": "2022-06-25T16:42:27.449Z"
   },
   {
    "duration": 18,
    "start_time": "2022-06-25T16:42:27.472Z"
   },
   {
    "duration": 16,
    "start_time": "2022-06-25T16:42:27.492Z"
   },
   {
    "duration": 76,
    "start_time": "2022-06-25T16:42:27.509Z"
   },
   {
    "duration": 19,
    "start_time": "2022-06-25T16:43:00.045Z"
   },
   {
    "duration": 4,
    "start_time": "2022-06-25T16:43:22.713Z"
   },
   {
    "duration": 30,
    "start_time": "2022-06-25T16:43:22.719Z"
   },
   {
    "duration": 13,
    "start_time": "2022-06-25T16:43:22.751Z"
   },
   {
    "duration": 55,
    "start_time": "2022-06-25T16:43:22.765Z"
   },
   {
    "duration": 5,
    "start_time": "2022-06-25T16:43:22.822Z"
   },
   {
    "duration": 12,
    "start_time": "2022-06-25T16:43:22.828Z"
   },
   {
    "duration": 24,
    "start_time": "2022-06-25T16:43:22.842Z"
   },
   {
    "duration": 5,
    "start_time": "2022-06-25T16:43:22.868Z"
   },
   {
    "duration": 31,
    "start_time": "2022-06-25T16:43:22.874Z"
   },
   {
    "duration": 193,
    "start_time": "2022-06-25T16:43:22.907Z"
   },
   {
    "duration": 227,
    "start_time": "2022-06-25T16:43:23.101Z"
   },
   {
    "duration": 188,
    "start_time": "2022-06-25T16:43:23.330Z"
   },
   {
    "duration": 368,
    "start_time": "2022-06-25T16:43:23.520Z"
   },
   {
    "duration": 2,
    "start_time": "2022-06-25T16:43:23.895Z"
   },
   {
    "duration": 12,
    "start_time": "2022-06-25T16:43:23.899Z"
   },
   {
    "duration": 11,
    "start_time": "2022-06-25T16:43:23.913Z"
   },
   {
    "duration": 8,
    "start_time": "2022-06-25T16:43:23.926Z"
   },
   {
    "duration": 14,
    "start_time": "2022-06-25T16:43:23.936Z"
   },
   {
    "duration": 8,
    "start_time": "2022-06-25T16:43:23.951Z"
   },
   {
    "duration": 1122,
    "start_time": "2022-06-25T17:24:02.796Z"
   },
   {
    "duration": 326,
    "start_time": "2022-06-25T17:24:03.920Z"
   },
   {
    "duration": 25,
    "start_time": "2022-06-25T17:24:04.248Z"
   },
   {
    "duration": 16,
    "start_time": "2022-06-25T17:24:04.281Z"
   },
   {
    "duration": 18,
    "start_time": "2022-06-25T17:24:04.298Z"
   },
   {
    "duration": 11,
    "start_time": "2022-06-25T17:24:04.318Z"
   },
   {
    "duration": 44,
    "start_time": "2022-06-25T17:24:04.331Z"
   },
   {
    "duration": 13,
    "start_time": "2022-06-25T17:24:04.376Z"
   },
   {
    "duration": 13,
    "start_time": "2022-06-25T17:24:04.390Z"
   },
   {
    "duration": 11,
    "start_time": "2022-06-25T17:24:04.406Z"
   },
   {
    "duration": 16,
    "start_time": "2022-06-25T17:24:04.419Z"
   },
   {
    "duration": 23,
    "start_time": "2022-06-25T17:24:04.436Z"
   },
   {
    "duration": 14,
    "start_time": "2022-06-25T17:24:04.469Z"
   },
   {
    "duration": 30,
    "start_time": "2022-06-25T17:24:04.486Z"
   },
   {
    "duration": 4,
    "start_time": "2022-06-25T17:24:04.517Z"
   },
   {
    "duration": 21864,
    "start_time": "2022-06-25T17:24:04.522Z"
   },
   {
    "duration": 15,
    "start_time": "2022-06-25T17:24:26.388Z"
   },
   {
    "duration": 15,
    "start_time": "2022-06-25T17:24:26.404Z"
   },
   {
    "duration": 251,
    "start_time": "2022-06-25T17:24:26.421Z"
   },
   {
    "duration": 12,
    "start_time": "2022-06-25T17:24:26.675Z"
   },
   {
    "duration": 20,
    "start_time": "2022-06-25T17:24:26.689Z"
   },
   {
    "duration": 218,
    "start_time": "2022-06-25T17:24:26.710Z"
   },
   {
    "duration": 197,
    "start_time": "2022-06-25T17:24:26.929Z"
   },
   {
    "duration": 186,
    "start_time": "2022-06-25T17:24:27.128Z"
   },
   {
    "duration": 12,
    "start_time": "2022-06-25T17:24:27.316Z"
   },
   {
    "duration": 8,
    "start_time": "2022-06-25T17:24:27.330Z"
   },
   {
    "duration": 76,
    "start_time": "2022-06-25T17:24:27.340Z"
   },
   {
    "duration": 19,
    "start_time": "2022-06-25T17:24:27.420Z"
   },
   {
    "duration": 134,
    "start_time": "2022-06-25T17:24:27.441Z"
   },
   {
    "duration": 13,
    "start_time": "2022-06-25T17:24:27.578Z"
   },
   {
    "duration": 12,
    "start_time": "2022-06-25T17:24:27.593Z"
   },
   {
    "duration": 24,
    "start_time": "2022-06-25T17:24:27.607Z"
   },
   {
    "duration": 7,
    "start_time": "2022-06-25T17:24:27.632Z"
   },
   {
    "duration": 40,
    "start_time": "2022-06-25T17:24:27.641Z"
   },
   {
    "duration": 29,
    "start_time": "2022-06-25T17:24:27.682Z"
   },
   {
    "duration": 10,
    "start_time": "2022-06-25T17:24:27.713Z"
   },
   {
    "duration": 7,
    "start_time": "2022-06-25T17:24:27.725Z"
   },
   {
    "duration": 35,
    "start_time": "2022-06-25T17:24:27.733Z"
   },
   {
    "duration": 37,
    "start_time": "2022-06-25T17:24:27.770Z"
   },
   {
    "duration": 6,
    "start_time": "2022-06-25T17:24:27.809Z"
   },
   {
    "duration": 12,
    "start_time": "2022-06-25T17:24:27.817Z"
   },
   {
    "duration": 9,
    "start_time": "2022-06-25T17:24:27.831Z"
   },
   {
    "duration": 39,
    "start_time": "2022-06-25T17:24:27.842Z"
   },
   {
    "duration": 22,
    "start_time": "2022-06-25T17:24:27.882Z"
   },
   {
    "duration": 15,
    "start_time": "2022-06-25T17:24:27.906Z"
   },
   {
    "duration": 5,
    "start_time": "2022-06-25T17:24:27.922Z"
   },
   {
    "duration": 58,
    "start_time": "2022-06-25T17:24:27.929Z"
   },
   {
    "duration": 4,
    "start_time": "2022-06-25T17:24:27.989Z"
   },
   {
    "duration": 24,
    "start_time": "2022-06-25T17:24:27.995Z"
   },
   {
    "duration": 4,
    "start_time": "2022-06-25T17:24:28.021Z"
   },
   {
    "duration": 51,
    "start_time": "2022-06-25T17:24:28.027Z"
   },
   {
    "duration": 6,
    "start_time": "2022-06-25T17:24:28.081Z"
   },
   {
    "duration": 10,
    "start_time": "2022-06-25T17:24:28.089Z"
   },
   {
    "duration": 24,
    "start_time": "2022-06-25T17:24:28.101Z"
   },
   {
    "duration": 5,
    "start_time": "2022-06-25T17:24:28.126Z"
   },
   {
    "duration": 9,
    "start_time": "2022-06-25T17:24:28.132Z"
   },
   {
    "duration": 213,
    "start_time": "2022-06-25T17:24:28.143Z"
   },
   {
    "duration": 244,
    "start_time": "2022-06-25T17:24:28.358Z"
   },
   {
    "duration": 182,
    "start_time": "2022-06-25T17:24:28.604Z"
   },
   {
    "duration": 224,
    "start_time": "2022-06-25T17:24:28.788Z"
   },
   {
    "duration": 3,
    "start_time": "2022-06-25T17:24:29.014Z"
   },
   {
    "duration": 13,
    "start_time": "2022-06-25T17:24:29.019Z"
   },
   {
    "duration": 12,
    "start_time": "2022-06-25T17:24:29.034Z"
   },
   {
    "duration": 18,
    "start_time": "2022-06-25T17:24:29.049Z"
   },
   {
    "duration": 18,
    "start_time": "2022-06-25T17:24:29.069Z"
   },
   {
    "duration": 13,
    "start_time": "2022-06-25T17:24:29.088Z"
   }
  ],
  "kernelspec": {
   "display_name": "Python 3 (ipykernel)",
   "language": "python",
   "name": "python3"
  },
  "language_info": {
   "codemirror_mode": {
    "name": "ipython",
    "version": 3
   },
   "file_extension": ".py",
   "mimetype": "text/x-python",
   "name": "python",
   "nbconvert_exporter": "python",
   "pygments_lexer": "ipython3",
   "version": "3.9.7"
  },
  "latex_envs": {
   "LaTeX_envs_menu_present": true,
   "autoclose": false,
   "autocomplete": true,
   "bibliofile": "biblio.bib",
   "cite_by": "apalike",
   "current_citInitial": 1,
   "eqLabelWithNumbers": true,
   "eqNumInitial": 1,
   "hotkeys": {
    "equation": "Ctrl-E",
    "itemize": "Ctrl-I"
   },
   "labels_anchors": false,
   "latex_user_defs": false,
   "report_style_numbering": false,
   "user_envs_cfg": false
  },
  "toc": {
   "base_numbering": 1,
   "nav_menu": {},
   "number_sections": true,
   "sideBar": true,
   "skip_h1_title": false,
   "title_cell": "Indice",
   "title_sidebar": "Contenido",
   "toc_cell": true,
   "toc_position": {
    "height": "calc(100% - 180px)",
    "left": "10px",
    "top": "150px",
    "width": "349.091px"
   },
   "toc_section_display": false,
   "toc_window_display": true
  }
 },
 "nbformat": 4,
 "nbformat_minor": 2
}
