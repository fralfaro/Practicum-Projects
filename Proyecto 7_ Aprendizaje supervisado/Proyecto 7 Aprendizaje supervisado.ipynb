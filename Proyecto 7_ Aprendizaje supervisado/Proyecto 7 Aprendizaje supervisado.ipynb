{
 "cells": [
  {
   "cell_type": "markdown",
   "metadata": {
    "toc": true
   },
   "source": [
    "<h1>Indice<span class=\"tocSkip\"></span></h1>\n",
    "<div class=\"toc\"><ul class=\"toc-item\"><li><span><a href=\"#Introducción\" data-toc-modified-id=\"Introducción-1\"><span class=\"toc-item-num\">1&nbsp;&nbsp;</span>Introducción</a></span></li><li><span><a href=\"#Objetivos\" data-toc-modified-id=\"Objetivos-2\"><span class=\"toc-item-num\">2&nbsp;&nbsp;</span>Objetivos</a></span></li><li><span><a href=\"#Datos-y-librerías\" data-toc-modified-id=\"Datos-y-librerías-3\"><span class=\"toc-item-num\">3&nbsp;&nbsp;</span>Datos y librerías</a></span><ul class=\"toc-item\"><li><span><a href=\"#Librerías\" data-toc-modified-id=\"Librerías-3.1\"><span class=\"toc-item-num\">3.1&nbsp;&nbsp;</span>Librerías</a></span></li><li><span><a href=\"#Datos\" data-toc-modified-id=\"Datos-3.2\"><span class=\"toc-item-num\">3.2&nbsp;&nbsp;</span>Datos</a></span></li><li><span><a href=\"#Conociendo-los-datos\" data-toc-modified-id=\"Conociendo-los-datos-3.3\"><span class=\"toc-item-num\">3.3&nbsp;&nbsp;</span>Conociendo los datos</a></span></li><li><span><a href=\"#Preparación-de-los-datos\" data-toc-modified-id=\"Preparación-de-los-datos-3.4\"><span class=\"toc-item-num\">3.4&nbsp;&nbsp;</span>Preparación de los datos</a></span><ul class=\"toc-item\"><li><span><a href=\"#Nombre-de-columnas\" data-toc-modified-id=\"Nombre-de-columnas-3.4.1\"><span class=\"toc-item-num\">3.4.1&nbsp;&nbsp;</span>Nombre de columnas</a></span></li><li><span><a href=\"#Valores-no-numéricos\" data-toc-modified-id=\"Valores-no-numéricos-3.4.2\"><span class=\"toc-item-num\">3.4.2&nbsp;&nbsp;</span>Valores no numéricos</a></span></li><li><span><a href=\"#Columnas-rownumber-y-customerid\" data-toc-modified-id=\"Columnas-rownumber-y-customerid-3.4.3\"><span class=\"toc-item-num\">3.4.3&nbsp;&nbsp;</span>Columnas <code>rownumber</code> y <code>customerid</code></a></span></li><li><span><a href=\"#Columna-tenure\" data-toc-modified-id=\"Columna-tenure-3.4.4\"><span class=\"toc-item-num\">3.4.4&nbsp;&nbsp;</span>Columna <code>tenure</code></a></span></li><li><span><a href=\"#Separación-de-datos\" data-toc-modified-id=\"Separación-de-datos-3.4.5\"><span class=\"toc-item-num\">3.4.5&nbsp;&nbsp;</span>Separación de datos</a></span></li></ul></li></ul></li><li><span><a href=\"#Modelos-originales,-sin-balance\" data-toc-modified-id=\"Modelos-originales,-sin-balance-4\"><span class=\"toc-item-num\">4&nbsp;&nbsp;</span>Modelos originales, sin balance</a></span><ul class=\"toc-item\"><li><span><a href=\"#Arbol-de-decisión\" data-toc-modified-id=\"Arbol-de-decisión-4.1\"><span class=\"toc-item-num\">4.1&nbsp;&nbsp;</span>Arbol de decisión</a></span></li><li><span><a href=\"#Bosque-aleatorio\" data-toc-modified-id=\"Bosque-aleatorio-4.2\"><span class=\"toc-item-num\">4.2&nbsp;&nbsp;</span>Bosque aleatorio</a></span></li><li><span><a href=\"#Regresión-lógica\" data-toc-modified-id=\"Regresión-lógica-4.3\"><span class=\"toc-item-num\">4.3&nbsp;&nbsp;</span>Regresión lógica</a></span></li></ul></li><li><span><a href=\"#Modelos-balanceados\" data-toc-modified-id=\"Modelos-balanceados-5\"><span class=\"toc-item-num\">5&nbsp;&nbsp;</span>Modelos balanceados</a></span><ul class=\"toc-item\"><li><span><a href=\"#Balanceo\" data-toc-modified-id=\"Balanceo-5.1\"><span class=\"toc-item-num\">5.1&nbsp;&nbsp;</span>Balanceo</a></span></li><li><span><a href=\"#Arbol-de-decisión\" data-toc-modified-id=\"Arbol-de-decisión-5.2\"><span class=\"toc-item-num\">5.2&nbsp;&nbsp;</span>Arbol de decisión</a></span><ul class=\"toc-item\"><li><span><a href=\"#class_weight='balanced'\" data-toc-modified-id=\"class_weight='balanced'-5.2.1\"><span class=\"toc-item-num\">5.2.1&nbsp;&nbsp;</span>class_weight='balanced'</a></span></li><li><span><a href=\"#Cambio-de-umbral\" data-toc-modified-id=\"Cambio-de-umbral-5.2.2\"><span class=\"toc-item-num\">5.2.2&nbsp;&nbsp;</span>Cambio de umbral</a></span></li></ul></li><li><span><a href=\"#Bosque-aleatorio\" data-toc-modified-id=\"Bosque-aleatorio-5.3\"><span class=\"toc-item-num\">5.3&nbsp;&nbsp;</span>Bosque aleatorio</a></span><ul class=\"toc-item\"><li><span><a href=\"#class_weight='balanced'\" data-toc-modified-id=\"class_weight='balanced'-5.3.1\"><span class=\"toc-item-num\">5.3.1&nbsp;&nbsp;</span>class_weight='balanced'</a></span></li><li><span><a href=\"#class_weight='balanced_subsample'\" data-toc-modified-id=\"class_weight='balanced_subsample'-5.3.2\"><span class=\"toc-item-num\">5.3.2&nbsp;&nbsp;</span>class_weight='balanced_subsample'</a></span></li><li><span><a href=\"#Cambio-de-umbral\" data-toc-modified-id=\"Cambio-de-umbral-5.3.3\"><span class=\"toc-item-num\">5.3.3&nbsp;&nbsp;</span>Cambio de umbral</a></span></li></ul></li><li><span><a href=\"#Regresión-lógica\" data-toc-modified-id=\"Regresión-lógica-5.4\"><span class=\"toc-item-num\">5.4&nbsp;&nbsp;</span>Regresión lógica</a></span><ul class=\"toc-item\"><li><span><a href=\"#class_weight='balanced'\" data-toc-modified-id=\"class_weight='balanced'-5.4.1\"><span class=\"toc-item-num\">5.4.1&nbsp;&nbsp;</span>class_weight='balanced'</a></span></li><li><span><a href=\"#Cambio-de-umbral\" data-toc-modified-id=\"Cambio-de-umbral-5.4.2\"><span class=\"toc-item-num\">5.4.2&nbsp;&nbsp;</span>Cambio de umbral</a></span></li></ul></li></ul></li><li><span><a href=\"#Testeo-de-mejores-modelos\" data-toc-modified-id=\"Testeo-de-mejores-modelos-6\"><span class=\"toc-item-num\">6&nbsp;&nbsp;</span>Testeo de mejores modelos</a></span><ul class=\"toc-item\"><li><span><a href=\"#Conclusión-general\" data-toc-modified-id=\"Conclusión-general-6.1\"><span class=\"toc-item-num\">6.1&nbsp;&nbsp;</span>Conclusión general</a></span></li></ul></li></ul></div>"
   ]
  },
  {
   "cell_type": "markdown",
   "metadata": {},
   "source": [
    "**Nota especial**\n",
    "\n",
    "Ya que este proyecto fue pensado para ser evaluado por un tutor y solo debe cumplir ciertos parámetros, se eliminaron algunas secciones en donde los modelos eran mejorados aún más al combinar tecnicas de equilibrado de datos y cambios de hiperparámetros. \n",
    "Básicamente combinando las 2 técnicas de las secciones 4 y 5, como también un aumento en la cantidad de hiperparámetros evaluados."
   ]
  },
  {
   "cell_type": "markdown",
   "metadata": {},
   "source": [
    "# Introducción"
   ]
  },
  {
   "cell_type": "markdown",
   "metadata": {},
   "source": [
    "Los clientes de Beta Bank se están yendo, cada mes, poco a poco. Los banqueros descubrieron que es más barato salvar a los clientes existentes que atraer nuevos. \n",
    "\n",
    "Necesitamos predecir si un cliente dejará el banco pronto, para este tenemos los datos sobre el comportamiento pasado de los clientes y la terminación de contratos con el banco. "
   ]
  },
  {
   "cell_type": "markdown",
   "metadata": {},
   "source": [
    "# Objetivos"
   ]
  },
  {
   "cell_type": "markdown",
   "metadata": {},
   "source": [
    "1. Crear un modelo con el máximo valor F1 posible. Para aprobar la revisión, necesitamos un valor F1 de al menos 0.59. Verificar F1 para el conjunto de prueba.\n",
    "\n",
    "\n",
    "2. Medir la métrica AUC-ROC y compararla con el valor F1. Explicar."
   ]
  },
  {
   "cell_type": "markdown",
   "metadata": {},
   "source": [
    "# Datos y librerías"
   ]
  },
  {
   "cell_type": "markdown",
   "metadata": {},
   "source": [
    "## Librerías"
   ]
  },
  {
   "cell_type": "code",
   "execution_count": 1,
   "metadata": {},
   "outputs": [],
   "source": [
    "# Cargamos las librerias que nos servirán para nuestro análisis\n",
    "import pandas as pd\n",
    "import numpy as np\n",
    "import matplotlib.pyplot as plt\n",
    "import math\n",
    "\n",
    "from sklearn import set_config\n",
    "from sklearn.tree import DecisionTreeClassifier\n",
    "from sklearn.ensemble import RandomForestClassifier\n",
    "from sklearn.linear_model import LogisticRegression\n",
    "from sklearn.metrics import accuracy_score\n",
    "from sklearn.metrics import f1_score\n",
    "from sklearn.metrics import precision_score\n",
    "from sklearn.metrics import recall_score\n",
    "from sklearn.metrics import roc_auc_score\n",
    "from sklearn.model_selection import train_test_split\n",
    "from sklearn.utils import shuffle"
   ]
  },
  {
   "cell_type": "markdown",
   "metadata": {},
   "source": [
    "## Datos"
   ]
  },
  {
   "cell_type": "code",
   "execution_count": 2,
   "metadata": {},
   "outputs": [],
   "source": [
    "# Cargamos los datos de cada tabla por separado\n",
    "\n",
    "try:\n",
    "    df = pd.read_csv('C:/Users/tomas/Downloads/Churn.csv')\n",
    "except:\n",
    "    df = pd.read_csv('/datasets/Churn.csv')"
   ]
  },
  {
   "cell_type": "markdown",
   "metadata": {},
   "source": [
    "## Conociendo los datos"
   ]
  },
  {
   "cell_type": "code",
   "execution_count": 3,
   "metadata": {},
   "outputs": [
    {
     "name": "stdout",
     "output_type": "stream",
     "text": [
      "<class 'pandas.core.frame.DataFrame'>\n",
      "RangeIndex: 10000 entries, 0 to 9999\n",
      "Data columns (total 14 columns):\n",
      " #   Column           Non-Null Count  Dtype  \n",
      "---  ------           --------------  -----  \n",
      " 0   RowNumber        10000 non-null  int64  \n",
      " 1   CustomerId       10000 non-null  int64  \n",
      " 2   Surname          10000 non-null  object \n",
      " 3   CreditScore      10000 non-null  int64  \n",
      " 4   Geography        10000 non-null  object \n",
      " 5   Gender           10000 non-null  object \n",
      " 6   Age              10000 non-null  int64  \n",
      " 7   Tenure           9091 non-null   float64\n",
      " 8   Balance          10000 non-null  float64\n",
      " 9   NumOfProducts    10000 non-null  int64  \n",
      " 10  HasCrCard        10000 non-null  int64  \n",
      " 11  IsActiveMember   10000 non-null  int64  \n",
      " 12  EstimatedSalary  10000 non-null  float64\n",
      " 13  Exited           10000 non-null  int64  \n",
      "dtypes: float64(3), int64(8), object(3)\n",
      "memory usage: 1.1+ MB\n"
     ]
    }
   ],
   "source": [
    "df.info()"
   ]
  },
  {
   "cell_type": "code",
   "execution_count": 4,
   "metadata": {
    "scrolled": true
   },
   "outputs": [
    {
     "data": {
      "text/html": [
       "<div>\n",
       "<style scoped>\n",
       "    .dataframe tbody tr th:only-of-type {\n",
       "        vertical-align: middle;\n",
       "    }\n",
       "\n",
       "    .dataframe tbody tr th {\n",
       "        vertical-align: top;\n",
       "    }\n",
       "\n",
       "    .dataframe thead th {\n",
       "        text-align: right;\n",
       "    }\n",
       "</style>\n",
       "<table border=\"1\" class=\"dataframe\">\n",
       "  <thead>\n",
       "    <tr style=\"text-align: right;\">\n",
       "      <th></th>\n",
       "      <th>RowNumber</th>\n",
       "      <th>CustomerId</th>\n",
       "      <th>Surname</th>\n",
       "      <th>CreditScore</th>\n",
       "      <th>Geography</th>\n",
       "      <th>Gender</th>\n",
       "      <th>Age</th>\n",
       "      <th>Tenure</th>\n",
       "      <th>Balance</th>\n",
       "      <th>NumOfProducts</th>\n",
       "      <th>HasCrCard</th>\n",
       "      <th>IsActiveMember</th>\n",
       "      <th>EstimatedSalary</th>\n",
       "      <th>Exited</th>\n",
       "    </tr>\n",
       "  </thead>\n",
       "  <tbody>\n",
       "    <tr>\n",
       "      <th>0</th>\n",
       "      <td>1</td>\n",
       "      <td>15634602</td>\n",
       "      <td>Hargrave</td>\n",
       "      <td>619</td>\n",
       "      <td>France</td>\n",
       "      <td>Female</td>\n",
       "      <td>42</td>\n",
       "      <td>2.0</td>\n",
       "      <td>0.00</td>\n",
       "      <td>1</td>\n",
       "      <td>1</td>\n",
       "      <td>1</td>\n",
       "      <td>101348.88</td>\n",
       "      <td>1</td>\n",
       "    </tr>\n",
       "    <tr>\n",
       "      <th>1</th>\n",
       "      <td>2</td>\n",
       "      <td>15647311</td>\n",
       "      <td>Hill</td>\n",
       "      <td>608</td>\n",
       "      <td>Spain</td>\n",
       "      <td>Female</td>\n",
       "      <td>41</td>\n",
       "      <td>1.0</td>\n",
       "      <td>83807.86</td>\n",
       "      <td>1</td>\n",
       "      <td>0</td>\n",
       "      <td>1</td>\n",
       "      <td>112542.58</td>\n",
       "      <td>0</td>\n",
       "    </tr>\n",
       "    <tr>\n",
       "      <th>2</th>\n",
       "      <td>3</td>\n",
       "      <td>15619304</td>\n",
       "      <td>Onio</td>\n",
       "      <td>502</td>\n",
       "      <td>France</td>\n",
       "      <td>Female</td>\n",
       "      <td>42</td>\n",
       "      <td>8.0</td>\n",
       "      <td>159660.80</td>\n",
       "      <td>3</td>\n",
       "      <td>1</td>\n",
       "      <td>0</td>\n",
       "      <td>113931.57</td>\n",
       "      <td>1</td>\n",
       "    </tr>\n",
       "    <tr>\n",
       "      <th>3</th>\n",
       "      <td>4</td>\n",
       "      <td>15701354</td>\n",
       "      <td>Boni</td>\n",
       "      <td>699</td>\n",
       "      <td>France</td>\n",
       "      <td>Female</td>\n",
       "      <td>39</td>\n",
       "      <td>1.0</td>\n",
       "      <td>0.00</td>\n",
       "      <td>2</td>\n",
       "      <td>0</td>\n",
       "      <td>0</td>\n",
       "      <td>93826.63</td>\n",
       "      <td>0</td>\n",
       "    </tr>\n",
       "    <tr>\n",
       "      <th>4</th>\n",
       "      <td>5</td>\n",
       "      <td>15737888</td>\n",
       "      <td>Mitchell</td>\n",
       "      <td>850</td>\n",
       "      <td>Spain</td>\n",
       "      <td>Female</td>\n",
       "      <td>43</td>\n",
       "      <td>2.0</td>\n",
       "      <td>125510.82</td>\n",
       "      <td>1</td>\n",
       "      <td>1</td>\n",
       "      <td>1</td>\n",
       "      <td>79084.10</td>\n",
       "      <td>0</td>\n",
       "    </tr>\n",
       "    <tr>\n",
       "      <th>5</th>\n",
       "      <td>6</td>\n",
       "      <td>15574012</td>\n",
       "      <td>Chu</td>\n",
       "      <td>645</td>\n",
       "      <td>Spain</td>\n",
       "      <td>Male</td>\n",
       "      <td>44</td>\n",
       "      <td>8.0</td>\n",
       "      <td>113755.78</td>\n",
       "      <td>2</td>\n",
       "      <td>1</td>\n",
       "      <td>0</td>\n",
       "      <td>149756.71</td>\n",
       "      <td>1</td>\n",
       "    </tr>\n",
       "    <tr>\n",
       "      <th>6</th>\n",
       "      <td>7</td>\n",
       "      <td>15592531</td>\n",
       "      <td>Bartlett</td>\n",
       "      <td>822</td>\n",
       "      <td>France</td>\n",
       "      <td>Male</td>\n",
       "      <td>50</td>\n",
       "      <td>7.0</td>\n",
       "      <td>0.00</td>\n",
       "      <td>2</td>\n",
       "      <td>1</td>\n",
       "      <td>1</td>\n",
       "      <td>10062.80</td>\n",
       "      <td>0</td>\n",
       "    </tr>\n",
       "    <tr>\n",
       "      <th>7</th>\n",
       "      <td>8</td>\n",
       "      <td>15656148</td>\n",
       "      <td>Obinna</td>\n",
       "      <td>376</td>\n",
       "      <td>Germany</td>\n",
       "      <td>Female</td>\n",
       "      <td>29</td>\n",
       "      <td>4.0</td>\n",
       "      <td>115046.74</td>\n",
       "      <td>4</td>\n",
       "      <td>1</td>\n",
       "      <td>0</td>\n",
       "      <td>119346.88</td>\n",
       "      <td>1</td>\n",
       "    </tr>\n",
       "    <tr>\n",
       "      <th>8</th>\n",
       "      <td>9</td>\n",
       "      <td>15792365</td>\n",
       "      <td>He</td>\n",
       "      <td>501</td>\n",
       "      <td>France</td>\n",
       "      <td>Male</td>\n",
       "      <td>44</td>\n",
       "      <td>4.0</td>\n",
       "      <td>142051.07</td>\n",
       "      <td>2</td>\n",
       "      <td>0</td>\n",
       "      <td>1</td>\n",
       "      <td>74940.50</td>\n",
       "      <td>0</td>\n",
       "    </tr>\n",
       "    <tr>\n",
       "      <th>9</th>\n",
       "      <td>10</td>\n",
       "      <td>15592389</td>\n",
       "      <td>H?</td>\n",
       "      <td>684</td>\n",
       "      <td>France</td>\n",
       "      <td>Male</td>\n",
       "      <td>27</td>\n",
       "      <td>2.0</td>\n",
       "      <td>134603.88</td>\n",
       "      <td>1</td>\n",
       "      <td>1</td>\n",
       "      <td>1</td>\n",
       "      <td>71725.73</td>\n",
       "      <td>0</td>\n",
       "    </tr>\n",
       "  </tbody>\n",
       "</table>\n",
       "</div>"
      ],
      "text/plain": [
       "   RowNumber  CustomerId   Surname  CreditScore Geography  Gender  Age  \\\n",
       "0          1    15634602  Hargrave          619    France  Female   42   \n",
       "1          2    15647311      Hill          608     Spain  Female   41   \n",
       "2          3    15619304      Onio          502    France  Female   42   \n",
       "3          4    15701354      Boni          699    France  Female   39   \n",
       "4          5    15737888  Mitchell          850     Spain  Female   43   \n",
       "5          6    15574012       Chu          645     Spain    Male   44   \n",
       "6          7    15592531  Bartlett          822    France    Male   50   \n",
       "7          8    15656148    Obinna          376   Germany  Female   29   \n",
       "8          9    15792365        He          501    France    Male   44   \n",
       "9         10    15592389        H?          684    France    Male   27   \n",
       "\n",
       "   Tenure    Balance  NumOfProducts  HasCrCard  IsActiveMember  \\\n",
       "0     2.0       0.00              1          1               1   \n",
       "1     1.0   83807.86              1          0               1   \n",
       "2     8.0  159660.80              3          1               0   \n",
       "3     1.0       0.00              2          0               0   \n",
       "4     2.0  125510.82              1          1               1   \n",
       "5     8.0  113755.78              2          1               0   \n",
       "6     7.0       0.00              2          1               1   \n",
       "7     4.0  115046.74              4          1               0   \n",
       "8     4.0  142051.07              2          0               1   \n",
       "9     2.0  134603.88              1          1               1   \n",
       "\n",
       "   EstimatedSalary  Exited  \n",
       "0        101348.88       1  \n",
       "1        112542.58       0  \n",
       "2        113931.57       1  \n",
       "3         93826.63       0  \n",
       "4         79084.10       0  \n",
       "5        149756.71       1  \n",
       "6         10062.80       0  \n",
       "7        119346.88       1  \n",
       "8         74940.50       0  \n",
       "9         71725.73       0  "
      ]
     },
     "execution_count": 4,
     "metadata": {},
     "output_type": "execute_result"
    }
   ],
   "source": [
    "df.head(10)"
   ]
  },
  {
   "cell_type": "markdown",
   "metadata": {},
   "source": [
    "Aprovechemos que este DataFrame se compone casi exclusivamente por números y describamoslo estadísticamente."
   ]
  },
  {
   "cell_type": "code",
   "execution_count": 5,
   "metadata": {},
   "outputs": [
    {
     "data": {
      "text/html": [
       "<div>\n",
       "<style scoped>\n",
       "    .dataframe tbody tr th:only-of-type {\n",
       "        vertical-align: middle;\n",
       "    }\n",
       "\n",
       "    .dataframe tbody tr th {\n",
       "        vertical-align: top;\n",
       "    }\n",
       "\n",
       "    .dataframe thead th {\n",
       "        text-align: right;\n",
       "    }\n",
       "</style>\n",
       "<table border=\"1\" class=\"dataframe\">\n",
       "  <thead>\n",
       "    <tr style=\"text-align: right;\">\n",
       "      <th></th>\n",
       "      <th>RowNumber</th>\n",
       "      <th>CustomerId</th>\n",
       "      <th>CreditScore</th>\n",
       "      <th>Age</th>\n",
       "      <th>Tenure</th>\n",
       "      <th>Balance</th>\n",
       "      <th>NumOfProducts</th>\n",
       "      <th>HasCrCard</th>\n",
       "      <th>IsActiveMember</th>\n",
       "      <th>EstimatedSalary</th>\n",
       "      <th>Exited</th>\n",
       "    </tr>\n",
       "  </thead>\n",
       "  <tbody>\n",
       "    <tr>\n",
       "      <th>count</th>\n",
       "      <td>10000.00000</td>\n",
       "      <td>1.000000e+04</td>\n",
       "      <td>10000.000000</td>\n",
       "      <td>10000.000000</td>\n",
       "      <td>9091.000000</td>\n",
       "      <td>10000.000000</td>\n",
       "      <td>10000.000000</td>\n",
       "      <td>10000.00000</td>\n",
       "      <td>10000.000000</td>\n",
       "      <td>10000.000000</td>\n",
       "      <td>10000.000000</td>\n",
       "    </tr>\n",
       "    <tr>\n",
       "      <th>mean</th>\n",
       "      <td>5000.50000</td>\n",
       "      <td>1.569094e+07</td>\n",
       "      <td>650.528800</td>\n",
       "      <td>38.921800</td>\n",
       "      <td>4.997690</td>\n",
       "      <td>76485.889288</td>\n",
       "      <td>1.530200</td>\n",
       "      <td>0.70550</td>\n",
       "      <td>0.515100</td>\n",
       "      <td>100090.239881</td>\n",
       "      <td>0.203700</td>\n",
       "    </tr>\n",
       "    <tr>\n",
       "      <th>std</th>\n",
       "      <td>2886.89568</td>\n",
       "      <td>7.193619e+04</td>\n",
       "      <td>96.653299</td>\n",
       "      <td>10.487806</td>\n",
       "      <td>2.894723</td>\n",
       "      <td>62397.405202</td>\n",
       "      <td>0.581654</td>\n",
       "      <td>0.45584</td>\n",
       "      <td>0.499797</td>\n",
       "      <td>57510.492818</td>\n",
       "      <td>0.402769</td>\n",
       "    </tr>\n",
       "    <tr>\n",
       "      <th>min</th>\n",
       "      <td>1.00000</td>\n",
       "      <td>1.556570e+07</td>\n",
       "      <td>350.000000</td>\n",
       "      <td>18.000000</td>\n",
       "      <td>0.000000</td>\n",
       "      <td>0.000000</td>\n",
       "      <td>1.000000</td>\n",
       "      <td>0.00000</td>\n",
       "      <td>0.000000</td>\n",
       "      <td>11.580000</td>\n",
       "      <td>0.000000</td>\n",
       "    </tr>\n",
       "    <tr>\n",
       "      <th>25%</th>\n",
       "      <td>2500.75000</td>\n",
       "      <td>1.562853e+07</td>\n",
       "      <td>584.000000</td>\n",
       "      <td>32.000000</td>\n",
       "      <td>2.000000</td>\n",
       "      <td>0.000000</td>\n",
       "      <td>1.000000</td>\n",
       "      <td>0.00000</td>\n",
       "      <td>0.000000</td>\n",
       "      <td>51002.110000</td>\n",
       "      <td>0.000000</td>\n",
       "    </tr>\n",
       "    <tr>\n",
       "      <th>50%</th>\n",
       "      <td>5000.50000</td>\n",
       "      <td>1.569074e+07</td>\n",
       "      <td>652.000000</td>\n",
       "      <td>37.000000</td>\n",
       "      <td>5.000000</td>\n",
       "      <td>97198.540000</td>\n",
       "      <td>1.000000</td>\n",
       "      <td>1.00000</td>\n",
       "      <td>1.000000</td>\n",
       "      <td>100193.915000</td>\n",
       "      <td>0.000000</td>\n",
       "    </tr>\n",
       "    <tr>\n",
       "      <th>75%</th>\n",
       "      <td>7500.25000</td>\n",
       "      <td>1.575323e+07</td>\n",
       "      <td>718.000000</td>\n",
       "      <td>44.000000</td>\n",
       "      <td>7.000000</td>\n",
       "      <td>127644.240000</td>\n",
       "      <td>2.000000</td>\n",
       "      <td>1.00000</td>\n",
       "      <td>1.000000</td>\n",
       "      <td>149388.247500</td>\n",
       "      <td>0.000000</td>\n",
       "    </tr>\n",
       "    <tr>\n",
       "      <th>max</th>\n",
       "      <td>10000.00000</td>\n",
       "      <td>1.581569e+07</td>\n",
       "      <td>850.000000</td>\n",
       "      <td>92.000000</td>\n",
       "      <td>10.000000</td>\n",
       "      <td>250898.090000</td>\n",
       "      <td>4.000000</td>\n",
       "      <td>1.00000</td>\n",
       "      <td>1.000000</td>\n",
       "      <td>199992.480000</td>\n",
       "      <td>1.000000</td>\n",
       "    </tr>\n",
       "  </tbody>\n",
       "</table>\n",
       "</div>"
      ],
      "text/plain": [
       "         RowNumber    CustomerId   CreditScore           Age       Tenure  \\\n",
       "count  10000.00000  1.000000e+04  10000.000000  10000.000000  9091.000000   \n",
       "mean    5000.50000  1.569094e+07    650.528800     38.921800     4.997690   \n",
       "std     2886.89568  7.193619e+04     96.653299     10.487806     2.894723   \n",
       "min        1.00000  1.556570e+07    350.000000     18.000000     0.000000   \n",
       "25%     2500.75000  1.562853e+07    584.000000     32.000000     2.000000   \n",
       "50%     5000.50000  1.569074e+07    652.000000     37.000000     5.000000   \n",
       "75%     7500.25000  1.575323e+07    718.000000     44.000000     7.000000   \n",
       "max    10000.00000  1.581569e+07    850.000000     92.000000    10.000000   \n",
       "\n",
       "             Balance  NumOfProducts    HasCrCard  IsActiveMember  \\\n",
       "count   10000.000000   10000.000000  10000.00000    10000.000000   \n",
       "mean    76485.889288       1.530200      0.70550        0.515100   \n",
       "std     62397.405202       0.581654      0.45584        0.499797   \n",
       "min         0.000000       1.000000      0.00000        0.000000   \n",
       "25%         0.000000       1.000000      0.00000        0.000000   \n",
       "50%     97198.540000       1.000000      1.00000        1.000000   \n",
       "75%    127644.240000       2.000000      1.00000        1.000000   \n",
       "max    250898.090000       4.000000      1.00000        1.000000   \n",
       "\n",
       "       EstimatedSalary        Exited  \n",
       "count     10000.000000  10000.000000  \n",
       "mean     100090.239881      0.203700  \n",
       "std       57510.492818      0.402769  \n",
       "min          11.580000      0.000000  \n",
       "25%       51002.110000      0.000000  \n",
       "50%      100193.915000      0.000000  \n",
       "75%      149388.247500      0.000000  \n",
       "max      199992.480000      1.000000  "
      ]
     },
     "execution_count": 5,
     "metadata": {},
     "output_type": "execute_result"
    }
   ],
   "source": [
    "df.describe()"
   ]
  },
  {
   "cell_type": "markdown",
   "metadata": {},
   "source": [
    "## Preparación de los datos"
   ]
  },
  {
   "cell_type": "markdown",
   "metadata": {},
   "source": [
    "### Nombre de columnas"
   ]
  },
  {
   "cell_type": "markdown",
   "metadata": {},
   "source": [
    "Antes de dividir los datos, dejemos los nombres de las columnas en minúsculas. Esto nos podría ahorrar problemas en el futuro."
   ]
  },
  {
   "cell_type": "code",
   "execution_count": 6,
   "metadata": {
    "scrolled": true
   },
   "outputs": [
    {
     "name": "stdout",
     "output_type": "stream",
     "text": [
      "Index(['rownumber', 'customerid', 'surname', 'creditscore', 'geography',\n",
      "       'gender', 'age', 'tenure', 'balance', 'numofproducts', 'hascrcard',\n",
      "       'isactivemember', 'estimatedsalary', 'exited'],\n",
      "      dtype='object')\n"
     ]
    }
   ],
   "source": [
    "new_columns = []\n",
    "for column in df.columns:\n",
    "    new_columns.append(column.lower())\n",
    "df.columns = new_columns\n",
    "\n",
    "print(df.columns)"
   ]
  },
  {
   "cell_type": "markdown",
   "metadata": {},
   "source": [
    "### Valores no numéricos"
   ]
  },
  {
   "cell_type": "markdown",
   "metadata": {},
   "source": [
    "Cómo en este proyecto usaremos la regresión lógica y esta solo toma valores numéricos, transformaremos las 3 columnas con `str` como datos. Estas columnas son:\n",
    "- Surname\n",
    "- Geography\n",
    "- Gender\n",
    "\n",
    "Para esto usaremos el método `get_dummies`, pero primero veremos cuantos valores diferentes tenemos en cada una de estas columnas."
   ]
  },
  {
   "cell_type": "code",
   "execution_count": 7,
   "metadata": {},
   "outputs": [
    {
     "name": "stdout",
     "output_type": "stream",
     "text": [
      "Surname diferentes: 2932\n",
      "Geography diferentes: 3\n",
      "Gender diferentes: 2\n"
     ]
    }
   ],
   "source": [
    "print('Surname diferentes:', df['surname'].nunique())\n",
    "print('Geography diferentes:', df['geography'].nunique())\n",
    "print('Gender diferentes:', df['gender'].nunique())"
   ]
  },
  {
   "cell_type": "markdown",
   "metadata": {},
   "source": [
    "Existen demasiados apellidos diferentes. Como contamos con la columna `customerid`, no necesitamos otra columna para identificar a los clientes, además, la columna `surname` tampoco nos brinda información con la cual predecir. \n",
    "\n",
    "Es por esto que eliminaremos esta columna."
   ]
  },
  {
   "cell_type": "code",
   "execution_count": 8,
   "metadata": {},
   "outputs": [],
   "source": [
    "# Eliminamos la columna `surname`\n",
    "df = df.drop('surname', axis=1)"
   ]
  },
  {
   "cell_type": "code",
   "execution_count": 9,
   "metadata": {},
   "outputs": [],
   "source": [
    "# Ahora transformamos las otras 2 columnas\n",
    "df = pd.get_dummies(df, columns=['geography', 'gender'])"
   ]
  },
  {
   "cell_type": "markdown",
   "metadata": {},
   "source": [
    "### Columnas `rownumber` y `customerid`"
   ]
  },
  {
   "cell_type": "markdown",
   "metadata": {},
   "source": [
    "De la misma manera que eliminamos la columna `surname`, pues esta no aporta información útil para que nuestro modelo pueda predecir, también eliminaremos las columnas `rownumber` y `customerid`, pues sus valores solo confundirán a nuestro modelo."
   ]
  },
  {
   "cell_type": "code",
   "execution_count": 10,
   "metadata": {},
   "outputs": [],
   "source": [
    "df = df.drop(['rownumber', 'customerid'], axis=1)"
   ]
  },
  {
   "cell_type": "markdown",
   "metadata": {},
   "source": [
    "### Columna `tenure`"
   ]
  },
  {
   "cell_type": "markdown",
   "metadata": {},
   "source": [
    "La columna `tenure`contiene algunos valores vacíos que deben ser llenados. Para esto necesitamos conocer los datos en esta columna. Apliquemos el método `describe()` y veamos la media y la posición de los cuartiles."
   ]
  },
  {
   "cell_type": "code",
   "execution_count": 11,
   "metadata": {},
   "outputs": [
    {
     "data": {
      "text/plain": [
       "count    9091.000000\n",
       "mean        4.997690\n",
       "std         2.894723\n",
       "min         0.000000\n",
       "25%         2.000000\n",
       "50%         5.000000\n",
       "75%         7.000000\n",
       "max        10.000000\n",
       "Name: tenure, dtype: float64"
      ]
     },
     "execution_count": 11,
     "metadata": {},
     "output_type": "execute_result"
    }
   ],
   "source": [
    "df['tenure'].describe()"
   ]
  },
  {
   "cell_type": "markdown",
   "metadata": {},
   "source": [
    "Aprovechemos y veamos como se comporta para cada país."
   ]
  },
  {
   "cell_type": "code",
   "execution_count": 12,
   "metadata": {},
   "outputs": [
    {
     "data": {
      "text/plain": [
       "count    4550.000000\n",
       "mean        5.003956\n",
       "std         2.891377\n",
       "min         0.000000\n",
       "25%         3.000000\n",
       "50%         5.000000\n",
       "75%         7.000000\n",
       "max        10.000000\n",
       "Name: tenure, dtype: float64"
      ]
     },
     "execution_count": 12,
     "metadata": {},
     "output_type": "execute_result"
    }
   ],
   "source": [
    "df[df['geography_France']==1]['tenure'].describe()"
   ]
  },
  {
   "cell_type": "code",
   "execution_count": 13,
   "metadata": {},
   "outputs": [
    {
     "data": {
      "text/plain": [
       "count    2293.000000\n",
       "mean        4.981247\n",
       "std         2.936961\n",
       "min         0.000000\n",
       "25%         2.000000\n",
       "50%         5.000000\n",
       "75%         8.000000\n",
       "max        10.000000\n",
       "Name: tenure, dtype: float64"
      ]
     },
     "execution_count": 13,
     "metadata": {},
     "output_type": "execute_result"
    }
   ],
   "source": [
    "df[df['geography_Germany']==1]['tenure'].describe()"
   ]
  },
  {
   "cell_type": "code",
   "execution_count": 14,
   "metadata": {},
   "outputs": [
    {
     "data": {
      "text/plain": [
       "count    2248.000000\n",
       "mean        5.001779\n",
       "std         2.859100\n",
       "min         0.000000\n",
       "25%         3.000000\n",
       "50%         5.000000\n",
       "75%         8.000000\n",
       "max        10.000000\n",
       "Name: tenure, dtype: float64"
      ]
     },
     "execution_count": 14,
     "metadata": {},
     "output_type": "execute_result"
    }
   ],
   "source": [
    "df[df['geography_Spain']==1]['tenure'].describe()"
   ]
  },
  {
   "cell_type": "markdown",
   "metadata": {},
   "source": [
    "La media y mediana tienen prácticamente el mismo valor en cada caso, esto quiere decir que nos encontramos con una muestra de datos bastante pareja. De todas maneras veamos como se distribuyen en un diagrama de caja."
   ]
  },
  {
   "cell_type": "code",
   "execution_count": 15,
   "metadata": {},
   "outputs": [
    {
     "data": {
      "image/png": "[encoded data removed]",
      "text/plain": [
       "<Figure size 720x360 with 1 Axes>"
      ]
     },
     "metadata": {
      "needs_background": "light"
     },
     "output_type": "display_data"
    }
   ],
   "source": [
    "df.boxplot(column='tenure', figsize=(10,5))\n",
    "plt.yticks(np.arange(0, 10.1, step=1))\n",
    "# Marquemos la media en morado\n",
    "plt.hlines(5, xmin=0.5,xmax=1.5, color='purple')\n",
    "plt.show()"
   ]
  },
  {
   "cell_type": "markdown",
   "metadata": {},
   "source": [
    "Aunque parece que los datos están ligeramente inclinados hacia abajo, están parejamente equilibrados. Con esto en mente podemos llenar los valores vacíos con 5, el valor de la media y mediana."
   ]
  },
  {
   "cell_type": "code",
   "execution_count": 16,
   "metadata": {},
   "outputs": [
    {
     "data": {
      "text/plain": [
       "count    10000.00000\n",
       "mean         4.99790\n",
       "std          2.76001\n",
       "min          0.00000\n",
       "25%          3.00000\n",
       "50%          5.00000\n",
       "75%          7.00000\n",
       "max         10.00000\n",
       "Name: tenure, dtype: float64"
      ]
     },
     "execution_count": 16,
     "metadata": {},
     "output_type": "execute_result"
    }
   ],
   "source": [
    "df['tenure'] = df['tenure'].fillna(value=5)\n",
    "df['tenure'].describe()"
   ]
  },
  {
   "cell_type": "markdown",
   "metadata": {},
   "source": [
    "### Separación de datos"
   ]
  },
  {
   "cell_type": "markdown",
   "metadata": {},
   "source": [
    "Ahora podemos pasar al siguiente paso para preparar nuestros datos para el modelo. Para poder entrenar, validar y testear nuestro modelo necesitamos tomar 2 pasos antes. Estos son:\n",
    "1. Dividir los datos para tener los distintos grupos de datos, en este caso dejaremos 20% para validación y otro 20% para testeo, el resto será para entrenar.\n",
    "2. Crear los targets y features para nuestro modelo, considerando entrenamiento, validación y testeo, en este caso consideramos la columna final `exited` como el target."
   ]
  },
  {
   "cell_type": "code",
   "execution_count": 17,
   "metadata": {},
   "outputs": [],
   "source": [
    "# Primero separamos el grupo de testeo\n",
    "df_rest, df_test = train_test_split(df, test_size=0.2, random_state=54321)"
   ]
  },
  {
   "cell_type": "code",
   "execution_count": 18,
   "metadata": {},
   "outputs": [],
   "source": [
    "# Luego separamos en entrenamiento y validación\n",
    "df_train, df_valid = train_test_split(df_rest, test_size=0.25, random_state=54321)"
   ]
  },
  {
   "cell_type": "code",
   "execution_count": 19,
   "metadata": {},
   "outputs": [],
   "source": [
    "# Creamos targets y features para nuestro modelo\n",
    "features_train = df_train.drop(['exited'], axis=1)\n",
    "target_train = df_train['exited']\n",
    "features_valid = df_valid.drop(['exited'], axis=1)\n",
    "target_valid = df_valid['exited']\n",
    "features_test = df_test.drop(['exited'], axis=1)\n",
    "target_test = df_test['exited']\n"
   ]
  },
  {
   "cell_type": "code",
   "execution_count": 20,
   "metadata": {
    "scrolled": false
   },
   "outputs": [
    {
     "name": "stdout",
     "output_type": "stream",
     "text": [
      "Entrenamiento:\n",
      "(6000, 13)\n",
      "(6000,)\n",
      "\n",
      "Validación:\n",
      "(2000, 13)\n",
      "(2000,)\n",
      "\n",
      "Testeo:\n",
      "(2000, 13)\n",
      "(2000,)\n"
     ]
    }
   ],
   "source": [
    "# Veamos los tamaños finales de nuestros DataFrames\n",
    "print('Entrenamiento:')\n",
    "print(features_train.shape)\n",
    "print(target_train.shape)\n",
    "print()\n",
    "print('Validación:')\n",
    "print(features_valid.shape)\n",
    "print(target_valid.shape)\n",
    "print()\n",
    "print('Testeo:')\n",
    "print(features_test.shape)\n",
    "print(target_test.shape)"
   ]
  },
  {
   "cell_type": "markdown",
   "metadata": {},
   "source": [
    "# Modelos originales, sin balance"
   ]
  },
  {
   "cell_type": "markdown",
   "metadata": {},
   "source": [
    "Primero analizaremos los 3 tipos de modelos de la misma manera que se hizo en un proyecto anterior. Considerando algunos hiperparámetros para cada uno, pero sin ajustar los pesos de las clases. En cada caso, comprobaremos los valores de la métrica **F1** para elegir el mejor modelo. Además, para tener más información sobre esta métrica, revisaremos también su precisión y recall, de esta forma sabremos como deberemos balancear los datos."
   ]
  },
  {
   "cell_type": "markdown",
   "metadata": {},
   "source": [
    "## Arbol de decisión"
   ]
  },
  {
   "cell_type": "markdown",
   "metadata": {},
   "source": [
    "Comencemos con el arbol de decisión:"
   ]
  },
  {
   "cell_type": "code",
   "execution_count": 21,
   "metadata": {},
   "outputs": [
    {
     "name": "stdout",
     "output_type": "stream",
     "text": [
      "Exactitud del mejor modelo en el conjunto de validación (depth = 11, leafs = 17): 0.6133004926108374\n"
     ]
    },
    {
     "data": {
      "text/plain": [
       "DecisionTreeClassifier(max_depth=11, min_samples_leaf=17, random_state=54321)"
      ]
     },
     "execution_count": 21,
     "metadata": {},
     "output_type": "execute_result"
    }
   ],
   "source": [
    "best_tree = 0\n",
    "best_depth = 0\n",
    "best_leaf = 0\n",
    "score = 0\n",
    "for depth in range(1, 20): # selecciona el rango del hiperparámetro\n",
    "    for leaf in range(1,20):\n",
    "        tree = DecisionTreeClassifier(random_state=54321, max_depth=depth, min_samples_leaf=leaf) # configura el número de árboles\n",
    "        tree.fit(features_train,target_train) # entrena el modelo en el conjunto de entrenamiento\n",
    "        predicted_valid = tree.predict(features_valid)\n",
    "        score = f1_score(target_valid, predicted_valid) # calcula la puntuación de exactitud en el conjunto de validación\n",
    "        if score > best_tree:\n",
    "            best_tree = score # guarda la mejor puntuación de exactitud en el conjunto de validación\n",
    "            best_depth = depth # guarda el número de estimadores que corresponden a la mejor puntuación de exactitud\n",
    "            best_leaf = leaf\n",
    "\n",
    "print(\"Exactitud del mejor modelo en el conjunto de validación (depth = {}, leafs = {}): {}\".format(best_depth, best_leaf, best_tree))\n",
    "\n",
    "final_tree = DecisionTreeClassifier(random_state=54321, max_depth=best_depth, min_samples_leaf=best_leaf) # cambia n_estimators para obtener el mejor modelo\n",
    "final_tree.fit(features_train, target_train)"
   ]
  },
  {
   "cell_type": "code",
   "execution_count": 22,
   "metadata": {
    "scrolled": true
   },
   "outputs": [
    {
     "name": "stdout",
     "output_type": "stream",
     "text": [
      "Recall: 0.5633484162895928\n",
      "Precisión: 0.672972972972973\n"
     ]
    }
   ],
   "source": [
    "predict_valid = final_tree.predict(features_valid)\n",
    "\n",
    "precision = precision_score(target_valid, predict_valid) # <escribe el código aquí  >\n",
    "recall = recall_score(target_valid, predict_valid) # < escribe el código aquí  >\n",
    "\n",
    "print('Recall:', recall)\n",
    "print('Precisión:', precision)"
   ]
  },
  {
   "cell_type": "markdown",
   "metadata": {},
   "source": [
    "Logramos obtener el valor mínimo para F1, pero este debería aumentar cuando apliquemos el balanceo en nuestra base de datos. \n",
    "\n",
    "Podemos ver que el valor de recall se encuentra por debajo de la precisión, esto significa que tendremos que fijarnos en aumentar este valor, para poder aumentar el valor final de F1. Exploremos el bosque aleatorio para ver si sigue la misma dinámica."
   ]
  },
  {
   "cell_type": "markdown",
   "metadata": {},
   "source": [
    "## Bosque aleatorio"
   ]
  },
  {
   "cell_type": "markdown",
   "metadata": {},
   "source": [
    "Adentremonos en el bosque:"
   ]
  },
  {
   "cell_type": "code",
   "execution_count": 23,
   "metadata": {},
   "outputs": [
    {
     "name": "stdout",
     "output_type": "stream",
     "text": [
      "Exactitud del mejor modelo en el conjunto de validación (n_estimators = 4, depth = 9): 0.5710306406685236\n"
     ]
    },
    {
     "data": {
      "text/plain": [
       "RandomForestClassifier(max_depth=9, n_estimators=4, random_state=54321)"
      ]
     },
     "execution_count": 23,
     "metadata": {},
     "output_type": "execute_result"
    }
   ],
   "source": [
    "best_forest = 0\n",
    "best_est = 0\n",
    "score=0\n",
    "best_depth = 0\n",
    "for est in range(1, 10): # selecciona el rango del hiperparámetro\n",
    "    for depth in range(1, 10): # selecciona el rango del hiperparámetro\n",
    "        forest = RandomForestClassifier(random_state=54321, n_estimators=est, max_depth=depth) # configura el número de árboles\n",
    "        forest.fit(features_train,target_train) # entrena el modelo en el conjunto de entrenamiento\n",
    "        predicted_valid = forest.predict(features_valid)\n",
    "        score = f1_score(target_valid, predicted_valid) # calcula la puntuación de exactitud en el conjunto de validación\n",
    "        if score > best_forest:\n",
    "            best_forest = score# guarda la mejor puntuación de exactitud en el conjunto de validación\n",
    "            best_est = est # guarda el número de estimadores que corresponden a la mejor puntuación de exactitud\n",
    "            best_depth = depth\n",
    "\n",
    "print(\"Exactitud del mejor modelo en el conjunto de validación (n_estimators = {}, depth = {}): {}\".format(best_est, best_depth, best_forest))\n",
    "\n",
    "final_forest = RandomForestClassifier(random_state=54321, n_estimators=best_est, max_depth=best_depth) # cambia n_estimators para obtener el mejor modelo\n",
    "final_forest.fit(features_train, target_train)"
   ]
  },
  {
   "cell_type": "code",
   "execution_count": 24,
   "metadata": {},
   "outputs": [
    {
     "name": "stdout",
     "output_type": "stream",
     "text": [
      "Recall: 0.4638009049773756\n",
      "Precisión: 0.7427536231884058\n"
     ]
    }
   ],
   "source": [
    "predict_valid = final_forest.predict(features_valid)\n",
    "\n",
    "precision = precision_score(target_valid, predict_valid) # <escribe el código aquí  >\n",
    "recall = recall_score(target_valid, predict_valid) # < escribe el código aquí  >\n",
    "\n",
    "print('Recall:', recall)\n",
    "print('Precisión:', precision)"
   ]
  },
  {
   "cell_type": "markdown",
   "metadata": {},
   "source": [
    "En este caso no logramos llegar al valor mínimo para F1. Necesitamos balancear para poder aumentarlo.\n",
    "\n",
    "El valor de recall sigue siendo el menor y más bajo, por lo que ya podemos decir que necesitamos concentrarnos en esta medida para aumentar el valor de F1."
   ]
  },
  {
   "cell_type": "markdown",
   "metadata": {},
   "source": [
    "## Regresión lógica"
   ]
  },
  {
   "cell_type": "code",
   "execution_count": 25,
   "metadata": {
    "scrolled": false
   },
   "outputs": [
    {
     "name": "stdout",
     "output_type": "stream",
     "text": [
      "F1: 0.03956043956043956\n",
      "Score: 0.7815\n",
      "\n",
      "Recall: 0.4638009049773756\n",
      "Precisión: 0.7427536231884058\n",
      "Puntuación F1 manual: 0.5710306406685236\n"
     ]
    }
   ],
   "source": [
    "reg = LogisticRegression(solver='liblinear', random_state=54321) # Creamos el modelo\n",
    "reg.fit(features_train, target_train) # Lo entrenamos\n",
    "\n",
    "predicted_valid = reg.predict(features_valid) # Realizamos predicciones desde los datos de validación\n",
    "print('F1:', f1_score(target_valid, predicted_valid)) # Vemos el valor de F1 de la regresión\n",
    "print('Score:', reg.score(features_valid,target_valid))\n",
    "print()\n",
    "\n",
    "precision = precision_score(target_valid, predict_valid) # <escribe el código aquí  >\n",
    "recall = recall_score(target_valid, predict_valid) # < escribe el código aquí  >\n",
    "\n",
    "print('Recall:', recall)\n",
    "print('Precisión:', precision)\n",
    "f1 = 2*precision*recall/(precision+recall)\n",
    "print('Puntuación F1 manual:', f1)"
   ]
  },
  {
   "cell_type": "markdown",
   "metadata": {},
   "source": [
    "En este caso, contamos con un valor de F1 muy bajo, si lo calculamos manualmente este sube a niveles más aceptables, pero se mantiene bajo el mínimo necesario. Al parecer la regresión lógica no es la herramienta que necesitamos para este proyecto. Veremos si al balancear los datos esta métrica mejora."
   ]
  },
  {
   "cell_type": "markdown",
   "metadata": {},
   "source": [
    "# Modelos balanceados"
   ]
  },
  {
   "cell_type": "markdown",
   "metadata": {},
   "source": [
    "## Balanceo"
   ]
  },
  {
   "cell_type": "markdown",
   "metadata": {},
   "source": [
    "Para balancear los modelo utilizaremos 3 medidas:\n",
    "\n",
    "1. Utilizando el hiperparámetro: `class_weight='balanced'`\n",
    "2. Utilizando el hiperparámetro: `class_weight='balanced_subsample'` (Para bosque aleatorio)\n",
    "3. Cambiando el umbral de las respuestas positivas\n",
    "\n",
    "En el último caso, cambio del umbral, también aprovecharemos a estudiar el valor de AUC-ROC de cada modelo. Esto lo haremos, pues esta medida usa los mismos valores de probabilidad de clase para calcularse. Dicho esto, aún no lo tomaremos en consideración, pues usaremos esta medida al momento de testear nuestros modelos. Por ahora solo estará ahí a modo informativo."
   ]
  },
  {
   "cell_type": "markdown",
   "metadata": {},
   "source": [
    "## Arbol de decisión"
   ]
  },
  {
   "cell_type": "markdown",
   "metadata": {},
   "source": [
    "### class_weight='balanced'"
   ]
  },
  {
   "cell_type": "markdown",
   "metadata": {},
   "source": [
    "Agreguemos el hiperparámetro y veamos como cambia el valor de F1."
   ]
  },
  {
   "cell_type": "code",
   "execution_count": 26,
   "metadata": {},
   "outputs": [
    {
     "name": "stdout",
     "output_type": "stream",
     "text": [
      "Exactitud del mejor modelo en el conjunto de validación (depth = 6, leafs = 9): 0.5928571428571429\n"
     ]
    },
    {
     "data": {
      "text/plain": [
       "DecisionTreeClassifier(class_weight='balanced', max_depth=6, min_samples_leaf=9,\n",
       "                       random_state=54321)"
      ]
     },
     "execution_count": 26,
     "metadata": {},
     "output_type": "execute_result"
    }
   ],
   "source": [
    "best_tree = 0\n",
    "best_depth = 0\n",
    "best_leaf = 0\n",
    "score = 0\n",
    "for depth in range(1, 10): # selecciona el rango del hiperparámetro\n",
    "    for leaf in range(1,10):\n",
    "        tree = DecisionTreeClassifier(random_state=54321, max_depth=depth, min_samples_leaf=leaf, class_weight='balanced') # configura el número de árboles\n",
    "        tree.fit(features_train,target_train) # entrena el modelo en el conjunto de entrenamiento\n",
    "        predicted_valid = tree.predict(features_valid)\n",
    "        score = f1_score(target_valid, predicted_valid) # calcula la puntuación de exactitud en el conjunto de validación\n",
    "        if score > best_tree:\n",
    "            best_tree = score # guarda la mejor puntuación de exactitud en el conjunto de validación\n",
    "            best_depth = depth # guarda el número de estimadores que corresponden a la mejor puntuación de exactitud\n",
    "            best_leaf = leaf\n",
    "\n",
    "print(\"Exactitud del mejor modelo en el conjunto de validación (depth = {}, leafs = {}): {}\".format(best_depth, best_leaf, best_tree))\n",
    "\n",
    "final_balanced_tree = DecisionTreeClassifier(random_state=54321, max_depth=best_depth, min_samples_leaf=best_leaf, class_weight = 'balanced') # cambia n_estimators para obtener el mejor modelo\n",
    "final_balanced_tree.fit(features_train, target_train)"
   ]
  },
  {
   "cell_type": "code",
   "execution_count": 27,
   "metadata": {},
   "outputs": [
    {
     "name": "stdout",
     "output_type": "stream",
     "text": [
      "Recall: 0.751131221719457\n",
      "Precisión: 0.4896755162241888\n"
     ]
    }
   ],
   "source": [
    "predict_valid = final_balanced_tree.predict(features_valid)\n",
    "\n",
    "precision = precision_score(target_valid, predict_valid) # <escribe el código aquí  >\n",
    "recall = recall_score(target_valid, predict_valid) # < escribe el código aquí  >\n",
    "\n",
    "print('Recall:', recall)\n",
    "print('Precisión:', precision)"
   ]
  },
  {
   "cell_type": "markdown",
   "metadata": {},
   "source": [
    "Sorprendentemente podemos ver que el valor de F1 ha disminuido. Si nos fijamos en mayor detalle, podemos ver que la precisión disminuyó mientras que recall aumentó. Est vez tenemos un valor de recall marcadamente mayor a su compañero.Probaremos a continuación el cambio de umbral y sus efectos."
   ]
  },
  {
   "cell_type": "markdown",
   "metadata": {},
   "source": [
    "### Cambio de umbral"
   ]
  },
  {
   "cell_type": "markdown",
   "metadata": {},
   "source": [
    "Primero probemos con el arbol de decisión sin balanceo. Aprovecharemos que este modelo tiene una rápida velocidad de procesamiento y compararemos las versiones no balanceadas y balanceadas."
   ]
  },
  {
   "cell_type": "code",
   "execution_count": 28,
   "metadata": {},
   "outputs": [
    {
     "name": "stdout",
     "output_type": "stream",
     "text": [
      "Threshold = 0.52 | Precision = 0.689, Recall = 0.557, F1 = 0.6158\n",
      "AUC-ROC: 0.8280876980001045\n"
     ]
    }
   ],
   "source": [
    "probabilities_valid = final_tree.predict_proba(features_valid)\n",
    "probabilities_one_valid = probabilities_valid[:, 1]\n",
    "\n",
    "best_treshold = 0\n",
    "score = 0\n",
    "best_precision = 0\n",
    "best_recall = 0\n",
    "best_score = 0\n",
    "\n",
    "for threshold in np.arange(0, 1, 0.02):\n",
    "    predicted_valid = probabilities_one_valid > threshold \n",
    "    score = f1_score(target_valid, predicted_valid) # calcula la puntuación de exactitud en el conjunto de validación\n",
    "    if score > best_score:\n",
    "        best_score = score\n",
    "        best_treshold = threshold # guarda la mejor puntuación de exactitud en el conjunto de validación\n",
    "        best_precision = precision_score(target_valid, predicted_valid) # guarda el número de estimadores que corresponden a la mejor puntuación de exactitud\n",
    "        best_recall = recall_score(target_valid,predicted_valid)\n",
    "\n",
    "print('Threshold = {:.2f} | Precision = {:.3f}, Recall = {:.3f}, F1 = {:.4f}'.format(best_treshold,best_precision,best_recall,best_score))\n",
    "\n",
    "auc_roc = roc_auc_score(target_valid, probabilities_one_valid)\n",
    "print('AUC-ROC:', auc_roc)"
   ]
  },
  {
   "cell_type": "markdown",
   "metadata": {},
   "source": [
    "Podemos ver ahora un importante aumento en el valor de F1, de  0.593 a 0.616. Veamos ahora como se comporta el arbol balanceado."
   ]
  },
  {
   "cell_type": "markdown",
   "metadata": {},
   "source": [
    "## Bosque aleatorio"
   ]
  },
  {
   "cell_type": "markdown",
   "metadata": {},
   "source": [
    "### class_weight='balanced'"
   ]
  },
  {
   "cell_type": "code",
   "execution_count": 29,
   "metadata": {},
   "outputs": [
    {
     "name": "stdout",
     "output_type": "stream",
     "text": [
      "Exactitud del mejor modelo en el conjunto de validación (n_estimators = 9, depth = 9): 0.6190476190476191\n"
     ]
    },
    {
     "data": {
      "text/plain": [
       "RandomForestClassifier(class_weight='balanced', max_depth=9, n_estimators=9,\n",
       "                       random_state=54321)"
      ]
     },
     "execution_count": 29,
     "metadata": {},
     "output_type": "execute_result"
    }
   ],
   "source": [
    "best_forest = 0\n",
    "best_est = 0\n",
    "score=0\n",
    "best_depth = 0\n",
    "for est in range(1, 10): # selecciona el rango del hiperparámetro\n",
    "    for depth in range(1, 10): # selecciona el rango del hiperparámetro\n",
    "            forest = RandomForestClassifier(random_state=54321, n_estimators=est, max_depth=depth, class_weight='balanced') # configura el número de árboles\n",
    "            forest.fit(features_train,target_train) # entrena el modelo en el conjunto de entrenamiento\n",
    "            predicted_valid = forest.predict(features_valid)\n",
    "            score = f1_score(target_valid, predicted_valid) # calcula la puntuación de exactitud en el conjunto de validación\n",
    "            if score > best_forest:\n",
    "                best_forest = score# guarda la mejor puntuación de exactitud en el conjunto de validación\n",
    "                best_est = est # guarda el número de estimadores que corresponden a la mejor puntuación de exactitud\n",
    "                best_leaf = leaf\n",
    "                best_depth = depth\n",
    "\n",
    "print(\"Exactitud del mejor modelo en el conjunto de validación (n_estimators = {}, depth = {}): {}\".format(best_est, best_depth, best_forest))\n",
    "\n",
    "final_balanced_forest = RandomForestClassifier(random_state=54321, n_estimators=best_est, max_depth=best_depth, class_weight = 'balanced') # cambia n_estimators para obtener el mejor modelo\n",
    "final_balanced_forest.fit(features_train, target_train)"
   ]
  },
  {
   "cell_type": "code",
   "execution_count": 30,
   "metadata": {},
   "outputs": [
    {
     "name": "stdout",
     "output_type": "stream",
     "text": [
      "Recall: 0.6764705882352942\n",
      "Precisión: 0.5706106870229007\n"
     ]
    }
   ],
   "source": [
    "predict_valid = final_balanced_forest.predict(features_valid)\n",
    "\n",
    "precision = precision_score(target_valid, predict_valid) # <escribe el código aquí  >\n",
    "recall = recall_score(target_valid, predict_valid) # < escribe el código aquí  >\n",
    "\n",
    "print('Recall:', recall)\n",
    "print('Precisión:', precision)"
   ]
  },
  {
   "cell_type": "markdown",
   "metadata": {},
   "source": [
    "El valor de F1 sigue aumentando, ahora nos encontramos en 0.619. Continuemos viendo si nuestros modelos pueden seguir mejorando."
   ]
  },
  {
   "cell_type": "markdown",
   "metadata": {},
   "source": [
    "### class_weight='balanced_subsample'"
   ]
  },
  {
   "cell_type": "code",
   "execution_count": 31,
   "metadata": {},
   "outputs": [
    {
     "name": "stdout",
     "output_type": "stream",
     "text": [
      "Exactitud del mejor modelo en el conjunto de validación (n_estimators = 9, depth = 6): 0.6150832517140058\n"
     ]
    },
    {
     "data": {
      "text/plain": [
       "RandomForestClassifier(class_weight='balanced_subsample', max_depth=6,\n",
       "                       n_estimators=9, random_state=54321)"
      ]
     },
     "execution_count": 31,
     "metadata": {},
     "output_type": "execute_result"
    }
   ],
   "source": [
    "best_forest = 0\n",
    "best_est = 0\n",
    "score=0\n",
    "best_depth = 0\n",
    "for est in range(1, 10): # selecciona el rango del hiperparámetro\n",
    "    for depth in range(1, 10): # selecciona el rango del hiperparámetro\n",
    "        forest = RandomForestClassifier(random_state=54321, n_estimators=est, max_depth=depth, class_weight='balanced_subsample') # configura el número de árboles\n",
    "        forest.fit(features_train,target_train) # entrena el modelo en el conjunto de entrenamiento\n",
    "        predicted_valid = forest.predict(features_valid)\n",
    "        score = f1_score(target_valid, predicted_valid) # calcula la puntuación de exactitud en el conjunto de validación\n",
    "        if score > best_forest:\n",
    "            best_forest = score# guarda la mejor puntuación de exactitud en el conjunto de validación\n",
    "            best_est = est # guarda el número de estimadores que corresponden a la mejor puntuación de exactitud\n",
    "            best_depth = depth\n",
    "\n",
    "print(\"Exactitud del mejor modelo en el conjunto de validación (n_estimators = {}, depth = {}): {}\".format(best_est, best_depth, best_forest))\n",
    "\n",
    "final_balanced_sub_forest = RandomForestClassifier(random_state=54321, n_estimators=best_est, max_depth=best_depth, class_weight='balanced_subsample') # cambia n_estimators para obtener el mejor modelo\n",
    "final_balanced_sub_forest.fit(features_train, target_train)"
   ]
  },
  {
   "cell_type": "code",
   "execution_count": 32,
   "metadata": {},
   "outputs": [
    {
     "name": "stdout",
     "output_type": "stream",
     "text": [
      "Recall: 0.7104072398190046\n",
      "Precisión: 0.542314335060449\n"
     ]
    }
   ],
   "source": [
    "predict_valid = final_balanced_sub_forest.predict(features_valid)\n",
    "\n",
    "precision = precision_score(target_valid, predict_valid) # <escribe el código aquí  >\n",
    "recall = recall_score(target_valid, predict_valid) # < escribe el código aquí  >\n",
    "\n",
    "print('Recall:', recall)\n",
    "print('Precisión:', precision)"
   ]
  },
  {
   "cell_type": "markdown",
   "metadata": {},
   "source": [
    "Continuamos con un alto valor F1, de 0.615 con este modelo. Recall aumenta, pero la precisión disminuye."
   ]
  },
  {
   "cell_type": "markdown",
   "metadata": {},
   "source": [
    "### Cambio de umbral"
   ]
  },
  {
   "cell_type": "markdown",
   "metadata": {},
   "source": [
    "Al igual que con el modelo de arbol de decisión, estudiaremos los efectos de cambiar el umbral para varios modelos del bosque aleatorio. Esta vez tenemos 3 versiones de este modelo:\n",
    "1. Bosque sin balanceo\n",
    "2. Bosque balanceado\n",
    "3. Bosque sub-balanceado\n",
    "\n",
    "Compararemos los valores F1 para estos 3 modelos mientras cambiamos su umbral, buscando el mayor valor posible.\n",
    "\n",
    "Comencemos con el bosque sin balanceo:"
   ]
  },
  {
   "cell_type": "code",
   "execution_count": 33,
   "metadata": {},
   "outputs": [
    {
     "name": "stdout",
     "output_type": "stream",
     "text": [
      "Threshold = 0.26 | Precision = 0.561, Recall = 0.676, F1 = 0.6133\n",
      "AUC-ROC: 0.8411715332918988\n"
     ]
    }
   ],
   "source": [
    "probabilities_valid = final_forest.predict_proba(features_valid)\n",
    "probabilities_one_valid = probabilities_valid[:, 1]\n",
    "\n",
    "best_treshold = 0\n",
    "score = 0\n",
    "best_precision = 0\n",
    "best_recall = 0\n",
    "best_score = 0\n",
    "\n",
    "for threshold in np.arange(0, 1, 0.02):\n",
    "    predicted_valid = probabilities_one_valid > threshold \n",
    "    score = f1_score(target_valid, predicted_valid) # calcula la puntuación de exactitud en el conjunto de validación\n",
    "    if score > best_score:\n",
    "        best_score = score\n",
    "        best_treshold = threshold # guarda la mejor puntuación de exactitud en el conjunto de validación\n",
    "        best_precision = precision_score(target_valid, predicted_valid) # guarda el número de estimadores que corresponden a la mejor puntuación de exactitud\n",
    "        best_recall = recall_score(target_valid,predicted_valid)\n",
    "\n",
    "print('Threshold = {:.2f} | Precision = {:.3f}, Recall = {:.3f}, F1 = {:.4f}'.format(best_treshold,best_precision,best_recall,best_score))\n",
    "\n",
    "auc_roc = roc_auc_score(target_valid, probabilities_one_valid)\n",
    "print('AUC-ROC:', auc_roc)"
   ]
  },
  {
   "cell_type": "markdown",
   "metadata": {},
   "source": [
    "Nuestro valor F1 disminuyó un poco, esto se debe a una ssignificativa disminución en recall, pero también tenemos un pequeño aumento en la precisión. Nos mantenemos sobre 0.61. Podría ser un buen camino, pero debemos cambiar algo.\n",
    "\n",
    "Continuemos con una prueba del bosque balanceado:"
   ]
  },
  {
   "cell_type": "code",
   "execution_count": 34,
   "metadata": {},
   "outputs": [
    {
     "name": "stdout",
     "output_type": "stream",
     "text": [
      "Threshold = 0.48 | Precision = 0.558, Recall = 0.701, F1 = 0.6212\n",
      "AUC-ROC: 0.8398028857044941\n"
     ]
    }
   ],
   "source": [
    "probabilities_valid = final_balanced_forest.predict_proba(features_valid)\n",
    "probabilities_one_valid = probabilities_valid[:, 1]\n",
    "\n",
    "best_treshold = 0\n",
    "score = 0\n",
    "best_precision = 0\n",
    "best_recall = 0\n",
    "best_score = 0\n",
    "\n",
    "for threshold in np.arange(0, 1, 0.02):\n",
    "    predicted_valid = probabilities_one_valid > threshold \n",
    "    score = f1_score(target_valid, predicted_valid) # calcula la puntuación de exactitud en el conjunto de validación\n",
    "    if score > best_score:\n",
    "        best_score = score\n",
    "        best_treshold = threshold # guarda la mejor puntuación de exactitud en el conjunto de validación\n",
    "        best_precision = precision_score(target_valid, predicted_valid) # guarda el número de estimadores que corresponden a la mejor puntuación de exactitud\n",
    "        best_recall = recall_score(target_valid,predicted_valid)\n",
    "\n",
    "print('Threshold = {:.2f} | Precision = {:.3f}, Recall = {:.3f}, F1 = {:.4f}'.format(best_treshold,best_precision,best_recall,best_score))\n",
    "\n",
    "auc_roc = roc_auc_score(target_valid, probabilities_one_valid)\n",
    "print('AUC-ROC:', auc_roc)"
   ]
  },
  {
   "cell_type": "markdown",
   "metadata": {},
   "source": [
    "El valor de F1 sigue aumentando, pero por primera vez contamos con un valor F1 sobre 0.62. Aunque estamos combinando métodos de balanceo, podría servir con el aumento que obtuvimos.\n",
    "\n",
    "Continuemos con una última prueba del bosque sub-balanceado:"
   ]
  },
  {
   "cell_type": "code",
   "execution_count": 35,
   "metadata": {},
   "outputs": [
    {
     "name": "stdout",
     "output_type": "stream",
     "text": [
      "Threshold = 0.52 | Precision = 0.568, Recall = 0.676, F1 = 0.6178\n",
      "AUC-ROC: 0.8533071172578838\n"
     ]
    }
   ],
   "source": [
    "probabilities_valid = final_balanced_sub_forest.predict_proba(features_valid)\n",
    "probabilities_one_valid = probabilities_valid[:, 1]\n",
    "\n",
    "best_treshold = 0\n",
    "score = 0\n",
    "best_precision = 0\n",
    "best_recall = 0\n",
    "best_score = 0\n",
    "\n",
    "for threshold in np.arange(0, 1, 0.02):\n",
    "    predicted_valid = probabilities_one_valid > threshold \n",
    "    score = f1_score(target_valid, predicted_valid) # calcula la puntuación de exactitud en el conjunto de validación\n",
    "    if score > best_score:\n",
    "        best_score = score\n",
    "        best_treshold = threshold # guarda la mejor puntuación de exactitud en el conjunto de validación\n",
    "        best_precision = precision_score(target_valid, predicted_valid) # guarda el número de estimadores que corresponden a la mejor puntuación de exactitud\n",
    "        best_recall = recall_score(target_valid,predicted_valid)\n",
    "\n",
    "print('Threshold = {:.2f} | Precision = {:.3f}, Recall = {:.3f}, F1 = {:.4f}'.format(best_treshold,best_precision,best_recall,best_score))\n",
    "\n",
    "auc_roc = roc_auc_score(target_valid, probabilities_one_valid)\n",
    "print('AUC-ROC:', auc_roc)"
   ]
  },
  {
   "cell_type": "markdown",
   "metadata": {},
   "source": [
    "El valor de F1 aumentó un poco desde la última medición, pero sigue sin superar el valor más alto encontrado.\n",
    "\n",
    "Podemos concluir, por ahora, que el bosque aleatorio balanceado con un umbral del 48% tiene el mayor valor F1."
   ]
  },
  {
   "cell_type": "markdown",
   "metadata": {},
   "source": [
    "## Regresión lógica"
   ]
  },
  {
   "cell_type": "markdown",
   "metadata": {},
   "source": [
    "### class_weight='balanced'"
   ]
  },
  {
   "cell_type": "code",
   "execution_count": 36,
   "metadata": {},
   "outputs": [
    {
     "name": "stdout",
     "output_type": "stream",
     "text": [
      "F1: 0.49261849261849266\n",
      "\n",
      "Recall: 0.7104072398190046\n",
      "Precisión: 0.542314335060449\n",
      "Puntuación F1 manual: 0.6150832517140058\n"
     ]
    }
   ],
   "source": [
    "balanced_reg = LogisticRegression(solver='liblinear', random_state=54321, class_weight='balanced') # Creamos el modelo\n",
    "balanced_reg.fit(features_train, target_train) # Lo entrenamos\n",
    "\n",
    "predicted_valid = balanced_reg.predict(features_valid) # Realizamos predicciones desde los datos de validación\n",
    "print('F1:', f1_score(target_valid, predicted_valid)) # Vemos el valor de F1 de la regresión\n",
    "print()\n",
    "\n",
    "precision = precision_score(target_valid, predict_valid)\n",
    "recall = recall_score(target_valid, predict_valid)\n",
    "\n",
    "print('Recall:', recall)\n",
    "print('Precisión:', precision)\n",
    "f1 = 2*precision*recall/(precision+recall)\n",
    "print('Puntuación F1 manual:', f1)"
   ]
  },
  {
   "cell_type": "markdown",
   "metadata": {},
   "source": [
    "### Cambio de umbral"
   ]
  },
  {
   "cell_type": "code",
   "execution_count": 37,
   "metadata": {},
   "outputs": [
    {
     "name": "stdout",
     "output_type": "stream",
     "text": [
      "Threshold = 0.22 | Precision = 0.329, Recall = 0.600, F1 = 0.4250\n",
      "AUC-ROC: 0.669034148664897\n"
     ]
    }
   ],
   "source": [
    "probabilities_valid = reg.predict_proba(features_valid)\n",
    "probabilities_one_valid = probabilities_valid[:, 1]\n",
    "\n",
    "best_treshold = 0\n",
    "score = 0\n",
    "best_precision = 0\n",
    "best_recall = 0\n",
    "best_score = 0\n",
    "\n",
    "for threshold in np.arange(0, 1, 0.02):\n",
    "    predicted_valid = probabilities_one_valid > threshold \n",
    "    score = f1_score(target_valid, predicted_valid) # calcula la puntuación de exactitud en el conjunto de validación\n",
    "    if score > best_score:\n",
    "        best_score = score\n",
    "        best_treshold = threshold # guarda la mejor puntuación de exactitud en el conjunto de validación\n",
    "        best_precision = precision_score(target_valid, predicted_valid) # guarda el número de estimadores que corresponden a la mejor puntuación de exactitud\n",
    "        best_recall = recall_score(target_valid,predicted_valid)\n",
    "\n",
    "print('Threshold = {:.2f} | Precision = {:.3f}, Recall = {:.3f}, F1 = {:.4f}'.format(best_treshold,best_precision,best_recall,best_score))\n",
    "\n",
    "auc_roc = roc_auc_score(target_valid, probabilities_one_valid)\n",
    "print('AUC-ROC:', auc_roc)"
   ]
  },
  {
   "cell_type": "markdown",
   "metadata": {},
   "source": [
    "Este método no ha logrado aportarnos las métricas que necesitamos. Sus resultados no son lo suficientemente buenos como para llevarlos a la siguiente sección."
   ]
  },
  {
   "cell_type": "markdown",
   "metadata": {},
   "source": [
    "# Testeo de mejores modelos"
   ]
  },
  {
   "cell_type": "markdown",
   "metadata": {},
   "source": [
    "Ahora que hemos probado varios modelos y tenemos más información sobre estos, comencemos testeandolos. Para esto consideraremos los 2 modelos con mayor valor F1. Estos son:\n",
    "1. `final_balanced_forest` con F1=0.619\n",
    "2. `final_balanced_sub_forest` en umbral del 48% con F1=0.621\n",
    "\n",
    "Testearemos solo el primero de estos modelos, siguiendo los límites del proyecto, con el conjunto de datos de testeo y veremos como se comportan. Esta vez entrenaremos al modelo usando los subconjuntos de entrenamiento y validación.\n",
    "\n",
    "Primero creemos los target y features basados en `df_rest`."
   ]
  },
  {
   "cell_type": "code",
   "execution_count": 38,
   "metadata": {},
   "outputs": [],
   "source": [
    "features_rest = df_rest.drop(['exited'], axis=1)\n",
    "target_rest = df_rest['exited']"
   ]
  },
  {
   "cell_type": "markdown",
   "metadata": {},
   "source": [
    "Ahora comencemos con el testeo del modelo:"
   ]
  },
  {
   "cell_type": "code",
   "execution_count": 39,
   "metadata": {},
   "outputs": [
    {
     "name": "stdout",
     "output_type": "stream",
     "text": [
      "Puntaje del modelo: 0.8285\n",
      "F1: 0.6088939566704674\n",
      "AUC-ROC: 0.8672041726389553\n"
     ]
    }
   ],
   "source": [
    "final_balanced_forest = RandomForestClassifier(random_state=54321, n_estimators=9, max_depth=9, class_weight='balanced') # cambia n_estimators para obtener el mejor modelo\n",
    "final_balanced_forest.fit(features_rest, target_rest)\n",
    "\n",
    "score = final_balanced_forest.score(features_test, target_test)\n",
    "print('Puntaje del modelo:', score)\n",
    "\n",
    "predicted_test = final_balanced_forest.predict(features_test)\n",
    "f1 = f1_score(target_test, predicted_test)\n",
    "print('F1:', f1)\n",
    "\n",
    "probabilities_test = final_balanced_forest.predict_proba(features_test)\n",
    "probabilities_one_test = probabilities_test[:, 1]\n",
    "auc_roc = roc_auc_score(target_test, probabilities_one_test)\n",
    "print('AUC-ROC:', auc_roc)"
   ]
  },
  {
   "cell_type": "markdown",
   "metadata": {},
   "source": [
    "## Conclusión general"
   ]
  },
  {
   "cell_type": "markdown",
   "metadata": {},
   "source": [
    "Aunque el valor final de F1 disminuyó un poco, este se encuentra cómodamente sobre el mínimo necesario. Además, es de esperar una pequeña disminución al testear.\n",
    "\n",
    "Nuestro modelo final es : `RandomForestClassifier(max_depth=9, n_estimators=9, class_weight='balanced', random_state=54321)`\n",
    "\n",
    "Los valores de las métricas finales son:\n",
    "1. Puntaje del modelo: 0.8285\n",
    "2. F1: 0.6088939566704674\n",
    "3. AUC-ROC: 0.8672041726389553"
   ]
  }
 ],
 "metadata": {
  "ExecuteTimeLog": [
   {
    "duration": 1064,
    "start_time": "2022-08-20T01:10:51.489Z"
   },
   {
    "duration": 195,
    "start_time": "2022-08-20T01:10:52.555Z"
   },
   {
    "duration": 0,
    "start_time": "2022-08-20T01:10:52.755Z"
   },
   {
    "duration": 0,
    "start_time": "2022-08-20T01:10:52.757Z"
   },
   {
    "duration": 0,
    "start_time": "2022-08-20T01:10:52.758Z"
   },
   {
    "duration": 0,
    "start_time": "2022-08-20T01:10:52.759Z"
   },
   {
    "duration": 0,
    "start_time": "2022-08-20T01:10:52.761Z"
   },
   {
    "duration": 0,
    "start_time": "2022-08-20T01:10:52.763Z"
   },
   {
    "duration": 0,
    "start_time": "2022-08-20T01:10:52.764Z"
   },
   {
    "duration": 0,
    "start_time": "2022-08-20T01:10:52.766Z"
   },
   {
    "duration": 0,
    "start_time": "2022-08-20T01:10:52.767Z"
   },
   {
    "duration": 0,
    "start_time": "2022-08-20T01:10:52.769Z"
   },
   {
    "duration": 0,
    "start_time": "2022-08-20T01:10:52.770Z"
   },
   {
    "duration": 0,
    "start_time": "2022-08-20T01:10:52.772Z"
   },
   {
    "duration": 0,
    "start_time": "2022-08-20T01:10:52.773Z"
   },
   {
    "duration": 0,
    "start_time": "2022-08-20T01:10:52.775Z"
   },
   {
    "duration": 0,
    "start_time": "2022-08-20T01:10:52.777Z"
   },
   {
    "duration": 0,
    "start_time": "2022-08-20T01:10:52.778Z"
   },
   {
    "duration": 0,
    "start_time": "2022-08-20T01:10:52.779Z"
   },
   {
    "duration": 0,
    "start_time": "2022-08-20T01:10:52.781Z"
   },
   {
    "duration": 0,
    "start_time": "2022-08-20T01:10:52.782Z"
   },
   {
    "duration": 0,
    "start_time": "2022-08-20T01:10:52.784Z"
   },
   {
    "duration": 0,
    "start_time": "2022-08-20T01:10:52.785Z"
   },
   {
    "duration": 0,
    "start_time": "2022-08-20T01:10:52.787Z"
   },
   {
    "duration": 0,
    "start_time": "2022-08-20T01:10:52.788Z"
   },
   {
    "duration": 0,
    "start_time": "2022-08-20T01:10:52.789Z"
   },
   {
    "duration": 0,
    "start_time": "2022-08-20T01:10:52.790Z"
   },
   {
    "duration": 0,
    "start_time": "2022-08-20T01:10:52.791Z"
   },
   {
    "duration": 0,
    "start_time": "2022-08-20T01:10:52.793Z"
   },
   {
    "duration": 0,
    "start_time": "2022-08-20T01:10:52.794Z"
   },
   {
    "duration": 0,
    "start_time": "2022-08-20T01:10:52.794Z"
   },
   {
    "duration": 0,
    "start_time": "2022-08-20T01:10:52.796Z"
   },
   {
    "duration": 0,
    "start_time": "2022-08-20T01:10:52.797Z"
   },
   {
    "duration": 0,
    "start_time": "2022-08-20T01:10:52.798Z"
   },
   {
    "duration": 0,
    "start_time": "2022-08-20T01:10:52.799Z"
   },
   {
    "duration": 0,
    "start_time": "2022-08-20T01:10:52.858Z"
   },
   {
    "duration": 0,
    "start_time": "2022-08-20T01:10:52.859Z"
   },
   {
    "duration": 0,
    "start_time": "2022-08-20T01:10:52.861Z"
   },
   {
    "duration": 0,
    "start_time": "2022-08-20T01:10:52.862Z"
   },
   {
    "duration": 13,
    "start_time": "2022-08-20T01:10:52.867Z"
   },
   {
    "duration": 1098,
    "start_time": "2022-08-20T01:13:56.770Z"
   },
   {
    "duration": 122,
    "start_time": "2022-08-20T01:13:57.870Z"
   },
   {
    "duration": 15,
    "start_time": "2022-08-20T01:13:57.993Z"
   },
   {
    "duration": 19,
    "start_time": "2022-08-20T01:13:58.010Z"
   },
   {
    "duration": 41,
    "start_time": "2022-08-20T01:13:58.031Z"
   },
   {
    "duration": 4,
    "start_time": "2022-08-20T01:13:58.074Z"
   },
   {
    "duration": 12,
    "start_time": "2022-08-20T01:13:58.080Z"
   },
   {
    "duration": 9,
    "start_time": "2022-08-20T01:13:58.093Z"
   },
   {
    "duration": 13,
    "start_time": "2022-08-20T01:13:58.103Z"
   },
   {
    "duration": 5,
    "start_time": "2022-08-20T01:13:58.119Z"
   },
   {
    "duration": 33,
    "start_time": "2022-08-20T01:13:58.125Z"
   },
   {
    "duration": 5,
    "start_time": "2022-08-20T01:13:58.160Z"
   },
   {
    "duration": 10,
    "start_time": "2022-08-20T01:13:58.166Z"
   },
   {
    "duration": 6,
    "start_time": "2022-08-20T01:13:58.178Z"
   },
   {
    "duration": 9,
    "start_time": "2022-08-20T01:13:58.185Z"
   },
   {
    "duration": 9101,
    "start_time": "2022-08-20T01:13:58.195Z"
   },
   {
    "duration": 11,
    "start_time": "2022-08-20T01:14:07.298Z"
   },
   {
    "duration": 356286,
    "start_time": "2022-08-20T01:14:07.311Z"
   },
   {
    "duration": 18,
    "start_time": "2022-08-20T01:20:03.598Z"
   },
   {
    "duration": 143,
    "start_time": "2022-08-20T01:20:03.618Z"
   },
   {
    "duration": 6,
    "start_time": "2022-08-20T01:20:03.762Z"
   },
   {
    "duration": 9300,
    "start_time": "2022-08-20T01:20:03.770Z"
   },
   {
    "duration": 9,
    "start_time": "2022-08-20T01:20:13.074Z"
   },
   {
    "duration": 111,
    "start_time": "2022-08-20T01:20:13.085Z"
   },
   {
    "duration": 118,
    "start_time": "2022-08-20T01:20:13.198Z"
   },
   {
    "duration": 366286,
    "start_time": "2022-08-20T01:20:13.318Z"
   },
   {
    "duration": 17,
    "start_time": "2022-08-20T01:26:19.606Z"
   },
   {
    "duration": 459043,
    "start_time": "2022-08-20T01:26:19.625Z"
   },
   {
    "duration": 14,
    "start_time": "2022-08-20T01:33:58.673Z"
   },
   {
    "duration": 128,
    "start_time": "2022-08-20T01:33:58.689Z"
   },
   {
    "duration": 123,
    "start_time": "2022-08-20T01:33:58.818Z"
   },
   {
    "duration": 134,
    "start_time": "2022-08-20T01:33:58.942Z"
   },
   {
    "duration": 95,
    "start_time": "2022-08-20T01:33:59.078Z"
   },
   {
    "duration": 307,
    "start_time": "2022-08-20T01:33:59.174Z"
   },
   {
    "duration": 4,
    "start_time": "2022-08-20T01:33:59.483Z"
   },
   {
    "duration": 184,
    "start_time": "2022-08-20T01:33:59.488Z"
   },
   {
    "duration": 168,
    "start_time": "2022-08-20T01:33:59.674Z"
   },
   {
    "duration": 5,
    "start_time": "2022-08-20T01:33:59.843Z"
   },
   {
    "duration": 223,
    "start_time": "2022-08-20T01:33:59.850Z"
   },
   {
    "duration": 39,
    "start_time": "2022-08-20T01:34:00.075Z"
   },
   {
    "duration": 4,
    "start_time": "2022-08-20T01:47:12.243Z"
   },
   {
    "duration": 101,
    "start_time": "2022-08-20T01:47:12.249Z"
   },
   {
    "duration": 11,
    "start_time": "2022-08-20T01:47:12.492Z"
   },
   {
    "duration": 19,
    "start_time": "2022-08-20T01:47:12.505Z"
   },
   {
    "duration": 49,
    "start_time": "2022-08-20T01:47:12.525Z"
   },
   {
    "duration": 5,
    "start_time": "2022-08-20T01:47:12.576Z"
   },
   {
    "duration": 18,
    "start_time": "2022-08-20T01:47:12.583Z"
   },
   {
    "duration": 11,
    "start_time": "2022-08-20T01:47:12.603Z"
   },
   {
    "duration": 14,
    "start_time": "2022-08-20T01:47:12.616Z"
   },
   {
    "duration": 5,
    "start_time": "2022-08-20T01:47:12.745Z"
   },
   {
    "duration": 25,
    "start_time": "2022-08-20T01:47:12.752Z"
   },
   {
    "duration": 7,
    "start_time": "2022-08-20T01:47:12.779Z"
   },
   {
    "duration": 5,
    "start_time": "2022-08-20T01:47:12.787Z"
   },
   {
    "duration": 8,
    "start_time": "2022-08-20T01:47:12.794Z"
   },
   {
    "duration": 6,
    "start_time": "2022-08-20T01:47:12.804Z"
   },
   {
    "duration": 8819,
    "start_time": "2022-08-20T01:47:13.052Z"
   },
   {
    "duration": 11,
    "start_time": "2022-08-20T01:47:21.872Z"
   },
   {
    "duration": 361441,
    "start_time": "2022-08-20T01:47:21.884Z"
   },
   {
    "duration": 16,
    "start_time": "2022-08-20T01:53:23.327Z"
   },
   {
    "duration": 105,
    "start_time": "2022-08-20T01:53:23.363Z"
   },
   {
    "duration": 103,
    "start_time": "2022-08-20T01:53:23.474Z"
   },
   {
    "duration": 5,
    "start_time": "2022-08-20T01:57:49.605Z"
   },
   {
    "duration": 6,
    "start_time": "2022-08-20T02:02:19.093Z"
   },
   {
    "duration": 1031,
    "start_time": "2022-08-20T02:39:57.036Z"
   },
   {
    "duration": 680,
    "start_time": "2022-08-20T02:39:58.068Z"
   },
   {
    "duration": 13,
    "start_time": "2022-08-20T02:39:58.750Z"
   },
   {
    "duration": 18,
    "start_time": "2022-08-20T02:39:58.765Z"
   },
   {
    "duration": 36,
    "start_time": "2022-08-20T02:39:58.785Z"
   },
   {
    "duration": 4,
    "start_time": "2022-08-20T02:39:58.822Z"
   },
   {
    "duration": 31,
    "start_time": "2022-08-20T02:39:58.827Z"
   },
   {
    "duration": 3,
    "start_time": "2022-08-20T02:39:58.860Z"
   },
   {
    "duration": 14,
    "start_time": "2022-08-20T02:39:58.864Z"
   },
   {
    "duration": 4,
    "start_time": "2022-08-20T02:39:58.879Z"
   },
   {
    "duration": 17,
    "start_time": "2022-08-20T02:39:58.884Z"
   },
   {
    "duration": 5,
    "start_time": "2022-08-20T02:39:58.902Z"
   },
   {
    "duration": 5,
    "start_time": "2022-08-20T02:39:58.909Z"
   },
   {
    "duration": 5,
    "start_time": "2022-08-20T02:39:58.917Z"
   },
   {
    "duration": 6,
    "start_time": "2022-08-20T02:39:58.923Z"
   },
   {
    "duration": 8662,
    "start_time": "2022-08-20T02:39:58.931Z"
   },
   {
    "duration": 8,
    "start_time": "2022-08-20T02:40:07.594Z"
   },
   {
    "duration": 339549,
    "start_time": "2022-08-20T02:40:07.604Z"
   },
   {
    "duration": 16,
    "start_time": "2022-08-20T02:45:47.154Z"
   },
   {
    "duration": 187,
    "start_time": "2022-08-20T02:45:47.172Z"
   },
   {
    "duration": 6,
    "start_time": "2022-08-20T02:45:47.361Z"
   },
   {
    "duration": 8,
    "start_time": "2022-08-20T02:45:47.458Z"
   },
   {
    "duration": 9748,
    "start_time": "2022-08-20T02:45:47.467Z"
   },
   {
    "duration": 8,
    "start_time": "2022-08-20T02:45:57.217Z"
   },
   {
    "duration": 112,
    "start_time": "2022-08-20T02:45:57.226Z"
   },
   {
    "duration": 107,
    "start_time": "2022-08-20T02:45:57.340Z"
   },
   {
    "duration": 348850,
    "start_time": "2022-08-20T02:45:57.448Z"
   },
   {
    "duration": 18,
    "start_time": "2022-08-20T02:51:46.299Z"
   },
   {
    "duration": 431264,
    "start_time": "2022-08-20T02:51:46.319Z"
   },
   {
    "duration": 16,
    "start_time": "2022-08-20T02:58:57.585Z"
   },
   {
    "duration": 127,
    "start_time": "2022-08-20T02:58:57.602Z"
   },
   {
    "duration": 117,
    "start_time": "2022-08-20T02:58:57.731Z"
   },
   {
    "duration": 121,
    "start_time": "2022-08-20T02:58:57.849Z"
   },
   {
    "duration": 188,
    "start_time": "2022-08-20T02:58:57.972Z"
   },
   {
    "duration": 400,
    "start_time": "2022-08-20T02:58:58.162Z"
   },
   {
    "duration": 4,
    "start_time": "2022-08-20T02:58:58.564Z"
   },
   {
    "duration": 171,
    "start_time": "2022-08-20T02:58:58.569Z"
   },
   {
    "duration": 158,
    "start_time": "2022-08-20T02:58:58.742Z"
   },
   {
    "duration": 5,
    "start_time": "2022-08-20T02:58:58.902Z"
   },
   {
    "duration": 194,
    "start_time": "2022-08-20T02:58:58.908Z"
   },
   {
    "duration": 37,
    "start_time": "2022-08-20T02:58:59.105Z"
   },
   {
    "duration": 1132,
    "start_time": "2022-08-21T23:10:07.938Z"
   },
   {
    "duration": 126,
    "start_time": "2022-08-21T23:10:09.072Z"
   },
   {
    "duration": 13,
    "start_time": "2022-08-21T23:10:09.200Z"
   },
   {
    "duration": 21,
    "start_time": "2022-08-21T23:10:09.214Z"
   },
   {
    "duration": 45,
    "start_time": "2022-08-21T23:10:09.237Z"
   },
   {
    "duration": 5,
    "start_time": "2022-08-21T23:10:09.284Z"
   },
   {
    "duration": 9,
    "start_time": "2022-08-21T23:10:12.106Z"
   },
   {
    "duration": 3,
    "start_time": "2022-08-21T23:17:04.092Z"
   },
   {
    "duration": 108,
    "start_time": "2022-08-21T23:17:08.533Z"
   },
   {
    "duration": 21,
    "start_time": "2022-08-21T23:19:19.947Z"
   },
   {
    "duration": 1284,
    "start_time": "2022-08-22T20:16:43.044Z"
   },
   {
    "duration": 208,
    "start_time": "2022-08-22T20:16:44.330Z"
   },
   {
    "duration": 12,
    "start_time": "2022-08-22T20:16:44.539Z"
   },
   {
    "duration": 16,
    "start_time": "2022-08-22T20:16:44.552Z"
   },
   {
    "duration": 37,
    "start_time": "2022-08-22T20:16:44.570Z"
   },
   {
    "duration": 4,
    "start_time": "2022-08-22T20:16:44.608Z"
   },
   {
    "duration": 15,
    "start_time": "2022-08-22T20:16:44.614Z"
   },
   {
    "duration": 4,
    "start_time": "2022-08-22T20:16:44.630Z"
   },
   {
    "duration": 12,
    "start_time": "2022-08-22T20:16:44.635Z"
   },
   {
    "duration": 4,
    "start_time": "2022-08-22T20:16:44.648Z"
   },
   {
    "duration": 7,
    "start_time": "2022-08-22T20:16:44.653Z"
   },
   {
    "duration": 9,
    "start_time": "2022-08-22T20:16:44.661Z"
   },
   {
    "duration": 7,
    "start_time": "2022-08-22T20:16:44.671Z"
   },
   {
    "duration": 9,
    "start_time": "2022-08-22T20:16:44.708Z"
   },
   {
    "duration": 130,
    "start_time": "2022-08-22T20:16:44.718Z"
   },
   {
    "duration": 8,
    "start_time": "2022-08-22T20:16:44.849Z"
   },
   {
    "duration": 6,
    "start_time": "2022-08-22T20:16:44.859Z"
   },
   {
    "duration": 8,
    "start_time": "2022-08-22T20:16:44.866Z"
   },
   {
    "duration": 8,
    "start_time": "2022-08-22T20:16:44.876Z"
   },
   {
    "duration": 20,
    "start_time": "2022-08-22T20:16:44.886Z"
   },
   {
    "duration": 7174,
    "start_time": "2022-08-22T20:16:44.907Z"
   },
   {
    "duration": 8,
    "start_time": "2022-08-22T20:16:52.082Z"
   },
   {
    "duration": 1803,
    "start_time": "2022-08-22T20:16:52.091Z"
   },
   {
    "duration": 22,
    "start_time": "2022-08-22T20:16:53.895Z"
   },
   {
    "duration": 91,
    "start_time": "2022-08-22T20:16:53.919Z"
   },
   {
    "duration": 1376,
    "start_time": "2022-08-22T20:16:54.011Z"
   },
   {
    "duration": 18,
    "start_time": "2022-08-22T20:16:55.389Z"
   },
   {
    "duration": 169,
    "start_time": "2022-08-22T20:16:55.408Z"
   },
   {
    "duration": 1954,
    "start_time": "2022-08-22T20:16:55.579Z"
   },
   {
    "duration": 11,
    "start_time": "2022-08-22T20:16:57.534Z"
   },
   {
    "duration": 2402,
    "start_time": "2022-08-22T20:16:57.547Z"
   },
   {
    "duration": 10,
    "start_time": "2022-08-22T20:16:59.950Z"
   },
   {
    "duration": 118,
    "start_time": "2022-08-22T20:16:59.963Z"
   },
   {
    "duration": 139,
    "start_time": "2022-08-22T20:17:00.083Z"
   },
   {
    "duration": 122,
    "start_time": "2022-08-22T20:17:00.224Z"
   },
   {
    "duration": 75,
    "start_time": "2022-08-22T20:17:00.348Z"
   },
   {
    "duration": 359,
    "start_time": "2022-08-22T20:17:00.426Z"
   },
   {
    "duration": 4,
    "start_time": "2022-08-22T20:17:00.787Z"
   },
   {
    "duration": 90,
    "start_time": "2022-08-22T20:17:00.792Z"
   },
   {
    "duration": 1569,
    "start_time": "2022-08-27T17:35:00.175Z"
   },
   {
    "duration": 125,
    "start_time": "2022-08-27T17:35:01.746Z"
   },
   {
    "duration": 12,
    "start_time": "2022-08-27T17:35:01.873Z"
   },
   {
    "duration": 23,
    "start_time": "2022-08-27T17:35:01.887Z"
   },
   {
    "duration": 45,
    "start_time": "2022-08-27T17:35:01.912Z"
   },
   {
    "duration": 3,
    "start_time": "2022-08-27T17:35:01.959Z"
   },
   {
    "duration": 23,
    "start_time": "2022-08-27T17:35:01.964Z"
   },
   {
    "duration": 34,
    "start_time": "2022-08-27T17:35:01.989Z"
   },
   {
    "duration": 19,
    "start_time": "2022-08-27T17:35:02.025Z"
   },
   {
    "duration": 5,
    "start_time": "2022-08-27T17:35:02.047Z"
   },
   {
    "duration": 20,
    "start_time": "2022-08-27T17:35:02.053Z"
   },
   {
    "duration": 8,
    "start_time": "2022-08-27T17:35:02.075Z"
   },
   {
    "duration": 7,
    "start_time": "2022-08-27T17:35:02.085Z"
   },
   {
    "duration": 8,
    "start_time": "2022-08-27T17:35:02.093Z"
   },
   {
    "duration": 131,
    "start_time": "2022-08-27T17:35:02.102Z"
   },
   {
    "duration": 8,
    "start_time": "2022-08-27T17:35:02.234Z"
   },
   {
    "duration": 5,
    "start_time": "2022-08-27T17:35:02.243Z"
   },
   {
    "duration": 6,
    "start_time": "2022-08-27T17:35:02.249Z"
   },
   {
    "duration": 13,
    "start_time": "2022-08-27T17:35:02.256Z"
   },
   {
    "duration": 7,
    "start_time": "2022-08-27T17:35:02.270Z"
   },
   {
    "duration": 8666,
    "start_time": "2022-08-27T17:35:02.278Z"
   },
   {
    "duration": 8,
    "start_time": "2022-08-27T17:35:10.945Z"
   },
   {
    "duration": 2152,
    "start_time": "2022-08-27T17:35:10.954Z"
   },
   {
    "duration": 18,
    "start_time": "2022-08-27T17:35:13.112Z"
   },
   {
    "duration": 87,
    "start_time": "2022-08-27T17:35:13.132Z"
   },
   {
    "duration": 1701,
    "start_time": "2022-08-27T17:35:13.221Z"
   },
   {
    "duration": 9,
    "start_time": "2022-08-27T17:35:14.926Z"
   },
   {
    "duration": 117,
    "start_time": "2022-08-27T17:35:14.938Z"
   },
   {
    "duration": 2121,
    "start_time": "2022-08-27T17:35:15.056Z"
   },
   {
    "duration": 11,
    "start_time": "2022-08-27T17:35:17.178Z"
   },
   {
    "duration": 2604,
    "start_time": "2022-08-27T17:35:17.190Z"
   },
   {
    "duration": 24,
    "start_time": "2022-08-27T17:35:19.796Z"
   },
   {
    "duration": 113,
    "start_time": "2022-08-27T17:35:19.823Z"
   },
   {
    "duration": 140,
    "start_time": "2022-08-27T17:35:19.937Z"
   },
   {
    "duration": 119,
    "start_time": "2022-08-27T17:35:20.078Z"
   },
   {
    "duration": 115,
    "start_time": "2022-08-27T17:35:20.198Z"
   },
   {
    "duration": 257,
    "start_time": "2022-08-27T17:35:20.316Z"
   },
   {
    "duration": 4,
    "start_time": "2022-08-27T17:35:20.574Z"
   },
   {
    "duration": 101,
    "start_time": "2022-08-27T17:35:20.579Z"
   }
  ],
  "kernelspec": {
   "display_name": "Python 3 (ipykernel)",
   "language": "python",
   "name": "python3"
  },
  "language_info": {
   "codemirror_mode": {
    "name": "ipython",
    "version": 3
   },
   "file_extension": ".py",
   "mimetype": "text/x-python",
   "name": "python",
   "nbconvert_exporter": "python",
   "pygments_lexer": "ipython3",
   "version": "3.9.7"
  },
  "latex_envs": {
   "LaTeX_envs_menu_present": true,
   "autoclose": false,
   "autocomplete": true,
   "bibliofile": "biblio.bib",
   "cite_by": "apalike",
   "current_citInitial": 1,
   "eqLabelWithNumbers": true,
   "eqNumInitial": 1,
   "hotkeys": {
    "equation": "Ctrl-E",
    "itemize": "Ctrl-I"
   },
   "labels_anchors": false,
   "latex_user_defs": false,
   "report_style_numbering": false,
   "user_envs_cfg": false
  },
  "toc": {
   "base_numbering": 1,
   "nav_menu": {},
   "number_sections": true,
   "sideBar": true,
   "skip_h1_title": false,
   "title_cell": "Indice",
   "title_sidebar": "Contenido",
   "toc_cell": true,
   "toc_position": {
    "height": "calc(100% - 180px)",
    "left": "10px",
    "top": "150px",
    "width": "266.278px"
   },
   "toc_section_display": false,
   "toc_window_display": true
  }
 },
 "nbformat": 4,
 "nbformat_minor": 2
}
