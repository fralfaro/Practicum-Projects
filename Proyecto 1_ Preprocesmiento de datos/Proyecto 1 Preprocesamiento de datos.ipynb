{
 "cells": [
  {
   "cell_type": "markdown",
   "metadata": {
    "toc": true
   },
   "source": [
    "<h1>Tabla de contenido<span class=\"tocSkip\"></span></h1>\n",
    "<div class=\"toc\"><ul class=\"toc-item\"><li><span><a href=\"#Introducción\" data-toc-modified-id=\"Introducción-1\"><span class=\"toc-item-num\">1&nbsp;&nbsp;</span>Introducción</a></span><ul class=\"toc-item\"><li><span><a href=\"#Objetivos-del-proyecto\" data-toc-modified-id=\"Objetivos-del-proyecto-1.1\"><span class=\"toc-item-num\">1.1&nbsp;&nbsp;</span>Objetivos del proyecto</a></span></li></ul></li><li><span><a href=\"#Abre-el-archivo-de-datos-y-mira-la-información-general.\" data-toc-modified-id=\"Abre-el-archivo-de-datos-y-mira-la-información-general.-2\"><span class=\"toc-item-num\">2&nbsp;&nbsp;</span>Abre el archivo de datos y mira la información general.</a></span></li><li><span><a href=\"#Ejercicio-1.-Exploración-de-datos\" data-toc-modified-id=\"Ejercicio-1.-Exploración-de-datos-3\"><span class=\"toc-item-num\">3&nbsp;&nbsp;</span>Ejercicio 1. Exploración de datos</a></span></li><li><span><a href=\"#Transformación-de-datos\" data-toc-modified-id=\"Transformación-de-datos-4\"><span class=\"toc-item-num\">4&nbsp;&nbsp;</span>Transformación de datos</a></span><ul class=\"toc-item\"><li><span><a href=\"#Restaurar-valores-ausentes-en-total_income\" data-toc-modified-id=\"Restaurar-valores-ausentes-en-total_income-4.1\"><span class=\"toc-item-num\">4.1&nbsp;&nbsp;</span>Restaurar valores ausentes en <code>total_income</code></a></span></li><li><span><a href=\"#Restaurar-valores-ausentes-en-days_employed\" data-toc-modified-id=\"Restaurar-valores-ausentes-en-days_employed-4.2\"><span class=\"toc-item-num\">4.2&nbsp;&nbsp;</span>Restaurar valores ausentes en <code>days_employed</code></a></span></li></ul></li><li><span><a href=\"#Clasificación-de-datos\" data-toc-modified-id=\"Clasificación-de-datos-5\"><span class=\"toc-item-num\">5&nbsp;&nbsp;</span>Clasificación de datos</a></span></li><li><span><a href=\"#Comprobación-de-las-hipótesis\" data-toc-modified-id=\"Comprobación-de-las-hipótesis-6\"><span class=\"toc-item-num\">6&nbsp;&nbsp;</span>Comprobación de las hipótesis</a></span></li></ul></div>"
   ]
  },
  {
   "cell_type": "markdown",
   "metadata": {},
   "source": [
    "## Introducción"
   ]
  },
  {
   "cell_type": "markdown",
   "metadata": {},
   "source": [
    "Este proyecto consiste en preparar un informe par la división de préstamos de un banco. Deberemos averiguar si el estado civil y el número de hijos de un cliente tienen un impacto en el cumplimiento o incumplimiento del pago de un préstamo. Para hacer esto, tendremos que crear y asignar una puntuación de crédito para un cliente potencial. Se utilizará esta puntuación de crédito para evaluar la capacidad de un prestatario potencial para pagar su préstamo.\n",
    "\n",
    "El banco ya tiene algunos datos sobre la solvencia crediticia de los clientes. Por lo que comenzaremos procesando y reparando estos datos. Una vez tengamos un conjunto de datos completo y confiable, los podremos analizar y obtener las conclusiones que necesitamos."
   ]
  },
  {
   "cell_type": "markdown",
   "metadata": {},
   "source": [
    "### Objetivos del proyecto"
   ]
  },
  {
   "cell_type": "markdown",
   "metadata": {},
   "source": [
    "1. Averiguar si el estado civil y el número de hijos de un cliente tienen un impacto en el cumplimiento o incumplimiento del pago de un préstamo.\n",
    "2. Crear y asignar una puntuación de crédito para un cliente potencial."
   ]
  },
  {
   "cell_type": "markdown",
   "metadata": {},
   "source": [
    "## Abre el archivo de datos y mira la información general. \n"
   ]
  },
  {
   "cell_type": "code",
   "execution_count": 102,
   "metadata": {},
   "outputs": [],
   "source": [
    "# Cargar todas las librerías\n",
    "import pandas as pd\n",
    "import matplotlib.pyplot as plt\n",
    "import numpy as np\n"
   ]
  },
  {
   "cell_type": "code",
   "execution_count": 103,
   "metadata": {},
   "outputs": [],
   "source": [
    "# Carga los datos\n",
    "try:\n",
    "    df = pd.read_csv('credit_scoring_eng.csv')\n",
    "#except:\n",
    " #   df = pd.read_csv('C:/Users/tomas/OneDrive/Documentos/credit_scoring_eng.csv')\n",
    "except:\n",
    "    df = pd.read_csv('/datasets/credit_scoring_eng.csv') \n",
    "    \n",
    "df_natural = df"
   ]
  },
  {
   "cell_type": "markdown",
   "metadata": {},
   "source": [
    "## Ejercicio 1. Exploración de datos\n",
    "\n",
    "**Descripción de los datos**\n",
    "- `children` - el número de hijos en la familia\n",
    "- `days_employed` - experiencia laboral en días\n",
    "- `dob_years` - la edad del cliente en años\n",
    "- `education` - la educación del cliente\n",
    "- `education_id` - identificador de educación\n",
    "- `family_status` - estado civil\n",
    "- `family_status_id` - identificador de estado civil\n",
    "- `gender` - género del cliente\n",
    "- `income_type` - tipo de empleo\n",
    "- `debt` - ¿había alguna deuda en el pago de un préstamo?\n",
    "- `total_income` - ingreso mensual\n",
    "- `purpose` - el propósito de obtener un préstamo\n",
    "\n"
   ]
  },
  {
   "cell_type": "code",
   "execution_count": 104,
   "metadata": {},
   "outputs": [
    {
     "name": "stdout",
     "output_type": "stream",
     "text": [
      "Columnas: 12\n",
      "Filas: 21525\n"
     ]
    }
   ],
   "source": [
    "# Vamos a ver cuántas filas y columnas tiene nuestro conjunto de datos\n",
    "print('Columnas:', df.shape[1])\n",
    "print('Filas:', len(df))\n"
   ]
  },
  {
   "cell_type": "code",
   "execution_count": 105,
   "metadata": {
    "scrolled": true
   },
   "outputs": [
    {
     "data": {
      "text/html": [
       "<div>\n",
       "<style scoped>\n",
       "    .dataframe tbody tr th:only-of-type {\n",
       "        vertical-align: middle;\n",
       "    }\n",
       "\n",
       "    .dataframe tbody tr th {\n",
       "        vertical-align: top;\n",
       "    }\n",
       "\n",
       "    .dataframe thead th {\n",
       "        text-align: right;\n",
       "    }\n",
       "</style>\n",
       "<table border=\"1\" class=\"dataframe\">\n",
       "  <thead>\n",
       "    <tr style=\"text-align: right;\">\n",
       "      <th></th>\n",
       "      <th>children</th>\n",
       "      <th>days_employed</th>\n",
       "      <th>dob_years</th>\n",
       "      <th>education</th>\n",
       "      <th>education_id</th>\n",
       "      <th>family_status</th>\n",
       "      <th>family_status_id</th>\n",
       "      <th>gender</th>\n",
       "      <th>income_type</th>\n",
       "      <th>debt</th>\n",
       "      <th>total_income</th>\n",
       "      <th>purpose</th>\n",
       "    </tr>\n",
       "  </thead>\n",
       "  <tbody>\n",
       "    <tr>\n",
       "      <th>0</th>\n",
       "      <td>1</td>\n",
       "      <td>-8437.673028</td>\n",
       "      <td>42</td>\n",
       "      <td>bachelor's degree</td>\n",
       "      <td>0</td>\n",
       "      <td>married</td>\n",
       "      <td>0</td>\n",
       "      <td>F</td>\n",
       "      <td>employee</td>\n",
       "      <td>0</td>\n",
       "      <td>40620.102</td>\n",
       "      <td>purchase of the house</td>\n",
       "    </tr>\n",
       "    <tr>\n",
       "      <th>1</th>\n",
       "      <td>1</td>\n",
       "      <td>-4024.803754</td>\n",
       "      <td>36</td>\n",
       "      <td>secondary education</td>\n",
       "      <td>1</td>\n",
       "      <td>married</td>\n",
       "      <td>0</td>\n",
       "      <td>F</td>\n",
       "      <td>employee</td>\n",
       "      <td>0</td>\n",
       "      <td>17932.802</td>\n",
       "      <td>car purchase</td>\n",
       "    </tr>\n",
       "    <tr>\n",
       "      <th>2</th>\n",
       "      <td>0</td>\n",
       "      <td>-5623.422610</td>\n",
       "      <td>33</td>\n",
       "      <td>Secondary Education</td>\n",
       "      <td>1</td>\n",
       "      <td>married</td>\n",
       "      <td>0</td>\n",
       "      <td>M</td>\n",
       "      <td>employee</td>\n",
       "      <td>0</td>\n",
       "      <td>23341.752</td>\n",
       "      <td>purchase of the house</td>\n",
       "    </tr>\n",
       "    <tr>\n",
       "      <th>3</th>\n",
       "      <td>3</td>\n",
       "      <td>-4124.747207</td>\n",
       "      <td>32</td>\n",
       "      <td>secondary education</td>\n",
       "      <td>1</td>\n",
       "      <td>married</td>\n",
       "      <td>0</td>\n",
       "      <td>M</td>\n",
       "      <td>employee</td>\n",
       "      <td>0</td>\n",
       "      <td>42820.568</td>\n",
       "      <td>supplementary education</td>\n",
       "    </tr>\n",
       "    <tr>\n",
       "      <th>4</th>\n",
       "      <td>0</td>\n",
       "      <td>340266.072047</td>\n",
       "      <td>53</td>\n",
       "      <td>secondary education</td>\n",
       "      <td>1</td>\n",
       "      <td>civil partnership</td>\n",
       "      <td>1</td>\n",
       "      <td>F</td>\n",
       "      <td>retiree</td>\n",
       "      <td>0</td>\n",
       "      <td>25378.572</td>\n",
       "      <td>to have a wedding</td>\n",
       "    </tr>\n",
       "    <tr>\n",
       "      <th>5</th>\n",
       "      <td>0</td>\n",
       "      <td>-926.185831</td>\n",
       "      <td>27</td>\n",
       "      <td>bachelor's degree</td>\n",
       "      <td>0</td>\n",
       "      <td>civil partnership</td>\n",
       "      <td>1</td>\n",
       "      <td>M</td>\n",
       "      <td>business</td>\n",
       "      <td>0</td>\n",
       "      <td>40922.170</td>\n",
       "      <td>purchase of the house</td>\n",
       "    </tr>\n",
       "    <tr>\n",
       "      <th>6</th>\n",
       "      <td>0</td>\n",
       "      <td>-2879.202052</td>\n",
       "      <td>43</td>\n",
       "      <td>bachelor's degree</td>\n",
       "      <td>0</td>\n",
       "      <td>married</td>\n",
       "      <td>0</td>\n",
       "      <td>F</td>\n",
       "      <td>business</td>\n",
       "      <td>0</td>\n",
       "      <td>38484.156</td>\n",
       "      <td>housing transactions</td>\n",
       "    </tr>\n",
       "    <tr>\n",
       "      <th>7</th>\n",
       "      <td>0</td>\n",
       "      <td>-152.779569</td>\n",
       "      <td>50</td>\n",
       "      <td>SECONDARY EDUCATION</td>\n",
       "      <td>1</td>\n",
       "      <td>married</td>\n",
       "      <td>0</td>\n",
       "      <td>M</td>\n",
       "      <td>employee</td>\n",
       "      <td>0</td>\n",
       "      <td>21731.829</td>\n",
       "      <td>education</td>\n",
       "    </tr>\n",
       "    <tr>\n",
       "      <th>8</th>\n",
       "      <td>2</td>\n",
       "      <td>-6929.865299</td>\n",
       "      <td>35</td>\n",
       "      <td>BACHELOR'S DEGREE</td>\n",
       "      <td>0</td>\n",
       "      <td>civil partnership</td>\n",
       "      <td>1</td>\n",
       "      <td>F</td>\n",
       "      <td>employee</td>\n",
       "      <td>0</td>\n",
       "      <td>15337.093</td>\n",
       "      <td>having a wedding</td>\n",
       "    </tr>\n",
       "    <tr>\n",
       "      <th>9</th>\n",
       "      <td>0</td>\n",
       "      <td>-2188.756445</td>\n",
       "      <td>41</td>\n",
       "      <td>secondary education</td>\n",
       "      <td>1</td>\n",
       "      <td>married</td>\n",
       "      <td>0</td>\n",
       "      <td>M</td>\n",
       "      <td>employee</td>\n",
       "      <td>0</td>\n",
       "      <td>23108.150</td>\n",
       "      <td>purchase of the house for my family</td>\n",
       "    </tr>\n",
       "  </tbody>\n",
       "</table>\n",
       "</div>"
      ],
      "text/plain": [
       "   children  days_employed  dob_years            education  education_id  \\\n",
       "0         1   -8437.673028         42    bachelor's degree             0   \n",
       "1         1   -4024.803754         36  secondary education             1   \n",
       "2         0   -5623.422610         33  Secondary Education             1   \n",
       "3         3   -4124.747207         32  secondary education             1   \n",
       "4         0  340266.072047         53  secondary education             1   \n",
       "5         0    -926.185831         27    bachelor's degree             0   \n",
       "6         0   -2879.202052         43    bachelor's degree             0   \n",
       "7         0    -152.779569         50  SECONDARY EDUCATION             1   \n",
       "8         2   -6929.865299         35    BACHELOR'S DEGREE             0   \n",
       "9         0   -2188.756445         41  secondary education             1   \n",
       "\n",
       "       family_status  family_status_id gender income_type  debt  total_income  \\\n",
       "0            married                 0      F    employee     0     40620.102   \n",
       "1            married                 0      F    employee     0     17932.802   \n",
       "2            married                 0      M    employee     0     23341.752   \n",
       "3            married                 0      M    employee     0     42820.568   \n",
       "4  civil partnership                 1      F     retiree     0     25378.572   \n",
       "5  civil partnership                 1      M    business     0     40922.170   \n",
       "6            married                 0      F    business     0     38484.156   \n",
       "7            married                 0      M    employee     0     21731.829   \n",
       "8  civil partnership                 1      F    employee     0     15337.093   \n",
       "9            married                 0      M    employee     0     23108.150   \n",
       "\n",
       "                               purpose  \n",
       "0                purchase of the house  \n",
       "1                         car purchase  \n",
       "2                purchase of the house  \n",
       "3              supplementary education  \n",
       "4                    to have a wedding  \n",
       "5                purchase of the house  \n",
       "6                 housing transactions  \n",
       "7                            education  \n",
       "8                     having a wedding  \n",
       "9  purchase of the house for my family  "
      ]
     },
     "execution_count": 105,
     "metadata": {},
     "output_type": "execute_result"
    }
   ],
   "source": [
    "# vamos a mostrar las primeras filas N\n",
    "df.head(10)"
   ]
  },
  {
   "cell_type": "markdown",
   "metadata": {},
   "source": [
    "Veo varios posibles errores para nuestros datos:\n",
    "- `days_employed`: veo valores negativos y decimales, me gustaría preguntar la razón a quien me haya dado la tabla\n",
    "- `education`: probablemente tendremos varias formas diferentes de escribir los mismos datos, habrá que limpiar y reemplazar en esta lista\n",
    "- `family_status`: podriamos llegar a tener el mismo problema que con `education`\n",
    "- `debt`: según la descripción de datos, tal vez sería mejor tener un `str` o un valor booleano en esta columna, pero no debería ser problema\n",
    "- `purpose`: probablemente hay muchos motivos diferentes, será dificil analizar esta columna, pero se podrían llegar a agrupar en categorias generales"
   ]
  },
  {
   "cell_type": "code",
   "execution_count": 106,
   "metadata": {
    "scrolled": true
   },
   "outputs": [
    {
     "name": "stdout",
     "output_type": "stream",
     "text": [
      "<class 'pandas.core.frame.DataFrame'>\n",
      "RangeIndex: 21525 entries, 0 to 21524\n",
      "Data columns (total 12 columns):\n",
      " #   Column            Non-Null Count  Dtype  \n",
      "---  ------            --------------  -----  \n",
      " 0   children          21525 non-null  int64  \n",
      " 1   days_employed     19351 non-null  float64\n",
      " 2   dob_years         21525 non-null  int64  \n",
      " 3   education         21525 non-null  object \n",
      " 4   education_id      21525 non-null  int64  \n",
      " 5   family_status     21525 non-null  object \n",
      " 6   family_status_id  21525 non-null  int64  \n",
      " 7   gender            21525 non-null  object \n",
      " 8   income_type       21525 non-null  object \n",
      " 9   debt              21525 non-null  int64  \n",
      " 10  total_income      19351 non-null  float64\n",
      " 11  purpose           21525 non-null  object \n",
      "dtypes: float64(2), int64(5), object(5)\n",
      "memory usage: 2.0+ MB\n"
     ]
    }
   ],
   "source": [
    "# Obtener información sobre los datos\n",
    "df.info()"
   ]
  },
  {
   "cell_type": "markdown",
   "metadata": {},
   "source": [
    "\n",
    "Hay valores ausentes en las columnas `days_employed` y `total_income`. Como son la misma cantidad, tal vez los valores falten en ambas columnas simultaneamente en cada fila."
   ]
  },
  {
   "cell_type": "code",
   "execution_count": 107,
   "metadata": {
    "scrolled": true
   },
   "outputs": [
    {
     "data": {
      "text/html": [
       "<div>\n",
       "<style scoped>\n",
       "    .dataframe tbody tr th:only-of-type {\n",
       "        vertical-align: middle;\n",
       "    }\n",
       "\n",
       "    .dataframe tbody tr th {\n",
       "        vertical-align: top;\n",
       "    }\n",
       "\n",
       "    .dataframe thead th {\n",
       "        text-align: right;\n",
       "    }\n",
       "</style>\n",
       "<table border=\"1\" class=\"dataframe\">\n",
       "  <thead>\n",
       "    <tr style=\"text-align: right;\">\n",
       "      <th></th>\n",
       "      <th>children</th>\n",
       "      <th>days_employed</th>\n",
       "      <th>dob_years</th>\n",
       "      <th>education</th>\n",
       "      <th>education_id</th>\n",
       "      <th>family_status</th>\n",
       "      <th>family_status_id</th>\n",
       "      <th>gender</th>\n",
       "      <th>income_type</th>\n",
       "      <th>debt</th>\n",
       "      <th>total_income</th>\n",
       "      <th>purpose</th>\n",
       "    </tr>\n",
       "  </thead>\n",
       "  <tbody>\n",
       "    <tr>\n",
       "      <th>12</th>\n",
       "      <td>0</td>\n",
       "      <td>NaN</td>\n",
       "      <td>65</td>\n",
       "      <td>secondary education</td>\n",
       "      <td>1</td>\n",
       "      <td>civil partnership</td>\n",
       "      <td>1</td>\n",
       "      <td>M</td>\n",
       "      <td>retiree</td>\n",
       "      <td>0</td>\n",
       "      <td>NaN</td>\n",
       "      <td>to have a wedding</td>\n",
       "    </tr>\n",
       "    <tr>\n",
       "      <th>26</th>\n",
       "      <td>0</td>\n",
       "      <td>NaN</td>\n",
       "      <td>41</td>\n",
       "      <td>secondary education</td>\n",
       "      <td>1</td>\n",
       "      <td>married</td>\n",
       "      <td>0</td>\n",
       "      <td>M</td>\n",
       "      <td>civil servant</td>\n",
       "      <td>0</td>\n",
       "      <td>NaN</td>\n",
       "      <td>education</td>\n",
       "    </tr>\n",
       "    <tr>\n",
       "      <th>29</th>\n",
       "      <td>0</td>\n",
       "      <td>NaN</td>\n",
       "      <td>63</td>\n",
       "      <td>secondary education</td>\n",
       "      <td>1</td>\n",
       "      <td>unmarried</td>\n",
       "      <td>4</td>\n",
       "      <td>F</td>\n",
       "      <td>retiree</td>\n",
       "      <td>0</td>\n",
       "      <td>NaN</td>\n",
       "      <td>building a real estate</td>\n",
       "    </tr>\n",
       "    <tr>\n",
       "      <th>41</th>\n",
       "      <td>0</td>\n",
       "      <td>NaN</td>\n",
       "      <td>50</td>\n",
       "      <td>secondary education</td>\n",
       "      <td>1</td>\n",
       "      <td>married</td>\n",
       "      <td>0</td>\n",
       "      <td>F</td>\n",
       "      <td>civil servant</td>\n",
       "      <td>0</td>\n",
       "      <td>NaN</td>\n",
       "      <td>second-hand car purchase</td>\n",
       "    </tr>\n",
       "    <tr>\n",
       "      <th>55</th>\n",
       "      <td>0</td>\n",
       "      <td>NaN</td>\n",
       "      <td>54</td>\n",
       "      <td>secondary education</td>\n",
       "      <td>1</td>\n",
       "      <td>civil partnership</td>\n",
       "      <td>1</td>\n",
       "      <td>F</td>\n",
       "      <td>retiree</td>\n",
       "      <td>1</td>\n",
       "      <td>NaN</td>\n",
       "      <td>to have a wedding</td>\n",
       "    </tr>\n",
       "    <tr>\n",
       "      <th>65</th>\n",
       "      <td>0</td>\n",
       "      <td>NaN</td>\n",
       "      <td>21</td>\n",
       "      <td>secondary education</td>\n",
       "      <td>1</td>\n",
       "      <td>unmarried</td>\n",
       "      <td>4</td>\n",
       "      <td>M</td>\n",
       "      <td>business</td>\n",
       "      <td>0</td>\n",
       "      <td>NaN</td>\n",
       "      <td>transactions with commercial real estate</td>\n",
       "    </tr>\n",
       "    <tr>\n",
       "      <th>67</th>\n",
       "      <td>0</td>\n",
       "      <td>NaN</td>\n",
       "      <td>52</td>\n",
       "      <td>bachelor's degree</td>\n",
       "      <td>0</td>\n",
       "      <td>married</td>\n",
       "      <td>0</td>\n",
       "      <td>F</td>\n",
       "      <td>retiree</td>\n",
       "      <td>0</td>\n",
       "      <td>NaN</td>\n",
       "      <td>purchase of the house for my family</td>\n",
       "    </tr>\n",
       "    <tr>\n",
       "      <th>72</th>\n",
       "      <td>1</td>\n",
       "      <td>NaN</td>\n",
       "      <td>32</td>\n",
       "      <td>bachelor's degree</td>\n",
       "      <td>0</td>\n",
       "      <td>married</td>\n",
       "      <td>0</td>\n",
       "      <td>M</td>\n",
       "      <td>civil servant</td>\n",
       "      <td>0</td>\n",
       "      <td>NaN</td>\n",
       "      <td>transactions with commercial real estate</td>\n",
       "    </tr>\n",
       "    <tr>\n",
       "      <th>82</th>\n",
       "      <td>2</td>\n",
       "      <td>NaN</td>\n",
       "      <td>50</td>\n",
       "      <td>bachelor's degree</td>\n",
       "      <td>0</td>\n",
       "      <td>married</td>\n",
       "      <td>0</td>\n",
       "      <td>F</td>\n",
       "      <td>employee</td>\n",
       "      <td>0</td>\n",
       "      <td>NaN</td>\n",
       "      <td>housing</td>\n",
       "    </tr>\n",
       "    <tr>\n",
       "      <th>83</th>\n",
       "      <td>0</td>\n",
       "      <td>NaN</td>\n",
       "      <td>52</td>\n",
       "      <td>secondary education</td>\n",
       "      <td>1</td>\n",
       "      <td>married</td>\n",
       "      <td>0</td>\n",
       "      <td>M</td>\n",
       "      <td>employee</td>\n",
       "      <td>0</td>\n",
       "      <td>NaN</td>\n",
       "      <td>housing</td>\n",
       "    </tr>\n",
       "  </tbody>\n",
       "</table>\n",
       "</div>"
      ],
      "text/plain": [
       "    children  days_employed  dob_years            education  education_id  \\\n",
       "12         0            NaN         65  secondary education             1   \n",
       "26         0            NaN         41  secondary education             1   \n",
       "29         0            NaN         63  secondary education             1   \n",
       "41         0            NaN         50  secondary education             1   \n",
       "55         0            NaN         54  secondary education             1   \n",
       "65         0            NaN         21  secondary education             1   \n",
       "67         0            NaN         52    bachelor's degree             0   \n",
       "72         1            NaN         32    bachelor's degree             0   \n",
       "82         2            NaN         50    bachelor's degree             0   \n",
       "83         0            NaN         52  secondary education             1   \n",
       "\n",
       "        family_status  family_status_id gender    income_type  debt  \\\n",
       "12  civil partnership                 1      M        retiree     0   \n",
       "26            married                 0      M  civil servant     0   \n",
       "29          unmarried                 4      F        retiree     0   \n",
       "41            married                 0      F  civil servant     0   \n",
       "55  civil partnership                 1      F        retiree     1   \n",
       "65          unmarried                 4      M       business     0   \n",
       "67            married                 0      F        retiree     0   \n",
       "72            married                 0      M  civil servant     0   \n",
       "82            married                 0      F       employee     0   \n",
       "83            married                 0      M       employee     0   \n",
       "\n",
       "    total_income                                   purpose  \n",
       "12           NaN                         to have a wedding  \n",
       "26           NaN                                 education  \n",
       "29           NaN                    building a real estate  \n",
       "41           NaN                  second-hand car purchase  \n",
       "55           NaN                         to have a wedding  \n",
       "65           NaN  transactions with commercial real estate  \n",
       "67           NaN       purchase of the house for my family  \n",
       "72           NaN  transactions with commercial real estate  \n",
       "82           NaN                                   housing  \n",
       "83           NaN                                   housing  "
      ]
     },
     "execution_count": 107,
     "metadata": {},
     "output_type": "execute_result"
    }
   ],
   "source": [
    "# Veamos la tabla filtrada con valores ausentes de la primera columna donde faltan datos\n",
    "df_empty = df[df['days_employed'].isna()==True]\n",
    "df_empty.head(10)\n"
   ]
  },
  {
   "cell_type": "markdown",
   "metadata": {},
   "source": [
    "\n",
    "Los valores parecen simétricos, pero no podemos estar seguros. En el siguiente cuadro haremos un análisis más profundo para verificarlo.\n",
    "Aquí dejaré la información de la tabla anterior para poder compararla con la siguiente."
   ]
  },
  {
   "cell_type": "code",
   "execution_count": 108,
   "metadata": {},
   "outputs": [
    {
     "name": "stdout",
     "output_type": "stream",
     "text": [
      "<class 'pandas.core.frame.DataFrame'>\n",
      "Int64Index: 2174 entries, 12 to 21510\n",
      "Data columns (total 12 columns):\n",
      " #   Column            Non-Null Count  Dtype  \n",
      "---  ------            --------------  -----  \n",
      " 0   children          2174 non-null   int64  \n",
      " 1   days_employed     0 non-null      float64\n",
      " 2   dob_years         2174 non-null   int64  \n",
      " 3   education         2174 non-null   object \n",
      " 4   education_id      2174 non-null   int64  \n",
      " 5   family_status     2174 non-null   object \n",
      " 6   family_status_id  2174 non-null   int64  \n",
      " 7   gender            2174 non-null   object \n",
      " 8   income_type       2174 non-null   object \n",
      " 9   debt              2174 non-null   int64  \n",
      " 10  total_income      0 non-null      float64\n",
      " 11  purpose           2174 non-null   object \n",
      "dtypes: float64(2), int64(5), object(5)\n",
      "memory usage: 220.8+ KB\n"
     ]
    }
   ],
   "source": [
    "df_empty.info()"
   ]
  },
  {
   "cell_type": "code",
   "execution_count": 109,
   "metadata": {},
   "outputs": [
    {
     "name": "stdout",
     "output_type": "stream",
     "text": [
      "<class 'pandas.core.frame.DataFrame'>\n",
      "Int64Index: 2174 entries, 12 to 21510\n",
      "Data columns (total 12 columns):\n",
      " #   Column            Non-Null Count  Dtype  \n",
      "---  ------            --------------  -----  \n",
      " 0   children          2174 non-null   int64  \n",
      " 1   days_employed     0 non-null      float64\n",
      " 2   dob_years         2174 non-null   int64  \n",
      " 3   education         2174 non-null   object \n",
      " 4   education_id      2174 non-null   int64  \n",
      " 5   family_status     2174 non-null   object \n",
      " 6   family_status_id  2174 non-null   int64  \n",
      " 7   gender            2174 non-null   object \n",
      " 8   income_type       2174 non-null   object \n",
      " 9   debt              2174 non-null   int64  \n",
      " 10  total_income      0 non-null      float64\n",
      " 11  purpose           2174 non-null   object \n",
      "dtypes: float64(2), int64(5), object(5)\n",
      "memory usage: 220.8+ KB\n"
     ]
    }
   ],
   "source": [
    "# Apliquemos múltiples condiciones para filtrar datos y veamos el número de filas en la tabla filtrada.\n",
    "\n",
    "df_empty_2 = df[(df['days_employed'].isna()==True) & (df['total_income'].isna()==True)]\n",
    "df_empty_2.info()"
   ]
  },
  {
   "cell_type": "markdown",
   "metadata": {},
   "source": [
    "**Conclusión intermedia**\n",
    "\n",
    "Los valores calzan completamente, ahora si podemos concluir que cuando falte un valor en una fila, tambien faltará el otro.\n",
    "\n",
    "Tenemos un 10% de filas con los datos faltantes, esto es suficiente para alterar nuetras mediciones y debemos resolverlo antes de comenzar con el análisis.\n",
    "\n",
    "Debemos resolver el problema de los valores ausentes. Primero revisaremos las otras columnas para ver si existe alguna correlación o causa para la falta de datos. Analizaremos los datos para ver si los datos faltantes se deben a algun factor especifico que podamos descubrir. \n",
    "\n",
    "Luego, si existe alguna información que nos pueda ayudar a entender los valores vacíos, también nos podría ayudar a llenarlos."
   ]
  },
  {
   "cell_type": "code",
   "execution_count": 110,
   "metadata": {},
   "outputs": [
    {
     "data": {
      "text/plain": [
       "education_id\n",
       "0     544\n",
       "1    1540\n",
       "2      69\n",
       "3      21\n",
       "Name: education_id, dtype: int64"
      ]
     },
     "execution_count": 110,
     "metadata": {},
     "output_type": "execute_result"
    }
   ],
   "source": [
    "# Vamos a investigar a los clientes que no tienen datos sobre la característica identificada y la columna con los valores ausentes\n",
    "\n",
    "df_empty.groupby('education_id')['education_id'].count() \n",
    "# Encontramos que una gran mayoría de estas personas tiene el mismo nivel educacional"
   ]
  },
  {
   "cell_type": "code",
   "execution_count": 111,
   "metadata": {
    "scrolled": true
   },
   "outputs": [
    {
     "data": {
      "text/plain": [
       "1    0.708372\n",
       "0    0.250230\n",
       "2    0.031739\n",
       "3    0.009660\n",
       "Name: education_id, dtype: float64"
      ]
     },
     "execution_count": 111,
     "metadata": {},
     "output_type": "execute_result"
    }
   ],
   "source": [
    "df_empty['education_id'].value_counts(normalize=True)"
   ]
  },
  {
   "cell_type": "code",
   "execution_count": 112,
   "metadata": {},
   "outputs": [
    {
     "data": {
      "text/plain": [
       "1    0.707689\n",
       "0    0.244367\n",
       "2    0.034564\n",
       "3    0.013101\n",
       "4    0.000279\n",
       "Name: education_id, dtype: float64"
      ]
     },
     "execution_count": 112,
     "metadata": {},
     "output_type": "execute_result"
    }
   ],
   "source": [
    "df['education_id'].value_counts(normalize=True)"
   ]
  },
  {
   "cell_type": "code",
   "execution_count": 113,
   "metadata": {
    "scrolled": true
   },
   "outputs": [
    {
     "name": "stdout",
     "output_type": "stream",
     "text": [
      "[[<AxesSubplot:title={'center':'education_id'}>]]\n"
     ]
    },
    {
     "data": {
      "image/png": "[encoded data removed]",
      "text/plain": [
       "<Figure size 432x288 with 1 Axes>"
      ]
     },
     "metadata": {
      "needs_background": "light"
     },
     "output_type": "display_data"
    }
   ],
   "source": [
    "# Comprobación de la distribución\n",
    "\n",
    "print(df_empty.hist('education_id')) # No entiendo bien que se refieren con comprobar la distribución"
   ]
  },
  {
   "cell_type": "markdown",
   "metadata": {},
   "source": [
    "\n",
    "**Posibles razones por las que hay valores ausentes en los datos**\n",
    "\n",
    "Las razones más probables que se me ocurren son 3:\n",
    "1. Estas personas no tienen actualmente un trabajo y en vez de poner el valor 0, dejaron el valor vacío\n",
    "2. Estas personas tienen actualmente un trabajo, pero este no es con contrato y/o no tiene un sueldo fijo\n",
    "3. Hay un error en los datos, ya sea por como se obtuvieron, guardaron o entregaron.\n",
    "\n",
    "No creo que los valores vacíos sean al azar, pues siempre faltan ambos valores en las filas con valores vacíos. Entonces, estos deben seguir algún patrón. Por lo que puedo estimar, pueden ser cualquiera de las 3 razones propuestas anteriormente."
   ]
  },
  {
   "cell_type": "code",
   "execution_count": 114,
   "metadata": {},
   "outputs": [
    {
     "name": "stdout",
     "output_type": "stream",
     "text": [
      "education_id\n",
      "0     5260\n",
      "1    15233\n",
      "2      744\n",
      "3      282\n",
      "4        6\n",
      "Name: education_id, dtype: int64\n"
     ]
    },
    {
     "data": {
      "text/plain": [
       "array([[<AxesSubplot:title={'center':'education_id'}>]], dtype=object)"
      ]
     },
     "execution_count": 114,
     "metadata": {},
     "output_type": "execute_result"
    },
    {
     "data": {
      "image/png": "[encoded data removed]",
      "text/plain": [
       "<Figure size 432x288 with 1 Axes>"
      ]
     },
     "metadata": {
      "needs_background": "light"
     },
     "output_type": "display_data"
    }
   ],
   "source": [
    "# Comprobando la distribución en el conjunto de datos entero\n",
    "print(df.groupby('education_id')['education_id'].count())\n",
    "df.hist('education_id')"
   ]
  },
  {
   "cell_type": "markdown",
   "metadata": {},
   "source": [
    "**Conclusión intermedia**\n",
    "\n",
    "Ambos grupos de datos tienen la misma distribución. De hecho a diferencia de un orden de magnitud, ambos histogramas tienen casi exactamente la misma estructura.Por ejemplo un 70% de personas tienen un bachelor's degree (id = 1).\n",
    "\n",
    "Significa que se hace dificil encontrar una única razon por la que se de esta falta de información. \n",
    "\n",
    "Compararemos otras variables para asegurarnos que no existe algún patron que no hayamos notado."
   ]
  },
  {
   "cell_type": "code",
   "execution_count": 115,
   "metadata": {},
   "outputs": [
    {
     "name": "stdout",
     "output_type": "stream",
     "text": [
      "Tipos de trabajo en grupo con datos faltantes:\n",
      "income_type\n",
      "business          508\n",
      "civil servant     147\n",
      "employee         1105\n",
      "entrepreneur        1\n",
      "retiree           413\n",
      "Name: income_type, dtype: int64\n",
      "\n",
      "\n",
      "Tipos de trabajo en grupo completo:\n",
      "income_type\n",
      "business                        5085\n",
      "civil servant                   1459\n",
      "employee                       11119\n",
      "entrepreneur                       2\n",
      "paternity / maternity leave        1\n",
      "retiree                         3856\n",
      "student                            1\n",
      "unemployed                         2\n",
      "Name: income_type, dtype: int64\n"
     ]
    }
   ],
   "source": [
    "# Comprueba otras razones y patrones que podrían llevar a valores ausentes\n",
    "print('Tipos de trabajo en grupo con datos faltantes:')\n",
    "print(df_empty.groupby('income_type')['income_type'].count())\n",
    "print()\n",
    "print()\n",
    "print('Tipos de trabajo en grupo completo:')\n",
    "print(df.groupby('income_type')['income_type'].count())"
   ]
  },
  {
   "cell_type": "markdown",
   "metadata": {},
   "source": [
    "El hecho de que ninguna de estas personas haya marcado unemployed en la columna `income_type` me lleva a concluir que la razón 1 no es la correcta. Estas personas poseen algún trabajo.\n",
    "\n",
    "Además, nuevamente se mantienen las mismas proporciones, lo que me hace pensar que la razón 3 gana posibilidades."
   ]
  },
  {
   "cell_type": "markdown",
   "metadata": {},
   "source": [
    "**Conclusión intermedia**\n",
    "\n",
    "Al parecere los valores ausentes son accidentales, a continuación se verificarán algunas otras variables para asegurarnos de esto."
   ]
  },
  {
   "cell_type": "code",
   "execution_count": 116,
   "metadata": {
    "scrolled": false
   },
   "outputs": [
    {
     "name": "stdout",
     "output_type": "stream",
     "text": [
      "Cantidad de niños en grupo con datos faltantes:\n",
      "children\n",
      "-1        3\n",
      " 0     1439\n",
      " 1      475\n",
      " 2      204\n",
      " 3       36\n",
      " 4        7\n",
      " 5        1\n",
      " 20       9\n",
      "Name: children, dtype: int64\n",
      "\n",
      "Cantidad de niños en grupo completo:\n",
      "children\n",
      "-1        47\n",
      " 0     14149\n",
      " 1      4818\n",
      " 2      2055\n",
      " 3       330\n",
      " 4        41\n",
      " 5         9\n",
      " 20       76\n",
      "Name: children, dtype: int64\n"
     ]
    }
   ],
   "source": [
    "# Comprobación de otros patrones: Cantidad de niños\n",
    "print('Cantidad de niños en grupo con datos faltantes:')\n",
    "print(df_empty.groupby('children')['children'].count())\n",
    "print()\n",
    "print('Cantidad de niños en grupo completo:')\n",
    "print(df.groupby('children')['children'].count())"
   ]
  },
  {
   "cell_type": "code",
   "execution_count": 117,
   "metadata": {},
   "outputs": [
    {
     "name": "stdout",
     "output_type": "stream",
     "text": [
      "Tipo de familia en grupo con datos faltantes:\n",
      "family_status_id\n",
      "0    1237\n",
      "1     442\n",
      "2      95\n",
      "3     112\n",
      "4     288\n",
      "Name: family_status_id, dtype: int64\n",
      "\n",
      "Tipo de familia en grupo completo:\n",
      "family_status_id\n",
      "0    12380\n",
      "1     4177\n",
      "2      960\n",
      "3     1195\n",
      "4     2813\n",
      "Name: family_status_id, dtype: int64\n"
     ]
    }
   ],
   "source": [
    "# Comprobación de otros patrones: Cantidad de niños\n",
    "print('Tipo de familia en grupo con datos faltantes:')\n",
    "print(df_empty.groupby('family_status_id')['family_status_id'].count())\n",
    "print()\n",
    "print('Tipo de familia en grupo completo:')\n",
    "print(df.groupby('family_status_id')['family_status_id'].count())"
   ]
  },
  {
   "cell_type": "markdown",
   "metadata": {},
   "source": [
    "**Conclusiones**\n",
    "\n",
    "Todas las filas con datos faltantes siguen el mismo patrón de distribución que los datos generales en todas las variables comparadas. Me parece que este es el patrón que buscabamos y que confirma que la falta de valores es accidental o aleatoria.\n",
    "\n",
    "Como siempre se siguen los mismos patrones de dispersión entre las filas con valores faltantes y los datos generales, estudiaremos la media, la mediana y la dispersión de los datos para decidir con que valores llenar los datos vacíos. Probablemente usemos la media o la mediana, dependiendo de como se distribuyan los valores en estas tablas.\n",
    "\n",
    "Las lineas duplicadas se eliminaran, mientras que las con datos faltantes se llenaran, evaluando los valores según edad y nivel de estudios. \n",
    "Ahora considerando los datos ingresados incorrectamente, deberemos estudiarlos antes de poder dar una repuesta. Si podemos arreglarlos, lo haremos. En caso contrario, deberemos decidir si eliminarlos es la opción correcta."
   ]
  },
  {
   "cell_type": "markdown",
   "metadata": {},
   "source": [
    "## Transformación de datos\n"
   ]
  },
  {
   "cell_type": "code",
   "execution_count": 118,
   "metadata": {},
   "outputs": [
    {
     "data": {
      "text/plain": [
       "array([\"bachelor's degree\", 'secondary education', 'Secondary Education',\n",
       "       'SECONDARY EDUCATION', \"BACHELOR'S DEGREE\", 'some college',\n",
       "       'primary education', \"Bachelor's Degree\", 'SOME COLLEGE',\n",
       "       'Some College', 'PRIMARY EDUCATION', 'Primary Education',\n",
       "       'Graduate Degree', 'GRADUATE DEGREE', 'graduate degree'],\n",
       "      dtype=object)"
      ]
     },
     "execution_count": 118,
     "metadata": {},
     "output_type": "execute_result"
    }
   ],
   "source": [
    "# Veamos todos los valores en la columna de educación para verificar si será necesario corregir la ortografía y qué habrá que corregir exactamente\n",
    "df['education'].unique()"
   ]
  },
  {
   "cell_type": "code",
   "execution_count": 119,
   "metadata": {
    "scrolled": true
   },
   "outputs": [],
   "source": [
    "# Arregla los registros si es necesario\n",
    "df['education'] = df['education'].str.lower()"
   ]
  },
  {
   "cell_type": "code",
   "execution_count": 120,
   "metadata": {},
   "outputs": [
    {
     "data": {
      "text/plain": [
       "array([\"bachelor's degree\", 'secondary education', 'some college',\n",
       "       'primary education', 'graduate degree'], dtype=object)"
      ]
     },
     "execution_count": 120,
     "metadata": {},
     "output_type": "execute_result"
    }
   ],
   "source": [
    "# Comprobar todos los valores en la columna para asegurarnos de que los hayamos corregido\n",
    "\n",
    "df['education'].unique()"
   ]
  },
  {
   "cell_type": "code",
   "execution_count": 121,
   "metadata": {},
   "outputs": [
    {
     "data": {
      "text/plain": [
       "children\n",
       "-1        47\n",
       " 0     14149\n",
       " 1      4818\n",
       " 2      2055\n",
       " 3       330\n",
       " 4        41\n",
       " 5         9\n",
       " 20       76\n",
       "Name: children, dtype: int64"
      ]
     },
     "execution_count": 121,
     "metadata": {},
     "output_type": "execute_result"
    }
   ],
   "source": [
    "# Veamos la distribución de los valores en la columna `children`\n",
    "df.groupby('children')['children'].count()"
   ]
  },
  {
   "cell_type": "markdown",
   "metadata": {},
   "source": [
    "Tenemos 2 grupos problemáticos:\n",
    "- Las persons con -1 hijos\n",
    "- Las personas con 20 hijos\n",
    "\n",
    "En conjunto, los valores problemáticos son el 0.5% de los datos totales. Al ser tan pocos, eliminarlos no afectará a la distribución total ni las conclusiones que sacaremos del análisis de datos, pero intentaremos mantenerlos y corregirlos."
   ]
  },
  {
   "cell_type": "code",
   "execution_count": 122,
   "metadata": {},
   "outputs": [],
   "source": [
    "# [arregla los datos según tu decisión]\n",
    "# df = df[(df['children']!=20) & (df['children']!=-1)] # Solo mantendré el codigo a modo de referencia.\n",
    "df['children'] = df['children'].replace(-1, 1)\n",
    "df['children'] = df['children'].replace(20, 2)\n"
   ]
  },
  {
   "cell_type": "code",
   "execution_count": 123,
   "metadata": {},
   "outputs": [
    {
     "data": {
      "text/plain": [
       "children\n",
       "0    14149\n",
       "1     4865\n",
       "2     2131\n",
       "3      330\n",
       "4       41\n",
       "5        9\n",
       "dtype: int64"
      ]
     },
     "execution_count": 123,
     "metadata": {},
     "output_type": "execute_result"
    }
   ],
   "source": [
    "# Comprobar la columna `children` de nuevo para asegurarnos de que todo está arreglado\n",
    "df.value_counts('children')\n"
   ]
  },
  {
   "cell_type": "code",
   "execution_count": 124,
   "metadata": {
    "scrolled": false
   },
   "outputs": [
    {
     "data": {
      "text/plain": [
       "count     19351.000000\n",
       "mean      63046.497661\n",
       "std      140827.311974\n",
       "min      -18388.949901\n",
       "25%       -2747.423625\n",
       "50%       -1203.369529\n",
       "75%        -291.095954\n",
       "max      401755.400475\n",
       "Name: days_employed, dtype: float64"
      ]
     },
     "execution_count": 124,
     "metadata": {},
     "output_type": "execute_result"
    }
   ],
   "source": [
    "# Encuentra datos problemáticos en `days_employed`, si existen, y calcula el porcentaje\n",
    "df['days_employed'].describe()"
   ]
  },
  {
   "cell_type": "markdown",
   "metadata": {},
   "source": [
    "Tenemos más de un 75% de datos con errores."
   ]
  },
  {
   "cell_type": "code",
   "execution_count": 125,
   "metadata": {
    "scrolled": true
   },
   "outputs": [],
   "source": [
    "# Aborda los valores problemáticos, si existen.\n",
    "df['days_employed'] = abs(df['days_employed'])"
   ]
  },
  {
   "cell_type": "code",
   "execution_count": 126,
   "metadata": {},
   "outputs": [
    {
     "data": {
      "text/plain": [
       "count     19351.000000\n",
       "mean      66914.728907\n",
       "std      139030.880527\n",
       "min          24.141633\n",
       "25%         927.009265\n",
       "50%        2194.220567\n",
       "75%        5537.882441\n",
       "max      401755.400475\n",
       "Name: days_employed, dtype: float64"
      ]
     },
     "execution_count": 126,
     "metadata": {},
     "output_type": "execute_result"
    }
   ],
   "source": [
    "# Comprueba el resultado - asegúrate de que esté arreglado\n",
    "df['days_employed'].describe()"
   ]
  },
  {
   "cell_type": "markdown",
   "metadata": {},
   "source": [
    "Ahora echemos un vistazo a la edad de clientes para ver si hay algún problema allí."
   ]
  },
  {
   "cell_type": "code",
   "execution_count": 127,
   "metadata": {
    "scrolled": true
   },
   "outputs": [
    {
     "name": "stdout",
     "output_type": "stream",
     "text": [
      "count    21525.000000\n",
      "mean        43.293380\n",
      "std         12.574584\n",
      "min          0.000000\n",
      "25%         33.000000\n",
      "50%         42.000000\n",
      "75%         53.000000\n",
      "max         75.000000\n",
      "Name: dob_years, dtype: float64\n",
      "Porcentaje: 0.4692218350754936 %\n"
     ]
    },
    {
     "data": {
      "text/plain": [
       "<AxesSubplot:>"
      ]
     },
     "execution_count": 127,
     "metadata": {},
     "output_type": "execute_result"
    },
    {
     "data": {
      "image/png": "[encoded data removed]",
      "text/plain": [
       "<Figure size 432x288 with 1 Axes>"
      ]
     },
     "metadata": {
      "needs_background": "light"
     },
     "output_type": "display_data"
    }
   ],
   "source": [
    "# Revisa `dob_years` en busca de valores sospechosos y cuenta el porcentaje\n",
    "print(df['dob_years'].describe())\n",
    "print('Porcentaje:', len(df[df['dob_years']==0])*100/len(df),'%')\n",
    "df['dob_years'].hist()"
   ]
  },
  {
   "cell_type": "markdown",
   "metadata": {},
   "source": [
    "Siendo un porcentaje tan bajo, eliminarlos no debería causarnos problemas con el análisis de las tendencias en los datos generales."
   ]
  },
  {
   "cell_type": "code",
   "execution_count": 128,
   "metadata": {},
   "outputs": [],
   "source": [
    "# Resuelve los problemas en la columna `dob_years`, si existen\n",
    "df = df[df['dob_years']!=0]"
   ]
  },
  {
   "cell_type": "code",
   "execution_count": 129,
   "metadata": {},
   "outputs": [
    {
     "name": "stdout",
     "output_type": "stream",
     "text": [
      "Porcentaje: 0.0 %\n"
     ]
    },
    {
     "data": {
      "text/plain": [
       "<AxesSubplot:>"
      ]
     },
     "execution_count": 129,
     "metadata": {},
     "output_type": "execute_result"
    },
    {
     "data": {
      "image/png": "[encoded data removed]",
      "text/plain": [
       "<Figure size 432x288 with 1 Axes>"
      ]
     },
     "metadata": {
      "needs_background": "light"
     },
     "output_type": "display_data"
    }
   ],
   "source": [
    "# Comprueba el resultado - asegúrate de que esté arreglado\n",
    "print('Porcentaje:', len(df[df['dob_years']==0])*100/len(df),'%')\n",
    "df['dob_years'].hist()"
   ]
  },
  {
   "cell_type": "code",
   "execution_count": 130,
   "metadata": {},
   "outputs": [
    {
     "name": "stdout",
     "output_type": "stream",
     "text": [
      "family_status\n",
      "married              12331\n",
      "civil partnership     4156\n",
      "unmarried             2797\n",
      "divorced              1185\n",
      "widow / widower        955\n",
      "dtype: int64\n"
     ]
    },
    {
     "data": {
      "text/plain": [
       "<AxesSubplot:>"
      ]
     },
     "execution_count": 130,
     "metadata": {},
     "output_type": "execute_result"
    },
    {
     "data": {
      "image/png": "[encoded data removed]",
      "text/plain": [
       "<Figure size 432x288 with 1 Axes>"
      ]
     },
     "metadata": {
      "needs_background": "light"
     },
     "output_type": "display_data"
    }
   ],
   "source": [
    "# Veamos los valores de la columna\n",
    "print(df.value_counts('family_status'))\n",
    "df['family_status'].hist()\n"
   ]
  },
  {
   "cell_type": "code",
   "execution_count": 131,
   "metadata": {},
   "outputs": [],
   "source": [
    "# Aborda los valores problemáticos en `family_status`, si existen\n",
    "\n",
    "# Todo parece estar bien con estos datos.\n",
    "# No hay errores de tipeo, ni valores extraños.\n",
    "# Aunque si sorprende la gran cantidad de personas casadas comparada a los otros grupos\n",
    "# Pero es esperable por los gastos de una pareja casada, como casa, auto, niñes, negocios. etc."
   ]
  },
  {
   "cell_type": "code",
   "execution_count": 132,
   "metadata": {},
   "outputs": [],
   "source": [
    "# Comprueba el resultado - asegúrate de que esté arreglado\n",
    "\n",
    "# Nada que comprobar, los datos siguen iguales."
   ]
  },
  {
   "cell_type": "code",
   "execution_count": 133,
   "metadata": {},
   "outputs": [
    {
     "name": "stdout",
     "output_type": "stream",
     "text": [
      "Generos: ['F' 'M' 'XNA']\n",
      "gender\n",
      "F      14164\n",
      "M       7259\n",
      "XNA        1\n",
      "dtype: int64\n"
     ]
    },
    {
     "data": {
      "text/plain": [
       "<AxesSubplot:>"
      ]
     },
     "execution_count": 133,
     "metadata": {},
     "output_type": "execute_result"
    },
    {
     "data": {
      "image/png": "[encoded data removed]",
      "text/plain": [
       "<Figure size 432x288 with 1 Axes>"
      ]
     },
     "metadata": {
      "needs_background": "light"
     },
     "output_type": "display_data"
    }
   ],
   "source": [
    "# Veamos los valores en la columna\n",
    "print('Generos:',df['gender'].unique())\n",
    "print(df.value_counts('gender'))\n",
    "\n",
    "df['gender'].hist()"
   ]
  },
  {
   "cell_type": "code",
   "execution_count": 134,
   "metadata": {},
   "outputs": [],
   "source": [
    "# Aborda los valores problemáticos, si existen\n",
    "\n",
    "# Aunque si salta a la vista que una sola persona tiene un genero fuera del binario y resulta por lo tanto un valor anormal para la norma\n",
    "# No creo necesario cambiar esta línea considerando a las personas con un genero disidente o no binario."
   ]
  },
  {
   "cell_type": "code",
   "execution_count": 135,
   "metadata": {},
   "outputs": [],
   "source": [
    "# Comprueba el resultado - asegúrate de que esté arreglado\n",
    "\n",
    "# Nuevamente los datos permanecen iguales, nada que cambiar."
   ]
  },
  {
   "cell_type": "code",
   "execution_count": 136,
   "metadata": {},
   "outputs": [
    {
     "name": "stdout",
     "output_type": "stream",
     "text": [
      "income_type\n",
      "employee                       11064\n",
      "business                        5065\n",
      "retiree                         3836\n",
      "civil servant                   1453\n",
      "entrepreneur                       2\n",
      "unemployed                         2\n",
      "paternity / maternity leave        1\n",
      "student                            1\n",
      "dtype: int64\n"
     ]
    },
    {
     "data": {
      "text/plain": [
       "<AxesSubplot:>"
      ]
     },
     "execution_count": 136,
     "metadata": {},
     "output_type": "execute_result"
    },
    {
     "data": {
      "image/png": "[encoded data removed]",
      "text/plain": [
       "<Figure size 1080x360 with 1 Axes>"
      ]
     },
     "metadata": {
      "needs_background": "light"
     },
     "output_type": "display_data"
    }
   ],
   "source": [
    "# Veamos los valores en la columna\n",
    "print(df.value_counts('income_type'))\n",
    "\n",
    "df['income_type'].hist(figsize=(15,5))"
   ]
  },
  {
   "cell_type": "code",
   "execution_count": 137,
   "metadata": {},
   "outputs": [],
   "source": [
    "# Aborda los valores problemáticos, si existen\n",
    "\n",
    "# Aunque existen 4 grupos con muy pocos participantes, no creo necesario alterar los datos para eliminarlos.\n",
    "# Son pocas personas, pues estos grupos tienen, probablemente, menos posibilidades de tener aceptado su prestamo.\n",
    "# Considerando que tal vez no tienen una entrada estable de dinero.\n",
    "# Por esto, no se cambiaran, pues aportan información a los datos generales y se entiende que sean pocos."
   ]
  },
  {
   "cell_type": "code",
   "execution_count": 138,
   "metadata": {},
   "outputs": [],
   "source": [
    "# Comprueba el resultado - asegúrate de que esté arreglado\n",
    "\n",
    "# Nuevamente, nada que cambiar en los datos."
   ]
  },
  {
   "cell_type": "code",
   "execution_count": 139,
   "metadata": {},
   "outputs": [
    {
     "data": {
      "text/plain": [
       "71"
      ]
     },
     "execution_count": 139,
     "metadata": {},
     "output_type": "execute_result"
    }
   ],
   "source": [
    "# Comprobar los duplicados\n",
    "\n",
    "df.duplicated().sum()"
   ]
  },
  {
   "cell_type": "code",
   "execution_count": 140,
   "metadata": {},
   "outputs": [],
   "source": [
    "# Aborda los duplicados, si existen\n",
    "\n",
    "df = df.drop_duplicates().reset_index()"
   ]
  },
  {
   "cell_type": "code",
   "execution_count": 141,
   "metadata": {},
   "outputs": [
    {
     "data": {
      "text/plain": [
       "0"
      ]
     },
     "execution_count": 141,
     "metadata": {},
     "output_type": "execute_result"
    }
   ],
   "source": [
    "# Última comprobación para ver si tenemos duplicados\n",
    "df.duplicated().sum()"
   ]
  },
  {
   "cell_type": "code",
   "execution_count": 142,
   "metadata": {},
   "outputs": [
    {
     "data": {
      "text/plain": [
       "21353"
      ]
     },
     "execution_count": 142,
     "metadata": {},
     "output_type": "execute_result"
    }
   ],
   "source": [
    "# Comprueba el tamaño del conjunto de datos que tienes ahora, después de haber ejecutado estas primeras manipulaciones\n",
    "len(df)"
   ]
  },
  {
   "cell_type": "markdown",
   "metadata": {},
   "source": [
    "\n",
    "Hemos identificado todos los datos que nos llevarían a conclusiones equivocadas al estudiar los datos. Entre estos problemas, hemos eliminado duplicados y revisado cada columna corregiendo valores extraños y eliminando los desconocidos.\n",
    "\n",
    "Considerando todo esto, hemos perdido un porcentaje minimo de datos y los que tenemos son mucho más confiables que los originales. \n"
   ]
  },
  {
   "cell_type": "code",
   "execution_count": 143,
   "metadata": {},
   "outputs": [
    {
     "name": "stdout",
     "output_type": "stream",
     "text": [
      "Porcentaje de datos perdido: 0.7990708478513397 %\n"
     ]
    }
   ],
   "source": [
    "print('Porcentaje de datos perdido:', 100-(len(df))*100/len(df_natural), '%')"
   ]
  },
  {
   "cell_type": "markdown",
   "metadata": {},
   "source": [
    "# Trabajar con valores ausentes"
   ]
  },
  {
   "cell_type": "markdown",
   "metadata": {},
   "source": [
    "Aunque puede ser un poco confuso ver las IDs de los datos y no los datos, nuestro trabajo debe analizar tendencias y no debemos entender el caso a caso. Por ejemplo, necesitamos ver como se relaciona el pago de las deudas con el nivel educacional, independiente de que nivel educacional sea.\n",
    "\n",
    "Es por esto que creo que no es necesario reemplazar las IDs por su significado, además, tenerlas como `int` nos permite realizar más operaciones en estas.\n",
    "\n",
    "De todas formas, tener el significado de cada clave nos podría llegar a ayudar, por lo que se dejará aquí."
   ]
  },
  {
   "cell_type": "code",
   "execution_count": 144,
   "metadata": {
    "scrolled": true
   },
   "outputs": [
    {
     "name": "stdout",
     "output_type": "stream",
     "text": [
      "             education  education_id\n",
      "0    bachelor's degree             0\n",
      "1  secondary education             1\n",
      "2         some college             2\n",
      "3    primary education             3\n",
      "4      graduate degree             4\n"
     ]
    }
   ],
   "source": [
    "df_ref_ed = df[['education','education_id']]\n",
    "df_ref_ed = df_ref_ed.drop_duplicates().reset_index(drop=True)\n",
    "\n",
    "print(df_ref_ed.sort_values(by = 'education_id'))"
   ]
  },
  {
   "cell_type": "code",
   "execution_count": 145,
   "metadata": {},
   "outputs": [
    {
     "name": "stdout",
     "output_type": "stream",
     "text": [
      "       family_status  family_status_id\n",
      "0            married                 0\n",
      "1  civil partnership                 1\n",
      "2    widow / widower                 2\n",
      "3           divorced                 3\n",
      "4          unmarried                 4\n"
     ]
    }
   ],
   "source": [
    "df_ref_fam = df[['family_status','family_status_id']]\n",
    "df_ref_fam = df_ref_fam.drop_duplicates().reset_index(drop=True)\n",
    "\n",
    "print(df_ref_fam.sort_values(by = 'family_status_id'))"
   ]
  },
  {
   "cell_type": "code",
   "execution_count": 146,
   "metadata": {},
   "outputs": [
    {
     "name": "stdout",
     "output_type": "stream",
     "text": [
      "<class 'pandas.core.frame.DataFrame'>\n",
      "RangeIndex: 21353 entries, 0 to 21352\n",
      "Data columns (total 13 columns):\n",
      " #   Column            Non-Null Count  Dtype  \n",
      "---  ------            --------------  -----  \n",
      " 0   index             21353 non-null  int64  \n",
      " 1   children          21353 non-null  int64  \n",
      " 2   days_employed     19260 non-null  float64\n",
      " 3   dob_years         21353 non-null  int64  \n",
      " 4   education         21353 non-null  object \n",
      " 5   education_id      21353 non-null  int64  \n",
      " 6   family_status     21353 non-null  object \n",
      " 7   family_status_id  21353 non-null  int64  \n",
      " 8   gender            21353 non-null  object \n",
      " 9   income_type       21353 non-null  object \n",
      " 10  debt              21353 non-null  int64  \n",
      " 11  total_income      19260 non-null  float64\n",
      " 12  purpose           21353 non-null  object \n",
      "dtypes: float64(2), int64(6), object(5)\n",
      "memory usage: 2.1+ MB\n"
     ]
    }
   ],
   "source": [
    "# Encuentra los diccionarios\n",
    "df.info()"
   ]
  },
  {
   "cell_type": "markdown",
   "metadata": {},
   "source": [
    "### Restaurar valores ausentes en `total_income`"
   ]
  },
  {
   "cell_type": "markdown",
   "metadata": {},
   "source": [
    "\n",
    "Tenemos la columna `total_income` y `days_employed` con valores ausentes. Para esto veremos como se comparan la media y la mediana según la edad, tipo de ingreso y la cantidad de ingresos de todas las filas con todos los valores. Con esta nueva información podremos llenar los espacios vacíos en nuestro dataframe.\n",
    "\n",
    "Considerando que el menor tiene 19 años y el mayor tiene 75. Esto nos deja un rango de 56 años, que dividiremos en espacios de 7 años."
   ]
  },
  {
   "cell_type": "code",
   "execution_count": 147,
   "metadata": {},
   "outputs": [],
   "source": [
    "# Vamos a escribir una función que calcule la categoría de edad\n",
    "def cat_age (values):\n",
    "    a = []\n",
    "    for value in values:\n",
    "        if float(value)<26:\n",
    "            a.append('19-25')\n",
    "        elif 26<=float(value)<33:\n",
    "            a.append('26-32')\n",
    "        elif 33<=float(value)<40:\n",
    "            a.append('33-39')\n",
    "        elif 40<=float(value)<47:\n",
    "            a.append('40-46')\n",
    "        elif 47<=float(value)<54:\n",
    "            a.append('47-53')\n",
    "        elif 54<=float(value)<61:\n",
    "            a.append('54-60')\n",
    "        elif 61<=float(value)<68:\n",
    "            a.append('61-67')\n",
    "        elif 68<=float(value)<=75:\n",
    "            a.append('68-75')\n",
    "        else:\n",
    "            a.append('error')\n",
    "    return a"
   ]
  },
  {
   "cell_type": "code",
   "execution_count": 148,
   "metadata": {},
   "outputs": [
    {
     "name": "stdout",
     "output_type": "stream",
     "text": [
      "['33-39']\n",
      "['40-46', '33-39', '33-39', '26-32', '47-53', '26-32', '40-46', '47-53', '33-39', '40-46', '33-39', '40-46', '61-67', '54-60', '54-60', '26-32', '33-39', '33-39', '47-53', '47-53', '33-39', '33-39', '19-25', '19-25', '54-60', '61-67', '40-46', '26-32', '26-32', '61-67', '61-67', '47-53', '33-39', '47-53', '33-39', '68-75', '33-39', '40-46', '19-25', '26-32', '26-32', '47-53', '19-25', '40-46', '26-32', '47-53', '33-39', '33-39', '40-46', '54-60', '61-67', '47-53', '26-32', '61-67', '26-32', '54-60', '61-67', '40-46', '33-39', '47-53', '47-53', '40-46', '47-53', '40-46', '33-39', '19-25', '26-32', '47-53', '40-46', '19-25', '26-32', '61-67', '26-32', '40-46', '40-46', '33-39', '40-46', '40-46', '61-67', '26-32', '19-25', '33-39', '47-53', '47-53', '47-53', '26-32', '61-67', '47-53', '61-67', '40-46', '33-39', '33-39', '40-46', '26-32', '33-39', '47-53', '40-46', '47-53', '54-60', '47-53', '61-67', '47-53', '33-39', '54-60', '61-67', '26-32', '19-25', '33-39', '54-60', '40-46', '61-67', '26-32', '47-53', '26-32', '33-39', '47-53', '40-46', '33-39', '54-60', '40-46', '26-32', '54-60', '33-39', '33-39', '61-67', '47-53', '40-46', '61-67', '61-67', '40-46', '54-60', '40-46', '61-67', '40-46', '26-32', '54-60', '26-32', '40-46', '26-32', '19-25', '33-39', '54-60', '47-53', '40-46', '61-67', '40-46', '47-53', '33-39', '68-75', '33-39', '33-39', '19-25', '40-46', '40-46', '61-67', '33-39', '54-60', '54-60', '40-46', '33-39', '61-67', '47-53', '26-32', '26-32', '33-39', '54-60', '61-67', '54-60', '26-32', '54-60', '47-53', '47-53', '54-60', '33-39', '54-60', '47-53', '54-60', '40-46', '33-39', '26-32', '47-53', '33-39', '54-60', '26-32', '33-39', '40-46', '47-53', '26-32', '26-32', '54-60', '47-53', '54-60', '19-25', '47-53', '33-39', '54-60', '47-53', '19-25', '40-46', '33-39', '33-39', '54-60', '61-67', '26-32', '54-60', '33-39', '19-25', '33-39', '54-60', '40-46', '47-53', '33-39', '40-46', '40-46', '19-25', '54-60', '33-39', '19-25', '19-25', '61-67', '26-32', '61-67', '40-46', '47-53', '26-32', '61-67', '54-60', '68-75', '26-32', '40-46', '47-53', '47-53', '47-53', '47-53', '54-60', '33-39', '40-46', '40-46', '47-53', '47-53', '54-60', '47-53', '47-53', '47-53', '40-46', '54-60', '26-32', '26-32', '54-60', '68-75', '33-39', '61-67', '40-46', '40-46', '47-53', '47-53', '47-53', '26-32', '26-32', '47-53', '40-46', '47-53', '40-46', '47-53', '54-60', '68-75', '26-32', '33-39', '61-67', '33-39', '54-60', '19-25', '40-46', '61-67', '40-46', '19-25', '40-46', '61-67', '40-46', '33-39', '54-60', '61-67', '47-53', '40-46', '47-53', '26-32', '40-46', '33-39', '40-46', '54-60', '61-67', '33-39', '26-32', '40-46', '40-46', '40-46', '26-32', '33-39', '47-53', '47-53', '19-25', '61-67', '33-39', '61-67', '19-25', '26-32', '61-67', '47-53', '40-46', '33-39', '33-39', '33-39', '61-67', '33-39', '19-25', '33-39', '54-60', '61-67', '33-39', '54-60', '61-67', '40-46', '26-32', '54-60', '26-32', '68-75', '47-53', '40-46', '40-46', '26-32', '54-60', '26-32', '26-32', '40-46', '47-53', '26-32', '26-32', '40-46', '33-39', '33-39', '47-53', '33-39', '61-67', '26-32', '26-32', '68-75', '54-60', '61-67', '40-46', '33-39', '33-39', '26-32', '54-60', '54-60', '54-60', '26-32', '40-46', '26-32', '54-60', '33-39', '33-39', '54-60', '33-39', '40-46', '54-60', '26-32', '33-39', '26-32', '33-39', '26-32', '33-39', '40-46', '33-39', '19-25', '47-53', '26-32', '47-53', '33-39', '40-46', '54-60', '54-60', '26-32', '47-53', '40-46', '40-46', '47-53', '26-32', '33-39', '40-46', '40-46', '54-60', '26-32', '26-32', '47-53', '40-46', '26-32', '26-32', '47-53', '40-46', '54-60', '61-67', '19-25', '54-60', '33-39', '40-46', '54-60', '54-60', '47-53', '61-67', '40-46', '61-67', '40-46', '54-60', '54-60', '47-53', '54-60', '54-60', '54-60', '40-46', '54-60', '54-60', '33-39', '40-46', '54-60', '47-53', '54-60', '19-25', '40-46', '40-46', '26-32', '40-46', '61-67', '54-60', '54-60', '19-25', '33-39', '26-32', '61-67', '26-32', '61-67', '40-46', '47-53', '33-39', '33-39', '54-60', '61-67', '47-53', '40-46', '40-46', '26-32', '33-39', '54-60', '26-32', '54-60', '61-67', '47-53', '47-53', '26-32', '33-39', '61-67', '26-32', '54-60', '40-46', '54-60', '47-53', '54-60', '40-46', '33-39', '47-53', '26-32', '40-46', '40-46', '40-46', '61-67', '40-46', '54-60', '26-32', '33-39', '26-32', '47-53', '54-60', '40-46', '47-53', '61-67', '40-46', '61-67', '33-39', '26-32', '26-32', '40-46', '47-53', '33-39', '40-46', '33-39', '54-60', '47-53', '54-60', '26-32', '61-67', '61-67', '26-32', '54-60', '54-60', '26-32', '47-53', '54-60', '33-39', '19-25', '47-53', '40-46', '54-60', '40-46', '47-53', '33-39', '47-53', '26-32', '40-46', '33-39', '33-39', '26-32', '19-25', '47-53', '47-53', '33-39', '40-46', '26-32', '33-39', '61-67', '33-39', '47-53', '40-46', '40-46', '26-32', '61-67', '40-46', '40-46', '54-60', '33-39', '54-60', '33-39', '19-25', '61-67', '40-46', '19-25', '40-46', '33-39', '61-67', '40-46', '61-67', '26-32', '40-46', '54-60', '54-60', '33-39', '33-39', '47-53', '47-53', '33-39', '47-53', '26-32', '54-60', '54-60', '33-39', '47-53', '40-46', '47-53', '40-46', '47-53', '26-32', '19-25', '47-53', '26-32', '47-53', '54-60', '61-67', '40-46', '54-60', '33-39', '47-53', '40-46', '40-46', '68-75', '33-39', '33-39', '33-39', '47-53', '47-53', '33-39', '54-60', '61-67', '33-39', '54-60', '33-39', '19-25', '54-60', '40-46', '26-32', '40-46', '26-32', '26-32', '26-32', '40-46', '19-25', '54-60', '47-53', '40-46', '19-25', '40-46', '54-60', '47-53', '47-53', '40-46', '40-46', '33-39', '47-53', '33-39', '61-67', '40-46', '33-39', '40-46', '19-25', '54-60', '54-60', '33-39', '40-46', '61-67', '33-39', '47-53', '33-39', '26-32', '47-53', '54-60', '61-67', '54-60', '47-53', '26-32', '19-25', '33-39', '33-39', '40-46', '19-25', '47-53', '40-46', '33-39', '26-32', '40-46', '54-60', '26-32', '26-32', '47-53', '40-46', '26-32', '47-53', '54-60', '40-46', '47-53', '47-53', '47-53', '47-53', '40-46', '33-39', '33-39', '47-53', '33-39', '33-39', '61-67', '26-32', '33-39', '33-39', '33-39', '47-53', '33-39', '33-39', '26-32', '33-39', '33-39', '26-32', '40-46', '33-39', '40-46', '26-32', '47-53', '54-60', '47-53', '33-39', '54-60', '40-46', '47-53', '40-46', '54-60', '47-53', '54-60', '54-60', '40-46', '47-53', '33-39', '61-67', '54-60', '40-46', '26-32', '54-60', '47-53', '47-53', '26-32', '33-39', '26-32', '26-32', '40-46', '26-32', '47-53', '33-39', '33-39', '47-53', '47-53', '33-39', '47-53', '40-46', '61-67', '26-32', '40-46', '26-32', '54-60', '33-39', '54-60', '61-67', '33-39', '47-53', '26-32', '33-39', '26-32', '26-32', '19-25', '47-53', '47-53', '40-46', '40-46', '68-75', '61-67', '54-60', '26-32', '26-32', '47-53', '47-53', '47-53', '40-46', '26-32', '40-46', '40-46', '33-39', '26-32', '26-32', '26-32', '33-39', '19-25', '61-67', '40-46', '54-60', '54-60', '33-39', '19-25', '47-53', '33-39', '19-25', '54-60', '33-39', '33-39', '40-46', '19-25', '33-39', '47-53', '19-25', '54-60', '33-39', '19-25', '26-32', '33-39', '26-32', '40-46', '47-53', '33-39', '40-46', '26-32', '33-39', '47-53', '47-53', '47-53', '26-32', '61-67', '33-39', '47-53', '40-46', '68-75', '40-46', '26-32', '26-32', '47-53', '54-60', '26-32', '33-39', '40-46', '47-53', '40-46', '26-32', '47-53', '19-25', '61-67', '33-39', '33-39', '54-60', '68-75', '47-53', '26-32', '40-46', '47-53', '33-39', '54-60', '40-46', '33-39', '19-25', '61-67', '33-39', '26-32', '26-32', '54-60', '26-32', '54-60', '26-32', '26-32', '47-53', '40-46', '26-32', '33-39', '26-32', '61-67', '40-46', '19-25', '33-39', '19-25', '47-53', '33-39', '40-46', '61-67', '33-39', '61-67', '26-32', '54-60', '68-75', '54-60', '40-46', '19-25', '61-67', '33-39', '54-60', '33-39', '40-46', '26-32', '26-32', '26-32', '54-60', '33-39', '33-39', '47-53', '40-46', '26-32', '33-39', '40-46', '33-39', '33-39', '47-53', '54-60', '26-32', '61-67', '61-67', '47-53', '40-46', '54-60', '47-53', '26-32', '33-39', '40-46', '33-39', '26-32', '54-60', '33-39', '40-46', '26-32', '40-46', '40-46', '40-46', '40-46', '47-53', '54-60', '33-39', '47-53', '33-39', '47-53', '40-46', '54-60', '61-67', '40-46', '47-53', '61-67', '61-67', '26-32', '26-32', '40-46', '40-46', '40-46', '40-46', '33-39', '61-67', '33-39', '33-39', '40-46', '33-39', '61-67', '47-53', '40-46', '54-60', '26-32', '26-32', '61-67', '54-60', '47-53', '54-60', '33-39', '33-39', '33-39', '33-39', '47-53', '68-75', '54-60', '61-67', '47-53', '54-60', '54-60', '40-46', '54-60', '33-39', '47-53', '26-32', '47-53', '54-60', '40-46', '54-60', '33-39', '47-53', '40-46', '33-39', '47-53', '54-60', '47-53', '33-39', '33-39', '54-60', '19-25', '40-46', '54-60', '61-67', '54-60', '33-39', '40-46', '47-53', '61-67', '47-53', '40-46', '54-60', '47-53', '47-53', '47-53', '54-60', '26-32', '61-67', '47-53', '26-32', '33-39', '47-53', '54-60', '61-67', '40-46', '54-60', '26-32', '54-60', '61-67', '26-32', '26-32', '47-53', '33-39', '26-32', '33-39', '33-39', '40-46', '40-46', '40-46', '40-46', '40-46', '33-39', '54-60', '26-32', '26-32', '47-53', '61-67', '47-53', '40-46', '61-67', '47-53', '61-67', '54-60', '40-46', '40-46', '47-53', '26-32', '47-53', '61-67', '61-67', '40-46', '33-39', '61-67', '33-39', '47-53', '26-32', '40-46', '33-39', '47-53', '40-46', '61-67', '33-39', '54-60', '40-46', '40-46', '54-60', '26-32', '54-60', '33-39', '40-46', '40-46', '47-53', '26-32', '40-46', '33-39', '26-32', '54-60', '40-46', '40-46', '19-25', '26-32', '33-39', '33-39', '54-60', '54-60', '47-53', '40-46', '19-25', '40-46', '61-67', '40-46', '33-39', '26-32', '26-32', '47-53', '33-39', '47-53', '26-32', '26-32', '47-53', '54-60', '26-32', '40-46', '33-39', '54-60', '40-46', '54-60', '61-67', '33-39', '54-60', '54-60', '40-46', '40-46', '47-53', '33-39', '26-32', '26-32', '54-60', '40-46', '26-32', '40-46', '19-25', '47-53', '54-60', '54-60', '26-32', '33-39', '61-67', '47-53', '54-60', '19-25', '47-53', '40-46', '26-32', '40-46', '40-46', '19-25', '47-53', '33-39', '54-60', '33-39', '47-53', '54-60', '26-32', '26-32', '47-53', '33-39', '26-32', '40-46', '40-46', '33-39', '54-60', '47-53', '47-53', '54-60', '61-67', '40-46', '33-39', '33-39', '54-60', '33-39', '47-53', '54-60', '33-39', '33-39', '54-60', '40-46', '33-39', '19-25', '33-39', '33-39', '19-25', '40-46', '26-32', '54-60', '26-32', '40-46', '54-60', '40-46', '19-25', '33-39', '26-32', '26-32', '33-39', '26-32', '61-67', '33-39', '61-67', '47-53', '54-60', '33-39', '54-60', '54-60', '54-60', '33-39', '19-25', '40-46', '26-32', '47-53', '54-60', '33-39', '40-46', '33-39', '26-32', '47-53', '40-46', '33-39', '40-46', '26-32', '33-39', '54-60', '26-32', '54-60', '54-60', '33-39', '40-46', '33-39', '33-39', '54-60', '61-67', '40-46', '61-67', '54-60', '33-39', '26-32', '61-67', '40-46', '47-53', '47-53', '47-53', '40-46', '47-53', '61-67', '19-25', '40-46', '19-25', '54-60', '19-25', '47-53', '54-60', '54-60', '33-39', '54-60', '40-46', '47-53', '47-53', '26-32', '47-53', '33-39', '33-39', '33-39', '40-46', '26-32', '54-60', '40-46', '54-60', '26-32', '26-32', '26-32', '33-39', '40-46', '26-32', '40-46', '26-32', '68-75', '54-60', '26-32', '68-75', '40-46', '26-32', '19-25', '26-32', '26-32', '33-39', '61-67', '54-60', '26-32', '40-46', '26-32', '40-46', '40-46', '61-67', '19-25', '54-60', '54-60', '33-39', '40-46', '26-32', '33-39', '33-39', '33-39', '33-39', '47-53', '33-39', '33-39', '26-32', '26-32', '40-46', '47-53', '61-67', '33-39', '47-53', '26-32', '26-32', '40-46', '19-25', '68-75', '54-60', '47-53', '40-46', '47-53', '47-53', '26-32', '33-39', '33-39', '47-53', '61-67', '47-53', '54-60', '47-53', '33-39', '47-53', '47-53', '54-60', '47-53', '47-53', '40-46', '61-67', '33-39', '26-32', '33-39', '68-75', '47-53', '47-53', '54-60', '47-53', '47-53', '61-67', '54-60', '26-32', '33-39', '26-32', '47-53', '47-53', '26-32', '54-60', '33-39', '61-67', '19-25', '19-25', '54-60', '33-39', '61-67', '19-25', '61-67', '47-53', '40-46', '54-60', '54-60', '26-32', '54-60', '40-46', '54-60', '40-46', '26-32', '47-53', '33-39', '40-46', '54-60', '61-67', '33-39', '40-46', '19-25', '33-39', '26-32', '33-39', '61-67', '40-46', '26-32', '54-60', '47-53', '47-53', '33-39', '33-39', '26-32', '26-32', '61-67', '54-60', '54-60', '47-53', '40-46', '54-60', '33-39', '47-53', '68-75', '47-53', '47-53', '26-32', '54-60', '54-60', '33-39', '26-32', '54-60', '40-46', '33-39', '26-32', '47-53', '47-53', '47-53', '40-46', '40-46', '33-39', '47-53', '40-46', '54-60', '47-53', '61-67', '26-32', '19-25', '26-32', '33-39', '61-67', '40-46', '47-53', '40-46', '47-53', '40-46', '40-46', '47-53', '26-32', '40-46', '47-53', '33-39', '54-60', '68-75', '19-25', '61-67', '33-39', '54-60', '40-46', '26-32', '40-46', '26-32', '33-39', '54-60', '40-46', '26-32', '54-60', '40-46', '47-53', '61-67', '47-53', '54-60', '33-39', '54-60', '33-39', '47-53', '26-32', '40-46', '26-32', '54-60', '47-53', '19-25', '61-67', '54-60', '54-60', '19-25', '47-53', '33-39', '61-67', '26-32', '26-32', '33-39', '33-39', '26-32', '19-25', '26-32', '26-32', '26-32', '47-53', '40-46', '47-53', '54-60', '33-39', '19-25', '40-46', '47-53', '26-32', '47-53', '33-39', '33-39', '40-46', '54-60', '47-53', '61-67', '26-32', '54-60', '40-46', '40-46', '47-53', '26-32', '40-46', '19-25', '33-39', '40-46', '47-53', '40-46', '33-39', '54-60', '47-53', '40-46', '54-60', '33-39', '47-53', '54-60', '47-53', '47-53', '33-39', '33-39', '68-75', '26-32', '54-60', '40-46', '33-39', '33-39', '33-39', '40-46', '40-46', '26-32', '54-60', '54-60', '26-32', '54-60', '19-25', '47-53', '26-32', '40-46', '47-53', '54-60', '26-32', '26-32', '26-32', '40-46', '26-32', '40-46', '40-46', '40-46', '47-53', '26-32', '26-32', '47-53', '40-46', '19-25', '33-39', '47-53', '26-32', '26-32', '47-53', '61-67', '61-67', '26-32', '33-39', '26-32', '33-39', '26-32', '33-39', '54-60', '33-39', '26-32', '40-46', '40-46', '54-60', '26-32', '33-39', '33-39', '19-25', '40-46', '47-53', '40-46', '47-53', '19-25', '47-53', '47-53', '54-60', '61-67', '40-46', '54-60', '33-39', '40-46', '47-53', '40-46', '40-46', '68-75', '26-32', '33-39', '33-39', '19-25', '26-32', '40-46', '33-39', '40-46', '33-39', '40-46', '33-39', '33-39', '54-60', '47-53', '54-60', '26-32', '33-39', '47-53', '54-60', '54-60', '26-32', '26-32', '33-39', '26-32', '47-53', '19-25', '26-32', '33-39', '47-53', '26-32', '40-46', '54-60', '68-75', '54-60', '47-53', '26-32', '40-46', '54-60', '33-39', '47-53', '33-39', '47-53', '26-32', '61-67', '54-60', '40-46', '47-53', '40-46', '19-25', '68-75', '33-39', '47-53', '54-60', '26-32', '40-46', '19-25', '47-53', '54-60', '54-60', '47-53', '26-32', '54-60', '47-53', '19-25', '40-46', '40-46', '40-46', '33-39', '33-39', '19-25', '26-32', '33-39', '54-60', '61-67', '47-53', '33-39', '54-60', '26-32', '61-67', '19-25', '61-67', '40-46', '26-32', '33-39', '26-32', '61-67', '33-39', '68-75', '19-25', '61-67', '54-60', '33-39', '47-53', '40-46', '26-32', '26-32', '33-39', '47-53', '40-46', '61-67', '33-39', '40-46', '26-32', '26-32', '26-32', '40-46', '54-60', '26-32', '19-25', '19-25', '40-46', '26-32', '26-32', '33-39', '61-67', '54-60', '33-39', '33-39', '26-32', '26-32', '61-67', '47-53', '47-53', '19-25', '40-46', '47-53', '47-53', '54-60', '54-60', '33-39', '33-39', '19-25', '26-32', '61-67', '19-25', '40-46', '40-46', '54-60', '40-46', '40-46', '47-53', '47-53', '19-25', '47-53', '40-46', '40-46', '40-46', '54-60', '26-32', '54-60', '26-32', '33-39', '47-53', '54-60', '47-53', '33-39', '68-75', '54-60', '54-60', '47-53', '26-32', '33-39', '40-46', '33-39', '40-46', '61-67', '40-46', '33-39', '33-39', '40-46', '54-60', '40-46', '33-39', '26-32', '61-67', '19-25', '54-60', '54-60', '33-39', '40-46', '40-46', '40-46', '40-46', '19-25', '33-39', '61-67', '33-39', '47-53', '40-46', '33-39', '33-39', '47-53', '47-53', '26-32', '54-60', '68-75', '47-53', '19-25', '40-46', '19-25', '47-53', '54-60', '54-60', '40-46', '47-53', '26-32', '19-25', '33-39', '54-60', '33-39', '33-39', '26-32', '47-53', '33-39', '54-60', '61-67', '47-53', '40-46', '61-67', '40-46', '54-60', '33-39', '33-39', '33-39', '54-60', '33-39', '33-39', '47-53', '26-32', '61-67', '33-39', '54-60', '61-67', '33-39', '33-39', '61-67', '47-53', '26-32', '19-25', '40-46', '61-67', '26-32', '40-46', '40-46', '40-46', '47-53', '26-32', '40-46', '19-25', '26-32', '19-25', '54-60', '40-46', '40-46', '26-32', '47-53', '47-53', '33-39', '40-46', '26-32', '68-75', '47-53', '40-46', '26-32', '47-53', '26-32', '54-60', '54-60', '26-32', '19-25', '47-53', '26-32', '54-60', '26-32', '19-25', '47-53', '26-32', '19-25', '40-46', '26-32', '33-39', '33-39', '33-39', '54-60', '33-39', '54-60', '26-32', '26-32', '47-53', '19-25', '33-39', '47-53', '40-46', '61-67', '61-67', '33-39', '61-67', '40-46', '54-60', '47-53', '54-60', '40-46', '40-46', '40-46', '33-39', '47-53', '40-46', '19-25', '47-53', '26-32', '40-46', '33-39', '33-39', '47-53', '61-67', '26-32', '40-46', '40-46', '54-60', '26-32', '47-53', '26-32', '26-32', '47-53', '40-46', '33-39', '54-60', '19-25', '26-32', '61-67', '47-53', '19-25', '26-32', '33-39', '40-46', '19-25', '54-60', '33-39', '68-75', '19-25', '26-32', '33-39', '54-60', '26-32', '26-32', '33-39', '54-60', '61-67', '40-46', '40-46', '40-46', '40-46', '54-60', '47-53', '54-60', '33-39', '47-53', '61-67', '68-75', '26-32', '26-32', '33-39', '33-39', '47-53', '33-39', '19-25', '54-60', '33-39', '54-60', '47-53', '54-60', '33-39', '33-39', '47-53', '40-46', '47-53', '47-53', '47-53', '33-39', '26-32', '47-53', '26-32', '61-67', '61-67', '33-39', '40-46', '54-60', '33-39', '61-67', '47-53', '40-46', '47-53', '54-60', '19-25', '33-39', '26-32', '40-46', '54-60', '40-46', '19-25', '54-60', '33-39', '26-32', '47-53', '26-32', '33-39', '19-25', '33-39', '26-32', '26-32', '33-39', '33-39', '40-46', '19-25', '40-46', '33-39', '40-46', '33-39', '47-53', '33-39', '40-46', '47-53', '47-53', '33-39', '19-25', '40-46', '54-60', '26-32', '54-60', '47-53', '33-39', '47-53', '61-67', '40-46', '54-60', '61-67', '47-53', '47-53', '47-53', '19-25', '26-32', '33-39', '33-39', '47-53', '54-60', '26-32', '47-53', '26-32', '33-39', '47-53', '54-60', '47-53', '33-39', '19-25', '26-32', '61-67', '40-46', '47-53', '54-60', '26-32', '47-53', '61-67', '19-25', '61-67', '61-67', '61-67', '61-67', '40-46', '47-53', '47-53', '47-53', '19-25', '33-39', '40-46', '54-60', '40-46', '61-67', '61-67', '47-53', '47-53', '47-53', '61-67', '40-46', '26-32', '54-60', '54-60', '26-32', '33-39', '47-53', '40-46', '40-46', '26-32', '61-67', '26-32', '47-53', '33-39', '47-53', '40-46', '33-39', '33-39', '40-46', '47-53', '19-25', '26-32', '40-46', '40-46', '40-46', '33-39', '40-46', '47-53', '54-60', '54-60', '54-60', '40-46', '33-39', '26-32', '40-46', '26-32', '47-53', '54-60', '61-67', '33-39', '33-39', '40-46', '26-32', '47-53', '19-25', '40-46', '47-53', '54-60', '26-32', '33-39', '47-53', '40-46', '26-32', '61-67', '19-25', '33-39', '26-32', '33-39', '26-32', '33-39', '61-67', '40-46', '47-53', '40-46', '47-53', '40-46', '40-46', '61-67', '26-32', '26-32', '61-67', '19-25', '33-39', '33-39', '54-60', '26-32', '26-32', '40-46', '33-39', '33-39', '19-25', '26-32', '33-39', '40-46', '61-67', '47-53', '47-53', '54-60', '19-25', '47-53', '33-39', '19-25', '47-53', '61-67', '54-60', '40-46', '47-53', '47-53', '26-32', '26-32', '40-46', '40-46', '33-39', '40-46', '26-32', '54-60', '33-39', '19-25', '40-46', '40-46', '40-46', '54-60', '26-32', '33-39', '40-46', '33-39', '40-46', '61-67', '47-53', '33-39', '26-32', '33-39', '40-46', '54-60', '26-32', '26-32', '33-39', '54-60', '61-67', '54-60', '61-67', '40-46', '54-60', '26-32', '54-60', '47-53', '40-46', '33-39', '68-75', '54-60', '26-32', '40-46', '33-39', '26-32', '33-39', '19-25', '40-46', '19-25', '47-53', '54-60', '61-67', '26-32', '54-60', '61-67', '61-67', '26-32', '40-46', '40-46', '33-39', '47-53', '54-60', '40-46', '26-32', '33-39', '54-60', '61-67', '54-60', '26-32', '33-39', '68-75', '61-67', '33-39', '26-32', '40-46', '33-39', '61-67', '47-53', '40-46', '33-39', '26-32', '33-39', '61-67', '47-53', '33-39', '33-39', '47-53', '47-53', '19-25', '26-32', '54-60', '47-53', '47-53', '26-32', '40-46', '26-32', '61-67', '33-39', '19-25', '47-53', '33-39', '19-25', '26-32', '47-53', '54-60', '54-60', '40-46', '19-25', '54-60', '54-60', '26-32', '54-60', '61-67', '47-53', '33-39', '33-39', '33-39', '47-53', '33-39', '33-39', '61-67', '54-60', '26-32', '47-53', '47-53', '19-25', '40-46', '26-32', '40-46', '19-25', '54-60', '61-67', '40-46', '33-39', '47-53', '47-53', '47-53', '40-46', '47-53', '33-39', '54-60', '26-32', '33-39', '47-53', '40-46', '47-53', '26-32', '26-32', '40-46', '54-60', '33-39', '54-60', '47-53', '40-46', '47-53', '33-39', '47-53', '54-60', '26-32', '54-60', '54-60', '54-60', '40-46', '33-39', '26-32', '40-46', '40-46', '26-32', '61-67', '26-32', '19-25', '33-39', '54-60', '47-53', '61-67', '33-39', '33-39', '54-60', '47-53', '33-39', '47-53', '33-39', '26-32', '54-60', '61-67', '26-32', '33-39', '61-67', '68-75', '26-32', '33-39', '54-60', '47-53', '54-60', '19-25', '47-53', '19-25', '26-32', '26-32', '54-60', '26-32', '26-32', '54-60', '54-60', '26-32', '47-53', '47-53', '40-46', '54-60', '47-53', '33-39', '47-53', '26-32', '33-39', '47-53', '47-53', '33-39', '61-67', '33-39', '40-46', '26-32', '33-39', '33-39', '40-46', '40-46', '47-53', '47-53', '40-46', '47-53', '40-46', '40-46', '68-75', '33-39', '26-32', '26-32', '54-60', '33-39', '40-46', '54-60', '26-32', '47-53', '47-53', '47-53', '40-46', '26-32', '40-46', '54-60', '40-46', '68-75', '40-46', '47-53', '33-39', '61-67', '47-53', '54-60', '33-39', '26-32', '26-32', '26-32', '26-32', '33-39', '40-46', '33-39', '68-75', '47-53', '33-39', '33-39', '33-39', '68-75', '40-46', '61-67', '40-46', '40-46', '47-53', '26-32', '26-32', '61-67', '26-32', '26-32', '26-32', '47-53', '33-39', '33-39', '19-25', '61-67', '26-32', '33-39', '54-60', '33-39', '33-39', '26-32', '68-75', '33-39', '26-32', '47-53', '68-75', '26-32', '40-46', '33-39', '33-39', '54-60', '40-46', '40-46', '68-75', '33-39', '33-39', '40-46', '40-46', '61-67', '47-53', '54-60', '40-46', '54-60', '19-25', '33-39', '61-67', '54-60', '47-53', '61-67', '19-25', '33-39', '40-46', '40-46', '26-32', '61-67', '26-32', '33-39', '26-32', '26-32', '47-53', '26-32', '47-53', '40-46', '26-32', '47-53', '26-32', '26-32', '47-53', '61-67', '47-53', '47-53', '40-46', '61-67', '33-39', '54-60', '40-46', '54-60', '33-39', '40-46', '61-67', '33-39', '33-39', '33-39', '33-39', '61-67', '40-46', '47-53', '54-60', '33-39', '26-32', '40-46', '33-39', '54-60', '26-32', '33-39', '19-25', '47-53', '26-32', '26-32', '54-60', '33-39', '61-67', '33-39', '33-39', '19-25', '33-39', '61-67', '26-32', '33-39', '33-39', '26-32', '47-53', '47-53', '47-53', '33-39', '26-32', '61-67', '40-46', '33-39', '19-25', '26-32', '40-46', '54-60', '33-39', '26-32', '33-39', '47-53', '54-60', '33-39', '40-46', '33-39', '61-67', '40-46', '19-25', '68-75', '68-75', '33-39', '40-46', '33-39', '26-32', '54-60', '33-39', '40-46', '40-46', '40-46', '40-46', '33-39', '47-53', '33-39', '61-67', '47-53', '26-32', '47-53', '19-25', '33-39', '33-39', '19-25', '47-53', '54-60', '33-39', '61-67', '40-46', '40-46', '40-46', '47-53', '26-32', '54-60', '33-39', '54-60', '26-32', '54-60', '26-32', '26-32', '54-60', '33-39', '26-32', '47-53', '26-32', '26-32', '33-39', '40-46', '40-46', '47-53', '19-25', '40-46', '40-46', '26-32', '26-32', '54-60', '33-39', '54-60', '19-25', '40-46', '40-46', '61-67', '47-53', '61-67', '26-32', '54-60', '19-25', '61-67', '26-32', '68-75', '61-67', '26-32', '33-39', '40-46', '26-32', '33-39', '33-39', '68-75', '61-67', '33-39', '54-60', '33-39', '33-39', '40-46', '33-39', '33-39', '19-25', '33-39', '40-46', '40-46', '40-46', '40-46', '33-39', '61-67', '40-46', '19-25', '47-53', '19-25', '61-67', '40-46', '33-39', '47-53', '68-75', '68-75', '33-39', '61-67', '19-25', '40-46', '26-32', '33-39', '54-60', '47-53', '47-53', '33-39', '54-60', '33-39', '54-60', '54-60', '40-46', '61-67', '33-39', '61-67', '61-67', '40-46', '26-32', '61-67', '40-46', '33-39', '26-32', '40-46', '47-53', '47-53', '40-46', '40-46', '47-53', '33-39', '40-46', '40-46', '40-46', '47-53', '47-53', '47-53', '26-32', '54-60', '61-67', '26-32', '26-32', '33-39', '61-67', '61-67', '40-46', '47-53', '33-39', '33-39', '40-46', '26-32', '47-53', '33-39', '33-39', '61-67', '19-25', '54-60', '54-60', '40-46', '26-32', '40-46', '33-39', '54-60', '61-67', '19-25', '33-39', '54-60', '33-39', '54-60', '47-53', '47-53', '47-53', '33-39', '54-60', '19-25', '26-32', '47-53', '40-46', '26-32', '40-46', '33-39', '40-46', '40-46', '54-60', '54-60', '47-53', '54-60', '47-53', '61-67', '40-46', '47-53', '19-25', '54-60', '33-39', '40-46', '33-39', '19-25', '40-46', '33-39', '54-60', '47-53', '47-53', '54-60', '33-39', '40-46', '26-32', '33-39', '47-53', '40-46', '26-32', '54-60', '40-46', '54-60', '33-39', '26-32', '26-32', '47-53', '47-53', '26-32', '61-67', '54-60', '47-53', '47-53', '33-39', '26-32', '47-53', '54-60', '54-60', '61-67', '40-46', '47-53', '33-39', '19-25', '47-53', '61-67', '40-46', '33-39', '54-60', '61-67', '33-39', '68-75', '19-25', '33-39', '33-39', '40-46', '33-39', '33-39', '61-67', '61-67', '26-32', '19-25', '40-46', '47-53', '54-60', '47-53', '33-39', '54-60', '54-60', '26-32', '40-46', '47-53', '40-46', '68-75', '54-60', '33-39', '54-60', '19-25', '54-60', '40-46', '40-46', '54-60', '47-53', '33-39', '40-46', '26-32', '61-67', '68-75', '33-39', '68-75', '47-53', '40-46', '19-25', '61-67', '33-39', '33-39', '26-32', '47-53', '61-67', '61-67', '33-39', '40-46', '61-67', '33-39', '40-46', '40-46', '47-53', '40-46', '26-32', '54-60', '68-75', '26-32', '61-67', '26-32', '33-39', '26-32', '40-46', '26-32', '33-39', '54-60', '40-46', '33-39', '33-39', '26-32', '33-39', '40-46', '54-60', '54-60', '47-53', '54-60', '33-39', '54-60', '19-25', '33-39', '26-32', '33-39', '33-39', '33-39', '33-39', '40-46', '26-32', '47-53', '54-60', '54-60', '33-39', '40-46', '61-67', '61-67', '33-39', '40-46', '54-60', '47-53', '47-53', '26-32', '47-53', '33-39', '54-60', '61-67', '26-32', '26-32', '47-53', '40-46', '33-39', '54-60', '26-32', '54-60', '47-53', '61-67', '54-60', '54-60', '61-67', '33-39', '33-39', '54-60', '33-39', '54-60', '26-32', '26-32', '40-46', '33-39', '40-46', '47-53', '40-46', '47-53', '19-25', '54-60', '61-67', '26-32', '54-60', '61-67', '26-32', '61-67', '47-53', '26-32', '19-25', '26-32', '47-53', '68-75', '33-39', '40-46', '47-53', '26-32', '40-46', '47-53', '40-46', '26-32', '19-25', '61-67', '40-46', '33-39', '68-75', '33-39', '68-75', '40-46', '54-60', '61-67', '47-53', '40-46', '33-39', '40-46', '47-53', '33-39', '40-46', '54-60', '33-39', '40-46', '47-53', '54-60', '54-60', '33-39', '26-32', '54-60', '26-32', '61-67', '33-39', '54-60', '33-39', '47-53', '47-53', '33-39', '33-39', '54-60', '47-53', '33-39', '33-39', '61-67', '26-32', '33-39', '26-32', '26-32', '40-46', '61-67', '26-32', '47-53', '40-46', '47-53', '40-46', '40-46', '33-39', '47-53', '40-46', '47-53', '33-39', '47-53', '26-32', '26-32', '19-25', '40-46', '40-46', '47-53', '33-39', '40-46', '61-67', '40-46', '47-53', '26-32', '47-53', '47-53', '40-46', '33-39', '54-60', '40-46', '47-53', '19-25', '61-67', '54-60', '54-60', '47-53', '54-60', '26-32', '33-39', '47-53', '40-46', '33-39', '40-46', '40-46', '40-46', '54-60', '33-39', '47-53', '26-32', '26-32', '40-46', '26-32', '61-67', '61-67', '47-53', '26-32', '40-46', '26-32', '61-67', '54-60', '54-60', '68-75', '40-46', '61-67', '54-60', '47-53', '26-32', '47-53', '40-46', '61-67', '47-53', '40-46', '33-39', '26-32', '47-53', '26-32', '54-60', '61-67', '54-60', '47-53', '68-75', '40-46', '40-46', '33-39', '33-39', '54-60', '33-39', '33-39', '26-32', '54-60', '54-60', '47-53', '47-53', '47-53', '40-46', '54-60', '40-46', '61-67', '33-39', '26-32', '54-60', '47-53', '40-46', '54-60', '40-46', '54-60', '47-53', '47-53', '33-39', '47-53', '47-53', '61-67', '40-46', '26-32', '26-32', '40-46', '47-53', '33-39', '54-60', '61-67', '26-32', '47-53', '54-60', '54-60', '33-39', '47-53', '47-53', '26-32', '54-60', '61-67', '47-53', '26-32', '40-46', '40-46', '47-53', '40-46', '40-46', '26-32', '33-39', '54-60', '47-53', '40-46', '54-60', '47-53', '33-39', '33-39', '47-53', '19-25', '26-32', '19-25', '33-39', '33-39', '47-53', '54-60', '68-75', '47-53', '47-53', '19-25', '54-60', '47-53', '19-25', '19-25', '26-32', '33-39', '33-39', '68-75', '47-53', '54-60', '19-25', '26-32', '33-39', '47-53', '26-32', '19-25', '54-60', '47-53', '26-32', '40-46', '33-39', '26-32', '33-39', '47-53', '40-46', '40-46', '40-46', '26-32', '33-39', '54-60', '47-53', '40-46', '54-60', '33-39', '47-53', '61-67', '19-25', '47-53', '33-39', '54-60', '40-46', '33-39', '40-46', '26-32', '40-46', '54-60', '26-32', '40-46', '54-60', '54-60', '19-25', '47-53', '33-39', '19-25', '40-46', '61-67', '33-39', '47-53', '40-46', '47-53', '26-32', '40-46', '40-46', '40-46', '33-39', '19-25', '54-60', '33-39', '19-25', '61-67', '40-46', '47-53', '19-25', '33-39', '33-39', '54-60', '33-39', '26-32', '61-67', '26-32', '26-32', '54-60', '47-53', '33-39', '26-32', '61-67', '26-32', '40-46', '40-46', '33-39', '47-53', '26-32', '26-32', '47-53', '54-60', '40-46', '54-60', '40-46', '61-67', '61-67', '61-67', '19-25', '40-46', '33-39', '40-46', '47-53', '68-75', '33-39', '40-46', '40-46', '54-60', '26-32', '68-75', '19-25', '26-32', '47-53', '19-25', '47-53', '47-53', '33-39', '19-25', '47-53', '54-60', '40-46', '26-32', '33-39', '19-25', '61-67', '54-60', '40-46', '40-46', '33-39', '54-60', '33-39', '54-60', '26-32', '33-39', '54-60', '54-60', '19-25', '40-46', '54-60', '33-39', '54-60', '54-60', '40-46', '40-46', '40-46', '19-25', '54-60', '40-46', '40-46', '33-39', '40-46', '61-67', '61-67', '40-46', '33-39', '33-39', '68-75', '40-46', '40-46', '19-25', '61-67', '47-53', '33-39', '26-32', '54-60', '26-32', '33-39', '54-60', '33-39', '47-53', '54-60', '33-39', '33-39', '19-25', '26-32', '54-60', '26-32', '26-32', '19-25', '40-46', '33-39', '26-32', '33-39', '47-53', '47-53', '33-39', '47-53', '19-25', '26-32', '47-53', '33-39', '26-32', '33-39', '40-46', '33-39', '61-67', '68-75', '54-60', '26-32', '26-32', '33-39', '40-46', '40-46', '54-60', '33-39', '61-67', '54-60', '26-32', '33-39', '61-67', '33-39', '40-46', '40-46', '26-32', '40-46', '68-75', '47-53', '54-60', '61-67', '26-32', '47-53', '47-53', '40-46', '33-39', '33-39', '26-32', '40-46', '54-60', '26-32', '40-46', '33-39', '54-60', '26-32', '54-60', '61-67', '26-32', '54-60', '40-46', '40-46', '47-53', '33-39', '19-25', '40-46', '40-46', '54-60', '26-32', '47-53', '26-32', '26-32', '47-53', '54-60', '33-39', '61-67', '47-53', '54-60', '33-39', '33-39', '61-67', '33-39', '26-32', '61-67', '40-46', '47-53', '33-39', '33-39', '47-53', '61-67', '19-25', '61-67', '40-46', '33-39', '40-46', '54-60', '54-60', '40-46', '40-46', '33-39', '54-60', '40-46', '26-32', '33-39', '47-53', '54-60', '26-32', '40-46', '40-46', '47-53', '40-46', '33-39', '54-60', '40-46', '68-75', '47-53', '26-32', '54-60', '61-67', '33-39', '33-39', '40-46', '54-60', '33-39', '33-39', '33-39', '40-46', '33-39', '40-46', '40-46', '26-32', '26-32', '26-32', '26-32', '33-39', '26-32', '26-32', '61-67', '54-60', '33-39', '54-60', '47-53', '54-60', '61-67', '26-32', '33-39', '26-32', '40-46', '40-46', '61-67', '61-67', '47-53', '26-32', '19-25', '61-67', '40-46', '33-39', '68-75', '33-39', '47-53', '54-60', '33-39', '61-67', '33-39', '33-39', '19-25', '40-46', '61-67', '26-32', '47-53', '26-32', '26-32', '47-53', '33-39', '26-32', '61-67', '54-60', '19-25', '33-39', '47-53', '54-60', '47-53', '54-60', '26-32', '33-39', '40-46', '33-39', '40-46', '54-60', '33-39', '26-32', '54-60', '33-39', '40-46', '61-67', '19-25', '61-67', '47-53', '40-46', '54-60', '40-46', '54-60', '40-46', '33-39', '33-39', '47-53', '54-60', '54-60', '33-39', '47-53', '61-67', '19-25', '33-39', '47-53', '33-39', '33-39', '47-53', '40-46', '61-67', '61-67', '33-39', '26-32', '33-39', '40-46', '40-46', '47-53', '26-32', '54-60', '61-67', '54-60', '33-39', '40-46', '47-53', '40-46', '33-39', '33-39', '47-53', '33-39', '54-60', '61-67', '26-32', '47-53', '40-46', '40-46', '33-39', '61-67', '47-53', '47-53', '19-25', '54-60', '26-32', '33-39', '33-39', '54-60', '40-46', '33-39', '61-67', '26-32', '26-32', '61-67', '19-25', '40-46', '19-25', '61-67', '61-67', '19-25', '40-46', '40-46', '19-25', '47-53', '40-46', '40-46', '54-60', '19-25', '26-32', '54-60', '61-67', '26-32', '40-46', '33-39', '40-46', '33-39', '33-39', '40-46', '54-60', '54-60', '26-32', '54-60', '33-39', '40-46', '61-67', '26-32', '40-46', '26-32', '61-67', '40-46', '54-60', '33-39', '33-39', '33-39', '68-75', '47-53', '33-39', '61-67', '26-32', '40-46', '40-46', '19-25', '47-53', '26-32', '47-53', '40-46', '40-46', '47-53', '26-32', '33-39', '40-46', '54-60', '26-32', '47-53', '33-39', '33-39', '68-75', '61-67', '33-39', '19-25', '40-46', '33-39', '33-39', '33-39', '47-53', '47-53', '61-67', '54-60', '61-67', '26-32', '47-53', '33-39', '40-46', '47-53', '33-39', '26-32', '26-32', '33-39', '33-39', '54-60', '26-32', '54-60', '47-53', '61-67', '40-46', '40-46', '54-60', '26-32', '47-53', '47-53', '33-39', '40-46', '61-67', '40-46', '40-46', '26-32', '61-67', '40-46', '40-46', '33-39', '47-53', '40-46', '26-32', '40-46', '47-53', '26-32', '40-46', '26-32', '47-53', '54-60', '40-46', '47-53', '61-67', '19-25', '33-39', '54-60', '40-46', '26-32', '26-32', '33-39', '40-46', '33-39', '26-32', '26-32', '61-67', '26-32', '40-46', '33-39', '54-60', '47-53', '33-39', '40-46', '47-53', '40-46', '19-25', '47-53', '40-46', '47-53', '40-46', '40-46', '47-53', '47-53', '61-67', '54-60', '26-32', '47-53', '33-39', '54-60', '33-39', '47-53', '47-53', '33-39', '61-67', '26-32', '54-60', '33-39', '47-53', '61-67', '40-46', '19-25', '61-67', '26-32', '33-39', '19-25', '68-75', '61-67', '61-67', '54-60', '54-60', '40-46', '47-53', '47-53', '26-32', '47-53', '54-60', '47-53', '19-25', '26-32', '26-32', '61-67', '26-32', '54-60', '26-32', '40-46', '54-60', '54-60', '54-60', '19-25', '33-39', '33-39', '26-32', '33-39', '40-46', '47-53', '19-25', '40-46', '61-67', '40-46', '26-32', '54-60', '40-46', '26-32', '54-60', '54-60', '47-53', '33-39', '40-46', '40-46', '54-60', '54-60', '40-46', '40-46', '19-25', '47-53', '26-32', '33-39', '40-46', '47-53', '40-46', '54-60', '26-32', '47-53', '47-53', '33-39', '26-32', '47-53', '40-46', '26-32', '26-32', '26-32', '26-32', '26-32', '40-46', '26-32', '26-32', '54-60', '33-39', '54-60', '54-60', '40-46', '40-46', '47-53', '19-25', '40-46', '47-53', '33-39', '26-32', '54-60', '40-46', '40-46', '47-53', '26-32', '47-53', '40-46', '40-46', '33-39', '47-53', '40-46', '26-32', '40-46', '61-67', '47-53', '33-39', '33-39', '40-46', '54-60', '68-75', '26-32', '61-67', '26-32', '47-53', '33-39', '61-67', '40-46', '33-39', '33-39', '40-46', '26-32', '68-75', '40-46', '33-39', '33-39', '33-39', '54-60', '33-39', '47-53', '40-46', '33-39', '33-39', '26-32', '33-39', '19-25', '47-53', '19-25', '54-60', '40-46', '47-53', '47-53', '26-32', '26-32', '26-32', '54-60', '26-32', '33-39', '47-53', '40-46', '54-60', '33-39', '54-60', '26-32', '68-75', '26-32', '33-39', '33-39', '54-60', '40-46', '33-39', '26-32', '40-46', '61-67', '33-39', '61-67', '26-32', '26-32', '54-60', '54-60', '33-39', '61-67', '33-39', '40-46', '26-32', '47-53', '26-32', '61-67', '33-39', '40-46', '40-46', '26-32', '26-32', '54-60', '19-25', '40-46', '61-67', '19-25', '47-53', '47-53', '40-46', '40-46', '26-32', '61-67', '33-39', '40-46', '61-67', '40-46', '33-39', '40-46', '54-60', '47-53', '40-46', '26-32', '40-46', '61-67', '61-67', '47-53', '61-67', '47-53', '40-46', '54-60', '40-46', '26-32', '26-32', '19-25', '54-60', '40-46', '54-60', '26-32', '47-53', '40-46', '47-53', '47-53', '40-46', '40-46', '40-46', '40-46', '26-32', '47-53', '54-60', '26-32', '19-25', '40-46', '40-46', '40-46', '40-46', '61-67', '19-25', '40-46', '40-46', '26-32', '47-53', '61-67', '40-46', '33-39', '47-53', '61-67', '26-32', '26-32', '26-32', '19-25', '68-75', '47-53', '54-60', '26-32', '47-53', '33-39', '19-25', '54-60', '47-53', '26-32', '33-39', '26-32', '47-53', '26-32', '40-46', '40-46', '40-46', '61-67', '61-67', '26-32', '54-60', '47-53', '33-39', '61-67', '26-32', '54-60', '33-39', '40-46', '33-39', '40-46', '33-39', '19-25', '26-32', '26-32', '54-60', '40-46', '61-67', '40-46', '19-25', '47-53', '26-32', '26-32', '54-60', '19-25', '40-46', '19-25', '61-67', '47-53', '19-25', '19-25', '40-46', '47-53', '61-67', '26-32', '33-39', '40-46', '61-67', '54-60', '61-67', '40-46', '61-67', '33-39', '19-25', '26-32', '54-60', '19-25', '26-32', '47-53', '54-60', '40-46', '40-46', '33-39', '47-53', '40-46', '33-39', '33-39', '19-25', '61-67', '33-39', '19-25', '40-46', '40-46', '68-75', '33-39', '33-39', '40-46', '33-39', '26-32', '54-60', '33-39', '26-32', '40-46', '47-53', '54-60', '40-46', '54-60', '26-32', '26-32', '19-25', '54-60', '26-32', '40-46', '54-60', '40-46', '61-67', '54-60', '40-46', '47-53', '26-32', '26-32', '33-39', '40-46', '47-53', '54-60', '40-46', '54-60', '19-25', '33-39', '33-39', '61-67', '33-39', '40-46', '33-39', '19-25', '40-46', '40-46', '40-46', '33-39', '61-67', '26-32', '54-60', '26-32', '33-39', '54-60', '26-32', '47-53', '54-60', '47-53', '47-53', '33-39', '40-46', '40-46', '33-39', '61-67', '40-46', '68-75', '40-46', '40-46', '47-53', '47-53', '54-60', '26-32', '33-39', '47-53', '26-32', '47-53', '26-32', '47-53', '33-39', '26-32', '54-60', '40-46', '40-46', '54-60', '26-32', '47-53', '26-32', '40-46', '40-46', '19-25', '19-25', '54-60', '40-46', '19-25', '54-60', '33-39', '33-39', '40-46', '33-39', '40-46', '26-32', '40-46', '26-32', '47-53', '33-39', '47-53', '26-32', '47-53', '40-46', '33-39', '61-67', '33-39', '26-32', '33-39', '54-60', '19-25', '54-60', '54-60', '33-39', '33-39', '26-32', '26-32', '40-46', '61-67', '47-53', '54-60', '33-39', '68-75', '26-32', '26-32', '68-75', '40-46', '33-39', '33-39', '33-39', '33-39', '26-32', '19-25', '26-32', '68-75', '61-67', '26-32', '33-39', '40-46', '26-32', '33-39', '47-53', '47-53', '54-60', '33-39', '61-67', '26-32', '61-67', '26-32', '54-60', '33-39', '40-46', '19-25', '33-39', '33-39', '61-67', '26-32', '61-67', '68-75', '40-46', '19-25', '61-67', '26-32', '33-39', '33-39', '40-46', '47-53', '26-32', '33-39', '33-39', '33-39', '19-25', '54-60', '33-39', '33-39', '68-75', '61-67', '26-32', '47-53', '33-39', '47-53', '33-39', '33-39', '26-32', '40-46', '33-39', '26-32', '33-39', '40-46', '54-60', '61-67', '33-39', '47-53', '19-25', '68-75', '47-53', '54-60', '19-25', '33-39', '54-60', '26-32', '47-53', '33-39', '47-53', '47-53', '19-25', '26-32', '47-53', '47-53', '26-32', '54-60', '40-46', '61-67', '47-53', '33-39', '47-53', '33-39', '40-46', '47-53', '40-46', '26-32', '33-39', '54-60', '33-39', '54-60', '40-46', '26-32', '61-67', '33-39', '33-39', '26-32', '40-46', '47-53', '40-46', '26-32', '26-32', '33-39', '54-60', '33-39', '33-39', '33-39', '40-46', '40-46', '33-39', '54-60', '33-39', '61-67', '19-25', '33-39', '61-67', '40-46', '61-67', '26-32', '26-32', '19-25', '40-46', '19-25', '54-60', '26-32', '54-60', '26-32', '33-39', '40-46', '26-32', '54-60', '40-46', '47-53', '61-67', '33-39', '40-46', '33-39', '33-39', '40-46', '26-32', '47-53', '19-25', '54-60', '19-25', '54-60', '33-39', '40-46', '54-60', '19-25', '54-60', '40-46', '33-39', '61-67', '61-67', '33-39', '54-60', '47-53', '33-39', '47-53', '61-67', '54-60', '47-53', '40-46', '33-39', '33-39', '40-46', '40-46', '54-60', '26-32', '40-46', '47-53', '54-60', '40-46', '54-60', '33-39', '26-32', '19-25', '54-60', '47-53', '19-25', '33-39', '26-32', '47-53', '40-46', '33-39', '40-46', '40-46', '40-46', '26-32', '61-67', '40-46', '54-60', '47-53', '40-46', '40-46', '54-60', '26-32', '33-39', '33-39', '54-60', '33-39', '26-32', '33-39', '40-46', '61-67', '40-46', '54-60', '61-67', '33-39', '47-53', '47-53', '40-46', '40-46', '26-32', '33-39', '33-39', '54-60', '33-39', '47-53', '40-46', '33-39', '40-46', '26-32', '47-53', '47-53', '40-46', '40-46', '54-60', '26-32', '47-53', '33-39', '40-46', '61-67', '26-32', '40-46', '40-46', '54-60', '26-32', '54-60', '47-53', '54-60', '40-46', '47-53', '47-53', '26-32', '47-53', '47-53', '47-53', '47-53', '40-46', '26-32', '26-32', '61-67', '19-25', '47-53', '54-60', '68-75', '40-46', '47-53', '19-25', '54-60', '33-39', '61-67', '33-39', '54-60', '47-53', '26-32', '26-32', '40-46', '40-46', '40-46', '47-53', '68-75', '54-60', '47-53', '47-53', '47-53', '33-39', '61-67', '47-53', '40-46', '61-67', '33-39', '33-39', '47-53', '33-39', '54-60', '68-75', '54-60', '40-46', '47-53', '33-39', '54-60', '54-60', '33-39', '40-46', '47-53', '61-67', '47-53', '26-32', '54-60', '68-75', '47-53', '33-39', '33-39', '47-53', '33-39', '54-60', '33-39', '40-46', '40-46', '26-32', '54-60', '26-32', '61-67', '26-32', '19-25', '61-67', '47-53', '26-32', '26-32', '47-53', '33-39', '33-39', '47-53', '47-53', '54-60', '47-53', '26-32', '19-25', '26-32', '19-25', '33-39', '26-32', '33-39', '33-39', '33-39', '61-67', '40-46', '19-25', '61-67', '19-25', '54-60', '54-60', '47-53', '61-67', '26-32', '19-25', '54-60', '40-46', '33-39', '40-46', '40-46', '33-39', '47-53', '26-32', '26-32', '47-53', '40-46', '40-46', '26-32', '33-39', '54-60', '40-46', '54-60', '54-60', '61-67', '26-32', '40-46', '40-46', '68-75', '19-25', '54-60', '33-39', '47-53', '33-39', '40-46', '54-60', '40-46', '33-39', '47-53', '47-53', '47-53', '33-39', '47-53', '47-53', '26-32', '33-39', '61-67', '61-67', '40-46', '61-67', '40-46', '33-39', '54-60', '47-53', '26-32', '54-60', '61-67', '47-53', '40-46', '61-67', '26-32', '61-67', '40-46', '33-39', '26-32', '47-53', '68-75', '33-39', '61-67', '47-53', '40-46', '26-32', '40-46', '40-46', '26-32', '61-67', '61-67', '33-39', '47-53', '61-67', '47-53', '47-53', '40-46', '61-67', '47-53', '19-25', '33-39', '26-32', '33-39', '33-39', '26-32', '54-60', '19-25', '33-39', '47-53', '47-53', '26-32', '33-39', '33-39', '47-53', '40-46', '33-39', '40-46', '33-39', '40-46', '26-32', '19-25', '40-46', '47-53', '54-60', '47-53', '40-46', '54-60', '40-46', '33-39', '40-46', '26-32', '47-53', '47-53', '40-46', '47-53', '40-46', '47-53', '33-39', '19-25', '33-39', '68-75', '33-39', '40-46', '40-46', '54-60', '47-53', '47-53', '33-39', '33-39', '40-46', '26-32', '40-46', '26-32', '40-46', '40-46', '19-25', '61-67', '54-60', '26-32', '47-53', '19-25', '54-60', '47-53', '54-60', '26-32', '54-60', '54-60', '54-60', '68-75', '33-39', '68-75', '61-67', '19-25', '33-39', '40-46', '26-32', '33-39', '40-46', '40-46', '26-32', '54-60', '33-39', '47-53', '33-39', '47-53', '40-46', '33-39', '54-60', '68-75', '26-32', '26-32', '40-46', '40-46', '33-39', '19-25', '26-32', '19-25', '40-46', '47-53', '40-46', '47-53', '54-60', '54-60', '33-39', '40-46', '54-60', '47-53', '26-32', '19-25', '26-32', '26-32', '33-39', '47-53', '33-39', '54-60', '33-39', '19-25', '40-46', '54-60', '33-39', '61-67', '61-67', '47-53', '19-25', '26-32', '61-67', '40-46', '47-53', '33-39', '47-53', '26-32', '61-67', '33-39', '40-46', '26-32', '33-39', '47-53', '54-60', '47-53', '40-46', '40-46', '61-67', '54-60', '26-32', '40-46', '33-39', '61-67', '33-39', '19-25', '33-39', '26-32', '26-32', '33-39', '40-46', '54-60', '40-46', '26-32', '26-32', '19-25', '47-53', '61-67', '40-46', '40-46', '54-60', '26-32', '61-67', '47-53', '26-32', '61-67', '54-60', '40-46', '26-32', '40-46', '33-39', '54-60', '54-60', '68-75', '47-53', '54-60', '33-39', '40-46', '54-60', '26-32', '33-39', '40-46', '47-53', '47-53', '33-39', '26-32', '54-60', '40-46', '19-25', '26-32', '54-60', '40-46', '26-32', '26-32', '26-32', '26-32', '40-46', '26-32', '47-53', '54-60', '40-46', '26-32', '19-25', '54-60', '61-67', '47-53', '61-67', '33-39', '26-32', '40-46', '40-46', '54-60', '61-67', '33-39', '40-46', '54-60', '47-53', '19-25', '54-60', '26-32', '68-75', '47-53', '47-53', '54-60', '47-53', '54-60', '26-32', '40-46', '54-60', '26-32', '26-32', '33-39', '33-39', '47-53', '68-75', '33-39', '61-67', '33-39', '47-53', '68-75', '40-46', '61-67', '26-32', '61-67', '40-46', '40-46', '33-39', '33-39', '40-46', '19-25', '54-60', '61-67', '26-32', '47-53', '19-25', '47-53', '33-39', '54-60', '33-39', '40-46', '33-39', '54-60', '54-60', '33-39', '40-46', '19-25', '61-67', '40-46', '19-25', '47-53', '61-67', '40-46', '54-60', '54-60', '54-60', '40-46', '47-53', '40-46', '26-32', '26-32', '54-60', '54-60', '33-39', '26-32', '54-60', '54-60', '68-75', '54-60', '61-67', '33-39', '40-46', '26-32', '40-46', '26-32', '61-67', '19-25', '40-46', '33-39', '40-46', '40-46', '54-60', '47-53', '54-60', '26-32', '54-60', '47-53', '19-25', '26-32', '33-39', '54-60', '33-39', '19-25', '33-39', '33-39', '26-32', '54-60', '54-60', '33-39', '54-60', '26-32', '54-60', '40-46', '47-53', '54-60', '47-53', '40-46', '40-46', '40-46', '40-46', '54-60', '47-53', '40-46', '40-46', '54-60', '54-60', '54-60', '47-53', '40-46', '26-32', '40-46', '61-67', '47-53', '33-39', '26-32', '33-39', '26-32', '40-46', '33-39', '40-46', '26-32', '26-32', '47-53', '54-60', '26-32', '68-75', '26-32', '61-67', '33-39', '26-32', '33-39', '40-46', '33-39', '33-39', '26-32', '40-46', '61-67', '33-39', '26-32', '19-25', '40-46', '33-39', '61-67', '54-60', '47-53', '40-46', '33-39', '26-32', '47-53', '54-60', '26-32', '40-46', '33-39', '40-46', '47-53', '61-67', '47-53', '33-39', '33-39', '26-32', '47-53', '26-32', '40-46', '40-46', '26-32', '40-46', '54-60', '61-67', '54-60', '40-46', '33-39', '61-67', '47-53', '40-46', '47-53', '54-60', '33-39', '26-32', '61-67', '40-46', '26-32', '26-32', '47-53', '26-32', '33-39', '33-39', '19-25', '40-46', '19-25', '47-53', '26-32', '54-60', '40-46', '26-32', '47-53', '54-60', '61-67', '26-32', '47-53', '40-46', '61-67', '61-67', '40-46', '40-46', '26-32', '19-25', '54-60', '47-53', '26-32', '26-32', '33-39', '54-60', '26-32', '47-53', '33-39', '47-53', '54-60', '40-46', '54-60', '47-53', '26-32', '54-60', '26-32', '26-32', '47-53', '47-53', '47-53', '26-32', '61-67', '33-39', '33-39', '33-39', '68-75', '19-25', '33-39', '40-46', '26-32', '26-32', '26-32', '26-32', '47-53', '47-53', '40-46', '54-60', '26-32', '26-32', '19-25', '61-67', '19-25', '47-53', '26-32', '54-60', '54-60', '54-60', '54-60', '47-53', '47-53', '61-67', '26-32', '40-46', '47-53', '33-39', '33-39', '54-60', '40-46', '40-46', '40-46', '26-32', '26-32', '61-67', '47-53', '33-39', '26-32', '54-60', '40-46', '54-60', '33-39', '40-46', '54-60', '54-60', '26-32', '61-67', '47-53', '54-60', '61-67', '40-46', '33-39', '40-46', '26-32', '61-67', '68-75', '26-32', '54-60', '33-39', '40-46', '33-39', '47-53', '40-46', '54-60', '47-53', '33-39', '40-46', '26-32', '33-39', '47-53', '26-32', '61-67', '33-39', '33-39', '33-39', '33-39', '40-46', '40-46', '47-53', '26-32', '33-39', '33-39', '54-60', '47-53', '26-32', '61-67', '68-75', '47-53', '33-39', '26-32', '40-46', '33-39', '26-32', '40-46', '61-67', '33-39', '33-39', '33-39', '26-32', '61-67', '61-67', '54-60', '33-39', '61-67', '47-53', '40-46', '26-32', '40-46', '47-53', '19-25', '40-46', '40-46', '40-46', '47-53', '54-60', '47-53', '19-25', '47-53', '26-32', '33-39', '47-53', '26-32', '54-60', '33-39', '33-39', '47-53', '33-39', '61-67', '33-39', '54-60', '40-46', '33-39', '61-67', '26-32', '33-39', '33-39', '47-53', '47-53', '54-60', '33-39', '47-53', '19-25', '47-53', '40-46', '26-32', '33-39', '40-46', '33-39', '26-32', '33-39', '54-60', '33-39', '54-60', '26-32', '26-32', '54-60', '54-60', '19-25', '40-46', '33-39', '40-46', '47-53', '40-46', '40-46', '40-46', '47-53', '33-39', '61-67', '54-60', '26-32', '26-32', '33-39', '47-53', '19-25', '47-53', '61-67', '40-46', '47-53', '47-53', '61-67', '40-46', '26-32', '26-32', '61-67', '68-75', '33-39', '26-32', '33-39', '40-46', '33-39', '54-60', '26-32', '54-60', '26-32', '54-60', '33-39', '26-32', '26-32', '61-67', '26-32', '54-60', '40-46', '40-46', '33-39', '26-32', '26-32', '68-75', '61-67', '26-32', '47-53', '47-53', '61-67', '26-32', '26-32', '47-53', '61-67', '54-60', '26-32', '47-53', '68-75', '68-75', '40-46', '26-32', '33-39', '26-32', '54-60', '26-32', '19-25', '54-60', '54-60', '26-32', '40-46', '26-32', '40-46', '54-60', '68-75', '40-46', '47-53', '40-46', '61-67', '33-39', '61-67', '47-53', '33-39', '40-46', '47-53', '33-39', '33-39', '47-53', '40-46', '26-32', '33-39', '40-46', '33-39', '33-39', '54-60', '47-53', '33-39', '54-60', '61-67', '26-32', '26-32', '33-39', '26-32', '40-46', '54-60', '54-60', '33-39', '33-39', '61-67', '54-60', '61-67', '47-53', '33-39', '26-32', '47-53', '26-32', '26-32', '33-39', '54-60', '54-60', '54-60', '33-39', '19-25', '33-39', '61-67', '54-60', '61-67', '33-39', '47-53', '40-46', '33-39', '54-60', '19-25', '47-53', '47-53', '47-53', '54-60', '33-39', '26-32', '47-53', '47-53', '19-25', '47-53', '47-53', '54-60', '47-53', '26-32', '47-53', '26-32', '26-32', '40-46', '47-53', '61-67', '61-67', '26-32', '47-53', '33-39', '61-67', '68-75', '33-39', '47-53', '40-46', '33-39', '40-46', '33-39', '33-39', '47-53', '40-46', '54-60', '54-60', '40-46', '54-60', '26-32', '40-46', '47-53', '47-53', '19-25', '33-39', '40-46', '33-39', '26-32', '47-53', '40-46', '61-67', '54-60', '26-32', '47-53', '61-67', '33-39', '33-39', '40-46', '26-32', '47-53', '40-46', '33-39', '54-60', '26-32', '19-25', '26-32', '33-39', '47-53', '19-25', '54-60', '33-39', '54-60', '47-53', '61-67', '33-39', '26-32', '40-46', '26-32', '40-46', '33-39', '33-39', '40-46', '26-32', '47-53', '33-39', '47-53', '26-32', '33-39', '26-32', '33-39', '33-39', '61-67', '26-32', '33-39', '19-25', '47-53', '40-46', '54-60', '61-67', '47-53', '61-67', '47-53', '33-39', '47-53', '40-46', '33-39', '33-39', '47-53', '40-46', '26-32', '26-32', '61-67', '47-53', '40-46', '33-39', '40-46', '33-39', '47-53', '26-32', '47-53', '26-32', '33-39', '40-46', '61-67', '61-67', '26-32', '19-25', '47-53', '47-53', '26-32', '19-25', '47-53', '47-53', '19-25', '40-46', '47-53', '33-39', '26-32', '40-46', '54-60', '47-53', '40-46', '26-32', '33-39', '54-60', '33-39', '47-53', '40-46', '26-32', '47-53', '40-46', '33-39', '33-39', '54-60', '61-67', '40-46', '40-46', '54-60', '54-60', '26-32', '33-39', '26-32', '47-53', '47-53', '33-39', '26-32', '26-32', '26-32', '26-32', '33-39', '47-53', '54-60', '40-46', '54-60', '47-53', '54-60', '40-46', '61-67', '19-25', '26-32', '54-60', '26-32', '26-32', '26-32', '54-60', '54-60', '26-32', '40-46', '33-39', '33-39', '54-60', '40-46', '26-32', '61-67', '54-60', '33-39', '61-67', '54-60', '61-67', '26-32', '54-60', '47-53', '26-32', '54-60', '26-32', '33-39', '26-32', '26-32', '61-67', '54-60', '33-39', '40-46', '33-39', '54-60', '33-39', '33-39', '47-53', '26-32', '33-39', '40-46', '26-32', '33-39', '33-39', '47-53', '54-60', '33-39', '40-46', '26-32', '47-53', '19-25', '33-39', '26-32', '19-25', '26-32', '33-39', '61-67', '47-53', '47-53', '40-46', '40-46', '19-25', '47-53', '33-39', '40-46', '40-46', '26-32', '26-32', '40-46', '61-67', '54-60', '47-53', '68-75', '47-53', '54-60', '33-39', '26-32', '40-46', '54-60', '54-60', '33-39', '54-60', '19-25', '33-39', '33-39', '26-32', '26-32', '54-60', '61-67', '33-39', '26-32', '61-67', '47-53', '54-60', '40-46', '33-39', '47-53', '33-39', '54-60', '47-53', '54-60', '33-39', '26-32', '47-53', '40-46', '61-67', '54-60', '61-67', '40-46', '33-39', '54-60', '40-46', '26-32', '68-75', '47-53', '26-32', '47-53', '47-53', '19-25', '54-60', '54-60', '33-39', '26-32', '26-32', '19-25', '61-67', '26-32', '33-39', '47-53', '26-32', '54-60', '47-53', '61-67', '40-46', '26-32', '40-46', '47-53', '26-32', '47-53', '47-53', '47-53', '40-46', '40-46', '33-39', '47-53', '47-53', '47-53', '26-32', '61-67', '26-32', '47-53', '54-60', '47-53', '26-32', '40-46', '26-32', '33-39', '40-46', '26-32', '40-46', '26-32', '54-60', '33-39', '54-60', '54-60', '19-25', '26-32', '33-39', '26-32', '40-46', '54-60', '33-39', '68-75', '33-39', '40-46', '40-46', '40-46', '40-46', '26-32', '40-46', '40-46', '26-32', '33-39', '33-39', '26-32', '26-32', '26-32', '33-39', '68-75', '61-67', '54-60', '26-32', '47-53', '40-46', '33-39', '54-60', '26-32', '40-46', '54-60', '40-46', '33-39', '19-25', '26-32', '40-46', '54-60', '26-32', '26-32', '33-39', '40-46', '54-60', '47-53', '40-46', '33-39', '40-46', '19-25', '54-60', '61-67', '54-60', '47-53', '40-46', '47-53', '26-32', '26-32', '33-39', '47-53', '26-32', '33-39', '47-53', '54-60', '19-25', '19-25', '47-53', '40-46', '61-67', '33-39', '54-60', '40-46', '26-32', '33-39', '19-25', '26-32', '47-53', '40-46', '54-60', '40-46', '26-32', '33-39', '26-32', '61-67', '61-67', '54-60', '33-39', '61-67', '33-39', '54-60', '33-39', '26-32', '33-39', '54-60', '54-60', '54-60', '19-25', '26-32', '40-46', '26-32', '47-53', '61-67', '54-60', '33-39', '40-46', '33-39', '33-39', '54-60', '33-39', '19-25', '26-32', '40-46', '61-67', '19-25', '26-32', '26-32', '19-25', '47-53', '26-32', '40-46', '54-60', '61-67', '33-39', '47-53', '40-46', '26-32', '47-53', '26-32', '61-67', '61-67', '26-32', '61-67', '40-46', '54-60', '33-39', '40-46', '19-25', '47-53', '26-32', '47-53', '54-60', '40-46', '33-39', '61-67', '33-39', '26-32', '26-32', '47-53', '54-60', '40-46', '26-32', '47-53', '33-39', '40-46', '33-39', '54-60', '47-53', '47-53', '54-60', '33-39', '61-67', '54-60', '19-25', '26-32', '47-53', '33-39', '61-67', '47-53', '47-53', '26-32', '40-46', '26-32', '33-39', '54-60', '47-53', '19-25', '54-60', '19-25', '40-46', '26-32', '47-53', '26-32', '40-46', '26-32', '54-60', '26-32', '47-53', '47-53', '26-32', '33-39', '61-67', '19-25', '40-46', '54-60', '40-46', '26-32', '54-60', '40-46', '40-46', '47-53', '54-60', '47-53', '40-46', '40-46', '33-39', '61-67', '40-46', '26-32', '26-32', '61-67', '33-39', '33-39', '26-32', '33-39', '26-32', '47-53', '40-46', '19-25', '47-53', '26-32', '61-67', '33-39', '54-60', '26-32', '33-39', '19-25', '40-46', '26-32', '47-53', '26-32', '47-53', '61-67', '40-46', '40-46', '61-67', '61-67', '47-53', '40-46', '33-39', '33-39', '61-67', '33-39', '47-53', '26-32', '40-46', '40-46', '61-67', '33-39', '40-46', '47-53', '40-46', '26-32', '19-25', '33-39', '61-67', '54-60', '54-60', '26-32', '33-39', '26-32', '40-46', '47-53', '33-39', '47-53', '47-53', '26-32', '47-53', '47-53', '61-67', '47-53', '33-39', '40-46', '54-60', '54-60', '26-32', '40-46', '33-39', '47-53', '26-32', '33-39', '61-67', '54-60', '47-53', '47-53', '26-32', '33-39', '40-46', '61-67', '33-39', '54-60', '61-67', '26-32', '61-67', '33-39', '33-39', '19-25', '33-39', '40-46', '54-60', '54-60', '26-32', '54-60', '61-67', '26-32', '47-53', '26-32', '40-46', '54-60', '33-39', '47-53', '33-39', '26-32', '19-25', '26-32', '26-32', '33-39', '26-32', '68-75', '40-46', '26-32', '26-32', '33-39', '33-39', '47-53', '61-67', '19-25', '33-39', '33-39', '33-39', '40-46', '33-39', '40-46', '47-53', '26-32', '61-67', '26-32', '40-46', '54-60', '33-39', '40-46', '26-32', '54-60', '40-46', '33-39', '47-53', '26-32', '40-46', '33-39', '47-53', '40-46', '54-60', '40-46', '61-67', '40-46', '26-32', '26-32', '19-25', '40-46', '40-46', '26-32', '61-67', '33-39', '54-60', '47-53', '26-32', '33-39', '26-32', '54-60', '54-60', '54-60', '47-53', '40-46', '40-46', '33-39', '19-25', '47-53', '47-53', '26-32', '47-53', '54-60', '33-39', '40-46', '54-60', '61-67', '40-46', '40-46', '26-32', '33-39', '40-46', '26-32', '19-25', '54-60', '61-67', '54-60', '40-46', '19-25', '54-60', '19-25', '47-53', '61-67', '40-46', '26-32', '40-46', '33-39', '61-67', '26-32', '47-53', '47-53', '54-60', '54-60', '26-32', '47-53', '26-32', '47-53', '40-46', '61-67', '33-39', '61-67', '47-53', '40-46', '33-39', '47-53', '54-60', '54-60', '19-25', '61-67', '54-60', '68-75', '26-32', '33-39', '54-60', '47-53', '40-46', '40-46', '26-32', '26-32', '26-32', '33-39', '47-53', '68-75', '33-39', '40-46', '33-39', '26-32', '33-39', '47-53', '54-60', '47-53', '26-32', '26-32', '54-60', '61-67', '54-60', '33-39', '54-60', '40-46', '40-46', '54-60', '54-60', '26-32', '33-39', '33-39', '33-39', '54-60', '47-53', '54-60', '47-53', '26-32', '40-46', '33-39', '33-39', '47-53', '54-60', '40-46', '26-32', '33-39', '40-46', '26-32', '40-46', '40-46', '26-32', '54-60', '54-60', '61-67', '54-60', '61-67', '26-32', '33-39', '33-39', '54-60', '68-75', '47-53', '33-39', '40-46', '26-32', '47-53', '47-53', '33-39', '47-53', '26-32', '54-60', '40-46', '33-39', '19-25', '33-39', '26-32', '40-46', '47-53', '54-60', '33-39', '19-25', '47-53', '47-53', '40-46', '26-32', '26-32', '47-53', '40-46', '19-25', '26-32', '33-39', '54-60', '19-25', '26-32', '26-32', '54-60', '19-25', '26-32', '47-53', '33-39', '61-67', '26-32', '33-39', '19-25', '26-32', '54-60', '33-39', '47-53', '40-46', '33-39', '54-60', '61-67', '47-53', '54-60', '26-32', '40-46', '61-67', '33-39', '26-32', '47-53', '40-46', '33-39', '54-60', '61-67', '47-53', '33-39', '26-32', '33-39', '33-39', '19-25', '33-39', '19-25', '26-32', '33-39', '40-46', '40-46', '40-46', '47-53', '33-39', '61-67', '61-67', '40-46', '61-67', '40-46', '40-46', '19-25', '26-32', '26-32', '33-39', '47-53', '33-39', '40-46', '47-53', '61-67', '47-53', '26-32', '26-32', '19-25', '19-25', '26-32', '54-60', '26-32', '19-25', '47-53', '26-32', '61-67', '47-53', '26-32', '47-53', '33-39', '54-60', '26-32', '47-53', '40-46', '33-39', '19-25', '40-46', '26-32', '40-46', '47-53', '68-75', '26-32', '33-39', '40-46', '40-46', '47-53', '61-67', '19-25', '54-60', '54-60', '47-53', '33-39', '33-39', '68-75', '47-53', '54-60', '26-32', '33-39', '54-60', '61-67', '33-39', '40-46', '19-25', '47-53', '68-75', '26-32', '26-32', '40-46', '54-60', '33-39', '47-53', '33-39', '40-46', '40-46', '61-67', '54-60', '33-39', '61-67', '19-25', '68-75', '54-60', '47-53', '26-32', '33-39', '26-32', '54-60', '26-32', '19-25', '33-39', '33-39', '33-39', '61-67', '33-39', '33-39', '19-25', '33-39', '19-25', '40-46', '19-25', '61-67', '33-39', '19-25', '47-53', '26-32', '26-32', '68-75', '26-32', '33-39', '33-39', '19-25', '26-32', '54-60', '54-60', '26-32', '47-53', '54-60', '54-60', '61-67', '33-39', '26-32', '26-32', '19-25', '54-60', '54-60', '19-25', '54-60', '47-53', '40-46', '33-39', '33-39', '54-60', '33-39', '61-67', '19-25', '40-46', '54-60', '26-32', '40-46', '47-53', '26-32', '47-53', '33-39', '47-53', '33-39', '40-46', '54-60', '47-53', '54-60', '26-32', '33-39', '26-32', '61-67', '40-46', '33-39', '40-46', '40-46', '61-67', '54-60', '40-46', '54-60', '47-53', '68-75', '33-39', '19-25', '40-46', '54-60', '54-60', '33-39', '40-46', '26-32', '47-53', '33-39', '61-67', '40-46', '47-53', '47-53', '54-60', '33-39', '47-53', '40-46', '33-39', '54-60', '68-75', '40-46', '47-53', '61-67', '26-32', '33-39', '26-32', '19-25', '47-53', '68-75', '47-53', '54-60', '26-32', '33-39', '54-60', '33-39', '26-32', '61-67', '33-39', '47-53', '54-60', '54-60', '54-60', '26-32', '33-39', '61-67', '26-32', '40-46', '33-39', '33-39', '54-60', '47-53', '61-67', '40-46', '40-46', '40-46', '54-60', '54-60', '54-60', '26-32', '54-60', '61-67', '33-39', '47-53', '26-32', '54-60', '47-53', '68-75', '26-32', '26-32', '19-25', '40-46', '33-39', '40-46', '19-25', '54-60', '40-46', '19-25', '26-32', '26-32', '68-75', '47-53', '61-67', '47-53', '54-60', '68-75', '26-32', '26-32', '47-53', '40-46', '54-60', '40-46', '40-46', '54-60', '19-25', '54-60', '40-46', '47-53', '54-60', '61-67', '54-60', '19-25', '19-25', '54-60', '40-46', '33-39', '33-39', '54-60', '26-32', '33-39', '61-67', '47-53', '26-32', '40-46', '26-32', '47-53', '47-53', '26-32', '33-39', '40-46', '40-46', '61-67', '40-46', '33-39', '47-53', '47-53', '26-32', '54-60', '26-32', '47-53', '26-32', '33-39', '68-75', '26-32', '33-39', '47-53', '33-39', '54-60', '40-46', '54-60', '33-39', '26-32', '19-25', '26-32', '54-60', '19-25', '40-46', '40-46', '54-60', '47-53', '33-39', '47-53', '47-53', '47-53', '61-67', '47-53', '61-67', '33-39', '40-46', '54-60', '47-53', '26-32', '68-75', '61-67', '19-25', '47-53', '54-60', '33-39', '68-75', '26-32', '40-46', '26-32', '54-60', '54-60', '61-67', '33-39', '26-32', '33-39', '26-32', '19-25', '40-46', '47-53', '61-67', '40-46', '40-46', '54-60', '54-60', '40-46', '33-39', '33-39', '47-53', '26-32', '54-60', '47-53', '40-46', '33-39', '40-46', '54-60', '26-32', '19-25', '61-67', '40-46', '19-25', '33-39', '26-32', '26-32', '40-46', '54-60', '33-39', '54-60', '40-46', '33-39', '61-67', '40-46', '54-60', '33-39', '54-60', '47-53', '47-53', '33-39', '47-53', '61-67', '40-46', '40-46', '40-46', '47-53', '47-53', '33-39', '33-39', '33-39', '26-32', '47-53', '54-60', '33-39', '26-32', '47-53', '61-67', '19-25', '61-67', '33-39', '40-46', '33-39', '40-46', '61-67', '26-32', '54-60', '33-39', '40-46', '33-39', '33-39', '40-46', '26-32', '33-39', '19-25', '54-60', '40-46', '26-32', '47-53', '40-46', '40-46', '33-39', '40-46', '47-53', '61-67', '33-39', '26-32', '40-46', '40-46', '47-53', '40-46', '54-60', '33-39', '40-46', '40-46', '26-32', '26-32', '26-32', '19-25', '40-46', '40-46', '54-60', '40-46', '61-67', '19-25', '33-39', '40-46', '47-53', '54-60', '47-53', '40-46', '61-67', '54-60', '40-46', '33-39', '40-46', '33-39', '40-46', '19-25', '26-32', '40-46', '54-60', '47-53', '33-39', '61-67', '33-39', '61-67', '47-53', '40-46', '19-25', '54-60', '26-32', '40-46', '54-60', '33-39', '47-53', '40-46', '54-60', '47-53', '47-53', '68-75', '47-53', '26-32', '40-46', '26-32', '40-46', '61-67', '47-53', '26-32', '40-46', '54-60', '47-53', '40-46', '26-32', '61-67', '33-39', '54-60', '33-39', '54-60', '19-25', '54-60', '40-46', '40-46', '40-46', '47-53', '40-46', '47-53', '33-39', '54-60', '47-53', '54-60', '26-32', '26-32', '47-53', '33-39', '54-60', '61-67', '54-60', '33-39', '47-53', '26-32', '33-39', '54-60', '40-46', '33-39', '54-60', '47-53', '33-39', '33-39', '33-39', '47-53', '33-39', '54-60', '26-32', '61-67', '40-46', '26-32', '47-53', '40-46', '40-46', '26-32', '40-46', '19-25', '61-67', '33-39', '54-60', '26-32', '26-32', '47-53', '54-60', '33-39', '54-60', '40-46', '26-32', '26-32', '54-60', '26-32', '54-60', '26-32', '47-53', '19-25', '47-53', '47-53', '33-39', '68-75', '47-53', '54-60', '26-32', '26-32', '19-25', '47-53', '61-67', '26-32', '33-39', '33-39', '47-53', '33-39', '47-53', '26-32', '54-60', '54-60', '33-39', '26-32', '54-60', '40-46', '47-53', '33-39', '40-46', '33-39', '47-53', '19-25', '47-53', '54-60', '54-60', '47-53', '33-39', '26-32', '40-46', '40-46', '47-53', '40-46', '47-53', '68-75', '47-53', '40-46', '47-53', '26-32', '33-39', '26-32', '40-46', '54-60', '54-60', '26-32', '47-53', '26-32', '26-32', '33-39', '33-39', '68-75', '61-67', '19-25', '19-25', '40-46', '26-32', '61-67', '54-60', '33-39', '33-39', '61-67', '33-39', '33-39', '47-53', '33-39', '47-53', '33-39', '40-46', '40-46', '61-67', '26-32', '33-39', '47-53', '54-60', '47-53', '68-75', '54-60', '33-39', '47-53', '26-32', '26-32', '33-39', '19-25', '54-60', '26-32', '40-46', '19-25', '47-53', '47-53', '26-32', '26-32', '26-32', '54-60', '26-32', '26-32', '54-60', '26-32', '40-46', '54-60', '40-46', '54-60', '40-46', '33-39', '33-39', '47-53', '54-60', '26-32', '40-46', '40-46', '26-32', '26-32', '40-46', '40-46', '33-39', '54-60', '40-46', '54-60', '33-39', '61-67', '47-53', '33-39', '33-39', '54-60', '47-53', '47-53', '33-39', '61-67', '19-25', '33-39', '26-32', '68-75', '33-39', '54-60', '61-67', '26-32', '26-32', '40-46', '54-60', '33-39', '26-32', '54-60', '61-67', '33-39', '33-39', '33-39', '33-39', '40-46', '54-60', '40-46', '40-46', '33-39', '33-39', '33-39', '26-32', '47-53', '40-46', '61-67', '54-60', '47-53', '40-46', '40-46', '26-32', '47-53', '26-32', '33-39', '33-39', '33-39', '61-67', '26-32', '47-53', '40-46', '47-53', '54-60', '40-46', '19-25', '26-32', '26-32', '54-60', '26-32', '33-39', '40-46', '47-53', '26-32', '54-60', '61-67', '54-60', '26-32', '54-60', '19-25', '40-46', '33-39', '33-39', '61-67', '26-32', '40-46', '33-39', '47-53', '40-46', '26-32', '61-67', '33-39', '61-67', '47-53', '33-39', '33-39', '26-32', '47-53', '61-67', '26-32', '40-46', '47-53', '26-32', '40-46', '33-39', '33-39', '26-32', '33-39', '47-53', '33-39', '47-53', '68-75', '40-46', '40-46', '47-53', '47-53', '47-53', '33-39', '61-67', '26-32', '40-46', '26-32', '47-53', '33-39', '33-39', '47-53', '54-60', '40-46', '47-53', '54-60', '26-32', '40-46', '47-53', '47-53', '26-32', '40-46', '47-53', '47-53', '26-32', '47-53', '33-39', '47-53', '33-39', '19-25', '47-53', '26-32', '47-53', '26-32', '61-67', '33-39', '33-39', '33-39', '47-53', '61-67', '26-32', '40-46', '54-60', '33-39', '47-53', '47-53', '26-32', '33-39', '40-46', '54-60', '19-25', '68-75', '26-32', '26-32', '26-32', '40-46', '54-60', '33-39', '40-46', '40-46', '54-60', '33-39', '26-32', '19-25', '33-39', '47-53', '33-39', '40-46', '26-32', '26-32', '61-67', '19-25', '54-60', '40-46', '26-32', '47-53', '40-46', '68-75', '26-32', '40-46', '47-53', '47-53', '33-39', '54-60', '33-39', '26-32', '68-75', '54-60', '19-25', '54-60', '26-32', '26-32', '61-67', '33-39', '47-53', '26-32', '26-32', '40-46', '54-60', '54-60', '19-25', '33-39', '61-67', '54-60', '61-67', '33-39', '68-75', '68-75', '47-53', '54-60', '26-32', '54-60', '47-53', '26-32', '54-60', '47-53', '33-39', '33-39', '40-46', '40-46', '33-39', '26-32', '47-53', '33-39', '26-32', '61-67', '54-60', '54-60', '26-32', '61-67', '33-39', '54-60', '54-60', '26-32', '26-32', '54-60', '33-39', '54-60', '47-53', '47-53', '19-25', '40-46', '40-46', '26-32', '54-60', '61-67', '54-60', '47-53', '54-60', '19-25', '33-39', '33-39', '26-32', '61-67', '61-67', '33-39', '26-32', '61-67', '40-46', '33-39', '33-39', '54-60', '26-32', '47-53', '61-67', '40-46', '40-46', '54-60', '61-67', '40-46', '54-60', '33-39', '26-32', '54-60', '47-53', '33-39', '33-39', '26-32', '54-60', '40-46', '33-39', '19-25', '26-32', '54-60', '33-39', '54-60', '47-53', '33-39', '61-67', '40-46', '40-46', '47-53', '47-53', '47-53', '47-53', '40-46', '47-53', '47-53', '61-67', '26-32', '47-53', '54-60', '33-39', '61-67', '33-39', '26-32', '54-60', '26-32', '33-39', '61-67', '47-53', '61-67', '54-60', '26-32', '47-53', '26-32', '40-46', '61-67', '33-39', '33-39', '54-60', '54-60', '54-60', '26-32', '54-60', '40-46', '54-60', '40-46', '54-60', '61-67', '47-53', '26-32', '54-60', '40-46', '33-39', '26-32', '47-53', '26-32', '47-53', '54-60', '47-53', '33-39', '33-39', '47-53', '54-60', '40-46', '47-53', '40-46', '26-32', '33-39', '54-60', '40-46', '54-60', '26-32', '54-60', '40-46', '33-39', '33-39', '26-32', '40-46', '40-46', '40-46', '33-39', '54-60', '33-39', '54-60', '61-67', '40-46', '33-39', '47-53', '33-39', '40-46', '47-53', '33-39', '47-53', '26-32', '26-32', '47-53', '26-32', '33-39', '26-32', '61-67', '47-53', '40-46', '40-46', '33-39', '54-60', '26-32', '19-25', '61-67', '33-39', '40-46', '26-32', '40-46', '47-53', '61-67', '54-60', '40-46', '54-60', '26-32', '33-39', '33-39', '19-25', '54-60', '33-39', '40-46', '33-39', '54-60', '54-60', '47-53', '33-39', '33-39', '33-39', '47-53', '47-53', '47-53', '54-60', '54-60', '33-39', '54-60', '54-60', '54-60', '26-32', '47-53', '33-39', '54-60', '33-39', '33-39', '40-46', '47-53', '47-53', '26-32', '61-67', '54-60', '54-60', '33-39', '33-39', '33-39', '40-46', '47-53', '40-46', '54-60', '40-46', '40-46', '33-39', '40-46', '33-39', '47-53', '26-32', '47-53', '33-39', '33-39', '19-25', '61-67', '19-25', '54-60', '54-60', '54-60', '26-32', '40-46', '47-53', '54-60', '40-46', '19-25', '47-53', '33-39', '33-39', '33-39', '47-53', '40-46', '40-46', '47-53', '40-46', '47-53', '33-39', '26-32', '61-67', '33-39', '33-39', '54-60', '26-32', '40-46', '33-39', '47-53', '61-67', '54-60', '54-60', '61-67', '54-60', '19-25', '54-60', '19-25', '61-67', '33-39', '47-53', '40-46', '54-60', '54-60', '26-32', '47-53', '33-39', '26-32', '19-25', '33-39', '33-39', '47-53', '19-25', '26-32', '19-25', '40-46', '26-32', '40-46', '54-60', '33-39', '26-32', '26-32', '61-67', '47-53', '26-32', '26-32', '19-25', '47-53', '26-32', '54-60', '26-32', '40-46', '40-46', '33-39', '26-32', '33-39', '47-53', '26-32', '26-32', '47-53', '40-46', '26-32', '33-39', '47-53', '26-32', '40-46', '54-60', '26-32', '68-75', '47-53', '40-46', '26-32', '40-46', '47-53', '40-46', '26-32', '61-67', '26-32', '33-39', '26-32', '54-60', '47-53', '26-32', '33-39', '33-39', '26-32', '47-53', '40-46', '40-46', '40-46', '54-60', '26-32', '40-46', '40-46', '47-53', '47-53', '26-32', '26-32', '19-25', '19-25', '54-60', '26-32', '33-39', '54-60', '40-46', '33-39', '19-25', '61-67', '26-32', '47-53', '26-32', '26-32', '26-32', '26-32', '26-32', '26-32', '40-46', '54-60', '40-46', '40-46', '40-46', '40-46', '33-39', '33-39', '26-32', '33-39', '19-25', '47-53', '47-53', '19-25', '61-67', '40-46', '47-53', '61-67', '26-32', '26-32', '47-53', '54-60', '19-25', '33-39', '33-39', '54-60', '40-46', '26-32', '26-32', '33-39', '26-32', '61-67', '47-53', '26-32', '54-60', '68-75', '40-46', '61-67', '47-53', '54-60', '61-67', '40-46', '54-60', '33-39', '61-67', '61-67', '33-39', '26-32', '40-46', '33-39', '33-39', '33-39', '40-46', '47-53', '26-32', '33-39', '47-53', '40-46', '54-60', '54-60', '54-60', '26-32', '33-39', '40-46', '61-67', '40-46', '47-53', '47-53', '40-46', '33-39', '40-46', '54-60', '54-60', '61-67', '26-32', '33-39', '33-39', '54-60', '54-60', '40-46', '33-39', '19-25', '40-46', '26-32', '61-67', '47-53', '19-25', '61-67', '47-53', '26-32', '40-46', '54-60', '47-53', '33-39', '40-46', '54-60', '33-39', '47-53', '19-25', '47-53', '33-39', '19-25', '47-53', '33-39', '40-46', '33-39', '54-60', '26-32', '40-46', '61-67', '26-32', '61-67', '47-53', '33-39', '61-67', '47-53', '33-39', '26-32', '61-67', '33-39', '61-67', '47-53', '33-39', '33-39', '54-60', '54-60', '40-46', '33-39', '40-46', '47-53', '33-39', '26-32', '26-32', '54-60', '33-39', '54-60', '33-39', '40-46', '33-39', '26-32', '40-46', '33-39', '54-60', '26-32', '47-53', '61-67', '40-46', '61-67', '54-60', '33-39', '54-60', '33-39', '54-60', '26-32', '33-39', '47-53', '19-25', '47-53', '26-32', '54-60', '54-60', '54-60', '26-32', '26-32', '26-32', '47-53', '33-39', '26-32', '47-53', '47-53', '19-25', '54-60', '33-39', '40-46', '26-32', '54-60', '47-53', '47-53', '40-46', '33-39', '54-60', '54-60', '19-25', '33-39', '40-46', '68-75', '26-32', '19-25', '54-60', '47-53', '47-53', '47-53', '40-46', '40-46', '54-60', '19-25', '47-53', '54-60', '40-46', '40-46', '47-53', '54-60', '33-39', '33-39', '47-53', '19-25', '26-32', '54-60', '47-53', '19-25', '33-39', '26-32', '40-46', '61-67', '33-39', '40-46', '40-46', '54-60', '33-39', '40-46', '68-75', '54-60', '33-39', '47-53', '26-32', '40-46', '54-60', '54-60', '47-53', '40-46', '33-39', '40-46', '61-67', '47-53', '40-46', '33-39', '40-46', '33-39', '26-32', '61-67', '26-32', '61-67', '26-32', '47-53', '26-32', '40-46', '40-46', '40-46', '47-53', '54-60', '61-67', '47-53', '68-75', '54-60', '54-60', '19-25', '54-60', '19-25', '40-46', '33-39', '61-67', '47-53', '61-67', '61-67', '47-53', '26-32', '40-46', '40-46', '40-46', '19-25', '26-32', '54-60', '47-53', '33-39', '47-53', '47-53', '40-46', '26-32', '47-53', '61-67', '26-32', '54-60', '26-32', '47-53', '54-60', '40-46', '33-39', '54-60', '33-39', '54-60', '47-53', '33-39', '26-32', '47-53', '19-25', '61-67', '47-53', '54-60', '47-53', '61-67', '61-67', '47-53', '26-32', '47-53', '40-46', '40-46', '61-67', '33-39', '40-46', '26-32', '26-32', '61-67', '40-46', '26-32', '47-53', '61-67', '33-39', '19-25', '47-53', '47-53', '61-67', '26-32', '61-67', '40-46', '61-67', '61-67', '47-53', '40-46', '40-46', '47-53', '40-46', '47-53', '33-39', '33-39', '26-32', '47-53', '19-25', '33-39', '61-67', '26-32', '19-25', '54-60', '54-60', '61-67', '26-32', '54-60', '33-39', '40-46', '47-53', '47-53', '47-53', '26-32', '33-39', '19-25', '54-60', '54-60', '47-53', '33-39', '40-46', '33-39', '54-60', '47-53', '47-53', '54-60', '33-39', '54-60', '40-46', '40-46', '40-46', '26-32', '54-60', '19-25', '26-32', '40-46', '40-46', '26-32', '54-60', '54-60', '33-39', '40-46', '26-32', '40-46', '47-53', '40-46', '33-39', '61-67', '47-53', '40-46', '40-46', '47-53', '33-39', '47-53', '33-39', '40-46', '40-46', '47-53', '19-25', '33-39', '54-60', '33-39', '40-46', '40-46', '47-53', '61-67', '26-32', '61-67', '61-67', '47-53', '47-53', '47-53', '61-67', '40-46', '40-46', '33-39', '68-75', '54-60', '40-46', '47-53', '26-32', '26-32', '40-46', '40-46', '26-32', '40-46', '61-67', '47-53', '40-46', '54-60', '26-32', '19-25', '33-39', '61-67', '33-39', '47-53', '33-39', '19-25', '54-60', '40-46', '47-53', '40-46', '61-67', '54-60', '54-60', '54-60', '33-39', '61-67', '26-32', '40-46', '33-39', '54-60', '54-60', '54-60', '40-46', '40-46', '26-32', '47-53', '68-75', '40-46', '47-53', '47-53', '26-32', '40-46', '26-32', '61-67', '19-25', '33-39', '47-53', '26-32', '54-60', '33-39', '33-39', '33-39', '40-46', '40-46', '47-53', '61-67', '54-60', '33-39', '40-46', '26-32', '33-39', '33-39', '40-46', '26-32', '33-39', '47-53', '33-39', '33-39', '26-32', '61-67', '33-39', '61-67', '33-39', '40-46', '40-46', '61-67', '40-46', '54-60', '40-46', '40-46', '61-67', '26-32', '33-39', '47-53', '33-39', '54-60', '47-53', '54-60', '40-46', '40-46', '33-39', '19-25', '33-39', '68-75', '19-25', '61-67', '47-53', '47-53', '54-60', '40-46', '26-32', '26-32', '47-53', '54-60', '54-60', '54-60', '26-32', '61-67', '40-46', '26-32', '26-32', '54-60', '61-67', '26-32', '54-60', '40-46', '40-46', '26-32', '54-60', '26-32', '47-53', '47-53', '47-53', '54-60', '19-25', '47-53', '54-60', '40-46', '33-39', '26-32', '33-39', '61-67', '33-39', '26-32', '47-53', '61-67', '33-39', '19-25', '47-53', '54-60', '47-53', '54-60', '61-67', '33-39', '33-39', '54-60', '19-25', '40-46', '47-53', '19-25', '68-75', '47-53', '40-46', '33-39', '40-46', '47-53', '47-53', '26-32', '54-60', '61-67', '26-32', '61-67', '33-39', '33-39', '40-46', '33-39', '26-32', '61-67', '26-32', '33-39', '26-32', '61-67', '54-60', '26-32', '26-32', '40-46', '40-46', '33-39', '33-39', '40-46', '26-32', '33-39', '19-25', '26-32', '54-60', '47-53', '33-39', '33-39', '26-32', '19-25', '33-39', '61-67', '26-32', '40-46', '33-39', '47-53', '19-25', '40-46', '33-39', '61-67', '26-32', '47-53', '40-46', '61-67', '47-53', '40-46', '33-39', '54-60', '40-46', '33-39', '47-53', '33-39', '54-60', '47-53', '40-46', '54-60', '33-39', '26-32', '54-60', '19-25', '40-46', '47-53', '33-39', '26-32', '40-46', '33-39', '54-60', '26-32', '33-39', '40-46', '33-39', '33-39', '47-53', '54-60', '54-60', '26-32', '26-32', '47-53', '19-25', '54-60', '61-67', '26-32', '40-46', '26-32', '19-25', '19-25', '47-53', '26-32', '47-53', '26-32', '54-60', '33-39', '61-67', '33-39', '26-32', '54-60', '26-32', '40-46', '26-32', '47-53', '26-32', '26-32', '33-39', '33-39', '40-46', '26-32', '54-60', '33-39', '26-32', '40-46', '26-32', '26-32', '33-39', '47-53', '33-39', '33-39', '54-60', '40-46', '47-53', '40-46', '54-60', '26-32', '33-39', '54-60', '33-39', '54-60', '33-39', '61-67', '40-46', '54-60', '26-32', '40-46', '40-46', '33-39', '26-32', '19-25', '47-53', '40-46', '54-60', '47-53', '26-32', '40-46', '47-53', '54-60', '54-60', '54-60', '54-60', '47-53', '33-39', '33-39', '26-32', '26-32', '40-46', '47-53', '26-32', '26-32', '40-46', '19-25', '19-25', '33-39', '47-53', '33-39', '26-32', '47-53', '33-39', '26-32', '47-53', '47-53', '40-46', '33-39', '33-39', '47-53', '54-60', '40-46', '33-39', '33-39', '61-67', '54-60', '40-46', '26-32', '40-46', '33-39', '26-32', '61-67', '19-25', '47-53', '26-32', '33-39', '54-60', '33-39', '47-53', '47-53', '33-39', '54-60', '61-67', '40-46', '26-32', '19-25', '54-60', '19-25', '61-67', '40-46', '26-32', '47-53', '40-46', '26-32', '33-39', '54-60', '33-39', '33-39', '33-39', '54-60', '61-67', '26-32', '54-60', '19-25', '33-39', '33-39', '40-46', '26-32', '26-32', '33-39', '47-53', '33-39', '68-75', '47-53', '26-32', '33-39', '54-60', '68-75', '40-46', '54-60', '54-60', '54-60', '26-32', '33-39', '61-67', '47-53', '33-39', '47-53', '47-53', '47-53', '61-67', '33-39', '47-53', '47-53', '40-46', '40-46', '33-39', '54-60', '47-53', '47-53', '47-53', '26-32', '26-32', '26-32', '61-67', '54-60', '26-32', '54-60', '61-67', '33-39', '26-32', '33-39', '19-25', '33-39', '54-60', '47-53', '33-39', '47-53', '33-39', '26-32', '40-46', '26-32', '54-60', '61-67', '26-32', '40-46', '54-60', '40-46', '33-39', '26-32', '68-75', '61-67', '61-67', '33-39', '47-53', '47-53', '47-53', '19-25', '19-25', '40-46', '40-46', '26-32', '19-25', '47-53', '40-46', '19-25', '47-53', '61-67', '40-46', '33-39', '33-39', '19-25', '54-60', '54-60', '40-46', '26-32', '26-32', '68-75', '26-32', '47-53', '19-25', '40-46', '40-46', '61-67', '33-39', '61-67', '47-53', '47-53', '54-60', '61-67', '26-32', '61-67', '40-46', '19-25', '26-32', '19-25', '26-32', '26-32', '40-46', '47-53', '26-32', '33-39', '40-46', '54-60', '40-46', '26-32', '40-46', '47-53', '47-53', '33-39', '40-46', '26-32', '47-53', '40-46', '33-39', '26-32', '47-53', '61-67', '47-53', '40-46', '40-46', '40-46', '47-53', '68-75', '40-46', '40-46', '47-53', '54-60', '54-60', '47-53', '33-39', '26-32', '47-53', '26-32', '26-32', '40-46', '47-53', '54-60', '40-46', '26-32', '40-46', '33-39', '47-53', '61-67', '68-75', '47-53', '47-53', '33-39', '26-32', '40-46', '54-60', '26-32', '54-60', '33-39', '33-39', '26-32', '26-32', '26-32', '33-39', '54-60', '33-39', '47-53', '40-46', '26-32', '40-46', '47-53', '54-60', '40-46', '33-39', '54-60', '40-46', '54-60', '40-46', '61-67', '47-53', '47-53', '40-46', '33-39', '61-67', '40-46', '40-46', '33-39', '54-60', '40-46', '40-46', '68-75', '33-39', '61-67', '33-39', '47-53', '47-53', '33-39', '33-39', '19-25', '40-46', '61-67', '33-39', '40-46', '19-25', '40-46', '40-46', '54-60', '54-60', '47-53', '19-25', '40-46', '47-53', '47-53', '33-39', '33-39', '47-53', '54-60', '61-67', '33-39', '33-39', '40-46', '40-46', '61-67', '54-60', '26-32', '40-46', '33-39', '47-53', '54-60', '61-67', '61-67', '47-53', '54-60', '54-60', '33-39', '33-39', '26-32', '33-39', '26-32', '61-67', '19-25', '19-25', '26-32', '47-53', '26-32', '47-53', '47-53', '54-60', '33-39', '40-46', '47-53', '40-46', '19-25', '40-46', '54-60', '33-39', '19-25', '40-46', '47-53', '33-39', '47-53', '33-39', '47-53', '40-46', '40-46', '54-60', '68-75', '33-39', '19-25', '33-39', '19-25', '19-25', '26-32', '47-53', '26-32', '40-46', '40-46', '33-39', '47-53', '26-32', '54-60', '54-60', '40-46', '47-53', '54-60', '26-32', '19-25', '33-39', '33-39', '54-60', '54-60', '47-53', '33-39', '26-32', '40-46', '40-46', '26-32', '26-32', '33-39', '26-32', '54-60', '19-25', '40-46', '68-75', '61-67', '26-32', '33-39', '26-32', '47-53', '40-46', '61-67', '54-60', '40-46', '54-60', '33-39', '26-32', '54-60', '47-53', '26-32', '61-67', '19-25', '47-53', '26-32', '26-32', '19-25', '26-32', '54-60', '33-39', '54-60', '47-53', '54-60', '47-53', '26-32', '26-32', '26-32', '26-32', '47-53', '47-53', '54-60', '61-67', '33-39', '33-39', '33-39', '26-32', '33-39', '33-39', '33-39', '40-46', '54-60', '33-39', '61-67', '54-60', '19-25', '33-39', '33-39', '26-32', '19-25', '40-46', '47-53', '68-75', '26-32', '54-60', '61-67', '40-46', '40-46', '54-60', '54-60', '54-60', '47-53', '40-46', '47-53', '33-39', '68-75', '26-32', '54-60', '47-53', '54-60', '54-60', '33-39', '47-53', '40-46', '33-39', '68-75', '26-32', '47-53', '54-60', '61-67', '33-39', '54-60', '54-60', '19-25', '54-60', '26-32', '61-67', '19-25', '26-32', '33-39', '40-46', '68-75', '54-60', '26-32', '26-32', '33-39', '26-32', '47-53', '26-32', '61-67', '47-53', '61-67', '47-53', '40-46', '68-75', '19-25', '54-60', '19-25', '33-39', '47-53', '68-75', '26-32', '33-39', '33-39', '40-46', '26-32', '33-39', '26-32', '26-32', '26-32', '61-67', '33-39', '40-46', '40-46', '40-46', '26-32', '19-25', '40-46', '33-39', '26-32', '54-60', '40-46', '40-46', '26-32', '54-60', '26-32', '54-60', '40-46', '47-53', '40-46', '26-32', '40-46', '33-39', '33-39', '54-60', '40-46', '54-60', '26-32', '33-39', '26-32', '47-53', '40-46', '26-32', '19-25', '26-32', '33-39', '33-39', '54-60', '61-67', '19-25', '47-53', '61-67', '40-46', '40-46', '33-39', '19-25', '33-39', '26-32', '40-46', '33-39', '68-75', '26-32', '26-32', '40-46', '19-25', '47-53', '54-60', '33-39', '19-25', '26-32', '26-32', '61-67', '33-39', '40-46', '33-39', '40-46', '54-60', '61-67', '40-46', '40-46', '47-53', '54-60', '33-39', '47-53', '26-32', '40-46', '54-60', '47-53', '26-32', '40-46', '61-67', '47-53', '54-60', '47-53', '33-39', '54-60', '61-67', '61-67', '40-46', '40-46', '54-60', '54-60', '54-60', '47-53', '33-39', '54-60', '68-75', '47-53', '40-46', '26-32', '47-53', '33-39', '54-60', '33-39', '40-46', '26-32', '33-39', '26-32', '47-53', '68-75', '61-67', '54-60', '33-39', '47-53', '26-32', '54-60', '61-67', '54-60', '68-75', '40-46', '47-53', '33-39', '61-67', '33-39', '33-39', '54-60', '47-53', '40-46', '47-53', '33-39', '33-39', '26-32', '19-25', '40-46', '40-46', '26-32', '47-53', '47-53', '40-46', '19-25', '26-32', '19-25', '40-46', '47-53', '26-32', '47-53', '40-46', '33-39', '26-32', '40-46', '26-32', '54-60', '26-32', '61-67', '40-46', '54-60', '61-67', '19-25', '68-75', '40-46', '47-53', '33-39', '33-39', '26-32', '26-32', '54-60', '33-39', '26-32', '47-53', '47-53', '47-53', '33-39', '68-75', '40-46', '33-39', '19-25', '54-60', '47-53', '33-39', '54-60', '47-53', '47-53', '40-46', '40-46', '33-39', '40-46', '19-25', '54-60', '47-53', '19-25', '33-39', '40-46', '47-53', '33-39', '26-32', '26-32', '47-53', '19-25', '68-75', '47-53', '33-39', '54-60', '54-60', '19-25', '47-53', '47-53', '40-46', '33-39', '47-53', '26-32', '33-39', '47-53', '40-46', '40-46', '54-60', '40-46', '40-46', '40-46', '54-60', '33-39', '40-46', '33-39', '47-53', '61-67', '54-60', '54-60', '54-60', '40-46', '40-46', '19-25', '26-32', '33-39', '40-46', '47-53', '61-67', '33-39', '54-60', '54-60', '26-32', '19-25', '19-25', '19-25', '40-46', '26-32', '33-39', '40-46', '19-25', '33-39', '40-46', '68-75', '61-67', '47-53', '33-39', '47-53', '47-53', '33-39', '40-46', '54-60', '47-53', '47-53', '61-67', '54-60', '40-46', '47-53', '47-53', '26-32', '33-39', '47-53', '40-46', '61-67', '26-32', '33-39', '26-32', '54-60', '68-75', '54-60', '54-60', '33-39', '54-60', '26-32', '33-39', '40-46', '19-25', '47-53', '47-53', '47-53', '47-53', '26-32', '54-60', '33-39', '26-32', '54-60', '33-39', '47-53', '47-53', '33-39', '33-39', '26-32', '33-39', '33-39', '47-53', '68-75', '40-46', '26-32', '54-60', '54-60', '40-46', '47-53', '33-39', '47-53', '26-32', '40-46', '33-39', '54-60', '47-53', '33-39', '19-25', '26-32', '47-53', '47-53', '33-39', '19-25', '33-39', '33-39', '47-53', '33-39', '19-25', '33-39', '61-67', '33-39', '47-53', '40-46', '54-60', '54-60', '26-32', '33-39', '33-39', '61-67', '61-67', '54-60', '40-46', '61-67', '68-75', '61-67', '47-53', '47-53', '47-53', '47-53', '47-53', '33-39', '54-60', '33-39', '33-39', '19-25', '33-39', '47-53', '26-32', '61-67', '33-39', '47-53', '47-53', '33-39', '33-39', '61-67', '54-60', '40-46', '33-39', '26-32', '33-39', '33-39', '61-67', '54-60', '33-39', '26-32', '61-67', '26-32', '33-39', '61-67', '26-32', '47-53', '40-46', '26-32', '54-60', '61-67', '47-53', '26-32', '26-32', '47-53', '33-39', '33-39', '54-60', '33-39', '33-39', '47-53', '61-67', '26-32', '61-67', '40-46', '33-39', '40-46', '47-53', '19-25', '61-67', '33-39', '54-60', '40-46', '40-46', '33-39', '26-32', '54-60', '54-60', '26-32', '33-39', '19-25', '61-67', '40-46', '40-46', '61-67', '40-46', '40-46', '19-25', '33-39', '26-32', '61-67', '26-32', '40-46', '47-53', '54-60', '26-32', '47-53', '33-39', '40-46', '33-39', '19-25', '47-53', '40-46', '54-60', '26-32', '61-67', '33-39', '54-60', '26-32', '68-75', '54-60', '40-46', '26-32', '40-46', '54-60', '40-46', '54-60', '61-67', '40-46', '33-39', '26-32', '33-39', '26-32', '61-67', '26-32', '61-67', '54-60', '54-60', '26-32', '54-60', '40-46', '26-32', '40-46', '54-60', '54-60', '47-53', '47-53', '33-39', '33-39', '40-46', '40-46', '40-46', '47-53', '54-60', '40-46', '54-60', '33-39', '33-39', '33-39', '47-53', '54-60', '19-25', '33-39', '40-46', '33-39', '40-46', '54-60', '61-67', '33-39', '40-46', '40-46', '54-60', '47-53', '47-53', '33-39', '47-53', '19-25', '68-75', '47-53', '26-32', '40-46', '33-39', '33-39', '47-53', '47-53', '47-53', '47-53', '61-67', '26-32', '61-67', '61-67', '33-39', '47-53', '47-53', '19-25', '26-32', '54-60', '40-46', '40-46', '47-53', '40-46', '47-53', '26-32', '26-32', '26-32', '54-60', '40-46', '61-67', '54-60', '40-46', '33-39', '54-60', '26-32', '40-46', '54-60', '40-46', '26-32', '47-53', '33-39', '47-53', '40-46', '54-60', '33-39', '47-53', '54-60', '40-46', '33-39', '61-67', '19-25', '40-46', '61-67', '47-53', '26-32', '54-60', '26-32', '54-60', '54-60', '54-60', '47-53', '61-67', '54-60', '68-75', '26-32', '33-39', '61-67', '61-67', '54-60', '26-32', '47-53', '33-39', '19-25', '54-60', '47-53', '19-25', '47-53', '61-67', '33-39', '47-53', '19-25', '26-32', '54-60', '33-39', '33-39', '47-53', '47-53', '47-53', '33-39', '54-60', '47-53', '40-46', '26-32', '68-75', '61-67', '26-32', '26-32', '40-46', '47-53', '26-32', '26-32', '33-39', '33-39', '33-39', '33-39', '40-46', '61-67', '54-60', '47-53', '54-60', '26-32', '54-60', '26-32', '33-39', '47-53', '26-32', '26-32', '54-60', '19-25', '54-60', '26-32', '61-67', '33-39', '40-46', '47-53', '19-25', '33-39', '19-25', '26-32', '33-39', '26-32', '54-60', '26-32', '33-39', '40-46', '54-60', '40-46', '40-46', '40-46', '40-46', '33-39', '54-60', '33-39', '33-39', '54-60', '40-46', '47-53', '33-39', '61-67', '33-39', '40-46', '40-46', '47-53', '33-39', '47-53', '68-75', '47-53', '54-60', '54-60', '26-32', '33-39', '26-32', '26-32', '33-39', '47-53', '40-46', '47-53', '26-32', '61-67', '33-39', '33-39', '47-53', '19-25', '61-67', '40-46', '40-46', '47-53', '26-32', '40-46', '26-32', '54-60', '33-39', '19-25', '61-67', '47-53', '40-46', '54-60', '47-53', '54-60', '40-46', '33-39', '47-53', '33-39', '47-53', '61-67', '61-67', '26-32', '54-60', '47-53', '54-60', '26-32', '54-60', '40-46', '61-67', '26-32', '40-46', '47-53', '61-67', '33-39', '47-53', '40-46', '40-46', '47-53', '47-53', '54-60', '54-60', '47-53', '33-39', '47-53', '26-32', '26-32', '40-46', '26-32', '47-53', '33-39', '68-75', '54-60', '33-39', '40-46', '54-60', '47-53', '40-46', '54-60', '19-25', '40-46', '26-32', '33-39', '40-46', '33-39', '40-46', '26-32', '40-46', '68-75', '61-67', '61-67', '33-39', '61-67', '47-53', '47-53', '40-46', '40-46', '33-39', '33-39', '26-32', '40-46', '33-39', '47-53', '47-53', '26-32', '33-39', '61-67', '54-60', '47-53', '26-32', '54-60', '47-53', '26-32', '26-32', '54-60', '26-32', '40-46', '26-32', '40-46', '26-32', '61-67', '47-53', '40-46', '40-46', '68-75', '26-32', '54-60', '40-46', '47-53', '26-32', '26-32', '40-46', '40-46', '61-67', '33-39', '47-53', '33-39', '61-67', '40-46', '33-39', '47-53', '26-32', '40-46', '40-46', '40-46', '40-46', '40-46', '40-46', '54-60', '47-53', '61-67', '33-39', '47-53', '33-39', '26-32', '61-67', '19-25', '33-39', '40-46', '33-39', '26-32', '26-32', '19-25', '33-39', '54-60', '26-32', '40-46', '40-46', '33-39', '26-32', '40-46', '40-46', '47-53', '54-60', '47-53', '26-32', '54-60', '33-39', '40-46', '40-46', '26-32', '40-46', '54-60', '40-46', '26-32', '40-46', '33-39', '40-46', '47-53', '19-25', '47-53', '40-46', '54-60', '54-60', '54-60', '26-32', '40-46', '40-46', '33-39', '54-60', '40-46', '19-25', '26-32', '33-39', '26-32', '26-32', '61-67', '54-60', '33-39', '68-75', '26-32', '19-25', '61-67', '54-60', '47-53', '47-53', '26-32', '26-32', '47-53', '40-46', '40-46', '47-53', '40-46', '40-46', '47-53', '54-60', '40-46', '54-60', '40-46', '54-60', '26-32', '47-53', '40-46', '40-46', '26-32', '19-25', '19-25', '33-39', '26-32', '47-53', '54-60', '33-39', '33-39', '26-32', '26-32', '26-32', '33-39', '26-32', '26-32', '47-53', '54-60', '33-39', '47-53', '40-46', '47-53', '54-60', '19-25', '33-39', '40-46', '40-46', '54-60', '33-39', '26-32', '47-53', '33-39', '33-39', '33-39', '47-53', '33-39', '33-39', '40-46', '26-32', '33-39', '19-25', '40-46', '33-39', '19-25', '40-46', '19-25', '26-32', '19-25', '54-60', '40-46', '47-53', '33-39', '54-60', '40-46', '54-60', '33-39', '26-32', '47-53', '54-60', '61-67', '33-39', '40-46', '40-46', '19-25', '47-53', '26-32', '40-46', '33-39', '40-46', '33-39', '61-67', '61-67', '40-46', '54-60', '33-39', '40-46', '26-32', '54-60', '26-32', '33-39', '47-53', '26-32', '40-46', '61-67', '26-32', '54-60', '33-39', '33-39', '40-46', '33-39', '40-46', '33-39', '54-60', '61-67', '61-67', '40-46', '54-60', '33-39', '54-60', '19-25', '40-46', '33-39', '33-39', '33-39', '40-46', '26-32', '33-39', '33-39', '26-32', '40-46', '61-67', '61-67', '54-60', '47-53', '47-53', '47-53', '26-32', '26-32', '61-67', '47-53', '47-53', '26-32', '33-39', '33-39', '61-67', '26-32', '19-25', '68-75', '54-60', '40-46', '54-60', '33-39', '26-32', '40-46', '47-53', '47-53', '47-53', '40-46', '26-32', '68-75', '40-46', '40-46', '47-53', '26-32', '47-53', '40-46', '40-46', '61-67', '40-46', '54-60', '54-60', '26-32', '47-53', '61-67', '47-53', '40-46', '40-46', '40-46', '40-46', '33-39', '47-53', '47-53', '54-60', '26-32', '40-46', '40-46', '40-46', '47-53', '26-32', '33-39', '33-39', '68-75', '26-32', '33-39', '33-39', '47-53', '26-32', '26-32', '40-46', '26-32', '40-46', '47-53', '61-67', '47-53', '26-32', '33-39', '26-32', '40-46', '33-39', '26-32', '54-60', '40-46', '19-25', '40-46', '40-46', '47-53', '40-46', '19-25', '47-53', '33-39', '47-53', '47-53', '19-25', '47-53', '33-39', '54-60', '61-67', '40-46', '47-53', '33-39', '61-67', '40-46', '54-60', '33-39', '19-25', '54-60', '68-75', '47-53', '54-60', '26-32', '68-75', '47-53', '33-39', '54-60', '26-32', '54-60', '40-46', '33-39', '54-60', '47-53', '61-67', '33-39', '40-46', '61-67', '54-60', '26-32', '33-39', '40-46', '33-39', '33-39', '47-53', '47-53', '40-46', '40-46', '33-39', '40-46', '33-39', '33-39', '33-39', '54-60', '40-46', '47-53', '33-39', '19-25', '26-32', '40-46', '54-60', '26-32', '47-53', '47-53', '47-53', '26-32', '40-46', '40-46', '33-39', '47-53', '26-32', '33-39', '47-53', '47-53', '40-46', '47-53', '40-46', '54-60', '26-32', '33-39', '61-67', '54-60', '19-25', '47-53', '40-46', '26-32', '40-46', '40-46', '47-53', '40-46', '54-60', '54-60', '33-39', '54-60', '26-32', '68-75', '33-39', '47-53', '26-32', '26-32', '33-39', '47-53', '61-67', '61-67', '40-46', '40-46', '40-46', '61-67', '54-60', '26-32', '33-39', '54-60', '54-60', '40-46', '68-75', '54-60', '68-75', '40-46', '33-39', '54-60', '47-53', '47-53', '26-32', '54-60', '47-53', '61-67', '54-60', '33-39', '47-53', '54-60', '26-32', '40-46', '26-32', '33-39', '54-60', '40-46', '47-53', '68-75', '47-53', '54-60', '19-25', '19-25', '47-53', '61-67', '40-46', '33-39', '54-60', '33-39', '61-67', '47-53', '33-39', '33-39', '33-39', '61-67', '40-46', '47-53', '26-32', '19-25', '54-60', '33-39', '19-25', '47-53', '54-60', '54-60', '61-67', '61-67', '47-53', '19-25', '47-53', '19-25', '40-46', '68-75', '54-60', '33-39', '54-60', '47-53', '40-46', '26-32', '54-60', '54-60', '33-39', '26-32', '26-32', '26-32', '33-39', '54-60', '33-39', '40-46', '33-39', '33-39', '26-32', '26-32', '33-39', '26-32', '33-39', '26-32', '40-46', '47-53', '26-32', '26-32', '47-53', '40-46', '54-60', '33-39', '47-53', '54-60', '54-60', '54-60', '40-46', '40-46', '40-46', '54-60', '19-25', '61-67', '40-46', '33-39', '54-60', '26-32', '47-53', '33-39', '40-46', '33-39', '40-46', '40-46', '26-32', '54-60', '40-46', '33-39', '54-60', '33-39', '68-75', '40-46', '33-39', '19-25', '33-39', '54-60', '40-46', '40-46', '26-32', '26-32', '33-39', '26-32', '33-39', '26-32', '33-39', '26-32', '33-39', '33-39', '26-32', '26-32', '33-39', '19-25', '54-60', '54-60', '33-39', '61-67', '26-32', '47-53', '47-53', '26-32', '26-32', '54-60', '33-39', '40-46', '33-39', '61-67', '40-46', '61-67', '47-53', '61-67', '61-67', '33-39', '26-32', '33-39', '40-46', '26-32', '26-32', '68-75', '47-53', '33-39', '40-46', '33-39', '26-32', '33-39', '54-60', '33-39', '40-46', '19-25', '26-32', '40-46', '19-25', '47-53', '19-25', '33-39', '19-25', '26-32', '26-32', '54-60', '19-25', '47-53', '54-60', '54-60', '40-46', '61-67', '40-46', '47-53', '40-46', '61-67', '47-53', '61-67', '54-60', '26-32', '40-46', '40-46', '40-46', '54-60', '54-60', '33-39', '47-53', '54-60', '40-46', '40-46', '54-60', '33-39', '47-53', '54-60', '68-75', '61-67', '54-60', '19-25', '54-60', '33-39', '33-39', '61-67', '33-39', '33-39', '40-46', '47-53', '61-67', '47-53', '33-39', '40-46', '26-32', '26-32', '47-53', '26-32', '61-67', '40-46', '40-46', '40-46', '19-25', '61-67', '33-39', '33-39', '26-32', '54-60', '33-39', '54-60', '40-46', '33-39', '54-60', '40-46', '47-53', '54-60', '26-32', '40-46', '47-53', '47-53', '47-53', '19-25', '19-25', '40-46', '33-39', '19-25', '33-39', '26-32', '54-60', '33-39', '40-46', '61-67', '33-39', '54-60', '19-25', '33-39', '26-32', '61-67', '26-32', '61-67', '33-39', '40-46', '19-25', '47-53', '47-53', '19-25', '40-46', '40-46', '40-46', '26-32', '33-39', '47-53', '33-39', '26-32', '33-39', '33-39', '47-53', '40-46', '54-60', '61-67', '47-53', '47-53', '40-46', '40-46', '33-39', '26-32', '47-53', '33-39', '33-39', '61-67', '26-32', '54-60', '40-46', '40-46', '33-39', '26-32', '40-46', '33-39', '47-53', '26-32', '33-39', '40-46', '33-39', '40-46', '33-39', '40-46', '40-46', '26-32', '40-46', '26-32', '47-53', '33-39', '54-60', '40-46', '19-25', '61-67', '40-46', '26-32', '26-32', '54-60', '54-60', '26-32', '47-53', '40-46', '47-53', '40-46', '47-53', '54-60', '19-25', '19-25', '61-67', '19-25', '61-67', '40-46', '19-25', '47-53', '26-32', '33-39', '33-39', '40-46', '47-53', '40-46', '40-46', '33-39', '33-39', '26-32', '61-67', '47-53', '33-39', '26-32', '26-32', '54-60', '54-60', '40-46', '26-32', '33-39', '47-53', '40-46', '40-46', '40-46', '47-53', '33-39', '47-53', '40-46', '33-39', '40-46', '33-39', '26-32', '68-75', '33-39', '26-32', '40-46', '26-32', '47-53', '54-60', '40-46', '26-32', '40-46', '40-46', '40-46', '26-32', '26-32', '26-32', '26-32', '54-60', '26-32', '54-60', '40-46', '47-53', '33-39', '40-46', '33-39', '54-60', '40-46', '26-32', '40-46', '47-53', '40-46', '33-39', '47-53', '47-53', '47-53', '54-60', '33-39', '26-32', '33-39', '61-67', '54-60', '40-46', '54-60', '54-60', '54-60', '26-32', '33-39', '47-53', '33-39', '47-53', '33-39', '47-53', '54-60', '33-39', '40-46', '54-60', '54-60', '33-39', '47-53', '54-60', '47-53', '54-60', '26-32', '47-53', '40-46', '26-32', '40-46', '26-32', '54-60', '19-25', '47-53', '61-67', '47-53', '40-46', '26-32', '33-39', '26-32', '61-67', '54-60', '68-75', '40-46', '61-67', '47-53', '26-32', '54-60', '47-53', '26-32', '54-60', '54-60', '26-32', '26-32', '54-60', '33-39', '33-39', '61-67', '26-32', '33-39', '40-46', '26-32', '26-32', '54-60', '61-67', '40-46', '40-46', '40-46', '47-53', '54-60', '33-39', '26-32', '26-32', '26-32', '26-32', '19-25', '26-32', '61-67', '47-53', '47-53', '54-60', '40-46', '54-60', '33-39', '26-32', '33-39', '33-39', '33-39', '19-25', '47-53', '47-53', '26-32', '47-53', '40-46', '54-60', '47-53', '61-67', '19-25', '61-67', '26-32', '61-67', '40-46', '26-32', '19-25', '68-75', '26-32', '54-60', '26-32', '40-46', '47-53', '40-46', '54-60', '47-53', '54-60', '26-32', '40-46', '33-39', '47-53', '47-53', '47-53', '33-39', '33-39', '19-25', '47-53', '26-32', '33-39', '26-32', '47-53', '47-53', '47-53', '47-53', '33-39', '54-60', '54-60', '19-25', '26-32', '33-39', '40-46', '19-25', '40-46', '54-60', '47-53', '33-39', '40-46', '26-32', '26-32', '33-39', '54-60', '33-39', '26-32', '54-60', '33-39', '61-67', '47-53', '26-32', '19-25', '40-46', '47-53', '47-53', '40-46', '26-32', '40-46', '61-67', '40-46', '61-67', '40-46', '33-39', '47-53', '47-53', '68-75', '54-60', '61-67', '33-39', '61-67', '40-46', '40-46', '47-53', '33-39', '19-25', '54-60', '33-39', '54-60', '54-60', '33-39', '47-53', '68-75', '33-39', '33-39', '33-39', '33-39', '61-67', '61-67', '40-46', '61-67', '47-53', '40-46', '47-53', '54-60', '54-60', '33-39', '54-60', '19-25', '61-67', '26-32', '47-53', '47-53', '40-46', '19-25', '47-53', '40-46', '33-39', '68-75', '33-39', '26-32', '40-46', '47-53', '40-46', '61-67', '26-32', '54-60', '61-67', '47-53', '33-39', '26-32', '47-53', '40-46', '26-32', '26-32', '47-53', '19-25', '40-46', '47-53', '54-60', '47-53', '47-53', '40-46', '19-25', '33-39', '26-32', '26-32', '54-60', '40-46', '40-46', '68-75', '54-60', '61-67', '40-46', '33-39', '26-32', '61-67', '33-39', '33-39', '47-53', '61-67', '61-67', '26-32', '61-67', '26-32', '47-53', '33-39', '26-32', '33-39', '33-39', '47-53', '40-46', '33-39', '47-53', '54-60', '40-46', '61-67', '54-60', '40-46', '40-46', '54-60', '61-67', '54-60', '26-32', '40-46', '40-46', '47-53', '33-39', '68-75', '40-46', '54-60', '54-60', '40-46', '54-60', '19-25', '33-39', '54-60', '40-46', '26-32', '61-67', '26-32', '47-53', '26-32', '47-53', '40-46', '40-46', '61-67', '47-53', '26-32', '54-60', '19-25', '33-39', '33-39', '40-46', '40-46', '47-53', '26-32', '47-53', '40-46', '40-46', '54-60', '33-39', '26-32', '40-46', '26-32', '47-53', '47-53', '26-32', '26-32', '33-39', '33-39', '33-39', '47-53', '33-39', '26-32', '40-46', '40-46', '54-60', '54-60', '54-60', '26-32', '33-39', '19-25', '47-53', '40-46', '47-53', '47-53', '40-46', '33-39', '40-46', '47-53', '33-39', '54-60', '40-46', '26-32', '26-32', '47-53', '26-32', '40-46', '33-39', '47-53', '26-32', '54-60', '19-25', '68-75', '40-46', '47-53', '47-53', '26-32', '26-32', '68-75', '40-46', '26-32', '33-39', '19-25', '26-32', '26-32', '47-53', '19-25', '26-32', '40-46', '26-32', '54-60', '40-46', '33-39', '68-75', '40-46', '26-32', '54-60', '19-25', '47-53', '33-39', '26-32', '40-46', '40-46', '61-67', '26-32', '26-32', '26-32', '40-46', '47-53', '47-53', '33-39', '54-60', '33-39', '47-53', '68-75', '47-53', '26-32', '40-46', '47-53', '61-67', '40-46', '33-39', '54-60', '54-60', '33-39', '61-67', '40-46', '26-32', '61-67', '54-60', '61-67', '40-46', '33-39', '54-60', '26-32', '47-53', '33-39', '54-60', '40-46', '26-32', '19-25', '47-53', '40-46', '33-39', '40-46', '61-67', '33-39', '61-67', '54-60', '47-53', '68-75', '40-46', '33-39', '33-39', '61-67', '54-60', '26-32', '33-39', '40-46', '40-46', '19-25', '61-67', '33-39', '33-39', '54-60', '33-39', '47-53', '47-53', '33-39', '47-53', '47-53', '26-32', '26-32', '68-75', '61-67', '33-39', '26-32', '26-32', '40-46', '33-39', '47-53', '47-53', '54-60', '19-25', '40-46', '26-32', '33-39', '33-39', '33-39', '40-46', '26-32', '54-60', '33-39', '19-25', '40-46', '47-53', '33-39', '68-75', '40-46', '26-32', '54-60', '54-60', '19-25', '54-60', '33-39', '26-32', '54-60', '26-32', '61-67', '61-67', '47-53', '40-46', '19-25', '33-39', '40-46', '40-46', '47-53', '40-46', '33-39', '40-46', '61-67', '61-67', '26-32', '33-39', '26-32', '68-75', '40-46', '33-39', '26-32', '54-60', '26-32', '33-39', '54-60', '47-53', '47-53', '47-53', '33-39', '33-39', '26-32', '47-53', '40-46', '33-39', '47-53', '33-39', '33-39', '33-39', '33-39', '26-32', '40-46', '26-32', '68-75', '54-60', '40-46', '54-60', '54-60', '26-32', '19-25', '40-46', '47-53', '61-67', '40-46', '33-39', '54-60', '47-53', '61-67', '40-46', '33-39', '26-32', '40-46', '40-46', '26-32', '61-67', '26-32', '40-46', '40-46', '33-39', '40-46', '47-53', '40-46', '33-39', '54-60', '47-53', '26-32', '61-67', '26-32', '40-46', '47-53', '26-32', '47-53', '40-46', '19-25', '26-32', '47-53', '54-60', '61-67', '40-46', '40-46', '33-39', '54-60', '40-46', '26-32', '54-60', '33-39', '40-46', '40-46', '61-67', '47-53', '40-46', '40-46', '61-67', '19-25', '33-39', '61-67', '47-53', '26-32', '33-39', '40-46', '47-53', '26-32', '40-46', '33-39', '47-53', '54-60', '26-32', '33-39', '47-53', '40-46', '26-32', '47-53', '54-60', '47-53', '40-46', '26-32', '47-53', '47-53', '26-32', '33-39', '33-39', '26-32', '47-53', '61-67', '33-39', '33-39', '54-60', '54-60', '33-39', '68-75', '54-60', '47-53', '33-39', '26-32', '33-39', '19-25', '33-39', '61-67', '54-60', '47-53', '54-60', '47-53', '47-53', '33-39', '40-46', '54-60', '33-39', '54-60', '61-67', '40-46', '40-46', '47-53', '54-60', '33-39', '61-67', '40-46', '33-39', '54-60', '33-39', '47-53', '33-39', '33-39', '19-25', '61-67', '54-60', '54-60', '40-46', '54-60', '54-60', '19-25', '26-32', '40-46', '33-39', '47-53', '61-67', '26-32', '19-25', '19-25', '54-60', '40-46', '26-32', '26-32', '47-53', '54-60', '40-46', '26-32', '54-60', '54-60', '26-32', '26-32', '40-46', '47-53', '61-67', '47-53', '54-60', '33-39', '26-32', '33-39', '54-60', '47-53', '47-53', '54-60', '54-60', '33-39', '33-39', '54-60', '26-32', '54-60', '33-39', '26-32', '33-39', '19-25', '19-25', '54-60', '40-46', '40-46', '54-60', '40-46', '33-39', '54-60', '26-32', '54-60', '40-46', '33-39', '26-32', '26-32', '26-32', '47-53', '47-53', '33-39', '26-32', '47-53', '54-60', '68-75', '47-53', '47-53', '40-46', '33-39', '19-25', '54-60', '26-32', '33-39', '68-75', '40-46', '40-46', '26-32', '54-60', '33-39', '26-32', '26-32', '47-53', '54-60', '40-46', '26-32', '40-46', '26-32', '40-46', '26-32', '33-39', '26-32', '54-60', '33-39', '26-32', '47-53', '33-39', '33-39', '54-60', '33-39', '33-39', '47-53', '19-25', '40-46', '61-67', '33-39', '40-46', '40-46', '33-39', '33-39', '26-32', '19-25', '40-46', '26-32', '54-60', '54-60', '54-60', '40-46', '54-60', '61-67', '33-39', '61-67', '40-46', '33-39', '54-60', '68-75', '47-53', '54-60', '68-75', '26-32', '40-46', '26-32', '47-53', '33-39', '33-39', '26-32', '54-60', '26-32', '26-32', '47-53', '40-46', '47-53', '40-46', '47-53', '61-67', '26-32', '40-46', '61-67', '40-46', '54-60', '26-32', '54-60', '54-60', '26-32', '47-53', '54-60', '33-39', '19-25', '40-46', '47-53', '40-46', '47-53', '47-53', '33-39', '47-53', '40-46', '33-39', '54-60', '40-46', '61-67', '61-67', '26-32', '26-32', '26-32', '54-60', '54-60', '33-39', '47-53', '26-32', '61-67', '33-39', '47-53', '26-32', '40-46', '54-60', '26-32', '40-46', '33-39', '54-60', '40-46', '47-53', '26-32', '40-46', '47-53', '33-39', '26-32', '33-39', '54-60', '54-60', '26-32', '33-39', '47-53', '54-60', '61-67', '40-46', '47-53', '47-53', '26-32', '40-46', '68-75', '26-32', '26-32', '61-67', '26-32', '40-46', '40-46', '54-60', '54-60', '40-46', '33-39', '54-60', '26-32', '19-25', '54-60', '33-39', '19-25', '26-32', '47-53', '26-32', '40-46', '19-25', '33-39', '40-46', '33-39', '40-46', '26-32', '40-46', '54-60', '33-39', '33-39', '33-39', '33-39', '26-32', '33-39', '19-25', '19-25', '54-60', '26-32', '33-39', '40-46', '54-60', '33-39', '26-32', '19-25', '26-32', '40-46', '33-39', '40-46', '26-32', '68-75', '33-39', '40-46', '54-60', '47-53', '33-39', '47-53', '40-46', '19-25', '54-60', '33-39', '54-60', '40-46', '54-60', '33-39', '40-46', '33-39', '40-46', '26-32', '26-32', '33-39', '40-46', '40-46', '26-32', '33-39', '33-39', '54-60', '40-46', '26-32', '26-32', '61-67', '33-39', '47-53', '40-46', '61-67', '19-25', '26-32', '26-32', '33-39', '54-60', '40-46', '19-25', '40-46', '26-32', '61-67', '47-53', '40-46', '47-53', '33-39', '19-25', '47-53', '26-32', '47-53', '26-32', '26-32', '33-39', '61-67', '26-32', '47-53', '47-53', '40-46', '33-39', '47-53', '47-53', '33-39', '33-39', '54-60', '33-39', '61-67', '47-53', '26-32', '47-53', '40-46', '26-32', '68-75', '47-53', '40-46', '40-46', '61-67', '61-67', '33-39', '47-53', '47-53', '40-46', '47-53', '19-25', '40-46', '47-53', '54-60', '61-67', '68-75', '47-53', '47-53', '40-46', '40-46', '40-46', '54-60', '26-32', '33-39', '47-53', '54-60', '40-46', '33-39', '47-53', '54-60', '61-67', '33-39', '47-53', '40-46', '47-53', '33-39', '40-46', '26-32', '33-39', '33-39', '26-32', '47-53', '61-67', '47-53', '47-53', '33-39', '26-32', '33-39', '40-46', '40-46', '47-53', '40-46', '47-53', '47-53', '47-53', '33-39', '54-60', '40-46', '61-67', '47-53', '40-46', '40-46', '26-32', '19-25', '19-25', '47-53', '54-60', '33-39', '40-46', '40-46', '33-39', '33-39', '33-39', '61-67', '47-53', '26-32', '40-46', '26-32', '26-32', '61-67', '33-39', '40-46', '33-39', '26-32', '54-60', '26-32', '40-46', '54-60', '47-53', '40-46', '33-39', '33-39', '47-53', '47-53', '33-39', '47-53', '19-25', '26-32', '26-32', '26-32', '40-46', '26-32', '54-60', '26-32', '40-46', '47-53', '54-60', '40-46', '54-60', '68-75', '33-39', '47-53', '54-60', '61-67', '40-46', '19-25', '33-39', '33-39', '40-46', '54-60', '26-32', '33-39', '19-25', '26-32', '54-60', '61-67', '26-32', '54-60', '47-53', '26-32', '47-53', '40-46', '26-32', '47-53', '47-53', '33-39', '61-67', '19-25', '19-25', '47-53', '40-46', '40-46', '47-53', '61-67', '40-46', '33-39', '54-60', '26-32', '40-46', '26-32', '54-60', '26-32', '40-46', '54-60', '40-46', '26-32', '54-60', '40-46', '40-46', '33-39', '47-53', '47-53', '40-46', '40-46', '26-32', '40-46', '33-39', '40-46', '33-39', '68-75', '40-46', '68-75', '54-60', '40-46', '33-39', '68-75', '40-46', '54-60', '19-25', '40-46', '40-46', '19-25', '33-39', '33-39', '40-46', '33-39', '19-25', '26-32', '33-39', '40-46', '47-53', '33-39', '40-46', '40-46', '47-53', '33-39', '40-46', '40-46', '19-25', '33-39', '19-25', '40-46', '26-32', '33-39', '26-32', '40-46', '40-46', '61-67', '40-46', '26-32', '68-75', '19-25', '47-53', '54-60', '19-25', '33-39', '33-39', '40-46', '19-25', '40-46', '33-39', '47-53', '33-39', '54-60', '47-53', '47-53', '54-60', '26-32', '40-46', '54-60', '61-67', '26-32', '33-39', '61-67', '47-53', '47-53', '54-60', '40-46', '40-46', '40-46', '40-46', '33-39', '40-46', '54-60', '47-53', '54-60', '33-39', '47-53', '47-53', '26-32', '61-67', '47-53', '40-46', '47-53', '47-53', '33-39', '47-53', '61-67', '54-60', '54-60', '33-39', '26-32', '33-39', '26-32', '47-53', '40-46', '61-67', '47-53', '61-67', '61-67', '33-39', '26-32', '26-32', '47-53', '61-67', '54-60', '47-53', '40-46', '54-60', '26-32', '33-39', '33-39', '26-32', '33-39', '33-39', '26-32', '19-25', '54-60', '33-39', '47-53', '33-39', '61-67', '47-53', '61-67', '47-53', '33-39', '26-32', '40-46', '47-53', '54-60', '54-60', '33-39', '47-53', '40-46', '47-53', '68-75', '19-25', '40-46', '33-39', '47-53', '33-39', '61-67', '33-39', '47-53', '61-67', '47-53', '19-25', '61-67', '33-39', '40-46', '40-46', '26-32', '40-46', '68-75', '40-46', '26-32', '40-46', '40-46', '26-32', '33-39', '54-60', '61-67', '40-46', '47-53', '47-53', '54-60', '54-60', '26-32', '26-32', '61-67', '68-75', '26-32', '47-53', '33-39', '19-25', '54-60', '54-60', '26-32', '33-39', '40-46', '40-46', '19-25', '26-32', '47-53', '33-39', '26-32', '54-60', '47-53', '26-32', '40-46', '40-46', '33-39', '19-25', '26-32', '33-39', '26-32', '33-39', '33-39', '61-67', '47-53', '47-53', '19-25', '40-46', '54-60', '47-53', '26-32', '40-46', '61-67', '40-46', '40-46', '26-32', '26-32', '40-46', '33-39', '47-53', '47-53', '40-46', '47-53', '26-32', '26-32', '26-32', '26-32', '26-32', '19-25', '40-46', '40-46', '19-25', '26-32', '33-39', '47-53', '61-67', '54-60', '54-60', '61-67', '61-67', '26-32', '33-39', '47-53', '26-32', '47-53', '54-60', '26-32', '47-53', '47-53', '54-60', '26-32', '47-53', '19-25', '54-60', '40-46', '47-53', '47-53', '40-46', '47-53', '26-32', '26-32', '33-39', '54-60', '40-46', '33-39', '33-39', '19-25', '47-53', '33-39', '26-32', '47-53', '40-46', '40-46', '26-32', '54-60', '40-46', '19-25', '26-32', '54-60', '40-46', '26-32', '26-32', '33-39', '40-46', '19-25', '61-67', '54-60', '47-53', '26-32', '26-32', '19-25', '61-67', '47-53', '47-53', '40-46', '26-32', '61-67', '40-46', '54-60', '54-60', '19-25', '33-39', '33-39', '19-25', '47-53', '40-46', '40-46', '54-60', '19-25', '54-60', '40-46', '54-60', '26-32', '47-53', '33-39', '33-39', '26-32', '26-32', '54-60', '33-39', '40-46', '54-60', '40-46', '40-46', '47-53', '54-60', '54-60', '47-53', '47-53', '47-53', '47-53', '33-39', '33-39', '61-67', '47-53', '40-46', '54-60', '26-32', '54-60', '26-32', '26-32', '47-53', '54-60', '26-32', '54-60', '19-25', '47-53', '33-39', '33-39', '40-46', '54-60', '54-60', '40-46', '26-32', '26-32', '61-67', '47-53', '54-60', '33-39', '26-32', '33-39', '33-39', '26-32', '54-60', '47-53', '33-39', '33-39', '40-46', '61-67', '61-67', '54-60', '33-39', '19-25', '33-39', '47-53', '33-39', '40-46', '33-39', '54-60', '33-39', '47-53', '47-53', '33-39', '47-53', '19-25', '26-32', '19-25', '26-32', '54-60', '26-32', '54-60', '26-32', '40-46', '19-25', '54-60', '33-39', '26-32', '47-53', '26-32', '61-67', '26-32', '40-46', '54-60', '47-53', '54-60', '47-53', '26-32', '26-32', '40-46', '26-32', '40-46', '47-53', '40-46', '47-53', '26-32', '26-32', '19-25', '54-60', '33-39', '26-32', '33-39', '26-32', '26-32', '68-75', '33-39', '61-67', '19-25', '40-46', '61-67', '40-46', '33-39', '54-60', '47-53', '33-39', '33-39', '40-46', '26-32', '33-39', '40-46', '26-32', '47-53', '61-67', '47-53', '33-39', '54-60', '54-60', '26-32', '47-53', '19-25', '47-53', '33-39', '54-60', '47-53', '47-53', '47-53', '54-60', '26-32', '54-60', '40-46', '54-60', '40-46', '61-67', '47-53', '26-32', '54-60', '40-46', '54-60', '33-39', '61-67', '54-60', '40-46', '40-46', '68-75', '61-67', '26-32', '47-53', '33-39', '54-60', '40-46', '40-46', '33-39', '47-53', '40-46', '26-32', '33-39', '19-25', '61-67', '26-32', '54-60', '40-46', '54-60', '54-60', '33-39', '61-67', '33-39', '26-32', '26-32', '40-46', '54-60', '33-39', '54-60', '33-39', '19-25', '40-46', '61-67', '19-25', '40-46', '54-60', '47-53', '54-60', '33-39', '47-53', '47-53', '54-60', '40-46', '26-32', '61-67', '19-25', '26-32', '47-53', '54-60', '54-60', '61-67', '19-25', '61-67', '26-32', '61-67', '54-60', '33-39', '47-53', '61-67', '40-46', '61-67', '26-32', '54-60', '19-25', '40-46', '54-60', '54-60', '47-53', '40-46', '33-39', '19-25', '33-39', '61-67', '26-32', '40-46', '54-60', '19-25', '47-53', '33-39', '33-39', '40-46', '33-39', '26-32', '47-53', '61-67', '33-39', '33-39', '26-32', '33-39', '47-53', '26-32', '40-46', '47-53', '47-53', '33-39', '26-32', '47-53', '61-67', '54-60', '33-39', '47-53', '33-39', '61-67', '47-53', '26-32', '40-46', '33-39', '47-53', '47-53', '54-60', '54-60', '61-67', '26-32', '26-32', '33-39', '54-60', '61-67', '33-39', '61-67', '54-60', '40-46', '47-53', '26-32', '26-32', '61-67', '33-39', '40-46', '61-67', '19-25', '54-60', '40-46', '47-53', '47-53', '33-39', '33-39', '40-46', '40-46', '26-32', '40-46', '61-67', '68-75', '33-39', '47-53', '19-25', '54-60', '40-46', '40-46', '40-46', '54-60', '47-53', '47-53', '40-46', '26-32', '47-53', '19-25', '61-67', '40-46', '61-67', '19-25', '61-67', '40-46', '33-39', '33-39', '54-60', '19-25', '47-53', '40-46', '19-25', '33-39', '19-25', '68-75', '54-60', '33-39', '33-39', '33-39', '40-46', '54-60', '40-46', '47-53', '47-53', '26-32', '54-60', '33-39', '61-67', '47-53', '61-67', '54-60', '33-39', '54-60', '47-53', '54-60', '33-39', '19-25', '26-32', '26-32', '26-32', '47-53', '68-75', '54-60', '47-53', '54-60', '47-53', '54-60', '54-60', '19-25', '33-39', '61-67', '40-46', '61-67', '54-60', '61-67', '26-32', '26-32', '47-53', '54-60', '19-25', '61-67', '47-53', '19-25', '26-32', '40-46', '61-67', '40-46', '54-60', '26-32', '54-60', '26-32', '54-60', '47-53', '40-46', '40-46', '47-53', '40-46', '19-25', '40-46', '33-39', '47-53', '61-67', '33-39', '54-60', '54-60', '33-39', '54-60', '33-39', '26-32', '26-32', '54-60', '54-60', '26-32', '33-39', '40-46', '47-53', '54-60', '54-60', '47-53', '54-60', '26-32', '54-60', '47-53', '26-32', '47-53', '26-32', '26-32', '33-39', '19-25', '40-46', '26-32', '26-32', '61-67', '47-53', '40-46', '19-25', '47-53', '54-60', '54-60', '26-32', '40-46', '33-39', '33-39', '40-46', '40-46', '33-39', '26-32', '33-39', '19-25', '26-32', '40-46', '47-53', '26-32', '26-32', '26-32', '47-53', '40-46', '40-46', '47-53', '40-46', '40-46', '47-53', '61-67', '47-53', '26-32', '33-39', '47-53', '40-46', '54-60', '54-60', '33-39', '26-32', '47-53', '54-60', '26-32', '61-67', '19-25', '54-60', '40-46', '33-39', '47-53', '40-46', '33-39', '61-67', '33-39', '40-46', '47-53', '33-39', '19-25', '26-32', '26-32', '26-32', '19-25', '33-39', '68-75', '61-67', '33-39', '40-46', '33-39', '26-32', '61-67', '33-39', '40-46', '47-53', '33-39', '40-46', '54-60', '40-46', '40-46', '61-67', '33-39', '40-46', '47-53', '33-39', '54-60', '47-53', '26-32', '54-60', '47-53', '40-46', '54-60', '33-39', '54-60', '47-53', '33-39', '26-32', '54-60', '40-46', '54-60', '40-46', '33-39', '47-53', '26-32', '40-46', '54-60', '61-67', '33-39', '47-53', '33-39', '47-53', '47-53', '33-39', '33-39', '47-53', '40-46', '33-39', '47-53', '47-53', '47-53', '33-39', '54-60', '40-46', '54-60', '40-46', '47-53', '26-32', '47-53', '61-67', '33-39', '61-67', '61-67', '54-60', '61-67', '26-32', '61-67', '54-60', '40-46', '54-60', '33-39', '54-60', '33-39', '26-32', '33-39', '40-46', '33-39', '54-60', '26-32', '40-46', '26-32', '33-39', '33-39', '19-25', '40-46', '54-60', '47-53', '40-46', '26-32', '47-53', '33-39', '33-39', '40-46', '40-46', '61-67', '33-39', '47-53', '33-39', '47-53', '47-53', '33-39', '40-46', '54-60', '61-67', '40-46', '33-39', '54-60', '40-46', '40-46', '33-39', '33-39', '61-67', '26-32', '19-25', '68-75', '47-53', '33-39', '61-67', '40-46', '47-53', '26-32', '33-39', '33-39', '54-60', '33-39', '19-25', '33-39', '47-53', '47-53', '40-46', '26-32', '26-32', '47-53', '19-25', '26-32', '26-32', '33-39', '33-39', '40-46', '47-53', '26-32', '40-46', '54-60', '33-39', '61-67', '40-46', '61-67', '33-39', '33-39', '26-32', '54-60', '33-39', '47-53', '33-39', '47-53', '26-32', '26-32', '54-60', '47-53', '54-60', '47-53', '33-39', '19-25', '33-39', '26-32', '54-60', '47-53', '33-39', '47-53', '33-39', '26-32', '26-32', '47-53', '19-25', '40-46', '40-46', '26-32', '47-53', '26-32', '19-25', '40-46', '54-60', '33-39', '47-53', '19-25', '47-53', '40-46', '47-53', '33-39', '19-25', '40-46', '47-53', '54-60', '61-67', '68-75', '26-32', '33-39', '47-53', '47-53', '54-60', '33-39', '47-53', '26-32', '61-67', '33-39', '26-32', '26-32', '26-32', '33-39', '47-53', '33-39', '40-46', '26-32', '26-32', '54-60', '40-46', '40-46', '33-39', '33-39', '40-46', '26-32', '40-46', '40-46', '47-53', '33-39', '33-39', '33-39', '40-46', '68-75', '26-32', '47-53', '54-60', '26-32', '26-32', '33-39', '54-60', '40-46', '26-32', '47-53', '54-60', '26-32', '26-32', '54-60', '40-46', '61-67', '19-25', '61-67', '61-67', '26-32', '40-46', '61-67', '40-46', '26-32', '26-32', '33-39', '40-46', '33-39', '33-39', '33-39', '47-53', '54-60', '26-32', '61-67', '47-53', '26-32', '33-39', '54-60', '19-25', '40-46', '54-60', '61-67', '19-25', '26-32', '19-25', '26-32', '47-53', '26-32', '47-53', '54-60', '54-60', '26-32', '40-46', '47-53', '40-46', '54-60', '26-32', '40-46', '61-67', '68-75', '26-32', '54-60', '33-39', '33-39', '26-32', '54-60', '40-46', '33-39', '40-46', '19-25', '33-39', '26-32', '33-39', '61-67', '33-39', '26-32', '19-25', '33-39', '54-60', '26-32', '47-53', '19-25', '40-46', '47-53', '33-39', '19-25', '40-46', '19-25', '47-53', '40-46', '40-46', '33-39', '40-46', '40-46', '19-25', '47-53', '40-46', '19-25', '54-60', '40-46', '26-32', '26-32', '47-53', '33-39', '33-39', '47-53', '26-32', '40-46', '19-25', '40-46', '47-53', '33-39', '19-25', '40-46', '26-32', '33-39', '26-32', '33-39', '33-39', '54-60', '40-46', '47-53', '33-39', '61-67', '47-53', '40-46', '47-53', '26-32', '19-25', '61-67', '33-39', '54-60', '40-46', '19-25', '33-39', '47-53', '54-60', '33-39', '54-60', '54-60', '26-32', '26-32', '19-25', '47-53', '40-46', '26-32', '40-46', '40-46', '40-46', '47-53', '26-32', '54-60', '61-67', '26-32', '47-53', '47-53', '40-46', '26-32', '40-46', '47-53', '26-32', '19-25', '40-46', '47-53', '19-25', '33-39', '47-53', '47-53', '61-67', '26-32', '40-46', '33-39', '26-32', '33-39', '19-25', '47-53', '33-39', '61-67', '26-32', '26-32', '19-25', '33-39', '61-67', '54-60', '47-53', '40-46', '33-39', '33-39', '54-60', '54-60', '54-60', '26-32', '33-39', '47-53', '19-25', '40-46', '61-67', '54-60', '40-46', '40-46', '47-53', '47-53', '26-32', '54-60', '54-60', '54-60', '68-75', '26-32', '54-60', '61-67', '54-60', '40-46', '19-25', '26-32', '26-32', '26-32', '40-46', '26-32', '54-60', '54-60', '54-60', '33-39', '54-60', '47-53', '68-75', '47-53', '26-32', '40-46', '54-60', '47-53', '33-39', '54-60', '61-67', '40-46', '26-32', '40-46', '33-39', '26-32', '33-39', '47-53', '19-25', '54-60', '68-75', '40-46', '26-32', '33-39', '26-32', '40-46', '40-46', '47-53', '26-32', '33-39', '26-32', '40-46', '33-39', '33-39', '47-53', '40-46', '33-39', '33-39', '26-32', '33-39', '26-32', '47-53', '26-32', '33-39', '61-67', '47-53', '54-60', '19-25', '26-32', '40-46', '33-39', '33-39', '26-32', '40-46', '19-25', '19-25', '19-25', '40-46', '40-46', '26-32', '33-39', '54-60', '47-53', '33-39', '47-53', '33-39', '68-75', '61-67', '33-39', '33-39', '47-53', '26-32', '33-39', '40-46', '54-60', '61-67', '40-46', '40-46', '40-46', '26-32', '47-53', '19-25', '47-53', '33-39', '33-39', '19-25', '40-46', '61-67', '61-67', '33-39', '33-39', '33-39', '47-53', '33-39', '26-32', '26-32', '26-32', '33-39', '54-60', '54-60', '40-46', '26-32', '26-32', '19-25', '61-67', '54-60', '54-60', '40-46', '33-39', '54-60', '26-32', '40-46', '26-32', '40-46', '61-67', '33-39', '26-32', '61-67', '54-60', '26-32', '33-39', '26-32', '54-60', '47-53', '33-39', '47-53', '61-67', '40-46', '40-46', '54-60', '40-46', '61-67', '19-25', '33-39', '33-39', '54-60', '40-46', '26-32', '68-75', '54-60', '33-39', '33-39', '26-32', '33-39', '54-60', '26-32', '40-46', '54-60', '47-53', '40-46', '33-39', '33-39', '33-39', '68-75', '61-67', '40-46', '54-60', '54-60', '26-32', '47-53', '40-46', '40-46', '40-46', '19-25', '26-32', '54-60', '47-53', '33-39', '26-32', '61-67', '47-53', '47-53', '47-53', '61-67', '26-32', '33-39', '61-67', '19-25', '40-46', '40-46', '19-25', '47-53', '47-53', '33-39', '47-53', '47-53', '19-25', '33-39', '61-67', '47-53', '40-46', '40-46', '33-39', '26-32', '40-46', '47-53', '54-60', '54-60', '26-32', '54-60', '47-53', '54-60', '54-60', '61-67', '40-46', '47-53', '54-60', '33-39', '40-46', '47-53', '19-25', '26-32', '33-39', '47-53', '54-60', '54-60', '19-25', '40-46', '33-39', '33-39', '40-46', '19-25', '26-32', '33-39', '19-25', '26-32', '33-39', '61-67', '40-46', '47-53', '54-60', '54-60', '47-53', '26-32', '54-60', '40-46', '40-46', '33-39', '33-39', '26-32', '19-25', '26-32', '33-39', '26-32', '61-67', '40-46', '33-39', '40-46', '26-32', '26-32', '33-39', '40-46', '47-53', '19-25', '61-67', '47-53', '33-39', '54-60', '19-25', '61-67', '33-39', '47-53', '40-46', '33-39', '40-46', '61-67', '19-25', '26-32', '61-67', '40-46', '54-60', '54-60', '40-46', '40-46', '26-32', '47-53', '26-32', '33-39', '54-60', '40-46', '40-46', '54-60', '47-53', '33-39', '47-53', '40-46', '61-67', '19-25', '26-32', '33-39', '54-60', '54-60', '54-60', '54-60', '19-25', '47-53', '61-67', '33-39', '54-60', '47-53', '40-46', '19-25', '33-39', '26-32', '68-75', '54-60', '40-46', '54-60', '33-39', '19-25', '26-32', '40-46', '33-39', '33-39', '26-32', '19-25', '33-39', '40-46', '26-32', '54-60', '33-39', '26-32', '54-60', '61-67', '47-53', '54-60', '26-32', '40-46', '40-46', '54-60', '26-32', '33-39', '33-39', '47-53', '26-32', '26-32', '54-60', '26-32', '47-53', '26-32', '61-67', '26-32', '40-46', '61-67', '26-32', '40-46', '33-39', '54-60', '47-53', '54-60', '54-60', '54-60', '61-67', '26-32', '54-60', '40-46', '19-25', '26-32', '47-53', '61-67', '26-32', '33-39', '40-46', '26-32', '26-32', '54-60', '54-60', '33-39', '26-32', '26-32', '54-60', '40-46', '47-53', '26-32', '26-32', '26-32', '26-32', '33-39', '47-53', '40-46', '47-53', '26-32', '33-39', '19-25', '26-32', '47-53', '33-39', '26-32', '33-39', '26-32', '47-53', '33-39', '40-46', '33-39', '40-46', '33-39', '40-46', '61-67', '26-32', '33-39', '54-60', '40-46', '47-53', '40-46', '33-39', '26-32', '54-60', '26-32', '68-75', '47-53', '26-32', '33-39', '33-39', '26-32', '19-25', '40-46', '61-67', '61-67', '40-46', '19-25', '40-46', '61-67', '47-53', '26-32', '61-67', '61-67', '61-67', '47-53', '33-39', '26-32', '54-60', '40-46', '47-53', '19-25', '54-60', '26-32', '40-46', '33-39', '26-32', '26-32', '47-53', '40-46', '47-53', '26-32', '40-46', '47-53', '26-32', '33-39', '61-67', '61-67', '54-60', '33-39', '40-46', '26-32', '33-39', '54-60', '61-67', '26-32', '68-75', '54-60', '33-39', '40-46', '47-53', '54-60', '54-60', '54-60', '47-53', '33-39', '33-39', '33-39', '33-39', '47-53', '33-39', '26-32', '33-39', '40-46', '54-60', '47-53', '47-53', '40-46', '40-46', '47-53', '33-39', '40-46', '47-53', '47-53', '19-25', '61-67', '40-46', '33-39', '40-46', '33-39', '40-46', '19-25', '26-32', '61-67', '54-60', '40-46', '40-46', '54-60', '26-32', '47-53', '19-25', '54-60', '40-46', '54-60', '19-25', '33-39', '26-32', '61-67', '40-46', '26-32', '33-39', '68-75', '40-46', '61-67', '40-46', '33-39', '47-53', '61-67', '47-53', '47-53', '26-32', '47-53', '33-39', '61-67', '61-67', '40-46', '33-39', '54-60', '54-60', '54-60', '19-25', '54-60', '54-60', '61-67', '40-46', '33-39', '26-32', '26-32', '40-46', '26-32', '33-39', '54-60', '26-32', '40-46', '40-46', '33-39', '19-25', '47-53', '33-39', '54-60', '47-53', '54-60', '33-39', '19-25', '33-39', '40-46', '54-60', '33-39', '33-39', '47-53', '40-46', '19-25', '61-67', '47-53', '19-25', '33-39', '47-53', '68-75', '33-39', '54-60', '33-39', '40-46', '19-25', '47-53', '61-67', '47-53', '40-46', '47-53', '40-46', '33-39', '40-46', '61-67', '33-39', '33-39', '47-53', '40-46', '26-32', '54-60', '61-67', '54-60', '40-46', '26-32', '61-67', '54-60', '26-32', '61-67', '33-39', '54-60', '40-46', '33-39', '40-46', '40-46', '54-60', '47-53', '33-39', '54-60', '26-32', '33-39', '54-60', '47-53', '40-46', '40-46', '33-39', '40-46', '33-39', '19-25', '47-53', '33-39', '33-39', '26-32', '40-46', '40-46', '26-32', '47-53', '33-39', '33-39', '40-46', '61-67', '47-53', '33-39', '47-53', '61-67', '40-46', '26-32', '26-32', '47-53', '33-39', '40-46', '40-46', '54-60', '40-46', '47-53', '33-39', '54-60', '61-67', '33-39', '47-53', '54-60', '47-53', '40-46', '61-67', '54-60', '40-46', '54-60', '33-39', '47-53', '33-39', '40-46', '26-32', '54-60', '40-46', '47-53', '40-46', '47-53', '26-32', '40-46', '40-46', '40-46', '26-32', '26-32', '54-60', '33-39', '54-60', '26-32', '40-46', '26-32', '40-46', '54-60', '26-32', '19-25', '40-46', '47-53', '40-46', '40-46', '54-60', '40-46', '54-60', '26-32', '33-39', '33-39', '68-75', '33-39', '61-67', '40-46', '54-60', '54-60', '19-25', '54-60', '26-32', '40-46', '54-60', '47-53', '40-46', '40-46', '40-46', '33-39', '26-32', '26-32', '54-60', '33-39', '47-53', '54-60', '26-32', '19-25', '54-60', '26-32', '26-32', '54-60', '61-67', '33-39', '33-39', '47-53', '33-39', '47-53', '40-46', '61-67', '19-25', '47-53', '33-39', '40-46', '40-46', '54-60', '26-32', '26-32', '40-46', '33-39', '19-25', '19-25', '26-32', '54-60', '26-32', '26-32', '33-39', '40-46', '54-60', '54-60', '26-32', '26-32', '47-53', '33-39', '33-39', '61-67', '40-46', '40-46', '47-53', '47-53', '54-60', '54-60', '40-46', '19-25', '54-60', '40-46', '61-67', '54-60', '26-32', '54-60', '47-53', '61-67', '61-67', '40-46', '47-53', '47-53', '40-46', '19-25', '33-39', '54-60', '33-39', '33-39', '61-67', '40-46', '47-53', '54-60', '40-46', '33-39', '19-25', '47-53', '26-32', '26-32', '40-46', '26-32', '40-46', '61-67', '33-39', '54-60', '47-53', '54-60', '26-32', '40-46', '54-60', '47-53', '54-60', '26-32', '33-39', '33-39', '54-60', '26-32', '40-46', '61-67', '33-39', '47-53', '54-60', '40-46', '54-60', '61-67', '47-53', '54-60', '61-67', '40-46', '33-39', '54-60', '33-39', '47-53', '61-67', '68-75', '47-53', '40-46', '33-39', '54-60', '54-60', '40-46', '33-39', '54-60', '47-53', '40-46', '47-53', '33-39', '19-25', '26-32', '40-46', '61-67', '54-60', '54-60', '33-39', '33-39', '61-67', '33-39', '33-39', '26-32', '26-32', '54-60', '33-39', '61-67', '33-39', '26-32', '19-25', '61-67', '40-46', '68-75', '47-53', '19-25', '26-32', '54-60', '26-32', '40-46', '47-53', '47-53', '33-39', '47-53', '33-39', '54-60', '40-46', '47-53', '61-67', '26-32', '54-60', '61-67', '54-60', '47-53', '47-53', '54-60', '33-39', '54-60', '40-46', '26-32', '68-75', '54-60', '40-46', '40-46', '33-39', '47-53', '47-53', '54-60', '61-67', '40-46', '47-53', '40-46', '54-60', '61-67', '40-46', '26-32', '26-32', '54-60', '40-46', '54-60', '33-39', '61-67', '61-67', '54-60', '19-25', '33-39', '26-32', '47-53', '54-60', '61-67', '33-39', '26-32', '54-60', '61-67', '26-32', '26-32', '54-60', '47-53', '54-60', '54-60', '54-60', '47-53', '26-32', '33-39', '33-39', '47-53', '61-67', '47-53', '26-32', '19-25', '33-39', '61-67', '54-60', '40-46', '40-46', '61-67', '54-60', '26-32', '33-39', '68-75', '26-32', '40-46', '47-53', '68-75', '54-60', '47-53', '40-46', '26-32', '47-53', '33-39', '47-53', '54-60', '33-39', '47-53', '54-60', '26-32', '26-32', '54-60', '26-32', '47-53', '61-67', '40-46', '33-39', '40-46', '40-46', '19-25', '40-46', '26-32', '54-60', '40-46', '47-53', '47-53', '26-32', '47-53', '54-60', '61-67', '40-46', '61-67', '68-75', '40-46', '54-60', '26-32', '19-25', '26-32', '26-32', '26-32', '47-53', '54-60', '40-46', '47-53', '54-60', '40-46', '47-53', '33-39', '33-39', '61-67', '26-32', '40-46', '61-67', '47-53', '33-39', '19-25', '61-67', '40-46', '19-25', '26-32', '40-46', '68-75', '61-67', '19-25', '47-53', '40-46', '26-32', '47-53', '54-60', '61-67', '47-53', '47-53', '33-39', '40-46', '40-46', '61-67', '47-53', '26-32', '61-67', '40-46', '19-25', '26-32', '54-60', '19-25', '40-46', '47-53', '33-39', '33-39', '33-39', '33-39', '54-60', '33-39', '26-32', '26-32', '47-53', '68-75', '33-39', '33-39', '47-53', '33-39', '33-39', '47-53', '40-46', '61-67', '47-53', '61-67', '33-39', '47-53', '47-53', '40-46', '26-32', '47-53', '40-46', '40-46', '33-39', '33-39', '61-67', '40-46', '40-46', '33-39', '40-46', '33-39', '61-67', '26-32', '68-75', '33-39', '47-53', '33-39', '54-60', '47-53', '54-60', '40-46', '61-67', '54-60', '61-67', '40-46', '33-39', '47-53', '54-60', '33-39', '40-46', '33-39', '54-60', '61-67', '54-60', '61-67', '47-53', '47-53', '26-32', '33-39', '40-46', '47-53', '40-46', '40-46', '47-53', '40-46', '33-39', '54-60', '33-39', '26-32', '26-32', '47-53', '19-25', '19-25', '40-46', '40-46', '26-32', '26-32', '33-39', '33-39', '47-53', '61-67', '33-39', '26-32', '40-46', '61-67', '33-39', '47-53', '54-60', '47-53', '54-60', '47-53', '54-60', '47-53', '26-32', '33-39', '61-67', '54-60', '26-32', '40-46', '61-67', '54-60', '26-32', '26-32', '26-32', '33-39', '40-46', '33-39', '26-32', '47-53', '47-53', '47-53', '40-46', '40-46', '33-39', '33-39', '33-39', '47-53', '47-53', '40-46', '54-60', '26-32', '40-46', '54-60', '33-39', '61-67', '47-53', '54-60', '40-46', '33-39', '40-46', '47-53', '40-46', '61-67', '33-39', '26-32', '33-39', '54-60', '19-25', '54-60', '40-46', '26-32', '33-39', '47-53', '54-60', '26-32', '26-32', '40-46', '61-67', '40-46', '26-32', '33-39', '40-46', '54-60', '40-46', '33-39', '26-32', '33-39', '26-32', '61-67', '54-60', '26-32', '61-67', '47-53', '33-39', '61-67', '26-32', '47-53', '26-32', '54-60', '19-25', '47-53', '47-53', '61-67', '33-39', '40-46', '26-32', '40-46', '54-60', '54-60', '40-46', '26-32', '40-46', '26-32', '33-39', '47-53', '33-39', '19-25', '33-39', '26-32', '54-60', '33-39', '33-39', '19-25', '40-46', '33-39', '54-60', '26-32', '19-25', '61-67', '40-46', '47-53', '61-67', '40-46', '40-46', '40-46', '54-60', '33-39', '26-32', '26-32', '33-39', '26-32', '19-25', '26-32', '33-39', '54-60', '61-67', '40-46', '26-32', '26-32', '47-53', '47-53', '47-53', '54-60', '33-39', '47-53', '40-46', '33-39', '61-67', '47-53', '47-53', '47-53', '40-46', '54-60', '40-46', '26-32', '61-67', '54-60', '26-32', '54-60', '40-46', '40-46', '54-60', '54-60', '26-32', '33-39', '47-53', '33-39', '47-53', '33-39', '61-67', '26-32', '61-67', '47-53', '54-60', '19-25', '26-32', '33-39', '26-32', '40-46', '26-32', '26-32', '40-46', '26-32', '54-60', '19-25', '33-39', '26-32', '47-53', '26-32', '40-46', '26-32', '19-25', '54-60', '19-25', '61-67', '47-53', '54-60', '54-60', '54-60', '26-32', '26-32', '61-67', '26-32', '40-46', '19-25', '40-46', '26-32', '54-60', '33-39', '61-67', '19-25', '33-39', '26-32', '54-60', '26-32', '61-67', '33-39', '54-60', '19-25', '40-46', '19-25', '47-53', '33-39', '33-39', '54-60', '54-60', '40-46', '33-39', '61-67', '26-32', '54-60', '33-39', '61-67', '40-46', '54-60', '33-39', '47-53', '33-39', '40-46', '47-53', '40-46', '47-53', '40-46', '33-39', '47-53', '61-67', '54-60', '47-53', '26-32', '33-39', '54-60', '61-67', '19-25', '19-25', '54-60', '54-60', '54-60', '47-53', '26-32', '40-46', '54-60', '54-60', '40-46', '54-60', '54-60', '61-67', '54-60', '26-32', '47-53', '33-39', '26-32', '33-39', '26-32', '33-39', '68-75', '54-60', '33-39', '40-46', '54-60', '47-53', '33-39', '19-25', '19-25', '33-39', '40-46', '54-60', '40-46', '40-46', '54-60', '40-46', '26-32', '33-39', '40-46', '26-32', '54-60', '40-46', '26-32', '54-60', '54-60', '61-67', '47-53', '61-67', '26-32', '47-53', '54-60', '40-46', '26-32', '54-60', '47-53', '61-67', '26-32', '61-67', '33-39', '61-67', '26-32', '26-32', '47-53', '26-32', '40-46', '54-60', '19-25', '54-60', '54-60', '54-60', '26-32', '26-32', '47-53', '47-53', '33-39', '33-39', '33-39', '40-46', '40-46', '40-46', '40-46', '54-60', '40-46', '26-32', '19-25', '61-67', '26-32', '54-60', '26-32', '54-60', '40-46', '33-39', '33-39', '47-53', '26-32', '54-60', '40-46', '54-60', '33-39', '40-46', '33-39', '33-39', '33-39', '54-60', '47-53', '26-32', '26-32', '54-60', '68-75', '33-39', '54-60', '19-25', '47-53', '68-75', '26-32', '26-32', '40-46', '54-60', '26-32', '40-46', '61-67', '33-39', '54-60', '26-32', '54-60', '26-32', '61-67', '47-53', '33-39', '54-60', '47-53', '33-39', '33-39', '40-46', '47-53', '40-46', '54-60', '33-39', '54-60', '33-39', '61-67', '19-25', '33-39', '33-39', '47-53', '40-46', '40-46', '61-67', '61-67', '33-39', '33-39', '61-67', '40-46', '68-75', '40-46', '40-46', '61-67', '47-53', '33-39', '61-67', '54-60', '54-60', '26-32', '54-60', '33-39', '33-39', '33-39', '33-39', '61-67', '40-46', '26-32', '26-32', '33-39', '33-39', '33-39', '33-39', '54-60', '47-53', '19-25', '47-53', '54-60', '33-39', '54-60', '33-39', '40-46', '54-60', '26-32', '40-46', '40-46', '47-53', '47-53', '40-46', '54-60', '33-39', '33-39', '61-67', '47-53', '47-53', '26-32', '40-46', '47-53', '26-32', '33-39', '47-53', '26-32', '26-32', '47-53', '33-39', '47-53', '19-25', '40-46', '33-39', '47-53', '19-25', '54-60', '33-39', '33-39', '40-46', '33-39', '26-32', '61-67', '33-39', '33-39', '54-60', '40-46', '19-25', '47-53', '40-46', '61-67', '47-53', '33-39', '33-39', '40-46', '47-53', '40-46', '33-39', '47-53', '47-53', '33-39', '26-32', '47-53', '33-39', '26-32', '40-46', '54-60', '26-32', '40-46', '26-32', '40-46', '40-46', '47-53', '47-53', '40-46', '19-25', '47-53', '33-39', '33-39', '19-25', '33-39', '40-46', '54-60', '61-67', '19-25', '54-60', '47-53', '61-67', '54-60', '33-39', '54-60', '54-60', '33-39', '40-46', '33-39', '40-46', '26-32', '47-53', '26-32', '54-60', '40-46', '40-46', '47-53', '33-39', '19-25', '47-53', '47-53', '26-32', '33-39', '33-39', '19-25', '47-53', '26-32', '47-53', '54-60', '26-32', '33-39', '26-32', '40-46', '19-25', '33-39', '26-32', '40-46', '54-60', '54-60', '26-32', '33-39', '40-46', '47-53', '61-67', '61-67', '33-39', '19-25', '26-32', '33-39', '33-39', '61-67', '33-39', '54-60', '26-32', '40-46', '40-46', '54-60', '40-46', '47-53', '33-39', '47-53', '26-32', '54-60', '47-53', '40-46', '61-67', '26-32', '33-39', '47-53', '61-67', '54-60', '47-53', '47-53', '61-67', '40-46', '61-67', '26-32', '26-32', '33-39', '19-25', '19-25', '26-32', '40-46', '40-46', '47-53', '33-39', '26-32', '61-67', '19-25', '61-67', '40-46', '54-60', '47-53', '61-67', '33-39', '47-53', '61-67', '33-39', '47-53', '47-53', '54-60', '54-60', '26-32', '33-39', '47-53', '47-53', '40-46', '47-53', '40-46', '47-53', '26-32', '33-39', '54-60', '19-25', '33-39', '54-60', '61-67', '68-75', '26-32', '19-25', '61-67', '26-32', '33-39', '61-67', '33-39', '61-67', '61-67', '54-60', '26-32', '26-32', '40-46', '33-39', '33-39', '33-39', '26-32', '68-75', '47-53', '26-32', '40-46', '19-25', '47-53', '47-53', '54-60', '40-46', '40-46', '54-60', '19-25', '26-32', '40-46', '47-53', '40-46', '47-53', '47-53', '47-53', '61-67', '19-25', '47-53', '47-53', '33-39', '61-67', '26-32', '40-46', '33-39', '47-53', '54-60', '40-46', '33-39', '33-39', '68-75', '40-46', '19-25', '54-60', '47-53', '33-39', '40-46', '40-46', '33-39', '54-60', '19-25', '40-46', '26-32', '40-46', '33-39', '40-46', '26-32', '33-39', '40-46', '33-39', '26-32', '33-39', '54-60', '61-67', '26-32', '33-39', '26-32', '26-32', '40-46', '40-46', '26-32', '40-46', '47-53', '54-60', '54-60', '33-39', '47-53', '40-46', '61-67', '26-32', '40-46', '40-46', '33-39', '54-60', '40-46', '47-53', '54-60', '40-46', '33-39', '61-67', '40-46', '26-32', '47-53', '33-39', '19-25', '47-53', '47-53', '26-32', '54-60', '54-60', '33-39', '26-32', '33-39', '47-53', '61-67', '47-53', '54-60', '26-32', '33-39', '40-46', '33-39', '33-39', '54-60', '26-32', '33-39', '68-75', '47-53', '33-39', '47-53', '47-53', '40-46', '33-39', '19-25', '54-60', '33-39', '47-53', '33-39', '33-39', '54-60', '47-53', '54-60', '26-32', '19-25', '54-60', '61-67', '47-53', '26-32', '26-32', '40-46', '26-32', '26-32', '33-39', '54-60', '47-53', '54-60', '61-67', '33-39', '61-67', '26-32', '26-32', '54-60', '19-25', '19-25', '33-39', '54-60', '40-46', '33-39', '33-39', '26-32', '61-67', '33-39', '61-67', '26-32', '26-32', '33-39', '33-39', '33-39', '61-67', '54-60', '33-39', '47-53', '54-60', '40-46', '26-32', '61-67', '33-39', '47-53', '40-46', '47-53', '40-46', '40-46', '40-46', '40-46', '47-53', '19-25', '40-46', '33-39', '26-32', '40-46', '40-46', '19-25', '26-32', '40-46', '33-39', '33-39', '54-60', '61-67', '47-53', '40-46', '26-32', '40-46', '47-53', '40-46', '19-25', '47-53', '33-39', '26-32', '26-32', '26-32', '33-39', '33-39', '47-53', '33-39', '54-60', '40-46', '47-53', '47-53', '26-32', '26-32', '26-32', '33-39', '40-46', '40-46', '33-39', '33-39', '54-60', '26-32', '61-67', '33-39', '26-32', '40-46', '19-25', '54-60', '33-39', '40-46', '26-32', '19-25', '61-67', '26-32', '40-46', '26-32', '61-67', '26-32', '61-67', '47-53', '61-67', '47-53', '47-53', '54-60', '33-39', '61-67', '54-60', '33-39', '40-46', '40-46', '47-53', '40-46', '47-53', '33-39', '47-53', '47-53', '33-39', '47-53', '54-60', '40-46', '61-67', '33-39', '33-39', '47-53', '54-60', '54-60', '54-60', '54-60', '19-25', '26-32', '26-32', '47-53', '26-32', '40-46', '40-46', '33-39', '26-32', '33-39', '19-25', '33-39', '26-32', '40-46', '40-46', '47-53', '33-39', '68-75', '47-53', '33-39', '54-60', '33-39', '47-53', '33-39', '26-32', '33-39', '40-46', '54-60', '33-39', '54-60', '40-46', '33-39', '26-32', '26-32', '47-53', '47-53', '61-67', '33-39', '26-32', '33-39', '54-60', '54-60', '54-60', '61-67', '33-39', '33-39', '47-53', '61-67', '61-67', '40-46', '40-46', '54-60', '61-67', '54-60', '40-46', '19-25', '26-32', '54-60', '26-32', '19-25', '54-60', '26-32', '33-39', '26-32', '54-60', '47-53', '26-32', '54-60', '40-46', '33-39', '33-39', '40-46', '40-46', '19-25', '40-46', '54-60', '47-53', '19-25', '47-53', '26-32', '33-39', '47-53', '26-32', '47-53', '54-60', '47-53', '40-46', '40-46', '19-25', '40-46', '33-39', '26-32', '61-67', '47-53', '40-46', '54-60', '40-46', '26-32', '40-46', '40-46', '54-60', '33-39', '47-53', '33-39', '33-39', '54-60', '33-39', '33-39', '40-46', '19-25', '61-67', '26-32', '40-46', '33-39', '40-46', '40-46', '26-32', '40-46', '47-53', '61-67', '33-39', '54-60', '26-32', '33-39', '47-53', '47-53', '54-60', '47-53', '54-60', '40-46', '26-32', '54-60', '33-39', '33-39', '19-25', '33-39', '54-60', '40-46', '33-39', '26-32', '33-39', '54-60', '54-60', '33-39', '54-60', '54-60', '40-46', '40-46', '33-39', '54-60', '47-53', '19-25', '33-39', '61-67', '26-32', '61-67', '40-46', '47-53', '68-75', '26-32', '47-53', '54-60', '40-46', '40-46', '33-39', '19-25', '26-32', '26-32', '26-32', '47-53', '26-32', '54-60', '47-53', '40-46', '61-67', '61-67', '26-32', '33-39', '33-39', '26-32', '33-39', '26-32', '33-39', '40-46', '47-53', '19-25', '54-60', '19-25', '26-32', '26-32', '47-53', '33-39', '33-39', '33-39', '47-53', '54-60', '54-60', '26-32', '47-53', '26-32', '47-53', '54-60', '47-53', '26-32', '47-53', '26-32', '33-39', '33-39', '61-67', '61-67', '40-46', '19-25', '33-39', '26-32', '19-25', '54-60', '47-53', '47-53', '26-32', '47-53', '40-46', '54-60', '33-39', '61-67', '40-46', '33-39', '26-32', '26-32', '33-39', '26-32', '61-67', '61-67', '19-25', '33-39', '61-67', '40-46', '33-39', '47-53', '26-32', '33-39', '61-67', '47-53', '40-46', '54-60', '33-39', '33-39', '33-39', '19-25', '33-39', '47-53', '54-60', '47-53', '26-32', '26-32', '26-32', '26-32', '19-25', '47-53', '54-60', '54-60', '61-67', '33-39', '33-39', '26-32', '26-32', '47-53', '47-53', '47-53', '40-46', '26-32', '47-53', '40-46', '47-53', '40-46', '47-53', '33-39', '47-53', '54-60', '33-39', '33-39', '26-32', '26-32', '33-39', '26-32', '26-32', '40-46', '40-46', '33-39', '33-39', '47-53', '33-39', '26-32', '54-60', '33-39', '33-39', '40-46', '33-39', '33-39', '61-67', '47-53', '61-67', '47-53', '47-53', '47-53', '26-32', '47-53', '40-46', '40-46', '47-53', '33-39', '54-60', '68-75', '26-32', '33-39', '26-32', '26-32', '54-60', '47-53', '40-46', '61-67', '26-32', '33-39', '40-46', '33-39', '26-32', '47-53', '47-53', '54-60', '61-67', '47-53', '33-39', '54-60', '40-46', '40-46', '47-53', '19-25', '47-53', '54-60', '40-46', '26-32', '47-53', '26-32', '33-39', '33-39', '54-60', '33-39', '26-32', '33-39', '61-67', '26-32', '54-60', '47-53', '61-67', '40-46', '61-67', '40-46', '19-25', '40-46', '54-60', '26-32', '54-60', '47-53', '47-53', '33-39', '26-32', '26-32', '33-39', '26-32', '68-75', '33-39', '47-53', '47-53', '47-53', '40-46', '33-39', '54-60', '33-39', '54-60', '40-46', '40-46', '26-32', '40-46', '47-53', '47-53', '33-39', '40-46', '40-46', '40-46', '54-60', '33-39', '40-46', '61-67', '54-60', '33-39', '47-53', '47-53', '26-32', '40-46', '40-46', '26-32', '61-67', '33-39', '26-32', '54-60', '54-60', '26-32', '26-32', '54-60', '19-25', '33-39', '26-32', '54-60', '68-75', '40-46', '40-46', '61-67', '61-67', '33-39', '26-32', '47-53', '40-46', '26-32', '33-39', '61-67', '68-75', '26-32', '26-32', '54-60', '26-32', '47-53', '33-39', '47-53', '33-39', '33-39', '47-53', '54-60', '26-32', '19-25', '54-60', '40-46', '26-32', '33-39', '47-53', '54-60', '40-46', '40-46', '26-32', '40-46', '61-67', '40-46', '19-25', '54-60', '26-32', '54-60', '40-46', '54-60', '61-67', '26-32', '40-46', '68-75', '47-53', '26-32', '33-39', '54-60', '54-60', '33-39', '19-25', '33-39', '47-53', '33-39', '26-32', '47-53', '40-46', '33-39', '40-46', '33-39', '68-75', '47-53', '40-46', '68-75', '33-39', '54-60', '33-39', '40-46', '54-60', '40-46', '26-32', '33-39', '26-32', '40-46', '33-39', '40-46', '61-67', '19-25', '33-39', '26-32', '26-32', '61-67', '40-46', '40-46', '47-53', '68-75', '33-39', '40-46', '47-53', '26-32', '54-60', '54-60', '40-46', '54-60', '33-39', '19-25', '47-53', '54-60', '54-60', '40-46', '40-46', '47-53', '19-25', '26-32', '47-53', '54-60', '40-46', '26-32', '54-60', '54-60', '40-46', '54-60', '33-39', '33-39', '40-46', '33-39', '54-60', '33-39', '40-46', '26-32', '40-46', '33-39', '33-39', '40-46', '40-46', '40-46', '19-25', '33-39', '61-67', '26-32', '33-39', '33-39', '47-53', '61-67', '26-32', '47-53', '40-46', '54-60', '33-39', '26-32', '26-32', '19-25', '54-60', '40-46', '40-46', '61-67', '19-25', '19-25', '19-25', '19-25', '54-60', '54-60', '61-67', '40-46', '54-60', '61-67', '61-67', '40-46', '54-60', '26-32', '47-53', '47-53', '19-25', '33-39', '33-39', '54-60', '54-60', '54-60', '26-32', '33-39', '33-39', '47-53', '47-53', '54-60', '61-67', '33-39', '33-39', '40-46', '47-53', '19-25', '61-67', '47-53', '33-39', '61-67', '19-25', '26-32', '26-32', '40-46', '19-25', '33-39', '61-67', '40-46', '54-60', '26-32', '47-53', '19-25', '33-39', '33-39', '40-46', '33-39', '47-53', '54-60', '33-39', '33-39', '54-60', '19-25', '61-67', '47-53', '47-53', '47-53', '33-39', '47-53', '47-53', '26-32', '26-32', '26-32', '54-60', '19-25', '61-67', '33-39', '33-39', '61-67', '40-46', '26-32', '54-60', '54-60', '40-46', '47-53', '47-53', '54-60', '26-32', '26-32', '47-53', '19-25', '40-46', '26-32', '47-53', '33-39', '54-60', '19-25', '40-46', '26-32', '26-32', '40-46', '40-46', '40-46', '54-60', '33-39', '47-53', '26-32', '40-46', '47-53', '33-39', '33-39', '19-25', '61-67', '47-53', '47-53', '33-39', '47-53', '33-39', '47-53', '68-75', '47-53', '54-60', '26-32', '33-39', '33-39', '47-53', '33-39', '47-53', '61-67', '33-39', '33-39', '40-46', '40-46', '40-46', '40-46', '47-53', '40-46', '33-39', '47-53', '40-46', '40-46', '47-53', '33-39', '26-32', '33-39', '40-46', '26-32', '19-25', '47-53', '54-60', '40-46', '47-53', '40-46', '26-32', '54-60', '40-46', '33-39', '61-67', '40-46', '40-46', '19-25', '26-32', '54-60', '68-75', '19-25', '40-46', '33-39', '47-53', '33-39', '40-46', '19-25', '33-39', '40-46', '33-39', '40-46', '19-25', '26-32', '54-60', '61-67', '61-67', '40-46', '40-46', '40-46', '54-60', '54-60', '54-60', '40-46', '26-32', '54-60', '33-39', '40-46', '26-32', '54-60', '19-25', '40-46', '47-53', '26-32', '54-60', '26-32', '26-32', '33-39', '40-46', '26-32', '19-25', '33-39', '47-53', '40-46', '26-32', '54-60', '47-53', '40-46', '33-39', '61-67', '33-39', '40-46', '40-46', '47-53', '40-46', '26-32', '33-39', '47-53', '26-32', '40-46', '47-53', '33-39', '26-32', '26-32', '40-46', '26-32', '33-39', '54-60', '40-46', '40-46', '33-39', '26-32', '54-60', '33-39', '33-39', '40-46', '47-53', '26-32', '54-60', '47-53', '61-67', '33-39', '26-32', '47-53', '19-25', '26-32', '26-32', '19-25', '26-32', '47-53', '54-60', '54-60', '26-32', '33-39', '26-32', '61-67', '47-53', '26-32', '40-46', '33-39', '61-67', '33-39', '47-53', '40-46', '40-46', '47-53', '61-67', '26-32', '33-39', '47-53', '40-46', '26-32', '33-39', '68-75', '61-67', '47-53', '54-60', '40-46', '19-25', '33-39', '26-32', '40-46', '61-67', '40-46', '26-32', '54-60', '47-53', '47-53', '47-53', '61-67', '19-25', '33-39', '33-39', '26-32', '54-60', '47-53', '54-60', '26-32', '26-32', '61-67', '33-39', '47-53', '26-32', '26-32', '33-39', '47-53', '33-39', '40-46', '40-46', '47-53', '33-39', '26-32', '47-53', '54-60', '33-39', '54-60', '33-39', '19-25', '33-39', '47-53', '26-32', '40-46', '33-39', '19-25', '47-53', '61-67', '54-60', '40-46', '40-46', '33-39', '40-46', '19-25', '33-39', '33-39', '33-39', '33-39', '54-60', '40-46', '33-39', '40-46', '33-39', '40-46', '33-39', '61-67', '54-60', '19-25', '40-46', '33-39', '40-46', '47-53', '54-60', '26-32', '33-39', '54-60', '61-67', '33-39', '40-46', '33-39', '61-67', '40-46', '26-32', '54-60', '33-39', '33-39', '54-60', '47-53', '33-39', '26-32', '40-46', '54-60', '47-53', '33-39', '19-25', '26-32', '33-39', '33-39', '26-32', '40-46', '54-60', '54-60', '40-46', '19-25', '61-67', '61-67', '26-32', '26-32', '47-53', '54-60', '26-32', '54-60', '40-46', '47-53', '33-39', '33-39', '26-32', '47-53', '40-46', '33-39', '40-46', '54-60', '26-32', '47-53', '54-60', '61-67', '33-39', '26-32', '26-32', '54-60', '54-60', '33-39', '40-46', '33-39', '47-53', '47-53', '40-46', '54-60', '26-32', '47-53', '19-25', '40-46', '61-67', '47-53', '47-53', '33-39', '40-46', '47-53', '54-60', '47-53', '26-32', '61-67', '47-53', '33-39', '33-39', '40-46', '33-39', '26-32', '40-46', '54-60', '47-53', '33-39', '19-25', '40-46', '26-32', '47-53', '47-53', '40-46', '26-32', '33-39', '33-39', '26-32', '47-53', '33-39', '47-53', '26-32', '47-53', '19-25', '40-46', '26-32', '40-46', '68-75', '54-60', '47-53', '47-53', '40-46', '19-25', '40-46', '40-46', '54-60', '33-39', '54-60', '68-75', '26-32', '54-60', '61-67', '47-53', '33-39', '61-67', '40-46', '33-39', '54-60', '33-39', '40-46', '26-32', '54-60', '54-60', '33-39', '33-39', '47-53', '40-46', '33-39', '47-53', '61-67', '33-39', '33-39', '54-60', '40-46', '26-32', '26-32', '26-32', '19-25', '33-39', '47-53', '40-46', '33-39', '33-39', '40-46', '33-39', '40-46', '26-32', '33-39', '26-32', '54-60', '26-32', '26-32', '26-32', '54-60', '54-60', '26-32', '47-53', '26-32', '40-46', '54-60', '54-60', '26-32', '33-39', '33-39', '54-60', '40-46', '33-39', '40-46', '40-46', '47-53', '33-39', '33-39', '40-46', '47-53', '40-46', '40-46', '47-53', '33-39', '40-46', '47-53', '47-53', '40-46', '40-46', '26-32', '33-39', '19-25', '54-60', '19-25', '47-53', '19-25', '33-39', '47-53', '33-39', '19-25', '54-60', '61-67', '54-60', '47-53', '33-39', '54-60', '26-32', '40-46', '19-25', '54-60', '40-46', '40-46', '54-60', '26-32', '47-53', '33-39', '26-32', '33-39', '33-39', '54-60', '54-60', '33-39', '54-60', '68-75', '33-39', '40-46', '40-46', '26-32', '33-39', '26-32', '33-39', '54-60', '40-46', '19-25', '40-46', '47-53', '33-39', '33-39', '33-39', '47-53', '26-32', '54-60', '33-39', '33-39', '19-25', '61-67', '61-67', '33-39', '54-60', '33-39', '40-46', '19-25', '61-67', '19-25', '47-53', '40-46', '61-67', '40-46', '61-67', '26-32', '47-53', '33-39', '47-53', '54-60', '47-53', '40-46', '47-53', '54-60', '54-60', '19-25', '68-75', '61-67', '54-60', '33-39', '47-53', '61-67', '40-46', '61-67', '40-46', '26-32', '40-46', '54-60', '40-46', '47-53', '54-60', '61-67', '61-67', '40-46', '54-60', '54-60', '19-25', '47-53', '26-32', '19-25', '40-46', '40-46', '47-53', '47-53', '47-53', '54-60', '19-25', '26-32', '33-39', '40-46', '26-32', '47-53', '40-46', '47-53', '40-46', '40-46', '61-67', '33-39', '47-53', '40-46', '40-46', '47-53', '33-39', '26-32', '26-32', '40-46', '54-60', '54-60', '54-60', '47-53', '54-60', '47-53', '26-32', '54-60', '47-53', '26-32', '61-67', '47-53', '26-32', '19-25', '19-25', '26-32', '33-39', '40-46', '40-46', '33-39', '40-46', '61-67', '26-32', '40-46', '40-46', '40-46', '26-32', '19-25', '47-53', '26-32', '19-25', '26-32', '54-60', '26-32', '40-46', '33-39', '19-25', '33-39', '33-39', '68-75', '26-32', '54-60', '61-67', '68-75', '33-39', '33-39', '47-53', '40-46', '19-25', '40-46', '26-32', '61-67', '47-53', '61-67', '54-60', '47-53', '19-25', '40-46', '26-32', '47-53', '40-46', '33-39', '40-46', '47-53', '47-53', '40-46', '61-67', '33-39', '19-25', '33-39', '61-67', '26-32', '26-32', '54-60', '40-46', '26-32', '26-32', '26-32', '47-53', '47-53', '40-46', '47-53', '61-67', '26-32', '47-53', '26-32', '40-46', '54-60', '33-39', '26-32', '54-60', '40-46', '33-39', '40-46', '47-53', '33-39', '26-32', '26-32', '47-53', '33-39', '33-39', '54-60', '26-32', '54-60', '19-25', '61-67', '40-46', '61-67', '33-39', '54-60', '54-60', '33-39', '26-32', '26-32', '19-25', '19-25', '40-46', '26-32', '54-60', '61-67', '54-60', '47-53', '68-75', '47-53', '33-39', '47-53', '26-32', '54-60', '54-60', '47-53', '54-60', '40-46', '54-60', '40-46', '61-67', '47-53', '54-60', '54-60', '61-67', '54-60', '40-46', '33-39', '47-53', '33-39', '19-25', '33-39', '26-32', '26-32', '47-53', '40-46', '26-32', '33-39', '33-39', '40-46', '33-39', '47-53', '40-46', '40-46', '19-25', '19-25', '47-53', '47-53', '40-46', '40-46', '26-32', '54-60', '47-53', '26-32', '26-32', '26-32', '26-32', '54-60', '68-75', '61-67', '33-39', '47-53', '40-46', '54-60', '54-60', '54-60', '40-46', '26-32', '33-39', '33-39', '26-32', '33-39', '54-60', '33-39', '68-75', '54-60', '47-53', '26-32', '33-39', '19-25', '26-32', '54-60', '61-67', '54-60', '47-53', '40-46', '33-39', '33-39', '40-46', '33-39', '47-53', '33-39', '47-53', '47-53', '26-32', '26-32', '33-39', '40-46', '33-39', '61-67', '40-46', '33-39', '19-25', '40-46', '26-32', '40-46', '33-39', '40-46', '26-32', '26-32', '54-60', '61-67', '54-60', '33-39', '19-25', '40-46', '47-53', '26-32', '33-39', '33-39', '33-39', '47-53', '26-32', '40-46', '40-46', '54-60', '54-60', '54-60', '54-60', '40-46', '40-46', '26-32', '68-75', '47-53', '19-25', '40-46', '40-46', '33-39', '26-32', '33-39', '33-39', '26-32', '33-39', '40-46', '47-53', '40-46', '40-46', '40-46', '61-67', '54-60', '61-67', '54-60', '40-46', '40-46', '26-32', '68-75', '47-53', '33-39', '26-32', '54-60', '47-53', '40-46', '61-67', '54-60', '26-32', '54-60', '26-32', '61-67', '33-39', '40-46', '47-53', '33-39', '54-60', '47-53', '47-53', '33-39', '26-32', '40-46', '40-46', '26-32', '26-32', '61-67', '33-39', '26-32', '40-46', '26-32', '47-53', '26-32', '33-39', '33-39', '47-53', '33-39', '61-67', '54-60', '40-46', '33-39', '33-39', '26-32', '33-39', '47-53', '47-53', '33-39', '33-39', '33-39', '33-39', '40-46', '47-53', '33-39', '40-46', '33-39', '19-25', '47-53', '33-39', '47-53', '54-60', '47-53', '54-60', '40-46', '33-39', '26-32', '47-53', '47-53', '61-67', '33-39', '47-53', '26-32', '54-60', '54-60', '33-39', '61-67', '40-46', '40-46', '47-53', '47-53', '33-39', '40-46', '26-32', '26-32', '19-25', '54-60', '61-67', '19-25', '40-46', '40-46', '33-39', '47-53', '40-46', '61-67', '47-53', '61-67', '26-32', '61-67', '33-39', '61-67', '33-39', '19-25', '33-39', '40-46', '54-60', '47-53', '40-46', '54-60', '26-32', '40-46', '40-46', '47-53', '47-53', '47-53', '26-32', '26-32', '26-32', '61-67', '47-53', '26-32', '40-46', '47-53', '26-32', '61-67', '47-53', '61-67', '40-46', '61-67', '61-67', '54-60', '33-39', '19-25', '26-32', '33-39', '19-25', '33-39', '61-67', '54-60', '40-46', '26-32', '19-25', '40-46', '54-60', '47-53', '54-60', '26-32', '40-46', '33-39', '61-67', '47-53', '68-75', '47-53', '26-32', '33-39', '54-60', '40-46', '19-25', '47-53', '33-39', '33-39', '54-60', '26-32', '61-67', '40-46', '47-53', '26-32', '54-60', '33-39', '26-32', '26-32', '19-25', '61-67', '47-53', '33-39', '54-60', '19-25', '54-60', '47-53', '54-60', '26-32', '47-53', '40-46', '61-67', '54-60', '26-32', '19-25', '33-39', '33-39', '40-46', '40-46', '33-39', '47-53', '61-67', '33-39', '54-60', '33-39', '54-60', '26-32', '61-67', '33-39', '47-53', '47-53', '54-60', '47-53', '40-46', '61-67', '40-46', '33-39', '26-32', '54-60', '47-53', '40-46', '19-25', '54-60', '26-32', '61-67', '33-39', '40-46', '54-60', '26-32', '26-32', '19-25', '61-67', '19-25', '54-60', '26-32', '40-46', '47-53', '54-60', '33-39', '19-25', '33-39', '40-46', '26-32', '47-53', '26-32', '33-39', '47-53', '47-53', '54-60', '40-46', '33-39', '54-60', '61-67', '26-32', '54-60', '26-32', '61-67', '40-46', '54-60', '26-32', '33-39', '61-67', '40-46', '40-46', '26-32', '47-53', '47-53', '40-46', '33-39', '61-67', '54-60', '26-32', '54-60', '61-67', '26-32', '33-39', '54-60', '40-46', '26-32', '54-60', '54-60', '33-39', '26-32', '61-67', '19-25', '19-25', '61-67', '26-32', '54-60', '61-67', '47-53', '61-67', '40-46', '47-53', '26-32', '61-67', '47-53', '33-39', '40-46', '47-53', '47-53', '40-46', '40-46', '33-39', '54-60', '61-67', '54-60', '47-53', '40-46', '33-39', '47-53', '33-39', '33-39', '54-60', '47-53', '47-53', '40-46', '54-60', '47-53', '33-39', '54-60', '26-32', '40-46', '47-53', '68-75', '54-60', '61-67', '40-46', '47-53', '26-32', '26-32', '47-53', '54-60', '54-60', '33-39', '26-32', '61-67', '40-46', '40-46', '54-60', '47-53', '40-46', '26-32', '33-39', '54-60', '54-60', '26-32', '26-32', '61-67', '33-39', '19-25', '61-67', '40-46', '26-32', '33-39', '61-67', '33-39', '40-46', '26-32', '40-46', '40-46', '61-67', '40-46', '54-60', '26-32', '26-32', '47-53', '26-32', '40-46', '61-67', '40-46', '33-39', '68-75', '40-46', '61-67', '47-53', '47-53', '54-60', '26-32', '19-25', '47-53', '61-67', '47-53', '40-46', '54-60', '33-39', '33-39', '47-53', '26-32', '54-60', '54-60', '40-46', '26-32', '61-67', '54-60', '54-60', '54-60', '54-60', '26-32', '40-46', '61-67', '26-32', '33-39', '33-39', '47-53', '61-67', '47-53', '47-53', '33-39', '54-60', '54-60', '33-39', '40-46', '40-46', '54-60', '33-39', '33-39', '61-67', '33-39', '26-32', '33-39', '54-60', '47-53', '33-39', '26-32', '33-39', '40-46', '54-60', '26-32', '33-39', '47-53', '47-53', '26-32', '54-60', '26-32', '54-60', '33-39', '26-32', '26-32', '33-39', '19-25', '54-60', '54-60', '61-67', '26-32', '33-39', '26-32', '54-60', '47-53', '68-75', '54-60', '33-39', '26-32', '40-46', '54-60', '61-67', '26-32', '54-60', '26-32', '61-67', '26-32', '47-53', '54-60', '61-67', '33-39', '40-46', '54-60', '33-39', '33-39', '61-67', '33-39', '33-39', '40-46', '26-32', '33-39', '33-39', '33-39', '61-67', '54-60', '33-39', '54-60', '47-53', '26-32', '33-39', '26-32', '19-25', '33-39', '40-46', '47-53', '40-46', '26-32', '26-32', '26-32', '26-32', '26-32', '40-46', '33-39', '40-46', '26-32', '47-53', '54-60', '26-32', '54-60', '68-75', '33-39', '26-32', '47-53', '33-39', '33-39', '26-32', '40-46', '26-32', '40-46', '61-67', '26-32', '19-25', '40-46', '33-39', '26-32', '40-46', '47-53', '61-67', '40-46', '54-60', '40-46', '33-39', '40-46', '40-46', '33-39', '40-46', '33-39', '40-46', '19-25', '33-39', '33-39', '33-39', '33-39', '26-32', '33-39', '40-46', '33-39', '26-32', '54-60', '61-67', '33-39', '40-46', '40-46', '40-46', '54-60', '33-39', '40-46', '47-53', '40-46', '26-32', '33-39', '54-60', '40-46', '54-60', '33-39', '47-53', '33-39', '33-39', '54-60', '47-53', '61-67', '40-46', '54-60', '33-39', '26-32', '61-67', '40-46', '61-67', '40-46', '26-32', '40-46', '40-46', '40-46', '61-67', '33-39', '26-32', '61-67', '40-46', '61-67', '26-32', '54-60', '33-39', '54-60', '26-32', '40-46', '47-53', '68-75', '47-53', '26-32', '54-60', '33-39', '26-32', '47-53', '40-46', '33-39', '54-60', '47-53', '26-32', '40-46', '47-53', '40-46', '61-67', '19-25', '33-39', '19-25', '26-32', '47-53', '33-39', '26-32', '47-53', '47-53', '26-32', '33-39', '19-25', '61-67', '61-67', '26-32', '33-39', '26-32', '61-67', '19-25', '40-46', '33-39', '19-25', '26-32', '33-39', '33-39', '47-53', '40-46', '61-67', '33-39', '68-75', '19-25', '68-75', '26-32', '26-32', '54-60', '33-39', '54-60', '33-39', '40-46', '19-25', '40-46', '33-39', '61-67', '33-39', '33-39', '33-39', '40-46', '54-60', '26-32', '54-60', '40-46', '54-60', '47-53', '47-53', '68-75', '40-46', '26-32', '54-60', '33-39', '40-46', '47-53', '40-46', '54-60', '40-46', '26-32', '26-32', '47-53', '40-46', '19-25', '33-39', '61-67', '47-53', '33-39', '33-39', '61-67', '54-60', '54-60', '26-32', '19-25', '47-53', '47-53', '54-60', '26-32', '40-46', '26-32', '26-32', '54-60', '54-60', '40-46', '26-32', '40-46', '40-46', '54-60', '19-25', '54-60', '26-32', '26-32', '19-25', '47-53', '47-53', '40-46', '40-46', '68-75', '19-25', '26-32', '47-53', '47-53', '33-39', '54-60', '33-39', '40-46', '47-53', '61-67', '19-25', '33-39', '33-39', '40-46', '33-39', '33-39', '26-32', '54-60', '26-32', '40-46', '33-39', '54-60', '26-32', '54-60', '33-39', '40-46', '40-46', '40-46', '40-46', '26-32', '47-53', '40-46', '54-60', '40-46', '26-32', '54-60', '26-32', '33-39', '40-46', '47-53', '54-60', '26-32', '54-60', '54-60', '26-32', '54-60', '33-39', '33-39', '33-39', '33-39', '54-60', '19-25', '40-46', '19-25', '40-46', '54-60', '33-39', '54-60', '54-60', '47-53', '40-46', '61-67', '54-60', '33-39', '19-25', '61-67', '68-75', '54-60', '26-32', '33-39', '61-67', '33-39', '54-60', '40-46', '40-46', '47-53', '61-67', '40-46', '40-46', '54-60', '61-67', '47-53', '26-32', '26-32', '61-67', '19-25', '40-46', '61-67', '33-39', '26-32', '54-60', '26-32', '19-25', '47-53', '61-67', '54-60', '33-39', '40-46', '33-39', '47-53', '26-32', '26-32', '40-46', '40-46', '47-53', '54-60', '54-60', '40-46', '26-32', '26-32', '40-46', '40-46', '19-25', '40-46', '54-60', '33-39', '68-75', '26-32', '26-32', '26-32', '54-60', '54-60', '33-39', '61-67', '40-46', '33-39', '33-39', '40-46', '47-53', '40-46', '61-67', '33-39', '26-32', '61-67', '26-32', '26-32', '40-46', '40-46', '40-46', '33-39', '40-46', '33-39', '33-39', '47-53', '47-53', '19-25', '54-60', '33-39', '54-60', '61-67', '33-39', '40-46', '33-39', '40-46', '33-39', '40-46', '26-32', '33-39', '26-32', '54-60', '26-32', '47-53', '47-53', '47-53', '40-46', '40-46', '61-67', '33-39', '33-39', '54-60', '33-39', '54-60', '26-32', '40-46', '33-39', '61-67', '54-60', '61-67', '26-32', '40-46', '61-67', '40-46', '54-60', '47-53', '40-46', '54-60', '26-32', '40-46', '40-46', '26-32', '47-53', '26-32', '40-46', '47-53', '26-32', '54-60', '61-67', '40-46', '61-67', '54-60', '33-39', '54-60', '26-32', '19-25', '19-25', '47-53', '47-53', '47-53', '40-46', '40-46', '47-53', '33-39', '47-53', '40-46', '54-60', '40-46', '40-46', '68-75', '33-39', '26-32', '40-46', '61-67', '33-39', '61-67', '33-39', '40-46', '40-46', '47-53', '33-39', '40-46', '54-60', '33-39', '54-60', '33-39', '19-25', '33-39', '19-25', '26-32', '54-60', '33-39', '33-39', '68-75', '54-60', '40-46', '40-46', '26-32', '54-60', '33-39', '26-32', '33-39', '26-32', '26-32', '54-60', '33-39', '33-39', '47-53', '54-60', '47-53', '47-53', '33-39', '54-60', '40-46', '26-32', '61-67', '61-67', '54-60', '40-46', '33-39', '26-32', '26-32', '33-39', '26-32', '40-46', '40-46', '40-46', '47-53', '19-25', '40-46', '26-32', '33-39', '40-46', '33-39', '33-39', '40-46', '54-60', '47-53', '26-32', '61-67', '47-53', '54-60', '47-53', '26-32', '40-46', '26-32', '54-60', '54-60', '33-39', '26-32', '40-46', '26-32', '33-39', '26-32', '33-39', '54-60', '40-46', '26-32', '19-25', '54-60', '40-46', '33-39', '40-46', '47-53', '33-39', '54-60', '33-39', '47-53', '40-46', '26-32', '26-32', '26-32', '33-39', '61-67', '47-53', '61-67', '40-46', '54-60', '33-39', '54-60', '19-25', '33-39', '26-32', '61-67', '40-46', '40-46', '33-39', '26-32', '33-39', '33-39', '33-39', '26-32', '33-39', '47-53', '33-39', '19-25', '33-39', '61-67', '61-67', '40-46', '54-60', '54-60', '19-25', '33-39', '40-46', '26-32', '40-46', '40-46', '40-46', '47-53', '33-39', '33-39', '26-32', '40-46', '40-46', '47-53', '40-46', '61-67', '61-67', '40-46', '54-60', '40-46', '54-60', '40-46', '61-67', '33-39', '47-53', '54-60', '26-32', '26-32', '26-32', '26-32', '33-39', '33-39', '33-39', '40-46', '26-32', '54-60', '47-53', '47-53', '47-53', '61-67', '61-67', '40-46', '40-46', '33-39', '54-60', '54-60', '33-39', '40-46', '33-39', '26-32', '54-60', '19-25', '33-39', '40-46', '26-32', '26-32', '54-60', '40-46', '47-53', '33-39', '33-39', '47-53', '26-32', '54-60', '33-39', '26-32', '33-39', '26-32', '54-60', '40-46', '47-53', '61-67', '26-32', '26-32', '47-53', '54-60', '47-53', '33-39', '40-46', '40-46', '40-46', '47-53', '54-60', '33-39', '26-32', '47-53', '40-46', '19-25', '26-32', '40-46', '40-46', '26-32', '40-46', '47-53', '40-46', '61-67', '40-46', '33-39', '47-53', '40-46', '40-46', '40-46', '26-32', '47-53', '26-32', '26-32', '40-46', '47-53', '40-46', '33-39', '54-60', '19-25', '33-39', '19-25', '40-46', '54-60', '61-67', '40-46', '47-53', '26-32', '47-53', '40-46', '54-60', '54-60', '33-39', '61-67', '19-25', '47-53', '54-60', '26-32', '54-60', '47-53', '47-53', '26-32', '47-53', '40-46', '47-53', '47-53', '40-46', '54-60', '47-53', '19-25', '33-39', '54-60', '61-67', '54-60', '40-46', '26-32', '26-32', '33-39', '47-53', '40-46', '47-53', '40-46', '26-32', '61-67', '26-32', '26-32', '61-67', '19-25', '33-39', '47-53', '61-67', '33-39', '33-39', '47-53', '40-46', '61-67', '33-39', '61-67', '54-60', '33-39', '47-53', '40-46', '47-53', '54-60', '26-32', '26-32', '54-60', '33-39', '26-32', '33-39', '33-39', '61-67', '33-39', '54-60', '47-53', '40-46', '40-46', '26-32', '19-25', '19-25', '61-67', '54-60', '26-32', '19-25', '54-60', '40-46', '47-53', '61-67', '33-39', '40-46', '33-39', '26-32', '26-32', '19-25', '61-67', '26-32', '40-46', '26-32', '54-60', '54-60', '54-60', '61-67', '33-39', '54-60', '40-46', '54-60', '40-46', '33-39', '54-60', '61-67', '19-25', '33-39', '54-60', '47-53', '54-60', '40-46', '33-39', '40-46', '26-32', '54-60', '40-46', '26-32', '54-60', '26-32', '54-60', '47-53', '33-39', '26-32', '40-46', '33-39', '61-67', '40-46', '54-60', '40-46', '47-53', '26-32', '33-39', '26-32', '54-60', '33-39', '54-60', '26-32', '47-53', '54-60', '47-53', '26-32', '19-25', '40-46', '47-53', '26-32', '47-53', '61-67', '33-39', '47-53', '61-67', '33-39', '47-53', '33-39', '26-32', '61-67', '26-32', '54-60', '47-53', '61-67', '26-32', '33-39', '47-53', '68-75', '54-60', '54-60', '26-32', '54-60', '40-46', '40-46', '33-39', '61-67', '47-53', '33-39', '61-67', '33-39', '19-25', '54-60', '40-46', '54-60', '33-39', '47-53', '33-39', '33-39', '26-32', '19-25', '54-60', '61-67', '33-39', '47-53', '33-39', '40-46', '33-39', '40-46', '19-25', '47-53', '54-60', '33-39', '33-39', '33-39', '47-53', '47-53', '19-25', '61-67', '54-60', '33-39', '40-46', '40-46', '40-46', '47-53', '33-39', '61-67', '33-39', '33-39', '33-39', '61-67', '47-53', '61-67', '40-46', '40-46', '54-60', '47-53', '19-25', '33-39', '54-60', '47-53', '47-53', '33-39', '40-46', '33-39', '26-32', '54-60', '19-25', '33-39', '26-32', '47-53', '33-39', '19-25', '40-46', '61-67', '26-32', '26-32', '47-53', '61-67', '26-32', '33-39', '33-39', '19-25', '54-60', '54-60', '40-46', '40-46', '26-32', '33-39', '33-39', '40-46', '33-39', '19-25', '40-46', '54-60', '54-60', '61-67', '61-67', '61-67', '61-67', '40-46', '33-39', '47-53', '26-32', '26-32', '40-46', '33-39', '33-39', '26-32', '26-32', '33-39', '33-39', '61-67', '40-46', '26-32', '61-67', '33-39', '26-32', '40-46', '47-53', '33-39', '47-53', '61-67', '33-39', '54-60', '33-39', '33-39', '26-32', '54-60', '33-39', '26-32', '40-46', '54-60', '26-32', '26-32', '33-39', '40-46', '33-39', '33-39', '33-39', '26-32', '40-46', '40-46', '26-32', '61-67', '26-32', '47-53', '33-39', '26-32', '33-39', '26-32', '47-53', '40-46', '61-67', '54-60', '33-39', '33-39', '33-39', '47-53', '19-25', '19-25', '26-32', '54-60', '40-46', '54-60', '47-53', '33-39', '33-39', '19-25', '47-53', '54-60', '26-32', '47-53', '47-53', '40-46', '54-60', '19-25', '26-32', '47-53', '47-53', '54-60', '54-60', '47-53', '61-67', '33-39', '40-46', '26-32', '26-32', '33-39', '40-46', '40-46', '26-32', '26-32', '19-25', '40-46', '40-46', '19-25', '40-46', '19-25', '40-46', '61-67', '40-46', '54-60', '40-46', '33-39', '68-75', '40-46', '40-46', '61-67', '26-32', '61-67', '47-53', '47-53', '19-25', '61-67', '26-32', '33-39', '54-60', '33-39', '54-60', '33-39', '26-32', '26-32', '54-60', '47-53', '54-60', '33-39', '33-39', '47-53', '33-39', '54-60', '26-32', '26-32', '40-46', '26-32', '33-39', '33-39', '33-39', '33-39', '40-46', '26-32', '68-75', '40-46', '26-32', '40-46', '26-32', '40-46', '54-60', '54-60', '26-32', '54-60', '47-53', '40-46', '47-53', '26-32', '47-53', '33-39', '40-46', '54-60', '33-39', '61-67', '61-67', '19-25', '54-60', '47-53', '19-25', '26-32', '33-39', '33-39', '33-39', '61-67', '26-32', '33-39', '33-39', '40-46', '33-39', '26-32', '47-53', '61-67', '26-32', '54-60', '40-46', '26-32', '61-67', '61-67', '40-46', '26-32', '47-53', '61-67', '26-32', '26-32', '54-60', '47-53', '61-67', '47-53', '61-67', '40-46', '26-32', '40-46', '26-32', '54-60', '33-39', '33-39', '19-25', '40-46', '47-53', '47-53', '40-46', '47-53', '26-32', '26-32', '47-53', '26-32', '33-39', '47-53', '54-60', '33-39', '40-46', '47-53', '33-39', '40-46', '33-39', '26-32', '54-60', '33-39', '33-39', '33-39', '40-46', '33-39', '33-39', '33-39', '47-53', '26-32', '26-32', '26-32', '47-53', '26-32', '19-25', '68-75', '40-46', '54-60', '54-60', '26-32', '33-39', '40-46', '54-60', '40-46', '47-53', '61-67', '40-46', '54-60', '33-39', '33-39', '54-60', '40-46', '47-53', '47-53', '33-39', '19-25', '40-46', '26-32', '33-39', '33-39', '33-39', '40-46', '61-67', '26-32', '61-67', '26-32', '40-46', '26-32', '61-67', '54-60', '47-53', '33-39', '47-53', '54-60', '40-46', '40-46', '26-32', '33-39', '61-67', '47-53', '19-25', '19-25', '33-39', '26-32', '26-32', '26-32', '47-53', '54-60', '47-53', '19-25', '54-60', '33-39', '26-32', '47-53', '26-32', '47-53', '54-60', '68-75', '54-60', '47-53', '33-39', '26-32', '26-32', '54-60', '26-32', '40-46', '54-60', '47-53', '33-39', '40-46', '47-53', '26-32', '47-53', '33-39', '47-53', '40-46', '33-39', '33-39', '26-32', '54-60', '26-32', '19-25', '33-39', '40-46', '54-60', '33-39', '54-60', '61-67', '54-60', '47-53', '26-32', '40-46', '26-32', '33-39', '47-53', '19-25', '33-39', '54-60', '54-60', '33-39', '61-67', '33-39', '33-39', '26-32', '47-53', '26-32', '40-46', '33-39', '26-32', '33-39', '54-60', '47-53', '33-39', '26-32', '40-46', '19-25', '19-25', '40-46', '61-67', '47-53', '47-53', '54-60', '26-32', '47-53', '40-46', '54-60', '26-32', '47-53', '40-46', '40-46', '54-60', '33-39', '26-32', '54-60', '61-67', '54-60', '40-46', '40-46', '54-60', '26-32', '54-60', '61-67', '61-67', '33-39', '54-60', '40-46', '19-25', '26-32', '61-67', '40-46', '40-46', '40-46', '19-25', '47-53', '61-67', '33-39', '47-53', '54-60', '26-32', '40-46', '47-53', '47-53', '54-60', '40-46', '33-39', '40-46', '33-39', '40-46', '26-32', '26-32', '54-60', '61-67', '40-46', '68-75', '26-32', '68-75', '26-32', '40-46', '33-39', '54-60', '40-46', '40-46', '68-75', '54-60', '54-60', '19-25', '26-32', '19-25', '54-60', '26-32', '33-39', '61-67', '33-39', '47-53', '33-39', '40-46', '33-39', '54-60', '54-60', '54-60', '33-39', '33-39', '33-39', '47-53', '33-39', '40-46', '40-46', '47-53', '26-32', '26-32', '47-53', '40-46', '40-46', '47-53', '61-67', '54-60', '40-46', '26-32', '33-39', '47-53', '54-60', '40-46', '47-53', '33-39', '33-39', '19-25', '61-67', '26-32', '47-53', '33-39', '33-39', '33-39', '33-39', '54-60', '26-32', '33-39', '19-25', '54-60', '26-32', '33-39', '26-32', '47-53', '47-53', '61-67', '47-53', '40-46', '33-39', '47-53', '47-53', '47-53', '47-53', '40-46', '47-53', '33-39', '26-32', '54-60', '40-46', '40-46', '54-60', '26-32', '47-53', '26-32', '26-32', '26-32', '40-46', '40-46', '47-53', '33-39', '54-60', '54-60', '33-39', '54-60', '47-53', '33-39', '54-60', '33-39', '19-25', '40-46', '61-67', '33-39', '47-53', '40-46', '54-60', '61-67', '33-39', '19-25', '40-46', '19-25', '47-53', '19-25', '40-46', '61-67', '33-39', '61-67', '40-46', '47-53', '26-32', '26-32', '40-46', '61-67', '40-46', '26-32', '33-39', '47-53', '26-32', '26-32', '47-53', '54-60', '19-25', '26-32', '61-67', '54-60', '33-39', '19-25', '54-60', '54-60', '26-32', '40-46', '47-53', '47-53', '47-53', '68-75', '26-32', '26-32', '68-75', '54-60', '26-32', '26-32', '40-46', '40-46', '26-32', '54-60', '54-60', '47-53', '40-46', '47-53', '33-39', '61-67', '33-39', '54-60', '54-60', '33-39', '47-53', '47-53', '33-39', '26-32', '26-32', '61-67', '47-53', '47-53', '47-53', '47-53', '40-46', '33-39', '40-46', '33-39', '47-53', '47-53', '26-32', '40-46', '47-53', '54-60', '19-25', '54-60', '47-53', '61-67', '61-67', '19-25', '33-39', '54-60', '54-60', '47-53', '40-46', '54-60', '54-60', '54-60', '40-46', '54-60', '33-39', '33-39', '40-46', '26-32', '61-67', '47-53', '54-60', '54-60', '54-60', '40-46', '33-39', '26-32', '26-32', '40-46', '54-60', '19-25', '26-32', '54-60', '33-39', '33-39', '61-67', '33-39', '40-46', '47-53', '26-32', '19-25', '68-75', '33-39', '33-39', '33-39', '40-46', '61-67', '26-32', '26-32', '26-32', '40-46', '19-25', '33-39', '26-32', '40-46', '33-39', '26-32', '68-75', '68-75', '54-60', '54-60', '26-32', '47-53', '40-46', '54-60', '40-46', '40-46', '54-60', '33-39', '33-39', '54-60', '40-46', '33-39', '54-60', '19-25', '47-53', '54-60', '19-25', '61-67', '40-46', '26-32', '40-46', '54-60', '61-67', '47-53', '19-25', '26-32', '33-39', '40-46', '40-46', '26-32', '33-39', '33-39', '19-25', '54-60', '19-25', '33-39', '26-32', '47-53', '19-25', '33-39', '26-32', '47-53', '47-53', '33-39', '40-46', '26-32', '47-53', '40-46', '61-67', '26-32', '40-46', '33-39', '19-25', '33-39', '40-46', '26-32', '33-39', '33-39', '33-39', '61-67', '54-60', '54-60', '40-46', '54-60', '19-25', '47-53', '61-67', '54-60', '47-53', '47-53', '61-67', '47-53', '33-39', '26-32', '47-53', '40-46', '47-53', '26-32', '33-39', '40-46', '54-60', '26-32', '40-46', '26-32', '40-46', '54-60', '47-53', '26-32', '26-32', '40-46', '54-60', '26-32', '40-46', '26-32', '47-53', '61-67', '40-46', '26-32', '61-67', '47-53', '33-39', '26-32', '54-60', '33-39', '61-67', '19-25', '47-53', '61-67', '68-75', '54-60', '33-39', '19-25', '54-60', '40-46', '40-46', '33-39', '61-67', '26-32', '33-39', '26-32', '40-46', '54-60', '33-39', '54-60', '61-67', '26-32', '33-39', '40-46', '54-60', '47-53', '19-25', '19-25', '61-67', '19-25', '33-39', '33-39', '54-60', '54-60', '47-53', '19-25', '54-60', '47-53', '47-53', '26-32', '40-46', '26-32', '47-53', '40-46', '61-67', '26-32', '33-39', '19-25', '33-39', '19-25', '47-53', '40-46', '61-67', '54-60', '19-25', '54-60', '19-25', '33-39', '26-32', '40-46', '33-39', '40-46', '33-39', '33-39', '19-25', '33-39', '33-39', '54-60', '33-39', '33-39', '54-60', '47-53', '61-67', '40-46', '40-46', '54-60', '33-39', '26-32', '33-39', '47-53', '40-46', '47-53', '54-60', '26-32', '54-60', '26-32', '47-53', '26-32', '33-39', '54-60', '47-53', '33-39', '47-53', '47-53', '26-32', '19-25', '54-60', '47-53', '26-32', '26-32', '54-60', '54-60', '47-53', '19-25', '26-32', '47-53', '33-39', '40-46', '47-53', '26-32', '33-39', '61-67', '40-46', '33-39', '40-46', '33-39', '26-32', '47-53', '33-39', '19-25', '47-53', '33-39', '54-60', '26-32', '47-53', '68-75', '33-39', '26-32', '40-46', '54-60', '19-25', '40-46', '47-53', '40-46', '61-67', '54-60', '61-67', '61-67', '40-46', '40-46', '54-60', '61-67', '26-32', '33-39', '26-32', '33-39', '40-46', '33-39', '19-25', '26-32', '40-46', '61-67', '47-53', '26-32', '47-53', '33-39', '19-25', '68-75', '19-25', '33-39', '54-60', '40-46', '33-39', '33-39', '47-53', '47-53', '26-32', '47-53', '26-32', '40-46', '40-46', '40-46', '54-60', '26-32', '47-53', '33-39', '40-46', '54-60', '33-39', '40-46', '26-32', '19-25', '47-53', '26-32', '33-39', '47-53', '26-32', '26-32', '33-39', '33-39', '26-32', '33-39', '33-39', '47-53', '40-46', '54-60', '19-25', '26-32', '47-53', '47-53', '33-39', '47-53', '19-25', '33-39', '61-67', '26-32', '19-25', '47-53', '26-32', '19-25', '54-60', '54-60', '33-39', '54-60', '33-39', '54-60', '47-53', '26-32', '33-39', '33-39', '61-67', '47-53', '33-39', '54-60', '61-67', '33-39', '54-60', '61-67', '47-53', '40-46', '26-32', '61-67', '47-53', '40-46', '40-46', '33-39', '47-53', '33-39', '47-53', '54-60', '54-60', '26-32', '47-53', '61-67', '47-53', '61-67', '33-39', '47-53', '19-25', '54-60', '47-53', '40-46', '47-53', '19-25', '47-53', '54-60', '54-60', '33-39', '54-60', '33-39', '26-32', '40-46', '26-32', '47-53', '54-60', '47-53', '40-46', '54-60', '40-46', '40-46', '47-53', '40-46', '54-60', '40-46', '26-32', '61-67', '26-32', '61-67', '47-53', '61-67', '47-53', '19-25', '54-60', '33-39', '40-46', '40-46', '26-32', '54-60', '47-53', '54-60', '47-53', '54-60', '54-60', '33-39', '33-39', '33-39', '40-46', '40-46', '40-46', '47-53', '54-60', '68-75', '26-32', '26-32', '47-53', '54-60', '33-39', '54-60', '40-46', '40-46', '61-67', '68-75', '26-32', '33-39', '26-32', '26-32', '47-53', '54-60', '61-67', '26-32', '33-39', '33-39', '54-60', '33-39', '33-39', '33-39', '26-32', '33-39', '40-46', '33-39', '33-39', '26-32', '40-46', '26-32', '54-60', '40-46', '47-53', '40-46', '26-32', '26-32', '26-32', '40-46', '33-39', '33-39', '54-60', '54-60', '33-39', '33-39', '26-32', '26-32', '47-53', '19-25', '33-39', '54-60', '47-53', '54-60', '68-75', '19-25', '40-46', '26-32', '19-25', '54-60', '61-67', '26-32', '33-39', '61-67', '47-53', '26-32', '33-39', '40-46', '19-25', '47-53', '26-32', '47-53', '54-60', '47-53', '26-32', '47-53', '54-60', '61-67', '33-39', '33-39', '33-39', '54-60', '47-53', '19-25', '19-25', '26-32', '26-32', '47-53', '33-39', '40-46', '47-53', '33-39', '26-32', '33-39', '47-53', '33-39', '47-53', '40-46', '33-39', '33-39', '47-53', '40-46', '40-46', '19-25', '54-60', '33-39', '61-67', '26-32', '54-60', '47-53', '19-25', '54-60', '40-46', '19-25', '26-32', '47-53', '40-46', '40-46', '40-46', '54-60', '54-60', '47-53', '40-46', '26-32', '33-39', '26-32', '47-53', '61-67', '33-39', '33-39', '26-32', '40-46', '26-32', '61-67', '61-67', '33-39', '26-32', '61-67', '26-32', '19-25', '26-32', '47-53', '61-67', '40-46', '61-67', '47-53', '33-39', '61-67', '40-46', '47-53', '61-67', '47-53', '54-60', '26-32', '61-67', '26-32', '61-67', '26-32', '40-46', '19-25', '26-32', '33-39', '47-53', '19-25', '47-53', '40-46', '26-32', '40-46', '40-46', '47-53', '40-46', '33-39', '26-32', '40-46', '40-46', '26-32', '26-32', '40-46', '19-25', '19-25', '40-46', '47-53', '33-39', '54-60', '40-46', '54-60', '33-39', '47-53', '33-39', '26-32', '54-60', '40-46', '54-60', '54-60', '33-39', '40-46', '47-53', '47-53', '54-60', '54-60', '33-39', '33-39', '33-39', '61-67', '47-53', '33-39', '61-67', '47-53', '61-67', '47-53', '40-46', '54-60', '47-53', '47-53', '33-39', '26-32', '26-32', '33-39', '33-39', '61-67', '26-32', '26-32', '26-32', '47-53', '26-32', '26-32', '47-53', '40-46', '47-53', '26-32', '47-53', '26-32', '54-60', '33-39', '40-46', '54-60', '61-67', '33-39', '47-53', '47-53', '33-39', '40-46', '68-75', '47-53', '40-46', '47-53', '40-46', '54-60', '54-60', '54-60', '61-67', '54-60', '40-46', '26-32', '40-46', '54-60', '33-39', '26-32', '26-32', '19-25', '47-53', '47-53', '33-39', '19-25', '54-60', '33-39', '26-32', '40-46', '26-32', '40-46', '26-32', '54-60', '47-53', '40-46', '40-46', '26-32', '61-67', '40-46', '40-46', '26-32', '47-53', '47-53', '61-67', '33-39', '40-46', '40-46', '47-53', '54-60', '47-53', '40-46', '40-46', '54-60', '47-53', '47-53', '47-53', '26-32', '47-53', '40-46', '61-67', '40-46', '26-32', '68-75', '26-32', '54-60', '19-25', '33-39', '54-60', '47-53', '40-46', '40-46', '54-60', '40-46', '54-60', '54-60', '54-60', '40-46', '54-60', '26-32', '54-60', '33-39', '54-60', '40-46', '40-46', '47-53', '19-25', '19-25', '40-46', '54-60', '61-67', '40-46', '33-39', '61-67', '26-32', '33-39', '40-46', '54-60', '54-60', '54-60', '61-67', '26-32', '54-60', '47-53', '47-53', '47-53', '26-32', '40-46', '26-32', '54-60', '47-53', '40-46', '54-60', '47-53', '54-60', '33-39', '26-32', '47-53', '19-25', '61-67', '26-32', '26-32', '47-53', '61-67', '26-32', '40-46', '19-25', '40-46', '47-53', '19-25', '47-53', '61-67', '40-46', '26-32', '33-39', '26-32', '47-53', '40-46', '40-46', '47-53', '40-46', '40-46', '47-53', '54-60', '54-60', '33-39', '61-67', '47-53', '47-53', '26-32', '61-67', '33-39', '33-39', '26-32', '47-53', '47-53', '33-39', '19-25', '47-53', '40-46', '33-39', '40-46', '40-46', '54-60', '54-60', '33-39', '54-60', '19-25', '47-53', '40-46', '26-32', '26-32', '33-39', '54-60', '33-39', '54-60', '61-67', '33-39', '47-53', '47-53', '54-60', '61-67', '40-46', '61-67', '26-32', '40-46', '19-25', '54-60', '68-75', '26-32', '26-32', '61-67', '33-39', '33-39', '47-53', '68-75', '47-53', '33-39', '54-60', '26-32', '40-46', '54-60', '26-32', '26-32', '40-46', '40-46', '33-39', '47-53', '47-53', '47-53', '40-46', '40-46', '47-53', '47-53', '47-53', '54-60', '61-67', '33-39', '19-25', '26-32', '47-53', '54-60', '19-25', '47-53', '47-53', '33-39', '26-32', '54-60', '40-46', '47-53', '33-39', '26-32', '40-46', '54-60', '47-53', '40-46', '19-25', '33-39', '26-32', '33-39', '61-67', '33-39', '33-39', '54-60', '68-75', '33-39', '19-25', '33-39', '26-32', '40-46', '19-25', '26-32', '33-39', '61-67', '47-53', '26-32', '33-39', '26-32', '54-60', '47-53', '40-46', '33-39', '47-53', '54-60', '40-46', '33-39', '40-46', '33-39', '61-67', '68-75', '40-46', '54-60', '47-53', '54-60', '26-32', '61-67', '47-53', '47-53', '33-39', '40-46', '61-67', '33-39', '33-39', '40-46', '47-53', '40-46', '19-25', '33-39', '26-32', '26-32', '54-60', '61-67', '61-67', '19-25', '61-67', '40-46', '33-39', '40-46', '61-67', '33-39', '54-60', '26-32', '33-39', '47-53', '40-46', '26-32', '33-39', '47-53', '47-53', '19-25', '40-46', '40-46', '54-60', '26-32', '33-39', '47-53', '54-60', '40-46', '68-75', '47-53', '33-39', '26-32', '68-75', '33-39', '33-39', '40-46', '47-53', '61-67', '61-67', '19-25', '33-39', '33-39', '54-60', '33-39', '33-39', '61-67', '54-60', '47-53', '47-53', '26-32', '54-60', '26-32', '54-60', '54-60', '33-39', '54-60', '33-39', '19-25', '33-39', '61-67', '40-46', '47-53', '40-46', '40-46', '68-75', '47-53', '26-32', '26-32', '26-32', '47-53', '54-60', '61-67', '47-53', '19-25', '26-32', '40-46', '54-60', '26-32', '54-60', '54-60', '61-67', '47-53', '33-39', '47-53', '54-60', '40-46', '40-46', '26-32', '47-53', '47-53', '40-46', '40-46', '33-39', '19-25', '47-53', '40-46', '47-53', '54-60', '33-39', '54-60', '61-67', '33-39', '33-39', '61-67', '26-32', '33-39', '26-32', '26-32', '54-60', '40-46', '26-32', '61-67', '40-46', '47-53', '61-67', '40-46', '47-53', '40-46', '33-39', '54-60', '26-32', '40-46', '26-32', '61-67', '47-53', '54-60', '47-53', '61-67', '33-39', '33-39', '33-39', '54-60', '47-53', '40-46', '47-53', '54-60', '26-32', '47-53', '40-46', '40-46', '33-39', '19-25', '40-46', '26-32', '47-53', '47-53', '54-60', '40-46', '26-32', '54-60', '47-53', '54-60', '40-46', '47-53', '26-32', '26-32', '26-32', '40-46', '26-32', '54-60', '33-39', '26-32', '33-39', '33-39', '19-25', '40-46', '33-39', '40-46', '33-39', '33-39', '54-60', '40-46', '33-39', '54-60', '54-60', '33-39', '47-53', '33-39', '26-32', '19-25', '26-32', '47-53', '47-53', '40-46', '26-32', '33-39', '47-53', '40-46', '40-46', '40-46', '40-46', '26-32', '54-60', '26-32', '40-46', '19-25', '26-32', '54-60', '47-53', '61-67', '47-53', '40-46', '40-46', '33-39', '47-53', '33-39', '54-60', '26-32', '19-25', '40-46', '33-39', '61-67', '47-53', '33-39', '26-32', '40-46', '40-46', '26-32', '47-53', '40-46', '54-60', '40-46', '47-53', '26-32', '40-46', '40-46', '19-25', '33-39', '33-39', '54-60', '40-46', '47-53', '40-46', '47-53', '54-60', '40-46', '33-39', '26-32', '33-39', '47-53', '54-60', '40-46', '40-46', '47-53', '40-46', '33-39', '26-32', '33-39', '47-53', '54-60', '33-39', '33-39', '47-53', '61-67', '47-53', '40-46', '47-53', '40-46', '33-39', '33-39', '47-53', '33-39', '26-32', '47-53', '40-46', '54-60', '61-67', '26-32', '33-39', '54-60', '33-39', '61-67', '33-39', '40-46', '40-46', '61-67', '40-46', '40-46', '40-46', '40-46', '54-60', '47-53', '33-39', '47-53', '47-53', '33-39', '61-67', '19-25', '40-46', '40-46', '26-32', '40-46', '54-60', '54-60', '54-60', '47-53', '26-32', '40-46', '40-46', '54-60', '26-32', '54-60', '68-75', '54-60', '54-60', '33-39', '61-67', '33-39', '61-67', '26-32', '19-25', '26-32', '26-32', '40-46', '54-60', '47-53', '33-39', '26-32', '47-53', '19-25', '54-60', '26-32', '54-60', '40-46', '61-67', '40-46', '26-32', '26-32', '26-32', '26-32', '33-39', '61-67', '61-67', '47-53', '26-32', '33-39', '26-32', '26-32', '54-60', '61-67', '47-53', '33-39', '33-39', '54-60', '47-53', '40-46', '19-25', '26-32', '33-39', '33-39', '40-46', '33-39', '33-39', '40-46', '54-60', '61-67', '54-60', '33-39', '33-39', '33-39', '54-60', '26-32', '33-39', '40-46', '54-60', '26-32', '26-32', '40-46', '33-39', '33-39', '54-60', '26-32', '33-39', '54-60', '47-53', '47-53', '40-46', '54-60', '26-32', '33-39', '26-32', '47-53', '47-53', '47-53', '47-53', '47-53', '33-39', '40-46', '61-67', '33-39', '47-53', '47-53', '26-32', '40-46', '61-67', '40-46', '26-32', '47-53', '40-46', '40-46', '61-67', '19-25', '47-53', '19-25', '19-25', '26-32', '54-60', '40-46', '54-60', '47-53', '47-53', '26-32', '61-67', '26-32', '40-46', '33-39', '40-46', '33-39', '47-53', '26-32', '26-32', '40-46', '61-67', '54-60', '47-53', '40-46', '61-67', '26-32', '61-67', '47-53', '19-25', '61-67', '47-53', '40-46', '54-60', '54-60', '61-67', '19-25', '26-32', '33-39', '40-46', '33-39', '40-46', '47-53', '47-53', '61-67', '54-60', '68-75', '26-32', '33-39', '54-60', '54-60', '40-46', '26-32', '40-46', '54-60', '26-32', '54-60', '54-60', '47-53', '19-25', '19-25', '54-60', '54-60', '54-60', '40-46', '40-46', '40-46', '26-32', '33-39', '61-67', '26-32', '33-39', '47-53', '54-60', '26-32', '19-25', '26-32', '40-46', '26-32', '26-32', '40-46', '26-32', '40-46', '54-60', '33-39', '47-53', '40-46', '47-53', '47-53', '40-46', '61-67', '47-53', '40-46', '54-60', '40-46', '47-53', '33-39', '26-32', '54-60', '40-46', '33-39', '26-32', '26-32', '40-46', '54-60', '40-46', '54-60', '33-39', '54-60', '33-39', '54-60', '33-39', '47-53', '54-60', '47-53', '40-46', '33-39', '47-53', '26-32', '47-53', '33-39', '33-39', '33-39', '33-39', '33-39', '40-46', '54-60', '26-32', '33-39', '54-60', '33-39', '26-32', '33-39', '26-32', '47-53', '47-53', '33-39', '40-46', '54-60', '33-39', '40-46', '47-53', '61-67', '47-53', '26-32', '54-60', '33-39', '33-39', '40-46', '54-60', '40-46', '40-46', '33-39', '40-46', '33-39', '40-46', '33-39', '26-32', '40-46', '47-53', '19-25', '40-46', '26-32', '40-46', '47-53', '40-46', '54-60', '33-39', '54-60', '47-53', '40-46', '26-32', '40-46', '40-46', '40-46', '61-67', '54-60', '33-39', '61-67', '40-46', '47-53', '61-67', '54-60', '47-53', '47-53', '47-53', '40-46', '33-39', '40-46', '54-60', '26-32', '54-60', '40-46', '54-60', '33-39', '33-39', '26-32', '19-25', '33-39', '47-53', '47-53', '40-46', '26-32', '61-67', '61-67', '54-60', '47-53', '26-32', '19-25', '54-60', '19-25', '47-53', '40-46', '26-32', '47-53', '33-39', '54-60', '26-32', '26-32', '40-46', '61-67', '40-46', '54-60', '40-46', '40-46', '33-39', '54-60', '40-46', '54-60', '33-39', '40-46', '54-60', '33-39', '40-46', '47-53', '19-25', '68-75', '40-46', '40-46', '33-39', '26-32', '47-53', '40-46', '47-53', '26-32', '33-39', '26-32', '47-53', '33-39', '33-39', '33-39', '26-32', '47-53', '26-32', '19-25', '47-53', '54-60', '19-25', '40-46', '33-39', '40-46', '61-67', '33-39', '26-32', '47-53', '47-53', '54-60', '26-32', '19-25', '26-32', '40-46', '19-25', '33-39', '47-53', '40-46', '19-25', '40-46', '26-32', '47-53', '61-67', '33-39', '33-39', '19-25', '33-39', '47-53', '26-32', '26-32', '47-53', '33-39', '33-39', '26-32', '26-32', '33-39', '33-39', '19-25', '33-39', '33-39', '40-46', '26-32', '47-53', '54-60', '54-60', '19-25', '26-32', '33-39', '33-39', '40-46', '26-32', '33-39', '33-39', '54-60', '33-39', '33-39', '40-46', '54-60', '33-39', '26-32', '61-67', '26-32', '40-46', '47-53', '47-53', '40-46', '40-46', '61-67', '40-46', '40-46', '33-39', '47-53', '61-67', '40-46', '54-60', '40-46', '40-46', '33-39', '54-60', '40-46', '40-46', '47-53', '33-39', '47-53', '33-39', '40-46', '47-53', '40-46', '40-46', '33-39', '33-39', '47-53', '19-25', '61-67', '47-53', '47-53', '19-25', '33-39', '26-32', '61-67', '33-39', '54-60', '26-32', '54-60', '47-53', '26-32', '26-32', '40-46', '47-53', '54-60', '26-32', '26-32', '40-46', '68-75', '33-39', '47-53', '54-60', '40-46', '47-53', '40-46', '40-46', '19-25', '33-39', '47-53', '47-53', '26-32', '26-32', '40-46', '26-32', '61-67', '26-32', '40-46', '68-75', '26-32', '54-60', '47-53', '61-67', '47-53', '47-53', '54-60', '47-53', '54-60', '26-32', '47-53', '61-67', '61-67', '54-60', '47-53', '26-32', '26-32', '19-25', '47-53', '47-53', '33-39', '33-39', '47-53', '47-53', '26-32', '40-46', '33-39', '40-46', '33-39', '19-25', '61-67', '68-75', '40-46', '47-53', '54-60', '26-32', '33-39', '26-32', '47-53', '33-39', '26-32', '26-32', '40-46', '54-60', '33-39', '26-32', '61-67', '47-53', '33-39', '47-53', '33-39', '26-32', '61-67', '47-53', '54-60', '54-60', '47-53', '54-60', '61-67', '26-32', '19-25', '19-25', '54-60', '26-32', '61-67', '26-32', '54-60', '54-60', '54-60', '61-67', '61-67', '47-53', '47-53', '26-32', '26-32', '47-53', '61-67', '40-46', '33-39', '40-46', '61-67', '26-32', '61-67', '26-32', '61-67', '33-39', '47-53', '33-39', '26-32', '19-25', '26-32', '54-60', '47-53', '26-32', '54-60', '54-60', '40-46', '61-67', '54-60', '33-39', '47-53', '54-60', '61-67', '33-39', '40-46', '40-46', '26-32', '40-46', '26-32', '26-32', '47-53', '47-53', '33-39', '33-39', '19-25', '33-39', '54-60', '47-53', '47-53', '33-39', '47-53', '33-39', '19-25', '54-60', '54-60', '33-39', '19-25', '26-32', '26-32', '33-39', '61-67', '26-32', '19-25', '54-60', '61-67', '26-32', '26-32', '33-39', '54-60', '47-53', '54-60', '61-67', '61-67', '54-60', '26-32', '33-39', '33-39', '61-67', '61-67', '54-60', '40-46', '26-32', '47-53', '61-67', '19-25', '47-53', '40-46', '33-39', '33-39', '47-53', '26-32', '33-39', '19-25', '33-39', '33-39', '33-39', '47-53', '47-53', '40-46', '40-46', '40-46', '33-39', '61-67', '33-39', '26-32', '26-32', '61-67', '33-39', '47-53', '40-46', '54-60', '47-53', '33-39', '54-60', '40-46', '47-53', '54-60', '61-67', '26-32', '33-39', '40-46', '26-32', '47-53', '47-53', '61-67', '68-75', '47-53', '26-32', '68-75', '26-32', '54-60', '47-53', '26-32', '33-39', '40-46', '40-46', '26-32', '26-32', '40-46', '33-39', '54-60', '47-53', '26-32', '26-32', '33-39', '26-32', '26-32', '40-46', '40-46', '33-39', '26-32', '19-25', '40-46', '33-39', '33-39', '54-60', '61-67', '47-53', '26-32', '40-46', '47-53', '47-53', '40-46', '19-25', '40-46', '61-67', '33-39', '47-53', '19-25', '33-39', '47-53', '61-67', '54-60', '33-39', '40-46', '54-60', '33-39', '40-46', '19-25', '54-60', '47-53', '47-53', '54-60', '54-60', '47-53', '47-53', '33-39', '54-60', '47-53', '61-67', '47-53', '33-39', '40-46', '33-39', '33-39', '47-53', '26-32', '61-67', '19-25', '61-67', '40-46', '26-32', '26-32', '26-32', '33-39', '47-53', '47-53', '33-39', '61-67', '26-32', '26-32', '68-75', '33-39', '19-25', '26-32', '54-60', '54-60', '26-32', '47-53', '26-32', '54-60', '54-60', '54-60', '47-53', '54-60', '61-67', '26-32', '47-53', '54-60', '40-46', '26-32', '47-53', '40-46', '47-53', '19-25', '33-39', '47-53', '33-39', '54-60', '19-25', '47-53', '54-60', '61-67', '54-60', '19-25', '33-39', '47-53', '40-46', '26-32', '40-46', '61-67', '47-53', '40-46', '54-60', '54-60', '40-46', '47-53', '47-53', '47-53', '26-32', '61-67', '19-25', '54-60', '54-60', '61-67', '19-25', '61-67', '40-46', '61-67', '47-53', '47-53', '54-60', '33-39', '40-46', '61-67', '40-46', '33-39', '33-39', '61-67', '33-39', '33-39', '40-46', '33-39', '19-25', '47-53', '33-39', '26-32', '54-60', '40-46', '47-53', '54-60', '33-39', '33-39', '26-32', '47-53', '40-46', '26-32', '26-32', '47-53', '33-39', '19-25', '40-46', '40-46', '33-39', '26-32', '33-39', '40-46', '26-32', '54-60', '33-39', '40-46', '33-39', '33-39', '33-39', '47-53', '40-46', '26-32', '47-53', '40-46', '47-53', '40-46', '40-46', '61-67', '54-60', '33-39', '33-39', '47-53', '47-53', '54-60', '47-53', '33-39', '33-39', '61-67', '33-39', '26-32', '40-46', '33-39', '33-39', '33-39', '47-53', '40-46', '61-67', '40-46', '33-39', '54-60', '26-32', '19-25', '47-53', '47-53', '19-25', '33-39', '19-25', '61-67', '47-53', '47-53', '33-39', '54-60', '40-46', '33-39', '26-32', '54-60', '26-32', '40-46', '40-46', '33-39', '54-60', '54-60', '40-46', '26-32', '26-32', '47-53', '33-39', '40-46', '54-60', '26-32', '26-32', '19-25', '54-60', '47-53', '33-39', '33-39', '26-32', '47-53', '26-32', '33-39', '47-53', '33-39', '54-60', '40-46', '33-39', '54-60', '26-32', '26-32', '26-32', '54-60', '47-53', '68-75', '54-60', '54-60', '26-32', '40-46', '54-60', '40-46', '33-39', '40-46', '26-32', '54-60', '19-25', '33-39', '47-53', '40-46', '40-46', '40-46', '54-60', '40-46', '47-53', '26-32', '40-46', '47-53', '61-67', '61-67', '40-46', '54-60', '26-32', '33-39', '33-39', '47-53', '26-32', '40-46', '33-39', '47-53', '47-53', '54-60', '26-32', '40-46', '54-60', '26-32', '54-60', '40-46', '54-60', '68-75', '33-39', '26-32', '26-32', '47-53', '61-67', '33-39', '40-46', '33-39', '33-39', '26-32', '47-53', '33-39', '68-75', '40-46', '47-53', '26-32', '47-53', '54-60', '61-67', '54-60', '26-32', '19-25', '47-53', '26-32', '47-53', '33-39', '40-46', '26-32', '33-39', '33-39', '19-25', '26-32', '47-53', '54-60', '26-32', '26-32', '47-53', '54-60', '47-53', '26-32', '54-60', '47-53', '33-39', '61-67', '26-32', '47-53', '61-67', '61-67', '33-39', '47-53', '33-39', '54-60', '33-39', '47-53', '26-32', '33-39', '61-67', '40-46', '54-60', '54-60', '61-67', '40-46', '33-39', '40-46', '47-53', '47-53', '47-53', '40-46', '40-46', '54-60', '54-60', '40-46', '33-39', '54-60', '33-39', '26-32', '33-39', '19-25', '19-25', '33-39', '40-46', '40-46', '33-39', '40-46', '19-25', '61-67', '54-60', '33-39', '26-32', '26-32', '54-60', '54-60', '19-25', '33-39', '26-32', '19-25', '54-60', '33-39', '68-75', '47-53', '33-39', '54-60', '47-53', '54-60', '40-46', '54-60', '47-53', '47-53', '54-60', '33-39', '61-67', '33-39', '54-60', '47-53', '40-46', '33-39', '40-46', '54-60', '40-46', '54-60', '54-60', '54-60', '61-67', '54-60', '54-60', '26-32', '47-53', '47-53', '61-67', '26-32', '33-39', '19-25', '40-46', '33-39', '47-53', '54-60', '40-46', '40-46', '40-46', '54-60', '61-67', '54-60', '33-39', '47-53', '33-39', '61-67', '54-60', '40-46', '40-46', '47-53', '61-67', '33-39', '33-39', '33-39', '26-32', '26-32', '47-53', '40-46', '40-46', '54-60', '47-53', '40-46', '26-32', '26-32', '40-46', '33-39', '33-39', '19-25', '33-39', '54-60', '47-53', '40-46', '54-60', '54-60', '61-67', '47-53', '40-46', '47-53', '33-39', '61-67', '54-60', '40-46', '40-46', '26-32', '54-60', '47-53', '40-46', '33-39', '33-39', '40-46', '61-67', '40-46', '40-46', '40-46', '33-39', '61-67', '47-53', '33-39', '40-46', '40-46', '47-53', '47-53', '26-32', '26-32', '47-53', '47-53', '54-60', '33-39', '33-39', '40-46', '40-46', '40-46', '54-60', '19-25', '26-32', '33-39', '68-75', '40-46', '40-46', '54-60', '61-67', '33-39', '40-46', '47-53', '33-39', '54-60', '54-60', '47-53', '40-46', '19-25', '33-39', '54-60', '47-53', '40-46', '26-32', '54-60', '33-39', '33-39', '47-53', '33-39', '33-39', '54-60', '26-32', '47-53', '54-60', '26-32', '33-39', '26-32', '47-53', '40-46', '26-32', '26-32', '40-46', '54-60', '33-39', '26-32', '47-53', '33-39', '26-32', '47-53', '54-60', '47-53', '40-46', '40-46', '47-53', '26-32', '26-32', '33-39', '33-39', '47-53', '40-46', '26-32', '40-46', '26-32', '40-46', '33-39', '47-53', '33-39', '33-39', '33-39', '47-53', '33-39', '47-53', '40-46', '54-60', '33-39', '40-46', '47-53', '54-60', '68-75', '47-53', '40-46', '33-39', '33-39', '54-60', '33-39', '26-32', '47-53', '47-53', '61-67', '19-25', '19-25', '54-60', '54-60', '26-32', '19-25', '61-67', '47-53', '33-39', '61-67', '47-53', '33-39', '33-39', '61-67', '54-60', '40-46', '47-53', '40-46', '61-67', '40-46', '54-60', '47-53', '54-60', '61-67', '33-39', '40-46', '68-75', '40-46', '47-53', '40-46', '26-32', '33-39', '40-46', '40-46', '26-32', '33-39', '47-53', '40-46', '26-32', '40-46', '40-46', '61-67', '40-46', '47-53', '47-53', '33-39', '54-60', '33-39', '47-53', '33-39', '26-32', '33-39', '47-53', '40-46', '26-32', '33-39', '33-39', '40-46', '47-53', '33-39', '26-32', '40-46', '40-46', '47-53', '26-32', '54-60', '26-32', '61-67', '40-46', '40-46', '33-39', '47-53', '33-39', '54-60', '26-32', '61-67', '47-53', '26-32', '54-60', '47-53', '33-39', '26-32', '26-32', '40-46', '33-39', '26-32', '26-32', '33-39', '54-60', '47-53', '40-46', '26-32', '33-39', '61-67', '19-25', '47-53', '40-46', '19-25', '54-60', '26-32', '33-39', '54-60', '40-46', '61-67', '68-75', '33-39', '40-46', '47-53', '26-32', '61-67', '33-39', '40-46', '33-39', '47-53', '54-60', '40-46', '47-53', '19-25', '54-60', '54-60', '33-39', '47-53', '54-60', '61-67', '54-60', '26-32', '61-67', '19-25', '19-25', '26-32', '33-39', '47-53', '47-53', '33-39', '40-46', '33-39', '40-46', '40-46', '54-60', '54-60', '19-25', '40-46', '47-53', '61-67', '47-53', '54-60', '26-32', '54-60', '54-60', '40-46', '33-39', '26-32', '68-75', '33-39', '47-53', '33-39', '33-39', '47-53', '47-53', '33-39', '61-67', '26-32', '54-60', '33-39', '47-53', '54-60', '33-39', '26-32', '61-67', '54-60', '19-25', '47-53', '61-67', '47-53', '33-39', '47-53', '26-32', '47-53', '26-32', '40-46', '40-46', '61-67', '33-39', '19-25', '40-46', '61-67', '40-46', '40-46', '26-32', '61-67', '54-60', '33-39', '47-53', '40-46', '33-39', '61-67', '40-46', '26-32', '33-39', '54-60', '40-46', '47-53', '26-32', '19-25', '47-53', '33-39', '47-53', '61-67', '40-46', '40-46', '54-60', '19-25', '33-39', '40-46', '33-39', '33-39', '61-67', '19-25', '40-46', '40-46', '47-53', '54-60', '19-25', '47-53', '26-32', '47-53', '33-39', '54-60', '40-46', '33-39', '19-25', '47-53', '33-39', '54-60', '40-46', '40-46', '33-39', '54-60', '33-39', '47-53', '33-39', '47-53', '47-53', '54-60', '26-32', '26-32', '40-46', '26-32', '19-25', '33-39', '33-39', '54-60', '33-39', '26-32', '33-39', '47-53', '26-32', '26-32', '54-60', '33-39', '33-39', '47-53', '26-32', '47-53', '26-32', '54-60', '26-32', '54-60', '40-46', '54-60', '68-75', '47-53', '33-39', '26-32', '61-67', '54-60', '26-32', '26-32', '26-32', '33-39', '26-32', '26-32', '40-46', '40-46', '54-60', '33-39', '40-46', '61-67', '33-39', '33-39', '40-46']\n"
     ]
    }
   ],
   "source": [
    "# Prueba si la función funciona bien\n",
    "print(cat_age([34]))\n",
    "print(cat_age(df['dob_years']))"
   ]
  },
  {
   "cell_type": "code",
   "execution_count": 149,
   "metadata": {},
   "outputs": [],
   "source": [
    "# Crear una nueva columna basada en la función\n",
    "df['cat_age'] = cat_age(df['dob_years'])\n"
   ]
  },
  {
   "cell_type": "code",
   "execution_count": 150,
   "metadata": {},
   "outputs": [
    {
     "data": {
      "text/html": [
       "<div>\n",
       "<style scoped>\n",
       "    .dataframe tbody tr th:only-of-type {\n",
       "        vertical-align: middle;\n",
       "    }\n",
       "\n",
       "    .dataframe tbody tr th {\n",
       "        vertical-align: top;\n",
       "    }\n",
       "\n",
       "    .dataframe thead th {\n",
       "        text-align: right;\n",
       "    }\n",
       "</style>\n",
       "<table border=\"1\" class=\"dataframe\">\n",
       "  <thead>\n",
       "    <tr style=\"text-align: right;\">\n",
       "      <th></th>\n",
       "      <th>index</th>\n",
       "      <th>children</th>\n",
       "      <th>days_employed</th>\n",
       "      <th>dob_years</th>\n",
       "      <th>education</th>\n",
       "      <th>education_id</th>\n",
       "      <th>family_status</th>\n",
       "      <th>family_status_id</th>\n",
       "      <th>gender</th>\n",
       "      <th>income_type</th>\n",
       "      <th>debt</th>\n",
       "      <th>total_income</th>\n",
       "      <th>purpose</th>\n",
       "      <th>cat_age</th>\n",
       "    </tr>\n",
       "  </thead>\n",
       "  <tbody>\n",
       "    <tr>\n",
       "      <th>0</th>\n",
       "      <td>0</td>\n",
       "      <td>1</td>\n",
       "      <td>8437.673028</td>\n",
       "      <td>42</td>\n",
       "      <td>bachelor's degree</td>\n",
       "      <td>0</td>\n",
       "      <td>married</td>\n",
       "      <td>0</td>\n",
       "      <td>F</td>\n",
       "      <td>employee</td>\n",
       "      <td>0</td>\n",
       "      <td>40620.102</td>\n",
       "      <td>purchase of the house</td>\n",
       "      <td>40-46</td>\n",
       "    </tr>\n",
       "    <tr>\n",
       "      <th>1</th>\n",
       "      <td>1</td>\n",
       "      <td>1</td>\n",
       "      <td>4024.803754</td>\n",
       "      <td>36</td>\n",
       "      <td>secondary education</td>\n",
       "      <td>1</td>\n",
       "      <td>married</td>\n",
       "      <td>0</td>\n",
       "      <td>F</td>\n",
       "      <td>employee</td>\n",
       "      <td>0</td>\n",
       "      <td>17932.802</td>\n",
       "      <td>car purchase</td>\n",
       "      <td>33-39</td>\n",
       "    </tr>\n",
       "    <tr>\n",
       "      <th>2</th>\n",
       "      <td>2</td>\n",
       "      <td>0</td>\n",
       "      <td>5623.422610</td>\n",
       "      <td>33</td>\n",
       "      <td>secondary education</td>\n",
       "      <td>1</td>\n",
       "      <td>married</td>\n",
       "      <td>0</td>\n",
       "      <td>M</td>\n",
       "      <td>employee</td>\n",
       "      <td>0</td>\n",
       "      <td>23341.752</td>\n",
       "      <td>purchase of the house</td>\n",
       "      <td>33-39</td>\n",
       "    </tr>\n",
       "    <tr>\n",
       "      <th>3</th>\n",
       "      <td>3</td>\n",
       "      <td>3</td>\n",
       "      <td>4124.747207</td>\n",
       "      <td>32</td>\n",
       "      <td>secondary education</td>\n",
       "      <td>1</td>\n",
       "      <td>married</td>\n",
       "      <td>0</td>\n",
       "      <td>M</td>\n",
       "      <td>employee</td>\n",
       "      <td>0</td>\n",
       "      <td>42820.568</td>\n",
       "      <td>supplementary education</td>\n",
       "      <td>26-32</td>\n",
       "    </tr>\n",
       "    <tr>\n",
       "      <th>4</th>\n",
       "      <td>4</td>\n",
       "      <td>0</td>\n",
       "      <td>340266.072047</td>\n",
       "      <td>53</td>\n",
       "      <td>secondary education</td>\n",
       "      <td>1</td>\n",
       "      <td>civil partnership</td>\n",
       "      <td>1</td>\n",
       "      <td>F</td>\n",
       "      <td>retiree</td>\n",
       "      <td>0</td>\n",
       "      <td>25378.572</td>\n",
       "      <td>to have a wedding</td>\n",
       "      <td>47-53</td>\n",
       "    </tr>\n",
       "  </tbody>\n",
       "</table>\n",
       "</div>"
      ],
      "text/plain": [
       "   index  children  days_employed  dob_years            education  \\\n",
       "0      0         1    8437.673028         42    bachelor's degree   \n",
       "1      1         1    4024.803754         36  secondary education   \n",
       "2      2         0    5623.422610         33  secondary education   \n",
       "3      3         3    4124.747207         32  secondary education   \n",
       "4      4         0  340266.072047         53  secondary education   \n",
       "\n",
       "   education_id      family_status  family_status_id gender income_type  debt  \\\n",
       "0             0            married                 0      F    employee     0   \n",
       "1             1            married                 0      F    employee     0   \n",
       "2             1            married                 0      M    employee     0   \n",
       "3             1            married                 0      M    employee     0   \n",
       "4             1  civil partnership                 1      F     retiree     0   \n",
       "\n",
       "   total_income                  purpose cat_age  \n",
       "0     40620.102    purchase of the house   40-46  \n",
       "1     17932.802             car purchase   33-39  \n",
       "2     23341.752    purchase of the house   33-39  \n",
       "3     42820.568  supplementary education   26-32  \n",
       "4     25378.572        to have a wedding   47-53  "
      ]
     },
     "execution_count": 150,
     "metadata": {},
     "output_type": "execute_result"
    }
   ],
   "source": [
    "# Comprobar cómo los valores en la nueva columna\n",
    "\n",
    "df.head()"
   ]
  },
  {
   "cell_type": "code",
   "execution_count": 151,
   "metadata": {},
   "outputs": [
    {
     "data": {
      "text/html": [
       "<div>\n",
       "<style scoped>\n",
       "    .dataframe tbody tr th:only-of-type {\n",
       "        vertical-align: middle;\n",
       "    }\n",
       "\n",
       "    .dataframe tbody tr th {\n",
       "        vertical-align: top;\n",
       "    }\n",
       "\n",
       "    .dataframe thead th {\n",
       "        text-align: right;\n",
       "    }\n",
       "</style>\n",
       "<table border=\"1\" class=\"dataframe\">\n",
       "  <thead>\n",
       "    <tr style=\"text-align: right;\">\n",
       "      <th></th>\n",
       "      <th>index</th>\n",
       "      <th>children</th>\n",
       "      <th>days_employed</th>\n",
       "      <th>dob_years</th>\n",
       "      <th>education</th>\n",
       "      <th>education_id</th>\n",
       "      <th>family_status</th>\n",
       "      <th>family_status_id</th>\n",
       "      <th>gender</th>\n",
       "      <th>income_type</th>\n",
       "      <th>debt</th>\n",
       "      <th>total_income</th>\n",
       "      <th>purpose</th>\n",
       "      <th>cat_age</th>\n",
       "    </tr>\n",
       "  </thead>\n",
       "  <tbody>\n",
       "    <tr>\n",
       "      <th>0</th>\n",
       "      <td>0</td>\n",
       "      <td>1</td>\n",
       "      <td>8437.673028</td>\n",
       "      <td>42</td>\n",
       "      <td>bachelor's degree</td>\n",
       "      <td>0</td>\n",
       "      <td>married</td>\n",
       "      <td>0</td>\n",
       "      <td>F</td>\n",
       "      <td>employee</td>\n",
       "      <td>0</td>\n",
       "      <td>40620.102</td>\n",
       "      <td>purchase of the house</td>\n",
       "      <td>40-46</td>\n",
       "    </tr>\n",
       "    <tr>\n",
       "      <th>1</th>\n",
       "      <td>1</td>\n",
       "      <td>1</td>\n",
       "      <td>4024.803754</td>\n",
       "      <td>36</td>\n",
       "      <td>secondary education</td>\n",
       "      <td>1</td>\n",
       "      <td>married</td>\n",
       "      <td>0</td>\n",
       "      <td>F</td>\n",
       "      <td>employee</td>\n",
       "      <td>0</td>\n",
       "      <td>17932.802</td>\n",
       "      <td>car purchase</td>\n",
       "      <td>33-39</td>\n",
       "    </tr>\n",
       "    <tr>\n",
       "      <th>2</th>\n",
       "      <td>2</td>\n",
       "      <td>0</td>\n",
       "      <td>5623.422610</td>\n",
       "      <td>33</td>\n",
       "      <td>secondary education</td>\n",
       "      <td>1</td>\n",
       "      <td>married</td>\n",
       "      <td>0</td>\n",
       "      <td>M</td>\n",
       "      <td>employee</td>\n",
       "      <td>0</td>\n",
       "      <td>23341.752</td>\n",
       "      <td>purchase of the house</td>\n",
       "      <td>33-39</td>\n",
       "    </tr>\n",
       "    <tr>\n",
       "      <th>3</th>\n",
       "      <td>3</td>\n",
       "      <td>3</td>\n",
       "      <td>4124.747207</td>\n",
       "      <td>32</td>\n",
       "      <td>secondary education</td>\n",
       "      <td>1</td>\n",
       "      <td>married</td>\n",
       "      <td>0</td>\n",
       "      <td>M</td>\n",
       "      <td>employee</td>\n",
       "      <td>0</td>\n",
       "      <td>42820.568</td>\n",
       "      <td>supplementary education</td>\n",
       "      <td>26-32</td>\n",
       "    </tr>\n",
       "    <tr>\n",
       "      <th>4</th>\n",
       "      <td>4</td>\n",
       "      <td>0</td>\n",
       "      <td>340266.072047</td>\n",
       "      <td>53</td>\n",
       "      <td>secondary education</td>\n",
       "      <td>1</td>\n",
       "      <td>civil partnership</td>\n",
       "      <td>1</td>\n",
       "      <td>F</td>\n",
       "      <td>retiree</td>\n",
       "      <td>0</td>\n",
       "      <td>25378.572</td>\n",
       "      <td>to have a wedding</td>\n",
       "      <td>47-53</td>\n",
       "    </tr>\n",
       "    <tr>\n",
       "      <th>5</th>\n",
       "      <td>5</td>\n",
       "      <td>0</td>\n",
       "      <td>926.185831</td>\n",
       "      <td>27</td>\n",
       "      <td>bachelor's degree</td>\n",
       "      <td>0</td>\n",
       "      <td>civil partnership</td>\n",
       "      <td>1</td>\n",
       "      <td>M</td>\n",
       "      <td>business</td>\n",
       "      <td>0</td>\n",
       "      <td>40922.170</td>\n",
       "      <td>purchase of the house</td>\n",
       "      <td>26-32</td>\n",
       "    </tr>\n",
       "    <tr>\n",
       "      <th>6</th>\n",
       "      <td>6</td>\n",
       "      <td>0</td>\n",
       "      <td>2879.202052</td>\n",
       "      <td>43</td>\n",
       "      <td>bachelor's degree</td>\n",
       "      <td>0</td>\n",
       "      <td>married</td>\n",
       "      <td>0</td>\n",
       "      <td>F</td>\n",
       "      <td>business</td>\n",
       "      <td>0</td>\n",
       "      <td>38484.156</td>\n",
       "      <td>housing transactions</td>\n",
       "      <td>40-46</td>\n",
       "    </tr>\n",
       "    <tr>\n",
       "      <th>7</th>\n",
       "      <td>7</td>\n",
       "      <td>0</td>\n",
       "      <td>152.779569</td>\n",
       "      <td>50</td>\n",
       "      <td>secondary education</td>\n",
       "      <td>1</td>\n",
       "      <td>married</td>\n",
       "      <td>0</td>\n",
       "      <td>M</td>\n",
       "      <td>employee</td>\n",
       "      <td>0</td>\n",
       "      <td>21731.829</td>\n",
       "      <td>education</td>\n",
       "      <td>47-53</td>\n",
       "    </tr>\n",
       "    <tr>\n",
       "      <th>8</th>\n",
       "      <td>8</td>\n",
       "      <td>2</td>\n",
       "      <td>6929.865299</td>\n",
       "      <td>35</td>\n",
       "      <td>bachelor's degree</td>\n",
       "      <td>0</td>\n",
       "      <td>civil partnership</td>\n",
       "      <td>1</td>\n",
       "      <td>F</td>\n",
       "      <td>employee</td>\n",
       "      <td>0</td>\n",
       "      <td>15337.093</td>\n",
       "      <td>having a wedding</td>\n",
       "      <td>33-39</td>\n",
       "    </tr>\n",
       "    <tr>\n",
       "      <th>9</th>\n",
       "      <td>9</td>\n",
       "      <td>0</td>\n",
       "      <td>2188.756445</td>\n",
       "      <td>41</td>\n",
       "      <td>secondary education</td>\n",
       "      <td>1</td>\n",
       "      <td>married</td>\n",
       "      <td>0</td>\n",
       "      <td>M</td>\n",
       "      <td>employee</td>\n",
       "      <td>0</td>\n",
       "      <td>23108.150</td>\n",
       "      <td>purchase of the house for my family</td>\n",
       "      <td>40-46</td>\n",
       "    </tr>\n",
       "  </tbody>\n",
       "</table>\n",
       "</div>"
      ],
      "text/plain": [
       "   index  children  days_employed  dob_years            education  \\\n",
       "0      0         1    8437.673028         42    bachelor's degree   \n",
       "1      1         1    4024.803754         36  secondary education   \n",
       "2      2         0    5623.422610         33  secondary education   \n",
       "3      3         3    4124.747207         32  secondary education   \n",
       "4      4         0  340266.072047         53  secondary education   \n",
       "5      5         0     926.185831         27    bachelor's degree   \n",
       "6      6         0    2879.202052         43    bachelor's degree   \n",
       "7      7         0     152.779569         50  secondary education   \n",
       "8      8         2    6929.865299         35    bachelor's degree   \n",
       "9      9         0    2188.756445         41  secondary education   \n",
       "\n",
       "   education_id      family_status  family_status_id gender income_type  debt  \\\n",
       "0             0            married                 0      F    employee     0   \n",
       "1             1            married                 0      F    employee     0   \n",
       "2             1            married                 0      M    employee     0   \n",
       "3             1            married                 0      M    employee     0   \n",
       "4             1  civil partnership                 1      F     retiree     0   \n",
       "5             0  civil partnership                 1      M    business     0   \n",
       "6             0            married                 0      F    business     0   \n",
       "7             1            married                 0      M    employee     0   \n",
       "8             0  civil partnership                 1      F    employee     0   \n",
       "9             1            married                 0      M    employee     0   \n",
       "\n",
       "   total_income                              purpose cat_age  \n",
       "0     40620.102                purchase of the house   40-46  \n",
       "1     17932.802                         car purchase   33-39  \n",
       "2     23341.752                purchase of the house   33-39  \n",
       "3     42820.568              supplementary education   26-32  \n",
       "4     25378.572                    to have a wedding   47-53  \n",
       "5     40922.170                purchase of the house   26-32  \n",
       "6     38484.156                 housing transactions   40-46  \n",
       "7     21731.829                            education   47-53  \n",
       "8     15337.093                     having a wedding   33-39  \n",
       "9     23108.150  purchase of the house for my family   40-46  "
      ]
     },
     "execution_count": 151,
     "metadata": {},
     "output_type": "execute_result"
    }
   ],
   "source": [
    "# Crea una tabla sin valores ausentes y muestra algunas de sus filas para asegurarte de que se ve bien\n",
    "df_full = df.dropna()\n",
    "df_full.head(10)"
   ]
  },
  {
   "cell_type": "code",
   "execution_count": 152,
   "metadata": {},
   "outputs": [
    {
     "data": {
      "text/html": [
       "<div>\n",
       "<style scoped>\n",
       "    .dataframe tbody tr th:only-of-type {\n",
       "        vertical-align: middle;\n",
       "    }\n",
       "\n",
       "    .dataframe tbody tr th {\n",
       "        vertical-align: top;\n",
       "    }\n",
       "\n",
       "    .dataframe thead th {\n",
       "        text-align: right;\n",
       "    }\n",
       "</style>\n",
       "<table border=\"1\" class=\"dataframe\">\n",
       "  <thead>\n",
       "    <tr style=\"text-align: right;\">\n",
       "      <th></th>\n",
       "      <th>total_income</th>\n",
       "    </tr>\n",
       "    <tr>\n",
       "      <th>cat_age</th>\n",
       "      <th></th>\n",
       "    </tr>\n",
       "  </thead>\n",
       "  <tbody>\n",
       "    <tr>\n",
       "      <th>19-25</th>\n",
       "      <td>23456.041111</td>\n",
       "    </tr>\n",
       "    <tr>\n",
       "      <th>26-32</th>\n",
       "      <td>27083.822535</td>\n",
       "    </tr>\n",
       "    <tr>\n",
       "      <th>33-39</th>\n",
       "      <td>28681.289008</td>\n",
       "    </tr>\n",
       "    <tr>\n",
       "      <th>40-46</th>\n",
       "      <td>28806.955562</td>\n",
       "    </tr>\n",
       "    <tr>\n",
       "      <th>47-53</th>\n",
       "      <td>27317.070146</td>\n",
       "    </tr>\n",
       "    <tr>\n",
       "      <th>54-60</th>\n",
       "      <td>24823.867419</td>\n",
       "    </tr>\n",
       "    <tr>\n",
       "      <th>61-67</th>\n",
       "      <td>23674.467624</td>\n",
       "    </tr>\n",
       "    <tr>\n",
       "      <th>68-75</th>\n",
       "      <td>20092.058355</td>\n",
       "    </tr>\n",
       "  </tbody>\n",
       "</table>\n",
       "</div>"
      ],
      "text/plain": [
       "         total_income\n",
       "cat_age              \n",
       "19-25    23456.041111\n",
       "26-32    27083.822535\n",
       "33-39    28681.289008\n",
       "40-46    28806.955562\n",
       "47-53    27317.070146\n",
       "54-60    24823.867419\n",
       "61-67    23674.467624\n",
       "68-75    20092.058355"
      ]
     },
     "execution_count": 152,
     "metadata": {},
     "output_type": "execute_result"
    }
   ],
   "source": [
    "# Examina los valores medios de los ingresos en función de los factores que identificaste\n",
    "df_full.pivot_table(index='cat_age', values='total_income', aggfunc='mean')\n",
    "# [Consejo] Esto quedaría mejor dicho como el valor promedio"
   ]
  },
  {
   "cell_type": "code",
   "execution_count": 153,
   "metadata": {
    "scrolled": true
   },
   "outputs": [
    {
     "data": {
      "text/html": [
       "<div>\n",
       "<style scoped>\n",
       "    .dataframe tbody tr th:only-of-type {\n",
       "        vertical-align: middle;\n",
       "    }\n",
       "\n",
       "    .dataframe tbody tr th {\n",
       "        vertical-align: top;\n",
       "    }\n",
       "\n",
       "    .dataframe thead th {\n",
       "        text-align: right;\n",
       "    }\n",
       "</style>\n",
       "<table border=\"1\" class=\"dataframe\">\n",
       "  <thead>\n",
       "    <tr style=\"text-align: right;\">\n",
       "      <th></th>\n",
       "      <th>total_income</th>\n",
       "    </tr>\n",
       "    <tr>\n",
       "      <th>cat_age</th>\n",
       "      <th></th>\n",
       "    </tr>\n",
       "  </thead>\n",
       "  <tbody>\n",
       "    <tr>\n",
       "      <th>19-25</th>\n",
       "      <td>21425.9640</td>\n",
       "    </tr>\n",
       "    <tr>\n",
       "      <th>26-32</th>\n",
       "      <td>23796.6030</td>\n",
       "    </tr>\n",
       "    <tr>\n",
       "      <th>33-39</th>\n",
       "      <td>24902.4190</td>\n",
       "    </tr>\n",
       "    <tr>\n",
       "      <th>40-46</th>\n",
       "      <td>24755.6960</td>\n",
       "    </tr>\n",
       "    <tr>\n",
       "      <th>47-53</th>\n",
       "      <td>23694.0165</td>\n",
       "    </tr>\n",
       "    <tr>\n",
       "      <th>54-60</th>\n",
       "      <td>21638.5550</td>\n",
       "    </tr>\n",
       "    <tr>\n",
       "      <th>61-67</th>\n",
       "      <td>20177.9970</td>\n",
       "    </tr>\n",
       "    <tr>\n",
       "      <th>68-75</th>\n",
       "      <td>18004.9405</td>\n",
       "    </tr>\n",
       "  </tbody>\n",
       "</table>\n",
       "</div>"
      ],
      "text/plain": [
       "         total_income\n",
       "cat_age              \n",
       "19-25      21425.9640\n",
       "26-32      23796.6030\n",
       "33-39      24902.4190\n",
       "40-46      24755.6960\n",
       "47-53      23694.0165\n",
       "54-60      21638.5550\n",
       "61-67      20177.9970\n",
       "68-75      18004.9405"
      ]
     },
     "execution_count": 153,
     "metadata": {},
     "output_type": "execute_result"
    }
   ],
   "source": [
    "# Examina los valores medianos de los ingresos en función de los factores que identificaste\n",
    "df_full.pivot_table(index='cat_age', values='total_income', aggfunc='median')"
   ]
  },
  {
   "cell_type": "code",
   "execution_count": 154,
   "metadata": {},
   "outputs": [
    {
     "data": {
      "text/html": [
       "<div>\n",
       "<style scoped>\n",
       "    .dataframe tbody tr th:only-of-type {\n",
       "        vertical-align: middle;\n",
       "    }\n",
       "\n",
       "    .dataframe tbody tr th {\n",
       "        vertical-align: top;\n",
       "    }\n",
       "\n",
       "    .dataframe thead th {\n",
       "        text-align: right;\n",
       "    }\n",
       "</style>\n",
       "<table border=\"1\" class=\"dataframe\">\n",
       "  <thead>\n",
       "    <tr style=\"text-align: right;\">\n",
       "      <th></th>\n",
       "      <th>count</th>\n",
       "      <th>mean</th>\n",
       "      <th>std</th>\n",
       "      <th>min</th>\n",
       "      <th>25%</th>\n",
       "      <th>50%</th>\n",
       "      <th>75%</th>\n",
       "      <th>max</th>\n",
       "    </tr>\n",
       "    <tr>\n",
       "      <th>cat_age</th>\n",
       "      <th></th>\n",
       "      <th></th>\n",
       "      <th></th>\n",
       "      <th></th>\n",
       "      <th></th>\n",
       "      <th></th>\n",
       "      <th></th>\n",
       "      <th></th>\n",
       "    </tr>\n",
       "  </thead>\n",
       "  <tbody>\n",
       "    <tr>\n",
       "      <th>19-25</th>\n",
       "      <td>1113.0</td>\n",
       "      <td>23456.041111</td>\n",
       "      <td>11365.713431</td>\n",
       "      <td>5220.544</td>\n",
       "      <td>15720.41800</td>\n",
       "      <td>21425.9640</td>\n",
       "      <td>28286.62200</td>\n",
       "      <td>105400.683</td>\n",
       "    </tr>\n",
       "    <tr>\n",
       "      <th>26-32</th>\n",
       "      <td>3221.0</td>\n",
       "      <td>27083.822535</td>\n",
       "      <td>14921.518821</td>\n",
       "      <td>4494.861</td>\n",
       "      <td>17059.80000</td>\n",
       "      <td>23796.6030</td>\n",
       "      <td>32998.15800</td>\n",
       "      <td>159522.288</td>\n",
       "    </tr>\n",
       "    <tr>\n",
       "      <th>33-39</th>\n",
       "      <td>3659.0</td>\n",
       "      <td>28681.289008</td>\n",
       "      <td>18159.253952</td>\n",
       "      <td>3392.845</td>\n",
       "      <td>17702.60300</td>\n",
       "      <td>24902.4190</td>\n",
       "      <td>34770.09300</td>\n",
       "      <td>352136.354</td>\n",
       "    </tr>\n",
       "    <tr>\n",
       "      <th>40-46</th>\n",
       "      <td>3463.0</td>\n",
       "      <td>28806.955562</td>\n",
       "      <td>18951.631121</td>\n",
       "      <td>4036.463</td>\n",
       "      <td>17750.76000</td>\n",
       "      <td>24755.6960</td>\n",
       "      <td>34722.16050</td>\n",
       "      <td>362496.645</td>\n",
       "    </tr>\n",
       "    <tr>\n",
       "      <th>47-53</th>\n",
       "      <td>3078.0</td>\n",
       "      <td>27317.070146</td>\n",
       "      <td>16233.043814</td>\n",
       "      <td>3418.824</td>\n",
       "      <td>16591.66075</td>\n",
       "      <td>23694.0165</td>\n",
       "      <td>33964.54525</td>\n",
       "      <td>195686.797</td>\n",
       "    </tr>\n",
       "    <tr>\n",
       "      <th>54-60</th>\n",
       "      <td>2809.0</td>\n",
       "      <td>24823.867419</td>\n",
       "      <td>14455.192053</td>\n",
       "      <td>3306.762</td>\n",
       "      <td>15355.05600</td>\n",
       "      <td>21638.5550</td>\n",
       "      <td>30638.07800</td>\n",
       "      <td>180613.801</td>\n",
       "    </tr>\n",
       "    <tr>\n",
       "      <th>61-67</th>\n",
       "      <td>1587.0</td>\n",
       "      <td>23674.467624</td>\n",
       "      <td>16051.629882</td>\n",
       "      <td>3503.298</td>\n",
       "      <td>13826.11750</td>\n",
       "      <td>20177.9970</td>\n",
       "      <td>28835.68600</td>\n",
       "      <td>274402.943</td>\n",
       "    </tr>\n",
       "    <tr>\n",
       "      <th>68-75</th>\n",
       "      <td>330.0</td>\n",
       "      <td>20092.058355</td>\n",
       "      <td>11191.968090</td>\n",
       "      <td>3471.216</td>\n",
       "      <td>12464.70450</td>\n",
       "      <td>18004.9405</td>\n",
       "      <td>25203.03325</td>\n",
       "      <td>92991.934</td>\n",
       "    </tr>\n",
       "  </tbody>\n",
       "</table>\n",
       "</div>"
      ],
      "text/plain": [
       "          count          mean           std       min          25%  \\\n",
       "cat_age                                                              \n",
       "19-25    1113.0  23456.041111  11365.713431  5220.544  15720.41800   \n",
       "26-32    3221.0  27083.822535  14921.518821  4494.861  17059.80000   \n",
       "33-39    3659.0  28681.289008  18159.253952  3392.845  17702.60300   \n",
       "40-46    3463.0  28806.955562  18951.631121  4036.463  17750.76000   \n",
       "47-53    3078.0  27317.070146  16233.043814  3418.824  16591.66075   \n",
       "54-60    2809.0  24823.867419  14455.192053  3306.762  15355.05600   \n",
       "61-67    1587.0  23674.467624  16051.629882  3503.298  13826.11750   \n",
       "68-75     330.0  20092.058355  11191.968090  3471.216  12464.70450   \n",
       "\n",
       "                50%          75%         max  \n",
       "cat_age                                       \n",
       "19-25    21425.9640  28286.62200  105400.683  \n",
       "26-32    23796.6030  32998.15800  159522.288  \n",
       "33-39    24902.4190  34770.09300  352136.354  \n",
       "40-46    24755.6960  34722.16050  362496.645  \n",
       "47-53    23694.0165  33964.54525  195686.797  \n",
       "54-60    21638.5550  30638.07800  180613.801  \n",
       "61-67    20177.9970  28835.68600  274402.943  \n",
       "68-75    18004.9405  25203.03325   92991.934  "
      ]
     },
     "execution_count": 154,
     "metadata": {},
     "output_type": "execute_result"
    }
   ],
   "source": [
    "df_full.groupby('cat_age')['total_income'].describe()"
   ]
  },
  {
   "cell_type": "markdown",
   "metadata": {},
   "source": [
    "Se elige por tomar la mediana y no la media para rellenar los valores, pues estos estan distribuidos de manera asimetricas y esto puede deberse a la existencia de datos atipicos."
   ]
  },
  {
   "cell_type": "code",
   "execution_count": 155,
   "metadata": {},
   "outputs": [],
   "source": [
    "#  Escribe una función que usaremos para completar los valores ausentes\n",
    "data_fill_income = df_full.pivot_table(index=['education','cat_age'], columns='income_type', values='total_income', aggfunc='median')\n",
    "def fill_nan_total_income(age, income_type, education):\n",
    "    try:\n",
    "        return data_fill_income[income_type][education][age]\n",
    "    except:\n",
    "        return 'error'\n",
    "    "
   ]
  },
  {
   "cell_type": "code",
   "execution_count": 156,
   "metadata": {
    "scrolled": false
   },
   "outputs": [
    {
     "data": {
      "text/plain": [
       "0    27457.8260\n",
       "1    22342.0250\n",
       "2    22342.0250\n",
       "3    21016.8230\n",
       "4    19022.3005\n",
       "5    31398.8645\n",
       "6    34859.5630\n",
       "7    21642.5510\n",
       "8    27392.4070\n",
       "9    22361.2790\n",
       "dtype: float64"
      ]
     },
     "execution_count": 156,
     "metadata": {},
     "output_type": "execute_result"
    }
   ],
   "source": [
    "# Comprueba si funciona\n",
    "df_income_prom = df.apply(lambda row: fill_nan_total_income(row['cat_age'], row['income_type'], row['education']), axis=1)\n",
    "df_income_prom.head(10)"
   ]
  },
  {
   "cell_type": "code",
   "execution_count": 157,
   "metadata": {},
   "outputs": [],
   "source": [
    "# Aplícalo a cada fila\n",
    "df['total_income'] = df['total_income'].fillna(df_income_prom)"
   ]
  },
  {
   "cell_type": "code",
   "execution_count": 158,
   "metadata": {},
   "outputs": [
    {
     "data": {
      "text/html": [
       "<div>\n",
       "<style scoped>\n",
       "    .dataframe tbody tr th:only-of-type {\n",
       "        vertical-align: middle;\n",
       "    }\n",
       "\n",
       "    .dataframe tbody tr th {\n",
       "        vertical-align: top;\n",
       "    }\n",
       "\n",
       "    .dataframe thead th {\n",
       "        text-align: right;\n",
       "    }\n",
       "</style>\n",
       "<table border=\"1\" class=\"dataframe\">\n",
       "  <thead>\n",
       "    <tr style=\"text-align: right;\">\n",
       "      <th></th>\n",
       "      <th>index</th>\n",
       "      <th>children</th>\n",
       "      <th>days_employed</th>\n",
       "      <th>dob_years</th>\n",
       "      <th>education</th>\n",
       "      <th>education_id</th>\n",
       "      <th>family_status</th>\n",
       "      <th>family_status_id</th>\n",
       "      <th>gender</th>\n",
       "      <th>income_type</th>\n",
       "      <th>debt</th>\n",
       "      <th>total_income</th>\n",
       "      <th>purpose</th>\n",
       "      <th>cat_age</th>\n",
       "    </tr>\n",
       "  </thead>\n",
       "  <tbody>\n",
       "    <tr>\n",
       "      <th>3870</th>\n",
       "      <td>3891</td>\n",
       "      <td>1</td>\n",
       "      <td>NaN</td>\n",
       "      <td>68</td>\n",
       "      <td>some college</td>\n",
       "      <td>2</td>\n",
       "      <td>divorced</td>\n",
       "      <td>3</td>\n",
       "      <td>F</td>\n",
       "      <td>employee</td>\n",
       "      <td>0</td>\n",
       "      <td>NaN</td>\n",
       "      <td>building a property</td>\n",
       "      <td>68-75</td>\n",
       "    </tr>\n",
       "    <tr>\n",
       "      <th>5907</th>\n",
       "      <td>5936</td>\n",
       "      <td>0</td>\n",
       "      <td>NaN</td>\n",
       "      <td>58</td>\n",
       "      <td>bachelor's degree</td>\n",
       "      <td>0</td>\n",
       "      <td>married</td>\n",
       "      <td>0</td>\n",
       "      <td>M</td>\n",
       "      <td>entrepreneur</td>\n",
       "      <td>0</td>\n",
       "      <td>NaN</td>\n",
       "      <td>buy residential real estate</td>\n",
       "      <td>54-60</td>\n",
       "    </tr>\n",
       "    <tr>\n",
       "      <th>8095</th>\n",
       "      <td>8142</td>\n",
       "      <td>0</td>\n",
       "      <td>NaN</td>\n",
       "      <td>64</td>\n",
       "      <td>primary education</td>\n",
       "      <td>3</td>\n",
       "      <td>civil partnership</td>\n",
       "      <td>1</td>\n",
       "      <td>F</td>\n",
       "      <td>civil servant</td>\n",
       "      <td>0</td>\n",
       "      <td>NaN</td>\n",
       "      <td>to have a wedding</td>\n",
       "      <td>61-67</td>\n",
       "    </tr>\n",
       "  </tbody>\n",
       "</table>\n",
       "</div>"
      ],
      "text/plain": [
       "      index  children  days_employed  dob_years          education  \\\n",
       "3870   3891         1            NaN         68       some college   \n",
       "5907   5936         0            NaN         58  bachelor's degree   \n",
       "8095   8142         0            NaN         64  primary education   \n",
       "\n",
       "      education_id      family_status  family_status_id gender    income_type  \\\n",
       "3870             2           divorced                 3      F       employee   \n",
       "5907             0            married                 0      M   entrepreneur   \n",
       "8095             3  civil partnership                 1      F  civil servant   \n",
       "\n",
       "      debt  total_income                      purpose cat_age  \n",
       "3870     0           NaN          building a property   68-75  \n",
       "5907     0           NaN  buy residential real estate   54-60  \n",
       "8095     0           NaN            to have a wedding   61-67  "
      ]
     },
     "execution_count": 158,
     "metadata": {},
     "output_type": "execute_result"
    }
   ],
   "source": [
    "# Comprueba si tenemos algún error\n",
    "df[df['total_income'].isna() == True]"
   ]
  },
  {
   "cell_type": "markdown",
   "metadata": {},
   "source": [
    "Para rellenar estos datos contamos con 3 fuentes de información: `income_type`, `education` y `cat_age`\n",
    "    \n",
    "El problema es que, sea por separado o de manera independiente, obtenemos valores de media y mediana muy diferentes.\n",
    "\n",
    "Para resolver esto, tomaremos la mediana de cada caracteristica y luego el promedio de estos valores. Ese resultado pondremos en el lugar del valor vacío."
   ]
  },
  {
   "cell_type": "code",
   "execution_count": 159,
   "metadata": {},
   "outputs": [],
   "source": [
    "def prom_missing_esp (income_type, education, cat_age):\n",
    "    df_income = df[(df['income_type']==income_type)]['total_income'].median()\n",
    "    df_education = df[(df['education']==education)]['total_income'].median()\n",
    "    df_cat_age = df[(df['cat_age']==cat_age)]['total_income'].median()\n",
    "    valores = np.array([df_income, df_education, df_cat_age])\n",
    "    valores = pd.Series(valores).dropna()\n",
    "    return (sum(valores))/len(valores)"
   ]
  },
  {
   "cell_type": "code",
   "execution_count": 160,
   "metadata": {},
   "outputs": [],
   "source": [
    "# Reemplazar los valores ausentes si hay algún error\n",
    "df_fill_esp = np.array([prom_missing_esp('employee', 'some college', '68-75'), prom_missing_esp('entrepeneur', \"bachelor's degree\", '54-60'), prom_missing_esp('civil servant', 'primary education', '61-67')])\n",
    "df_fill_esp = pd.Series(df_fill_esp)\n",
    "df_fill_esp.index = pd.Series([3870, 5907, 8095])\n",
    "df['total_income'] = df['total_income'].fillna(df_fill_esp)"
   ]
  },
  {
   "cell_type": "code",
   "execution_count": 161,
   "metadata": {},
   "outputs": [
    {
     "name": "stdout",
     "output_type": "stream",
     "text": [
      "<class 'pandas.core.frame.DataFrame'>\n",
      "RangeIndex: 21353 entries, 0 to 21352\n",
      "Data columns (total 14 columns):\n",
      " #   Column            Non-Null Count  Dtype  \n",
      "---  ------            --------------  -----  \n",
      " 0   index             21353 non-null  int64  \n",
      " 1   children          21353 non-null  int64  \n",
      " 2   days_employed     19260 non-null  float64\n",
      " 3   dob_years         21353 non-null  int64  \n",
      " 4   education         21353 non-null  object \n",
      " 5   education_id      21353 non-null  int64  \n",
      " 6   family_status     21353 non-null  object \n",
      " 7   family_status_id  21353 non-null  int64  \n",
      " 8   gender            21353 non-null  object \n",
      " 9   income_type       21353 non-null  object \n",
      " 10  debt              21353 non-null  int64  \n",
      " 11  total_income      21353 non-null  float64\n",
      " 12  purpose           21353 non-null  object \n",
      " 13  cat_age           21353 non-null  object \n",
      "dtypes: float64(2), int64(6), object(6)\n",
      "memory usage: 2.3+ MB\n"
     ]
    }
   ],
   "source": [
    "# Comprobar el número de entradas en las columnas\n",
    "df.info()"
   ]
  },
  {
   "cell_type": "markdown",
   "metadata": {},
   "source": [
    "###  Restaurar valores ausentes en `days_employed`"
   ]
  },
  {
   "cell_type": "code",
   "execution_count": 162,
   "metadata": {
    "pycharm": {
     "name": "#%%\n"
    }
   },
   "outputs": [
    {
     "data": {
      "text/html": [
       "<div>\n",
       "<style scoped>\n",
       "    .dataframe tbody tr th:only-of-type {\n",
       "        vertical-align: middle;\n",
       "    }\n",
       "\n",
       "    .dataframe tbody tr th {\n",
       "        vertical-align: top;\n",
       "    }\n",
       "\n",
       "    .dataframe thead th {\n",
       "        text-align: right;\n",
       "    }\n",
       "</style>\n",
       "<table border=\"1\" class=\"dataframe\">\n",
       "  <thead>\n",
       "    <tr style=\"text-align: right;\">\n",
       "      <th></th>\n",
       "      <th>income_type</th>\n",
       "      <th>business</th>\n",
       "      <th>civil servant</th>\n",
       "      <th>employee</th>\n",
       "      <th>entrepreneur</th>\n",
       "      <th>paternity / maternity leave</th>\n",
       "      <th>retiree</th>\n",
       "      <th>student</th>\n",
       "      <th>unemployed</th>\n",
       "    </tr>\n",
       "    <tr>\n",
       "      <th>education</th>\n",
       "      <th>cat_age</th>\n",
       "      <th></th>\n",
       "      <th></th>\n",
       "      <th></th>\n",
       "      <th></th>\n",
       "      <th></th>\n",
       "      <th></th>\n",
       "      <th></th>\n",
       "      <th></th>\n",
       "    </tr>\n",
       "  </thead>\n",
       "  <tbody>\n",
       "    <tr>\n",
       "      <th rowspan=\"8\" valign=\"top\">bachelor's degree</th>\n",
       "      <th>19-25</th>\n",
       "      <td>749.391880</td>\n",
       "      <td>1189.077092</td>\n",
       "      <td>679.768622</td>\n",
       "      <td>NaN</td>\n",
       "      <td>NaN</td>\n",
       "      <td>NaN</td>\n",
       "      <td>578.751554</td>\n",
       "      <td>NaN</td>\n",
       "    </tr>\n",
       "    <tr>\n",
       "      <th>26-32</th>\n",
       "      <td>1103.291571</td>\n",
       "      <td>1728.914992</td>\n",
       "      <td>1293.919177</td>\n",
       "      <td>520.848083</td>\n",
       "      <td>NaN</td>\n",
       "      <td>389397.167577</td>\n",
       "      <td>NaN</td>\n",
       "      <td>NaN</td>\n",
       "    </tr>\n",
       "    <tr>\n",
       "      <th>33-39</th>\n",
       "      <td>1480.955194</td>\n",
       "      <td>3091.875794</td>\n",
       "      <td>1556.353586</td>\n",
       "      <td>NaN</td>\n",
       "      <td>NaN</td>\n",
       "      <td>383832.244324</td>\n",
       "      <td>NaN</td>\n",
       "      <td>NaN</td>\n",
       "    </tr>\n",
       "    <tr>\n",
       "      <th>40-46</th>\n",
       "      <td>1881.114369</td>\n",
       "      <td>3652.827228</td>\n",
       "      <td>1992.395586</td>\n",
       "      <td>NaN</td>\n",
       "      <td>NaN</td>\n",
       "      <td>353842.669857</td>\n",
       "      <td>NaN</td>\n",
       "      <td>395302.838654</td>\n",
       "    </tr>\n",
       "    <tr>\n",
       "      <th>47-53</th>\n",
       "      <td>1899.135918</td>\n",
       "      <td>4234.340334</td>\n",
       "      <td>2015.058063</td>\n",
       "      <td>NaN</td>\n",
       "      <td>NaN</td>\n",
       "      <td>359808.877082</td>\n",
       "      <td>NaN</td>\n",
       "      <td>NaN</td>\n",
       "    </tr>\n",
       "    <tr>\n",
       "      <th>54-60</th>\n",
       "      <td>2265.592454</td>\n",
       "      <td>4177.551655</td>\n",
       "      <td>2575.977550</td>\n",
       "      <td>NaN</td>\n",
       "      <td>NaN</td>\n",
       "      <td>365574.560175</td>\n",
       "      <td>NaN</td>\n",
       "      <td>NaN</td>\n",
       "    </tr>\n",
       "    <tr>\n",
       "      <th>61-67</th>\n",
       "      <td>2350.897005</td>\n",
       "      <td>4028.109979</td>\n",
       "      <td>3000.270035</td>\n",
       "      <td>NaN</td>\n",
       "      <td>NaN</td>\n",
       "      <td>367857.806545</td>\n",
       "      <td>NaN</td>\n",
       "      <td>NaN</td>\n",
       "    </tr>\n",
       "    <tr>\n",
       "      <th>68-75</th>\n",
       "      <td>10093.858479</td>\n",
       "      <td>5081.419068</td>\n",
       "      <td>3320.715141</td>\n",
       "      <td>NaN</td>\n",
       "      <td>NaN</td>\n",
       "      <td>368893.220123</td>\n",
       "      <td>NaN</td>\n",
       "      <td>NaN</td>\n",
       "    </tr>\n",
       "    <tr>\n",
       "      <th rowspan=\"2\" valign=\"top\">graduate degree</th>\n",
       "      <th>33-39</th>\n",
       "      <td>NaN</td>\n",
       "      <td>5968.075884</td>\n",
       "      <td>2351.431934</td>\n",
       "      <td>NaN</td>\n",
       "      <td>NaN</td>\n",
       "      <td>NaN</td>\n",
       "      <td>NaN</td>\n",
       "      <td>NaN</td>\n",
       "    </tr>\n",
       "    <tr>\n",
       "      <th>40-46</th>\n",
       "      <td>NaN</td>\n",
       "      <td>NaN</td>\n",
       "      <td>409.200149</td>\n",
       "      <td>NaN</td>\n",
       "      <td>NaN</td>\n",
       "      <td>NaN</td>\n",
       "      <td>NaN</td>\n",
       "      <td>NaN</td>\n",
       "    </tr>\n",
       "  </tbody>\n",
       "</table>\n",
       "</div>"
      ],
      "text/plain": [
       "income_type                    business  civil servant     employee  \\\n",
       "education         cat_age                                             \n",
       "bachelor's degree 19-25      749.391880    1189.077092   679.768622   \n",
       "                  26-32     1103.291571    1728.914992  1293.919177   \n",
       "                  33-39     1480.955194    3091.875794  1556.353586   \n",
       "                  40-46     1881.114369    3652.827228  1992.395586   \n",
       "                  47-53     1899.135918    4234.340334  2015.058063   \n",
       "                  54-60     2265.592454    4177.551655  2575.977550   \n",
       "                  61-67     2350.897005    4028.109979  3000.270035   \n",
       "                  68-75    10093.858479    5081.419068  3320.715141   \n",
       "graduate degree   33-39             NaN    5968.075884  2351.431934   \n",
       "                  40-46             NaN            NaN   409.200149   \n",
       "\n",
       "income_type                entrepreneur  paternity / maternity leave  \\\n",
       "education         cat_age                                              \n",
       "bachelor's degree 19-25             NaN                          NaN   \n",
       "                  26-32      520.848083                          NaN   \n",
       "                  33-39             NaN                          NaN   \n",
       "                  40-46             NaN                          NaN   \n",
       "                  47-53             NaN                          NaN   \n",
       "                  54-60             NaN                          NaN   \n",
       "                  61-67             NaN                          NaN   \n",
       "                  68-75             NaN                          NaN   \n",
       "graduate degree   33-39             NaN                          NaN   \n",
       "                  40-46             NaN                          NaN   \n",
       "\n",
       "income_type                      retiree     student     unemployed  \n",
       "education         cat_age                                            \n",
       "bachelor's degree 19-25              NaN  578.751554            NaN  \n",
       "                  26-32    389397.167577         NaN            NaN  \n",
       "                  33-39    383832.244324         NaN            NaN  \n",
       "                  40-46    353842.669857         NaN  395302.838654  \n",
       "                  47-53    359808.877082         NaN            NaN  \n",
       "                  54-60    365574.560175         NaN            NaN  \n",
       "                  61-67    367857.806545         NaN            NaN  \n",
       "                  68-75    368893.220123         NaN            NaN  \n",
       "graduate degree   33-39              NaN         NaN            NaN  \n",
       "                  40-46              NaN         NaN            NaN  "
      ]
     },
     "execution_count": 162,
     "metadata": {},
     "output_type": "execute_result"
    }
   ],
   "source": [
    "# Distribución de las medianas de `days_employed` en función de los parámetros identificados\n",
    "\n",
    "data_fill_days = df_full.pivot_table(index=['education','cat_age'], columns='income_type', values='days_employed', aggfunc='median')\n",
    "data_fill_days.head(10)"
   ]
  },
  {
   "cell_type": "code",
   "execution_count": 163,
   "metadata": {
    "scrolled": true
   },
   "outputs": [
    {
     "data": {
      "text/html": [
       "<div>\n",
       "<style scoped>\n",
       "    .dataframe tbody tr th:only-of-type {\n",
       "        vertical-align: middle;\n",
       "    }\n",
       "\n",
       "    .dataframe tbody tr th {\n",
       "        vertical-align: top;\n",
       "    }\n",
       "\n",
       "    .dataframe thead th {\n",
       "        text-align: right;\n",
       "    }\n",
       "</style>\n",
       "<table border=\"1\" class=\"dataframe\">\n",
       "  <thead>\n",
       "    <tr style=\"text-align: right;\">\n",
       "      <th></th>\n",
       "      <th>income_type</th>\n",
       "      <th>business</th>\n",
       "      <th>civil servant</th>\n",
       "      <th>employee</th>\n",
       "      <th>entrepreneur</th>\n",
       "      <th>paternity / maternity leave</th>\n",
       "      <th>retiree</th>\n",
       "      <th>student</th>\n",
       "      <th>unemployed</th>\n",
       "    </tr>\n",
       "    <tr>\n",
       "      <th>education</th>\n",
       "      <th>cat_age</th>\n",
       "      <th></th>\n",
       "      <th></th>\n",
       "      <th></th>\n",
       "      <th></th>\n",
       "      <th></th>\n",
       "      <th></th>\n",
       "      <th></th>\n",
       "      <th></th>\n",
       "    </tr>\n",
       "  </thead>\n",
       "  <tbody>\n",
       "    <tr>\n",
       "      <th rowspan=\"8\" valign=\"top\">bachelor's degree</th>\n",
       "      <th>19-25</th>\n",
       "      <td>914.240608</td>\n",
       "      <td>1287.416562</td>\n",
       "      <td>836.435145</td>\n",
       "      <td>NaN</td>\n",
       "      <td>NaN</td>\n",
       "      <td>NaN</td>\n",
       "      <td>578.751554</td>\n",
       "      <td>NaN</td>\n",
       "    </tr>\n",
       "    <tr>\n",
       "      <th>26-32</th>\n",
       "      <td>1392.685107</td>\n",
       "      <td>1834.112507</td>\n",
       "      <td>1516.302787</td>\n",
       "      <td>520.848083</td>\n",
       "      <td>NaN</td>\n",
       "      <td>389397.167577</td>\n",
       "      <td>NaN</td>\n",
       "      <td>NaN</td>\n",
       "    </tr>\n",
       "    <tr>\n",
       "      <th>33-39</th>\n",
       "      <td>1894.166166</td>\n",
       "      <td>3170.443936</td>\n",
       "      <td>2169.285458</td>\n",
       "      <td>NaN</td>\n",
       "      <td>NaN</td>\n",
       "      <td>379415.863467</td>\n",
       "      <td>NaN</td>\n",
       "      <td>NaN</td>\n",
       "    </tr>\n",
       "    <tr>\n",
       "      <th>40-46</th>\n",
       "      <td>2282.604049</td>\n",
       "      <td>3945.777064</td>\n",
       "      <td>2753.776240</td>\n",
       "      <td>NaN</td>\n",
       "      <td>NaN</td>\n",
       "      <td>359160.683318</td>\n",
       "      <td>NaN</td>\n",
       "      <td>395302.838654</td>\n",
       "    </tr>\n",
       "    <tr>\n",
       "      <th>47-53</th>\n",
       "      <td>2669.540751</td>\n",
       "      <td>4268.090690</td>\n",
       "      <td>2930.712323</td>\n",
       "      <td>NaN</td>\n",
       "      <td>NaN</td>\n",
       "      <td>362364.352399</td>\n",
       "      <td>NaN</td>\n",
       "      <td>NaN</td>\n",
       "    </tr>\n",
       "    <tr>\n",
       "      <th>54-60</th>\n",
       "      <td>2752.084180</td>\n",
       "      <td>4533.747825</td>\n",
       "      <td>3709.776787</td>\n",
       "      <td>NaN</td>\n",
       "      <td>NaN</td>\n",
       "      <td>365001.504473</td>\n",
       "      <td>NaN</td>\n",
       "      <td>NaN</td>\n",
       "    </tr>\n",
       "    <tr>\n",
       "      <th>61-67</th>\n",
       "      <td>3845.510534</td>\n",
       "      <td>5326.754822</td>\n",
       "      <td>4101.801223</td>\n",
       "      <td>NaN</td>\n",
       "      <td>NaN</td>\n",
       "      <td>366495.696566</td>\n",
       "      <td>NaN</td>\n",
       "      <td>NaN</td>\n",
       "    </tr>\n",
       "    <tr>\n",
       "      <th>68-75</th>\n",
       "      <td>10877.583207</td>\n",
       "      <td>5081.419068</td>\n",
       "      <td>3320.715141</td>\n",
       "      <td>NaN</td>\n",
       "      <td>NaN</td>\n",
       "      <td>366312.145223</td>\n",
       "      <td>NaN</td>\n",
       "      <td>NaN</td>\n",
       "    </tr>\n",
       "    <tr>\n",
       "      <th rowspan=\"5\" valign=\"top\">graduate degree</th>\n",
       "      <th>33-39</th>\n",
       "      <td>NaN</td>\n",
       "      <td>5968.075884</td>\n",
       "      <td>2351.431934</td>\n",
       "      <td>NaN</td>\n",
       "      <td>NaN</td>\n",
       "      <td>NaN</td>\n",
       "      <td>NaN</td>\n",
       "      <td>NaN</td>\n",
       "    </tr>\n",
       "    <tr>\n",
       "      <th>40-46</th>\n",
       "      <td>NaN</td>\n",
       "      <td>NaN</td>\n",
       "      <td>409.200149</td>\n",
       "      <td>NaN</td>\n",
       "      <td>NaN</td>\n",
       "      <td>NaN</td>\n",
       "      <td>NaN</td>\n",
       "      <td>NaN</td>\n",
       "    </tr>\n",
       "    <tr>\n",
       "      <th>54-60</th>\n",
       "      <td>NaN</td>\n",
       "      <td>NaN</td>\n",
       "      <td>5352.038180</td>\n",
       "      <td>NaN</td>\n",
       "      <td>NaN</td>\n",
       "      <td>NaN</td>\n",
       "      <td>NaN</td>\n",
       "      <td>NaN</td>\n",
       "    </tr>\n",
       "    <tr>\n",
       "      <th>61-67</th>\n",
       "      <td>NaN</td>\n",
       "      <td>NaN</td>\n",
       "      <td>NaN</td>\n",
       "      <td>NaN</td>\n",
       "      <td>NaN</td>\n",
       "      <td>376276.219531</td>\n",
       "      <td>NaN</td>\n",
       "      <td>NaN</td>\n",
       "    </tr>\n",
       "    <tr>\n",
       "      <th>68-75</th>\n",
       "      <td>NaN</td>\n",
       "      <td>NaN</td>\n",
       "      <td>NaN</td>\n",
       "      <td>NaN</td>\n",
       "      <td>NaN</td>\n",
       "      <td>337584.815560</td>\n",
       "      <td>NaN</td>\n",
       "      <td>NaN</td>\n",
       "    </tr>\n",
       "    <tr>\n",
       "      <th rowspan=\"8\" valign=\"top\">primary education</th>\n",
       "      <th>19-25</th>\n",
       "      <td>1180.618510</td>\n",
       "      <td>NaN</td>\n",
       "      <td>771.487975</td>\n",
       "      <td>NaN</td>\n",
       "      <td>NaN</td>\n",
       "      <td>NaN</td>\n",
       "      <td>NaN</td>\n",
       "      <td>NaN</td>\n",
       "    </tr>\n",
       "    <tr>\n",
       "      <th>26-32</th>\n",
       "      <td>788.803612</td>\n",
       "      <td>760.901517</td>\n",
       "      <td>1606.314778</td>\n",
       "      <td>NaN</td>\n",
       "      <td>NaN</td>\n",
       "      <td>NaN</td>\n",
       "      <td>NaN</td>\n",
       "      <td>NaN</td>\n",
       "    </tr>\n",
       "    <tr>\n",
       "      <th>33-39</th>\n",
       "      <td>2007.919177</td>\n",
       "      <td>1672.633661</td>\n",
       "      <td>1787.352803</td>\n",
       "      <td>NaN</td>\n",
       "      <td>NaN</td>\n",
       "      <td>377209.008759</td>\n",
       "      <td>NaN</td>\n",
       "      <td>NaN</td>\n",
       "    </tr>\n",
       "    <tr>\n",
       "      <th>40-46</th>\n",
       "      <td>2074.871517</td>\n",
       "      <td>NaN</td>\n",
       "      <td>1731.209871</td>\n",
       "      <td>NaN</td>\n",
       "      <td>NaN</td>\n",
       "      <td>400553.798436</td>\n",
       "      <td>NaN</td>\n",
       "      <td>NaN</td>\n",
       "    </tr>\n",
       "    <tr>\n",
       "      <th>47-53</th>\n",
       "      <td>8366.176768</td>\n",
       "      <td>4193.718465</td>\n",
       "      <td>2093.595098</td>\n",
       "      <td>NaN</td>\n",
       "      <td>NaN</td>\n",
       "      <td>362255.641125</td>\n",
       "      <td>NaN</td>\n",
       "      <td>NaN</td>\n",
       "    </tr>\n",
       "    <tr>\n",
       "      <th>54-60</th>\n",
       "      <td>674.706981</td>\n",
       "      <td>6301.550657</td>\n",
       "      <td>2221.985195</td>\n",
       "      <td>NaN</td>\n",
       "      <td>NaN</td>\n",
       "      <td>358967.816802</td>\n",
       "      <td>NaN</td>\n",
       "      <td>NaN</td>\n",
       "    </tr>\n",
       "    <tr>\n",
       "      <th>61-67</th>\n",
       "      <td>NaN</td>\n",
       "      <td>NaN</td>\n",
       "      <td>3746.319820</td>\n",
       "      <td>NaN</td>\n",
       "      <td>NaN</td>\n",
       "      <td>365655.403064</td>\n",
       "      <td>NaN</td>\n",
       "      <td>NaN</td>\n",
       "    </tr>\n",
       "    <tr>\n",
       "      <th>68-75</th>\n",
       "      <td>NaN</td>\n",
       "      <td>NaN</td>\n",
       "      <td>5159.125702</td>\n",
       "      <td>NaN</td>\n",
       "      <td>NaN</td>\n",
       "      <td>357309.740828</td>\n",
       "      <td>NaN</td>\n",
       "      <td>NaN</td>\n",
       "    </tr>\n",
       "    <tr>\n",
       "      <th rowspan=\"8\" valign=\"top\">secondary education</th>\n",
       "      <th>19-25</th>\n",
       "      <td>847.376020</td>\n",
       "      <td>1248.295551</td>\n",
       "      <td>971.965380</td>\n",
       "      <td>NaN</td>\n",
       "      <td>NaN</td>\n",
       "      <td>334764.259831</td>\n",
       "      <td>NaN</td>\n",
       "      <td>NaN</td>\n",
       "    </tr>\n",
       "    <tr>\n",
       "      <th>26-32</th>\n",
       "      <td>1512.967377</td>\n",
       "      <td>2110.716844</td>\n",
       "      <td>1521.213181</td>\n",
       "      <td>NaN</td>\n",
       "      <td>NaN</td>\n",
       "      <td>352360.516285</td>\n",
       "      <td>NaN</td>\n",
       "      <td>337524.466835</td>\n",
       "    </tr>\n",
       "    <tr>\n",
       "      <th>33-39</th>\n",
       "      <td>2044.837764</td>\n",
       "      <td>2922.602032</td>\n",
       "      <td>2163.331315</td>\n",
       "      <td>NaN</td>\n",
       "      <td>3296.759962</td>\n",
       "      <td>365299.554018</td>\n",
       "      <td>NaN</td>\n",
       "      <td>NaN</td>\n",
       "    </tr>\n",
       "    <tr>\n",
       "      <th>40-46</th>\n",
       "      <td>2351.474149</td>\n",
       "      <td>3874.967615</td>\n",
       "      <td>2592.769009</td>\n",
       "      <td>NaN</td>\n",
       "      <td>NaN</td>\n",
       "      <td>366780.060141</td>\n",
       "      <td>NaN</td>\n",
       "      <td>NaN</td>\n",
       "    </tr>\n",
       "    <tr>\n",
       "      <th>47-53</th>\n",
       "      <td>2818.287155</td>\n",
       "      <td>4484.178291</td>\n",
       "      <td>3070.035368</td>\n",
       "      <td>NaN</td>\n",
       "      <td>NaN</td>\n",
       "      <td>363422.151744</td>\n",
       "      <td>NaN</td>\n",
       "      <td>NaN</td>\n",
       "    </tr>\n",
       "    <tr>\n",
       "      <th>54-60</th>\n",
       "      <td>3088.954417</td>\n",
       "      <td>5433.139276</td>\n",
       "      <td>3281.078242</td>\n",
       "      <td>NaN</td>\n",
       "      <td>NaN</td>\n",
       "      <td>365190.522401</td>\n",
       "      <td>NaN</td>\n",
       "      <td>NaN</td>\n",
       "    </tr>\n",
       "    <tr>\n",
       "      <th>61-67</th>\n",
       "      <td>3425.585257</td>\n",
       "      <td>3806.861470</td>\n",
       "      <td>3789.616642</td>\n",
       "      <td>NaN</td>\n",
       "      <td>NaN</td>\n",
       "      <td>364948.478619</td>\n",
       "      <td>NaN</td>\n",
       "      <td>NaN</td>\n",
       "    </tr>\n",
       "    <tr>\n",
       "      <th>68-75</th>\n",
       "      <td>3091.285431</td>\n",
       "      <td>2692.902159</td>\n",
       "      <td>3841.229788</td>\n",
       "      <td>NaN</td>\n",
       "      <td>NaN</td>\n",
       "      <td>366592.418391</td>\n",
       "      <td>NaN</td>\n",
       "      <td>NaN</td>\n",
       "    </tr>\n",
       "    <tr>\n",
       "      <th rowspan=\"8\" valign=\"top\">some college</th>\n",
       "      <th>19-25</th>\n",
       "      <td>809.803769</td>\n",
       "      <td>833.238083</td>\n",
       "      <td>889.582603</td>\n",
       "      <td>NaN</td>\n",
       "      <td>NaN</td>\n",
       "      <td>NaN</td>\n",
       "      <td>NaN</td>\n",
       "      <td>NaN</td>\n",
       "    </tr>\n",
       "    <tr>\n",
       "      <th>26-32</th>\n",
       "      <td>1207.825400</td>\n",
       "      <td>2214.095278</td>\n",
       "      <td>1376.398688</td>\n",
       "      <td>NaN</td>\n",
       "      <td>NaN</td>\n",
       "      <td>NaN</td>\n",
       "      <td>NaN</td>\n",
       "      <td>NaN</td>\n",
       "    </tr>\n",
       "    <tr>\n",
       "      <th>33-39</th>\n",
       "      <td>1570.051075</td>\n",
       "      <td>2685.604120</td>\n",
       "      <td>1557.479893</td>\n",
       "      <td>NaN</td>\n",
       "      <td>NaN</td>\n",
       "      <td>NaN</td>\n",
       "      <td>NaN</td>\n",
       "      <td>NaN</td>\n",
       "    </tr>\n",
       "    <tr>\n",
       "      <th>40-46</th>\n",
       "      <td>2459.366460</td>\n",
       "      <td>5203.178634</td>\n",
       "      <td>2344.362832</td>\n",
       "      <td>NaN</td>\n",
       "      <td>NaN</td>\n",
       "      <td>335456.416255</td>\n",
       "      <td>NaN</td>\n",
       "      <td>NaN</td>\n",
       "    </tr>\n",
       "    <tr>\n",
       "      <th>47-53</th>\n",
       "      <td>2298.828909</td>\n",
       "      <td>1643.155616</td>\n",
       "      <td>2306.880137</td>\n",
       "      <td>NaN</td>\n",
       "      <td>NaN</td>\n",
       "      <td>368627.214234</td>\n",
       "      <td>NaN</td>\n",
       "      <td>NaN</td>\n",
       "    </tr>\n",
       "    <tr>\n",
       "      <th>54-60</th>\n",
       "      <td>1227.682256</td>\n",
       "      <td>NaN</td>\n",
       "      <td>3282.182544</td>\n",
       "      <td>NaN</td>\n",
       "      <td>NaN</td>\n",
       "      <td>375022.577636</td>\n",
       "      <td>NaN</td>\n",
       "      <td>NaN</td>\n",
       "    </tr>\n",
       "    <tr>\n",
       "      <th>61-67</th>\n",
       "      <td>927.335994</td>\n",
       "      <td>NaN</td>\n",
       "      <td>4823.073458</td>\n",
       "      <td>NaN</td>\n",
       "      <td>NaN</td>\n",
       "      <td>362907.888606</td>\n",
       "      <td>NaN</td>\n",
       "      <td>NaN</td>\n",
       "    </tr>\n",
       "    <tr>\n",
       "      <th>68-75</th>\n",
       "      <td>NaN</td>\n",
       "      <td>NaN</td>\n",
       "      <td>NaN</td>\n",
       "      <td>NaN</td>\n",
       "      <td>NaN</td>\n",
       "      <td>380671.493639</td>\n",
       "      <td>NaN</td>\n",
       "      <td>NaN</td>\n",
       "    </tr>\n",
       "  </tbody>\n",
       "</table>\n",
       "</div>"
      ],
      "text/plain": [
       "income_type                      business  civil servant     employee  \\\n",
       "education           cat_age                                             \n",
       "bachelor's degree   19-25      914.240608    1287.416562   836.435145   \n",
       "                    26-32     1392.685107    1834.112507  1516.302787   \n",
       "                    33-39     1894.166166    3170.443936  2169.285458   \n",
       "                    40-46     2282.604049    3945.777064  2753.776240   \n",
       "                    47-53     2669.540751    4268.090690  2930.712323   \n",
       "                    54-60     2752.084180    4533.747825  3709.776787   \n",
       "                    61-67     3845.510534    5326.754822  4101.801223   \n",
       "                    68-75    10877.583207    5081.419068  3320.715141   \n",
       "graduate degree     33-39             NaN    5968.075884  2351.431934   \n",
       "                    40-46             NaN            NaN   409.200149   \n",
       "                    54-60             NaN            NaN  5352.038180   \n",
       "                    61-67             NaN            NaN          NaN   \n",
       "                    68-75             NaN            NaN          NaN   \n",
       "primary education   19-25     1180.618510            NaN   771.487975   \n",
       "                    26-32      788.803612     760.901517  1606.314778   \n",
       "                    33-39     2007.919177    1672.633661  1787.352803   \n",
       "                    40-46     2074.871517            NaN  1731.209871   \n",
       "                    47-53     8366.176768    4193.718465  2093.595098   \n",
       "                    54-60      674.706981    6301.550657  2221.985195   \n",
       "                    61-67             NaN            NaN  3746.319820   \n",
       "                    68-75             NaN            NaN  5159.125702   \n",
       "secondary education 19-25      847.376020    1248.295551   971.965380   \n",
       "                    26-32     1512.967377    2110.716844  1521.213181   \n",
       "                    33-39     2044.837764    2922.602032  2163.331315   \n",
       "                    40-46     2351.474149    3874.967615  2592.769009   \n",
       "                    47-53     2818.287155    4484.178291  3070.035368   \n",
       "                    54-60     3088.954417    5433.139276  3281.078242   \n",
       "                    61-67     3425.585257    3806.861470  3789.616642   \n",
       "                    68-75     3091.285431    2692.902159  3841.229788   \n",
       "some college        19-25      809.803769     833.238083   889.582603   \n",
       "                    26-32     1207.825400    2214.095278  1376.398688   \n",
       "                    33-39     1570.051075    2685.604120  1557.479893   \n",
       "                    40-46     2459.366460    5203.178634  2344.362832   \n",
       "                    47-53     2298.828909    1643.155616  2306.880137   \n",
       "                    54-60     1227.682256            NaN  3282.182544   \n",
       "                    61-67      927.335994            NaN  4823.073458   \n",
       "                    68-75             NaN            NaN          NaN   \n",
       "\n",
       "income_type                  entrepreneur  paternity / maternity leave  \\\n",
       "education           cat_age                                              \n",
       "bachelor's degree   19-25             NaN                          NaN   \n",
       "                    26-32      520.848083                          NaN   \n",
       "                    33-39             NaN                          NaN   \n",
       "                    40-46             NaN                          NaN   \n",
       "                    47-53             NaN                          NaN   \n",
       "                    54-60             NaN                          NaN   \n",
       "                    61-67             NaN                          NaN   \n",
       "                    68-75             NaN                          NaN   \n",
       "graduate degree     33-39             NaN                          NaN   \n",
       "                    40-46             NaN                          NaN   \n",
       "                    54-60             NaN                          NaN   \n",
       "                    61-67             NaN                          NaN   \n",
       "                    68-75             NaN                          NaN   \n",
       "primary education   19-25             NaN                          NaN   \n",
       "                    26-32             NaN                          NaN   \n",
       "                    33-39             NaN                          NaN   \n",
       "                    40-46             NaN                          NaN   \n",
       "                    47-53             NaN                          NaN   \n",
       "                    54-60             NaN                          NaN   \n",
       "                    61-67             NaN                          NaN   \n",
       "                    68-75             NaN                          NaN   \n",
       "secondary education 19-25             NaN                          NaN   \n",
       "                    26-32             NaN                          NaN   \n",
       "                    33-39             NaN                  3296.759962   \n",
       "                    40-46             NaN                          NaN   \n",
       "                    47-53             NaN                          NaN   \n",
       "                    54-60             NaN                          NaN   \n",
       "                    61-67             NaN                          NaN   \n",
       "                    68-75             NaN                          NaN   \n",
       "some college        19-25             NaN                          NaN   \n",
       "                    26-32             NaN                          NaN   \n",
       "                    33-39             NaN                          NaN   \n",
       "                    40-46             NaN                          NaN   \n",
       "                    47-53             NaN                          NaN   \n",
       "                    54-60             NaN                          NaN   \n",
       "                    61-67             NaN                          NaN   \n",
       "                    68-75             NaN                          NaN   \n",
       "\n",
       "income_type                        retiree     student     unemployed  \n",
       "education           cat_age                                            \n",
       "bachelor's degree   19-25              NaN  578.751554            NaN  \n",
       "                    26-32    389397.167577         NaN            NaN  \n",
       "                    33-39    379415.863467         NaN            NaN  \n",
       "                    40-46    359160.683318         NaN  395302.838654  \n",
       "                    47-53    362364.352399         NaN            NaN  \n",
       "                    54-60    365001.504473         NaN            NaN  \n",
       "                    61-67    366495.696566         NaN            NaN  \n",
       "                    68-75    366312.145223         NaN            NaN  \n",
       "graduate degree     33-39              NaN         NaN            NaN  \n",
       "                    40-46              NaN         NaN            NaN  \n",
       "                    54-60              NaN         NaN            NaN  \n",
       "                    61-67    376276.219531         NaN            NaN  \n",
       "                    68-75    337584.815560         NaN            NaN  \n",
       "primary education   19-25              NaN         NaN            NaN  \n",
       "                    26-32              NaN         NaN            NaN  \n",
       "                    33-39    377209.008759         NaN            NaN  \n",
       "                    40-46    400553.798436         NaN            NaN  \n",
       "                    47-53    362255.641125         NaN            NaN  \n",
       "                    54-60    358967.816802         NaN            NaN  \n",
       "                    61-67    365655.403064         NaN            NaN  \n",
       "                    68-75    357309.740828         NaN            NaN  \n",
       "secondary education 19-25    334764.259831         NaN            NaN  \n",
       "                    26-32    352360.516285         NaN  337524.466835  \n",
       "                    33-39    365299.554018         NaN            NaN  \n",
       "                    40-46    366780.060141         NaN            NaN  \n",
       "                    47-53    363422.151744         NaN            NaN  \n",
       "                    54-60    365190.522401         NaN            NaN  \n",
       "                    61-67    364948.478619         NaN            NaN  \n",
       "                    68-75    366592.418391         NaN            NaN  \n",
       "some college        19-25              NaN         NaN            NaN  \n",
       "                    26-32              NaN         NaN            NaN  \n",
       "                    33-39              NaN         NaN            NaN  \n",
       "                    40-46    335456.416255         NaN            NaN  \n",
       "                    47-53    368627.214234         NaN            NaN  \n",
       "                    54-60    375022.577636         NaN            NaN  \n",
       "                    61-67    362907.888606         NaN            NaN  \n",
       "                    68-75    380671.493639         NaN            NaN  "
      ]
     },
     "execution_count": 163,
     "metadata": {},
     "output_type": "execute_result"
    }
   ],
   "source": [
    "# Distribución de las medias de `days_employed` en función de los parámetros identificados\n",
    "df_full.pivot_table(index=['education','cat_age'], columns='income_type', values='days_employed', aggfunc='mean')"
   ]
  },
  {
   "cell_type": "markdown",
   "metadata": {},
   "source": [
    "\n",
    "Bajo la misma conclusión en `total_income`, utilizaremos las medianas, pues los valores no son simétricos."
   ]
  },
  {
   "cell_type": "code",
   "execution_count": 164,
   "metadata": {},
   "outputs": [],
   "source": [
    "# Escribamos una función que calcule medias o medianas (dependiendo de tu decisión) según el parámetro identificado\n",
    "def fill_nan_total_days(age, income_type, education):\n",
    "    try:\n",
    "        return data_fill_days[income_type][education][age]\n",
    "    except:\n",
    "        return 'error'"
   ]
  },
  {
   "cell_type": "code",
   "execution_count": 165,
   "metadata": {},
   "outputs": [
    {
     "data": {
      "text/plain": [
       "0    27457.8260\n",
       "1    22342.0250\n",
       "2    22342.0250\n",
       "3    21016.8230\n",
       "4    19022.3005\n",
       "5    31398.8645\n",
       "6    34859.5630\n",
       "7    21642.5510\n",
       "8    27392.4070\n",
       "9    22361.2790\n",
       "dtype: float64"
      ]
     },
     "execution_count": 165,
     "metadata": {},
     "output_type": "execute_result"
    }
   ],
   "source": [
    "# Comprueba que la función funciona\n",
    "df_days_prom = df.apply(lambda row: fill_nan_total_income(row['cat_age'], row['income_type'], row['education']), axis=1)\n",
    "df_days_prom.head(10)\n"
   ]
  },
  {
   "cell_type": "code",
   "execution_count": 166,
   "metadata": {},
   "outputs": [],
   "source": [
    "# Aplicar la función al income_type\n",
    "df['days_employed'] = df['days_employed'].fillna(df_days_prom)"
   ]
  },
  {
   "cell_type": "code",
   "execution_count": 167,
   "metadata": {
    "scrolled": true
   },
   "outputs": [
    {
     "data": {
      "text/html": [
       "<div>\n",
       "<style scoped>\n",
       "    .dataframe tbody tr th:only-of-type {\n",
       "        vertical-align: middle;\n",
       "    }\n",
       "\n",
       "    .dataframe tbody tr th {\n",
       "        vertical-align: top;\n",
       "    }\n",
       "\n",
       "    .dataframe thead th {\n",
       "        text-align: right;\n",
       "    }\n",
       "</style>\n",
       "<table border=\"1\" class=\"dataframe\">\n",
       "  <thead>\n",
       "    <tr style=\"text-align: right;\">\n",
       "      <th></th>\n",
       "      <th>index</th>\n",
       "      <th>children</th>\n",
       "      <th>days_employed</th>\n",
       "      <th>dob_years</th>\n",
       "      <th>education</th>\n",
       "      <th>education_id</th>\n",
       "      <th>family_status</th>\n",
       "      <th>family_status_id</th>\n",
       "      <th>gender</th>\n",
       "      <th>income_type</th>\n",
       "      <th>debt</th>\n",
       "      <th>total_income</th>\n",
       "      <th>purpose</th>\n",
       "      <th>cat_age</th>\n",
       "    </tr>\n",
       "  </thead>\n",
       "  <tbody>\n",
       "    <tr>\n",
       "      <th>3870</th>\n",
       "      <td>3891</td>\n",
       "      <td>1</td>\n",
       "      <td>NaN</td>\n",
       "      <td>68</td>\n",
       "      <td>some college</td>\n",
       "      <td>2</td>\n",
       "      <td>divorced</td>\n",
       "      <td>3</td>\n",
       "      <td>F</td>\n",
       "      <td>employee</td>\n",
       "      <td>0</td>\n",
       "      <td>21917.274333</td>\n",
       "      <td>building a property</td>\n",
       "      <td>68-75</td>\n",
       "    </tr>\n",
       "    <tr>\n",
       "      <th>5907</th>\n",
       "      <td>5936</td>\n",
       "      <td>0</td>\n",
       "      <td>NaN</td>\n",
       "      <td>58</td>\n",
       "      <td>bachelor's degree</td>\n",
       "      <td>0</td>\n",
       "      <td>married</td>\n",
       "      <td>0</td>\n",
       "      <td>M</td>\n",
       "      <td>entrepreneur</td>\n",
       "      <td>0</td>\n",
       "      <td>24786.296750</td>\n",
       "      <td>buy residential real estate</td>\n",
       "      <td>54-60</td>\n",
       "    </tr>\n",
       "    <tr>\n",
       "      <th>8095</th>\n",
       "      <td>8142</td>\n",
       "      <td>0</td>\n",
       "      <td>NaN</td>\n",
       "      <td>64</td>\n",
       "      <td>primary education</td>\n",
       "      <td>3</td>\n",
       "      <td>civil partnership</td>\n",
       "      <td>1</td>\n",
       "      <td>F</td>\n",
       "      <td>civil servant</td>\n",
       "      <td>0</td>\n",
       "      <td>20686.096833</td>\n",
       "      <td>to have a wedding</td>\n",
       "      <td>61-67</td>\n",
       "    </tr>\n",
       "  </tbody>\n",
       "</table>\n",
       "</div>"
      ],
      "text/plain": [
       "      index  children  days_employed  dob_years          education  \\\n",
       "3870   3891         1            NaN         68       some college   \n",
       "5907   5936         0            NaN         58  bachelor's degree   \n",
       "8095   8142         0            NaN         64  primary education   \n",
       "\n",
       "      education_id      family_status  family_status_id gender    income_type  \\\n",
       "3870             2           divorced                 3      F       employee   \n",
       "5907             0            married                 0      M   entrepreneur   \n",
       "8095             3  civil partnership                 1      F  civil servant   \n",
       "\n",
       "      debt  total_income                      purpose cat_age  \n",
       "3870     0  21917.274333          building a property   68-75  \n",
       "5907     0  24786.296750  buy residential real estate   54-60  \n",
       "8095     0  20686.096833            to have a wedding   61-67  "
      ]
     },
     "execution_count": 167,
     "metadata": {},
     "output_type": "execute_result"
    }
   ],
   "source": [
    "# Comprueba si la función funcionó\n",
    "df[df['days_employed'].isna() == True]\n"
   ]
  },
  {
   "cell_type": "code",
   "execution_count": 168,
   "metadata": {},
   "outputs": [],
   "source": [
    "def prom_missing_esp_days (income_type, education, cat_age):\n",
    "    df_income = df[(df['income_type']==income_type)]['days_employed'].median()\n",
    "    df_education = df[(df['education']==education)]['days_employed'].median()\n",
    "    df_cat_age = df[(df['cat_age']==cat_age)]['days_employed'].median()\n",
    "    valores = np.array([df_income, df_education, df_cat_age])\n",
    "    valores = pd.Series(valores).dropna()\n",
    "    return (sum(valores))/len(valores)"
   ]
  },
  {
   "cell_type": "code",
   "execution_count": 169,
   "metadata": {},
   "outputs": [],
   "source": [
    "# Reemplazar valores ausentes\n",
    "df_fill_esp = np.array([prom_missing_esp('employee', 'some college', '68-75'), prom_missing_esp('entrepeneur', \"bachelor's degree\", '54-60'), prom_missing_esp('civil servant', 'primary education', '61-67')])\n",
    "df_fill_esp = pd.Series(df_fill_esp)\n",
    "df_fill_esp.index = pd.Series([3870, 5907, 8095])\n",
    "df['days_employed'] = df['days_employed'].fillna(df_fill_esp)\n"
   ]
  },
  {
   "cell_type": "code",
   "execution_count": 170,
   "metadata": {},
   "outputs": [
    {
     "name": "stdout",
     "output_type": "stream",
     "text": [
      "<class 'pandas.core.frame.DataFrame'>\n",
      "RangeIndex: 21353 entries, 0 to 21352\n",
      "Data columns (total 14 columns):\n",
      " #   Column            Non-Null Count  Dtype  \n",
      "---  ------            --------------  -----  \n",
      " 0   index             21353 non-null  int64  \n",
      " 1   children          21353 non-null  int64  \n",
      " 2   days_employed     21353 non-null  float64\n",
      " 3   dob_years         21353 non-null  int64  \n",
      " 4   education         21353 non-null  object \n",
      " 5   education_id      21353 non-null  int64  \n",
      " 6   family_status     21353 non-null  object \n",
      " 7   family_status_id  21353 non-null  int64  \n",
      " 8   gender            21353 non-null  object \n",
      " 9   income_type       21353 non-null  object \n",
      " 10  debt              21353 non-null  int64  \n",
      " 11  total_income      21353 non-null  float64\n",
      " 12  purpose           21353 non-null  object \n",
      " 13  cat_age           21353 non-null  object \n",
      "dtypes: float64(2), int64(6), object(6)\n",
      "memory usage: 2.3+ MB\n"
     ]
    }
   ],
   "source": [
    "# Comprueba las entradas en todas las columnas: asegúrate de que hayamos corregido todos los valores ausentes\n",
    "df.info()"
   ]
  },
  {
   "cell_type": "markdown",
   "metadata": {},
   "source": [
    "## Clasificación de datos\n",
    "\n",
    "En pos de la eficiencia, comenzaré a comparar y analizar los datos directamente. Sin dividirlos en 2 secciones, textuales y númericas. Para esto comenzaremos aislando las columnas que necesitamos."
   ]
  },
  {
   "cell_type": "code",
   "execution_count": 171,
   "metadata": {
    "scrolled": true
   },
   "outputs": [
    {
     "data": {
      "text/html": [
       "<div>\n",
       "<style scoped>\n",
       "    .dataframe tbody tr th:only-of-type {\n",
       "        vertical-align: middle;\n",
       "    }\n",
       "\n",
       "    .dataframe tbody tr th {\n",
       "        vertical-align: top;\n",
       "    }\n",
       "\n",
       "    .dataframe thead th {\n",
       "        text-align: right;\n",
       "    }\n",
       "</style>\n",
       "<table border=\"1\" class=\"dataframe\">\n",
       "  <thead>\n",
       "    <tr style=\"text-align: right;\">\n",
       "      <th></th>\n",
       "      <th>children</th>\n",
       "      <th>family_status</th>\n",
       "      <th>family_status_id</th>\n",
       "      <th>debt</th>\n",
       "      <th>total_income</th>\n",
       "      <th>purpose</th>\n",
       "    </tr>\n",
       "  </thead>\n",
       "  <tbody>\n",
       "    <tr>\n",
       "      <th>0</th>\n",
       "      <td>1</td>\n",
       "      <td>married</td>\n",
       "      <td>0</td>\n",
       "      <td>0</td>\n",
       "      <td>40620.102</td>\n",
       "      <td>purchase of the house</td>\n",
       "    </tr>\n",
       "    <tr>\n",
       "      <th>1</th>\n",
       "      <td>1</td>\n",
       "      <td>married</td>\n",
       "      <td>0</td>\n",
       "      <td>0</td>\n",
       "      <td>17932.802</td>\n",
       "      <td>car purchase</td>\n",
       "    </tr>\n",
       "    <tr>\n",
       "      <th>2</th>\n",
       "      <td>0</td>\n",
       "      <td>married</td>\n",
       "      <td>0</td>\n",
       "      <td>0</td>\n",
       "      <td>23341.752</td>\n",
       "      <td>purchase of the house</td>\n",
       "    </tr>\n",
       "    <tr>\n",
       "      <th>3</th>\n",
       "      <td>3</td>\n",
       "      <td>married</td>\n",
       "      <td>0</td>\n",
       "      <td>0</td>\n",
       "      <td>42820.568</td>\n",
       "      <td>supplementary education</td>\n",
       "    </tr>\n",
       "    <tr>\n",
       "      <th>4</th>\n",
       "      <td>0</td>\n",
       "      <td>civil partnership</td>\n",
       "      <td>1</td>\n",
       "      <td>0</td>\n",
       "      <td>25378.572</td>\n",
       "      <td>to have a wedding</td>\n",
       "    </tr>\n",
       "    <tr>\n",
       "      <th>5</th>\n",
       "      <td>0</td>\n",
       "      <td>civil partnership</td>\n",
       "      <td>1</td>\n",
       "      <td>0</td>\n",
       "      <td>40922.170</td>\n",
       "      <td>purchase of the house</td>\n",
       "    </tr>\n",
       "    <tr>\n",
       "      <th>6</th>\n",
       "      <td>0</td>\n",
       "      <td>married</td>\n",
       "      <td>0</td>\n",
       "      <td>0</td>\n",
       "      <td>38484.156</td>\n",
       "      <td>housing transactions</td>\n",
       "    </tr>\n",
       "    <tr>\n",
       "      <th>7</th>\n",
       "      <td>0</td>\n",
       "      <td>married</td>\n",
       "      <td>0</td>\n",
       "      <td>0</td>\n",
       "      <td>21731.829</td>\n",
       "      <td>education</td>\n",
       "    </tr>\n",
       "    <tr>\n",
       "      <th>8</th>\n",
       "      <td>2</td>\n",
       "      <td>civil partnership</td>\n",
       "      <td>1</td>\n",
       "      <td>0</td>\n",
       "      <td>15337.093</td>\n",
       "      <td>having a wedding</td>\n",
       "    </tr>\n",
       "    <tr>\n",
       "      <th>9</th>\n",
       "      <td>0</td>\n",
       "      <td>married</td>\n",
       "      <td>0</td>\n",
       "      <td>0</td>\n",
       "      <td>23108.150</td>\n",
       "      <td>purchase of the house for my family</td>\n",
       "    </tr>\n",
       "  </tbody>\n",
       "</table>\n",
       "</div>"
      ],
      "text/plain": [
       "   children      family_status  family_status_id  debt  total_income  \\\n",
       "0         1            married                 0     0     40620.102   \n",
       "1         1            married                 0     0     17932.802   \n",
       "2         0            married                 0     0     23341.752   \n",
       "3         3            married                 0     0     42820.568   \n",
       "4         0  civil partnership                 1     0     25378.572   \n",
       "5         0  civil partnership                 1     0     40922.170   \n",
       "6         0            married                 0     0     38484.156   \n",
       "7         0            married                 0     0     21731.829   \n",
       "8         2  civil partnership                 1     0     15337.093   \n",
       "9         0            married                 0     0     23108.150   \n",
       "\n",
       "                               purpose  \n",
       "0                purchase of the house  \n",
       "1                         car purchase  \n",
       "2                purchase of the house  \n",
       "3              supplementary education  \n",
       "4                    to have a wedding  \n",
       "5                purchase of the house  \n",
       "6                 housing transactions  \n",
       "7                            education  \n",
       "8                     having a wedding  \n",
       "9  purchase of the house for my family  "
      ]
     },
     "execution_count": 171,
     "metadata": {},
     "output_type": "execute_result"
    }
   ],
   "source": [
    "# Muestra los valores de los datos seleccionados para la clasificación\n",
    "\n",
    "df_selec = df.loc[:,['children', 'family_status', 'family_status_id', 'debt', 'total_income', 'purpose']]\n",
    "df_selec.head(10)"
   ]
  },
  {
   "cell_type": "markdown",
   "metadata": {},
   "source": [
    "Comprobaremos cada columna y veremos los valores únicos y su distribución al mismo tiempo."
   ]
  },
  {
   "cell_type": "code",
   "execution_count": 172,
   "metadata": {
    "scrolled": false
   },
   "outputs": [
    {
     "data": {
      "text/plain": [
       "array([[<AxesSubplot:title={'center':'family_status_id'}>]], dtype=object)"
      ]
     },
     "execution_count": 172,
     "metadata": {},
     "output_type": "execute_result"
    },
    {
     "data": {
      "image/png": "[encoded data removed]",
      "text/plain": [
       "<Figure size 432x288 with 1 Axes>"
      ]
     },
     "metadata": {
      "needs_background": "light"
     },
     "output_type": "display_data"
    }
   ],
   "source": [
    "df_selec.hist('family_status_id')"
   ]
  },
  {
   "cell_type": "code",
   "execution_count": 173,
   "metadata": {},
   "outputs": [
    {
     "name": "stdout",
     "output_type": "stream",
     "text": [
      "       family_status  family_status_id\n",
      "0            married                 0\n",
      "1  civil partnership                 1\n",
      "2    widow / widower                 2\n",
      "3           divorced                 3\n",
      "4          unmarried                 4\n"
     ]
    }
   ],
   "source": [
    "print(df_ref_fam.sort_values(by = 'family_status_id'))"
   ]
  },
  {
   "cell_type": "code",
   "execution_count": 174,
   "metadata": {
    "scrolled": true
   },
   "outputs": [
    {
     "data": {
      "text/plain": [
       "array([[<AxesSubplot:title={'center':'children'}>]], dtype=object)"
      ]
     },
     "execution_count": 174,
     "metadata": {},
     "output_type": "execute_result"
    },
    {
     "data": {
      "image/png": "[encoded data removed]",
      "text/plain": [
       "<Figure size 432x288 with 1 Axes>"
      ]
     },
     "metadata": {
      "needs_background": "light"
     },
     "output_type": "display_data"
    }
   ],
   "source": [
    "df_selec.hist('children')"
   ]
  },
  {
   "cell_type": "code",
   "execution_count": 175,
   "metadata": {},
   "outputs": [
    {
     "data": {
      "text/plain": [
       "count     21353.000000\n",
       "mean      26487.332617\n",
       "std       15750.249682\n",
       "min        3306.762000\n",
       "25%       17188.946000\n",
       "50%       22928.453000\n",
       "75%       31610.498000\n",
       "max      362496.645000\n",
       "Name: total_income, dtype: float64"
      ]
     },
     "execution_count": 175,
     "metadata": {},
     "output_type": "execute_result"
    }
   ],
   "source": [
    "df_selec['total_income'].describe()\n",
    "# Esta columna tiene demasiados valores únicos, por lo que en vez de eso, buscamos una rápida explicación estadística con el metodo `describe()`"
   ]
  },
  {
   "cell_type": "code",
   "execution_count": 176,
   "metadata": {},
   "outputs": [
    {
     "data": {
      "text/plain": [
       "array([[<AxesSubplot:title={'center':'debt'}>]], dtype=object)"
      ]
     },
     "execution_count": 176,
     "metadata": {},
     "output_type": "execute_result"
    },
    {
     "data": {
      "image/png": "[encoded data removed]",
      "text/plain": [
       "<Figure size 432x288 with 1 Axes>"
      ]
     },
     "metadata": {
      "needs_background": "light"
     },
     "output_type": "display_data"
    }
   ],
   "source": [
    "df_selec.hist('debt')"
   ]
  },
  {
   "cell_type": "markdown",
   "metadata": {},
   "source": [
    "Considerar que el valor 1 significa que el cliente ha incumplido alguna vez un préstamo"
   ]
  },
  {
   "cell_type": "markdown",
   "metadata": {},
   "source": [
    "\n",
    "Puedo ver que la mayoría de las tienden a caer en ciertas categorías. Por ejemplo, estos datos me dicen que habrá un gran número de personas casadas, sin hijos y con un historial de préstamo limpio.\n",
    "\n",
    "Además de esto, tenemos la columna `purpose` que reorganizaremos paraa tener una mejor idea de las razones para los préstamos."
   ]
  },
  {
   "cell_type": "code",
   "execution_count": 177,
   "metadata": {
    "scrolled": false
   },
   "outputs": [
    {
     "data": {
      "text/plain": [
       "array(['purchase of the house', 'car purchase', 'supplementary education',\n",
       "       'to have a wedding', 'housing transactions', 'education',\n",
       "       'having a wedding', 'purchase of the house for my family',\n",
       "       'buy real estate', 'buy commercial real estate',\n",
       "       'buy residential real estate', 'construction of own property',\n",
       "       'property', 'building a property', 'buying a second-hand car',\n",
       "       'buying my own car', 'transactions with commercial real estate',\n",
       "       'building a real estate', 'housing',\n",
       "       'transactions with my real estate', 'cars', 'to become educated',\n",
       "       'second-hand car purchase', 'getting an education', 'car',\n",
       "       'wedding ceremony', 'to get a supplementary education',\n",
       "       'purchase of my own house', 'real estate transactions',\n",
       "       'getting higher education', 'to own a car', 'purchase of a car',\n",
       "       'profile education', 'university education',\n",
       "       'buying property for renting out', 'to buy a car',\n",
       "       'housing renovation', 'going to university'], dtype=object)"
      ]
     },
     "execution_count": 177,
     "metadata": {},
     "output_type": "execute_result"
    }
   ],
   "source": [
    "df_selec['purpose'].unique()"
   ]
  },
  {
   "cell_type": "code",
   "execution_count": 178,
   "metadata": {},
   "outputs": [],
   "source": [
    "# Escribamos una función para clasificar los datos en función de temas comunes\n",
    "\n",
    "def sust_proposito(valor):\n",
    "    if 'car' in valor:\n",
    "        return 'car'\n",
    "    elif 'house' in valor:\n",
    "        return 'real estate'\n",
    "    elif 'real estate' in valor:\n",
    "        return 'real estate'\n",
    "    elif 'educat' in valor: \n",
    "    # Usamos la parte de la palabra que es comun a todas sus formas (Ej: education, educated)\n",
    "        return 'education'\n",
    "    elif 'property' in valor:\n",
    "        return 'real estate'\n",
    "    elif 'housing' in valor:\n",
    "        return 'real estate'\n",
    "    elif 'wedding' in valor:\n",
    "        return 'wedding'\n",
    "    elif 'university' in valor:\n",
    "        return 'education'\n",
    "    else:\n",
    "        return valor \n",
    "    # Terminar así nos sirve para revisar si es que existen terminos fuera de los puestos y no eliminarlos\n"
   ]
  },
  {
   "cell_type": "code",
   "execution_count": 179,
   "metadata": {},
   "outputs": [],
   "source": [
    "# Aplicamos la función\n",
    "df_selec['purpose'] = df_selec['purpose'].apply(sust_proposito)"
   ]
  },
  {
   "cell_type": "code",
   "execution_count": 180,
   "metadata": {
    "scrolled": true
   },
   "outputs": [
    {
     "data": {
      "text/plain": [
       "array(['real estate', 'car', 'education', 'wedding'], dtype=object)"
      ]
     },
     "execution_count": 180,
     "metadata": {},
     "output_type": "execute_result"
    }
   ],
   "source": [
    "df_selec['purpose'].unique()"
   ]
  },
  {
   "cell_type": "code",
   "execution_count": 181,
   "metadata": {},
   "outputs": [
    {
     "data": {
      "text/plain": [
       "real estate    0.504098\n",
       "car            0.200628\n",
       "education      0.187093\n",
       "wedding        0.108182\n",
       "Name: purpose, dtype: float64"
      ]
     },
     "execution_count": 181,
     "metadata": {},
     "output_type": "execute_result"
    }
   ],
   "source": [
    "df_selec['purpose'].value_counts(normalize=True)"
   ]
  },
  {
   "cell_type": "code",
   "execution_count": 182,
   "metadata": {},
   "outputs": [],
   "source": [
    "# Finalmente, agreguemos esta lista limpiada a nuestro Dataframe\n",
    "# Para no alterar las columnas originales y perder información, se agregarán como una nueva columna `purpose_id`\n",
    "df['purpose_id'] = df_selec['purpose']"
   ]
  },
  {
   "cell_type": "code",
   "execution_count": 183,
   "metadata": {},
   "outputs": [
    {
     "data": {
      "text/html": [
       "<div>\n",
       "<style scoped>\n",
       "    .dataframe tbody tr th:only-of-type {\n",
       "        vertical-align: middle;\n",
       "    }\n",
       "\n",
       "    .dataframe tbody tr th {\n",
       "        vertical-align: top;\n",
       "    }\n",
       "\n",
       "    .dataframe thead th {\n",
       "        text-align: right;\n",
       "    }\n",
       "</style>\n",
       "<table border=\"1\" class=\"dataframe\">\n",
       "  <thead>\n",
       "    <tr style=\"text-align: right;\">\n",
       "      <th></th>\n",
       "      <th>purpose</th>\n",
       "      <th>car</th>\n",
       "      <th>education</th>\n",
       "      <th>real estate</th>\n",
       "      <th>wedding</th>\n",
       "    </tr>\n",
       "    <tr>\n",
       "      <th>family_status</th>\n",
       "      <th>children</th>\n",
       "      <th></th>\n",
       "      <th></th>\n",
       "      <th></th>\n",
       "      <th></th>\n",
       "    </tr>\n",
       "  </thead>\n",
       "  <tbody>\n",
       "    <tr>\n",
       "      <th rowspan=\"6\" valign=\"top\">civil partnership</th>\n",
       "      <th>0</th>\n",
       "      <td>281.0</td>\n",
       "      <td>269.0</td>\n",
       "      <td>648.0</td>\n",
       "      <td>1519.0</td>\n",
       "    </tr>\n",
       "    <tr>\n",
       "      <th>1</th>\n",
       "      <td>107.0</td>\n",
       "      <td>97.0</td>\n",
       "      <td>259.0</td>\n",
       "      <td>531.0</td>\n",
       "    </tr>\n",
       "    <tr>\n",
       "      <th>2</th>\n",
       "      <td>37.0</td>\n",
       "      <td>31.0</td>\n",
       "      <td>61.0</td>\n",
       "      <td>224.0</td>\n",
       "    </tr>\n",
       "    <tr>\n",
       "      <th>3</th>\n",
       "      <td>5.0</td>\n",
       "      <td>6.0</td>\n",
       "      <td>13.0</td>\n",
       "      <td>32.0</td>\n",
       "    </tr>\n",
       "    <tr>\n",
       "      <th>4</th>\n",
       "      <td>1.0</td>\n",
       "      <td>NaN</td>\n",
       "      <td>4.0</td>\n",
       "      <td>3.0</td>\n",
       "    </tr>\n",
       "    <tr>\n",
       "      <th>5</th>\n",
       "      <td>1.0</td>\n",
       "      <td>NaN</td>\n",
       "      <td>NaN</td>\n",
       "      <td>1.0</td>\n",
       "    </tr>\n",
       "    <tr>\n",
       "      <th rowspan=\"5\" valign=\"top\">divorced</th>\n",
       "      <th>0</th>\n",
       "      <td>192.0</td>\n",
       "      <td>158.0</td>\n",
       "      <td>427.0</td>\n",
       "      <td>NaN</td>\n",
       "    </tr>\n",
       "    <tr>\n",
       "      <th>1</th>\n",
       "      <td>70.0</td>\n",
       "      <td>61.0</td>\n",
       "      <td>184.0</td>\n",
       "      <td>NaN</td>\n",
       "    </tr>\n",
       "    <tr>\n",
       "      <th>2</th>\n",
       "      <td>14.0</td>\n",
       "      <td>18.0</td>\n",
       "      <td>49.0</td>\n",
       "      <td>NaN</td>\n",
       "    </tr>\n",
       "    <tr>\n",
       "      <th>3</th>\n",
       "      <td>1.0</td>\n",
       "      <td>NaN</td>\n",
       "      <td>10.0</td>\n",
       "      <td>NaN</td>\n",
       "    </tr>\n",
       "    <tr>\n",
       "      <th>4</th>\n",
       "      <td>1.0</td>\n",
       "      <td>NaN</td>\n",
       "      <td>NaN</td>\n",
       "      <td>NaN</td>\n",
       "    </tr>\n",
       "    <tr>\n",
       "      <th rowspan=\"6\" valign=\"top\">married</th>\n",
       "      <th>0</th>\n",
       "      <td>1644.0</td>\n",
       "      <td>1573.0</td>\n",
       "      <td>4220.0</td>\n",
       "      <td>NaN</td>\n",
       "    </tr>\n",
       "    <tr>\n",
       "      <th>1</th>\n",
       "      <td>686.0</td>\n",
       "      <td>597.0</td>\n",
       "      <td>1714.0</td>\n",
       "      <td>NaN</td>\n",
       "    </tr>\n",
       "    <tr>\n",
       "      <th>2</th>\n",
       "      <td>335.0</td>\n",
       "      <td>350.0</td>\n",
       "      <td>888.0</td>\n",
       "      <td>NaN</td>\n",
       "    </tr>\n",
       "    <tr>\n",
       "      <th>3</th>\n",
       "      <td>50.0</td>\n",
       "      <td>58.0</td>\n",
       "      <td>139.0</td>\n",
       "      <td>NaN</td>\n",
       "    </tr>\n",
       "    <tr>\n",
       "      <th>4</th>\n",
       "      <td>8.0</td>\n",
       "      <td>6.0</td>\n",
       "      <td>15.0</td>\n",
       "      <td>NaN</td>\n",
       "    </tr>\n",
       "    <tr>\n",
       "      <th>5</th>\n",
       "      <td>1.0</td>\n",
       "      <td>1.0</td>\n",
       "      <td>5.0</td>\n",
       "      <td>NaN</td>\n",
       "    </tr>\n",
       "    <tr>\n",
       "      <th rowspan=\"5\" valign=\"top\">unmarried</th>\n",
       "      <th>0</th>\n",
       "      <td>516.0</td>\n",
       "      <td>453.0</td>\n",
       "      <td>1280.0</td>\n",
       "      <td>NaN</td>\n",
       "    </tr>\n",
       "    <tr>\n",
       "      <th>1</th>\n",
       "      <td>93.0</td>\n",
       "      <td>102.0</td>\n",
       "      <td>257.0</td>\n",
       "      <td>NaN</td>\n",
       "    </tr>\n",
       "    <tr>\n",
       "      <th>2</th>\n",
       "      <td>21.0</td>\n",
       "      <td>15.0</td>\n",
       "      <td>47.0</td>\n",
       "      <td>NaN</td>\n",
       "    </tr>\n",
       "    <tr>\n",
       "      <th>3</th>\n",
       "      <td>4.0</td>\n",
       "      <td>2.0</td>\n",
       "      <td>2.0</td>\n",
       "      <td>NaN</td>\n",
       "    </tr>\n",
       "    <tr>\n",
       "      <th>4</th>\n",
       "      <td>NaN</td>\n",
       "      <td>1.0</td>\n",
       "      <td>1.0</td>\n",
       "      <td>NaN</td>\n",
       "    </tr>\n",
       "    <tr>\n",
       "      <th rowspan=\"5\" valign=\"top\">widow / widower</th>\n",
       "      <th>0</th>\n",
       "      <td>199.0</td>\n",
       "      <td>174.0</td>\n",
       "      <td>469.0</td>\n",
       "      <td>NaN</td>\n",
       "    </tr>\n",
       "    <tr>\n",
       "      <th>1</th>\n",
       "      <td>11.0</td>\n",
       "      <td>18.0</td>\n",
       "      <td>52.0</td>\n",
       "      <td>NaN</td>\n",
       "    </tr>\n",
       "    <tr>\n",
       "      <th>2</th>\n",
       "      <td>6.0</td>\n",
       "      <td>2.0</td>\n",
       "      <td>16.0</td>\n",
       "      <td>NaN</td>\n",
       "    </tr>\n",
       "    <tr>\n",
       "      <th>3</th>\n",
       "      <td>NaN</td>\n",
       "      <td>3.0</td>\n",
       "      <td>3.0</td>\n",
       "      <td>NaN</td>\n",
       "    </tr>\n",
       "    <tr>\n",
       "      <th>4</th>\n",
       "      <td>NaN</td>\n",
       "      <td>NaN</td>\n",
       "      <td>1.0</td>\n",
       "      <td>NaN</td>\n",
       "    </tr>\n",
       "  </tbody>\n",
       "</table>\n",
       "</div>"
      ],
      "text/plain": [
       "purpose                        car  education  real estate  wedding\n",
       "family_status     children                                         \n",
       "civil partnership 0          281.0      269.0        648.0   1519.0\n",
       "                  1          107.0       97.0        259.0    531.0\n",
       "                  2           37.0       31.0         61.0    224.0\n",
       "                  3            5.0        6.0         13.0     32.0\n",
       "                  4            1.0        NaN          4.0      3.0\n",
       "                  5            1.0        NaN          NaN      1.0\n",
       "divorced          0          192.0      158.0        427.0      NaN\n",
       "                  1           70.0       61.0        184.0      NaN\n",
       "                  2           14.0       18.0         49.0      NaN\n",
       "                  3            1.0        NaN         10.0      NaN\n",
       "                  4            1.0        NaN          NaN      NaN\n",
       "married           0         1644.0     1573.0       4220.0      NaN\n",
       "                  1          686.0      597.0       1714.0      NaN\n",
       "                  2          335.0      350.0        888.0      NaN\n",
       "                  3           50.0       58.0        139.0      NaN\n",
       "                  4            8.0        6.0         15.0      NaN\n",
       "                  5            1.0        1.0          5.0      NaN\n",
       "unmarried         0          516.0      453.0       1280.0      NaN\n",
       "                  1           93.0      102.0        257.0      NaN\n",
       "                  2           21.0       15.0         47.0      NaN\n",
       "                  3            4.0        2.0          2.0      NaN\n",
       "                  4            NaN        1.0          1.0      NaN\n",
       "widow / widower   0          199.0      174.0        469.0      NaN\n",
       "                  1           11.0       18.0         52.0      NaN\n",
       "                  2            6.0        2.0         16.0      NaN\n",
       "                  3            NaN        3.0          3.0      NaN\n",
       "                  4            NaN        NaN          1.0      NaN"
      ]
     },
     "execution_count": 183,
     "metadata": {},
     "output_type": "execute_result"
    }
   ],
   "source": [
    "# Crea una tabla con las categorías y cuenta los valores en ellas\n",
    "df_selec.pivot_table(index=['family_status','children'], columns='purpose', values='debt', aggfunc='count')\n",
    "\n",
    "# Esta tabla muestra la cantidad total de casos para cada categoría."
   ]
  },
  {
   "cell_type": "code",
   "execution_count": 184,
   "metadata": {
    "scrolled": false
   },
   "outputs": [
    {
     "data": {
      "text/html": [
       "<div>\n",
       "<style scoped>\n",
       "    .dataframe tbody tr th:only-of-type {\n",
       "        vertical-align: middle;\n",
       "    }\n",
       "\n",
       "    .dataframe tbody tr th {\n",
       "        vertical-align: top;\n",
       "    }\n",
       "\n",
       "    .dataframe thead th {\n",
       "        text-align: right;\n",
       "    }\n",
       "</style>\n",
       "<table border=\"1\" class=\"dataframe\">\n",
       "  <thead>\n",
       "    <tr style=\"text-align: right;\">\n",
       "      <th></th>\n",
       "      <th>purpose</th>\n",
       "      <th>car</th>\n",
       "      <th>education</th>\n",
       "      <th>real estate</th>\n",
       "      <th>wedding</th>\n",
       "    </tr>\n",
       "    <tr>\n",
       "      <th>family_status</th>\n",
       "      <th>children</th>\n",
       "      <th></th>\n",
       "      <th></th>\n",
       "      <th></th>\n",
       "      <th></th>\n",
       "    </tr>\n",
       "  </thead>\n",
       "  <tbody>\n",
       "    <tr>\n",
       "      <th rowspan=\"6\" valign=\"top\">civil partnership</th>\n",
       "      <th>0</th>\n",
       "      <td>28.0</td>\n",
       "      <td>35.0</td>\n",
       "      <td>51.0</td>\n",
       "      <td>113.0</td>\n",
       "    </tr>\n",
       "    <tr>\n",
       "      <th>1</th>\n",
       "      <td>17.0</td>\n",
       "      <td>18.0</td>\n",
       "      <td>32.0</td>\n",
       "      <td>51.0</td>\n",
       "    </tr>\n",
       "    <tr>\n",
       "      <th>2</th>\n",
       "      <td>4.0</td>\n",
       "      <td>6.0</td>\n",
       "      <td>8.0</td>\n",
       "      <td>15.0</td>\n",
       "    </tr>\n",
       "    <tr>\n",
       "      <th>3</th>\n",
       "      <td>2.0</td>\n",
       "      <td>1.0</td>\n",
       "      <td>0.0</td>\n",
       "      <td>5.0</td>\n",
       "    </tr>\n",
       "    <tr>\n",
       "      <th>4</th>\n",
       "      <td>0.0</td>\n",
       "      <td>NaN</td>\n",
       "      <td>0.0</td>\n",
       "      <td>0.0</td>\n",
       "    </tr>\n",
       "    <tr>\n",
       "      <th>5</th>\n",
       "      <td>0.0</td>\n",
       "      <td>NaN</td>\n",
       "      <td>NaN</td>\n",
       "      <td>0.0</td>\n",
       "    </tr>\n",
       "    <tr>\n",
       "      <th rowspan=\"5\" valign=\"top\">divorced</th>\n",
       "      <th>0</th>\n",
       "      <td>13.0</td>\n",
       "      <td>13.0</td>\n",
       "      <td>29.0</td>\n",
       "      <td>NaN</td>\n",
       "    </tr>\n",
       "    <tr>\n",
       "      <th>1</th>\n",
       "      <td>6.0</td>\n",
       "      <td>2.0</td>\n",
       "      <td>13.0</td>\n",
       "      <td>NaN</td>\n",
       "    </tr>\n",
       "    <tr>\n",
       "      <th>2</th>\n",
       "      <td>2.0</td>\n",
       "      <td>2.0</td>\n",
       "      <td>4.0</td>\n",
       "      <td>NaN</td>\n",
       "    </tr>\n",
       "    <tr>\n",
       "      <th>3</th>\n",
       "      <td>0.0</td>\n",
       "      <td>NaN</td>\n",
       "      <td>1.0</td>\n",
       "      <td>NaN</td>\n",
       "    </tr>\n",
       "    <tr>\n",
       "      <th>4</th>\n",
       "      <td>0.0</td>\n",
       "      <td>NaN</td>\n",
       "      <td>NaN</td>\n",
       "      <td>NaN</td>\n",
       "    </tr>\n",
       "    <tr>\n",
       "      <th rowspan=\"6\" valign=\"top\">married</th>\n",
       "      <th>0</th>\n",
       "      <td>119.0</td>\n",
       "      <td>118.0</td>\n",
       "      <td>277.0</td>\n",
       "      <td>NaN</td>\n",
       "    </tr>\n",
       "    <tr>\n",
       "      <th>1</th>\n",
       "      <td>66.0</td>\n",
       "      <td>57.0</td>\n",
       "      <td>122.0</td>\n",
       "      <td>NaN</td>\n",
       "    </tr>\n",
       "    <tr>\n",
       "      <th>2</th>\n",
       "      <td>38.0</td>\n",
       "      <td>38.0</td>\n",
       "      <td>72.0</td>\n",
       "      <td>NaN</td>\n",
       "    </tr>\n",
       "    <tr>\n",
       "      <th>3</th>\n",
       "      <td>3.0</td>\n",
       "      <td>3.0</td>\n",
       "      <td>11.0</td>\n",
       "      <td>NaN</td>\n",
       "    </tr>\n",
       "    <tr>\n",
       "      <th>4</th>\n",
       "      <td>1.0</td>\n",
       "      <td>0.0</td>\n",
       "      <td>2.0</td>\n",
       "      <td>NaN</td>\n",
       "    </tr>\n",
       "    <tr>\n",
       "      <th>5</th>\n",
       "      <td>0.0</td>\n",
       "      <td>0.0</td>\n",
       "      <td>0.0</td>\n",
       "      <td>NaN</td>\n",
       "    </tr>\n",
       "    <tr>\n",
       "      <th rowspan=\"5\" valign=\"top\">unmarried</th>\n",
       "      <th>0</th>\n",
       "      <td>64.0</td>\n",
       "      <td>51.0</td>\n",
       "      <td>95.0</td>\n",
       "      <td>NaN</td>\n",
       "    </tr>\n",
       "    <tr>\n",
       "      <th>1</th>\n",
       "      <td>13.0</td>\n",
       "      <td>10.0</td>\n",
       "      <td>28.0</td>\n",
       "      <td>NaN</td>\n",
       "    </tr>\n",
       "    <tr>\n",
       "      <th>2</th>\n",
       "      <td>5.0</td>\n",
       "      <td>1.0</td>\n",
       "      <td>4.0</td>\n",
       "      <td>NaN</td>\n",
       "    </tr>\n",
       "    <tr>\n",
       "      <th>3</th>\n",
       "      <td>0.0</td>\n",
       "      <td>0.0</td>\n",
       "      <td>1.0</td>\n",
       "      <td>NaN</td>\n",
       "    </tr>\n",
       "    <tr>\n",
       "      <th>4</th>\n",
       "      <td>NaN</td>\n",
       "      <td>0.0</td>\n",
       "      <td>1.0</td>\n",
       "      <td>NaN</td>\n",
       "    </tr>\n",
       "    <tr>\n",
       "      <th rowspan=\"5\" valign=\"top\">widow / widower</th>\n",
       "      <th>0</th>\n",
       "      <td>18.0</td>\n",
       "      <td>12.0</td>\n",
       "      <td>22.0</td>\n",
       "      <td>NaN</td>\n",
       "    </tr>\n",
       "    <tr>\n",
       "      <th>1</th>\n",
       "      <td>0.0</td>\n",
       "      <td>3.0</td>\n",
       "      <td>4.0</td>\n",
       "      <td>NaN</td>\n",
       "    </tr>\n",
       "    <tr>\n",
       "      <th>2</th>\n",
       "      <td>1.0</td>\n",
       "      <td>0.0</td>\n",
       "      <td>2.0</td>\n",
       "      <td>NaN</td>\n",
       "    </tr>\n",
       "    <tr>\n",
       "      <th>3</th>\n",
       "      <td>NaN</td>\n",
       "      <td>0.0</td>\n",
       "      <td>0.0</td>\n",
       "      <td>NaN</td>\n",
       "    </tr>\n",
       "    <tr>\n",
       "      <th>4</th>\n",
       "      <td>NaN</td>\n",
       "      <td>NaN</td>\n",
       "      <td>0.0</td>\n",
       "      <td>NaN</td>\n",
       "    </tr>\n",
       "  </tbody>\n",
       "</table>\n",
       "</div>"
      ],
      "text/plain": [
       "purpose                       car  education  real estate  wedding\n",
       "family_status     children                                        \n",
       "civil partnership 0          28.0       35.0         51.0    113.0\n",
       "                  1          17.0       18.0         32.0     51.0\n",
       "                  2           4.0        6.0          8.0     15.0\n",
       "                  3           2.0        1.0          0.0      5.0\n",
       "                  4           0.0        NaN          0.0      0.0\n",
       "                  5           0.0        NaN          NaN      0.0\n",
       "divorced          0          13.0       13.0         29.0      NaN\n",
       "                  1           6.0        2.0         13.0      NaN\n",
       "                  2           2.0        2.0          4.0      NaN\n",
       "                  3           0.0        NaN          1.0      NaN\n",
       "                  4           0.0        NaN          NaN      NaN\n",
       "married           0         119.0      118.0        277.0      NaN\n",
       "                  1          66.0       57.0        122.0      NaN\n",
       "                  2          38.0       38.0         72.0      NaN\n",
       "                  3           3.0        3.0         11.0      NaN\n",
       "                  4           1.0        0.0          2.0      NaN\n",
       "                  5           0.0        0.0          0.0      NaN\n",
       "unmarried         0          64.0       51.0         95.0      NaN\n",
       "                  1          13.0       10.0         28.0      NaN\n",
       "                  2           5.0        1.0          4.0      NaN\n",
       "                  3           0.0        0.0          1.0      NaN\n",
       "                  4           NaN        0.0          1.0      NaN\n",
       "widow / widower   0          18.0       12.0         22.0      NaN\n",
       "                  1           0.0        3.0          4.0      NaN\n",
       "                  2           1.0        0.0          2.0      NaN\n",
       "                  3           NaN        0.0          0.0      NaN\n",
       "                  4           NaN        NaN          0.0      NaN"
      ]
     },
     "execution_count": 184,
     "metadata": {},
     "output_type": "execute_result"
    }
   ],
   "source": [
    "df_selec.pivot_table(index=['family_status','children'], columns='purpose', values='debt', aggfunc='sum')\n",
    "\n",
    "# Esta tabla muestra la cantidad de casos con préstamos impagos por categoría"
   ]
  },
  {
   "cell_type": "code",
   "execution_count": 185,
   "metadata": {
    "scrolled": false
   },
   "outputs": [
    {
     "data": {
      "text/html": [
       "<div>\n",
       "<style scoped>\n",
       "    .dataframe tbody tr th:only-of-type {\n",
       "        vertical-align: middle;\n",
       "    }\n",
       "\n",
       "    .dataframe tbody tr th {\n",
       "        vertical-align: top;\n",
       "    }\n",
       "\n",
       "    .dataframe thead th {\n",
       "        text-align: right;\n",
       "    }\n",
       "</style>\n",
       "<table border=\"1\" class=\"dataframe\">\n",
       "  <thead>\n",
       "    <tr style=\"text-align: right;\">\n",
       "      <th></th>\n",
       "      <th>purpose</th>\n",
       "      <th>car</th>\n",
       "      <th>education</th>\n",
       "      <th>real estate</th>\n",
       "      <th>wedding</th>\n",
       "    </tr>\n",
       "    <tr>\n",
       "      <th>family_status</th>\n",
       "      <th>children</th>\n",
       "      <th></th>\n",
       "      <th></th>\n",
       "      <th></th>\n",
       "      <th></th>\n",
       "    </tr>\n",
       "  </thead>\n",
       "  <tbody>\n",
       "    <tr>\n",
       "      <th rowspan=\"6\" valign=\"top\">civil partnership</th>\n",
       "      <th>0</th>\n",
       "      <td>0.099644</td>\n",
       "      <td>0.130112</td>\n",
       "      <td>0.078704</td>\n",
       "      <td>0.074391</td>\n",
       "    </tr>\n",
       "    <tr>\n",
       "      <th>1</th>\n",
       "      <td>0.158879</td>\n",
       "      <td>0.185567</td>\n",
       "      <td>0.123552</td>\n",
       "      <td>0.096045</td>\n",
       "    </tr>\n",
       "    <tr>\n",
       "      <th>2</th>\n",
       "      <td>0.108108</td>\n",
       "      <td>0.193548</td>\n",
       "      <td>0.131148</td>\n",
       "      <td>0.066964</td>\n",
       "    </tr>\n",
       "    <tr>\n",
       "      <th>3</th>\n",
       "      <td>0.400000</td>\n",
       "      <td>0.166667</td>\n",
       "      <td>0.000000</td>\n",
       "      <td>0.156250</td>\n",
       "    </tr>\n",
       "    <tr>\n",
       "      <th>4</th>\n",
       "      <td>0.000000</td>\n",
       "      <td>NaN</td>\n",
       "      <td>0.000000</td>\n",
       "      <td>0.000000</td>\n",
       "    </tr>\n",
       "    <tr>\n",
       "      <th>5</th>\n",
       "      <td>0.000000</td>\n",
       "      <td>NaN</td>\n",
       "      <td>NaN</td>\n",
       "      <td>0.000000</td>\n",
       "    </tr>\n",
       "    <tr>\n",
       "      <th rowspan=\"5\" valign=\"top\">divorced</th>\n",
       "      <th>0</th>\n",
       "      <td>0.067708</td>\n",
       "      <td>0.082278</td>\n",
       "      <td>0.067916</td>\n",
       "      <td>NaN</td>\n",
       "    </tr>\n",
       "    <tr>\n",
       "      <th>1</th>\n",
       "      <td>0.085714</td>\n",
       "      <td>0.032787</td>\n",
       "      <td>0.070652</td>\n",
       "      <td>NaN</td>\n",
       "    </tr>\n",
       "    <tr>\n",
       "      <th>2</th>\n",
       "      <td>0.142857</td>\n",
       "      <td>0.111111</td>\n",
       "      <td>0.081633</td>\n",
       "      <td>NaN</td>\n",
       "    </tr>\n",
       "    <tr>\n",
       "      <th>3</th>\n",
       "      <td>0.000000</td>\n",
       "      <td>NaN</td>\n",
       "      <td>0.100000</td>\n",
       "      <td>NaN</td>\n",
       "    </tr>\n",
       "    <tr>\n",
       "      <th>4</th>\n",
       "      <td>0.000000</td>\n",
       "      <td>NaN</td>\n",
       "      <td>NaN</td>\n",
       "      <td>NaN</td>\n",
       "    </tr>\n",
       "    <tr>\n",
       "      <th rowspan=\"6\" valign=\"top\">married</th>\n",
       "      <th>0</th>\n",
       "      <td>0.072384</td>\n",
       "      <td>0.075016</td>\n",
       "      <td>0.065640</td>\n",
       "      <td>NaN</td>\n",
       "    </tr>\n",
       "    <tr>\n",
       "      <th>1</th>\n",
       "      <td>0.096210</td>\n",
       "      <td>0.095477</td>\n",
       "      <td>0.071179</td>\n",
       "      <td>NaN</td>\n",
       "    </tr>\n",
       "    <tr>\n",
       "      <th>2</th>\n",
       "      <td>0.113433</td>\n",
       "      <td>0.108571</td>\n",
       "      <td>0.081081</td>\n",
       "      <td>NaN</td>\n",
       "    </tr>\n",
       "    <tr>\n",
       "      <th>3</th>\n",
       "      <td>0.060000</td>\n",
       "      <td>0.051724</td>\n",
       "      <td>0.079137</td>\n",
       "      <td>NaN</td>\n",
       "    </tr>\n",
       "    <tr>\n",
       "      <th>4</th>\n",
       "      <td>0.125000</td>\n",
       "      <td>0.000000</td>\n",
       "      <td>0.133333</td>\n",
       "      <td>NaN</td>\n",
       "    </tr>\n",
       "    <tr>\n",
       "      <th>5</th>\n",
       "      <td>0.000000</td>\n",
       "      <td>0.000000</td>\n",
       "      <td>0.000000</td>\n",
       "      <td>NaN</td>\n",
       "    </tr>\n",
       "    <tr>\n",
       "      <th rowspan=\"5\" valign=\"top\">unmarried</th>\n",
       "      <th>0</th>\n",
       "      <td>0.124031</td>\n",
       "      <td>0.112583</td>\n",
       "      <td>0.074219</td>\n",
       "      <td>NaN</td>\n",
       "    </tr>\n",
       "    <tr>\n",
       "      <th>1</th>\n",
       "      <td>0.139785</td>\n",
       "      <td>0.098039</td>\n",
       "      <td>0.108949</td>\n",
       "      <td>NaN</td>\n",
       "    </tr>\n",
       "    <tr>\n",
       "      <th>2</th>\n",
       "      <td>0.238095</td>\n",
       "      <td>0.066667</td>\n",
       "      <td>0.085106</td>\n",
       "      <td>NaN</td>\n",
       "    </tr>\n",
       "    <tr>\n",
       "      <th>3</th>\n",
       "      <td>0.000000</td>\n",
       "      <td>0.000000</td>\n",
       "      <td>0.500000</td>\n",
       "      <td>NaN</td>\n",
       "    </tr>\n",
       "    <tr>\n",
       "      <th>4</th>\n",
       "      <td>NaN</td>\n",
       "      <td>0.000000</td>\n",
       "      <td>1.000000</td>\n",
       "      <td>NaN</td>\n",
       "    </tr>\n",
       "    <tr>\n",
       "      <th rowspan=\"5\" valign=\"top\">widow / widower</th>\n",
       "      <th>0</th>\n",
       "      <td>0.090452</td>\n",
       "      <td>0.068966</td>\n",
       "      <td>0.046908</td>\n",
       "      <td>NaN</td>\n",
       "    </tr>\n",
       "    <tr>\n",
       "      <th>1</th>\n",
       "      <td>0.000000</td>\n",
       "      <td>0.166667</td>\n",
       "      <td>0.076923</td>\n",
       "      <td>NaN</td>\n",
       "    </tr>\n",
       "    <tr>\n",
       "      <th>2</th>\n",
       "      <td>0.166667</td>\n",
       "      <td>0.000000</td>\n",
       "      <td>0.125000</td>\n",
       "      <td>NaN</td>\n",
       "    </tr>\n",
       "    <tr>\n",
       "      <th>3</th>\n",
       "      <td>NaN</td>\n",
       "      <td>0.000000</td>\n",
       "      <td>0.000000</td>\n",
       "      <td>NaN</td>\n",
       "    </tr>\n",
       "    <tr>\n",
       "      <th>4</th>\n",
       "      <td>NaN</td>\n",
       "      <td>NaN</td>\n",
       "      <td>0.000000</td>\n",
       "      <td>NaN</td>\n",
       "    </tr>\n",
       "  </tbody>\n",
       "</table>\n",
       "</div>"
      ],
      "text/plain": [
       "purpose                          car  education  real estate   wedding\n",
       "family_status     children                                            \n",
       "civil partnership 0         0.099644   0.130112     0.078704  0.074391\n",
       "                  1         0.158879   0.185567     0.123552  0.096045\n",
       "                  2         0.108108   0.193548     0.131148  0.066964\n",
       "                  3         0.400000   0.166667     0.000000  0.156250\n",
       "                  4         0.000000        NaN     0.000000  0.000000\n",
       "                  5         0.000000        NaN          NaN  0.000000\n",
       "divorced          0         0.067708   0.082278     0.067916       NaN\n",
       "                  1         0.085714   0.032787     0.070652       NaN\n",
       "                  2         0.142857   0.111111     0.081633       NaN\n",
       "                  3         0.000000        NaN     0.100000       NaN\n",
       "                  4         0.000000        NaN          NaN       NaN\n",
       "married           0         0.072384   0.075016     0.065640       NaN\n",
       "                  1         0.096210   0.095477     0.071179       NaN\n",
       "                  2         0.113433   0.108571     0.081081       NaN\n",
       "                  3         0.060000   0.051724     0.079137       NaN\n",
       "                  4         0.125000   0.000000     0.133333       NaN\n",
       "                  5         0.000000   0.000000     0.000000       NaN\n",
       "unmarried         0         0.124031   0.112583     0.074219       NaN\n",
       "                  1         0.139785   0.098039     0.108949       NaN\n",
       "                  2         0.238095   0.066667     0.085106       NaN\n",
       "                  3         0.000000   0.000000     0.500000       NaN\n",
       "                  4              NaN   0.000000     1.000000       NaN\n",
       "widow / widower   0         0.090452   0.068966     0.046908       NaN\n",
       "                  1         0.000000   0.166667     0.076923       NaN\n",
       "                  2         0.166667   0.000000     0.125000       NaN\n",
       "                  3              NaN   0.000000     0.000000       NaN\n",
       "                  4              NaN        NaN     0.000000       NaN"
      ]
     },
     "execution_count": 185,
     "metadata": {},
     "output_type": "execute_result"
    }
   ],
   "source": [
    "df_pay_prob = df_selec.pivot_table(index=['family_status','children'], columns='purpose', values='debt', aggfunc='mean')\n",
    "df_pay_prob\n",
    "# Esta tablaa muestra el porcentaje de préstamos impagos por categoría\n",
    "# Considerando 1 = 100%"
   ]
  },
  {
   "cell_type": "code",
   "execution_count": 186,
   "metadata": {
    "scrolled": true
   },
   "outputs": [
    {
     "data": {
      "text/html": [
       "<div>\n",
       "<style scoped>\n",
       "    .dataframe tbody tr th:only-of-type {\n",
       "        vertical-align: middle;\n",
       "    }\n",
       "\n",
       "    .dataframe tbody tr th {\n",
       "        vertical-align: top;\n",
       "    }\n",
       "\n",
       "    .dataframe thead th {\n",
       "        text-align: right;\n",
       "    }\n",
       "</style>\n",
       "<table border=\"1\" class=\"dataframe\">\n",
       "  <thead>\n",
       "    <tr style=\"text-align: right;\">\n",
       "      <th>purpose</th>\n",
       "      <th>car</th>\n",
       "      <th>education</th>\n",
       "      <th>real estate</th>\n",
       "      <th>wedding</th>\n",
       "    </tr>\n",
       "  </thead>\n",
       "  <tbody>\n",
       "    <tr>\n",
       "      <th>count</th>\n",
       "      <td>24.000000</td>\n",
       "      <td>22.000000</td>\n",
       "      <td>25.000000</td>\n",
       "      <td>6.000000</td>\n",
       "    </tr>\n",
       "    <tr>\n",
       "      <th>mean</th>\n",
       "      <td>0.095374</td>\n",
       "      <td>0.079354</td>\n",
       "      <td>0.124043</td>\n",
       "      <td>0.065608</td>\n",
       "    </tr>\n",
       "    <tr>\n",
       "      <th>std</th>\n",
       "      <td>0.092090</td>\n",
       "      <td>0.064265</td>\n",
       "      <td>0.206015</td>\n",
       "      <td>0.059716</td>\n",
       "    </tr>\n",
       "    <tr>\n",
       "      <th>min</th>\n",
       "      <td>0.000000</td>\n",
       "      <td>0.000000</td>\n",
       "      <td>0.000000</td>\n",
       "      <td>0.000000</td>\n",
       "    </tr>\n",
       "    <tr>\n",
       "      <th>25%</th>\n",
       "      <td>0.000000</td>\n",
       "      <td>0.008197</td>\n",
       "      <td>0.065640</td>\n",
       "      <td>0.016741</td>\n",
       "    </tr>\n",
       "    <tr>\n",
       "      <th>50%</th>\n",
       "      <td>0.093331</td>\n",
       "      <td>0.078647</td>\n",
       "      <td>0.078704</td>\n",
       "      <td>0.070678</td>\n",
       "    </tr>\n",
       "    <tr>\n",
       "      <th>75%</th>\n",
       "      <td>0.128696</td>\n",
       "      <td>0.112215</td>\n",
       "      <td>0.108949</td>\n",
       "      <td>0.090632</td>\n",
       "    </tr>\n",
       "    <tr>\n",
       "      <th>max</th>\n",
       "      <td>0.400000</td>\n",
       "      <td>0.193548</td>\n",
       "      <td>1.000000</td>\n",
       "      <td>0.156250</td>\n",
       "    </tr>\n",
       "  </tbody>\n",
       "</table>\n",
       "</div>"
      ],
      "text/plain": [
       "purpose        car  education  real estate   wedding\n",
       "count    24.000000  22.000000    25.000000  6.000000\n",
       "mean      0.095374   0.079354     0.124043  0.065608\n",
       "std       0.092090   0.064265     0.206015  0.059716\n",
       "min       0.000000   0.000000     0.000000  0.000000\n",
       "25%       0.000000   0.008197     0.065640  0.016741\n",
       "50%       0.093331   0.078647     0.078704  0.070678\n",
       "75%       0.128696   0.112215     0.108949  0.090632\n",
       "max       0.400000   0.193548     1.000000  0.156250"
      ]
     },
     "execution_count": 186,
     "metadata": {},
     "output_type": "execute_result"
    }
   ],
   "source": [
    "# Antes de decidir como categorizarlos, veamos como se distribuyen\n",
    "df_pay_prob.describe()"
   ]
  },
  {
   "cell_type": "code",
   "execution_count": 187,
   "metadata": {
    "scrolled": true
   },
   "outputs": [
    {
     "data": {
      "text/html": [
       "<div>\n",
       "<style scoped>\n",
       "    .dataframe tbody tr th:only-of-type {\n",
       "        vertical-align: middle;\n",
       "    }\n",
       "\n",
       "    .dataframe tbody tr th {\n",
       "        vertical-align: top;\n",
       "    }\n",
       "\n",
       "    .dataframe thead th {\n",
       "        text-align: right;\n",
       "    }\n",
       "</style>\n",
       "<table border=\"1\" class=\"dataframe\">\n",
       "  <thead>\n",
       "    <tr style=\"text-align: right;\">\n",
       "      <th></th>\n",
       "      <th>debt</th>\n",
       "    </tr>\n",
       "    <tr>\n",
       "      <th>family_status</th>\n",
       "      <th></th>\n",
       "    </tr>\n",
       "  </thead>\n",
       "  <tbody>\n",
       "    <tr>\n",
       "      <th>civil partnership</th>\n",
       "      <td>0.093462</td>\n",
       "    </tr>\n",
       "    <tr>\n",
       "      <th>divorced</th>\n",
       "      <td>0.071730</td>\n",
       "    </tr>\n",
       "    <tr>\n",
       "      <th>married</th>\n",
       "      <td>0.075427</td>\n",
       "    </tr>\n",
       "    <tr>\n",
       "      <th>unmarried</th>\n",
       "      <td>0.097709</td>\n",
       "    </tr>\n",
       "    <tr>\n",
       "      <th>widow / widower</th>\n",
       "      <td>0.064990</td>\n",
       "    </tr>\n",
       "  </tbody>\n",
       "</table>\n",
       "</div>"
      ],
      "text/plain": [
       "                       debt\n",
       "family_status              \n",
       "civil partnership  0.093462\n",
       "divorced           0.071730\n",
       "married            0.075427\n",
       "unmarried          0.097709\n",
       "widow / widower    0.064990"
      ]
     },
     "execution_count": 187,
     "metadata": {},
     "output_type": "execute_result"
    }
   ],
   "source": [
    "df_selec.pivot_table(index='family_status', values='debt', aggfunc='mean')\n",
    "# Aprovechemos a ver como se comporta cada variable por separado\n",
    "# Comencemos con family_status"
   ]
  },
  {
   "cell_type": "code",
   "execution_count": 188,
   "metadata": {
    "scrolled": true
   },
   "outputs": [
    {
     "data": {
      "text/html": [
       "<div>\n",
       "<style scoped>\n",
       "    .dataframe tbody tr th:only-of-type {\n",
       "        vertical-align: middle;\n",
       "    }\n",
       "\n",
       "    .dataframe tbody tr th {\n",
       "        vertical-align: top;\n",
       "    }\n",
       "\n",
       "    .dataframe thead th {\n",
       "        text-align: right;\n",
       "    }\n",
       "</style>\n",
       "<table border=\"1\" class=\"dataframe\">\n",
       "  <thead>\n",
       "    <tr style=\"text-align: right;\">\n",
       "      <th></th>\n",
       "      <th>debt</th>\n",
       "    </tr>\n",
       "    <tr>\n",
       "      <th>children</th>\n",
       "      <th></th>\n",
       "    </tr>\n",
       "  </thead>\n",
       "  <tbody>\n",
       "    <tr>\n",
       "      <th>0</th>\n",
       "      <td>0.075453</td>\n",
       "    </tr>\n",
       "    <tr>\n",
       "      <th>1</th>\n",
       "      <td>0.091341</td>\n",
       "    </tr>\n",
       "    <tr>\n",
       "      <th>2</th>\n",
       "      <td>0.095553</td>\n",
       "    </tr>\n",
       "    <tr>\n",
       "      <th>3</th>\n",
       "      <td>0.082317</td>\n",
       "    </tr>\n",
       "    <tr>\n",
       "      <th>4</th>\n",
       "      <td>0.097561</td>\n",
       "    </tr>\n",
       "    <tr>\n",
       "      <th>5</th>\n",
       "      <td>0.000000</td>\n",
       "    </tr>\n",
       "  </tbody>\n",
       "</table>\n",
       "</div>"
      ],
      "text/plain": [
       "              debt\n",
       "children          \n",
       "0         0.075453\n",
       "1         0.091341\n",
       "2         0.095553\n",
       "3         0.082317\n",
       "4         0.097561\n",
       "5         0.000000"
      ]
     },
     "execution_count": 188,
     "metadata": {},
     "output_type": "execute_result"
    }
   ],
   "source": [
    "df_selec.pivot_table(index='children', values='debt', aggfunc='mean')\n",
    "# Children"
   ]
  },
  {
   "cell_type": "code",
   "execution_count": 189,
   "metadata": {
    "scrolled": true
   },
   "outputs": [
    {
     "data": {
      "text/html": [
       "<div>\n",
       "<style scoped>\n",
       "    .dataframe tbody tr th:only-of-type {\n",
       "        vertical-align: middle;\n",
       "    }\n",
       "\n",
       "    .dataframe tbody tr th {\n",
       "        vertical-align: top;\n",
       "    }\n",
       "\n",
       "    .dataframe thead th {\n",
       "        text-align: right;\n",
       "    }\n",
       "</style>\n",
       "<table border=\"1\" class=\"dataframe\">\n",
       "  <thead>\n",
       "    <tr style=\"text-align: right;\">\n",
       "      <th></th>\n",
       "      <th>debt</th>\n",
       "    </tr>\n",
       "    <tr>\n",
       "      <th>purpose</th>\n",
       "      <th></th>\n",
       "    </tr>\n",
       "  </thead>\n",
       "  <tbody>\n",
       "    <tr>\n",
       "      <th>car</th>\n",
       "      <td>0.093371</td>\n",
       "    </tr>\n",
       "    <tr>\n",
       "      <th>education</th>\n",
       "      <td>0.092616</td>\n",
       "    </tr>\n",
       "    <tr>\n",
       "      <th>real estate</th>\n",
       "      <td>0.072371</td>\n",
       "    </tr>\n",
       "    <tr>\n",
       "      <th>wedding</th>\n",
       "      <td>0.079654</td>\n",
       "    </tr>\n",
       "  </tbody>\n",
       "</table>\n",
       "</div>"
      ],
      "text/plain": [
       "                 debt\n",
       "purpose              \n",
       "car          0.093371\n",
       "education    0.092616\n",
       "real estate  0.072371\n",
       "wedding      0.079654"
      ]
     },
     "execution_count": 189,
     "metadata": {},
     "output_type": "execute_result"
    }
   ],
   "source": [
    "df_selec.pivot_table(index='purpose', values='debt', aggfunc='mean')\n",
    "# Purpose"
   ]
  },
  {
   "cell_type": "markdown",
   "metadata": {},
   "source": [
    "Las medias y medianas de las columna son bastante cercanos en la mayoría de los casos, esto significa que tenemos distribuciones simétricas en 3 de 4 columnas. La columna `real_estate` no sigue esta regla, además tiene una desviación estándar mucho más alta que el resto. Un rápido estudio de las tablas nos permite ver que esta columna posee algunos valores fuera de la norma y otros marcadamente más altos que el resto.\n",
    "\n",
    "Esto no cambiará las clasificaciones que diseñaremos, pero si muestran un patrón que se está formando. Veremos como evoluciona.\n",
    "\n",
    "Para comenzar a clasificar la probabilidad de deber un prestamo (x), crearemos las siguientes categorías su riesgo:\n",
    "\n",
    "- x=0: Seguro\n",
    "- 0<x<=0.01: Muy bajo\n",
    "- 0.01<x<=0.05: Bajo \n",
    "- 0.05<x<=0.10: Moderado\n",
    "- 0.10<x<=0.50: Alto\n",
    "- 0.50<x<1: Muy alto\n",
    "- x=1: Peligro\n",
    "\n",
    "Considerando el caso especial en que no tengamos datos como:\n",
    "- Sin información"
   ]
  },
  {
   "cell_type": "code",
   "execution_count": 190,
   "metadata": {},
   "outputs": [],
   "source": [
    "# Crear una función para clasificar en diferentes grupos numéricos basándose en rangos\n",
    "def prob_counter(x):\n",
    "    if x==0:\n",
    "        return 'Seguro'\n",
    "    elif 0<x<=0.01:\n",
    "        return 'Muy bajo'\n",
    "    elif 0.01<x<=0.05:\n",
    "        return 'Bajo'\n",
    "    elif 0.05<x<=0.075: \n",
    "        return 'Moderado bajo'\n",
    "    elif 0.075<x<=0.10: \n",
    "        return 'Moderado alto'\n",
    "    elif 0.10<x<=0.50: \n",
    "        return 'Alto'\n",
    "    elif 0.50<x<1:\n",
    "        return 'Muy alto'\n",
    "    elif x==1: \n",
    "        return 'Peligro'\n",
    "    else:\n",
    "        return 'Sin información'\n",
    "\n",
    "def fill_risk_cat(row):\n",
    "    purpose = row['purpose']\n",
    "    family_status = row['family_status']\n",
    "    children = row['children']\n",
    "    p = df_pay_prob[purpose][family_status][children]\n",
    "    return prob_counter(p)\n",
    "    \n",
    "\n"
   ]
  },
  {
   "cell_type": "code",
   "execution_count": 191,
   "metadata": {
    "scrolled": true
   },
   "outputs": [
    {
     "data": {
      "text/html": [
       "<div>\n",
       "<style scoped>\n",
       "    .dataframe tbody tr th:only-of-type {\n",
       "        vertical-align: middle;\n",
       "    }\n",
       "\n",
       "    .dataframe tbody tr th {\n",
       "        vertical-align: top;\n",
       "    }\n",
       "\n",
       "    .dataframe thead th {\n",
       "        text-align: right;\n",
       "    }\n",
       "</style>\n",
       "<table border=\"1\" class=\"dataframe\">\n",
       "  <thead>\n",
       "    <tr style=\"text-align: right;\">\n",
       "      <th></th>\n",
       "      <th>index</th>\n",
       "      <th>children</th>\n",
       "      <th>days_employed</th>\n",
       "      <th>dob_years</th>\n",
       "      <th>education</th>\n",
       "      <th>education_id</th>\n",
       "      <th>family_status</th>\n",
       "      <th>family_status_id</th>\n",
       "      <th>gender</th>\n",
       "      <th>income_type</th>\n",
       "      <th>debt</th>\n",
       "      <th>total_income</th>\n",
       "      <th>purpose</th>\n",
       "      <th>cat_age</th>\n",
       "      <th>purpose_id</th>\n",
       "      <th>risk_cat</th>\n",
       "    </tr>\n",
       "  </thead>\n",
       "  <tbody>\n",
       "    <tr>\n",
       "      <th>0</th>\n",
       "      <td>0</td>\n",
       "      <td>1</td>\n",
       "      <td>8437.673028</td>\n",
       "      <td>42</td>\n",
       "      <td>bachelor's degree</td>\n",
       "      <td>0</td>\n",
       "      <td>married</td>\n",
       "      <td>0</td>\n",
       "      <td>F</td>\n",
       "      <td>employee</td>\n",
       "      <td>0</td>\n",
       "      <td>40620.102</td>\n",
       "      <td>purchase of the house</td>\n",
       "      <td>40-46</td>\n",
       "      <td>real estate</td>\n",
       "      <td>Moderado bajo</td>\n",
       "    </tr>\n",
       "    <tr>\n",
       "      <th>1</th>\n",
       "      <td>1</td>\n",
       "      <td>1</td>\n",
       "      <td>4024.803754</td>\n",
       "      <td>36</td>\n",
       "      <td>secondary education</td>\n",
       "      <td>1</td>\n",
       "      <td>married</td>\n",
       "      <td>0</td>\n",
       "      <td>F</td>\n",
       "      <td>employee</td>\n",
       "      <td>0</td>\n",
       "      <td>17932.802</td>\n",
       "      <td>car purchase</td>\n",
       "      <td>33-39</td>\n",
       "      <td>car</td>\n",
       "      <td>Moderado alto</td>\n",
       "    </tr>\n",
       "    <tr>\n",
       "      <th>2</th>\n",
       "      <td>2</td>\n",
       "      <td>0</td>\n",
       "      <td>5623.422610</td>\n",
       "      <td>33</td>\n",
       "      <td>secondary education</td>\n",
       "      <td>1</td>\n",
       "      <td>married</td>\n",
       "      <td>0</td>\n",
       "      <td>M</td>\n",
       "      <td>employee</td>\n",
       "      <td>0</td>\n",
       "      <td>23341.752</td>\n",
       "      <td>purchase of the house</td>\n",
       "      <td>33-39</td>\n",
       "      <td>real estate</td>\n",
       "      <td>Moderado bajo</td>\n",
       "    </tr>\n",
       "    <tr>\n",
       "      <th>3</th>\n",
       "      <td>3</td>\n",
       "      <td>3</td>\n",
       "      <td>4124.747207</td>\n",
       "      <td>32</td>\n",
       "      <td>secondary education</td>\n",
       "      <td>1</td>\n",
       "      <td>married</td>\n",
       "      <td>0</td>\n",
       "      <td>M</td>\n",
       "      <td>employee</td>\n",
       "      <td>0</td>\n",
       "      <td>42820.568</td>\n",
       "      <td>supplementary education</td>\n",
       "      <td>26-32</td>\n",
       "      <td>education</td>\n",
       "      <td>Moderado bajo</td>\n",
       "    </tr>\n",
       "    <tr>\n",
       "      <th>4</th>\n",
       "      <td>4</td>\n",
       "      <td>0</td>\n",
       "      <td>340266.072047</td>\n",
       "      <td>53</td>\n",
       "      <td>secondary education</td>\n",
       "      <td>1</td>\n",
       "      <td>civil partnership</td>\n",
       "      <td>1</td>\n",
       "      <td>F</td>\n",
       "      <td>retiree</td>\n",
       "      <td>0</td>\n",
       "      <td>25378.572</td>\n",
       "      <td>to have a wedding</td>\n",
       "      <td>47-53</td>\n",
       "      <td>wedding</td>\n",
       "      <td>Moderado bajo</td>\n",
       "    </tr>\n",
       "  </tbody>\n",
       "</table>\n",
       "</div>"
      ],
      "text/plain": [
       "   index  children  days_employed  dob_years            education  \\\n",
       "0      0         1    8437.673028         42    bachelor's degree   \n",
       "1      1         1    4024.803754         36  secondary education   \n",
       "2      2         0    5623.422610         33  secondary education   \n",
       "3      3         3    4124.747207         32  secondary education   \n",
       "4      4         0  340266.072047         53  secondary education   \n",
       "\n",
       "   education_id      family_status  family_status_id gender income_type  debt  \\\n",
       "0             0            married                 0      F    employee     0   \n",
       "1             1            married                 0      F    employee     0   \n",
       "2             1            married                 0      M    employee     0   \n",
       "3             1            married                 0      M    employee     0   \n",
       "4             1  civil partnership                 1      F     retiree     0   \n",
       "\n",
       "   total_income                  purpose cat_age   purpose_id       risk_cat  \n",
       "0     40620.102    purchase of the house   40-46  real estate  Moderado bajo  \n",
       "1     17932.802             car purchase   33-39          car  Moderado alto  \n",
       "2     23341.752    purchase of the house   33-39  real estate  Moderado bajo  \n",
       "3     42820.568  supplementary education   26-32    education  Moderado bajo  \n",
       "4     25378.572        to have a wedding   47-53      wedding  Moderado bajo  "
      ]
     },
     "execution_count": 191,
     "metadata": {},
     "output_type": "execute_result"
    }
   ],
   "source": [
    "# Aplicamos la función\n",
    "df['risk_cat'] = df_selec.apply(fill_risk_cat, axis=1)\n",
    "df.head()"
   ]
  },
  {
   "cell_type": "code",
   "execution_count": 192,
   "metadata": {
    "scrolled": false
   },
   "outputs": [
    {
     "data": {
      "text/plain": [
       "Moderado bajo    11701\n",
       "Moderado alto     6030\n",
       "Alto              3026\n",
       "Bajo               530\n",
       "Seguro              65\n",
       "Peligro              1\n",
       "Name: risk_cat, dtype: int64"
      ]
     },
     "execution_count": 192,
     "metadata": {},
     "output_type": "execute_result"
    }
   ],
   "source": [
    "# Contar los valores de cada categoría para ver la distribución\n",
    "df['risk_cat'].value_counts()"
   ]
  },
  {
   "cell_type": "markdown",
   "metadata": {},
   "source": [
    "## Comprobación de las hipótesis\n"
   ]
  },
  {
   "cell_type": "markdown",
   "metadata": {},
   "source": [
    "**¿Existe una correlación entre tener hijos y pagar a tiempo?**"
   ]
  },
  {
   "cell_type": "code",
   "execution_count": 193,
   "metadata": {
    "scrolled": true
   },
   "outputs": [
    {
     "data": {
      "text/html": [
       "<div>\n",
       "<style scoped>\n",
       "    .dataframe tbody tr th:only-of-type {\n",
       "        vertical-align: middle;\n",
       "    }\n",
       "\n",
       "    .dataframe tbody tr th {\n",
       "        vertical-align: top;\n",
       "    }\n",
       "\n",
       "    .dataframe thead th {\n",
       "        text-align: right;\n",
       "    }\n",
       "</style>\n",
       "<table border=\"1\" class=\"dataframe\">\n",
       "  <thead>\n",
       "    <tr style=\"text-align: right;\">\n",
       "      <th></th>\n",
       "      <th>debt</th>\n",
       "    </tr>\n",
       "    <tr>\n",
       "      <th>children</th>\n",
       "      <th></th>\n",
       "    </tr>\n",
       "  </thead>\n",
       "  <tbody>\n",
       "    <tr>\n",
       "      <th>0</th>\n",
       "      <td>0.075453</td>\n",
       "    </tr>\n",
       "    <tr>\n",
       "      <th>1</th>\n",
       "      <td>0.091341</td>\n",
       "    </tr>\n",
       "    <tr>\n",
       "      <th>2</th>\n",
       "      <td>0.095553</td>\n",
       "    </tr>\n",
       "    <tr>\n",
       "      <th>3</th>\n",
       "      <td>0.082317</td>\n",
       "    </tr>\n",
       "    <tr>\n",
       "      <th>4</th>\n",
       "      <td>0.097561</td>\n",
       "    </tr>\n",
       "    <tr>\n",
       "      <th>5</th>\n",
       "      <td>0.000000</td>\n",
       "    </tr>\n",
       "  </tbody>\n",
       "</table>\n",
       "</div>"
      ],
      "text/plain": [
       "              debt\n",
       "children          \n",
       "0         0.075453\n",
       "1         0.091341\n",
       "2         0.095553\n",
       "3         0.082317\n",
       "4         0.097561\n",
       "5         0.000000"
      ]
     },
     "execution_count": 193,
     "metadata": {},
     "output_type": "execute_result"
    }
   ],
   "source": [
    "# Comprueba los datos sobre los hijos y los pagos puntuales\n",
    "df_children = df.pivot_table(index='children', values='debt', aggfunc='mean')\n",
    "\n",
    "# Calcular la tasa de incumplimiento en función del número de hijos\n",
    "df_children\n",
    "# La tasa se encuentra calculada al crear la pivot_table"
   ]
  },
  {
   "cell_type": "code",
   "execution_count": 228,
   "metadata": {
    "scrolled": true
   },
   "outputs": [
    {
     "data": {
      "image/png": "[encoded data removed]",
      "text/plain": [
       "<Figure size 432x288 with 1 Axes>"
      ]
     },
     "metadata": {
      "needs_background": "light"
     },
     "output_type": "display_data"
    }
   ],
   "source": [
    "plt.scatter(df_children.index, df_children)\n",
    "plt.grid()\n",
    "plt.xlabel(\"children\")\n",
    "plt.ylabel(\"debt\")\n",
    "plt.show()"
   ]
  },
  {
   "cell_type": "code",
   "execution_count": 195,
   "metadata": {},
   "outputs": [
    {
     "data": {
      "text/plain": [
       "0    14022\n",
       "1     4839\n",
       "2     2114\n",
       "3      328\n",
       "4       41\n",
       "5        9\n",
       "Name: children, dtype: int64"
      ]
     },
     "execution_count": 195,
     "metadata": {},
     "output_type": "execute_result"
    }
   ],
   "source": [
    "# Recordemos cual es la cantidad de hijos entre los clientes de nuestra base de datos\n",
    "df['children'].value_counts()"
   ]
  },
  {
   "cell_type": "markdown",
   "metadata": {},
   "source": [
    "**Conclusión**\n",
    "\n",
    "[Escribe tus conclusiones en base a tus manipulaciones y observaciones.]\n",
    "\n",
    "Primero se me hace importante notar que tenemos considerablemente menos casos con 3 o más niños, que en el resto de los casos. Esto podría cambiar los resultados obtenidos.\n",
    "\n",
    "Dicho esto, si parece existir una tendencia en que el riesgo aumenta con la cantidad de niños. Esta tendencia podría cambiar con una mayor cantidad de datos de personas con 3 o más niños, pues justamente en el caso de tener 3 niños, el riesgo disminuye. Este grupo podría ser caso de un siguiente estudio donde se indague en mayor profundidad.\n",
    "\n",
    "Aunque la tendencia pueda cambiar, actualmente esta existe según estos datos y debería ser considerada al momento de realizar un préstamo."
   ]
  },
  {
   "cell_type": "markdown",
   "metadata": {},
   "source": [
    "**¿Existe una correlación entre la situación familiar y el pago a tiempo?**"
   ]
  },
  {
   "cell_type": "code",
   "execution_count": 196,
   "metadata": {
    "scrolled": false
   },
   "outputs": [
    {
     "data": {
      "text/html": [
       "<div>\n",
       "<style scoped>\n",
       "    .dataframe tbody tr th:only-of-type {\n",
       "        vertical-align: middle;\n",
       "    }\n",
       "\n",
       "    .dataframe tbody tr th {\n",
       "        vertical-align: top;\n",
       "    }\n",
       "\n",
       "    .dataframe thead th {\n",
       "        text-align: right;\n",
       "    }\n",
       "</style>\n",
       "<table border=\"1\" class=\"dataframe\">\n",
       "  <thead>\n",
       "    <tr style=\"text-align: right;\">\n",
       "      <th></th>\n",
       "      <th>debt</th>\n",
       "    </tr>\n",
       "    <tr>\n",
       "      <th>family_status</th>\n",
       "      <th></th>\n",
       "    </tr>\n",
       "  </thead>\n",
       "  <tbody>\n",
       "    <tr>\n",
       "      <th>civil partnership</th>\n",
       "      <td>0.093462</td>\n",
       "    </tr>\n",
       "    <tr>\n",
       "      <th>divorced</th>\n",
       "      <td>0.071730</td>\n",
       "    </tr>\n",
       "    <tr>\n",
       "      <th>married</th>\n",
       "      <td>0.075427</td>\n",
       "    </tr>\n",
       "    <tr>\n",
       "      <th>unmarried</th>\n",
       "      <td>0.097709</td>\n",
       "    </tr>\n",
       "    <tr>\n",
       "      <th>widow / widower</th>\n",
       "      <td>0.064990</td>\n",
       "    </tr>\n",
       "  </tbody>\n",
       "</table>\n",
       "</div>"
      ],
      "text/plain": [
       "                       debt\n",
       "family_status              \n",
       "civil partnership  0.093462\n",
       "divorced           0.071730\n",
       "married            0.075427\n",
       "unmarried          0.097709\n",
       "widow / widower    0.064990"
      ]
     },
     "execution_count": 196,
     "metadata": {},
     "output_type": "execute_result"
    }
   ],
   "source": [
    "# Comprueba los datos del estado familiar y los pagos a tiempo\n",
    "df_family_status = df.pivot_table(index='family_status', values='debt', aggfunc='mean')\n",
    "\n",
    "\n",
    "\n",
    "# Calcular la tasa de incumplimiento basada en el estado familiar\n",
    "df_family_status\n",
    "# La tasa se encuentra calculada al crear la pivot_table"
   ]
  },
  {
   "cell_type": "markdown",
   "metadata": {},
   "source": [
    "Ordenemos esta tabla y grafiquemosla para ver de mejor manera la información."
   ]
  },
  {
   "cell_type": "code",
   "execution_count": 227,
   "metadata": {},
   "outputs": [
    {
     "data": {
      "image/png": "[encoded data removed]",
      "text/plain": [
       "<Figure size 432x288 with 1 Axes>"
      ]
     },
     "metadata": {
      "needs_background": "light"
     },
     "output_type": "display_data"
    }
   ],
   "source": [
    "df_family_status = df_family_status.sort_values('debt')\n",
    "plt.scatter(df_family_status.index, df_family_status)\n",
    "plt.grid()\n",
    "plt.ylabel(\"debt\")\n",
    "plt.show()"
   ]
  },
  {
   "cell_type": "code",
   "execution_count": 198,
   "metadata": {},
   "outputs": [
    {
     "data": {
      "text/plain": [
       "married              12290\n",
       "civil partnership     4130\n",
       "unmarried             2794\n",
       "divorced              1185\n",
       "widow / widower        954\n",
       "Name: family_status, dtype: int64"
      ]
     },
     "execution_count": 198,
     "metadata": {},
     "output_type": "execute_result"
    }
   ],
   "source": [
    "df['family_status'].value_counts()"
   ]
  },
  {
   "cell_type": "markdown",
   "metadata": {},
   "source": [
    "**Conclusión**\n",
    "\n",
    "[Escribe tus conclusiones en base a tus manipulaciones y observaciones.]\n",
    "\n",
    "Aquí podemos ver claramente como las personas solteras (no casadas) y con acuerdo civil son un riesgo mayor. Por otro lado, las personas divorciadas y viudas son los grupos con menor riesgo.\n",
    "\n",
    "Este aspecto debe ser considerado al momento de realizar un préstamo, pues vemos claras tendencias dentro de esta característica.\n",
    "\n",
    "Aunque también se hace importante notar que esta tendencia se encuentra dentro de un rango corto, poco más de 3% de diferencia entre el grupo menos riesgoso (viudos y viudas) y el grupo más riesgoso (solteros y solteras). Esta diferencia es pequeña, pero significativa."
   ]
  },
  {
   "cell_type": "markdown",
   "metadata": {},
   "source": [
    "**¿Existe una correlación entre el nivel de ingresos y el pago a tiempo?**"
   ]
  },
  {
   "cell_type": "code",
   "execution_count": 199,
   "metadata": {},
   "outputs": [
    {
     "data": {
      "text/html": [
       "<div>\n",
       "<style scoped>\n",
       "    .dataframe tbody tr th:only-of-type {\n",
       "        vertical-align: middle;\n",
       "    }\n",
       "\n",
       "    .dataframe tbody tr th {\n",
       "        vertical-align: top;\n",
       "    }\n",
       "\n",
       "    .dataframe thead th {\n",
       "        text-align: right;\n",
       "    }\n",
       "</style>\n",
       "<table border=\"1\" class=\"dataframe\">\n",
       "  <thead>\n",
       "    <tr style=\"text-align: right;\">\n",
       "      <th></th>\n",
       "      <th>debt</th>\n",
       "    </tr>\n",
       "    <tr>\n",
       "      <th>income_type</th>\n",
       "      <th></th>\n",
       "    </tr>\n",
       "  </thead>\n",
       "  <tbody>\n",
       "    <tr>\n",
       "      <th>entrepreneur</th>\n",
       "      <td>0.000000</td>\n",
       "    </tr>\n",
       "    <tr>\n",
       "      <th>student</th>\n",
       "      <td>0.000000</td>\n",
       "    </tr>\n",
       "    <tr>\n",
       "      <th>retiree</th>\n",
       "      <td>0.056445</td>\n",
       "    </tr>\n",
       "    <tr>\n",
       "      <th>civil servant</th>\n",
       "      <td>0.059269</td>\n",
       "    </tr>\n",
       "    <tr>\n",
       "      <th>business</th>\n",
       "      <td>0.074140</td>\n",
       "    </tr>\n",
       "    <tr>\n",
       "      <th>employee</th>\n",
       "      <td>0.095657</td>\n",
       "    </tr>\n",
       "    <tr>\n",
       "      <th>unemployed</th>\n",
       "      <td>0.500000</td>\n",
       "    </tr>\n",
       "    <tr>\n",
       "      <th>paternity / maternity leave</th>\n",
       "      <td>1.000000</td>\n",
       "    </tr>\n",
       "  </tbody>\n",
       "</table>\n",
       "</div>"
      ],
      "text/plain": [
       "                                 debt\n",
       "income_type                          \n",
       "entrepreneur                 0.000000\n",
       "student                      0.000000\n",
       "retiree                      0.056445\n",
       "civil servant                0.059269\n",
       "business                     0.074140\n",
       "employee                     0.095657\n",
       "unemployed                   0.500000\n",
       "paternity / maternity leave  1.000000"
      ]
     },
     "execution_count": 199,
     "metadata": {},
     "output_type": "execute_result"
    }
   ],
   "source": [
    "# Comprueba los datos del nivel de ingresos y los pagos a tiempo\n",
    "df_income_type = df.pivot_table(index='income_type', values='debt', aggfunc='mean')\n",
    "\n",
    "\n",
    "# Calcular la tasa de incumplimiento basada en el nivel de ingresos\n",
    "df_income_type.sort_values('debt')\n",
    "# La tasa se encuentra calculada al crear la pivot_table"
   ]
  },
  {
   "cell_type": "code",
   "execution_count": 226,
   "metadata": {},
   "outputs": [
    {
     "data": {
      "image/png": "[encoded data removed]",
      "text/plain": [
       "<Figure size 1080x576 with 1 Axes>"
      ]
     },
     "metadata": {
      "needs_background": "light"
     },
     "output_type": "display_data"
    }
   ],
   "source": [
    "df_income_type = df_income_type.sort_values('debt')\n",
    "plt.figure(figsize=(15,8))\n",
    "plt.scatter(df_income_type.index, df_income_type)\n",
    "plt.grid()\n",
    "plt.ylabel(\"debt\")\n",
    "plt.show()"
   ]
  },
  {
   "cell_type": "code",
   "execution_count": 201,
   "metadata": {},
   "outputs": [
    {
     "data": {
      "text/plain": [
       "employee                       11029\n",
       "business                        5058\n",
       "retiree                         3809\n",
       "civil servant                   1451\n",
       "entrepreneur                       2\n",
       "unemployed                         2\n",
       "paternity / maternity leave        1\n",
       "student                            1\n",
       "Name: income_type, dtype: int64"
      ]
     },
     "execution_count": 201,
     "metadata": {},
     "output_type": "execute_result"
    }
   ],
   "source": [
    "df['income_type'].value_counts()"
   ]
  },
  {
   "cell_type": "markdown",
   "metadata": {},
   "source": [
    "**Conclusión**\n",
    "\n",
    "Aunque viendo el gráfico podríamos llegar a una conclusión rápida y clara, también debemos considerar los datos de los que nace este gráfico. Los casos de `unemployed` y `paternity / maternity leave` suman 3 entre ambos de lo 21353 casos totales. Se ven más riesgosos, pero datos nuevos dentro de estas 2 categorías podrían cambiar rapidamente el resultado. Es por esto que no se pueden hacer conclusiones para estas dos categorías, ni para `student` y `entrepeneur`. Estos dos últimos se de muy bajo riesgo, pero nueva información también podría hacerlos cambiar rapidamente.\n",
    "\n",
    "Se recomienda realizar préstamos con sumo cuidado para estos 4 grupos, sobre todo para los casos de `unemployed` y `paternity / maternity leave`. Estos podrían cambiar en el futuro, pero por ahora se encuentran dentro de la zona de alto riesgo.\n",
    "\n",
    "Ahora podemos analizar los casos con una mayor cantidad de casos. Entre estos el más riesgoso resulta ser `employee` con casi 10% de riesgo frente a un préstamo. Por el otro lado, los casos de `retiree` y `civil servant` son los más seguros con riesgo entre 5% y 6%. Con `business` encontrandose en un punto medio con 7.5% de riesgo.\n"
   ]
  },
  {
   "cell_type": "markdown",
   "metadata": {},
   "source": [
    "**¿Cómo afecta el propósito del crédito a la tasa de incumplimiento?**"
   ]
  },
  {
   "cell_type": "code",
   "execution_count": 202,
   "metadata": {
    "scrolled": true
   },
   "outputs": [
    {
     "data": {
      "text/html": [
       "<div>\n",
       "<style scoped>\n",
       "    .dataframe tbody tr th:only-of-type {\n",
       "        vertical-align: middle;\n",
       "    }\n",
       "\n",
       "    .dataframe tbody tr th {\n",
       "        vertical-align: top;\n",
       "    }\n",
       "\n",
       "    .dataframe thead th {\n",
       "        text-align: right;\n",
       "    }\n",
       "</style>\n",
       "<table border=\"1\" class=\"dataframe\">\n",
       "  <thead>\n",
       "    <tr style=\"text-align: right;\">\n",
       "      <th></th>\n",
       "      <th>debt</th>\n",
       "    </tr>\n",
       "    <tr>\n",
       "      <th>purpose_id</th>\n",
       "      <th></th>\n",
       "    </tr>\n",
       "  </thead>\n",
       "  <tbody>\n",
       "    <tr>\n",
       "      <th>real estate</th>\n",
       "      <td>0.072371</td>\n",
       "    </tr>\n",
       "    <tr>\n",
       "      <th>wedding</th>\n",
       "      <td>0.079654</td>\n",
       "    </tr>\n",
       "    <tr>\n",
       "      <th>education</th>\n",
       "      <td>0.092616</td>\n",
       "    </tr>\n",
       "    <tr>\n",
       "      <th>car</th>\n",
       "      <td>0.093371</td>\n",
       "    </tr>\n",
       "  </tbody>\n",
       "</table>\n",
       "</div>"
      ],
      "text/plain": [
       "                 debt\n",
       "purpose_id           \n",
       "real estate  0.072371\n",
       "wedding      0.079654\n",
       "education    0.092616\n",
       "car          0.093371"
      ]
     },
     "execution_count": 202,
     "metadata": {},
     "output_type": "execute_result"
    }
   ],
   "source": [
    "# Consulta los porcentajes de tasa de incumplimiento para cada propósito del crédito y analízalos\n",
    "df_purpose = df.pivot_table(index='purpose_id', values='debt', aggfunc='mean')\n",
    "\n",
    "df_purpose.sort_values('debt')\n"
   ]
  },
  {
   "cell_type": "code",
   "execution_count": 229,
   "metadata": {},
   "outputs": [
    {
     "data": {
      "image/png": "[encoded data removed]",
      "text/plain": [
       "<Figure size 432x288 with 1 Axes>"
      ]
     },
     "metadata": {
      "needs_background": "light"
     },
     "output_type": "display_data"
    }
   ],
   "source": [
    "df_purpose = df_purpose.sort_values('debt')\n",
    "plt.scatter(df_purpose.index, df_purpose)\n",
    "plt.grid()\n",
    "plt.ylabel(\"debt\")\n",
    "plt.show()"
   ]
  },
  {
   "cell_type": "code",
   "execution_count": 204,
   "metadata": {},
   "outputs": [
    {
     "data": {
      "text/plain": [
       "real estate    10764\n",
       "car             4284\n",
       "education       3995\n",
       "wedding         2310\n",
       "Name: purpose_id, dtype: int64"
      ]
     },
     "execution_count": 204,
     "metadata": {},
     "output_type": "execute_result"
    }
   ],
   "source": [
    "df['purpose_id'].value_counts()"
   ]
  },
  {
   "cell_type": "markdown",
   "metadata": {},
   "source": [
    "**Conclusión**\n",
    "\n",
    "Al igual que en casos anteriores, tenemos una diferencia pequeña, pero significativa. Esta vez de 2% entre menos riesgoso (`real estate`) y el más riesgoso (`car`).\n",
    "\n",
    "Entre las 4 categorías de `purpose`, tenemos:\n",
    "- 2 de mayor riesgo: `education` y `car`\n",
    "- 1 de medio riesgo: `wedding`\n",
    "- 1 de bajo riesgo: `real estate`\n",
    "\n",
    "La tendencia es clara, se recomienda tener cuidado con los préstamos para `education` y `car`, pues presentan un mayor riesgo."
   ]
  },
  {
   "cell_type": "markdown",
   "metadata": {},
   "source": [
    "# Conclusión general \n",
    "\n",
    "Comenzamos analizando todos los datos y tratando los datos ausentes. Estos se concentraron en 2 columna, `days_employed` y `total_income`. Para tratar estos datos nos fijamos en la edad del cliente y creamos categorías para este. Luego encontramos la mediana de cada categoría según la columna que queremos rellenar. Debemos hacer esto por separado para cada columna, de esta forma no alteramos el Dataframe con información falsa. Se decidió usar la mediana y no la media, pues los valores no están distribuidos simetricamente y esto podría alterar la información recopilada.\n",
    "\n",
    "Luego, tratamos la columna `purpose` que posee el propóito para los préstamos. Con este fin creamos 4 categorías en las que caerán los préstamos. Estas categorías son: `real estate`, `car`, `education` y `wedding`. Estas se agregaran en una nueva columna llamada `purpose_id` para así no perder los detalles de cada préstamo.\n",
    "\n",
    "Con un Dataframe listo y confiable, comenzamos con la comprobación de las hipótesis. Para esto veremos el porcentaje de riesgo según 4 columnas e identificaremos los casos de mayor y menor riesgo:\n",
    "- `children`:\n",
    "1. Con una mayor cantidad de niños, el riesgo de tener un préstamo impago aumenta, aunque esta tendencia podría cambiar al tener una mayor cantidad de información de personas con 3 o más niños. Justamente las personas con 3 niños tienen un menor porcentaje de riesgo que el resto, casi el mismo que las personas sin hijos.\n",
    "\n",
    "- `family_status`:\n",
    "1. `unmarried` y `civil partnership`: Un riesgo marcadamente mayor frente a las otras categorías.\n",
    "2. `widow/widower`: El menor riesgo de todas las categorías de familia.\n",
    "\n",
    "- `income_type`:\n",
    "1. `paternity / maternity leave` y `unemployed`: De muy alto riesgo, aunque con poca información, estas categorías deberían ser observadas con cuidado por cambios en el futuro frente a nueva información.\n",
    "2. `entrepeneur` y `student`: De muy bajo riesgo, pero, al igual que el caso anterior, cuenta con muy poca información y podría cambiar en el futuro con nueva información. \n",
    "3. `employee`: De riesgo moderado alto y con suficiente información para asegurar este riesgo en el tiempo.\n",
    "4. `retiree`: De riesgo moderado bajo y con suficiente información para asegurar este riesgo en el tiempo.\n",
    "\n",
    "- `purpose`:\n",
    "1. `car` y `education`: Tienen un riesgo marcadamente mayor que el resto de las categorías.\n",
    "2. `real estate`: El préstamo con el proposito más seguro, aunque debería estudiarse en conjunto con las otras informaciones del cliente, pues puede cambiar.\n",
    "\n",
    "Finalmente, se deja la función `fill_risk_cat` que permitirá calcular el rango de riesgo presente en nuevos clientes y que ya se ha aplicado a los clientes existentes. Este rango puede encontrarse en la columna `risk_cat` y muestra que la mayoría de los clientes poseen un rango de riesgo moderado. Al ser tantos, esta categoría se subdividió en 2 rangos, moderado alto y moderado bajo. Se recomienda conceder préstamos a todo cliente con un riesgo moderado bajo o menor y estudiar más a fondo los casos con riesgo moderado alto. Cualquier riesgo mayor a este deberá ser estudiado por la institución al momento de aceptar o denegar un préstamo.\n"
   ]
  }
 ],
 "metadata": {
  "ExecuteTimeLog": [
   {
    "duration": 2741,
    "start_time": "2021-10-21T01:08:49.480Z"
   },
   {
    "duration": 52,
    "start_time": "2021-10-21T01:08:53.315Z"
   },
   {
    "duration": 49,
    "start_time": "2021-10-21T01:08:57.432Z"
   },
   {
    "duration": 70,
    "start_time": "2021-10-21T01:09:07.706Z"
   },
   {
    "duration": 50,
    "start_time": "2022-03-23T20:03:36.552Z"
   },
   {
    "duration": 564,
    "start_time": "2022-03-23T20:03:43.870Z"
   },
   {
    "duration": 16,
    "start_time": "2022-03-23T20:03:48.217Z"
   },
   {
    "duration": 20,
    "start_time": "2022-03-23T20:04:10.220Z"
   },
   {
    "duration": 29,
    "start_time": "2022-03-23T20:10:19.015Z"
   },
   {
    "duration": 190,
    "start_time": "2022-03-23T20:10:29.205Z"
   },
   {
    "duration": 4,
    "start_time": "2022-03-23T20:12:04.425Z"
   },
   {
    "duration": 14,
    "start_time": "2022-03-23T20:13:56.549Z"
   },
   {
    "duration": 14,
    "start_time": "2022-03-23T20:22:23.377Z"
   },
   {
    "duration": 9,
    "start_time": "2022-03-23T20:28:21.252Z"
   },
   {
    "duration": 185,
    "start_time": "2022-03-23T20:28:36.259Z"
   },
   {
    "duration": 8,
    "start_time": "2022-03-23T20:28:56.088Z"
   },
   {
    "duration": 20,
    "start_time": "2022-03-23T20:29:35.234Z"
   },
   {
    "duration": 27,
    "start_time": "2022-03-23T20:31:31.971Z"
   },
   {
    "duration": 13,
    "start_time": "2022-03-23T20:32:03.482Z"
   },
   {
    "duration": 14,
    "start_time": "2022-03-23T20:32:39.501Z"
   },
   {
    "duration": 15,
    "start_time": "2022-03-23T20:32:55.012Z"
   },
   {
    "duration": 12,
    "start_time": "2022-03-23T20:33:03.590Z"
   },
   {
    "duration": 19,
    "start_time": "2022-03-23T20:46:54.633Z"
   },
   {
    "duration": 11,
    "start_time": "2022-03-23T21:04:48.082Z"
   },
   {
    "duration": 13,
    "start_time": "2022-03-23T21:05:57.444Z"
   },
   {
    "duration": 12,
    "start_time": "2022-03-23T21:06:07.308Z"
   },
   {
    "duration": 10,
    "start_time": "2022-03-23T21:07:08.726Z"
   },
   {
    "duration": 19,
    "start_time": "2022-03-23T21:07:27.821Z"
   },
   {
    "duration": 46,
    "start_time": "2022-03-24T15:54:36.206Z"
   },
   {
    "duration": 533,
    "start_time": "2022-03-24T15:54:54.446Z"
   },
   {
    "duration": 15,
    "start_time": "2022-03-24T15:54:54.981Z"
   },
   {
    "duration": 32,
    "start_time": "2022-03-24T15:54:54.998Z"
   },
   {
    "duration": 37,
    "start_time": "2022-03-24T15:54:55.033Z"
   },
   {
    "duration": 35,
    "start_time": "2022-03-24T15:54:55.072Z"
   },
   {
    "duration": 32,
    "start_time": "2022-03-24T15:54:55.108Z"
   },
   {
    "duration": 26,
    "start_time": "2022-03-24T15:54:55.142Z"
   },
   {
    "duration": 4,
    "start_time": "2022-03-24T15:54:58.377Z"
   },
   {
    "duration": 4,
    "start_time": "2022-03-24T15:56:25.611Z"
   },
   {
    "duration": 5,
    "start_time": "2022-03-24T15:57:25.437Z"
   },
   {
    "duration": 14,
    "start_time": "2022-03-24T16:23:41.541Z"
   },
   {
    "duration": 2112,
    "start_time": "2022-03-24T16:24:06.966Z"
   },
   {
    "duration": 5,
    "start_time": "2022-03-24T16:24:14.404Z"
   },
   {
    "duration": 5,
    "start_time": "2022-03-24T16:52:32.274Z"
   },
   {
    "duration": 15,
    "start_time": "2022-03-24T16:55:55.810Z"
   },
   {
    "duration": 7,
    "start_time": "2022-03-24T20:32:15.786Z"
   },
   {
    "duration": 21,
    "start_time": "2022-03-24T20:49:42.982Z"
   },
   {
    "duration": 15,
    "start_time": "2022-03-24T20:50:09.271Z"
   },
   {
    "duration": 11,
    "start_time": "2022-03-24T20:50:19.685Z"
   },
   {
    "duration": 13,
    "start_time": "2022-03-24T20:50:29.246Z"
   },
   {
    "duration": 13,
    "start_time": "2022-03-24T20:51:12.245Z"
   },
   {
    "duration": 7,
    "start_time": "2022-03-24T20:52:22.852Z"
   },
   {
    "duration": 5,
    "start_time": "2022-03-24T20:52:39.655Z"
   },
   {
    "duration": 7,
    "start_time": "2022-03-24T21:01:12.225Z"
   },
   {
    "duration": 7,
    "start_time": "2022-03-24T21:14:50.327Z"
   },
   {
    "duration": 8,
    "start_time": "2022-03-24T21:15:07.005Z"
   },
   {
    "duration": 5,
    "start_time": "2022-03-24T21:15:39.773Z"
   },
   {
    "duration": 7,
    "start_time": "2022-03-24T21:15:49.916Z"
   },
   {
    "duration": 7,
    "start_time": "2022-03-24T21:18:14.151Z"
   },
   {
    "duration": 6,
    "start_time": "2022-03-24T21:18:16.536Z"
   },
   {
    "duration": 6,
    "start_time": "2022-03-24T21:24:50.751Z"
   },
   {
    "duration": 6,
    "start_time": "2022-03-24T21:25:05.015Z"
   },
   {
    "duration": 6,
    "start_time": "2022-03-24T21:32:17.754Z"
   },
   {
    "duration": 6,
    "start_time": "2022-03-24T21:33:06.747Z"
   },
   {
    "duration": 6,
    "start_time": "2022-03-24T23:22:24.714Z"
   },
   {
    "duration": 6,
    "start_time": "2022-03-24T23:22:37.797Z"
   },
   {
    "duration": 7,
    "start_time": "2022-03-24T23:23:51.309Z"
   },
   {
    "duration": 7,
    "start_time": "2022-03-24T23:24:15.891Z"
   },
   {
    "duration": 6,
    "start_time": "2022-03-24T23:25:23.429Z"
   },
   {
    "duration": 7,
    "start_time": "2022-03-24T23:32:04.401Z"
   },
   {
    "duration": 6,
    "start_time": "2022-03-24T23:32:10.566Z"
   },
   {
    "duration": 6,
    "start_time": "2022-03-25T00:03:39.134Z"
   },
   {
    "duration": 6,
    "start_time": "2022-03-25T00:07:02.574Z"
   },
   {
    "duration": 5,
    "start_time": "2022-03-25T00:10:42.763Z"
   },
   {
    "duration": 5,
    "start_time": "2022-03-25T00:10:58.370Z"
   },
   {
    "duration": 6,
    "start_time": "2022-03-25T00:11:18.224Z"
   },
   {
    "duration": 7,
    "start_time": "2022-03-25T00:11:28.483Z"
   },
   {
    "duration": 5,
    "start_time": "2022-03-25T00:12:52.756Z"
   },
   {
    "duration": 6,
    "start_time": "2022-03-25T00:17:37.130Z"
   },
   {
    "duration": 51,
    "start_time": "2022-04-18T21:24:08.724Z"
   },
   {
    "duration": 741,
    "start_time": "2022-04-18T21:24:13.278Z"
   },
   {
    "duration": 4,
    "start_time": "2022-04-18T21:24:15.750Z"
   },
   {
    "duration": 3,
    "start_time": "2022-04-18T21:24:23.167Z"
   },
   {
    "duration": 31,
    "start_time": "2022-04-18T21:36:34.056Z"
   },
   {
    "duration": 114,
    "start_time": "2022-04-18T21:36:48.017Z"
   },
   {
    "duration": 4,
    "start_time": "2022-04-18T21:36:48.133Z"
   },
   {
    "duration": 22,
    "start_time": "2022-04-18T21:36:48.139Z"
   },
   {
    "duration": 33,
    "start_time": "2022-04-18T21:36:48.164Z"
   },
   {
    "duration": 24,
    "start_time": "2022-04-18T21:36:48.199Z"
   },
   {
    "duration": 12,
    "start_time": "2022-04-18T21:36:48.225Z"
   },
   {
    "duration": 16,
    "start_time": "2022-04-18T21:36:48.239Z"
   },
   {
    "duration": 684,
    "start_time": "2022-04-18T21:36:48.257Z"
   },
   {
    "duration": 147,
    "start_time": "2022-04-18T21:37:13.959Z"
   },
   {
    "duration": 143,
    "start_time": "2022-04-18T21:38:08.989Z"
   },
   {
    "duration": 148,
    "start_time": "2022-04-18T21:38:20.820Z"
   },
   {
    "duration": 209,
    "start_time": "2022-04-18T21:38:50.741Z"
   },
   {
    "duration": 110,
    "start_time": "2022-04-18T21:40:23.735Z"
   },
   {
    "duration": 173,
    "start_time": "2022-04-18T21:41:00.868Z"
   },
   {
    "duration": 158,
    "start_time": "2022-04-18T21:42:24.168Z"
   },
   {
    "duration": 157,
    "start_time": "2022-04-18T21:43:03.139Z"
   },
   {
    "duration": 5,
    "start_time": "2022-04-18T21:46:21.959Z"
   },
   {
    "duration": 6,
    "start_time": "2022-04-18T21:46:30.207Z"
   },
   {
    "duration": 16,
    "start_time": "2022-04-18T21:46:58.596Z"
   },
   {
    "duration": 156,
    "start_time": "2022-04-18T21:47:26.369Z"
   },
   {
    "duration": 154,
    "start_time": "2022-04-18T21:47:29.512Z"
   },
   {
    "duration": 8,
    "start_time": "2022-04-18T22:12:47.466Z"
   },
   {
    "duration": 213,
    "start_time": "2022-04-18T22:13:01.521Z"
   },
   {
    "duration": 200,
    "start_time": "2022-04-18T22:13:32.274Z"
   },
   {
    "duration": 155,
    "start_time": "2022-04-18T22:13:44.428Z"
   },
   {
    "duration": 22,
    "start_time": "2022-04-18T22:32:36.164Z"
   },
   {
    "duration": 24,
    "start_time": "2022-04-18T22:34:15.883Z"
   },
   {
    "duration": 535,
    "start_time": "2022-04-18T22:34:33.167Z"
   },
   {
    "duration": 671,
    "start_time": "2022-04-18T22:48:55.638Z"
   },
   {
    "duration": 8,
    "start_time": "2022-04-18T22:49:22.074Z"
   },
   {
    "duration": 174,
    "start_time": "2022-04-18T22:49:35.521Z"
   },
   {
    "duration": 8,
    "start_time": "2022-04-18T22:49:52.648Z"
   },
   {
    "duration": 12,
    "start_time": "2022-04-18T22:54:39.421Z"
   },
   {
    "duration": 164,
    "start_time": "2022-04-18T22:54:47.570Z"
   },
   {
    "duration": 7,
    "start_time": "2022-04-18T22:55:26.130Z"
   },
   {
    "duration": 7,
    "start_time": "2022-04-18T22:55:50.089Z"
   },
   {
    "duration": 11,
    "start_time": "2022-04-18T23:09:52.595Z"
   },
   {
    "duration": 2929,
    "start_time": "2022-04-19T02:00:47.513Z"
   },
   {
    "duration": 10,
    "start_time": "2022-04-19T02:01:31.339Z"
   },
   {
    "duration": 11,
    "start_time": "2022-04-19T02:02:03.196Z"
   },
   {
    "duration": 109,
    "start_time": "2022-04-19T02:02:08.954Z"
   },
   {
    "duration": 11,
    "start_time": "2022-04-19T02:02:17.585Z"
   },
   {
    "duration": 12,
    "start_time": "2022-04-19T02:02:28.817Z"
   },
   {
    "duration": 8,
    "start_time": "2022-04-19T02:02:43.202Z"
   },
   {
    "duration": 8,
    "start_time": "2022-04-19T02:04:11.028Z"
   },
   {
    "duration": 8,
    "start_time": "2022-04-19T02:08:02.402Z"
   },
   {
    "duration": 17,
    "start_time": "2022-04-19T02:08:11.713Z"
   },
   {
    "duration": 18,
    "start_time": "2022-04-19T02:08:28.438Z"
   },
   {
    "duration": 15,
    "start_time": "2022-04-19T02:08:34.283Z"
   },
   {
    "duration": 19,
    "start_time": "2022-04-19T02:10:52.501Z"
   },
   {
    "duration": 16,
    "start_time": "2022-04-19T02:11:05.498Z"
   },
   {
    "duration": 11,
    "start_time": "2022-04-19T02:11:48.029Z"
   },
   {
    "duration": 11,
    "start_time": "2022-04-19T02:13:58.734Z"
   },
   {
    "duration": 8,
    "start_time": "2022-04-19T02:35:26.312Z"
   },
   {
    "duration": 8,
    "start_time": "2022-04-19T02:41:20.450Z"
   },
   {
    "duration": 965,
    "start_time": "2022-04-24T17:18:19.396Z"
   },
   {
    "duration": 4,
    "start_time": "2022-04-24T17:18:20.363Z"
   },
   {
    "duration": 22,
    "start_time": "2022-04-24T17:18:20.369Z"
   },
   {
    "duration": 16,
    "start_time": "2022-04-24T17:18:20.393Z"
   },
   {
    "duration": 16,
    "start_time": "2022-04-24T17:18:20.411Z"
   },
   {
    "duration": 12,
    "start_time": "2022-04-24T17:18:20.429Z"
   },
   {
    "duration": 41,
    "start_time": "2022-04-24T17:18:20.443Z"
   },
   {
    "duration": 6,
    "start_time": "2022-04-24T17:18:20.486Z"
   },
   {
    "duration": 181,
    "start_time": "2022-04-24T17:18:20.494Z"
   },
   {
    "duration": 108,
    "start_time": "2022-04-24T17:18:20.678Z"
   },
   {
    "duration": 0,
    "start_time": "2022-04-24T17:18:20.788Z"
   },
   {
    "duration": 0,
    "start_time": "2022-04-24T17:18:20.789Z"
   },
   {
    "duration": 0,
    "start_time": "2022-04-24T17:18:20.791Z"
   },
   {
    "duration": 7,
    "start_time": "2022-04-24T17:25:40.392Z"
   },
   {
    "duration": 22,
    "start_time": "2022-04-24T17:33:03.425Z"
   },
   {
    "duration": 7,
    "start_time": "2022-04-24T17:33:09.353Z"
   },
   {
    "duration": 20,
    "start_time": "2022-04-24T17:33:32.652Z"
   },
   {
    "duration": 7,
    "start_time": "2022-04-24T17:33:36.111Z"
   },
   {
    "duration": 17,
    "start_time": "2022-04-24T17:35:46.625Z"
   },
   {
    "duration": 6,
    "start_time": "2022-04-24T17:35:48.562Z"
   },
   {
    "duration": 19,
    "start_time": "2022-04-24T17:36:28.481Z"
   },
   {
    "duration": 7,
    "start_time": "2022-04-24T17:36:29.912Z"
   },
   {
    "duration": 21,
    "start_time": "2022-04-24T17:36:44.362Z"
   },
   {
    "duration": 8,
    "start_time": "2022-04-24T17:36:45.261Z"
   },
   {
    "duration": 22,
    "start_time": "2022-04-24T17:37:03.897Z"
   },
   {
    "duration": 7,
    "start_time": "2022-04-24T17:37:06.242Z"
   },
   {
    "duration": 21,
    "start_time": "2022-04-24T17:37:13.737Z"
   },
   {
    "duration": 7,
    "start_time": "2022-04-24T17:37:15.887Z"
   },
   {
    "duration": 138,
    "start_time": "2022-04-24T17:37:55.637Z"
   },
   {
    "duration": 135,
    "start_time": "2022-04-24T17:38:07.411Z"
   },
   {
    "duration": 174,
    "start_time": "2022-04-24T17:38:25.743Z"
   },
   {
    "duration": 222,
    "start_time": "2022-04-24T17:39:12.731Z"
   },
   {
    "duration": 7,
    "start_time": "2022-04-24T17:39:34.209Z"
   },
   {
    "duration": 6,
    "start_time": "2022-04-24T17:45:58.717Z"
   },
   {
    "duration": 9,
    "start_time": "2022-04-24T17:46:19.752Z"
   },
   {
    "duration": 117,
    "start_time": "2022-04-24T17:48:41.929Z"
   },
   {
    "duration": 14,
    "start_time": "2022-04-24T17:48:54.333Z"
   },
   {
    "duration": 7,
    "start_time": "2022-04-24T17:49:07.482Z"
   },
   {
    "duration": 9,
    "start_time": "2022-04-24T17:49:22.085Z"
   },
   {
    "duration": 13,
    "start_time": "2022-04-24T17:49:46.947Z"
   },
   {
    "duration": 9,
    "start_time": "2022-04-24T17:49:52.434Z"
   },
   {
    "duration": 8,
    "start_time": "2022-04-24T17:49:55.371Z"
   },
   {
    "duration": 13,
    "start_time": "2022-04-24T17:51:57.489Z"
   },
   {
    "duration": 230,
    "start_time": "2022-04-24T17:52:28.874Z"
   },
   {
    "duration": 132,
    "start_time": "2022-04-24T17:52:47.490Z"
   },
   {
    "duration": 124,
    "start_time": "2022-04-24T17:53:32.162Z"
   },
   {
    "duration": 15,
    "start_time": "2022-04-24T17:53:39.723Z"
   },
   {
    "duration": 127,
    "start_time": "2022-04-24T17:56:11.727Z"
   },
   {
    "duration": 99,
    "start_time": "2022-04-24T18:10:27.398Z"
   },
   {
    "duration": 5,
    "start_time": "2022-04-24T18:10:27.499Z"
   },
   {
    "duration": 18,
    "start_time": "2022-04-24T18:10:27.506Z"
   },
   {
    "duration": 22,
    "start_time": "2022-04-24T18:10:27.527Z"
   },
   {
    "duration": 35,
    "start_time": "2022-04-24T18:10:27.551Z"
   },
   {
    "duration": 12,
    "start_time": "2022-04-24T18:10:27.588Z"
   },
   {
    "duration": 14,
    "start_time": "2022-04-24T18:10:27.602Z"
   },
   {
    "duration": 6,
    "start_time": "2022-04-24T18:10:27.618Z"
   },
   {
    "duration": 226,
    "start_time": "2022-04-24T18:10:27.625Z"
   },
   {
    "duration": 186,
    "start_time": "2022-04-24T18:10:27.854Z"
   },
   {
    "duration": 11,
    "start_time": "2022-04-24T18:10:28.042Z"
   },
   {
    "duration": 30,
    "start_time": "2022-04-24T18:10:28.056Z"
   },
   {
    "duration": 11,
    "start_time": "2022-04-24T18:10:28.089Z"
   },
   {
    "duration": 8,
    "start_time": "2022-04-24T18:10:28.102Z"
   },
   {
    "duration": 28,
    "start_time": "2022-04-24T18:10:28.112Z"
   },
   {
    "duration": 35,
    "start_time": "2022-04-24T18:10:28.142Z"
   },
   {
    "duration": 23,
    "start_time": "2022-04-24T18:10:28.179Z"
   },
   {
    "duration": 9,
    "start_time": "2022-04-24T18:10:28.204Z"
   },
   {
    "duration": 7,
    "start_time": "2022-04-24T18:10:28.216Z"
   },
   {
    "duration": 10,
    "start_time": "2022-04-24T18:10:28.226Z"
   },
   {
    "duration": 37,
    "start_time": "2022-04-24T18:10:28.238Z"
   },
   {
    "duration": 3,
    "start_time": "2022-04-24T18:10:28.277Z"
   },
   {
    "duration": 9,
    "start_time": "2022-04-24T18:10:28.282Z"
   },
   {
    "duration": 6,
    "start_time": "2022-04-24T18:10:28.294Z"
   },
   {
    "duration": 7,
    "start_time": "2022-04-24T18:10:28.302Z"
   },
   {
    "duration": 5,
    "start_time": "2022-04-24T18:10:28.311Z"
   },
   {
    "duration": 6,
    "start_time": "2022-04-24T18:10:28.318Z"
   },
   {
    "duration": 3,
    "start_time": "2022-04-24T18:10:28.332Z"
   },
   {
    "duration": 38,
    "start_time": "2022-04-24T18:10:28.337Z"
   },
   {
    "duration": 9,
    "start_time": "2022-04-24T18:10:28.377Z"
   },
   {
    "duration": 6,
    "start_time": "2022-04-24T18:10:28.388Z"
   },
   {
    "duration": 6,
    "start_time": "2022-04-24T18:10:28.396Z"
   },
   {
    "duration": 5,
    "start_time": "2022-04-24T18:10:28.405Z"
   },
   {
    "duration": 4,
    "start_time": "2022-04-24T18:10:28.413Z"
   },
   {
    "duration": 5,
    "start_time": "2022-04-24T18:10:28.420Z"
   },
   {
    "duration": 13,
    "start_time": "2022-04-24T18:10:28.427Z"
   },
   {
    "duration": 5,
    "start_time": "2022-04-24T18:10:28.442Z"
   },
   {
    "duration": 25,
    "start_time": "2022-04-24T18:10:28.449Z"
   },
   {
    "duration": 5,
    "start_time": "2022-04-24T18:10:28.476Z"
   },
   {
    "duration": 6,
    "start_time": "2022-04-24T18:10:28.483Z"
   },
   {
    "duration": 7,
    "start_time": "2022-04-24T18:10:28.491Z"
   },
   {
    "duration": 5,
    "start_time": "2022-04-24T18:10:28.500Z"
   },
   {
    "duration": 8,
    "start_time": "2022-04-24T18:10:28.506Z"
   },
   {
    "duration": 9,
    "start_time": "2022-04-24T18:10:28.517Z"
   },
   {
    "duration": 7,
    "start_time": "2022-04-24T18:10:28.528Z"
   },
   {
    "duration": 8,
    "start_time": "2022-04-24T18:10:28.536Z"
   },
   {
    "duration": 7,
    "start_time": "2022-04-24T18:10:28.546Z"
   },
   {
    "duration": 18,
    "start_time": "2022-04-24T18:10:28.555Z"
   },
   {
    "duration": 2,
    "start_time": "2022-04-24T18:10:28.575Z"
   },
   {
    "duration": 5,
    "start_time": "2022-04-24T18:10:28.579Z"
   },
   {
    "duration": 5,
    "start_time": "2022-04-24T18:10:28.586Z"
   },
   {
    "duration": 6,
    "start_time": "2022-04-24T18:10:28.593Z"
   },
   {
    "duration": 6,
    "start_time": "2022-04-24T18:10:28.600Z"
   },
   {
    "duration": 4,
    "start_time": "2022-04-24T18:10:28.607Z"
   },
   {
    "duration": 5,
    "start_time": "2022-04-24T18:10:28.613Z"
   },
   {
    "duration": 5,
    "start_time": "2022-04-24T18:10:28.619Z"
   },
   {
    "duration": 7,
    "start_time": "2022-04-24T18:10:28.626Z"
   },
   {
    "duration": 5,
    "start_time": "2022-04-24T18:10:28.635Z"
   },
   {
    "duration": 31,
    "start_time": "2022-04-24T18:10:28.642Z"
   },
   {
    "duration": 5,
    "start_time": "2022-04-24T18:10:28.676Z"
   },
   {
    "duration": 5,
    "start_time": "2022-04-24T18:10:28.682Z"
   },
   {
    "duration": 7,
    "start_time": "2022-04-24T18:10:28.689Z"
   },
   {
    "duration": 7,
    "start_time": "2022-04-24T18:10:28.698Z"
   },
   {
    "duration": 7,
    "start_time": "2022-04-24T18:10:28.707Z"
   },
   {
    "duration": 6,
    "start_time": "2022-04-24T18:10:28.716Z"
   },
   {
    "duration": 6,
    "start_time": "2022-04-24T18:10:28.724Z"
   },
   {
    "duration": 9,
    "start_time": "2022-04-24T18:10:28.731Z"
   },
   {
    "duration": 6,
    "start_time": "2022-04-24T18:10:28.742Z"
   },
   {
    "duration": 24,
    "start_time": "2022-04-24T18:10:28.749Z"
   },
   {
    "duration": 3,
    "start_time": "2022-04-24T18:10:28.775Z"
   },
   {
    "duration": 13,
    "start_time": "2022-04-24T18:10:28.779Z"
   },
   {
    "duration": 8,
    "start_time": "2022-04-24T18:10:28.793Z"
   },
   {
    "duration": 9,
    "start_time": "2022-04-24T18:10:28.803Z"
   },
   {
    "duration": 200,
    "start_time": "2022-04-24T18:11:44.839Z"
   },
   {
    "duration": 1199,
    "start_time": "2022-04-26T20:12:55.633Z"
   },
   {
    "duration": 5,
    "start_time": "2022-04-26T20:12:56.835Z"
   },
   {
    "duration": 20,
    "start_time": "2022-04-26T20:12:56.841Z"
   },
   {
    "duration": 17,
    "start_time": "2022-04-26T20:12:56.863Z"
   },
   {
    "duration": 30,
    "start_time": "2022-04-26T20:12:56.882Z"
   },
   {
    "duration": 12,
    "start_time": "2022-04-26T20:12:56.913Z"
   },
   {
    "duration": 18,
    "start_time": "2022-04-26T20:12:56.926Z"
   },
   {
    "duration": 5,
    "start_time": "2022-04-26T20:12:56.946Z"
   },
   {
    "duration": 182,
    "start_time": "2022-04-26T20:12:56.953Z"
   },
   {
    "duration": 175,
    "start_time": "2022-04-26T20:12:57.137Z"
   },
   {
    "duration": 10,
    "start_time": "2022-04-26T20:12:57.313Z"
   },
   {
    "duration": 10,
    "start_time": "2022-04-26T20:12:57.325Z"
   },
   {
    "duration": 8,
    "start_time": "2022-04-26T20:12:57.337Z"
   },
   {
    "duration": 5,
    "start_time": "2022-04-26T20:12:57.348Z"
   },
   {
    "duration": 47,
    "start_time": "2022-04-26T20:12:57.355Z"
   },
   {
    "duration": 4,
    "start_time": "2022-04-26T20:12:57.404Z"
   },
   {
    "duration": 7,
    "start_time": "2022-04-26T20:12:57.410Z"
   },
   {
    "duration": 7,
    "start_time": "2022-04-26T20:12:57.418Z"
   },
   {
    "duration": 12,
    "start_time": "2022-04-26T20:12:57.427Z"
   },
   {
    "duration": 93,
    "start_time": "2022-04-26T20:12:57.440Z"
   },
   {
    "duration": 0,
    "start_time": "2022-04-26T20:12:57.535Z"
   },
   {
    "duration": 0,
    "start_time": "2022-04-26T20:12:57.536Z"
   },
   {
    "duration": 0,
    "start_time": "2022-04-26T20:12:57.538Z"
   },
   {
    "duration": 0,
    "start_time": "2022-04-26T20:12:57.539Z"
   },
   {
    "duration": 0,
    "start_time": "2022-04-26T20:12:57.540Z"
   },
   {
    "duration": 0,
    "start_time": "2022-04-26T20:12:57.541Z"
   },
   {
    "duration": 0,
    "start_time": "2022-04-26T20:12:57.542Z"
   },
   {
    "duration": 0,
    "start_time": "2022-04-26T20:12:57.543Z"
   },
   {
    "duration": 0,
    "start_time": "2022-04-26T20:12:57.544Z"
   },
   {
    "duration": 0,
    "start_time": "2022-04-26T20:12:57.545Z"
   },
   {
    "duration": 0,
    "start_time": "2022-04-26T20:12:57.546Z"
   },
   {
    "duration": 0,
    "start_time": "2022-04-26T20:12:57.547Z"
   },
   {
    "duration": 0,
    "start_time": "2022-04-26T20:12:57.549Z"
   },
   {
    "duration": 0,
    "start_time": "2022-04-26T20:12:57.550Z"
   },
   {
    "duration": 0,
    "start_time": "2022-04-26T20:12:57.551Z"
   },
   {
    "duration": 0,
    "start_time": "2022-04-26T20:12:57.552Z"
   },
   {
    "duration": 0,
    "start_time": "2022-04-26T20:12:57.553Z"
   },
   {
    "duration": 0,
    "start_time": "2022-04-26T20:12:57.554Z"
   },
   {
    "duration": 0,
    "start_time": "2022-04-26T20:12:57.555Z"
   },
   {
    "duration": 0,
    "start_time": "2022-04-26T20:12:57.592Z"
   },
   {
    "duration": 0,
    "start_time": "2022-04-26T20:12:57.593Z"
   },
   {
    "duration": 0,
    "start_time": "2022-04-26T20:12:57.595Z"
   },
   {
    "duration": 0,
    "start_time": "2022-04-26T20:12:57.596Z"
   },
   {
    "duration": 0,
    "start_time": "2022-04-26T20:12:57.597Z"
   },
   {
    "duration": 0,
    "start_time": "2022-04-26T20:12:57.598Z"
   },
   {
    "duration": 0,
    "start_time": "2022-04-26T20:12:57.598Z"
   },
   {
    "duration": 0,
    "start_time": "2022-04-26T20:12:57.599Z"
   },
   {
    "duration": 2,
    "start_time": "2022-04-26T20:12:59.029Z"
   },
   {
    "duration": 9,
    "start_time": "2022-04-26T20:12:59.033Z"
   },
   {
    "duration": 7,
    "start_time": "2022-04-26T20:12:59.044Z"
   },
   {
    "duration": 10,
    "start_time": "2022-04-26T20:12:59.053Z"
   },
   {
    "duration": 7,
    "start_time": "2022-04-26T20:12:59.066Z"
   },
   {
    "duration": 13,
    "start_time": "2022-04-26T20:12:59.075Z"
   },
   {
    "duration": 12,
    "start_time": "2022-04-26T20:12:59.089Z"
   },
   {
    "duration": 12,
    "start_time": "2022-04-26T20:12:59.102Z"
   },
   {
    "duration": 12,
    "start_time": "2022-04-26T20:12:59.115Z"
   },
   {
    "duration": 12,
    "start_time": "2022-04-26T20:12:59.129Z"
   },
   {
    "duration": 2,
    "start_time": "2022-04-26T20:12:59.407Z"
   },
   {
    "duration": 8,
    "start_time": "2022-04-26T20:12:59.412Z"
   },
   {
    "duration": 9,
    "start_time": "2022-04-26T20:12:59.422Z"
   },
   {
    "duration": 8,
    "start_time": "2022-04-26T20:12:59.433Z"
   },
   {
    "duration": 5,
    "start_time": "2022-04-26T20:12:59.443Z"
   },
   {
    "duration": 7,
    "start_time": "2022-04-26T20:12:59.450Z"
   },
   {
    "duration": 2,
    "start_time": "2022-04-26T20:13:01.788Z"
   },
   {
    "duration": 14,
    "start_time": "2022-04-26T20:13:01.792Z"
   },
   {
    "duration": 15,
    "start_time": "2022-04-26T20:13:01.808Z"
   },
   {
    "duration": 17,
    "start_time": "2022-04-26T20:13:01.825Z"
   },
   {
    "duration": 41,
    "start_time": "2022-04-26T20:13:01.844Z"
   },
   {
    "duration": 14,
    "start_time": "2022-04-26T20:13:01.887Z"
   },
   {
    "duration": 2,
    "start_time": "2022-04-26T20:13:02.140Z"
   },
   {
    "duration": 48,
    "start_time": "2022-04-26T20:13:02.144Z"
   },
   {
    "duration": 10,
    "start_time": "2022-04-26T20:13:02.193Z"
   },
   {
    "duration": 15,
    "start_time": "2022-04-26T20:13:02.205Z"
   },
   {
    "duration": 9,
    "start_time": "2022-04-26T20:13:45.864Z"
   },
   {
    "duration": 203,
    "start_time": "2022-04-26T20:14:05.868Z"
   },
   {
    "duration": 101,
    "start_time": "2022-04-26T20:14:37.153Z"
   },
   {
    "duration": 200,
    "start_time": "2022-04-26T20:15:04.115Z"
   },
   {
    "duration": 123,
    "start_time": "2022-04-26T20:15:18.403Z"
   },
   {
    "duration": 255,
    "start_time": "2022-04-26T20:17:38.639Z"
   },
   {
    "duration": 278,
    "start_time": "2022-04-26T20:17:53.161Z"
   },
   {
    "duration": 146,
    "start_time": "2022-04-26T20:18:10.044Z"
   },
   {
    "duration": 167,
    "start_time": "2022-04-26T20:25:48.707Z"
   },
   {
    "duration": 10,
    "start_time": "2022-04-26T20:26:06.554Z"
   },
   {
    "duration": 4,
    "start_time": "2022-04-26T20:27:02.770Z"
   },
   {
    "duration": 9,
    "start_time": "2022-04-26T21:37:38.569Z"
   },
   {
    "duration": 1566,
    "start_time": "2022-04-26T21:38:38.799Z"
   },
   {
    "duration": 1595,
    "start_time": "2022-04-26T21:39:39.752Z"
   },
   {
    "duration": 1582,
    "start_time": "2022-04-26T21:39:51.738Z"
   },
   {
    "duration": 116,
    "start_time": "2022-04-26T21:39:59.601Z"
   },
   {
    "duration": 4,
    "start_time": "2022-04-26T21:39:59.719Z"
   },
   {
    "duration": 22,
    "start_time": "2022-04-26T21:39:59.725Z"
   },
   {
    "duration": 17,
    "start_time": "2022-04-26T21:39:59.749Z"
   },
   {
    "duration": 27,
    "start_time": "2022-04-26T21:39:59.770Z"
   },
   {
    "duration": 12,
    "start_time": "2022-04-26T21:39:59.800Z"
   },
   {
    "duration": 18,
    "start_time": "2022-04-26T21:39:59.814Z"
   },
   {
    "duration": 6,
    "start_time": "2022-04-26T21:39:59.834Z"
   },
   {
    "duration": 188,
    "start_time": "2022-04-26T21:39:59.842Z"
   },
   {
    "duration": 164,
    "start_time": "2022-04-26T21:40:00.032Z"
   },
   {
    "duration": 10,
    "start_time": "2022-04-26T21:40:00.198Z"
   },
   {
    "duration": 11,
    "start_time": "2022-04-26T21:40:00.210Z"
   },
   {
    "duration": 8,
    "start_time": "2022-04-26T21:40:00.223Z"
   },
   {
    "duration": 11,
    "start_time": "2022-04-26T21:40:00.234Z"
   },
   {
    "duration": 46,
    "start_time": "2022-04-26T21:40:00.246Z"
   },
   {
    "duration": 5,
    "start_time": "2022-04-26T21:40:00.294Z"
   },
   {
    "duration": 15,
    "start_time": "2022-04-26T21:40:00.301Z"
   },
   {
    "duration": 12,
    "start_time": "2022-04-26T21:40:00.318Z"
   },
   {
    "duration": 14,
    "start_time": "2022-04-26T21:40:00.331Z"
   },
   {
    "duration": 10,
    "start_time": "2022-04-26T21:40:00.348Z"
   },
   {
    "duration": 8,
    "start_time": "2022-04-26T21:40:00.359Z"
   },
   {
    "duration": 7,
    "start_time": "2022-04-26T21:40:00.369Z"
   },
   {
    "duration": 15,
    "start_time": "2022-04-26T21:40:00.378Z"
   },
   {
    "duration": 10,
    "start_time": "2022-04-26T21:40:00.395Z"
   },
   {
    "duration": 11,
    "start_time": "2022-04-26T21:40:00.407Z"
   },
   {
    "duration": 13,
    "start_time": "2022-04-26T21:40:00.420Z"
   },
   {
    "duration": 14,
    "start_time": "2022-04-26T21:40:00.435Z"
   },
   {
    "duration": 11,
    "start_time": "2022-04-26T21:40:00.451Z"
   },
   {
    "duration": 8,
    "start_time": "2022-04-26T21:40:00.463Z"
   },
   {
    "duration": 12,
    "start_time": "2022-04-26T21:40:00.472Z"
   },
   {
    "duration": 7,
    "start_time": "2022-04-26T21:40:00.486Z"
   },
   {
    "duration": 8,
    "start_time": "2022-04-26T21:40:00.495Z"
   },
   {
    "duration": 25,
    "start_time": "2022-04-26T21:40:00.505Z"
   },
   {
    "duration": 15,
    "start_time": "2022-04-26T21:40:00.532Z"
   },
   {
    "duration": 12,
    "start_time": "2022-04-26T21:40:00.549Z"
   },
   {
    "duration": 14,
    "start_time": "2022-04-26T21:40:00.562Z"
   },
   {
    "duration": 10,
    "start_time": "2022-04-26T21:40:00.578Z"
   },
   {
    "duration": 13,
    "start_time": "2022-04-26T21:40:00.590Z"
   },
   {
    "duration": 18,
    "start_time": "2022-04-26T21:40:00.605Z"
   },
   {
    "duration": 10,
    "start_time": "2022-04-26T21:40:00.625Z"
   },
   {
    "duration": 3,
    "start_time": "2022-04-26T21:40:00.641Z"
   },
   {
    "duration": 7,
    "start_time": "2022-04-26T21:40:00.646Z"
   },
   {
    "duration": 11,
    "start_time": "2022-04-26T21:40:00.655Z"
   },
   {
    "duration": 9,
    "start_time": "2022-04-26T21:40:00.667Z"
   },
   {
    "duration": 10,
    "start_time": "2022-04-26T21:40:00.678Z"
   },
   {
    "duration": 13,
    "start_time": "2022-04-26T21:40:00.689Z"
   },
   {
    "duration": 12,
    "start_time": "2022-04-26T21:40:00.705Z"
   },
   {
    "duration": 13,
    "start_time": "2022-04-26T21:40:00.719Z"
   },
   {
    "duration": 18,
    "start_time": "2022-04-26T21:40:00.734Z"
   },
   {
    "duration": 7,
    "start_time": "2022-04-26T21:40:00.755Z"
   },
   {
    "duration": 10,
    "start_time": "2022-04-26T21:40:00.764Z"
   },
   {
    "duration": 8,
    "start_time": "2022-04-26T21:40:00.776Z"
   },
   {
    "duration": 8,
    "start_time": "2022-04-26T21:40:00.786Z"
   },
   {
    "duration": 12,
    "start_time": "2022-04-26T21:40:00.796Z"
   },
   {
    "duration": 8,
    "start_time": "2022-04-26T21:40:00.810Z"
   },
   {
    "duration": 7,
    "start_time": "2022-04-26T21:40:00.820Z"
   },
   {
    "duration": 7,
    "start_time": "2022-04-26T21:40:00.830Z"
   },
   {
    "duration": 23,
    "start_time": "2022-04-26T21:40:00.839Z"
   },
   {
    "duration": 12,
    "start_time": "2022-04-26T21:40:00.865Z"
   },
   {
    "duration": 7,
    "start_time": "2022-04-26T21:40:00.879Z"
   },
   {
    "duration": 13,
    "start_time": "2022-04-26T21:40:00.888Z"
   },
   {
    "duration": 16,
    "start_time": "2022-04-26T21:40:00.904Z"
   },
   {
    "duration": 10,
    "start_time": "2022-04-26T21:40:00.923Z"
   },
   {
    "duration": 12,
    "start_time": "2022-04-26T21:40:00.935Z"
   },
   {
    "duration": 13,
    "start_time": "2022-04-26T21:40:00.949Z"
   },
   {
    "duration": 9,
    "start_time": "2022-04-26T21:40:00.965Z"
   },
   {
    "duration": 8,
    "start_time": "2022-04-26T21:40:00.977Z"
   },
   {
    "duration": 7,
    "start_time": "2022-04-26T21:40:00.988Z"
   },
   {
    "duration": 13,
    "start_time": "2022-04-26T21:40:00.997Z"
   },
   {
    "duration": 14,
    "start_time": "2022-04-26T21:40:01.011Z"
   },
   {
    "duration": 18,
    "start_time": "2022-04-26T21:40:01.027Z"
   },
   {
    "duration": 24,
    "start_time": "2022-04-26T21:40:01.047Z"
   },
   {
    "duration": 26,
    "start_time": "2022-04-26T21:40:01.073Z"
   },
   {
    "duration": 1650,
    "start_time": "2022-04-26T21:40:16.437Z"
   },
   {
    "duration": 1663,
    "start_time": "2022-04-26T21:40:26.935Z"
   },
   {
    "duration": 11,
    "start_time": "2022-04-26T21:40:52.809Z"
   },
   {
    "duration": 1689,
    "start_time": "2022-04-26T21:41:07.322Z"
   },
   {
    "duration": 106,
    "start_time": "2022-04-26T21:41:20.042Z"
   },
   {
    "duration": 4,
    "start_time": "2022-04-26T21:41:20.150Z"
   },
   {
    "duration": 19,
    "start_time": "2022-04-26T21:41:20.155Z"
   },
   {
    "duration": 17,
    "start_time": "2022-04-26T21:41:20.177Z"
   },
   {
    "duration": 15,
    "start_time": "2022-04-26T21:41:20.196Z"
   },
   {
    "duration": 11,
    "start_time": "2022-04-26T21:41:20.213Z"
   },
   {
    "duration": 22,
    "start_time": "2022-04-26T21:41:20.226Z"
   },
   {
    "duration": 7,
    "start_time": "2022-04-26T21:41:20.250Z"
   },
   {
    "duration": 248,
    "start_time": "2022-04-26T21:41:20.259Z"
   },
   {
    "duration": 250,
    "start_time": "2022-04-26T21:41:20.510Z"
   },
   {
    "duration": 15,
    "start_time": "2022-04-26T21:41:20.762Z"
   },
   {
    "duration": 9,
    "start_time": "2022-04-26T21:41:20.794Z"
   },
   {
    "duration": 10,
    "start_time": "2022-04-26T21:41:20.805Z"
   },
   {
    "duration": 10,
    "start_time": "2022-04-26T21:41:20.817Z"
   },
   {
    "duration": 5,
    "start_time": "2022-04-26T21:41:35.314Z"
   },
   {
    "duration": 6,
    "start_time": "2022-04-26T21:41:39.166Z"
   },
   {
    "duration": 6,
    "start_time": "2022-04-26T21:41:44.341Z"
   },
   {
    "duration": 7,
    "start_time": "2022-04-26T21:41:51.438Z"
   },
   {
    "duration": 8,
    "start_time": "2022-04-26T21:42:05.748Z"
   },
   {
    "duration": 5,
    "start_time": "2022-04-26T21:42:18.879Z"
   },
   {
    "duration": 9,
    "start_time": "2022-04-26T21:42:25.792Z"
   },
   {
    "duration": 1658,
    "start_time": "2022-04-26T21:42:30.017Z"
   },
   {
    "duration": 1514,
    "start_time": "2022-04-26T21:42:38.696Z"
   },
   {
    "duration": 116,
    "start_time": "2022-04-26T21:42:52.147Z"
   },
   {
    "duration": 4,
    "start_time": "2022-04-26T21:42:52.265Z"
   },
   {
    "duration": 23,
    "start_time": "2022-04-26T21:42:52.270Z"
   },
   {
    "duration": 22,
    "start_time": "2022-04-26T21:42:52.296Z"
   },
   {
    "duration": 18,
    "start_time": "2022-04-26T21:42:52.320Z"
   },
   {
    "duration": 13,
    "start_time": "2022-04-26T21:42:52.339Z"
   },
   {
    "duration": 20,
    "start_time": "2022-04-26T21:42:52.354Z"
   },
   {
    "duration": 20,
    "start_time": "2022-04-26T21:42:52.376Z"
   },
   {
    "duration": 152,
    "start_time": "2022-04-26T21:42:52.398Z"
   },
   {
    "duration": 319,
    "start_time": "2022-04-26T21:42:52.554Z"
   },
   {
    "duration": 17,
    "start_time": "2022-04-26T21:42:52.875Z"
   },
   {
    "duration": 22,
    "start_time": "2022-04-26T21:42:52.894Z"
   },
   {
    "duration": 14,
    "start_time": "2022-04-26T21:42:52.918Z"
   },
   {
    "duration": 14,
    "start_time": "2022-04-26T21:42:52.934Z"
   },
   {
    "duration": 27,
    "start_time": "2022-04-26T21:42:52.950Z"
   },
   {
    "duration": 6,
    "start_time": "2022-04-26T21:42:52.979Z"
   },
   {
    "duration": 27,
    "start_time": "2022-04-26T21:42:52.986Z"
   },
   {
    "duration": 20,
    "start_time": "2022-04-26T21:42:53.014Z"
   },
   {
    "duration": 16,
    "start_time": "2022-04-26T21:42:53.035Z"
   },
   {
    "duration": 27,
    "start_time": "2022-04-26T21:42:53.053Z"
   },
   {
    "duration": 1547,
    "start_time": "2022-04-26T21:42:53.082Z"
   },
   {
    "duration": 0,
    "start_time": "2022-04-26T21:42:54.632Z"
   },
   {
    "duration": 0,
    "start_time": "2022-04-26T21:42:54.633Z"
   },
   {
    "duration": 0,
    "start_time": "2022-04-26T21:42:54.634Z"
   },
   {
    "duration": 0,
    "start_time": "2022-04-26T21:42:54.635Z"
   },
   {
    "duration": 0,
    "start_time": "2022-04-26T21:42:54.636Z"
   },
   {
    "duration": 0,
    "start_time": "2022-04-26T21:42:54.637Z"
   },
   {
    "duration": 1,
    "start_time": "2022-04-26T21:42:54.638Z"
   },
   {
    "duration": 0,
    "start_time": "2022-04-26T21:42:54.640Z"
   },
   {
    "duration": 0,
    "start_time": "2022-04-26T21:42:54.641Z"
   },
   {
    "duration": 0,
    "start_time": "2022-04-26T21:42:54.642Z"
   },
   {
    "duration": 0,
    "start_time": "2022-04-26T21:42:54.643Z"
   },
   {
    "duration": 0,
    "start_time": "2022-04-26T21:42:54.643Z"
   },
   {
    "duration": 0,
    "start_time": "2022-04-26T21:42:54.645Z"
   },
   {
    "duration": 0,
    "start_time": "2022-04-26T21:42:54.646Z"
   },
   {
    "duration": 0,
    "start_time": "2022-04-26T21:42:54.647Z"
   },
   {
    "duration": 0,
    "start_time": "2022-04-26T21:42:54.648Z"
   },
   {
    "duration": 0,
    "start_time": "2022-04-26T21:42:54.649Z"
   },
   {
    "duration": 0,
    "start_time": "2022-04-26T21:42:54.650Z"
   },
   {
    "duration": 0,
    "start_time": "2022-04-26T21:42:54.651Z"
   },
   {
    "duration": 0,
    "start_time": "2022-04-26T21:42:54.652Z"
   },
   {
    "duration": 0,
    "start_time": "2022-04-26T21:42:54.653Z"
   },
   {
    "duration": 0,
    "start_time": "2022-04-26T21:42:54.654Z"
   },
   {
    "duration": 0,
    "start_time": "2022-04-26T21:42:54.656Z"
   },
   {
    "duration": 0,
    "start_time": "2022-04-26T21:42:54.657Z"
   },
   {
    "duration": 0,
    "start_time": "2022-04-26T21:42:54.658Z"
   },
   {
    "duration": 0,
    "start_time": "2022-04-26T21:42:54.659Z"
   },
   {
    "duration": 0,
    "start_time": "2022-04-26T21:42:54.660Z"
   },
   {
    "duration": 0,
    "start_time": "2022-04-26T21:42:54.661Z"
   },
   {
    "duration": 0,
    "start_time": "2022-04-26T21:42:54.662Z"
   },
   {
    "duration": 0,
    "start_time": "2022-04-26T21:42:54.663Z"
   },
   {
    "duration": 0,
    "start_time": "2022-04-26T21:42:54.664Z"
   },
   {
    "duration": 0,
    "start_time": "2022-04-26T21:42:54.665Z"
   },
   {
    "duration": 0,
    "start_time": "2022-04-26T21:42:54.666Z"
   },
   {
    "duration": 0,
    "start_time": "2022-04-26T21:42:54.667Z"
   },
   {
    "duration": 0,
    "start_time": "2022-04-26T21:42:54.668Z"
   },
   {
    "duration": 0,
    "start_time": "2022-04-26T21:42:54.693Z"
   },
   {
    "duration": 0,
    "start_time": "2022-04-26T21:42:54.694Z"
   },
   {
    "duration": 0,
    "start_time": "2022-04-26T21:42:54.695Z"
   },
   {
    "duration": 0,
    "start_time": "2022-04-26T21:42:54.696Z"
   },
   {
    "duration": 0,
    "start_time": "2022-04-26T21:42:54.698Z"
   },
   {
    "duration": 0,
    "start_time": "2022-04-26T21:42:54.698Z"
   },
   {
    "duration": 1,
    "start_time": "2022-04-26T21:42:54.699Z"
   },
   {
    "duration": 0,
    "start_time": "2022-04-26T21:42:54.701Z"
   },
   {
    "duration": 0,
    "start_time": "2022-04-26T21:42:54.702Z"
   },
   {
    "duration": 0,
    "start_time": "2022-04-26T21:42:54.703Z"
   },
   {
    "duration": 0,
    "start_time": "2022-04-26T21:42:54.704Z"
   },
   {
    "duration": 0,
    "start_time": "2022-04-26T21:42:54.705Z"
   },
   {
    "duration": 0,
    "start_time": "2022-04-26T21:42:54.706Z"
   },
   {
    "duration": 0,
    "start_time": "2022-04-26T21:42:54.707Z"
   },
   {
    "duration": 0,
    "start_time": "2022-04-26T21:42:54.708Z"
   },
   {
    "duration": 0,
    "start_time": "2022-04-26T21:42:54.709Z"
   },
   {
    "duration": 0,
    "start_time": "2022-04-26T21:42:54.710Z"
   },
   {
    "duration": 1578,
    "start_time": "2022-04-26T21:43:18.494Z"
   },
   {
    "duration": 11,
    "start_time": "2022-04-26T21:43:40.823Z"
   },
   {
    "duration": 114,
    "start_time": "2022-04-26T21:45:09.754Z"
   },
   {
    "duration": 3,
    "start_time": "2022-04-26T21:45:09.870Z"
   },
   {
    "duration": 26,
    "start_time": "2022-04-26T21:45:09.875Z"
   },
   {
    "duration": 17,
    "start_time": "2022-04-26T21:45:09.903Z"
   },
   {
    "duration": 16,
    "start_time": "2022-04-26T21:45:09.921Z"
   },
   {
    "duration": 11,
    "start_time": "2022-04-26T21:45:09.938Z"
   },
   {
    "duration": 17,
    "start_time": "2022-04-26T21:45:09.951Z"
   },
   {
    "duration": 26,
    "start_time": "2022-04-26T21:45:09.970Z"
   },
   {
    "duration": 162,
    "start_time": "2022-04-26T21:45:09.998Z"
   },
   {
    "duration": 161,
    "start_time": "2022-04-26T21:45:10.163Z"
   },
   {
    "duration": 10,
    "start_time": "2022-04-26T21:45:10.326Z"
   },
   {
    "duration": 21,
    "start_time": "2022-04-26T21:45:10.337Z"
   },
   {
    "duration": 20,
    "start_time": "2022-04-26T21:45:10.359Z"
   },
   {
    "duration": 20,
    "start_time": "2022-04-26T21:45:10.381Z"
   },
   {
    "duration": 22,
    "start_time": "2022-04-26T21:45:10.403Z"
   },
   {
    "duration": 14,
    "start_time": "2022-04-26T21:45:10.426Z"
   },
   {
    "duration": 12,
    "start_time": "2022-04-26T21:45:10.442Z"
   },
   {
    "duration": 12,
    "start_time": "2022-04-26T21:45:10.455Z"
   },
   {
    "duration": 17,
    "start_time": "2022-04-26T21:45:10.469Z"
   },
   {
    "duration": 14,
    "start_time": "2022-04-26T21:45:10.488Z"
   },
   {
    "duration": 1622,
    "start_time": "2022-04-26T21:45:28.216Z"
   },
   {
    "duration": 1688,
    "start_time": "2022-04-26T21:45:41.952Z"
   },
   {
    "duration": 1596,
    "start_time": "2022-04-26T21:50:55.434Z"
   },
   {
    "duration": 1671,
    "start_time": "2022-04-26T21:51:23.870Z"
   },
   {
    "duration": 1567,
    "start_time": "2022-04-26T21:51:28.296Z"
   },
   {
    "duration": 142,
    "start_time": "2022-04-26T21:51:41.987Z"
   },
   {
    "duration": 4,
    "start_time": "2022-04-26T21:51:42.131Z"
   },
   {
    "duration": 19,
    "start_time": "2022-04-26T21:51:42.137Z"
   },
   {
    "duration": 18,
    "start_time": "2022-04-26T21:51:42.159Z"
   },
   {
    "duration": 28,
    "start_time": "2022-04-26T21:51:42.178Z"
   },
   {
    "duration": 12,
    "start_time": "2022-04-26T21:51:42.207Z"
   },
   {
    "duration": 17,
    "start_time": "2022-04-26T21:51:42.221Z"
   },
   {
    "duration": 5,
    "start_time": "2022-04-26T21:51:42.240Z"
   },
   {
    "duration": 176,
    "start_time": "2022-04-26T21:51:42.247Z"
   },
   {
    "duration": 161,
    "start_time": "2022-04-26T21:51:42.426Z"
   },
   {
    "duration": 10,
    "start_time": "2022-04-26T21:51:42.592Z"
   },
   {
    "duration": 7,
    "start_time": "2022-04-26T21:51:42.604Z"
   },
   {
    "duration": 7,
    "start_time": "2022-04-26T21:51:42.613Z"
   },
   {
    "duration": 8,
    "start_time": "2022-04-26T21:51:42.621Z"
   },
   {
    "duration": 18,
    "start_time": "2022-04-26T21:51:42.631Z"
   },
   {
    "duration": 6,
    "start_time": "2022-04-26T21:51:42.651Z"
   },
   {
    "duration": 7,
    "start_time": "2022-04-26T21:51:42.694Z"
   },
   {
    "duration": 7,
    "start_time": "2022-04-26T21:51:42.703Z"
   },
   {
    "duration": 7,
    "start_time": "2022-04-26T21:51:42.712Z"
   },
   {
    "duration": 10,
    "start_time": "2022-04-26T21:51:42.721Z"
   },
   {
    "duration": 6411,
    "start_time": "2022-04-26T21:51:42.733Z"
   },
   {
    "duration": 9,
    "start_time": "2022-04-26T21:51:58.642Z"
   },
   {
    "duration": 6773,
    "start_time": "2022-04-26T21:52:23.446Z"
   },
   {
    "duration": 10,
    "start_time": "2022-04-26T21:52:31.848Z"
   },
   {
    "duration": 8,
    "start_time": "2022-04-26T21:56:38.716Z"
   },
   {
    "duration": 223,
    "start_time": "2022-04-26T21:57:31.412Z"
   },
   {
    "duration": 123,
    "start_time": "2022-04-26T21:57:41.252Z"
   },
   {
    "duration": 123,
    "start_time": "2022-04-26T22:09:35.902Z"
   },
   {
    "duration": 116,
    "start_time": "2022-04-26T22:09:52.323Z"
   },
   {
    "duration": 120,
    "start_time": "2022-04-26T22:12:58.158Z"
   },
   {
    "duration": 120,
    "start_time": "2022-04-26T22:27:40.609Z"
   },
   {
    "duration": 190,
    "start_time": "2022-04-26T22:27:49.306Z"
   },
   {
    "duration": 117,
    "start_time": "2022-04-26T22:28:00.738Z"
   },
   {
    "duration": 124,
    "start_time": "2022-04-26T22:28:33.793Z"
   },
   {
    "duration": 2076,
    "start_time": "2022-04-26T22:31:21.116Z"
   },
   {
    "duration": 5,
    "start_time": "2022-04-26T22:31:37.300Z"
   },
   {
    "duration": 128,
    "start_time": "2022-04-26T22:31:54.695Z"
   },
   {
    "duration": 9,
    "start_time": "2022-04-26T22:32:45.096Z"
   },
   {
    "duration": 6,
    "start_time": "2022-04-26T22:33:05.226Z"
   },
   {
    "duration": 116,
    "start_time": "2022-04-26T22:33:34.754Z"
   },
   {
    "duration": 5,
    "start_time": "2022-04-26T22:33:48.905Z"
   },
   {
    "duration": 8,
    "start_time": "2022-04-26T22:34:23.858Z"
   },
   {
    "duration": 121,
    "start_time": "2022-04-26T22:34:50.923Z"
   },
   {
    "duration": 118,
    "start_time": "2022-04-26T22:34:59.514Z"
   },
   {
    "duration": 6,
    "start_time": "2022-04-26T22:40:48.485Z"
   },
   {
    "duration": 112,
    "start_time": "2022-04-26T22:41:41.529Z"
   },
   {
    "duration": 110,
    "start_time": "2022-04-26T22:45:38.824Z"
   },
   {
    "duration": 139,
    "start_time": "2022-04-26T22:45:49.115Z"
   },
   {
    "duration": 137,
    "start_time": "2022-04-26T22:52:12.279Z"
   },
   {
    "duration": 181,
    "start_time": "2022-04-26T22:52:54.350Z"
   },
   {
    "duration": 234,
    "start_time": "2022-04-26T22:53:08.389Z"
   },
   {
    "duration": 255,
    "start_time": "2022-04-26T22:54:00.797Z"
   },
   {
    "duration": 156,
    "start_time": "2022-04-26T22:54:27.873Z"
   },
   {
    "duration": 157,
    "start_time": "2022-04-26T22:54:55.447Z"
   },
   {
    "duration": 124,
    "start_time": "2022-04-26T22:55:29.089Z"
   },
   {
    "duration": 163,
    "start_time": "2022-04-26T22:55:56.114Z"
   },
   {
    "duration": 6,
    "start_time": "2022-04-26T22:56:32.705Z"
   },
   {
    "duration": 6,
    "start_time": "2022-04-26T22:56:48.711Z"
   },
   {
    "duration": 5,
    "start_time": "2022-04-26T22:57:01.632Z"
   },
   {
    "duration": 111,
    "start_time": "2022-04-26T22:57:06.937Z"
   },
   {
    "duration": 4,
    "start_time": "2022-04-26T22:57:07.050Z"
   },
   {
    "duration": 15,
    "start_time": "2022-04-26T22:57:07.056Z"
   },
   {
    "duration": 21,
    "start_time": "2022-04-26T22:57:07.073Z"
   },
   {
    "duration": 19,
    "start_time": "2022-04-26T22:57:07.098Z"
   },
   {
    "duration": 19,
    "start_time": "2022-04-26T22:57:07.119Z"
   },
   {
    "duration": 14,
    "start_time": "2022-04-26T22:57:07.139Z"
   },
   {
    "duration": 44,
    "start_time": "2022-04-26T22:57:07.154Z"
   },
   {
    "duration": 219,
    "start_time": "2022-04-26T22:57:07.200Z"
   },
   {
    "duration": 223,
    "start_time": "2022-04-26T22:57:07.422Z"
   },
   {
    "duration": 13,
    "start_time": "2022-04-26T22:57:07.647Z"
   },
   {
    "duration": 8,
    "start_time": "2022-04-26T22:57:07.662Z"
   },
   {
    "duration": 27,
    "start_time": "2022-04-26T22:57:07.672Z"
   },
   {
    "duration": 6,
    "start_time": "2022-04-26T22:57:07.702Z"
   },
   {
    "duration": 19,
    "start_time": "2022-04-26T22:57:07.709Z"
   },
   {
    "duration": 5,
    "start_time": "2022-04-26T22:57:07.730Z"
   },
   {
    "duration": 8,
    "start_time": "2022-04-26T22:57:07.737Z"
   },
   {
    "duration": 49,
    "start_time": "2022-04-26T22:57:07.746Z"
   },
   {
    "duration": 7,
    "start_time": "2022-04-26T22:57:07.798Z"
   },
   {
    "duration": 12,
    "start_time": "2022-04-26T22:57:07.807Z"
   },
   {
    "duration": 10675,
    "start_time": "2022-04-26T22:57:07.821Z"
   },
   {
    "duration": 11,
    "start_time": "2022-04-26T22:57:18.498Z"
   },
   {
    "duration": 202,
    "start_time": "2022-04-26T22:57:18.511Z"
   },
   {
    "duration": 7,
    "start_time": "2022-04-26T22:57:18.715Z"
   },
   {
    "duration": 207,
    "start_time": "2022-04-26T22:57:18.725Z"
   },
   {
    "duration": 193,
    "start_time": "2022-04-26T22:57:18.934Z"
   },
   {
    "duration": 3,
    "start_time": "2022-04-26T22:57:19.129Z"
   },
   {
    "duration": 6,
    "start_time": "2022-04-26T22:57:19.134Z"
   },
   {
    "duration": 193,
    "start_time": "2022-04-26T22:57:19.142Z"
   },
   {
    "duration": 3,
    "start_time": "2022-04-26T22:57:19.337Z"
   },
   {
    "duration": 8,
    "start_time": "2022-04-26T22:57:19.341Z"
   },
   {
    "duration": 231,
    "start_time": "2022-04-26T22:57:19.351Z"
   },
   {
    "duration": 7,
    "start_time": "2022-04-26T22:57:19.585Z"
   },
   {
    "duration": 17,
    "start_time": "2022-04-26T22:57:19.594Z"
   },
   {
    "duration": 6,
    "start_time": "2022-04-26T22:57:19.613Z"
   },
   {
    "duration": 7,
    "start_time": "2022-04-26T22:57:19.621Z"
   },
   {
    "duration": 8,
    "start_time": "2022-04-26T22:57:19.630Z"
   },
   {
    "duration": 5,
    "start_time": "2022-04-26T22:57:19.640Z"
   },
   {
    "duration": 5,
    "start_time": "2022-04-26T22:57:19.647Z"
   },
   {
    "duration": 7,
    "start_time": "2022-04-26T22:57:19.655Z"
   },
   {
    "duration": 5,
    "start_time": "2022-04-26T22:57:19.667Z"
   },
   {
    "duration": 6,
    "start_time": "2022-04-26T22:57:19.674Z"
   },
   {
    "duration": 11,
    "start_time": "2022-04-26T22:57:19.682Z"
   },
   {
    "duration": 35,
    "start_time": "2022-04-26T22:57:19.695Z"
   },
   {
    "duration": 10,
    "start_time": "2022-04-26T22:57:19.732Z"
   },
   {
    "duration": 10,
    "start_time": "2022-04-26T22:57:19.744Z"
   },
   {
    "duration": 11,
    "start_time": "2022-04-26T22:57:19.756Z"
   },
   {
    "duration": 11,
    "start_time": "2022-04-26T22:57:19.768Z"
   },
   {
    "duration": 11,
    "start_time": "2022-04-26T22:57:19.780Z"
   },
   {
    "duration": 20,
    "start_time": "2022-04-26T22:57:19.793Z"
   },
   {
    "duration": 12,
    "start_time": "2022-04-26T22:57:19.814Z"
   },
   {
    "duration": 9,
    "start_time": "2022-04-26T22:57:19.827Z"
   },
   {
    "duration": 10,
    "start_time": "2022-04-26T22:57:19.838Z"
   },
   {
    "duration": 10,
    "start_time": "2022-04-26T22:57:19.849Z"
   },
   {
    "duration": 8,
    "start_time": "2022-04-26T22:57:19.860Z"
   },
   {
    "duration": 9,
    "start_time": "2022-04-26T22:57:19.870Z"
   },
   {
    "duration": 11,
    "start_time": "2022-04-26T22:57:19.880Z"
   },
   {
    "duration": 21,
    "start_time": "2022-04-26T22:57:19.893Z"
   },
   {
    "duration": 9,
    "start_time": "2022-04-26T22:57:19.915Z"
   },
   {
    "duration": 8,
    "start_time": "2022-04-26T22:57:19.925Z"
   },
   {
    "duration": 15,
    "start_time": "2022-04-26T22:57:19.934Z"
   },
   {
    "duration": 9,
    "start_time": "2022-04-26T22:57:19.951Z"
   },
   {
    "duration": 8,
    "start_time": "2022-04-26T22:57:19.962Z"
   },
   {
    "duration": 8,
    "start_time": "2022-04-26T22:57:19.972Z"
   },
   {
    "duration": 7,
    "start_time": "2022-04-26T22:57:19.982Z"
   },
   {
    "duration": 20,
    "start_time": "2022-04-26T22:57:19.991Z"
   },
   {
    "duration": 7,
    "start_time": "2022-04-26T22:57:20.014Z"
   },
   {
    "duration": 10,
    "start_time": "2022-04-26T22:57:20.023Z"
   },
   {
    "duration": 7,
    "start_time": "2022-04-26T22:57:20.035Z"
   },
   {
    "duration": 7,
    "start_time": "2022-04-26T22:57:20.044Z"
   },
   {
    "duration": 9,
    "start_time": "2022-04-26T22:57:20.053Z"
   },
   {
    "duration": 7,
    "start_time": "2022-04-26T22:57:20.064Z"
   },
   {
    "duration": 8,
    "start_time": "2022-04-26T22:57:20.073Z"
   },
   {
    "duration": 8,
    "start_time": "2022-04-26T22:57:45.986Z"
   },
   {
    "duration": 106,
    "start_time": "2022-04-26T22:57:51.932Z"
   },
   {
    "duration": 4,
    "start_time": "2022-04-26T22:57:52.039Z"
   },
   {
    "duration": 18,
    "start_time": "2022-04-26T22:57:52.045Z"
   },
   {
    "duration": 28,
    "start_time": "2022-04-26T22:57:52.065Z"
   },
   {
    "duration": 14,
    "start_time": "2022-04-26T22:57:52.096Z"
   },
   {
    "duration": 16,
    "start_time": "2022-04-26T22:57:52.111Z"
   },
   {
    "duration": 28,
    "start_time": "2022-04-26T22:57:52.129Z"
   },
   {
    "duration": 7,
    "start_time": "2022-04-26T22:57:52.158Z"
   },
   {
    "duration": 161,
    "start_time": "2022-04-26T22:57:52.166Z"
   },
   {
    "duration": 153,
    "start_time": "2022-04-26T22:57:52.328Z"
   },
   {
    "duration": 15,
    "start_time": "2022-04-26T22:57:52.482Z"
   },
   {
    "duration": 8,
    "start_time": "2022-04-26T22:57:52.498Z"
   },
   {
    "duration": 7,
    "start_time": "2022-04-26T22:57:52.507Z"
   },
   {
    "duration": 5,
    "start_time": "2022-04-26T22:57:52.518Z"
   },
   {
    "duration": 149,
    "start_time": "2022-04-26T22:57:52.524Z"
   },
   {
    "duration": 5,
    "start_time": "2022-04-26T22:57:52.675Z"
   },
   {
    "duration": 6,
    "start_time": "2022-04-26T22:57:52.693Z"
   },
   {
    "duration": 6,
    "start_time": "2022-04-26T22:57:52.700Z"
   },
   {
    "duration": 6,
    "start_time": "2022-04-26T22:57:52.708Z"
   },
   {
    "duration": 8,
    "start_time": "2022-04-26T22:57:52.716Z"
   },
   {
    "duration": 7089,
    "start_time": "2022-04-26T22:57:52.726Z"
   },
   {
    "duration": 9,
    "start_time": "2022-04-26T22:57:59.817Z"
   },
   {
    "duration": 141,
    "start_time": "2022-04-26T22:57:59.827Z"
   },
   {
    "duration": 7,
    "start_time": "2022-04-26T22:57:59.969Z"
   },
   {
    "duration": 157,
    "start_time": "2022-04-26T22:57:59.977Z"
   },
   {
    "duration": 145,
    "start_time": "2022-04-26T22:58:00.136Z"
   },
   {
    "duration": 12,
    "start_time": "2022-04-26T22:58:00.283Z"
   },
   {
    "duration": 2,
    "start_time": "2022-04-26T22:58:00.298Z"
   },
   {
    "duration": 194,
    "start_time": "2022-04-26T22:58:00.302Z"
   },
   {
    "duration": 3,
    "start_time": "2022-04-26T22:58:00.498Z"
   },
   {
    "duration": 19,
    "start_time": "2022-04-26T22:58:00.503Z"
   },
   {
    "duration": 230,
    "start_time": "2022-04-26T22:58:00.524Z"
   },
   {
    "duration": 3,
    "start_time": "2022-04-26T22:58:00.756Z"
   },
   {
    "duration": 20,
    "start_time": "2022-04-26T22:58:00.761Z"
   },
   {
    "duration": 13,
    "start_time": "2022-04-26T22:58:00.783Z"
   },
   {
    "duration": 18,
    "start_time": "2022-04-26T22:58:00.797Z"
   },
   {
    "duration": 12,
    "start_time": "2022-04-26T22:58:00.817Z"
   },
   {
    "duration": 13,
    "start_time": "2022-04-26T22:58:00.831Z"
   },
   {
    "duration": 13,
    "start_time": "2022-04-26T22:58:00.846Z"
   },
   {
    "duration": 19,
    "start_time": "2022-04-26T22:58:00.861Z"
   },
   {
    "duration": 14,
    "start_time": "2022-04-26T22:58:00.888Z"
   },
   {
    "duration": 23,
    "start_time": "2022-04-26T22:58:00.904Z"
   },
   {
    "duration": 28,
    "start_time": "2022-04-26T22:58:00.929Z"
   },
   {
    "duration": 13,
    "start_time": "2022-04-26T22:58:00.959Z"
   },
   {
    "duration": 13,
    "start_time": "2022-04-26T22:58:00.974Z"
   },
   {
    "duration": 7,
    "start_time": "2022-04-26T22:58:00.989Z"
   },
   {
    "duration": 19,
    "start_time": "2022-04-26T22:58:00.999Z"
   },
   {
    "duration": 11,
    "start_time": "2022-04-26T22:58:01.021Z"
   },
   {
    "duration": 14,
    "start_time": "2022-04-26T22:58:01.033Z"
   },
   {
    "duration": 7,
    "start_time": "2022-04-26T22:58:01.050Z"
   },
   {
    "duration": 18,
    "start_time": "2022-04-26T22:58:01.060Z"
   },
   {
    "duration": 20,
    "start_time": "2022-04-26T22:58:01.080Z"
   },
   {
    "duration": 8,
    "start_time": "2022-04-26T22:58:01.101Z"
   },
   {
    "duration": 10,
    "start_time": "2022-04-26T22:58:01.111Z"
   },
   {
    "duration": 11,
    "start_time": "2022-04-26T22:58:01.122Z"
   },
   {
    "duration": 23,
    "start_time": "2022-04-26T22:58:01.134Z"
   },
   {
    "duration": 25,
    "start_time": "2022-04-26T22:58:01.159Z"
   },
   {
    "duration": 22,
    "start_time": "2022-04-26T22:58:01.186Z"
   },
   {
    "duration": 10,
    "start_time": "2022-04-26T22:58:01.210Z"
   },
   {
    "duration": 20,
    "start_time": "2022-04-26T22:58:01.222Z"
   },
   {
    "duration": 12,
    "start_time": "2022-04-26T22:58:01.244Z"
   },
   {
    "duration": 28,
    "start_time": "2022-04-26T22:58:01.258Z"
   },
   {
    "duration": 18,
    "start_time": "2022-04-26T22:58:01.288Z"
   },
   {
    "duration": 12,
    "start_time": "2022-04-26T22:58:01.308Z"
   },
   {
    "duration": 16,
    "start_time": "2022-04-26T22:58:01.322Z"
   },
   {
    "duration": 17,
    "start_time": "2022-04-26T22:58:01.340Z"
   },
   {
    "duration": 27,
    "start_time": "2022-04-26T22:58:01.359Z"
   },
   {
    "duration": 48,
    "start_time": "2022-04-26T22:58:01.387Z"
   },
   {
    "duration": 23,
    "start_time": "2022-04-26T22:58:01.437Z"
   },
   {
    "duration": 15,
    "start_time": "2022-04-26T22:58:01.462Z"
   },
   {
    "duration": 58,
    "start_time": "2022-04-26T22:58:01.478Z"
   },
   {
    "duration": 34,
    "start_time": "2022-04-26T22:58:01.537Z"
   },
   {
    "duration": 29,
    "start_time": "2022-04-26T22:58:01.572Z"
   },
   {
    "duration": 7,
    "start_time": "2022-04-26T22:59:03.185Z"
   },
   {
    "duration": 108,
    "start_time": "2022-04-26T22:59:09.026Z"
   },
   {
    "duration": 5,
    "start_time": "2022-04-26T22:59:09.137Z"
   },
   {
    "duration": 15,
    "start_time": "2022-04-26T22:59:09.144Z"
   },
   {
    "duration": 18,
    "start_time": "2022-04-26T22:59:09.161Z"
   },
   {
    "duration": 28,
    "start_time": "2022-04-26T22:59:09.181Z"
   },
   {
    "duration": 14,
    "start_time": "2022-04-26T22:59:09.212Z"
   },
   {
    "duration": 14,
    "start_time": "2022-04-26T22:59:09.228Z"
   },
   {
    "duration": 7,
    "start_time": "2022-04-26T22:59:09.244Z"
   },
   {
    "duration": 185,
    "start_time": "2022-04-26T22:59:09.252Z"
   },
   {
    "duration": 160,
    "start_time": "2022-04-26T22:59:09.439Z"
   },
   {
    "duration": 10,
    "start_time": "2022-04-26T22:59:09.601Z"
   },
   {
    "duration": 8,
    "start_time": "2022-04-26T22:59:09.612Z"
   },
   {
    "duration": 9,
    "start_time": "2022-04-26T22:59:09.621Z"
   },
   {
    "duration": 9,
    "start_time": "2022-04-26T22:59:09.632Z"
   },
   {
    "duration": 17,
    "start_time": "2022-04-26T22:59:09.643Z"
   },
   {
    "duration": 34,
    "start_time": "2022-04-26T22:59:09.662Z"
   },
   {
    "duration": 7,
    "start_time": "2022-04-26T22:59:13.346Z"
   },
   {
    "duration": 6,
    "start_time": "2022-04-26T22:59:18.692Z"
   },
   {
    "duration": 7,
    "start_time": "2022-04-26T22:59:19.110Z"
   },
   {
    "duration": 10,
    "start_time": "2022-04-26T22:59:26.660Z"
   },
   {
    "duration": 7315,
    "start_time": "2022-04-26T22:59:26.672Z"
   },
   {
    "duration": 12,
    "start_time": "2022-04-26T22:59:33.988Z"
   },
   {
    "duration": 139,
    "start_time": "2022-04-26T22:59:34.002Z"
   },
   {
    "duration": 7,
    "start_time": "2022-04-26T22:59:34.143Z"
   },
   {
    "duration": 150,
    "start_time": "2022-04-26T22:59:34.151Z"
   },
   {
    "duration": 124,
    "start_time": "2022-04-26T22:59:34.302Z"
   },
   {
    "duration": 2,
    "start_time": "2022-04-26T22:59:34.428Z"
   },
   {
    "duration": 7,
    "start_time": "2022-04-26T22:59:34.432Z"
   },
   {
    "duration": 127,
    "start_time": "2022-04-26T22:59:34.441Z"
   },
   {
    "duration": 3,
    "start_time": "2022-04-26T22:59:34.569Z"
   },
   {
    "duration": 20,
    "start_time": "2022-04-26T22:59:34.573Z"
   },
   {
    "duration": 160,
    "start_time": "2022-04-26T22:59:34.594Z"
   },
   {
    "duration": 3,
    "start_time": "2022-04-26T22:59:34.756Z"
   },
   {
    "duration": 7,
    "start_time": "2022-04-26T22:59:34.760Z"
   },
   {
    "duration": 6,
    "start_time": "2022-04-26T22:59:34.768Z"
   },
   {
    "duration": 18,
    "start_time": "2022-04-26T22:59:34.775Z"
   },
   {
    "duration": 5,
    "start_time": "2022-04-26T22:59:34.794Z"
   },
   {
    "duration": 4,
    "start_time": "2022-04-26T22:59:34.800Z"
   },
   {
    "duration": 3,
    "start_time": "2022-04-26T22:59:34.806Z"
   },
   {
    "duration": 8,
    "start_time": "2022-04-26T22:59:34.811Z"
   },
   {
    "duration": 9,
    "start_time": "2022-04-26T22:59:34.820Z"
   },
   {
    "duration": 7,
    "start_time": "2022-04-26T22:59:34.831Z"
   },
   {
    "duration": 7,
    "start_time": "2022-04-26T22:59:34.840Z"
   },
   {
    "duration": 13,
    "start_time": "2022-04-26T22:59:34.848Z"
   },
   {
    "duration": 8,
    "start_time": "2022-04-26T22:59:34.862Z"
   },
   {
    "duration": 9,
    "start_time": "2022-04-26T22:59:34.871Z"
   },
   {
    "duration": 4,
    "start_time": "2022-04-26T22:59:34.892Z"
   },
   {
    "duration": 7,
    "start_time": "2022-04-26T22:59:34.897Z"
   },
   {
    "duration": 8,
    "start_time": "2022-04-26T22:59:34.905Z"
   },
   {
    "duration": 8,
    "start_time": "2022-04-26T22:59:34.914Z"
   },
   {
    "duration": 7,
    "start_time": "2022-04-26T22:59:34.924Z"
   },
   {
    "duration": 8,
    "start_time": "2022-04-26T22:59:34.933Z"
   },
   {
    "duration": 8,
    "start_time": "2022-04-26T22:59:34.943Z"
   },
   {
    "duration": 7,
    "start_time": "2022-04-26T22:59:34.953Z"
   },
   {
    "duration": 8,
    "start_time": "2022-04-26T22:59:34.961Z"
   },
   {
    "duration": 7,
    "start_time": "2022-04-26T22:59:34.971Z"
   },
   {
    "duration": 12,
    "start_time": "2022-04-26T22:59:34.980Z"
   },
   {
    "duration": 7,
    "start_time": "2022-04-26T22:59:34.994Z"
   },
   {
    "duration": 10,
    "start_time": "2022-04-26T22:59:35.003Z"
   },
   {
    "duration": 20,
    "start_time": "2022-04-26T22:59:35.015Z"
   },
   {
    "duration": 11,
    "start_time": "2022-04-26T22:59:35.037Z"
   },
   {
    "duration": 11,
    "start_time": "2022-04-26T22:59:35.049Z"
   },
   {
    "duration": 18,
    "start_time": "2022-04-26T22:59:35.062Z"
   },
   {
    "duration": 20,
    "start_time": "2022-04-26T22:59:35.082Z"
   },
   {
    "duration": 8,
    "start_time": "2022-04-26T22:59:35.104Z"
   },
   {
    "duration": 8,
    "start_time": "2022-04-26T22:59:35.113Z"
   },
   {
    "duration": 7,
    "start_time": "2022-04-26T22:59:35.123Z"
   },
   {
    "duration": 9,
    "start_time": "2022-04-26T22:59:35.132Z"
   },
   {
    "duration": 7,
    "start_time": "2022-04-26T22:59:35.143Z"
   },
   {
    "duration": 10,
    "start_time": "2022-04-26T22:59:35.152Z"
   },
   {
    "duration": 13,
    "start_time": "2022-04-26T22:59:35.163Z"
   },
   {
    "duration": 9,
    "start_time": "2022-04-26T22:59:35.177Z"
   },
   {
    "duration": 8,
    "start_time": "2022-04-26T22:59:35.187Z"
   },
   {
    "duration": 19,
    "start_time": "2022-04-26T23:07:32.033Z"
   },
   {
    "duration": 19,
    "start_time": "2022-04-26T23:08:31.813Z"
   },
   {
    "duration": 21,
    "start_time": "2022-04-26T23:08:41.221Z"
   },
   {
    "duration": 5,
    "start_time": "2022-04-26T23:09:00.748Z"
   },
   {
    "duration": 109,
    "start_time": "2022-04-26T23:15:51.742Z"
   },
   {
    "duration": 4,
    "start_time": "2022-04-26T23:15:51.853Z"
   },
   {
    "duration": 19,
    "start_time": "2022-04-26T23:15:51.859Z"
   },
   {
    "duration": 28,
    "start_time": "2022-04-26T23:15:51.880Z"
   },
   {
    "duration": 23,
    "start_time": "2022-04-26T23:15:51.911Z"
   },
   {
    "duration": 12,
    "start_time": "2022-04-26T23:15:51.936Z"
   },
   {
    "duration": 51,
    "start_time": "2022-04-26T23:15:51.950Z"
   },
   {
    "duration": 6,
    "start_time": "2022-04-26T23:15:52.003Z"
   },
   {
    "duration": 231,
    "start_time": "2022-04-26T23:15:52.011Z"
   },
   {
    "duration": 172,
    "start_time": "2022-04-26T23:15:52.244Z"
   },
   {
    "duration": 12,
    "start_time": "2022-04-26T23:15:52.418Z"
   },
   {
    "duration": 7,
    "start_time": "2022-04-26T23:15:52.432Z"
   },
   {
    "duration": 7,
    "start_time": "2022-04-26T23:15:52.441Z"
   },
   {
    "duration": 43,
    "start_time": "2022-04-26T23:15:52.451Z"
   },
   {
    "duration": 21,
    "start_time": "2022-04-26T23:15:52.496Z"
   },
   {
    "duration": 5,
    "start_time": "2022-04-26T23:15:52.519Z"
   },
   {
    "duration": 12,
    "start_time": "2022-04-26T23:15:52.526Z"
   },
   {
    "duration": 8,
    "start_time": "2022-04-26T23:15:52.540Z"
   },
   {
    "duration": 12,
    "start_time": "2022-04-26T23:15:52.549Z"
   },
   {
    "duration": 38,
    "start_time": "2022-04-26T23:15:52.563Z"
   },
   {
    "duration": 12106,
    "start_time": "2022-04-26T23:15:52.603Z"
   },
   {
    "duration": 10,
    "start_time": "2022-04-26T23:16:04.711Z"
   },
   {
    "duration": 202,
    "start_time": "2022-04-26T23:16:04.723Z"
   },
   {
    "duration": 6,
    "start_time": "2022-04-26T23:16:04.928Z"
   },
   {
    "duration": 149,
    "start_time": "2022-04-26T23:16:04.936Z"
   },
   {
    "duration": 143,
    "start_time": "2022-04-26T23:16:05.092Z"
   },
   {
    "duration": 3,
    "start_time": "2022-04-26T23:16:05.236Z"
   },
   {
    "duration": 7,
    "start_time": "2022-04-26T23:16:05.240Z"
   },
   {
    "duration": 271,
    "start_time": "2022-04-26T23:16:05.249Z"
   },
   {
    "duration": 3,
    "start_time": "2022-04-26T23:16:05.521Z"
   },
   {
    "duration": 8,
    "start_time": "2022-04-26T23:16:05.525Z"
   },
   {
    "duration": 181,
    "start_time": "2022-04-26T23:16:05.535Z"
   },
   {
    "duration": 3,
    "start_time": "2022-04-26T23:16:05.717Z"
   },
   {
    "duration": 6,
    "start_time": "2022-04-26T23:16:05.722Z"
   },
   {
    "duration": 25,
    "start_time": "2022-04-26T23:16:05.729Z"
   },
   {
    "duration": 45,
    "start_time": "2022-04-26T23:16:05.756Z"
   },
   {
    "duration": 20,
    "start_time": "2022-04-26T23:16:05.803Z"
   },
   {
    "duration": 4,
    "start_time": "2022-04-26T23:16:05.825Z"
   },
   {
    "duration": 5,
    "start_time": "2022-04-26T23:16:05.831Z"
   },
   {
    "duration": 5,
    "start_time": "2022-04-26T23:16:05.837Z"
   },
   {
    "duration": 5,
    "start_time": "2022-04-26T23:16:05.848Z"
   },
   {
    "duration": 5,
    "start_time": "2022-04-26T23:16:05.855Z"
   },
   {
    "duration": 3,
    "start_time": "2022-04-26T23:16:05.894Z"
   },
   {
    "duration": 6,
    "start_time": "2022-04-26T23:16:05.899Z"
   },
   {
    "duration": 7,
    "start_time": "2022-04-26T23:16:05.907Z"
   },
   {
    "duration": 8,
    "start_time": "2022-04-26T23:16:05.916Z"
   },
   {
    "duration": 10,
    "start_time": "2022-04-26T23:16:05.926Z"
   },
   {
    "duration": 12,
    "start_time": "2022-04-26T23:16:05.937Z"
   },
   {
    "duration": 8,
    "start_time": "2022-04-26T23:16:05.951Z"
   },
   {
    "duration": 9,
    "start_time": "2022-04-26T23:16:05.961Z"
   },
   {
    "duration": 7,
    "start_time": "2022-04-26T23:16:05.972Z"
   },
   {
    "duration": 7,
    "start_time": "2022-04-26T23:16:05.981Z"
   },
   {
    "duration": 6,
    "start_time": "2022-04-26T23:16:05.992Z"
   },
   {
    "duration": 7,
    "start_time": "2022-04-26T23:16:06.000Z"
   },
   {
    "duration": 8,
    "start_time": "2022-04-26T23:16:06.009Z"
   },
   {
    "duration": 8,
    "start_time": "2022-04-26T23:16:06.019Z"
   },
   {
    "duration": 9,
    "start_time": "2022-04-26T23:16:06.029Z"
   },
   {
    "duration": 8,
    "start_time": "2022-04-26T23:16:06.040Z"
   },
   {
    "duration": 9,
    "start_time": "2022-04-26T23:16:06.050Z"
   },
   {
    "duration": 10,
    "start_time": "2022-04-26T23:16:06.060Z"
   },
   {
    "duration": 11,
    "start_time": "2022-04-26T23:16:06.072Z"
   },
   {
    "duration": 10,
    "start_time": "2022-04-26T23:16:06.086Z"
   },
   {
    "duration": 12,
    "start_time": "2022-04-26T23:16:06.098Z"
   },
   {
    "duration": 7,
    "start_time": "2022-04-26T23:16:06.113Z"
   },
   {
    "duration": 14,
    "start_time": "2022-04-26T23:16:06.122Z"
   },
   {
    "duration": 8,
    "start_time": "2022-04-26T23:16:06.138Z"
   },
   {
    "duration": 15,
    "start_time": "2022-04-26T23:16:06.148Z"
   },
   {
    "duration": 10,
    "start_time": "2022-04-26T23:16:06.165Z"
   },
   {
    "duration": 8,
    "start_time": "2022-04-26T23:16:06.176Z"
   },
   {
    "duration": 9,
    "start_time": "2022-04-26T23:16:06.185Z"
   },
   {
    "duration": 11,
    "start_time": "2022-04-26T23:16:06.196Z"
   },
   {
    "duration": 20,
    "start_time": "2022-04-26T23:16:06.208Z"
   },
   {
    "duration": 9,
    "start_time": "2022-04-26T23:16:06.230Z"
   },
   {
    "duration": 4,
    "start_time": "2022-04-26T23:19:35.591Z"
   },
   {
    "duration": 4,
    "start_time": "2022-04-26T23:19:43.960Z"
   },
   {
    "duration": 4,
    "start_time": "2022-04-26T23:20:05.926Z"
   },
   {
    "duration": 5,
    "start_time": "2022-04-26T23:20:29.629Z"
   },
   {
    "duration": 7022,
    "start_time": "2022-04-26T23:30:20.842Z"
   },
   {
    "duration": 13,
    "start_time": "2022-04-26T23:31:12.403Z"
   },
   {
    "duration": 10528,
    "start_time": "2022-04-26T23:35:40.466Z"
   },
   {
    "duration": 17,
    "start_time": "2022-04-26T23:36:02.156Z"
   },
   {
    "duration": 10407,
    "start_time": "2022-04-26T23:36:10.258Z"
   },
   {
    "duration": 15,
    "start_time": "2022-04-26T23:54:52.389Z"
   },
   {
    "duration": 180,
    "start_time": "2022-04-26T23:54:59.615Z"
   },
   {
    "duration": 5,
    "start_time": "2022-04-27T03:22:57.794Z"
   },
   {
    "duration": 10,
    "start_time": "2022-04-27T03:23:21.894Z"
   },
   {
    "duration": 8,
    "start_time": "2022-04-27T03:24:27.163Z"
   },
   {
    "duration": 13,
    "start_time": "2022-04-27T03:24:29.060Z"
   },
   {
    "duration": 137,
    "start_time": "2022-04-27T03:29:04.958Z"
   },
   {
    "duration": 5,
    "start_time": "2022-04-27T03:29:35.491Z"
   },
   {
    "duration": 10,
    "start_time": "2022-04-27T03:29:38.357Z"
   },
   {
    "duration": 5,
    "start_time": "2022-04-27T03:33:04.558Z"
   },
   {
    "duration": 8,
    "start_time": "2022-04-27T03:35:15.957Z"
   },
   {
    "duration": 11,
    "start_time": "2022-04-27T03:35:27.582Z"
   },
   {
    "duration": 4,
    "start_time": "2022-04-27T03:40:10.588Z"
   },
   {
    "duration": 10,
    "start_time": "2022-04-27T03:40:12.857Z"
   },
   {
    "duration": 10,
    "start_time": "2022-04-27T03:43:31.959Z"
   },
   {
    "duration": 9,
    "start_time": "2022-04-27T03:48:09.620Z"
   },
   {
    "duration": 10,
    "start_time": "2022-04-27T03:48:14.705Z"
   },
   {
    "duration": 4,
    "start_time": "2022-04-27T03:49:30.767Z"
   },
   {
    "duration": 14,
    "start_time": "2022-04-27T03:49:42.448Z"
   },
   {
    "duration": 10,
    "start_time": "2022-04-27T03:50:41.185Z"
   },
   {
    "duration": 16,
    "start_time": "2022-04-27T03:50:54.329Z"
   },
   {
    "duration": 10,
    "start_time": "2022-04-27T03:51:07.853Z"
   },
   {
    "duration": 6,
    "start_time": "2022-04-27T03:53:35.510Z"
   },
   {
    "duration": 11,
    "start_time": "2022-04-27T03:53:37.525Z"
   },
   {
    "duration": 5,
    "start_time": "2022-04-27T03:53:58.128Z"
   },
   {
    "duration": 10,
    "start_time": "2022-04-27T03:53:59.442Z"
   },
   {
    "duration": 5,
    "start_time": "2022-04-27T03:56:42.193Z"
   },
   {
    "duration": 11,
    "start_time": "2022-04-27T03:56:43.001Z"
   },
   {
    "duration": 5,
    "start_time": "2022-04-27T03:59:25.088Z"
   },
   {
    "duration": 11,
    "start_time": "2022-04-27T03:59:25.800Z"
   },
   {
    "duration": 8,
    "start_time": "2022-04-27T04:00:24.184Z"
   },
   {
    "duration": 7,
    "start_time": "2022-04-27T04:00:41.914Z"
   },
   {
    "duration": 11,
    "start_time": "2022-04-27T04:02:50.907Z"
   },
   {
    "duration": 10,
    "start_time": "2022-04-27T04:04:40.792Z"
   },
   {
    "duration": 10,
    "start_time": "2022-04-27T04:04:52.168Z"
   },
   {
    "duration": 5,
    "start_time": "2022-04-27T04:05:34.356Z"
   },
   {
    "duration": 10,
    "start_time": "2022-04-27T04:05:36.012Z"
   },
   {
    "duration": 5,
    "start_time": "2022-04-27T04:23:57.357Z"
   },
   {
    "duration": 3,
    "start_time": "2022-04-27T04:23:58.909Z"
   },
   {
    "duration": 4,
    "start_time": "2022-04-27T04:24:35.206Z"
   },
   {
    "duration": 10,
    "start_time": "2022-04-27T04:24:36.990Z"
   },
   {
    "duration": 13,
    "start_time": "2022-04-27T04:27:11.771Z"
   },
   {
    "duration": 5,
    "start_time": "2022-04-27T04:43:58.863Z"
   },
   {
    "duration": 3,
    "start_time": "2022-04-27T04:43:59.992Z"
   },
   {
    "duration": 5,
    "start_time": "2022-04-27T04:44:11.908Z"
   },
   {
    "duration": 3,
    "start_time": "2022-04-27T04:44:12.942Z"
   },
   {
    "duration": 4,
    "start_time": "2022-04-27T04:47:03.733Z"
   },
   {
    "duration": 17,
    "start_time": "2022-04-27T04:47:05.124Z"
   },
   {
    "duration": 4,
    "start_time": "2022-04-27T04:49:05.907Z"
   },
   {
    "duration": 3,
    "start_time": "2022-04-27T04:49:06.732Z"
   },
   {
    "duration": 70,
    "start_time": "2022-04-28T02:05:39.652Z"
   },
   {
    "duration": 1287,
    "start_time": "2022-04-28T02:05:47.458Z"
   },
   {
    "duration": 5,
    "start_time": "2022-04-28T02:05:48.748Z"
   },
   {
    "duration": 29,
    "start_time": "2022-04-28T02:05:48.755Z"
   },
   {
    "duration": 22,
    "start_time": "2022-04-28T02:05:48.786Z"
   },
   {
    "duration": 23,
    "start_time": "2022-04-28T02:05:48.810Z"
   },
   {
    "duration": 48,
    "start_time": "2022-04-28T02:05:48.835Z"
   },
   {
    "duration": 21,
    "start_time": "2022-04-28T02:05:48.885Z"
   },
   {
    "duration": 7,
    "start_time": "2022-04-28T02:05:48.909Z"
   },
   {
    "duration": 283,
    "start_time": "2022-04-28T02:05:48.918Z"
   },
   {
    "duration": 265,
    "start_time": "2022-04-28T02:05:49.205Z"
   },
   {
    "duration": 18,
    "start_time": "2022-04-28T02:05:49.472Z"
   },
   {
    "duration": 10,
    "start_time": "2022-04-28T02:05:49.494Z"
   },
   {
    "duration": 10,
    "start_time": "2022-04-28T02:05:49.507Z"
   },
   {
    "duration": 9,
    "start_time": "2022-04-28T02:05:49.520Z"
   },
   {
    "duration": 26,
    "start_time": "2022-04-28T02:05:49.583Z"
   },
   {
    "duration": 9,
    "start_time": "2022-04-28T02:05:49.611Z"
   },
   {
    "duration": 11,
    "start_time": "2022-04-28T02:05:49.623Z"
   },
   {
    "duration": 46,
    "start_time": "2022-04-28T02:05:49.637Z"
   },
   {
    "duration": 11,
    "start_time": "2022-04-28T02:05:49.686Z"
   },
   {
    "duration": 14,
    "start_time": "2022-04-28T02:05:49.699Z"
   },
   {
    "duration": 11608,
    "start_time": "2022-04-28T02:05:49.715Z"
   },
   {
    "duration": 12,
    "start_time": "2022-04-28T02:06:01.325Z"
   },
   {
    "duration": 237,
    "start_time": "2022-04-28T02:06:01.340Z"
   },
   {
    "duration": 9,
    "start_time": "2022-04-28T02:06:01.579Z"
   },
   {
    "duration": 238,
    "start_time": "2022-04-28T02:06:01.590Z"
   },
   {
    "duration": 285,
    "start_time": "2022-04-28T02:06:01.830Z"
   },
   {
    "duration": 4,
    "start_time": "2022-04-28T02:06:02.117Z"
   },
   {
    "duration": 20,
    "start_time": "2022-04-28T02:06:02.127Z"
   },
   {
    "duration": 212,
    "start_time": "2022-04-28T02:06:02.149Z"
   },
   {
    "duration": 4,
    "start_time": "2022-04-28T02:06:02.363Z"
   },
   {
    "duration": 10,
    "start_time": "2022-04-28T02:06:02.382Z"
   },
   {
    "duration": 284,
    "start_time": "2022-04-28T02:06:02.394Z"
   },
   {
    "duration": 3,
    "start_time": "2022-04-28T02:06:02.680Z"
   },
   {
    "duration": 6,
    "start_time": "2022-04-28T02:06:02.685Z"
   },
   {
    "duration": 29,
    "start_time": "2022-04-28T02:06:02.694Z"
   },
   {
    "duration": 56,
    "start_time": "2022-04-28T02:06:02.726Z"
   },
   {
    "duration": 31,
    "start_time": "2022-04-28T02:06:02.785Z"
   },
   {
    "duration": 5,
    "start_time": "2022-04-28T02:06:02.818Z"
   },
   {
    "duration": 7,
    "start_time": "2022-04-28T02:06:02.825Z"
   },
   {
    "duration": 53,
    "start_time": "2022-04-28T02:06:02.835Z"
   },
   {
    "duration": 7,
    "start_time": "2022-04-28T02:06:02.891Z"
   },
   {
    "duration": 31,
    "start_time": "2022-04-28T02:06:02.900Z"
   },
   {
    "duration": 3,
    "start_time": "2022-04-28T02:06:02.934Z"
   },
   {
    "duration": 4,
    "start_time": "2022-04-28T02:06:02.939Z"
   },
   {
    "duration": 7,
    "start_time": "2022-04-28T02:06:02.946Z"
   },
   {
    "duration": 4,
    "start_time": "2022-04-28T02:06:02.982Z"
   },
   {
    "duration": 8,
    "start_time": "2022-04-28T02:06:02.988Z"
   },
   {
    "duration": 7,
    "start_time": "2022-04-28T02:06:02.997Z"
   },
   {
    "duration": 6,
    "start_time": "2022-04-28T02:06:03.006Z"
   },
   {
    "duration": 8,
    "start_time": "2022-04-28T02:06:03.014Z"
   },
   {
    "duration": 5,
    "start_time": "2022-04-28T02:06:03.025Z"
   },
   {
    "duration": 6,
    "start_time": "2022-04-28T02:06:03.032Z"
   },
   {
    "duration": 5,
    "start_time": "2022-04-28T02:06:03.040Z"
   },
   {
    "duration": 4,
    "start_time": "2022-04-28T02:06:03.082Z"
   },
   {
    "duration": 6,
    "start_time": "2022-04-28T02:06:03.088Z"
   },
   {
    "duration": 6,
    "start_time": "2022-04-28T02:06:03.096Z"
   },
   {
    "duration": 12,
    "start_time": "2022-04-28T02:06:03.104Z"
   },
   {
    "duration": 9,
    "start_time": "2022-04-28T02:06:03.118Z"
   },
   {
    "duration": 5,
    "start_time": "2022-04-28T02:06:03.129Z"
   },
   {
    "duration": 8,
    "start_time": "2022-04-28T02:06:03.136Z"
   },
   {
    "duration": 6,
    "start_time": "2022-04-28T02:06:03.146Z"
   },
   {
    "duration": 29,
    "start_time": "2022-04-28T02:06:03.154Z"
   },
   {
    "duration": 8,
    "start_time": "2022-04-28T02:06:03.185Z"
   },
   {
    "duration": 6,
    "start_time": "2022-04-28T02:06:03.196Z"
   },
   {
    "duration": 5,
    "start_time": "2022-04-28T02:06:03.204Z"
   },
   {
    "duration": 7,
    "start_time": "2022-04-28T02:06:03.211Z"
   },
   {
    "duration": 8,
    "start_time": "2022-04-28T02:06:03.220Z"
   },
   {
    "duration": 6,
    "start_time": "2022-04-28T02:06:03.230Z"
   },
   {
    "duration": 5,
    "start_time": "2022-04-28T02:06:03.238Z"
   },
   {
    "duration": 37,
    "start_time": "2022-04-28T02:06:03.245Z"
   },
   {
    "duration": 6,
    "start_time": "2022-04-28T02:06:03.284Z"
   },
   {
    "duration": 6,
    "start_time": "2022-04-28T02:06:03.292Z"
   },
   {
    "duration": 11,
    "start_time": "2022-04-28T02:06:03.300Z"
   },
   {
    "duration": 8,
    "start_time": "2022-04-28T02:06:03.313Z"
   },
   {
    "duration": 7,
    "start_time": "2022-04-28T02:10:39.080Z"
   },
   {
    "duration": 56,
    "start_time": "2022-04-28T02:11:08.056Z"
   },
   {
    "duration": 6,
    "start_time": "2022-04-28T02:11:14.341Z"
   },
   {
    "duration": 16,
    "start_time": "2022-04-28T02:11:15.798Z"
   },
   {
    "duration": 7,
    "start_time": "2022-04-28T02:16:36.831Z"
   },
   {
    "duration": 13,
    "start_time": "2022-04-28T02:16:37.966Z"
   },
   {
    "duration": 47,
    "start_time": "2022-04-28T02:16:57.679Z"
   },
   {
    "duration": 115,
    "start_time": "2022-04-28T02:18:47.184Z"
   },
   {
    "duration": 30,
    "start_time": "2022-04-28T02:20:42.399Z"
   },
   {
    "duration": 19,
    "start_time": "2022-04-28T02:20:52.921Z"
   },
   {
    "duration": 19,
    "start_time": "2022-04-28T02:24:14.625Z"
   },
   {
    "duration": 35,
    "start_time": "2022-04-28T02:24:31.560Z"
   },
   {
    "duration": 12,
    "start_time": "2022-04-28T02:29:00.410Z"
   },
   {
    "duration": 31,
    "start_time": "2022-04-28T02:29:07.331Z"
   },
   {
    "duration": 11,
    "start_time": "2022-04-28T02:29:39.772Z"
   },
   {
    "duration": 12,
    "start_time": "2022-04-28T02:29:50.106Z"
   },
   {
    "duration": 12,
    "start_time": "2022-04-28T02:31:02.886Z"
   },
   {
    "duration": 12,
    "start_time": "2022-04-28T02:31:09.065Z"
   },
   {
    "duration": 12,
    "start_time": "2022-04-28T02:33:03.173Z"
   },
   {
    "duration": 11,
    "start_time": "2022-04-28T02:33:08.209Z"
   },
   {
    "duration": 11,
    "start_time": "2022-04-28T02:34:51.969Z"
   },
   {
    "duration": 11,
    "start_time": "2022-04-28T02:34:54.956Z"
   },
   {
    "duration": 310,
    "start_time": "2022-04-28T02:43:04.893Z"
   },
   {
    "duration": 362,
    "start_time": "2022-04-28T02:43:16.639Z"
   },
   {
    "duration": 37,
    "start_time": "2022-04-28T02:43:48.710Z"
   },
   {
    "duration": 11,
    "start_time": "2022-04-28T02:43:58.880Z"
   },
   {
    "duration": 369,
    "start_time": "2022-04-28T02:49:31.717Z"
   },
   {
    "duration": 46,
    "start_time": "2022-04-28T02:51:24.674Z"
   },
   {
    "duration": 46,
    "start_time": "2022-04-28T02:52:42.565Z"
   },
   {
    "duration": 11,
    "start_time": "2022-04-28T03:59:51.390Z"
   },
   {
    "duration": 13,
    "start_time": "2022-04-28T04:00:53.099Z"
   },
   {
    "duration": 19,
    "start_time": "2022-04-28T04:05:03.866Z"
   },
   {
    "duration": 20,
    "start_time": "2022-04-28T04:05:21.290Z"
   },
   {
    "duration": 20,
    "start_time": "2022-04-28T04:05:56.131Z"
   },
   {
    "duration": 19,
    "start_time": "2022-04-28T04:06:02.627Z"
   },
   {
    "duration": 11,
    "start_time": "2022-04-28T04:32:35.400Z"
   },
   {
    "duration": 7,
    "start_time": "2022-04-28T04:32:39.666Z"
   },
   {
    "duration": 85,
    "start_time": "2022-04-28T04:33:12.983Z"
   },
   {
    "duration": 11,
    "start_time": "2022-04-28T04:41:41.978Z"
   },
   {
    "duration": 37,
    "start_time": "2022-04-28T04:41:45.990Z"
   },
   {
    "duration": 20,
    "start_time": "2022-04-28T04:41:56.034Z"
   },
   {
    "duration": 24,
    "start_time": "2022-04-28T04:44:04.409Z"
   },
   {
    "duration": 36,
    "start_time": "2022-04-28T04:44:09.549Z"
   },
   {
    "duration": 21,
    "start_time": "2022-04-28T04:44:12.906Z"
   },
   {
    "duration": 21,
    "start_time": "2022-04-28T05:24:36.065Z"
   },
   {
    "duration": 20,
    "start_time": "2022-04-28T05:24:45.733Z"
   },
   {
    "duration": 21,
    "start_time": "2022-04-28T05:25:20.546Z"
   },
   {
    "duration": 24,
    "start_time": "2022-04-28T05:25:54.755Z"
   },
   {
    "duration": 22,
    "start_time": "2022-04-28T05:26:49.722Z"
   },
   {
    "duration": 563,
    "start_time": "2022-05-03T18:23:05.015Z"
   },
   {
    "duration": 210,
    "start_time": "2022-05-03T18:23:16.155Z"
   },
   {
    "duration": 227,
    "start_time": "2022-05-03T18:24:14.925Z"
   },
   {
    "duration": 209,
    "start_time": "2022-05-03T18:24:45.372Z"
   },
   {
    "duration": 1608,
    "start_time": "2022-05-03T18:26:54.199Z"
   },
   {
    "duration": 718,
    "start_time": "2022-05-03T18:26:56.014Z"
   },
   {
    "duration": 112,
    "start_time": "2022-05-03T18:45:33.245Z"
   },
   {
    "duration": 3,
    "start_time": "2022-05-03T18:45:41.822Z"
   },
   {
    "duration": 1179,
    "start_time": "2022-05-03T18:45:41.828Z"
   },
   {
    "duration": 5,
    "start_time": "2022-05-03T18:45:43.009Z"
   },
   {
    "duration": 27,
    "start_time": "2022-05-03T18:45:43.018Z"
   },
   {
    "duration": 48,
    "start_time": "2022-05-03T18:45:43.047Z"
   },
   {
    "duration": 33,
    "start_time": "2022-05-03T18:45:43.097Z"
   },
   {
    "duration": 21,
    "start_time": "2022-05-03T18:45:43.133Z"
   },
   {
    "duration": 48,
    "start_time": "2022-05-03T18:45:43.156Z"
   },
   {
    "duration": 8,
    "start_time": "2022-05-03T18:45:43.207Z"
   },
   {
    "duration": 252,
    "start_time": "2022-05-03T18:45:49.476Z"
   },
   {
    "duration": 332,
    "start_time": "2022-05-03T18:46:27.451Z"
   },
   {
    "duration": 309,
    "start_time": "2022-05-03T18:46:47.465Z"
   },
   {
    "duration": 15,
    "start_time": "2022-05-03T18:47:00.983Z"
   },
   {
    "duration": 403,
    "start_time": "2022-05-03T18:47:48.367Z"
   },
   {
    "duration": 292,
    "start_time": "2022-05-03T18:48:50.237Z"
   },
   {
    "duration": 15,
    "start_time": "2022-05-03T18:49:55.300Z"
   },
   {
    "duration": 7,
    "start_time": "2022-05-03T18:52:22.081Z"
   },
   {
    "duration": 16,
    "start_time": "2022-05-03T18:55:41.896Z"
   },
   {
    "duration": 8,
    "start_time": "2022-05-03T18:55:52.300Z"
   },
   {
    "duration": 11,
    "start_time": "2022-05-03T18:56:28.274Z"
   },
   {
    "duration": 11,
    "start_time": "2022-05-03T18:57:13.179Z"
   },
   {
    "duration": 11,
    "start_time": "2022-05-03T18:57:23.932Z"
   },
   {
    "duration": 13,
    "start_time": "2022-05-03T18:58:05.382Z"
   },
   {
    "duration": 9,
    "start_time": "2022-05-03T18:58:46.668Z"
   },
   {
    "duration": 10,
    "start_time": "2022-05-03T19:01:42.244Z"
   },
   {
    "duration": 13,
    "start_time": "2022-05-03T19:05:42.884Z"
   },
   {
    "duration": 8,
    "start_time": "2022-05-03T19:05:54.716Z"
   },
   {
    "duration": 3,
    "start_time": "2022-05-03T19:06:50.318Z"
   },
   {
    "duration": 247,
    "start_time": "2022-05-03T19:06:50.323Z"
   },
   {
    "duration": 6,
    "start_time": "2022-05-03T19:06:50.573Z"
   },
   {
    "duration": 26,
    "start_time": "2022-05-03T19:06:50.581Z"
   },
   {
    "duration": 24,
    "start_time": "2022-05-03T19:06:50.610Z"
   },
   {
    "duration": 22,
    "start_time": "2022-05-03T19:06:50.636Z"
   },
   {
    "duration": 42,
    "start_time": "2022-05-03T19:06:50.661Z"
   },
   {
    "duration": 19,
    "start_time": "2022-05-03T19:06:50.706Z"
   },
   {
    "duration": 8,
    "start_time": "2022-05-03T19:06:50.727Z"
   },
   {
    "duration": 13,
    "start_time": "2022-05-03T19:06:50.737Z"
   },
   {
    "duration": 48,
    "start_time": "2022-05-03T19:06:50.755Z"
   },
   {
    "duration": 241,
    "start_time": "2022-05-03T19:06:50.806Z"
   },
   {
    "duration": 249,
    "start_time": "2022-05-03T19:06:51.049Z"
   },
   {
    "duration": 13,
    "start_time": "2022-05-03T19:06:51.300Z"
   },
   {
    "duration": 12,
    "start_time": "2022-05-03T19:06:51.316Z"
   },
   {
    "duration": 10,
    "start_time": "2022-05-03T19:06:51.330Z"
   },
   {
    "duration": 50,
    "start_time": "2022-05-03T19:06:51.343Z"
   },
   {
    "duration": 19,
    "start_time": "2022-05-03T19:06:57.603Z"
   },
   {
    "duration": 7,
    "start_time": "2022-05-03T19:06:59.678Z"
   },
   {
    "duration": 9,
    "start_time": "2022-05-03T19:41:38.904Z"
   },
   {
    "duration": 5,
    "start_time": "2022-05-03T19:42:59.155Z"
   },
   {
    "duration": 9,
    "start_time": "2022-05-03T19:43:04.240Z"
   },
   {
    "duration": 9,
    "start_time": "2022-05-03T19:43:28.787Z"
   },
   {
    "duration": 4,
    "start_time": "2022-05-03T19:43:39.186Z"
   },
   {
    "duration": 9,
    "start_time": "2022-05-03T19:43:42.783Z"
   },
   {
    "duration": 11,
    "start_time": "2022-05-03T19:43:48.688Z"
   },
   {
    "duration": 7,
    "start_time": "2022-05-03T19:45:10.324Z"
   },
   {
    "duration": 10,
    "start_time": "2022-05-03T19:45:13.127Z"
   },
   {
    "duration": 9,
    "start_time": "2022-05-03T19:53:02.693Z"
   },
   {
    "duration": 12,
    "start_time": "2022-05-03T19:53:07.257Z"
   },
   {
    "duration": 11,
    "start_time": "2022-05-03T19:53:26.468Z"
   },
   {
    "duration": 9,
    "start_time": "2022-05-03T19:53:35.284Z"
   },
   {
    "duration": 10,
    "start_time": "2022-05-03T19:53:37.614Z"
   },
   {
    "duration": 5,
    "start_time": "2022-05-03T19:54:46.134Z"
   },
   {
    "duration": 13,
    "start_time": "2022-05-03T19:54:48.189Z"
   },
   {
    "duration": 4,
    "start_time": "2022-05-03T19:54:55.874Z"
   },
   {
    "duration": 186,
    "start_time": "2022-05-03T19:54:55.882Z"
   },
   {
    "duration": 5,
    "start_time": "2022-05-03T19:54:56.071Z"
   },
   {
    "duration": 25,
    "start_time": "2022-05-03T19:54:56.079Z"
   },
   {
    "duration": 23,
    "start_time": "2022-05-03T19:54:56.107Z"
   },
   {
    "duration": 22,
    "start_time": "2022-05-03T19:54:56.132Z"
   },
   {
    "duration": 42,
    "start_time": "2022-05-03T19:54:56.156Z"
   },
   {
    "duration": 19,
    "start_time": "2022-05-03T19:54:56.201Z"
   },
   {
    "duration": 8,
    "start_time": "2022-05-03T19:54:56.222Z"
   },
   {
    "duration": 13,
    "start_time": "2022-05-03T19:54:56.232Z"
   },
   {
    "duration": 46,
    "start_time": "2022-05-03T19:54:56.247Z"
   },
   {
    "duration": 255,
    "start_time": "2022-05-03T19:54:56.296Z"
   },
   {
    "duration": 256,
    "start_time": "2022-05-03T19:54:56.553Z"
   },
   {
    "duration": 19,
    "start_time": "2022-05-03T19:54:56.814Z"
   },
   {
    "duration": 10,
    "start_time": "2022-05-03T19:54:56.836Z"
   },
   {
    "duration": 46,
    "start_time": "2022-05-03T19:54:56.848Z"
   },
   {
    "duration": 7,
    "start_time": "2022-05-03T19:54:56.897Z"
   },
   {
    "duration": 17,
    "start_time": "2022-05-03T19:54:56.906Z"
   },
   {
    "duration": 13,
    "start_time": "2022-05-03T19:54:56.926Z"
   },
   {
    "duration": 19,
    "start_time": "2022-05-03T19:54:56.942Z"
   },
   {
    "duration": 19,
    "start_time": "2022-05-03T19:54:56.993Z"
   },
   {
    "duration": 15,
    "start_time": "2022-05-03T19:54:57.015Z"
   },
   {
    "duration": 15,
    "start_time": "2022-05-03T19:54:57.032Z"
   },
   {
    "duration": 12,
    "start_time": "2022-05-03T19:55:13.666Z"
   },
   {
    "duration": 5,
    "start_time": "2022-05-03T19:55:16.570Z"
   },
   {
    "duration": 14,
    "start_time": "2022-05-03T19:55:18.294Z"
   },
   {
    "duration": 210,
    "start_time": "2022-05-03T19:57:38.293Z"
   },
   {
    "duration": 8,
    "start_time": "2022-05-03T19:58:59.157Z"
   },
   {
    "duration": 224,
    "start_time": "2022-05-03T20:00:33.377Z"
   },
   {
    "duration": 202,
    "start_time": "2022-05-03T20:00:38.755Z"
   },
   {
    "duration": 4,
    "start_time": "2022-05-03T20:00:39.935Z"
   },
   {
    "duration": 3,
    "start_time": "2022-05-03T20:00:41.490Z"
   },
   {
    "duration": 188,
    "start_time": "2022-05-03T20:00:44.041Z"
   },
   {
    "duration": 4,
    "start_time": "2022-05-03T20:00:49.876Z"
   },
   {
    "duration": 3,
    "start_time": "2022-05-03T20:00:50.869Z"
   },
   {
    "duration": 260,
    "start_time": "2022-05-03T20:01:19.418Z"
   },
   {
    "duration": 26,
    "start_time": "2022-05-03T20:02:17.707Z"
   },
   {
    "duration": 29,
    "start_time": "2022-05-03T20:02:18.987Z"
   },
   {
    "duration": 31,
    "start_time": "2022-05-03T20:02:20.148Z"
   },
   {
    "duration": 5,
    "start_time": "2022-05-03T20:02:21.772Z"
   },
   {
    "duration": 6,
    "start_time": "2022-05-03T20:02:28.454Z"
   },
   {
    "duration": 24,
    "start_time": "2022-05-03T21:00:50.467Z"
   },
   {
    "duration": 14,
    "start_time": "2022-05-03T21:01:04.708Z"
   },
   {
    "duration": 15,
    "start_time": "2022-05-03T21:02:28.387Z"
   },
   {
    "duration": 21,
    "start_time": "2022-05-03T21:09:58.715Z"
   },
   {
    "duration": 14,
    "start_time": "2022-05-03T21:10:14.320Z"
   },
   {
    "duration": 14,
    "start_time": "2022-05-03T21:10:20.941Z"
   },
   {
    "duration": 4,
    "start_time": "2022-05-03T21:40:19.439Z"
   },
   {
    "duration": 1462,
    "start_time": "2022-05-03T21:40:19.446Z"
   },
   {
    "duration": 6,
    "start_time": "2022-05-03T21:40:20.910Z"
   },
   {
    "duration": 24,
    "start_time": "2022-05-03T21:40:20.920Z"
   },
   {
    "duration": 50,
    "start_time": "2022-05-03T21:40:20.948Z"
   },
   {
    "duration": 25,
    "start_time": "2022-05-03T21:40:21.001Z"
   },
   {
    "duration": 20,
    "start_time": "2022-05-03T21:40:21.030Z"
   },
   {
    "duration": 55,
    "start_time": "2022-05-03T21:40:21.053Z"
   },
   {
    "duration": 10,
    "start_time": "2022-05-03T21:40:21.112Z"
   },
   {
    "duration": 14,
    "start_time": "2022-05-03T21:40:21.125Z"
   },
   {
    "duration": 20,
    "start_time": "2022-05-03T21:40:21.142Z"
   },
   {
    "duration": 252,
    "start_time": "2022-05-03T21:40:21.194Z"
   },
   {
    "duration": 350,
    "start_time": "2022-05-03T21:40:21.451Z"
   },
   {
    "duration": 15,
    "start_time": "2022-05-03T21:40:21.803Z"
   },
   {
    "duration": 14,
    "start_time": "2022-05-03T21:40:21.821Z"
   },
   {
    "duration": 15,
    "start_time": "2022-05-03T21:40:21.837Z"
   },
   {
    "duration": 46,
    "start_time": "2022-05-03T21:40:21.854Z"
   },
   {
    "duration": 14,
    "start_time": "2022-05-03T21:40:21.902Z"
   },
   {
    "duration": 12,
    "start_time": "2022-05-03T21:40:21.918Z"
   },
   {
    "duration": 66,
    "start_time": "2022-05-03T21:40:21.933Z"
   },
   {
    "duration": 8,
    "start_time": "2022-05-03T21:40:22.002Z"
   },
   {
    "duration": 11,
    "start_time": "2022-05-03T21:40:22.012Z"
   },
   {
    "duration": 13,
    "start_time": "2022-05-03T21:40:22.025Z"
   },
   {
    "duration": 55,
    "start_time": "2022-05-03T21:40:22.041Z"
   },
   {
    "duration": 23,
    "start_time": "2022-05-03T21:40:22.099Z"
   },
   {
    "duration": 240,
    "start_time": "2022-05-03T21:40:22.124Z"
   },
   {
    "duration": 9,
    "start_time": "2022-05-03T21:40:22.367Z"
   },
   {
    "duration": 239,
    "start_time": "2022-05-03T21:40:22.378Z"
   },
   {
    "duration": 234,
    "start_time": "2022-05-03T21:40:22.620Z"
   },
   {
    "duration": 4,
    "start_time": "2022-05-03T21:40:22.856Z"
   },
   {
    "duration": 8,
    "start_time": "2022-05-03T21:40:22.863Z"
   },
   {
    "duration": 273,
    "start_time": "2022-05-03T21:40:22.873Z"
   },
   {
    "duration": 4,
    "start_time": "2022-05-03T21:40:23.148Z"
   },
   {
    "duration": 9,
    "start_time": "2022-05-03T21:40:23.154Z"
   },
   {
    "duration": 364,
    "start_time": "2022-05-03T21:40:23.165Z"
   },
   {
    "duration": 5,
    "start_time": "2022-05-03T21:40:23.532Z"
   },
   {
    "duration": 4,
    "start_time": "2022-05-03T21:40:23.544Z"
   },
   {
    "duration": 67,
    "start_time": "2022-05-03T21:40:23.551Z"
   },
   {
    "duration": 72,
    "start_time": "2022-05-03T21:40:23.621Z"
   },
   {
    "duration": 32,
    "start_time": "2022-05-03T21:40:23.698Z"
   },
   {
    "duration": 5,
    "start_time": "2022-05-03T21:40:23.733Z"
   },
   {
    "duration": 8,
    "start_time": "2022-05-03T21:40:23.740Z"
   },
   {
    "duration": 57,
    "start_time": "2022-05-03T21:40:23.750Z"
   },
   {
    "duration": 15,
    "start_time": "2022-05-03T21:40:23.809Z"
   },
   {
    "duration": 23,
    "start_time": "2022-05-03T21:40:23.827Z"
   },
   {
    "duration": 45,
    "start_time": "2022-05-03T21:40:23.852Z"
   },
   {
    "duration": 103,
    "start_time": "2022-05-03T21:40:23.900Z"
   },
   {
    "duration": 29,
    "start_time": "2022-05-03T21:40:24.005Z"
   },
   {
    "duration": 25,
    "start_time": "2022-05-03T21:40:24.038Z"
   },
   {
    "duration": 60,
    "start_time": "2022-05-03T21:40:24.065Z"
   },
   {
    "duration": 32,
    "start_time": "2022-05-03T21:40:24.128Z"
   },
   {
    "duration": 52,
    "start_time": "2022-05-03T21:40:24.163Z"
   },
   {
    "duration": 94,
    "start_time": "2022-05-03T21:40:24.218Z"
   },
   {
    "duration": 31,
    "start_time": "2022-05-03T21:40:24.315Z"
   },
   {
    "duration": 59,
    "start_time": "2022-05-03T21:40:24.349Z"
   },
   {
    "duration": 88,
    "start_time": "2022-05-03T21:40:24.411Z"
   },
   {
    "duration": 72,
    "start_time": "2022-05-03T21:45:41.115Z"
   },
   {
    "duration": 29,
    "start_time": "2022-05-03T22:08:48.216Z"
   },
   {
    "duration": 45,
    "start_time": "2022-05-03T22:17:34.775Z"
   },
   {
    "duration": 12,
    "start_time": "2022-05-03T22:17:44.609Z"
   },
   {
    "duration": 4329,
    "start_time": "2022-05-03T22:17:55.692Z"
   },
   {
    "duration": 46,
    "start_time": "2022-05-03T22:19:20.758Z"
   },
   {
    "duration": 3177,
    "start_time": "2022-05-03T22:19:40.259Z"
   },
   {
    "duration": 33,
    "start_time": "2022-05-03T22:23:45.592Z"
   },
   {
    "duration": 25,
    "start_time": "2022-05-03T22:23:59.289Z"
   },
   {
    "duration": 21,
    "start_time": "2022-05-03T22:24:06.806Z"
   },
   {
    "duration": 10,
    "start_time": "2022-05-03T22:24:31.749Z"
   },
   {
    "duration": 7,
    "start_time": "2022-05-03T22:24:47.642Z"
   },
   {
    "duration": 7,
    "start_time": "2022-05-03T22:25:12.906Z"
   },
   {
    "duration": 34,
    "start_time": "2022-05-03T22:25:52.904Z"
   },
   {
    "duration": 643,
    "start_time": "2022-05-03T22:26:16.907Z"
   },
   {
    "duration": 7381,
    "start_time": "2022-05-03T22:36:43.526Z"
   },
   {
    "duration": 29,
    "start_time": "2022-05-03T22:49:53.225Z"
   },
   {
    "duration": 32,
    "start_time": "2022-05-03T22:50:20.176Z"
   },
   {
    "duration": 40,
    "start_time": "2022-05-03T22:50:26.377Z"
   },
   {
    "duration": 26,
    "start_time": "2022-05-03T22:50:52.299Z"
   },
   {
    "duration": 38,
    "start_time": "2022-05-03T22:51:22.630Z"
   },
   {
    "duration": 44,
    "start_time": "2022-05-03T22:51:24.124Z"
   },
   {
    "duration": 9805,
    "start_time": "2022-05-03T22:57:08.949Z"
   },
   {
    "duration": 9680,
    "start_time": "2022-05-03T22:57:34.397Z"
   },
   {
    "duration": 5,
    "start_time": "2022-05-03T22:58:26.162Z"
   },
   {
    "duration": 9,
    "start_time": "2022-05-03T22:58:42.957Z"
   },
   {
    "duration": 5,
    "start_time": "2022-05-03T22:58:50.914Z"
   },
   {
    "duration": 19,
    "start_time": "2022-05-03T23:01:01.282Z"
   },
   {
    "duration": 16,
    "start_time": "2022-05-03T23:01:51.626Z"
   },
   {
    "duration": 31,
    "start_time": "2022-05-03T23:03:39.721Z"
   },
   {
    "duration": 15,
    "start_time": "2022-05-03T23:04:05.177Z"
   },
   {
    "duration": 10,
    "start_time": "2022-05-03T23:05:09.452Z"
   },
   {
    "duration": 18,
    "start_time": "2022-05-03T23:05:12.547Z"
   },
   {
    "duration": 11,
    "start_time": "2022-05-03T23:05:41.235Z"
   },
   {
    "duration": 11,
    "start_time": "2022-05-03T23:05:50.625Z"
   },
   {
    "duration": 12,
    "start_time": "2022-05-03T23:06:01.067Z"
   },
   {
    "duration": 20,
    "start_time": "2022-05-03T23:06:06.130Z"
   },
   {
    "duration": 17,
    "start_time": "2022-05-03T23:06:21.676Z"
   },
   {
    "duration": 11,
    "start_time": "2022-05-03T23:08:40.276Z"
   },
   {
    "duration": 13,
    "start_time": "2022-05-03T23:08:57.581Z"
   },
   {
    "duration": 13,
    "start_time": "2022-05-03T23:11:01.790Z"
   },
   {
    "duration": 5,
    "start_time": "2022-05-03T23:12:28.269Z"
   },
   {
    "duration": 13,
    "start_time": "2022-05-03T23:12:32.101Z"
   },
   {
    "duration": 3,
    "start_time": "2022-05-03T23:12:34.245Z"
   },
   {
    "duration": 20,
    "start_time": "2022-05-03T23:12:36.062Z"
   },
   {
    "duration": 17,
    "start_time": "2022-05-03T23:12:52.321Z"
   },
   {
    "duration": 22,
    "start_time": "2022-05-03T23:13:12.584Z"
   },
   {
    "duration": 20,
    "start_time": "2022-05-03T23:14:09.734Z"
   },
   {
    "duration": 18,
    "start_time": "2022-05-03T23:14:47.144Z"
   },
   {
    "duration": 7,
    "start_time": "2022-05-03T23:26:02.704Z"
   },
   {
    "duration": 8,
    "start_time": "2022-05-03T23:26:28.980Z"
   },
   {
    "duration": 6,
    "start_time": "2022-05-03T23:29:27.669Z"
   },
   {
    "duration": 12,
    "start_time": "2022-05-03T23:32:24.690Z"
   },
   {
    "duration": 11,
    "start_time": "2022-05-03T23:32:35.619Z"
   },
   {
    "duration": 13,
    "start_time": "2022-05-03T23:33:29.259Z"
   },
   {
    "duration": 16,
    "start_time": "2022-05-03T23:34:06.792Z"
   },
   {
    "duration": 8,
    "start_time": "2022-05-03T23:34:39.832Z"
   },
   {
    "duration": 12,
    "start_time": "2022-05-03T23:34:50.819Z"
   },
   {
    "duration": 15,
    "start_time": "2022-05-03T23:35:09.557Z"
   },
   {
    "duration": 28,
    "start_time": "2022-05-03T23:35:48.811Z"
   },
   {
    "duration": 24,
    "start_time": "2022-05-03T23:36:21.975Z"
   },
   {
    "duration": 32,
    "start_time": "2022-05-03T23:36:35.723Z"
   },
   {
    "duration": 51,
    "start_time": "2022-05-03T23:36:51.850Z"
   },
   {
    "duration": 26,
    "start_time": "2022-05-03T23:37:08.422Z"
   },
   {
    "duration": 14,
    "start_time": "2022-05-03T23:41:49.443Z"
   },
   {
    "duration": 193,
    "start_time": "2022-05-03T23:42:29.561Z"
   },
   {
    "duration": 206,
    "start_time": "2022-05-03T23:42:54.127Z"
   },
   {
    "duration": 11,
    "start_time": "2022-05-03T23:43:18.708Z"
   },
   {
    "duration": 11,
    "start_time": "2022-05-03T23:43:24.248Z"
   },
   {
    "duration": 12,
    "start_time": "2022-05-03T23:43:28.192Z"
   },
   {
    "duration": 12,
    "start_time": "2022-05-03T23:43:57.718Z"
   },
   {
    "duration": 13,
    "start_time": "2022-05-03T23:44:26.361Z"
   },
   {
    "duration": 5,
    "start_time": "2022-05-04T00:02:27.797Z"
   },
   {
    "duration": 5,
    "start_time": "2022-05-04T00:05:45.947Z"
   },
   {
    "duration": 37,
    "start_time": "2022-05-04T00:05:47.011Z"
   },
   {
    "duration": 6,
    "start_time": "2022-05-04T00:06:38.687Z"
   },
   {
    "duration": 5,
    "start_time": "2022-05-04T00:06:43.749Z"
   },
   {
    "duration": 3274,
    "start_time": "2022-05-04T00:07:42.164Z"
   },
   {
    "duration": 36,
    "start_time": "2022-05-04T00:23:25.294Z"
   },
   {
    "duration": 45,
    "start_time": "2022-05-04T00:23:57.130Z"
   },
   {
    "duration": 8,
    "start_time": "2022-05-04T00:24:29.124Z"
   },
   {
    "duration": 4,
    "start_time": "2022-05-04T00:24:45.702Z"
   },
   {
    "duration": 181,
    "start_time": "2022-05-04T00:24:45.708Z"
   },
   {
    "duration": 5,
    "start_time": "2022-05-04T00:24:45.892Z"
   },
   {
    "duration": 26,
    "start_time": "2022-05-04T00:24:45.899Z"
   },
   {
    "duration": 21,
    "start_time": "2022-05-04T00:24:45.930Z"
   },
   {
    "duration": 57,
    "start_time": "2022-05-04T00:24:45.954Z"
   },
   {
    "duration": 20,
    "start_time": "2022-05-04T00:24:46.013Z"
   },
   {
    "duration": 21,
    "start_time": "2022-05-04T00:24:46.036Z"
   },
   {
    "duration": 10,
    "start_time": "2022-05-04T00:24:46.094Z"
   },
   {
    "duration": 13,
    "start_time": "2022-05-04T00:24:46.107Z"
   },
   {
    "duration": 12,
    "start_time": "2022-05-04T00:24:46.122Z"
   },
   {
    "duration": 265,
    "start_time": "2022-05-04T00:24:46.136Z"
   },
   {
    "duration": 250,
    "start_time": "2022-05-04T00:24:46.403Z"
   },
   {
    "duration": 13,
    "start_time": "2022-05-04T00:24:46.657Z"
   },
   {
    "duration": 26,
    "start_time": "2022-05-04T00:24:46.672Z"
   },
   {
    "duration": 13,
    "start_time": "2022-05-04T00:24:46.700Z"
   },
   {
    "duration": 12,
    "start_time": "2022-05-04T00:24:46.715Z"
   },
   {
    "duration": 13,
    "start_time": "2022-05-04T00:24:46.729Z"
   },
   {
    "duration": 17,
    "start_time": "2022-05-04T00:24:46.744Z"
   },
   {
    "duration": 38,
    "start_time": "2022-05-04T00:24:46.763Z"
   },
   {
    "duration": 9,
    "start_time": "2022-05-04T00:24:46.803Z"
   },
   {
    "duration": 12,
    "start_time": "2022-05-04T00:24:46.814Z"
   },
   {
    "duration": 11,
    "start_time": "2022-05-04T00:24:46.828Z"
   },
   {
    "duration": 5,
    "start_time": "2022-05-04T00:24:46.842Z"
   },
   {
    "duration": 56,
    "start_time": "2022-05-04T00:24:46.849Z"
   },
   {
    "duration": 209,
    "start_time": "2022-05-04T00:24:46.907Z"
   },
   {
    "duration": 8,
    "start_time": "2022-05-04T00:24:47.118Z"
   },
   {
    "duration": 229,
    "start_time": "2022-05-04T00:24:47.128Z"
   },
   {
    "duration": 289,
    "start_time": "2022-05-04T00:24:47.360Z"
   },
   {
    "duration": 3,
    "start_time": "2022-05-04T00:24:47.651Z"
   },
   {
    "duration": 7,
    "start_time": "2022-05-04T00:24:47.657Z"
   },
   {
    "duration": 221,
    "start_time": "2022-05-04T00:24:47.666Z"
   },
   {
    "duration": 4,
    "start_time": "2022-05-04T00:24:47.893Z"
   },
   {
    "duration": 8,
    "start_time": "2022-05-04T00:24:47.899Z"
   },
   {
    "duration": 276,
    "start_time": "2022-05-04T00:24:47.910Z"
   },
   {
    "duration": 6,
    "start_time": "2022-05-04T00:24:48.188Z"
   },
   {
    "duration": 14,
    "start_time": "2022-05-04T00:24:48.197Z"
   },
   {
    "duration": 33,
    "start_time": "2022-05-04T00:24:48.214Z"
   },
   {
    "duration": 54,
    "start_time": "2022-05-04T00:24:48.250Z"
   },
   {
    "duration": 31,
    "start_time": "2022-05-04T00:24:48.306Z"
   },
   {
    "duration": 6,
    "start_time": "2022-05-04T00:24:48.345Z"
   },
   {
    "duration": 39,
    "start_time": "2022-05-04T00:24:48.354Z"
   },
   {
    "duration": 18,
    "start_time": "2022-05-04T00:24:48.396Z"
   },
   {
    "duration": 16,
    "start_time": "2022-05-04T00:24:48.417Z"
   },
   {
    "duration": 58,
    "start_time": "2022-05-04T00:24:48.436Z"
   },
   {
    "duration": 9,
    "start_time": "2022-05-04T00:24:48.497Z"
   },
   {
    "duration": 45,
    "start_time": "2022-05-04T00:24:48.509Z"
   },
   {
    "duration": 59,
    "start_time": "2022-05-04T00:24:48.557Z"
   },
   {
    "duration": 20,
    "start_time": "2022-05-04T00:24:48.619Z"
   },
   {
    "duration": 68,
    "start_time": "2022-05-04T00:24:48.642Z"
   },
   {
    "duration": 24,
    "start_time": "2022-05-04T00:24:48.713Z"
   },
   {
    "duration": 55,
    "start_time": "2022-05-04T00:24:48.740Z"
   },
   {
    "duration": 45,
    "start_time": "2022-05-04T00:24:48.798Z"
   },
   {
    "duration": 54,
    "start_time": "2022-05-04T00:24:48.846Z"
   },
   {
    "duration": 6765,
    "start_time": "2022-05-04T00:24:48.903Z"
   },
   {
    "duration": 4,
    "start_time": "2022-05-04T00:24:55.671Z"
   },
   {
    "duration": 21,
    "start_time": "2022-05-04T00:24:55.693Z"
   },
   {
    "duration": 6,
    "start_time": "2022-05-04T00:25:02.773Z"
   },
   {
    "duration": 9,
    "start_time": "2022-05-04T00:25:04.063Z"
   },
   {
    "duration": 9,
    "start_time": "2022-05-04T00:25:52.199Z"
   },
   {
    "duration": 10,
    "start_time": "2022-05-04T00:26:17.386Z"
   },
   {
    "duration": 17,
    "start_time": "2022-05-04T00:26:40.858Z"
   },
   {
    "duration": 10,
    "start_time": "2022-05-04T00:27:07.042Z"
   },
   {
    "duration": 9,
    "start_time": "2022-05-04T00:27:23.441Z"
   },
   {
    "duration": 6,
    "start_time": "2022-05-04T00:34:14.549Z"
   },
   {
    "duration": 14,
    "start_time": "2022-05-04T00:34:23.395Z"
   },
   {
    "duration": 14,
    "start_time": "2022-05-04T00:34:33.694Z"
   },
   {
    "duration": 15,
    "start_time": "2022-05-04T00:34:45.094Z"
   },
   {
    "duration": 14,
    "start_time": "2022-05-04T00:34:49.245Z"
   },
   {
    "duration": 29,
    "start_time": "2022-05-04T00:47:23.803Z"
   },
   {
    "duration": 9,
    "start_time": "2022-05-04T00:47:36.436Z"
   },
   {
    "duration": 44,
    "start_time": "2022-05-04T00:47:57.641Z"
   },
   {
    "duration": 34,
    "start_time": "2022-05-04T00:48:21.123Z"
   },
   {
    "duration": 11,
    "start_time": "2022-05-04T00:49:00.912Z"
   },
   {
    "duration": 8,
    "start_time": "2022-05-04T00:49:11.704Z"
   },
   {
    "duration": 8,
    "start_time": "2022-05-04T00:50:40.531Z"
   },
   {
    "duration": 7,
    "start_time": "2022-05-04T00:52:08.162Z"
   },
   {
    "duration": 36,
    "start_time": "2022-05-04T00:53:13.904Z"
   },
   {
    "duration": 36,
    "start_time": "2022-05-04T00:53:18.758Z"
   },
   {
    "duration": 15,
    "start_time": "2022-05-04T00:53:41.954Z"
   },
   {
    "duration": 41,
    "start_time": "2022-05-04T00:53:49.708Z"
   },
   {
    "duration": 40,
    "start_time": "2022-05-04T00:54:10.349Z"
   },
   {
    "duration": 43,
    "start_time": "2022-05-04T00:54:34.819Z"
   },
   {
    "duration": 38,
    "start_time": "2022-05-04T00:56:28.741Z"
   },
   {
    "duration": 39,
    "start_time": "2022-05-04T00:57:29.234Z"
   },
   {
    "duration": 34,
    "start_time": "2022-05-04T00:57:46.364Z"
   },
   {
    "duration": 36,
    "start_time": "2022-05-04T00:57:57.111Z"
   },
   {
    "duration": 33,
    "start_time": "2022-05-04T00:58:33.374Z"
   },
   {
    "duration": 38,
    "start_time": "2022-05-04T00:58:42.400Z"
   },
   {
    "duration": 218,
    "start_time": "2022-05-04T01:00:38.292Z"
   },
   {
    "duration": 6,
    "start_time": "2022-05-04T01:01:00.980Z"
   },
   {
    "duration": 37,
    "start_time": "2022-05-04T01:01:04.838Z"
   },
   {
    "duration": 17,
    "start_time": "2022-05-04T01:01:24.445Z"
   },
   {
    "duration": 22,
    "start_time": "2022-05-04T01:03:02.170Z"
   },
   {
    "duration": 22,
    "start_time": "2022-05-04T01:03:35.302Z"
   },
   {
    "duration": 21,
    "start_time": "2022-05-04T01:03:49.513Z"
   },
   {
    "duration": 6,
    "start_time": "2022-05-04T01:04:57.843Z"
   },
   {
    "duration": 18,
    "start_time": "2022-05-04T01:05:04.611Z"
   },
   {
    "duration": 6,
    "start_time": "2022-05-04T01:08:34.460Z"
   },
   {
    "duration": 23,
    "start_time": "2022-05-04T01:08:36.179Z"
   },
   {
    "duration": 5,
    "start_time": "2022-05-04T01:09:16.198Z"
   },
   {
    "duration": 23,
    "start_time": "2022-05-04T01:09:17.226Z"
   },
   {
    "duration": 6,
    "start_time": "2022-05-04T01:10:10.477Z"
   },
   {
    "duration": 17,
    "start_time": "2022-05-04T01:10:11.515Z"
   },
   {
    "duration": 6,
    "start_time": "2022-05-04T01:10:43.662Z"
   },
   {
    "duration": 16,
    "start_time": "2022-05-04T01:10:44.707Z"
   },
   {
    "duration": 39,
    "start_time": "2022-05-04T01:10:54.189Z"
   },
   {
    "duration": 5,
    "start_time": "2022-05-04T01:11:04.799Z"
   },
   {
    "duration": 16,
    "start_time": "2022-05-04T01:11:06.094Z"
   },
   {
    "duration": 37,
    "start_time": "2022-05-04T01:11:08.063Z"
   },
   {
    "duration": 37,
    "start_time": "2022-05-04T01:12:07.116Z"
   },
   {
    "duration": 20,
    "start_time": "2022-05-04T01:12:10.837Z"
   },
   {
    "duration": 18,
    "start_time": "2022-05-04T01:12:28.964Z"
   },
   {
    "duration": 40,
    "start_time": "2022-05-04T01:15:20.204Z"
   },
   {
    "duration": 35,
    "start_time": "2022-05-04T01:15:37.951Z"
   },
   {
    "duration": 12,
    "start_time": "2022-05-04T01:15:39.619Z"
   },
   {
    "duration": 20,
    "start_time": "2022-05-04T01:15:43.038Z"
   },
   {
    "duration": 38,
    "start_time": "2022-05-04T01:27:40.800Z"
   },
   {
    "duration": 45,
    "start_time": "2022-05-04T01:27:43.179Z"
   },
   {
    "duration": 4,
    "start_time": "2022-05-04T01:28:18.600Z"
   },
   {
    "duration": 6676,
    "start_time": "2022-05-04T01:28:19.346Z"
   },
   {
    "duration": 6,
    "start_time": "2022-05-04T01:29:07.955Z"
   },
   {
    "duration": 20,
    "start_time": "2022-05-04T01:29:38.327Z"
   },
   {
    "duration": 6,
    "start_time": "2022-05-04T01:30:44.643Z"
   },
   {
    "duration": 38,
    "start_time": "2022-05-04T01:31:26.497Z"
   },
   {
    "duration": 20,
    "start_time": "2022-05-04T01:31:30.653Z"
   },
   {
    "duration": 27,
    "start_time": "2022-05-04T03:13:56.382Z"
   },
   {
    "duration": 64,
    "start_time": "2022-05-04T03:14:13.340Z"
   },
   {
    "duration": 64,
    "start_time": "2022-05-04T03:14:51.928Z"
   },
   {
    "duration": 826,
    "start_time": "2022-05-04T03:27:05.177Z"
   },
   {
    "duration": 208,
    "start_time": "2022-05-04T03:27:13.089Z"
   },
   {
    "duration": 831,
    "start_time": "2022-05-04T03:27:18.206Z"
   },
   {
    "duration": 13,
    "start_time": "2022-05-04T03:32:35.473Z"
   },
   {
    "duration": 17,
    "start_time": "2022-05-04T03:33:50.932Z"
   },
   {
    "duration": 223,
    "start_time": "2022-05-04T03:34:04.699Z"
   },
   {
    "duration": 228,
    "start_time": "2022-05-04T03:35:01.800Z"
   },
   {
    "duration": 210,
    "start_time": "2022-05-04T03:35:06.265Z"
   },
   {
    "duration": 15,
    "start_time": "2022-05-04T03:37:21.368Z"
   },
   {
    "duration": 16,
    "start_time": "2022-05-04T03:42:06.786Z"
   },
   {
    "duration": 8,
    "start_time": "2022-05-04T03:53:47.812Z"
   },
   {
    "duration": 16,
    "start_time": "2022-05-04T03:55:07.496Z"
   },
   {
    "duration": 221,
    "start_time": "2022-05-04T03:55:12.958Z"
   },
   {
    "duration": 8,
    "start_time": "2022-05-04T03:57:23.023Z"
   },
   {
    "duration": 2193,
    "start_time": "2022-05-04T04:07:19.729Z"
   },
   {
    "duration": 10,
    "start_time": "2022-05-04T04:07:47.805Z"
   },
   {
    "duration": 183,
    "start_time": "2022-05-04T04:07:54.906Z"
   },
   {
    "duration": 12,
    "start_time": "2022-05-04T04:08:42.696Z"
   },
   {
    "duration": 3,
    "start_time": "2022-05-04T04:39:00.394Z"
   },
   {
    "duration": 32,
    "start_time": "2022-05-04T04:41:52.462Z"
   },
   {
    "duration": 33,
    "start_time": "2022-05-04T04:50:18.226Z"
   },
   {
    "duration": 8,
    "start_time": "2022-05-04T04:51:45.598Z"
   },
   {
    "duration": 31,
    "start_time": "2022-05-04T04:58:36.696Z"
   },
   {
    "duration": 20,
    "start_time": "2022-05-04T05:00:52.493Z"
   },
   {
    "duration": 19,
    "start_time": "2022-05-04T05:00:59.933Z"
   },
   {
    "duration": 32,
    "start_time": "2022-05-04T05:01:06.695Z"
   },
   {
    "duration": 9,
    "start_time": "2022-05-04T05:09:19.630Z"
   },
   {
    "duration": 8,
    "start_time": "2022-05-04T05:09:29.044Z"
   },
   {
    "duration": 18,
    "start_time": "2022-05-04T05:34:38.497Z"
   },
   {
    "duration": 7,
    "start_time": "2022-05-04T05:35:04.075Z"
   },
   {
    "duration": 5,
    "start_time": "2022-05-04T05:35:13.464Z"
   },
   {
    "duration": 390,
    "start_time": "2022-05-04T05:35:13.473Z"
   },
   {
    "duration": 6,
    "start_time": "2022-05-04T05:35:13.866Z"
   },
   {
    "duration": 23,
    "start_time": "2022-05-04T05:35:13.875Z"
   },
   {
    "duration": 22,
    "start_time": "2022-05-04T05:35:13.903Z"
   },
   {
    "duration": 23,
    "start_time": "2022-05-04T05:35:13.927Z"
   },
   {
    "duration": 53,
    "start_time": "2022-05-04T05:35:13.953Z"
   },
   {
    "duration": 20,
    "start_time": "2022-05-04T05:35:14.009Z"
   },
   {
    "duration": 7,
    "start_time": "2022-05-04T05:35:14.031Z"
   },
   {
    "duration": 11,
    "start_time": "2022-05-04T05:35:14.040Z"
   },
   {
    "duration": 42,
    "start_time": "2022-05-04T05:35:14.053Z"
   },
   {
    "duration": 239,
    "start_time": "2022-05-04T05:35:14.097Z"
   },
   {
    "duration": 241,
    "start_time": "2022-05-04T05:35:14.338Z"
   },
   {
    "duration": 12,
    "start_time": "2022-05-04T05:35:14.592Z"
   },
   {
    "duration": 9,
    "start_time": "2022-05-04T05:35:14.606Z"
   },
   {
    "duration": 10,
    "start_time": "2022-05-04T05:35:14.617Z"
   },
   {
    "duration": 11,
    "start_time": "2022-05-04T05:35:14.629Z"
   },
   {
    "duration": 14,
    "start_time": "2022-05-04T05:35:14.642Z"
   },
   {
    "duration": 10,
    "start_time": "2022-05-04T05:35:14.694Z"
   },
   {
    "duration": 9,
    "start_time": "2022-05-04T05:35:14.706Z"
   },
   {
    "duration": 6,
    "start_time": "2022-05-04T05:35:14.717Z"
   },
   {
    "duration": 11,
    "start_time": "2022-05-04T05:35:14.725Z"
   },
   {
    "duration": 141,
    "start_time": "2022-05-04T05:35:14.738Z"
   },
   {
    "duration": 12,
    "start_time": "2022-05-04T05:35:14.881Z"
   },
   {
    "duration": 19,
    "start_time": "2022-05-04T05:35:14.896Z"
   },
   {
    "duration": 220,
    "start_time": "2022-05-04T05:35:14.917Z"
   },
   {
    "duration": 8,
    "start_time": "2022-05-04T05:35:15.139Z"
   },
   {
    "duration": 215,
    "start_time": "2022-05-04T05:35:15.149Z"
   },
   {
    "duration": 206,
    "start_time": "2022-05-04T05:35:15.366Z"
   },
   {
    "duration": 4,
    "start_time": "2022-05-04T05:35:15.574Z"
   },
   {
    "duration": 12,
    "start_time": "2022-05-04T05:35:15.580Z"
   },
   {
    "duration": 196,
    "start_time": "2022-05-04T05:35:15.594Z"
   },
   {
    "duration": 3,
    "start_time": "2022-05-04T05:35:15.793Z"
   },
   {
    "duration": 7,
    "start_time": "2022-05-04T05:35:15.798Z"
   },
   {
    "duration": 265,
    "start_time": "2022-05-04T05:35:15.807Z"
   },
   {
    "duration": 3,
    "start_time": "2022-05-04T05:35:16.074Z"
   },
   {
    "duration": 15,
    "start_time": "2022-05-04T05:35:16.079Z"
   },
   {
    "duration": 27,
    "start_time": "2022-05-04T05:35:16.096Z"
   },
   {
    "duration": 28,
    "start_time": "2022-05-04T05:35:16.125Z"
   },
   {
    "duration": 51,
    "start_time": "2022-05-04T05:35:16.155Z"
   },
   {
    "duration": 5,
    "start_time": "2022-05-04T05:35:16.212Z"
   },
   {
    "duration": 9,
    "start_time": "2022-05-04T05:35:16.219Z"
   },
   {
    "duration": 17,
    "start_time": "2022-05-04T05:35:16.230Z"
   },
   {
    "duration": 48,
    "start_time": "2022-05-04T05:35:16.249Z"
   },
   {
    "duration": 22,
    "start_time": "2022-05-04T05:35:16.299Z"
   },
   {
    "duration": 10,
    "start_time": "2022-05-04T05:35:16.323Z"
   },
   {
    "duration": 67,
    "start_time": "2022-05-04T05:35:16.336Z"
   },
   {
    "duration": 28,
    "start_time": "2022-05-04T05:35:16.406Z"
   },
   {
    "duration": 19,
    "start_time": "2022-05-04T05:35:16.437Z"
   },
   {
    "duration": 72,
    "start_time": "2022-05-04T05:35:16.459Z"
   },
   {
    "duration": 18,
    "start_time": "2022-05-04T05:35:16.533Z"
   },
   {
    "duration": 47,
    "start_time": "2022-05-04T05:35:16.553Z"
   },
   {
    "duration": 42,
    "start_time": "2022-05-04T05:35:16.602Z"
   },
   {
    "duration": 50,
    "start_time": "2022-05-04T05:35:16.646Z"
   },
   {
    "duration": 6867,
    "start_time": "2022-05-04T05:35:16.698Z"
   },
   {
    "duration": 6,
    "start_time": "2022-05-04T05:35:23.567Z"
   },
   {
    "duration": 35,
    "start_time": "2022-05-04T05:35:23.576Z"
   },
   {
    "duration": 9,
    "start_time": "2022-05-04T05:35:23.613Z"
   },
   {
    "duration": 39,
    "start_time": "2022-05-04T05:35:23.624Z"
   },
   {
    "duration": 41,
    "start_time": "2022-05-04T05:35:23.665Z"
   },
   {
    "duration": 39,
    "start_time": "2022-05-04T05:35:23.708Z"
   },
   {
    "duration": 73,
    "start_time": "2022-05-04T05:35:23.749Z"
   },
   {
    "duration": 4,
    "start_time": "2022-05-04T05:35:23.824Z"
   },
   {
    "duration": 6731,
    "start_time": "2022-05-04T05:35:23.830Z"
   },
   {
    "duration": 4,
    "start_time": "2022-05-04T05:35:30.563Z"
   },
   {
    "duration": 44,
    "start_time": "2022-05-04T05:35:30.569Z"
   },
   {
    "duration": 26,
    "start_time": "2022-05-04T05:35:30.615Z"
   },
   {
    "duration": 46,
    "start_time": "2022-05-04T05:35:30.643Z"
   },
   {
    "duration": 21,
    "start_time": "2022-05-04T05:35:30.691Z"
   },
   {
    "duration": 31,
    "start_time": "2022-05-04T05:35:30.714Z"
   },
   {
    "duration": 234,
    "start_time": "2022-05-04T05:35:30.748Z"
   },
   {
    "duration": 12,
    "start_time": "2022-05-04T05:35:30.985Z"
   },
   {
    "duration": 259,
    "start_time": "2022-05-04T05:35:30.999Z"
   },
   {
    "duration": 13,
    "start_time": "2022-05-04T05:35:31.260Z"
   },
   {
    "duration": 240,
    "start_time": "2022-05-04T05:35:31.275Z"
   },
   {
    "duration": 8,
    "start_time": "2022-05-04T05:35:56.689Z"
   },
   {
    "duration": 56,
    "start_time": "2022-05-04T05:42:29.385Z"
   },
   {
    "duration": 7,
    "start_time": "2022-05-04T05:42:41.156Z"
   },
   {
    "duration": 60,
    "start_time": "2022-05-04T05:44:43.431Z"
   },
   {
    "duration": 7,
    "start_time": "2022-05-04T05:44:48.595Z"
   },
   {
    "duration": 6,
    "start_time": "2022-05-04T05:45:55.197Z"
   },
   {
    "duration": 11,
    "start_time": "2022-05-04T05:46:10.464Z"
   },
   {
    "duration": 4,
    "start_time": "2022-05-04T05:46:44.854Z"
   },
   {
    "duration": 181,
    "start_time": "2022-05-04T05:46:44.861Z"
   },
   {
    "duration": 7,
    "start_time": "2022-05-04T05:46:45.045Z"
   },
   {
    "duration": 52,
    "start_time": "2022-05-04T05:46:45.055Z"
   },
   {
    "duration": 29,
    "start_time": "2022-05-04T05:46:45.111Z"
   },
   {
    "duration": 53,
    "start_time": "2022-05-04T05:46:45.143Z"
   },
   {
    "duration": 21,
    "start_time": "2022-05-04T05:46:45.199Z"
   },
   {
    "duration": 23,
    "start_time": "2022-05-04T05:46:45.223Z"
   },
   {
    "duration": 43,
    "start_time": "2022-05-04T05:46:45.249Z"
   },
   {
    "duration": 11,
    "start_time": "2022-05-04T05:46:45.295Z"
   },
   {
    "duration": 10,
    "start_time": "2022-05-04T05:46:45.308Z"
   },
   {
    "duration": 256,
    "start_time": "2022-05-04T05:46:45.321Z"
   },
   {
    "duration": 250,
    "start_time": "2022-05-04T05:46:45.580Z"
   },
   {
    "duration": 13,
    "start_time": "2022-05-04T05:46:45.834Z"
   },
   {
    "duration": 10,
    "start_time": "2022-05-04T05:46:45.849Z"
   },
   {
    "duration": 39,
    "start_time": "2022-05-04T05:46:45.862Z"
   },
   {
    "duration": 7,
    "start_time": "2022-05-04T05:46:45.904Z"
   },
   {
    "duration": 13,
    "start_time": "2022-05-04T05:46:45.914Z"
   },
   {
    "duration": 7,
    "start_time": "2022-05-04T05:46:45.930Z"
   },
   {
    "duration": 8,
    "start_time": "2022-05-04T05:46:45.939Z"
   },
   {
    "duration": 47,
    "start_time": "2022-05-04T05:46:45.949Z"
   },
   {
    "duration": 8,
    "start_time": "2022-05-04T05:46:45.998Z"
   },
   {
    "duration": 12,
    "start_time": "2022-05-04T05:46:46.009Z"
   },
   {
    "duration": 4,
    "start_time": "2022-05-04T05:46:46.023Z"
   },
   {
    "duration": 16,
    "start_time": "2022-05-04T05:46:46.030Z"
   },
   {
    "duration": 335,
    "start_time": "2022-05-04T05:46:46.049Z"
   },
   {
    "duration": 12,
    "start_time": "2022-05-04T05:46:46.387Z"
   },
   {
    "duration": 221,
    "start_time": "2022-05-04T05:46:46.401Z"
   },
   {
    "duration": 210,
    "start_time": "2022-05-04T05:46:46.625Z"
   },
   {
    "duration": 4,
    "start_time": "2022-05-04T05:46:46.837Z"
   },
   {
    "duration": 10,
    "start_time": "2022-05-04T05:46:46.843Z"
   },
   {
    "duration": 315,
    "start_time": "2022-05-04T05:46:46.855Z"
   },
   {
    "duration": 3,
    "start_time": "2022-05-04T05:46:47.172Z"
   },
   {
    "duration": 7,
    "start_time": "2022-05-04T05:46:47.178Z"
   },
   {
    "duration": 270,
    "start_time": "2022-05-04T05:46:47.193Z"
   },
   {
    "duration": 4,
    "start_time": "2022-05-04T05:46:47.465Z"
   },
   {
    "duration": 10,
    "start_time": "2022-05-04T05:46:47.471Z"
   },
   {
    "duration": 24,
    "start_time": "2022-05-04T05:46:47.494Z"
   },
   {
    "duration": 26,
    "start_time": "2022-05-04T05:46:47.521Z"
   },
   {
    "duration": 57,
    "start_time": "2022-05-04T05:46:47.550Z"
   },
   {
    "duration": 6,
    "start_time": "2022-05-04T05:46:47.616Z"
   },
   {
    "duration": 7,
    "start_time": "2022-05-04T05:46:47.625Z"
   },
   {
    "duration": 15,
    "start_time": "2022-05-04T05:46:47.635Z"
   },
   {
    "duration": 51,
    "start_time": "2022-05-04T05:46:47.652Z"
   },
   {
    "duration": 21,
    "start_time": "2022-05-04T05:46:47.705Z"
   },
   {
    "duration": 8,
    "start_time": "2022-05-04T05:46:47.728Z"
   },
   {
    "duration": 69,
    "start_time": "2022-05-04T05:46:47.739Z"
   },
   {
    "duration": 28,
    "start_time": "2022-05-04T05:46:47.810Z"
   },
   {
    "duration": 24,
    "start_time": "2022-05-04T05:46:47.841Z"
   },
   {
    "duration": 66,
    "start_time": "2022-05-04T05:46:47.868Z"
   },
   {
    "duration": 19,
    "start_time": "2022-05-04T05:46:47.936Z"
   },
   {
    "duration": 44,
    "start_time": "2022-05-04T05:46:47.958Z"
   },
   {
    "duration": 43,
    "start_time": "2022-05-04T05:46:48.004Z"
   },
   {
    "duration": 55,
    "start_time": "2022-05-04T05:46:48.049Z"
   },
   {
    "duration": 7096,
    "start_time": "2022-05-04T05:46:48.107Z"
   },
   {
    "duration": 4,
    "start_time": "2022-05-04T05:46:55.206Z"
   },
   {
    "duration": 22,
    "start_time": "2022-05-04T05:46:55.213Z"
   },
   {
    "duration": 7,
    "start_time": "2022-05-04T05:46:55.237Z"
   },
   {
    "duration": 93,
    "start_time": "2022-05-04T05:46:55.247Z"
   },
   {
    "duration": 31,
    "start_time": "2022-05-04T05:46:55.343Z"
   },
   {
    "duration": 69,
    "start_time": "2022-05-04T05:46:55.376Z"
   },
   {
    "duration": 84,
    "start_time": "2022-05-04T05:46:55.448Z"
   },
   {
    "duration": 5,
    "start_time": "2022-05-04T05:46:55.535Z"
   },
   {
    "duration": 10125,
    "start_time": "2022-05-04T05:46:55.542Z"
   },
   {
    "duration": 4,
    "start_time": "2022-05-04T05:47:05.670Z"
   },
   {
    "duration": 33,
    "start_time": "2022-05-04T05:47:05.676Z"
   },
   {
    "duration": 7,
    "start_time": "2022-05-04T05:47:05.711Z"
   },
   {
    "duration": 41,
    "start_time": "2022-05-04T05:47:05.721Z"
   },
   {
    "duration": 48,
    "start_time": "2022-05-04T05:47:05.764Z"
   },
   {
    "duration": 15,
    "start_time": "2022-05-04T05:47:05.815Z"
   },
   {
    "duration": 253,
    "start_time": "2022-05-04T05:47:05.832Z"
   },
   {
    "duration": 12,
    "start_time": "2022-05-04T05:47:06.087Z"
   },
   {
    "duration": 228,
    "start_time": "2022-05-04T05:47:06.102Z"
   },
   {
    "duration": 14,
    "start_time": "2022-05-04T05:47:06.332Z"
   },
   {
    "duration": 250,
    "start_time": "2022-05-04T05:47:06.349Z"
   },
   {
    "duration": 7,
    "start_time": "2022-05-04T05:47:06.601Z"
   },
   {
    "duration": 93,
    "start_time": "2022-05-04T05:47:06.610Z"
   },
   {
    "duration": 8,
    "start_time": "2022-05-04T05:47:06.705Z"
   },
   {
    "duration": 11,
    "start_time": "2022-05-04T05:47:20.597Z"
   },
   {
    "duration": 41,
    "start_time": "2022-05-04T05:48:16.054Z"
   },
   {
    "duration": 41,
    "start_time": "2022-05-04T05:48:52.225Z"
   },
   {
    "duration": 38,
    "start_time": "2022-05-04T05:49:13.751Z"
   },
   {
    "duration": 12,
    "start_time": "2022-05-04T05:57:04.208Z"
   },
   {
    "duration": 12,
    "start_time": "2022-05-04T05:57:30.815Z"
   },
   {
    "duration": 227,
    "start_time": "2022-05-04T06:00:33.339Z"
   },
   {
    "duration": 215,
    "start_time": "2022-05-04T06:02:12.857Z"
   },
   {
    "duration": 333,
    "start_time": "2022-05-04T06:02:25.697Z"
   },
   {
    "duration": 334,
    "start_time": "2022-05-04T06:02:34.065Z"
   },
   {
    "duration": 285,
    "start_time": "2022-05-04T06:02:50.392Z"
   },
   {
    "duration": 311,
    "start_time": "2022-05-04T06:02:56.382Z"
   },
   {
    "duration": 62,
    "start_time": "2022-05-19T20:08:57.090Z"
   },
   {
    "duration": 982,
    "start_time": "2022-05-19T20:09:03.451Z"
   },
   {
    "duration": 85,
    "start_time": "2022-05-19T20:09:04.436Z"
   },
   {
    "duration": 0,
    "start_time": "2022-05-19T20:09:04.527Z"
   },
   {
    "duration": 0,
    "start_time": "2022-05-19T20:09:04.528Z"
   },
   {
    "duration": 0,
    "start_time": "2022-05-19T20:09:04.530Z"
   },
   {
    "duration": 0,
    "start_time": "2022-05-19T20:09:04.533Z"
   },
   {
    "duration": 0,
    "start_time": "2022-05-19T20:09:04.534Z"
   },
   {
    "duration": 0,
    "start_time": "2022-05-19T20:09:04.536Z"
   },
   {
    "duration": 0,
    "start_time": "2022-05-19T20:09:04.538Z"
   },
   {
    "duration": 0,
    "start_time": "2022-05-19T20:09:04.539Z"
   },
   {
    "duration": 0,
    "start_time": "2022-05-19T20:09:04.541Z"
   },
   {
    "duration": 0,
    "start_time": "2022-05-19T20:09:04.542Z"
   },
   {
    "duration": 0,
    "start_time": "2022-05-19T20:09:04.544Z"
   },
   {
    "duration": 0,
    "start_time": "2022-05-19T20:09:04.545Z"
   },
   {
    "duration": 0,
    "start_time": "2022-05-19T20:09:04.565Z"
   },
   {
    "duration": 0,
    "start_time": "2022-05-19T20:09:04.567Z"
   },
   {
    "duration": 0,
    "start_time": "2022-05-19T20:09:04.568Z"
   },
   {
    "duration": 0,
    "start_time": "2022-05-19T20:09:04.570Z"
   },
   {
    "duration": 0,
    "start_time": "2022-05-19T20:09:04.572Z"
   },
   {
    "duration": 0,
    "start_time": "2022-05-19T20:09:04.575Z"
   },
   {
    "duration": 0,
    "start_time": "2022-05-19T20:09:04.577Z"
   },
   {
    "duration": 0,
    "start_time": "2022-05-19T20:09:04.579Z"
   },
   {
    "duration": 0,
    "start_time": "2022-05-19T20:09:04.581Z"
   },
   {
    "duration": 0,
    "start_time": "2022-05-19T20:09:04.582Z"
   },
   {
    "duration": 0,
    "start_time": "2022-05-19T20:09:04.584Z"
   },
   {
    "duration": 0,
    "start_time": "2022-05-19T20:09:04.586Z"
   },
   {
    "duration": 0,
    "start_time": "2022-05-19T20:09:04.589Z"
   },
   {
    "duration": 0,
    "start_time": "2022-05-19T20:09:04.590Z"
   },
   {
    "duration": 0,
    "start_time": "2022-05-19T20:09:04.592Z"
   },
   {
    "duration": 0,
    "start_time": "2022-05-19T20:09:04.594Z"
   },
   {
    "duration": 0,
    "start_time": "2022-05-19T20:09:04.595Z"
   },
   {
    "duration": 0,
    "start_time": "2022-05-19T20:09:04.597Z"
   },
   {
    "duration": 0,
    "start_time": "2022-05-19T20:09:04.599Z"
   },
   {
    "duration": 0,
    "start_time": "2022-05-19T20:09:04.600Z"
   },
   {
    "duration": 0,
    "start_time": "2022-05-19T20:09:04.602Z"
   },
   {
    "duration": 0,
    "start_time": "2022-05-19T20:09:04.665Z"
   },
   {
    "duration": 0,
    "start_time": "2022-05-19T20:09:04.666Z"
   },
   {
    "duration": 0,
    "start_time": "2022-05-19T20:09:04.668Z"
   },
   {
    "duration": 0,
    "start_time": "2022-05-19T20:09:04.669Z"
   },
   {
    "duration": 0,
    "start_time": "2022-05-19T20:09:04.671Z"
   },
   {
    "duration": 0,
    "start_time": "2022-05-19T20:09:04.672Z"
   },
   {
    "duration": 0,
    "start_time": "2022-05-19T20:09:04.674Z"
   },
   {
    "duration": 0,
    "start_time": "2022-05-19T20:09:04.675Z"
   },
   {
    "duration": 0,
    "start_time": "2022-05-19T20:09:04.676Z"
   },
   {
    "duration": 0,
    "start_time": "2022-05-19T20:09:04.677Z"
   },
   {
    "duration": 0,
    "start_time": "2022-05-19T20:09:04.681Z"
   },
   {
    "duration": 0,
    "start_time": "2022-05-19T20:09:04.682Z"
   },
   {
    "duration": 0,
    "start_time": "2022-05-19T20:09:04.683Z"
   },
   {
    "duration": 0,
    "start_time": "2022-05-19T20:09:04.684Z"
   },
   {
    "duration": 0,
    "start_time": "2022-05-19T20:09:04.686Z"
   },
   {
    "duration": 0,
    "start_time": "2022-05-19T20:09:04.688Z"
   },
   {
    "duration": 0,
    "start_time": "2022-05-19T20:09:04.688Z"
   },
   {
    "duration": 0,
    "start_time": "2022-05-19T20:09:04.690Z"
   },
   {
    "duration": 0,
    "start_time": "2022-05-19T20:09:04.692Z"
   },
   {
    "duration": 0,
    "start_time": "2022-05-19T20:09:04.694Z"
   },
   {
    "duration": 0,
    "start_time": "2022-05-19T20:09:04.695Z"
   },
   {
    "duration": 0,
    "start_time": "2022-05-19T20:09:04.696Z"
   },
   {
    "duration": 0,
    "start_time": "2022-05-19T20:09:04.698Z"
   },
   {
    "duration": 0,
    "start_time": "2022-05-19T20:09:04.699Z"
   },
   {
    "duration": 0,
    "start_time": "2022-05-19T20:09:04.700Z"
   },
   {
    "duration": 0,
    "start_time": "2022-05-19T20:09:04.702Z"
   },
   {
    "duration": 0,
    "start_time": "2022-05-19T20:09:04.704Z"
   },
   {
    "duration": 0,
    "start_time": "2022-05-19T20:09:04.765Z"
   },
   {
    "duration": 0,
    "start_time": "2022-05-19T20:09:04.766Z"
   },
   {
    "duration": 0,
    "start_time": "2022-05-19T20:09:04.768Z"
   },
   {
    "duration": 0,
    "start_time": "2022-05-19T20:09:04.768Z"
   },
   {
    "duration": 0,
    "start_time": "2022-05-19T20:09:04.770Z"
   },
   {
    "duration": 0,
    "start_time": "2022-05-19T20:09:04.771Z"
   },
   {
    "duration": 0,
    "start_time": "2022-05-19T20:09:04.772Z"
   },
   {
    "duration": 0,
    "start_time": "2022-05-19T20:09:04.773Z"
   },
   {
    "duration": 0,
    "start_time": "2022-05-19T20:09:04.775Z"
   },
   {
    "duration": 0,
    "start_time": "2022-05-19T20:09:04.776Z"
   },
   {
    "duration": 0,
    "start_time": "2022-05-19T20:09:04.777Z"
   },
   {
    "duration": 0,
    "start_time": "2022-05-19T20:09:04.778Z"
   },
   {
    "duration": 0,
    "start_time": "2022-05-19T20:09:04.779Z"
   },
   {
    "duration": 0,
    "start_time": "2022-05-19T20:09:04.781Z"
   },
   {
    "duration": 0,
    "start_time": "2022-05-19T20:09:04.782Z"
   },
   {
    "duration": 0,
    "start_time": "2022-05-19T20:09:04.784Z"
   },
   {
    "duration": 0,
    "start_time": "2022-05-19T20:09:04.785Z"
   },
   {
    "duration": 0,
    "start_time": "2022-05-19T20:09:04.786Z"
   },
   {
    "duration": 0,
    "start_time": "2022-05-19T20:09:04.788Z"
   },
   {
    "duration": 0,
    "start_time": "2022-05-19T20:09:04.788Z"
   },
   {
    "duration": 0,
    "start_time": "2022-05-19T20:09:04.790Z"
   },
   {
    "duration": 0,
    "start_time": "2022-05-19T20:09:04.791Z"
   },
   {
    "duration": 0,
    "start_time": "2022-05-19T20:09:04.792Z"
   },
   {
    "duration": 0,
    "start_time": "2022-05-19T20:09:04.793Z"
   },
   {
    "duration": 0,
    "start_time": "2022-05-19T20:09:04.794Z"
   },
   {
    "duration": 0,
    "start_time": "2022-05-19T20:09:04.795Z"
   },
   {
    "duration": 0,
    "start_time": "2022-05-19T20:09:04.797Z"
   },
   {
    "duration": 0,
    "start_time": "2022-05-19T20:09:04.798Z"
   },
   {
    "duration": 0,
    "start_time": "2022-05-19T20:09:04.799Z"
   },
   {
    "duration": 0,
    "start_time": "2022-05-19T20:09:04.800Z"
   },
   {
    "duration": 0,
    "start_time": "2022-05-19T20:09:04.801Z"
   },
   {
    "duration": 11,
    "start_time": "2022-05-19T20:10:02.200Z"
   },
   {
    "duration": 224,
    "start_time": "2022-05-19T20:10:50.443Z"
   },
   {
    "duration": 3,
    "start_time": "2022-05-19T20:11:06.651Z"
   },
   {
    "duration": 75,
    "start_time": "2022-05-19T20:11:06.657Z"
   },
   {
    "duration": 5,
    "start_time": "2022-05-19T20:11:06.734Z"
   },
   {
    "duration": 31,
    "start_time": "2022-05-19T20:11:06.742Z"
   },
   {
    "duration": 25,
    "start_time": "2022-05-19T20:11:06.775Z"
   },
   {
    "duration": 232,
    "start_time": "2022-05-19T20:11:06.803Z"
   },
   {
    "duration": 13,
    "start_time": "2022-05-19T20:11:07.037Z"
   },
   {
    "duration": 20,
    "start_time": "2022-05-19T20:11:07.052Z"
   },
   {
    "duration": 6,
    "start_time": "2022-05-19T20:11:07.075Z"
   },
   {
    "duration": 9,
    "start_time": "2022-05-19T20:11:07.083Z"
   },
   {
    "duration": 10,
    "start_time": "2022-05-19T20:11:07.094Z"
   },
   {
    "duration": 200,
    "start_time": "2022-05-19T20:11:07.106Z"
   },
   {
    "duration": 237,
    "start_time": "2022-05-19T20:11:07.308Z"
   },
   {
    "duration": 17,
    "start_time": "2022-05-19T20:11:07.548Z"
   },
   {
    "duration": 8,
    "start_time": "2022-05-19T20:11:07.571Z"
   },
   {
    "duration": 9,
    "start_time": "2022-05-19T20:11:07.581Z"
   },
   {
    "duration": 11,
    "start_time": "2022-05-19T20:11:07.591Z"
   },
   {
    "duration": 16,
    "start_time": "2022-05-19T20:11:07.604Z"
   },
   {
    "duration": 18,
    "start_time": "2022-05-19T20:11:07.622Z"
   },
   {
    "duration": 26,
    "start_time": "2022-05-19T20:11:07.643Z"
   },
   {
    "duration": 5,
    "start_time": "2022-05-19T20:11:07.671Z"
   },
   {
    "duration": 9,
    "start_time": "2022-05-19T20:11:07.679Z"
   },
   {
    "duration": 9,
    "start_time": "2022-05-19T20:11:07.691Z"
   },
   {
    "duration": 4,
    "start_time": "2022-05-19T20:11:07.706Z"
   },
   {
    "duration": 13,
    "start_time": "2022-05-19T20:11:07.713Z"
   },
   {
    "duration": 207,
    "start_time": "2022-05-19T20:11:07.728Z"
   },
   {
    "duration": 7,
    "start_time": "2022-05-19T20:11:07.937Z"
   },
   {
    "duration": 196,
    "start_time": "2022-05-19T20:11:07.946Z"
   },
   {
    "duration": 173,
    "start_time": "2022-05-19T20:11:08.144Z"
   },
   {
    "duration": 2,
    "start_time": "2022-05-19T20:11:08.319Z"
   },
   {
    "duration": 6,
    "start_time": "2022-05-19T20:11:08.323Z"
   },
   {
    "duration": 157,
    "start_time": "2022-05-19T20:11:08.331Z"
   },
   {
    "duration": 4,
    "start_time": "2022-05-19T20:11:08.491Z"
   },
   {
    "duration": 8,
    "start_time": "2022-05-19T20:11:08.497Z"
   },
   {
    "duration": 199,
    "start_time": "2022-05-19T20:11:08.506Z"
   },
   {
    "duration": 3,
    "start_time": "2022-05-19T20:11:08.707Z"
   },
   {
    "duration": 10,
    "start_time": "2022-05-19T20:11:08.712Z"
   },
   {
    "duration": 42,
    "start_time": "2022-05-19T20:11:08.724Z"
   },
   {
    "duration": 29,
    "start_time": "2022-05-19T20:11:08.768Z"
   },
   {
    "duration": 20,
    "start_time": "2022-05-19T20:11:08.799Z"
   },
   {
    "duration": 3,
    "start_time": "2022-05-19T20:11:08.821Z"
   },
   {
    "duration": 6,
    "start_time": "2022-05-19T20:11:08.826Z"
   },
   {
    "duration": 50,
    "start_time": "2022-05-19T20:11:08.834Z"
   },
   {
    "duration": 14,
    "start_time": "2022-05-19T20:11:08.887Z"
   },
   {
    "duration": 35,
    "start_time": "2022-05-19T20:11:08.903Z"
   },
   {
    "duration": 22,
    "start_time": "2022-05-19T20:11:08.940Z"
   },
   {
    "duration": 63,
    "start_time": "2022-05-19T20:11:08.964Z"
   },
   {
    "duration": 36,
    "start_time": "2022-05-19T20:11:09.029Z"
   },
   {
    "duration": 29,
    "start_time": "2022-05-19T20:11:09.067Z"
   },
   {
    "duration": 62,
    "start_time": "2022-05-19T20:11:09.098Z"
   },
   {
    "duration": 17,
    "start_time": "2022-05-19T20:11:09.163Z"
   },
   {
    "duration": 29,
    "start_time": "2022-05-19T20:11:09.183Z"
   },
   {
    "duration": 56,
    "start_time": "2022-05-19T20:11:09.214Z"
   },
   {
    "duration": 19,
    "start_time": "2022-05-19T20:11:09.272Z"
   },
   {
    "duration": 4725,
    "start_time": "2022-05-19T20:11:09.293Z"
   },
   {
    "duration": 6,
    "start_time": "2022-05-19T20:11:14.020Z"
   },
   {
    "duration": 22,
    "start_time": "2022-05-19T20:11:14.029Z"
   },
   {
    "duration": 16,
    "start_time": "2022-05-19T20:11:14.054Z"
   },
   {
    "duration": 41,
    "start_time": "2022-05-19T20:11:14.072Z"
   },
   {
    "duration": 24,
    "start_time": "2022-05-19T20:11:14.117Z"
   },
   {
    "duration": 58,
    "start_time": "2022-05-19T20:11:14.144Z"
   },
   {
    "duration": 62,
    "start_time": "2022-05-19T20:11:14.203Z"
   },
   {
    "duration": 4,
    "start_time": "2022-05-19T20:11:14.267Z"
   },
   {
    "duration": 4855,
    "start_time": "2022-05-19T20:11:14.274Z"
   },
   {
    "duration": 4,
    "start_time": "2022-05-19T20:11:19.131Z"
   },
   {
    "duration": 31,
    "start_time": "2022-05-19T20:11:19.137Z"
   },
   {
    "duration": 24,
    "start_time": "2022-05-19T20:11:19.170Z"
   },
   {
    "duration": 38,
    "start_time": "2022-05-19T20:11:19.195Z"
   },
   {
    "duration": 16,
    "start_time": "2022-05-19T20:11:19.239Z"
   },
   {
    "duration": 13,
    "start_time": "2022-05-19T20:11:19.257Z"
   },
   {
    "duration": 200,
    "start_time": "2022-05-19T20:11:19.272Z"
   },
   {
    "duration": 6,
    "start_time": "2022-05-19T20:11:19.473Z"
   },
   {
    "duration": 249,
    "start_time": "2022-05-19T20:11:19.481Z"
   },
   {
    "duration": 10,
    "start_time": "2022-05-19T20:11:19.732Z"
   },
   {
    "duration": 179,
    "start_time": "2022-05-19T20:11:19.744Z"
   },
   {
    "duration": 5,
    "start_time": "2022-05-19T20:11:19.925Z"
   },
   {
    "duration": 9,
    "start_time": "2022-05-19T20:11:19.931Z"
   },
   {
    "duration": 30,
    "start_time": "2022-05-19T20:11:19.942Z"
   },
   {
    "duration": 7,
    "start_time": "2022-05-19T20:11:19.974Z"
   },
   {
    "duration": 11,
    "start_time": "2022-05-19T20:11:19.983Z"
   },
   {
    "duration": 5,
    "start_time": "2022-05-19T20:11:19.996Z"
   },
   {
    "duration": 74,
    "start_time": "2022-05-19T20:11:20.004Z"
   },
   {
    "duration": 34,
    "start_time": "2022-05-19T20:11:20.080Z"
   },
   {
    "duration": 58,
    "start_time": "2022-05-19T20:11:20.116Z"
   },
   {
    "duration": 23,
    "start_time": "2022-05-19T20:11:20.177Z"
   },
   {
    "duration": 15,
    "start_time": "2022-05-19T20:11:20.202Z"
   },
   {
    "duration": 12,
    "start_time": "2022-05-19T20:11:20.220Z"
   },
   {
    "duration": 43,
    "start_time": "2022-05-19T20:11:20.234Z"
   },
   {
    "duration": 6,
    "start_time": "2022-05-19T20:11:20.279Z"
   },
   {
    "duration": 18,
    "start_time": "2022-05-19T20:11:20.287Z"
   },
   {
    "duration": 0,
    "start_time": "2022-05-19T20:11:20.307Z"
   },
   {
    "duration": 0,
    "start_time": "2022-05-19T20:11:20.309Z"
   },
   {
    "duration": 0,
    "start_time": "2022-05-19T20:11:20.310Z"
   },
   {
    "duration": 5035,
    "start_time": "2022-05-19T20:11:44.860Z"
   },
   {
    "duration": 11,
    "start_time": "2022-05-19T20:11:55.890Z"
   },
   {
    "duration": 10,
    "start_time": "2022-05-19T20:12:07.644Z"
   },
   {
    "duration": 18,
    "start_time": "2022-05-19T20:12:10.774Z"
   },
   {
    "duration": 18,
    "start_time": "2022-05-19T20:12:15.209Z"
   },
   {
    "duration": 170,
    "start_time": "2022-05-19T20:12:37.016Z"
   },
   {
    "duration": 4,
    "start_time": "2022-05-19T20:19:03.815Z"
   },
   {
    "duration": 96,
    "start_time": "2022-05-19T20:19:03.821Z"
   },
   {
    "duration": 4,
    "start_time": "2022-05-19T20:19:03.919Z"
   },
   {
    "duration": 42,
    "start_time": "2022-05-19T20:19:03.925Z"
   },
   {
    "duration": 21,
    "start_time": "2022-05-19T20:19:03.969Z"
   },
   {
    "duration": 18,
    "start_time": "2022-05-19T20:19:03.992Z"
   },
   {
    "duration": 13,
    "start_time": "2022-05-19T20:19:04.011Z"
   },
   {
    "duration": 41,
    "start_time": "2022-05-19T20:19:04.025Z"
   },
   {
    "duration": 7,
    "start_time": "2022-05-19T20:19:04.068Z"
   },
   {
    "duration": 7,
    "start_time": "2022-05-19T20:19:04.077Z"
   },
   {
    "duration": 11,
    "start_time": "2022-05-19T20:19:04.086Z"
   },
   {
    "duration": 228,
    "start_time": "2022-05-19T20:19:04.099Z"
   },
   {
    "duration": 217,
    "start_time": "2022-05-19T20:19:04.329Z"
   },
   {
    "duration": 20,
    "start_time": "2022-05-19T20:19:04.551Z"
   },
   {
    "duration": 10,
    "start_time": "2022-05-19T20:19:04.572Z"
   },
   {
    "duration": 24,
    "start_time": "2022-05-19T20:19:04.584Z"
   },
   {
    "duration": 9,
    "start_time": "2022-05-19T20:19:04.610Z"
   },
   {
    "duration": 18,
    "start_time": "2022-05-19T20:19:04.621Z"
   },
   {
    "duration": 10,
    "start_time": "2022-05-19T20:19:04.640Z"
   },
   {
    "duration": 8,
    "start_time": "2022-05-19T20:19:04.666Z"
   },
   {
    "duration": 5,
    "start_time": "2022-05-19T20:19:04.676Z"
   },
   {
    "duration": 7,
    "start_time": "2022-05-19T20:19:04.683Z"
   },
   {
    "duration": 14,
    "start_time": "2022-05-19T20:19:04.692Z"
   },
   {
    "duration": 5,
    "start_time": "2022-05-19T20:19:04.708Z"
   },
   {
    "duration": 52,
    "start_time": "2022-05-19T20:19:04.715Z"
   },
   {
    "duration": 163,
    "start_time": "2022-05-19T20:19:04.769Z"
   },
   {
    "duration": 7,
    "start_time": "2022-05-19T20:19:04.934Z"
   },
   {
    "duration": 174,
    "start_time": "2022-05-19T20:19:04.943Z"
   },
   {
    "duration": 159,
    "start_time": "2022-05-19T20:19:05.118Z"
   },
   {
    "duration": 3,
    "start_time": "2022-05-19T20:19:05.279Z"
   },
   {
    "duration": 10,
    "start_time": "2022-05-19T20:19:05.283Z"
   },
   {
    "duration": 144,
    "start_time": "2022-05-19T20:19:05.295Z"
   },
   {
    "duration": 2,
    "start_time": "2022-05-19T20:19:05.442Z"
   },
   {
    "duration": 18,
    "start_time": "2022-05-19T20:19:05.447Z"
   },
   {
    "duration": 184,
    "start_time": "2022-05-19T20:19:05.468Z"
   },
   {
    "duration": 10,
    "start_time": "2022-05-19T20:19:05.654Z"
   },
   {
    "duration": 7,
    "start_time": "2022-05-19T20:19:05.666Z"
   },
   {
    "duration": 23,
    "start_time": "2022-05-19T20:19:05.674Z"
   },
   {
    "duration": 20,
    "start_time": "2022-05-19T20:19:05.699Z"
   },
   {
    "duration": 44,
    "start_time": "2022-05-19T20:19:05.721Z"
   },
   {
    "duration": 5,
    "start_time": "2022-05-19T20:19:05.773Z"
   },
   {
    "duration": 27,
    "start_time": "2022-05-19T20:19:05.780Z"
   },
   {
    "duration": 12,
    "start_time": "2022-05-19T20:19:05.809Z"
   },
   {
    "duration": 10,
    "start_time": "2022-05-19T20:19:05.823Z"
   },
   {
    "duration": 39,
    "start_time": "2022-05-19T20:19:05.835Z"
   },
   {
    "duration": 12,
    "start_time": "2022-05-19T20:19:05.877Z"
   },
   {
    "duration": 27,
    "start_time": "2022-05-19T20:19:05.891Z"
   },
   {
    "duration": 20,
    "start_time": "2022-05-19T20:19:05.921Z"
   },
   {
    "duration": 24,
    "start_time": "2022-05-19T20:19:05.968Z"
   },
   {
    "duration": 29,
    "start_time": "2022-05-19T20:19:05.993Z"
   },
   {
    "duration": 16,
    "start_time": "2022-05-19T20:19:06.025Z"
   },
   {
    "duration": 19,
    "start_time": "2022-05-19T20:19:06.066Z"
   },
   {
    "duration": 40,
    "start_time": "2022-05-19T20:19:06.088Z"
   },
   {
    "duration": 45,
    "start_time": "2022-05-19T20:19:06.130Z"
   },
   {
    "duration": 4542,
    "start_time": "2022-05-19T20:19:06.177Z"
   },
   {
    "duration": 3,
    "start_time": "2022-05-19T20:19:10.721Z"
   },
   {
    "duration": 31,
    "start_time": "2022-05-19T20:19:10.726Z"
   },
   {
    "duration": 23,
    "start_time": "2022-05-19T20:19:10.759Z"
   },
   {
    "duration": 43,
    "start_time": "2022-05-19T20:19:10.784Z"
   },
   {
    "duration": 15,
    "start_time": "2022-05-19T20:19:10.829Z"
   },
   {
    "duration": 49,
    "start_time": "2022-05-19T20:19:10.845Z"
   },
   {
    "duration": 31,
    "start_time": "2022-05-19T20:19:10.895Z"
   },
   {
    "duration": 3,
    "start_time": "2022-05-19T20:19:10.928Z"
   },
   {
    "duration": 4596,
    "start_time": "2022-05-19T20:19:10.932Z"
   },
   {
    "duration": 3,
    "start_time": "2022-05-19T20:19:15.530Z"
   },
   {
    "duration": 19,
    "start_time": "2022-05-19T20:19:15.535Z"
   },
   {
    "duration": 26,
    "start_time": "2022-05-19T20:19:15.556Z"
   },
   {
    "duration": 31,
    "start_time": "2022-05-19T20:19:15.584Z"
   },
   {
    "duration": 16,
    "start_time": "2022-05-19T20:19:15.616Z"
   },
   {
    "duration": 11,
    "start_time": "2022-05-19T20:19:15.633Z"
   },
   {
    "duration": 202,
    "start_time": "2022-05-19T20:19:15.646Z"
   },
   {
    "duration": 6,
    "start_time": "2022-05-19T20:19:15.850Z"
   },
   {
    "duration": 268,
    "start_time": "2022-05-19T20:19:15.864Z"
   },
   {
    "duration": 9,
    "start_time": "2022-05-19T20:19:16.134Z"
   },
   {
    "duration": 193,
    "start_time": "2022-05-19T20:19:16.145Z"
   },
   {
    "duration": 5,
    "start_time": "2022-05-19T20:19:16.339Z"
   },
   {
    "duration": 17,
    "start_time": "2022-05-19T20:19:16.346Z"
   },
   {
    "duration": 21,
    "start_time": "2022-05-19T20:19:16.365Z"
   },
   {
    "duration": 9,
    "start_time": "2022-05-19T20:19:16.388Z"
   },
   {
    "duration": 15,
    "start_time": "2022-05-19T20:19:16.399Z"
   },
   {
    "duration": 10,
    "start_time": "2022-05-19T20:19:16.416Z"
   },
   {
    "duration": 46,
    "start_time": "2022-05-19T20:19:16.428Z"
   },
   {
    "duration": 31,
    "start_time": "2022-05-19T20:19:16.476Z"
   },
   {
    "duration": 25,
    "start_time": "2022-05-19T20:19:16.509Z"
   },
   {
    "duration": 52,
    "start_time": "2022-05-19T20:19:16.536Z"
   },
   {
    "duration": 16,
    "start_time": "2022-05-19T20:19:16.590Z"
   },
   {
    "duration": 16,
    "start_time": "2022-05-19T20:19:16.607Z"
   },
   {
    "duration": 45,
    "start_time": "2022-05-19T20:19:16.625Z"
   },
   {
    "duration": 7,
    "start_time": "2022-05-19T20:19:16.673Z"
   },
   {
    "duration": 4374,
    "start_time": "2022-05-19T20:19:16.682Z"
   },
   {
    "duration": 12,
    "start_time": "2022-05-19T20:19:21.064Z"
   },
   {
    "duration": 20,
    "start_time": "2022-05-19T20:19:21.079Z"
   },
   {
    "duration": 191,
    "start_time": "2022-05-19T20:19:21.101Z"
   },
   {
    "duration": 11,
    "start_time": "2022-05-19T20:19:21.295Z"
   },
   {
    "duration": 18,
    "start_time": "2022-05-19T20:19:21.308Z"
   },
   {
    "duration": 188,
    "start_time": "2022-05-19T20:19:21.328Z"
   },
   {
    "duration": 8,
    "start_time": "2022-05-19T20:19:21.517Z"
   },
   {
    "duration": 20,
    "start_time": "2022-05-19T20:19:21.526Z"
   },
   {
    "duration": 241,
    "start_time": "2022-05-19T20:19:21.547Z"
   },
   {
    "duration": 7,
    "start_time": "2022-05-19T20:19:21.790Z"
   },
   {
    "duration": 18,
    "start_time": "2022-05-19T20:19:21.799Z"
   },
   {
    "duration": 167,
    "start_time": "2022-05-19T20:19:21.819Z"
   },
   {
    "duration": 7,
    "start_time": "2022-05-19T20:19:21.988Z"
   },
   {
    "duration": 5,
    "start_time": "2022-05-19T20:22:59.811Z"
   },
   {
    "duration": 138,
    "start_time": "2022-05-19T20:23:31.477Z"
   },
   {
    "duration": 139,
    "start_time": "2022-05-19T20:23:49.116Z"
   },
   {
    "duration": 176,
    "start_time": "2022-05-19T20:24:19.115Z"
   },
   {
    "duration": 663,
    "start_time": "2022-05-19T20:25:31.470Z"
   },
   {
    "duration": 12,
    "start_time": "2022-05-19T20:26:25.302Z"
   },
   {
    "duration": 189,
    "start_time": "2022-05-19T20:26:37.373Z"
   },
   {
    "duration": 180,
    "start_time": "2022-05-19T20:26:49.361Z"
   },
   {
    "duration": 160,
    "start_time": "2022-05-19T20:27:45.364Z"
   },
   {
    "duration": 141,
    "start_time": "2022-05-19T20:29:23.553Z"
   },
   {
    "duration": 101,
    "start_time": "2022-05-19T20:30:03.854Z"
   },
   {
    "duration": 134,
    "start_time": "2022-05-19T20:30:15.711Z"
   },
   {
    "duration": 270,
    "start_time": "2022-05-19T20:31:24.947Z"
   },
   {
    "duration": 104,
    "start_time": "2022-05-19T20:31:39.778Z"
   },
   {
    "duration": 152,
    "start_time": "2022-05-19T20:32:40.297Z"
   },
   {
    "duration": 210,
    "start_time": "2022-05-19T20:33:01.911Z"
   },
   {
    "duration": 164,
    "start_time": "2022-05-19T20:33:14.915Z"
   },
   {
    "duration": 148,
    "start_time": "2022-05-19T20:35:15.626Z"
   },
   {
    "duration": 163,
    "start_time": "2022-05-19T20:35:22.937Z"
   },
   {
    "duration": 216,
    "start_time": "2022-05-19T20:36:19.854Z"
   },
   {
    "duration": 188,
    "start_time": "2022-05-19T20:37:03.871Z"
   },
   {
    "duration": 173,
    "start_time": "2022-05-19T20:38:36.041Z"
   },
   {
    "duration": 140,
    "start_time": "2022-05-19T20:39:38.359Z"
   },
   {
    "duration": 137,
    "start_time": "2022-05-19T20:39:46.097Z"
   },
   {
    "duration": 111,
    "start_time": "2022-05-19T20:40:34.840Z"
   }
  ],
  "kernelspec": {
   "display_name": "Python 3 (ipykernel)",
   "language": "python",
   "name": "python3"
  },
  "language_info": {
   "codemirror_mode": {
    "name": "ipython",
    "version": 3
   },
   "file_extension": ".py",
   "mimetype": "text/x-python",
   "name": "python",
   "nbconvert_exporter": "python",
   "pygments_lexer": "ipython3",
   "version": "3.9.7"
  },
  "latex_envs": {
   "LaTeX_envs_menu_present": true,
   "autoclose": false,
   "autocomplete": true,
   "bibliofile": "biblio.bib",
   "cite_by": "apalike",
   "current_citInitial": 1,
   "eqLabelWithNumbers": true,
   "eqNumInitial": 1,
   "hotkeys": {
    "equation": "Ctrl-E",
    "itemize": "Ctrl-I"
   },
   "labels_anchors": false,
   "latex_user_defs": false,
   "report_style_numbering": false,
   "user_envs_cfg": false
  },
  "toc": {
   "base_numbering": 1,
   "nav_menu": {
    "height": "365px",
    "width": "601px"
   },
   "number_sections": true,
   "sideBar": true,
   "skip_h1_title": true,
   "title_cell": "Tabla de contenido",
   "title_sidebar": "Contenido del proyecto",
   "toc_cell": true,
   "toc_position": {},
   "toc_section_display": false,
   "toc_window_display": true
  },
  "widgets": {
   "application/vnd.jupyter.widget-state+json": {
    "state": {},
    "version_major": 2,
    "version_minor": 0
   }
  }
 },
 "nbformat": 4,
 "nbformat_minor": 2
}
